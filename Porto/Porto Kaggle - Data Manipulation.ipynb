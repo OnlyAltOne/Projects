{
 "cells": [
  {
   "cell_type": "markdown",
   "metadata": {},
   "source": [
    "### Porto Seguro \n",
    "\n",
    "3rd Largest Insurance Company in Brasil\n",
    "\n",
    "---\n",
    "\n",
    "__Goal__ - To produce the likelyhood a driver will initiate an insurance claim.\n",
    "\n",
    "__Notes__ \n",
    "- Though this is an insurance claim problem, the data is anonomyzed in such a way that no features are known. Therefore, there is no 'domain expertise' easily used to construct features unless there is a labeled dataset somewhere you could compare.\n",
    "- Classes are highly imbalanced\n"
   ]
  },
  {
   "cell_type": "code",
   "execution_count": 3,
   "metadata": {},
   "outputs": [],
   "source": [
    "import pandas as pd\n",
    "import numpy as np\n",
    "import seaborn as sns\n",
    "import matplotlib.pyplot as plt\n",
    "from sklearn import *\n",
    "import itertools\n",
    "#import fancyimpute\n",
    "\n",
    "%matplotlib inline"
   ]
  },
  {
   "cell_type": "markdown",
   "metadata": {},
   "source": [
    "Similar features in 4 categories: \n",
    "\n",
    "    ind, reg, car, calc.\n",
    "\n",
    "Feature types:\n",
    "\n",
    "    bin = binary, cat = categorical, unspecified = continuous or ordinal"
   ]
  },
  {
   "cell_type": "markdown",
   "metadata": {},
   "source": [
    "Functions"
   ]
  },
  {
   "cell_type": "code",
   "execution_count": 268,
   "metadata": {
    "collapsed": true
   },
   "outputs": [],
   "source": [
    "def rename_cols(train):\n",
    "    cat_cols = []\n",
    "    bin_cols = []\n",
    "    ord_cont_cols = []\n",
    "    for col in train.columns:\n",
    "        if 'cat' in col:\n",
    "            cat_cols.append(col)\n",
    "        elif 'bin' in col:\n",
    "            bin_cols.append(col)\n",
    "        elif 'target' in col or 'id' in col:\n",
    "            pass\n",
    "        else:\n",
    "            ord_cont_cols.append(col)\n",
    "\n",
    "    cont_cols = []\n",
    "    ord_cols = []\n",
    "\n",
    "    for col in ord_cont_cols:\n",
    "        if train[col].dtype == 'int64':\n",
    "            #print(col)\n",
    "            train['{}_ord'.format(col)] = train[col]\n",
    "            train.drop(col,axis=1,inplace=True)\n",
    "            ord_cols.append('{}_ord'.format(col))\n",
    "        else:\n",
    "            cont_cols.append(col)\n",
    "\n",
    "    ind_cols = []\n",
    "    reg_cols = []\n",
    "    car_cols = []\n",
    "    calc_cols = []\n",
    "    for col in train.columns:\n",
    "        if 'ind' in col:\n",
    "            ind_cols.append(col)\n",
    "        if 'reg' in col:\n",
    "            reg_cols.append(col)\n",
    "        if 'car' in col:\n",
    "            car_cols.append(col)\n",
    "        if 'calc' in col:\n",
    "            calc_cols.append(col)\n",
    "    return train"
   ]
  },
  {
   "cell_type": "code",
   "execution_count": 357,
   "metadata": {
    "collapsed": true
   },
   "outputs": [],
   "source": [
    "def transform_df(train):\n",
    "    calc_cols = [col for col in train.columns[train.columns.str.contains('calc')]]\n",
    "    train = train.drop(calc_cols,axis=1)\n",
    "    return train\n",
    "\n",
    "#     train = train.replace(-1,np.NaN)\n",
    "#     bin_cols = [col for col in train_na.columns[train_na.columns.str.contains('bin')]]\n",
    "#     cat_cols = [col for col in train_na.columns[train_na.columns.str.contains('cat')]]\n",
    "#     ord_cols = [col for col in train_na.columns[train_na.columns.str.contains('ord')]]\n",
    "#     bin_cat_train_na = train_na[bin_cols+cat_cols+ord_cols]  \n",
    "#     from fancyimpute import SimpleFill\n",
    "#     bin_cat_train_na_cols = bin_cat_train_na.columns\n",
    "#     bin_cat_train_na = pd.DataFrame(SimpleFill(fill_method='median').complete(bin_cat_train_na.as_matrix()),columns=bin_cat_train_na_cols)\n",
    "#     cont_train_na = train_na.drop(bin_cols+cat_cols+ord_cols,axis=1)\n",
    "#     cont_train_na_cols = cont_train_na.columns\n",
    "#     cont_train_na = pd.DataFrame(SimpleFill().complete(cont_train_na.as_matrix()),columns=cont_train_na_cols)\n",
    "#     train_na_mean_imputed = pd.concat([cont_train_na,bin_cat_train_na],axis=1)\n",
    "    \n",
    "    return train"
   ]
  },
  {
   "cell_type": "code",
   "execution_count": 330,
   "metadata": {},
   "outputs": [],
   "source": [
    "def split_data(train, keep_cols=False):\n",
    "    x, y = train.drop(['id','target'],axis=1), train['target']\n",
    "    if keep_cols:\n",
    "        x = x[keep_cols]\n",
    "    x_train, x_valid, y_train, y_valid = model_selection.train_test_split(x, y, test_size=.2)\n",
    "    return x_train, x_valid, y_train, y_valid, x, y"
   ]
  },
  {
   "cell_type": "code",
   "execution_count": 335,
   "metadata": {
    "collapsed": true
   },
   "outputs": [],
   "source": [
    "def cross_val_model(clf,splits=5):\n",
    "    #kfold = model_selection.KFold(n_splits=splits, random_state=1)\n",
    "    stratkfold = model_selection.StratifiedKFold(n_splits=splits,shuffle=True,random_state=1)\n",
    "    score = model_selection.cross_val_score(clf,x_train,y_train,scoring='roc_auc',cv=stratkfold)\n",
    "    return 2*np.mean(score)-1"
   ]
  },
  {
   "cell_type": "code",
   "execution_count": 294,
   "metadata": {
    "collapsed": true
   },
   "outputs": [],
   "source": [
    "def create_submission(rf,test,filename):\n",
    "    X_test = test.drop(['id'],axis=1)\n",
    "    test['target'] = rf.predict_proba(X_test)[:,1]\n",
    "    test[['id','target']].to_csv('./submissions/'+filename+'.csv',index=False, float_format='%.5f')"
   ]
  },
  {
   "cell_type": "code",
   "execution_count": 442,
   "metadata": {
    "collapsed": true
   },
   "outputs": [],
   "source": [
    "test = pd.read_csv('./data/test.csv')\n",
    "test['id'] = test['id'].astype(int)\n",
    "train = pd.read_csv('./data/train.csv')"
   ]
  },
  {
   "cell_type": "code",
   "execution_count": 443,
   "metadata": {
    "collapsed": true
   },
   "outputs": [],
   "source": [
    "test = rename_cols(test)\n",
    "train = rename_cols(train)"
   ]
  },
  {
   "cell_type": "code",
   "execution_count": 444,
   "metadata": {
    "collapsed": true
   },
   "outputs": [],
   "source": [
    "train = transform_df(train)\n",
    "test = transform_df(test)"
   ]
  },
  {
   "cell_type": "code",
   "execution_count": 445,
   "metadata": {
    "collapsed": true
   },
   "outputs": [],
   "source": [
    "ps_car_09_cat_mappings = {}\n",
    "ps_car_09_cat_mappings[4] = 1\n",
    "ps_car_09_cat_mappings[3] = 1\n",
    "ps_car_09_cat_mappings[2] = 1\n",
    "ps_car_09_cat_mappings[1] = 1\n",
    "ps_car_09_cat_mappings[0] = 0\n",
    "ps_car_09_cat_mappings[-1] = 1"
   ]
  },
  {
   "cell_type": "code",
   "execution_count": 446,
   "metadata": {
    "collapsed": true
   },
   "outputs": [],
   "source": [
    "train['ps_car_09_cat_bin'] = train['ps_car_09_cat'].replace(ps_car_09_cat_mappings)\n",
    "test['ps_car_09_cat_bin'] = test['ps_car_09_cat'].replace(ps_car_09_cat_mappings)"
   ]
  },
  {
   "cell_type": "code",
   "execution_count": 447,
   "metadata": {
    "collapsed": true
   },
   "outputs": [],
   "source": [
    "ps_car_07_cat_mappings = {}\n",
    "ps_car_07_cat_mappings[1] = 0\n",
    "ps_car_07_cat_mappings[0] = 1\n",
    "ps_car_07_cat_mappings[-1] = 1"
   ]
  },
  {
   "cell_type": "code",
   "execution_count": 448,
   "metadata": {
    "collapsed": true
   },
   "outputs": [],
   "source": [
    "train['ps_car_07_cat_bin'] = train['ps_car_07_cat'].replace(ps_car_07_cat_mappings)\n",
    "test['ps_car_07_cat_bin'] = test['ps_car_07_cat'].replace(ps_car_07_cat_mappings)"
   ]
  },
  {
   "cell_type": "code",
   "execution_count": 449,
   "metadata": {
    "collapsed": true
   },
   "outputs": [],
   "source": [
    "ps_car_05_cat_mappings = {}\n",
    "ps_car_05_cat_mappings[1] = 1\n",
    "ps_car_05_cat_mappings[0] = 1\n",
    "ps_car_05_cat_mappings[-1] = 0"
   ]
  },
  {
   "cell_type": "code",
   "execution_count": 450,
   "metadata": {
    "collapsed": true
   },
   "outputs": [],
   "source": [
    "train['ps_car_05_cat_bin'] = train['ps_car_05_cat'].replace(ps_car_05_cat_mappings)\n",
    "test['ps_car_05_cat_bin'] = test['ps_car_05_cat'].replace(ps_car_05_cat_mappings)"
   ]
  },
  {
   "cell_type": "code",
   "execution_count": 451,
   "metadata": {
    "collapsed": true
   },
   "outputs": [],
   "source": [
    "ps_car_03_cat_mappings = {}\n",
    "ps_car_03_cat_mappings[1] = 1\n",
    "ps_car_03_cat_mappings[0] = 1\n",
    "ps_car_03_cat_mappings[-1] = 0"
   ]
  },
  {
   "cell_type": "code",
   "execution_count": 452,
   "metadata": {
    "collapsed": true
   },
   "outputs": [],
   "source": [
    "train['ps_car_03_cat_bin'] = train['ps_car_03_cat'].replace(ps_car_03_cat_mappings)\n",
    "test['ps_car_03_cat_bin'] = test['ps_car_03_cat'].replace(ps_car_03_cat_mappings)"
   ]
  },
  {
   "cell_type": "code",
   "execution_count": 453,
   "metadata": {},
   "outputs": [],
   "source": [
    "train = train.drop(['ps_car_09_cat','ps_car_07_cat','ps_car_05_cat','ps_car_03_cat'],axis=1)\n",
    "test = test.drop(['ps_car_09_cat','ps_car_07_cat','ps_car_05_cat','ps_car_03_cat'],axis=1)"
   ]
  },
  {
   "cell_type": "markdown",
   "metadata": {},
   "source": [
    "overfit like whoa, .289 but .202 on lb"
   ]
  },
  {
   "cell_type": "code",
   "execution_count": 420,
   "metadata": {
    "collapsed": true
   },
   "outputs": [],
   "source": [
    "mappings = (train.groupby(['ps_reg_03'])['target'].describe()\n",
    "            .unstack()[['mean']] > .04).astype(np.int).unstack().unstack()\n",
    "\n",
    "ps_reg_03_mappings = {}\n",
    "for val in mappings.columns:\n",
    "    ps_reg_03_mappings[val] = mappings[val]['mean']"
   ]
  },
  {
   "cell_type": "code",
   "execution_count": 421,
   "metadata": {
    "collapsed": true
   },
   "outputs": [],
   "source": [
    "train['ps_reg_03_bin'] = train['ps_reg_03'].replace(ps_reg_03_mappings)\n",
    "test['ps_reg_03_bin'] = test['ps_reg_03'].replace(ps_reg_03_mappings)"
   ]
  },
  {
   "cell_type": "markdown",
   "metadata": {},
   "source": [
    "try wtih a count constraint"
   ]
  },
  {
   "cell_type": "code",
   "execution_count": 455,
   "metadata": {
    "collapsed": true
   },
   "outputs": [],
   "source": [
    "mean_mappings = (train.groupby(['ps_reg_03'])['target'].describe()\n",
    "            .unstack()[['mean']] > .05).astype(np.int).unstack().unstack()\n",
    "\n",
    "ps_reg_03_mean_mappings = {}\n",
    "for val in mean_mappings.columns:\n",
    "    ps_reg_03_mean_mappings[val] = mean_mappings[val]['mean']\n",
    "\n",
    "train['ps_reg_03_mean'] = train['ps_reg_03'].replace(ps_reg_03_mean_mappings)\n",
    "test['ps_reg_03_mean'] = test['ps_reg_03'].replace(ps_reg_03_mean_mappings)\n",
    "\n",
    "count_mappings = (train.groupby(['ps_reg_03'])['target'].describe()\n",
    "            .unstack()[['count']] > 30).astype(np.int).unstack().unstack()\n",
    "\n",
    "ps_reg_03_count_mappings = {}\n",
    "for val in count_mappings.columns:\n",
    "    ps_reg_03_count_mappings[val] = count_mappings[val]['count']\n",
    "\n",
    "train['ps_reg_03_count'] = train['ps_reg_03'].replace(ps_reg_03_count_mappings)\n",
    "test['ps_reg_03_count'] = test['ps_reg_03'].replace(ps_reg_03_count_mappings)"
   ]
  },
  {
   "cell_type": "code",
   "execution_count": 456,
   "metadata": {
    "collapsed": true
   },
   "outputs": [],
   "source": [
    "def reg_03(row):\n",
    "    if row['ps_reg_03_count'] == 1 and row['ps_reg_03_mean'] == 1:\n",
    "        return 1\n",
    "    else:\n",
    "        return 0\n",
    "\n",
    "train['ps_reg_03_bin'] = train.apply(reg_03,axis=1)\n",
    "test['ps_reg_03_bin'] = test.apply(reg_03,axis=1)"
   ]
  },
  {
   "cell_type": "code",
   "execution_count": 457,
   "metadata": {
    "collapsed": true
   },
   "outputs": [],
   "source": [
    "train = train.drop(['ps_reg_03_mean','ps_reg_03_count','ps_reg_03'],axis=1)\n",
    "test = test.drop(['ps_reg_03_mean','ps_reg_03_count','ps_reg_03'],axis=1)"
   ]
  },
  {
   "cell_type": "markdown",
   "metadata": {},
   "source": [
    "without dropping original mapping cols .2489 cv, .243 lb\n",
    "\n",
    "with dropping + add ps_reg_03_bin "
   ]
  },
  {
   "cell_type": "code",
   "execution_count": 458,
   "metadata": {},
   "outputs": [
    {
     "data": {
      "text/plain": [
       "0.2736245013397518"
      ]
     },
     "execution_count": 458,
     "metadata": {},
     "output_type": "execute_result"
    }
   ],
   "source": [
    "x_train, x_valid, y_train, y_valid, x, y = split_data(train)\n",
    "lr = linear_model.LogisticRegression(penalty='l1',C=10)\n",
    "cross_val_model(lr)"
   ]
  },
  {
   "cell_type": "code",
   "execution_count": 464,
   "metadata": {},
   "outputs": [
    {
     "data": {
      "text/plain": [
       "LogisticRegression(C=10, class_weight=None, dual=False, fit_intercept=True,\n",
       "          intercept_scaling=1, max_iter=100, multi_class='ovr', n_jobs=1,\n",
       "          penalty='l1', random_state=None, solver='liblinear', tol=0.0001,\n",
       "          verbose=0, warm_start=False)"
      ]
     },
     "execution_count": 464,
     "metadata": {},
     "output_type": "execute_result"
    }
   ],
   "source": [
    "lr.fit(x,y)"
   ]
  },
  {
   "cell_type": "code",
   "execution_count": 471,
   "metadata": {
    "collapsed": true
   },
   "outputs": [],
   "source": [
    "test = test.drop(['target'],axis=1)"
   ]
  },
  {
   "cell_type": "code",
   "execution_count": 467,
   "metadata": {},
   "outputs": [],
   "source": [
    "create_submission(lr,test,'lr.2736')"
   ]
  },
  {
   "cell_type": "code",
   "execution_count": 460,
   "metadata": {},
   "outputs": [
    {
     "data": {
      "text/plain": [
       "0.28511027983689696"
      ]
     },
     "execution_count": 460,
     "metadata": {},
     "output_type": "execute_result"
    }
   ],
   "source": [
    "x_train, x_valid, y_train, y_valid, x, y = split_data(train)\n",
    "rf = ensemble.RandomForestClassifier(n_estimators=400, min_samples_leaf=2, min_samples_split=4, max_depth=8)\n",
    "cross_val_model(rf)"
   ]
  },
  {
   "cell_type": "code",
   "execution_count": 461,
   "metadata": {},
   "outputs": [
    {
     "data": {
      "text/plain": [
       "RandomForestClassifier(bootstrap=True, class_weight=None, criterion='gini',\n",
       "            max_depth=8, max_features='auto', max_leaf_nodes=None,\n",
       "            min_impurity_split=1e-07, min_samples_leaf=2,\n",
       "            min_samples_split=4, min_weight_fraction_leaf=0.0,\n",
       "            n_estimators=400, n_jobs=1, oob_score=False, random_state=None,\n",
       "            verbose=0, warm_start=False)"
      ]
     },
     "execution_count": 461,
     "metadata": {},
     "output_type": "execute_result"
    }
   ],
   "source": [
    "rf.fit(x,y)"
   ]
  },
  {
   "cell_type": "code",
   "execution_count": 472,
   "metadata": {},
   "outputs": [
    {
     "data": {
      "text/plain": [
       "Index(['id', 'ps_ind_02_cat', 'ps_ind_04_cat', 'ps_ind_05_cat',\n",
       "       'ps_ind_06_bin', 'ps_ind_07_bin', 'ps_ind_08_bin', 'ps_ind_09_bin',\n",
       "       'ps_ind_10_bin', 'ps_ind_11_bin', 'ps_ind_12_bin', 'ps_ind_13_bin',\n",
       "       'ps_ind_16_bin', 'ps_ind_17_bin', 'ps_ind_18_bin', 'ps_reg_01',\n",
       "       'ps_reg_02', 'ps_car_01_cat', 'ps_car_02_cat', 'ps_car_04_cat',\n",
       "       'ps_car_06_cat', 'ps_car_08_cat', 'ps_car_10_cat', 'ps_car_11_cat',\n",
       "       'ps_car_12', 'ps_car_13', 'ps_car_14', 'ps_car_15', 'ps_ind_01_ord',\n",
       "       'ps_ind_03_ord', 'ps_ind_14_ord', 'ps_ind_15_ord', 'ps_car_11_ord',\n",
       "       'ps_car_09_cat_bin', 'ps_car_07_cat_bin', 'ps_car_05_cat_bin',\n",
       "       'ps_car_03_cat_bin', 'ps_reg_03_bin'],\n",
       "      dtype='object')"
      ]
     },
     "execution_count": 472,
     "metadata": {},
     "output_type": "execute_result"
    }
   ],
   "source": [
    "test.columns"
   ]
  },
  {
   "cell_type": "code",
   "execution_count": 463,
   "metadata": {},
   "outputs": [],
   "source": [
    "create_submission(rf,test,'rf.2851')"
   ]
  },
  {
   "cell_type": "code",
   "execution_count": 474,
   "metadata": {},
   "outputs": [],
   "source": [
    "rf_pred = rf.predict(test.drop(['id'],axis=1))"
   ]
  },
  {
   "cell_type": "markdown",
   "metadata": {},
   "source": [
    "---"
   ]
  },
  {
   "cell_type": "markdown",
   "metadata": {},
   "source": [
    "Looking into bayesian optimization for gridsearch of xgboost params:\n",
    "\n",
    "https://www.kaggle.com/tilii7/bayesian-optimization-xgboost-parameters"
   ]
  },
  {
   "cell_type": "code",
   "execution_count": 485,
   "metadata": {
    "collapsed": true
   },
   "outputs": [],
   "source": [
    "import xgboost as xgb"
   ]
  },
  {
   "cell_type": "code",
   "execution_count": 486,
   "metadata": {
    "collapsed": true
   },
   "outputs": [],
   "source": [
    "# Define the gini metric - from https://www.kaggle.com/c/ClaimPredictionChallenge/discussion/703#5897\n",
    "def gini(actual, pred, cmpcol = 0, sortcol = 1):\n",
    "    assert( len(actual) == len(pred) )\n",
    "    all = np.asarray(np.c_[ actual, pred, np.arange(len(actual)) ], dtype=np.float)\n",
    "    all = all[ np.lexsort((all[:,2], -1*all[:,1])) ]\n",
    "    totalLosses = all[:,0].sum()\n",
    "    giniSum = all[:,0].cumsum().sum() / totalLosses\n",
    "    \n",
    "    giniSum -= (len(actual) + 1) / 2.\n",
    "    return giniSum / len(actual)\n",
    " \n",
    "def gini_normalized(a, p):\n",
    "    return gini(a, p) / gini(a, a)\n",
    "\n",
    "def gini_xgb(preds, dtrain):\n",
    "    labels = dtrain.get_label()\n",
    "    gini_score = gini_normalized(labels, preds)\n",
    "    return 'gini', gini_score"
   ]
  },
  {
   "cell_type": "code",
   "execution_count": 487,
   "metadata": {
    "collapsed": true
   },
   "outputs": [],
   "source": [
    "X = train.drop(['id','target'],axis=1).as_matrix()\n",
    "y = train['target'].as_matrix()"
   ]
  },
  {
   "cell_type": "code",
   "execution_count": 497,
   "metadata": {
    "collapsed": true
   },
   "outputs": [],
   "source": [
    "sub = pd.DataFrame()\n",
    "sub['id'] = test['id']\n",
    "sub['target'] = np.zeros_like(test['id'])"
   ]
  },
  {
   "cell_type": "code",
   "execution_count": 505,
   "metadata": {
    "collapsed": true
   },
   "outputs": [],
   "source": [
    "params = {}\n",
    "params['objective'] = 'binary:logistic'\n",
    "params['eta'] = 0.02\n",
    "params['silent'] = True\n",
    "params['max_depth'] = 6\n",
    "params['subsample'] = 0.9\n",
    "params['colsample_bytree'] = 0.9"
   ]
  },
  {
   "cell_type": "code",
   "execution_count": 495,
   "metadata": {
    "collapsed": true
   },
   "outputs": [],
   "source": [
    "params = {\n",
    "    'min_child_weight': 10.0,\n",
    "    'objective': 'binary:logistic',\n",
    "    'max_depth': 7,\n",
    "    'max_delta_step': 1.8,\n",
    "    'colsample_bytree': 0.4,\n",
    "    'subsample': 0.8,\n",
    "    'eta': 0.025,\n",
    "    'gamma': 0.65,\n",
    "    'num_boost_round' : 700\n",
    "    }"
   ]
  },
  {
   "cell_type": "code",
   "execution_count": 507,
   "metadata": {},
   "outputs": [
    {
     "name": "stdout",
     "output_type": "stream",
     "text": [
      "kfold: 1/2: \n",
      "[0]\ttrain-error:0.036414\tvalid-error:0.036498\ttrain-gini:0.232898\tvalid-gini:0.231098\n",
      "Multiple eval metrics have been passed: 'valid-gini' will be used for early stopping.\n",
      "\n",
      "Will train until valid-gini hasn't improved in 70 rounds.\n",
      "[100]\ttrain-error:0.036434\tvalid-error:0.036448\ttrain-gini:0.306642\tvalid-gini:0.277346\n",
      "[200]\ttrain-error:0.036437\tvalid-error:0.036448\ttrain-gini:0.345657\tvalid-gini:0.288792\n",
      "[300]\ttrain-error:0.036427\tvalid-error:0.036444\ttrain-gini:0.397472\tvalid-gini:0.298438\n",
      "[400]\ttrain-error:0.036407\tvalid-error:0.036448\ttrain-gini:0.435936\tvalid-gini:0.301508\n",
      "[500]\ttrain-error:0.0364\tvalid-error:0.036454\ttrain-gini:0.467313\tvalid-gini:0.302438\n",
      "[600]\ttrain-error:0.036387\tvalid-error:0.036454\ttrain-gini:0.492821\tvalid-gini:0.302035\n",
      "Stopping. Best iteration:\n",
      "[557]\ttrain-error:0.03639\tvalid-error:0.036454\ttrain-gini:0.482886\tvalid-gini:0.302636\n",
      "\n",
      "[kfold 1/2 pred:]\n",
      "kfold: 2/2: \n",
      "[0]\ttrain-error:0.0364\tvalid-error:0.036542\ttrain-gini:0.234326\tvalid-gini:0.225861\n",
      "Multiple eval metrics have been passed: 'valid-gini' will be used for early stopping.\n",
      "\n",
      "Will train until valid-gini hasn't improved in 70 rounds.\n",
      "[100]\ttrain-error:0.036424\tvalid-error:0.036451\ttrain-gini:0.309439\tvalid-gini:0.271986\n",
      "[200]\ttrain-error:0.036411\tvalid-error:0.036451\ttrain-gini:0.352844\tvalid-gini:0.284953\n",
      "[300]\ttrain-error:0.036407\tvalid-error:0.036451\ttrain-gini:0.399999\tvalid-gini:0.29309\n",
      "[400]\ttrain-error:0.03639\tvalid-error:0.036451\ttrain-gini:0.433955\tvalid-gini:0.295647\n",
      "[500]\ttrain-error:0.036374\tvalid-error:0.036458\ttrain-gini:0.460171\tvalid-gini:0.296259\n",
      "Stopping. Best iteration:\n",
      "[474]\ttrain-error:0.036377\tvalid-error:0.036454\ttrain-gini:0.453423\tvalid-gini:0.296358\n",
      "\n",
      "[kfold 2/2 pred:]\n"
     ]
    }
   ],
   "source": [
    "kfold = 2\n",
    "skf = model_selection.StratifiedKFold(n_splits=kfold, random_state=1)\n",
    "for i, (train_index, test_index) in enumerate(skf.split(X, y)):\n",
    "    print('kfold: {}/{}: '.format(i+1, kfold))\n",
    "    X_train, X_valid = X[train_index], X[test_index]\n",
    "    y_train, y_valid = y[train_index], y[test_index]\n",
    "\n",
    "    d_train = xgb.DMatrix(X_train, y_train)\n",
    "    d_valid = xgb.DMatrix(X_valid, y_valid)\n",
    "    d_test = xgb.DMatrix(test.values)\n",
    "    watchlist = [(d_train, 'train'), (d_valid, 'valid')]\n",
    "    \n",
    "    mdl = xgb.train(params, d_train, 1600, watchlist, early_stopping_rounds=70, feval=gini_xgb, maximize=True, verbose_eval=100)\n",
    "    \n",
    "    print('[kfold {}/{} pred:]'.format(i+1, kfold))\n",
    "    # Predict on our test data\n",
    "    p_test = mdl.predict(d_test)\n",
    "    sub['target'] += p_test/kfold"
   ]
  },
  {
   "cell_type": "code",
   "execution_count": 500,
   "metadata": {
    "collapsed": true
   },
   "outputs": [],
   "source": [
    "sub.to_csv('./submissions/xgboost.2.csv', index=False)"
   ]
  },
  {
   "cell_type": "code",
   "execution_count": 502,
   "metadata": {},
   "outputs": [
    {
     "ename": "KeyError",
     "evalue": "\"['target'] not in index\"",
     "output_type": "error",
     "traceback": [
      "\u001b[0;31m---------------------------------------------------------------------------\u001b[0m",
      "\u001b[0;31mKeyError\u001b[0m                                  Traceback (most recent call last)",
      "\u001b[0;32m<ipython-input-502-c9f83776e17c>\u001b[0m in \u001b[0;36m<module>\u001b[0;34m()\u001b[0m\n\u001b[0;32m----> 1\u001b[0;31m \u001b[0mtest\u001b[0m\u001b[0;34m[\u001b[0m\u001b[0;34m[\u001b[0m\u001b[0;34m'id'\u001b[0m\u001b[0;34m,\u001b[0m\u001b[0;34m'target'\u001b[0m\u001b[0;34m]\u001b[0m\u001b[0;34m]\u001b[0m\u001b[0;34m\u001b[0m\u001b[0m\n\u001b[0m",
      "\u001b[0;32m/Users/xbno/anaconda/lib/python3.6/site-packages/pandas/core/frame.py\u001b[0m in \u001b[0;36m__getitem__\u001b[0;34m(self, key)\u001b[0m\n\u001b[1;32m   1989\u001b[0m         \u001b[0;32mif\u001b[0m \u001b[0misinstance\u001b[0m\u001b[0;34m(\u001b[0m\u001b[0mkey\u001b[0m\u001b[0;34m,\u001b[0m \u001b[0;34m(\u001b[0m\u001b[0mSeries\u001b[0m\u001b[0;34m,\u001b[0m \u001b[0mnp\u001b[0m\u001b[0;34m.\u001b[0m\u001b[0mndarray\u001b[0m\u001b[0;34m,\u001b[0m \u001b[0mIndex\u001b[0m\u001b[0;34m,\u001b[0m \u001b[0mlist\u001b[0m\u001b[0;34m)\u001b[0m\u001b[0;34m)\u001b[0m\u001b[0;34m:\u001b[0m\u001b[0;34m\u001b[0m\u001b[0m\n\u001b[1;32m   1990\u001b[0m             \u001b[0;31m# either boolean or fancy integer index\u001b[0m\u001b[0;34m\u001b[0m\u001b[0;34m\u001b[0m\u001b[0m\n\u001b[0;32m-> 1991\u001b[0;31m             \u001b[0;32mreturn\u001b[0m \u001b[0mself\u001b[0m\u001b[0;34m.\u001b[0m\u001b[0m_getitem_array\u001b[0m\u001b[0;34m(\u001b[0m\u001b[0mkey\u001b[0m\u001b[0;34m)\u001b[0m\u001b[0;34m\u001b[0m\u001b[0m\n\u001b[0m\u001b[1;32m   1992\u001b[0m         \u001b[0;32melif\u001b[0m \u001b[0misinstance\u001b[0m\u001b[0;34m(\u001b[0m\u001b[0mkey\u001b[0m\u001b[0;34m,\u001b[0m \u001b[0mDataFrame\u001b[0m\u001b[0;34m)\u001b[0m\u001b[0;34m:\u001b[0m\u001b[0;34m\u001b[0m\u001b[0m\n\u001b[1;32m   1993\u001b[0m             \u001b[0;32mreturn\u001b[0m \u001b[0mself\u001b[0m\u001b[0;34m.\u001b[0m\u001b[0m_getitem_frame\u001b[0m\u001b[0;34m(\u001b[0m\u001b[0mkey\u001b[0m\u001b[0;34m)\u001b[0m\u001b[0;34m\u001b[0m\u001b[0m\n",
      "\u001b[0;32m/Users/xbno/anaconda/lib/python3.6/site-packages/pandas/core/frame.py\u001b[0m in \u001b[0;36m_getitem_array\u001b[0;34m(self, key)\u001b[0m\n\u001b[1;32m   2033\u001b[0m             \u001b[0;32mreturn\u001b[0m \u001b[0mself\u001b[0m\u001b[0;34m.\u001b[0m\u001b[0mtake\u001b[0m\u001b[0;34m(\u001b[0m\u001b[0mindexer\u001b[0m\u001b[0;34m,\u001b[0m \u001b[0maxis\u001b[0m\u001b[0;34m=\u001b[0m\u001b[0;36m0\u001b[0m\u001b[0;34m,\u001b[0m \u001b[0mconvert\u001b[0m\u001b[0;34m=\u001b[0m\u001b[0;32mFalse\u001b[0m\u001b[0;34m)\u001b[0m\u001b[0;34m\u001b[0m\u001b[0m\n\u001b[1;32m   2034\u001b[0m         \u001b[0;32melse\u001b[0m\u001b[0;34m:\u001b[0m\u001b[0;34m\u001b[0m\u001b[0m\n\u001b[0;32m-> 2035\u001b[0;31m             \u001b[0mindexer\u001b[0m \u001b[0;34m=\u001b[0m \u001b[0mself\u001b[0m\u001b[0;34m.\u001b[0m\u001b[0mix\u001b[0m\u001b[0;34m.\u001b[0m\u001b[0m_convert_to_indexer\u001b[0m\u001b[0;34m(\u001b[0m\u001b[0mkey\u001b[0m\u001b[0;34m,\u001b[0m \u001b[0maxis\u001b[0m\u001b[0;34m=\u001b[0m\u001b[0;36m1\u001b[0m\u001b[0;34m)\u001b[0m\u001b[0;34m\u001b[0m\u001b[0m\n\u001b[0m\u001b[1;32m   2036\u001b[0m             \u001b[0;32mreturn\u001b[0m \u001b[0mself\u001b[0m\u001b[0;34m.\u001b[0m\u001b[0mtake\u001b[0m\u001b[0;34m(\u001b[0m\u001b[0mindexer\u001b[0m\u001b[0;34m,\u001b[0m \u001b[0maxis\u001b[0m\u001b[0;34m=\u001b[0m\u001b[0;36m1\u001b[0m\u001b[0;34m,\u001b[0m \u001b[0mconvert\u001b[0m\u001b[0;34m=\u001b[0m\u001b[0;32mTrue\u001b[0m\u001b[0;34m)\u001b[0m\u001b[0;34m\u001b[0m\u001b[0m\n\u001b[1;32m   2037\u001b[0m \u001b[0;34m\u001b[0m\u001b[0m\n",
      "\u001b[0;32m/Users/xbno/anaconda/lib/python3.6/site-packages/pandas/core/indexing.py\u001b[0m in \u001b[0;36m_convert_to_indexer\u001b[0;34m(self, obj, axis, is_setter)\u001b[0m\n\u001b[1;32m   1212\u001b[0m                 \u001b[0mmask\u001b[0m \u001b[0;34m=\u001b[0m \u001b[0mcheck\u001b[0m \u001b[0;34m==\u001b[0m \u001b[0;34m-\u001b[0m\u001b[0;36m1\u001b[0m\u001b[0;34m\u001b[0m\u001b[0m\n\u001b[1;32m   1213\u001b[0m                 \u001b[0;32mif\u001b[0m \u001b[0mmask\u001b[0m\u001b[0;34m.\u001b[0m\u001b[0many\u001b[0m\u001b[0;34m(\u001b[0m\u001b[0;34m)\u001b[0m\u001b[0;34m:\u001b[0m\u001b[0;34m\u001b[0m\u001b[0m\n\u001b[0;32m-> 1214\u001b[0;31m                     \u001b[0;32mraise\u001b[0m \u001b[0mKeyError\u001b[0m\u001b[0;34m(\u001b[0m\u001b[0;34m'%s not in index'\u001b[0m \u001b[0;34m%\u001b[0m \u001b[0mobjarr\u001b[0m\u001b[0;34m[\u001b[0m\u001b[0mmask\u001b[0m\u001b[0;34m]\u001b[0m\u001b[0;34m)\u001b[0m\u001b[0;34m\u001b[0m\u001b[0m\n\u001b[0m\u001b[1;32m   1215\u001b[0m \u001b[0;34m\u001b[0m\u001b[0m\n\u001b[1;32m   1216\u001b[0m                 \u001b[0;32mreturn\u001b[0m \u001b[0m_values_from_object\u001b[0m\u001b[0;34m(\u001b[0m\u001b[0mindexer\u001b[0m\u001b[0;34m)\u001b[0m\u001b[0;34m\u001b[0m\u001b[0m\n",
      "\u001b[0;31mKeyError\u001b[0m: \"['target'] not in index\""
     ]
    }
   ],
   "source": [
    "test[['id','target']]"
   ]
  },
  {
   "cell_type": "code",
   "execution_count": 501,
   "metadata": {},
   "outputs": [
    {
     "data": {
      "text/html": [
       "<div>\n",
       "<table border=\"1\" class=\"dataframe\">\n",
       "  <thead>\n",
       "    <tr style=\"text-align: right;\">\n",
       "      <th></th>\n",
       "      <th>id</th>\n",
       "      <th>target</th>\n",
       "    </tr>\n",
       "  </thead>\n",
       "  <tbody>\n",
       "    <tr>\n",
       "      <th>0</th>\n",
       "      <td>0</td>\n",
       "      <td>0.123008</td>\n",
       "    </tr>\n",
       "    <tr>\n",
       "      <th>1</th>\n",
       "      <td>1</td>\n",
       "      <td>0.068704</td>\n",
       "    </tr>\n",
       "    <tr>\n",
       "      <th>2</th>\n",
       "      <td>2</td>\n",
       "      <td>0.046837</td>\n",
       "    </tr>\n",
       "    <tr>\n",
       "      <th>3</th>\n",
       "      <td>3</td>\n",
       "      <td>0.130960</td>\n",
       "    </tr>\n",
       "    <tr>\n",
       "      <th>4</th>\n",
       "      <td>4</td>\n",
       "      <td>0.090038</td>\n",
       "    </tr>\n",
       "    <tr>\n",
       "      <th>5</th>\n",
       "      <td>5</td>\n",
       "      <td>0.164411</td>\n",
       "    </tr>\n",
       "    <tr>\n",
       "      <th>6</th>\n",
       "      <td>6</td>\n",
       "      <td>0.060139</td>\n",
       "    </tr>\n",
       "    <tr>\n",
       "      <th>7</th>\n",
       "      <td>8</td>\n",
       "      <td>0.183069</td>\n",
       "    </tr>\n",
       "    <tr>\n",
       "      <th>8</th>\n",
       "      <td>10</td>\n",
       "      <td>0.196034</td>\n",
       "    </tr>\n",
       "    <tr>\n",
       "      <th>9</th>\n",
       "      <td>11</td>\n",
       "      <td>0.052798</td>\n",
       "    </tr>\n",
       "    <tr>\n",
       "      <th>10</th>\n",
       "      <td>12</td>\n",
       "      <td>0.090334</td>\n",
       "    </tr>\n",
       "    <tr>\n",
       "      <th>11</th>\n",
       "      <td>14</td>\n",
       "      <td>0.087369</td>\n",
       "    </tr>\n",
       "    <tr>\n",
       "      <th>12</th>\n",
       "      <td>15</td>\n",
       "      <td>0.219104</td>\n",
       "    </tr>\n",
       "    <tr>\n",
       "      <th>13</th>\n",
       "      <td>18</td>\n",
       "      <td>0.107578</td>\n",
       "    </tr>\n",
       "    <tr>\n",
       "      <th>14</th>\n",
       "      <td>21</td>\n",
       "      <td>0.056255</td>\n",
       "    </tr>\n",
       "    <tr>\n",
       "      <th>15</th>\n",
       "      <td>23</td>\n",
       "      <td>0.068801</td>\n",
       "    </tr>\n",
       "    <tr>\n",
       "      <th>16</th>\n",
       "      <td>24</td>\n",
       "      <td>0.042687</td>\n",
       "    </tr>\n",
       "    <tr>\n",
       "      <th>17</th>\n",
       "      <td>25</td>\n",
       "      <td>0.301049</td>\n",
       "    </tr>\n",
       "    <tr>\n",
       "      <th>18</th>\n",
       "      <td>27</td>\n",
       "      <td>0.087275</td>\n",
       "    </tr>\n",
       "    <tr>\n",
       "      <th>19</th>\n",
       "      <td>29</td>\n",
       "      <td>0.074343</td>\n",
       "    </tr>\n",
       "    <tr>\n",
       "      <th>20</th>\n",
       "      <td>30</td>\n",
       "      <td>0.180865</td>\n",
       "    </tr>\n",
       "    <tr>\n",
       "      <th>21</th>\n",
       "      <td>31</td>\n",
       "      <td>0.041251</td>\n",
       "    </tr>\n",
       "    <tr>\n",
       "      <th>22</th>\n",
       "      <td>32</td>\n",
       "      <td>0.214052</td>\n",
       "    </tr>\n",
       "    <tr>\n",
       "      <th>23</th>\n",
       "      <td>33</td>\n",
       "      <td>0.083475</td>\n",
       "    </tr>\n",
       "    <tr>\n",
       "      <th>24</th>\n",
       "      <td>37</td>\n",
       "      <td>0.089915</td>\n",
       "    </tr>\n",
       "    <tr>\n",
       "      <th>25</th>\n",
       "      <td>38</td>\n",
       "      <td>0.066596</td>\n",
       "    </tr>\n",
       "    <tr>\n",
       "      <th>26</th>\n",
       "      <td>39</td>\n",
       "      <td>0.131183</td>\n",
       "    </tr>\n",
       "    <tr>\n",
       "      <th>27</th>\n",
       "      <td>40</td>\n",
       "      <td>0.089506</td>\n",
       "    </tr>\n",
       "    <tr>\n",
       "      <th>28</th>\n",
       "      <td>41</td>\n",
       "      <td>0.127397</td>\n",
       "    </tr>\n",
       "    <tr>\n",
       "      <th>29</th>\n",
       "      <td>42</td>\n",
       "      <td>0.077649</td>\n",
       "    </tr>\n",
       "    <tr>\n",
       "      <th>...</th>\n",
       "      <td>...</td>\n",
       "      <td>...</td>\n",
       "    </tr>\n",
       "    <tr>\n",
       "      <th>892786</th>\n",
       "      <td>1487982</td>\n",
       "      <td>0.073452</td>\n",
       "    </tr>\n",
       "    <tr>\n",
       "      <th>892787</th>\n",
       "      <td>1487984</td>\n",
       "      <td>0.127738</td>\n",
       "    </tr>\n",
       "    <tr>\n",
       "      <th>892788</th>\n",
       "      <td>1487985</td>\n",
       "      <td>0.059159</td>\n",
       "    </tr>\n",
       "    <tr>\n",
       "      <th>892789</th>\n",
       "      <td>1487986</td>\n",
       "      <td>0.104380</td>\n",
       "    </tr>\n",
       "    <tr>\n",
       "      <th>892790</th>\n",
       "      <td>1487987</td>\n",
       "      <td>0.055156</td>\n",
       "    </tr>\n",
       "    <tr>\n",
       "      <th>892791</th>\n",
       "      <td>1487989</td>\n",
       "      <td>0.055575</td>\n",
       "    </tr>\n",
       "    <tr>\n",
       "      <th>892792</th>\n",
       "      <td>1487991</td>\n",
       "      <td>0.046402</td>\n",
       "    </tr>\n",
       "    <tr>\n",
       "      <th>892793</th>\n",
       "      <td>1487993</td>\n",
       "      <td>0.118942</td>\n",
       "    </tr>\n",
       "    <tr>\n",
       "      <th>892794</th>\n",
       "      <td>1487995</td>\n",
       "      <td>0.070390</td>\n",
       "    </tr>\n",
       "    <tr>\n",
       "      <th>892795</th>\n",
       "      <td>1487997</td>\n",
       "      <td>0.042612</td>\n",
       "    </tr>\n",
       "    <tr>\n",
       "      <th>892796</th>\n",
       "      <td>1487998</td>\n",
       "      <td>0.201175</td>\n",
       "    </tr>\n",
       "    <tr>\n",
       "      <th>892797</th>\n",
       "      <td>1487999</td>\n",
       "      <td>0.037698</td>\n",
       "    </tr>\n",
       "    <tr>\n",
       "      <th>892798</th>\n",
       "      <td>1488000</td>\n",
       "      <td>0.163755</td>\n",
       "    </tr>\n",
       "    <tr>\n",
       "      <th>892799</th>\n",
       "      <td>1488002</td>\n",
       "      <td>0.286507</td>\n",
       "    </tr>\n",
       "    <tr>\n",
       "      <th>892800</th>\n",
       "      <td>1488003</td>\n",
       "      <td>0.085012</td>\n",
       "    </tr>\n",
       "    <tr>\n",
       "      <th>892801</th>\n",
       "      <td>1488004</td>\n",
       "      <td>0.062901</td>\n",
       "    </tr>\n",
       "    <tr>\n",
       "      <th>892802</th>\n",
       "      <td>1488006</td>\n",
       "      <td>0.042374</td>\n",
       "    </tr>\n",
       "    <tr>\n",
       "      <th>892803</th>\n",
       "      <td>1488007</td>\n",
       "      <td>0.126318</td>\n",
       "    </tr>\n",
       "    <tr>\n",
       "      <th>892804</th>\n",
       "      <td>1488010</td>\n",
       "      <td>0.118714</td>\n",
       "    </tr>\n",
       "    <tr>\n",
       "      <th>892805</th>\n",
       "      <td>1488012</td>\n",
       "      <td>0.121959</td>\n",
       "    </tr>\n",
       "    <tr>\n",
       "      <th>892806</th>\n",
       "      <td>1488014</td>\n",
       "      <td>0.063536</td>\n",
       "    </tr>\n",
       "    <tr>\n",
       "      <th>892807</th>\n",
       "      <td>1488015</td>\n",
       "      <td>0.166016</td>\n",
       "    </tr>\n",
       "    <tr>\n",
       "      <th>892808</th>\n",
       "      <td>1488018</td>\n",
       "      <td>0.055696</td>\n",
       "    </tr>\n",
       "    <tr>\n",
       "      <th>892809</th>\n",
       "      <td>1488019</td>\n",
       "      <td>0.055234</td>\n",
       "    </tr>\n",
       "    <tr>\n",
       "      <th>892810</th>\n",
       "      <td>1488020</td>\n",
       "      <td>0.078916</td>\n",
       "    </tr>\n",
       "    <tr>\n",
       "      <th>892811</th>\n",
       "      <td>1488022</td>\n",
       "      <td>0.070599</td>\n",
       "    </tr>\n",
       "    <tr>\n",
       "      <th>892812</th>\n",
       "      <td>1488023</td>\n",
       "      <td>0.084292</td>\n",
       "    </tr>\n",
       "    <tr>\n",
       "      <th>892813</th>\n",
       "      <td>1488024</td>\n",
       "      <td>0.082281</td>\n",
       "    </tr>\n",
       "    <tr>\n",
       "      <th>892814</th>\n",
       "      <td>1488025</td>\n",
       "      <td>0.071716</td>\n",
       "    </tr>\n",
       "    <tr>\n",
       "      <th>892815</th>\n",
       "      <td>1488026</td>\n",
       "      <td>0.199944</td>\n",
       "    </tr>\n",
       "  </tbody>\n",
       "</table>\n",
       "<p>892816 rows × 2 columns</p>\n",
       "</div>"
      ],
      "text/plain": [
       "             id    target\n",
       "0             0  0.123008\n",
       "1             1  0.068704\n",
       "2             2  0.046837\n",
       "3             3  0.130960\n",
       "4             4  0.090038\n",
       "5             5  0.164411\n",
       "6             6  0.060139\n",
       "7             8  0.183069\n",
       "8            10  0.196034\n",
       "9            11  0.052798\n",
       "10           12  0.090334\n",
       "11           14  0.087369\n",
       "12           15  0.219104\n",
       "13           18  0.107578\n",
       "14           21  0.056255\n",
       "15           23  0.068801\n",
       "16           24  0.042687\n",
       "17           25  0.301049\n",
       "18           27  0.087275\n",
       "19           29  0.074343\n",
       "20           30  0.180865\n",
       "21           31  0.041251\n",
       "22           32  0.214052\n",
       "23           33  0.083475\n",
       "24           37  0.089915\n",
       "25           38  0.066596\n",
       "26           39  0.131183\n",
       "27           40  0.089506\n",
       "28           41  0.127397\n",
       "29           42  0.077649\n",
       "...         ...       ...\n",
       "892786  1487982  0.073452\n",
       "892787  1487984  0.127738\n",
       "892788  1487985  0.059159\n",
       "892789  1487986  0.104380\n",
       "892790  1487987  0.055156\n",
       "892791  1487989  0.055575\n",
       "892792  1487991  0.046402\n",
       "892793  1487993  0.118942\n",
       "892794  1487995  0.070390\n",
       "892795  1487997  0.042612\n",
       "892796  1487998  0.201175\n",
       "892797  1487999  0.037698\n",
       "892798  1488000  0.163755\n",
       "892799  1488002  0.286507\n",
       "892800  1488003  0.085012\n",
       "892801  1488004  0.062901\n",
       "892802  1488006  0.042374\n",
       "892803  1488007  0.126318\n",
       "892804  1488010  0.118714\n",
       "892805  1488012  0.121959\n",
       "892806  1488014  0.063536\n",
       "892807  1488015  0.166016\n",
       "892808  1488018  0.055696\n",
       "892809  1488019  0.055234\n",
       "892810  1488020  0.078916\n",
       "892811  1488022  0.070599\n",
       "892812  1488023  0.084292\n",
       "892813  1488024  0.082281\n",
       "892814  1488025  0.071716\n",
       "892815  1488026  0.199944\n",
       "\n",
       "[892816 rows x 2 columns]"
      ]
     },
     "execution_count": 501,
     "metadata": {},
     "output_type": "execute_result"
    }
   ],
   "source": [
    "sub"
   ]
  },
  {
   "cell_type": "markdown",
   "metadata": {},
   "source": [
    "---"
   ]
  },
  {
   "cell_type": "code",
   "execution_count": null,
   "metadata": {
    "collapsed": true
   },
   "outputs": [],
   "source": []
  },
  {
   "cell_type": "code",
   "execution_count": 370,
   "metadata": {},
   "outputs": [
    {
     "data": {
      "text/plain": [
       "<matplotlib.axes._subplots.AxesSubplot at 0x1487d4710>"
      ]
     },
     "execution_count": 370,
     "metadata": {},
     "output_type": "execute_result"
    },
    {
     "data": {
      "image/png": "[encoded data removed]",
      "text/plain": [
       "<matplotlib.figure.Figure at 0x11ddc4550>"
      ]
     },
     "metadata": {},
     "output_type": "display_data"
    }
   ],
   "source": [
    "sns.heatmap(train[reg_cols+cat_cols].corr())"
   ]
  },
  {
   "cell_type": "code",
   "execution_count": 326,
   "metadata": {},
   "outputs": [],
   "source": [
    "cols = train.columns[2:]\n",
    "\n",
    "single_col_lr = []\n",
    "for col in cols[:10]:\n",
    "    x_train, x_valid, y_train, y_valid, x, y = split_data(train,[col])\n",
    "    single_col_lr.append((col,cross_val_model(lr,splits=10)))\n",
    "\n",
    "single_col_lr.sort(key=lambda tup: tup[1],reverse=True)\n",
    "top_single_col_lr = [col[0] for col in single_col_lr if col[1] > .03]"
   ]
  },
  {
   "cell_type": "code",
   "execution_count": 215,
   "metadata": {},
   "outputs": [
    {
     "data": {
      "text/plain": [
       "<matplotlib.axes._subplots.AxesSubplot at 0x11dbb2400>"
      ]
     },
     "execution_count": 215,
     "metadata": {},
     "output_type": "execute_result"
    },
    {
     "data": {
      "image/png": "[encoded data removed]",
      "text/plain": [
       "<matplotlib.figure.Figure at 0x11dd02630>"
      ]
     },
     "metadata": {},
     "output_type": "display_data"
    }
   ],
   "source": [
    "train.groupby('ps_ind_17_bin')['target'].describe().unstack()[['mean']].plot(kind='barh')"
   ]
  },
  {
   "cell_type": "markdown",
   "metadata": {},
   "source": [
    "Create one hot columns for all categorical"
   ]
  },
  {
   "cell_type": "code",
   "execution_count": 168,
   "metadata": {
    "collapsed": true
   },
   "outputs": [],
   "source": [
    "def create_onehot(train):\n",
    "    onehot_cols = []\n",
    "    for col in [col for col in train.columns[train.columns.str.contains('cat')]]:\n",
    "        onehot = pd.get_dummies(train[col],prefix=col,dummy_na=np.NaN)\n",
    "        for new_col in onehot.columns:\n",
    "            onehot_cols.append(new_col)\n",
    "        train.drop(col,axis=1,inplace=True)\n",
    "        train = pd.concat([train,onehot],axis=1)\n",
    "    return train"
   ]
  },
  {
   "cell_type": "code",
   "execution_count": 112,
   "metadata": {
    "collapsed": true
   },
   "outputs": [],
   "source": [
    "#train_na_mean_imputed = create_onehot(train_na_mean_imputed)"
   ]
  },
  {
   "cell_type": "code",
   "execution_count": 169,
   "metadata": {},
   "outputs": [
    {
     "data": {
      "text/plain": [
       "['ps_ind_02_cat',\n",
       " 'ps_ind_04_cat',\n",
       " 'ps_ind_05_cat',\n",
       " 'ps_car_01_cat',\n",
       " 'ps_car_02_cat',\n",
       " 'ps_car_04_cat',\n",
       " 'ps_car_06_cat',\n",
       " 'ps_car_07_cat',\n",
       " 'ps_car_08_cat',\n",
       " 'ps_car_09_cat',\n",
       " 'ps_car_10_cat',\n",
       " 'ps_car_11_cat']"
      ]
     },
     "execution_count": 169,
     "metadata": {},
     "output_type": "execute_result"
    }
   ],
   "source": [
    "[col for col in train_na_mean_imputed.columns[train_na_mean_imputed.columns.str.contains('cat')]]"
   ]
  },
  {
   "cell_type": "markdown",
   "metadata": {},
   "source": [
    "Create function to transform"
   ]
  },
  {
   "cell_type": "markdown",
   "metadata": {},
   "source": [
    "### Notes:\n",
    "\n",
    "    create bins for ps_car_11_cat"
   ]
  },
  {
   "cell_type": "code",
   "execution_count": null,
   "metadata": {
    "collapsed": true
   },
   "outputs": [],
   "source": []
  },
  {
   "cell_type": "code",
   "execution_count": null,
   "metadata": {
    "collapsed": true
   },
   "outputs": [],
   "source": []
  },
  {
   "cell_type": "code",
   "execution_count": 171,
   "metadata": {
    "collapsed": true
   },
   "outputs": [],
   "source": [
    "x_train, x_valid, y_train, y_valid, x, y = split_data(train_na_mean_imputed)"
   ]
  },
  {
   "cell_type": "code",
   "execution_count": 123,
   "metadata": {
    "collapsed": true
   },
   "outputs": [],
   "source": [
    "# rf = ensemble.RandomForestClassifier(n_estimators=200, min_samples_leaf=15, min_samples_split=20)\n",
    "# rf_cv_score = cross_val_model(rf)\n",
    "# rf_cv_score"
   ]
  },
  {
   "cell_type": "code",
   "execution_count": null,
   "metadata": {
    "collapsed": true
   },
   "outputs": [],
   "source": [
    "rf = ensemble.RandomForestClassifier(n_estimators=400, min_samples_leaf=15, min_samples_split=20)\n",
    "rf.fit(x, y)"
   ]
  },
  {
   "cell_type": "code",
   "execution_count": 138,
   "metadata": {},
   "outputs": [
    {
     "ename": "ValueError",
     "evalue": "Number of features of the model must match the input. Model n_features is 206 and input n_features is 212 ",
     "output_type": "error",
     "traceback": [
      "\u001b[0;31m---------------------------------------------------------------------------\u001b[0m",
      "\u001b[0;31mValueError\u001b[0m                                Traceback (most recent call last)",
      "\u001b[0;32m<ipython-input-138-4b7164d7f799>\u001b[0m in \u001b[0;36m<module>\u001b[0;34m()\u001b[0m\n\u001b[1;32m      1\u001b[0m \u001b[0;34m\u001b[0m\u001b[0m\n\u001b[0;32m----> 2\u001b[0;31m \u001b[0mcreate_submission\u001b[0m\u001b[0;34m(\u001b[0m\u001b[0mrf\u001b[0m\u001b[0;34m)\u001b[0m\u001b[0;34m\u001b[0m\u001b[0m\n\u001b[0m",
      "\u001b[0;32m<ipython-input-137-a50ca23769bb>\u001b[0m in \u001b[0;36mcreate_submission\u001b[0;34m(rf)\u001b[0m\n\u001b[1;32m      4\u001b[0m     \u001b[0mtest\u001b[0m \u001b[0;34m=\u001b[0m \u001b[0mtransform_df\u001b[0m\u001b[0;34m(\u001b[0m\u001b[0mtest\u001b[0m\u001b[0;34m)\u001b[0m\u001b[0;34m\u001b[0m\u001b[0m\n\u001b[1;32m      5\u001b[0m     \u001b[0mX_test\u001b[0m \u001b[0;34m=\u001b[0m \u001b[0mtest\u001b[0m\u001b[0;34m.\u001b[0m\u001b[0mdrop\u001b[0m\u001b[0;34m(\u001b[0m\u001b[0;34m[\u001b[0m\u001b[0;34m'id'\u001b[0m\u001b[0;34m]\u001b[0m\u001b[0;34m,\u001b[0m\u001b[0maxis\u001b[0m\u001b[0;34m=\u001b[0m\u001b[0;36m1\u001b[0m\u001b[0;34m)\u001b[0m\u001b[0;34m\u001b[0m\u001b[0m\n\u001b[0;32m----> 6\u001b[0;31m     \u001b[0mtest\u001b[0m\u001b[0;34m[\u001b[0m\u001b[0;34m'target'\u001b[0m\u001b[0;34m]\u001b[0m \u001b[0;34m=\u001b[0m \u001b[0mrf\u001b[0m\u001b[0;34m.\u001b[0m\u001b[0mpredict_proba\u001b[0m\u001b[0;34m(\u001b[0m\u001b[0mX_test\u001b[0m\u001b[0;34m)\u001b[0m\u001b[0;34m[\u001b[0m\u001b[0;34m:\u001b[0m\u001b[0;34m,\u001b[0m\u001b[0;36m1\u001b[0m\u001b[0;34m]\u001b[0m\u001b[0;34m\u001b[0m\u001b[0m\n\u001b[0m\u001b[1;32m      7\u001b[0m     \u001b[0mtest\u001b[0m\u001b[0;34m[\u001b[0m\u001b[0;34m[\u001b[0m\u001b[0;34m'id'\u001b[0m\u001b[0;34m,\u001b[0m\u001b[0;34m'target'\u001b[0m\u001b[0;34m]\u001b[0m\u001b[0;34m]\u001b[0m\u001b[0;34m.\u001b[0m\u001b[0mto_csv\u001b[0m\u001b[0;34m(\u001b[0m\u001b[0;34m'./submissions/4_sub.csv'\u001b[0m\u001b[0;34m,\u001b[0m\u001b[0mindex\u001b[0m\u001b[0;34m=\u001b[0m\u001b[0;32mFalse\u001b[0m\u001b[0;34m,\u001b[0m \u001b[0mfloat_format\u001b[0m\u001b[0;34m=\u001b[0m\u001b[0;34m'%.5f'\u001b[0m\u001b[0;34m)\u001b[0m\u001b[0;34m\u001b[0m\u001b[0m\n",
      "\u001b[0;32m/Users/xbno/anaconda/lib/python3.6/site-packages/sklearn/ensemble/forest.py\u001b[0m in \u001b[0;36mpredict_proba\u001b[0;34m(self, X)\u001b[0m\n\u001b[1;32m    571\u001b[0m         \"\"\"\n\u001b[1;32m    572\u001b[0m         \u001b[0;31m# Check data\u001b[0m\u001b[0;34m\u001b[0m\u001b[0;34m\u001b[0m\u001b[0m\n\u001b[0;32m--> 573\u001b[0;31m         \u001b[0mX\u001b[0m \u001b[0;34m=\u001b[0m \u001b[0mself\u001b[0m\u001b[0;34m.\u001b[0m\u001b[0m_validate_X_predict\u001b[0m\u001b[0;34m(\u001b[0m\u001b[0mX\u001b[0m\u001b[0;34m)\u001b[0m\u001b[0;34m\u001b[0m\u001b[0m\n\u001b[0m\u001b[1;32m    574\u001b[0m \u001b[0;34m\u001b[0m\u001b[0m\n\u001b[1;32m    575\u001b[0m         \u001b[0;31m# Assign chunk of trees to jobs\u001b[0m\u001b[0;34m\u001b[0m\u001b[0;34m\u001b[0m\u001b[0m\n",
      "\u001b[0;32m/Users/xbno/anaconda/lib/python3.6/site-packages/sklearn/ensemble/forest.py\u001b[0m in \u001b[0;36m_validate_X_predict\u001b[0;34m(self, X)\u001b[0m\n\u001b[1;32m    353\u001b[0m                                  \"call `fit` before exploiting the model.\")\n\u001b[1;32m    354\u001b[0m \u001b[0;34m\u001b[0m\u001b[0m\n\u001b[0;32m--> 355\u001b[0;31m         \u001b[0;32mreturn\u001b[0m \u001b[0mself\u001b[0m\u001b[0;34m.\u001b[0m\u001b[0mestimators_\u001b[0m\u001b[0;34m[\u001b[0m\u001b[0;36m0\u001b[0m\u001b[0;34m]\u001b[0m\u001b[0;34m.\u001b[0m\u001b[0m_validate_X_predict\u001b[0m\u001b[0;34m(\u001b[0m\u001b[0mX\u001b[0m\u001b[0;34m,\u001b[0m \u001b[0mcheck_input\u001b[0m\u001b[0;34m=\u001b[0m\u001b[0;32mTrue\u001b[0m\u001b[0;34m)\u001b[0m\u001b[0;34m\u001b[0m\u001b[0m\n\u001b[0m\u001b[1;32m    356\u001b[0m \u001b[0;34m\u001b[0m\u001b[0m\n\u001b[1;32m    357\u001b[0m     \u001b[0;34m@\u001b[0m\u001b[0mproperty\u001b[0m\u001b[0;34m\u001b[0m\u001b[0m\n",
      "\u001b[0;32m/Users/xbno/anaconda/lib/python3.6/site-packages/sklearn/tree/tree.py\u001b[0m in \u001b[0;36m_validate_X_predict\u001b[0;34m(self, X, check_input)\u001b[0m\n\u001b[1;32m    374\u001b[0m                              \u001b[0;34m\"match the input. Model n_features is %s and \"\u001b[0m\u001b[0;34m\u001b[0m\u001b[0m\n\u001b[1;32m    375\u001b[0m                              \u001b[0;34m\"input n_features is %s \"\u001b[0m\u001b[0;34m\u001b[0m\u001b[0m\n\u001b[0;32m--> 376\u001b[0;31m                              % (self.n_features_, n_features))\n\u001b[0m\u001b[1;32m    377\u001b[0m \u001b[0;34m\u001b[0m\u001b[0m\n\u001b[1;32m    378\u001b[0m         \u001b[0;32mreturn\u001b[0m \u001b[0mX\u001b[0m\u001b[0;34m\u001b[0m\u001b[0m\n",
      "\u001b[0;31mValueError\u001b[0m: Number of features of the model must match the input. Model n_features is 206 and input n_features is 212 "
     ]
    }
   ],
   "source": [
    "create_submission(rf)"
   ]
  },
  {
   "cell_type": "code",
   "execution_count": 130,
   "metadata": {
    "collapsed": true
   },
   "outputs": [],
   "source": [
    "importances = rf.feature_importances_\n",
    "std = np.std([tree.feature_importances_ for tree in rf.estimators_],axis=0)\n",
    "indices = np.argsort(importances)[::-1]"
   ]
  },
  {
   "cell_type": "code",
   "execution_count": 133,
   "metadata": {
    "collapsed": true
   },
   "outputs": [],
   "source": [
    "sorted_importance_cols = []\n",
    "#sorted_importance_cols = {}\n",
    "for f,col in enumerate(x.columns):\n",
    "#    sorted_importance_cols[col] = importances[indices[f]]\n",
    "    sorted_importance_cols.append((col,importances[indices[f]]))"
   ]
  },
  {
   "cell_type": "code",
   "execution_count": 134,
   "metadata": {},
   "outputs": [
    {
     "data": {
      "text/plain": [
       "[('ps_reg_01', 0.10658066591619761),\n",
       " ('ps_reg_02', 0.093383819870742998),\n",
       " ('ps_reg_03', 0.070062534068123364),\n",
       " ('ps_car_12', 0.058884348373882588),\n",
       " ('ps_car_13', 0.056569355410262492),\n",
       " ('ps_car_14', 0.054727804323040606),\n",
       " ('ps_car_15', 0.042704216502288686),\n",
       " ('ps_ind_06_bin', 0.04228204491314444),\n",
       " ('ps_ind_07_bin', 0.040837519776046827),\n",
       " ('ps_ind_08_bin', 0.034832856410676939),\n",
       " ('ps_ind_09_bin', 0.01656286779447063),\n",
       " ('ps_ind_10_bin', 0.013711842720273456),\n",
       " ('ps_ind_11_bin', 0.01236392687272617),\n",
       " ('ps_ind_12_bin', 0.01136545081459636),\n",
       " ('ps_ind_13_bin', 0.01100525246792841),\n",
       " ('ps_ind_16_bin', 0.010956702377614194),\n",
       " ('ps_ind_17_bin', 0.010726976524654168),\n",
       " ('ps_ind_18_bin', 0.01068722152916921),\n",
       " ('ps_ind_01_ord', 0.010398372449672802),\n",
       " ('ps_ind_03_ord', 0.0097222815697552215),\n",
       " ('ps_ind_14_ord', 0.0091954215271232223),\n",
       " ('ps_ind_15_ord', 0.0090230417018173116),\n",
       " ('ps_car_11_ord', 0.0088620711625513934),\n",
       " ('ps_ind_02_cat_1.0', 0.0075039322871735944),\n",
       " ('ps_ind_02_cat_2.0', 0.0074497827838483207),\n",
       " ('ps_ind_02_cat_3.0', 0.0073971947433550444),\n",
       " ('ps_ind_02_cat_4.0', 0.0071974987673027978),\n",
       " ('ps_ind_02_cat_nan', 0.0070611134284837883),\n",
       " ('ps_ind_04_cat_0.0', 0.0069829510717974849),\n",
       " ('ps_ind_04_cat_1.0', 0.0068162059095706303),\n",
       " ('ps_ind_04_cat_nan', 0.0066768856956317055),\n",
       " ('ps_ind_05_cat_0.0', 0.0064314370113893096),\n",
       " ('ps_ind_05_cat_1.0', 0.0062786571839266621),\n",
       " ('ps_ind_05_cat_2.0', 0.0059351563454582311),\n",
       " ('ps_ind_05_cat_3.0', 0.0058786503000101062),\n",
       " ('ps_ind_05_cat_4.0', 0.0057279343525062634),\n",
       " ('ps_ind_05_cat_5.0', 0.0055878430184387509),\n",
       " ('ps_ind_05_cat_6.0', 0.0054779545755597927),\n",
       " ('ps_ind_05_cat_nan', 0.004689066812153201),\n",
       " ('ps_car_01_cat_0.0', 0.0046080489661418462),\n",
       " ('ps_car_01_cat_1.0', 0.0045680095694875201),\n",
       " ('ps_car_01_cat_2.0', 0.0042208315062991011),\n",
       " ('ps_car_01_cat_3.0', 0.0040174843830589561),\n",
       " ('ps_car_01_cat_4.0', 0.0039592515818783064),\n",
       " ('ps_car_01_cat_5.0', 0.003683407727150801),\n",
       " ('ps_car_01_cat_6.0', 0.0032216755374207657),\n",
       " ('ps_car_01_cat_7.0', 0.0031604346134276608),\n",
       " ('ps_car_01_cat_8.0', 0.0031173838512071682),\n",
       " ('ps_car_01_cat_9.0', 0.0030438902597791956),\n",
       " ('ps_car_01_cat_10.0', 0.0029615306872436912),\n",
       " ('ps_car_01_cat_11.0', 0.0028718135770807642),\n",
       " ('ps_car_01_cat_nan', 0.0028007937205521234),\n",
       " ('ps_car_02_cat_0.0', 0.0025307397274426974),\n",
       " ('ps_car_02_cat_1.0', 0.0024376402369138822),\n",
       " ('ps_car_02_cat_nan', 0.0024022014442371727),\n",
       " ('ps_car_04_cat_0.0', 0.0023704401439245131),\n",
       " ('ps_car_04_cat_1.0', 0.0022009556760811851),\n",
       " ('ps_car_04_cat_2.0', 0.0021740874203061769),\n",
       " ('ps_car_04_cat_3.0', 0.0019921192222093938),\n",
       " ('ps_car_04_cat_4.0', 0.0019170513512711518),\n",
       " ('ps_car_04_cat_5.0', 0.0019068251337557587),\n",
       " ('ps_car_04_cat_6.0', 0.0018086330338156844),\n",
       " ('ps_car_04_cat_7.0', 0.0016919661073527199),\n",
       " ('ps_car_04_cat_8.0', 0.0016443220573475787),\n",
       " ('ps_car_04_cat_9.0', 0.0016010392934866153),\n",
       " ('ps_car_04_cat_nan', 0.0015984665633860607),\n",
       " ('ps_car_06_cat_0.0', 0.0015683534399483074),\n",
       " ('ps_car_06_cat_1.0', 0.0014274211695143649),\n",
       " ('ps_car_06_cat_2.0', 0.0014063649760739185),\n",
       " ('ps_car_06_cat_3.0', 0.0012839006056645039),\n",
       " ('ps_car_06_cat_4.0', 0.0012394510821863134),\n",
       " ('ps_car_06_cat_5.0', 0.0012357960413568049),\n",
       " ('ps_car_06_cat_6.0', 0.0012097915747458529),\n",
       " ('ps_car_06_cat_7.0', 0.0011703951303489713),\n",
       " ('ps_car_06_cat_8.0', 0.0011696944863194396),\n",
       " ('ps_car_06_cat_9.0', 0.001113755110845299),\n",
       " ('ps_car_06_cat_10.0', 0.0011091442734951864),\n",
       " ('ps_car_06_cat_11.0', 0.0011033147505201831),\n",
       " ('ps_car_06_cat_12.0', 0.0010760824235923735),\n",
       " ('ps_car_06_cat_13.0', 0.0010662929841704612),\n",
       " ('ps_car_06_cat_14.0', 0.0010250360382274759),\n",
       " ('ps_car_06_cat_15.0', 0.0010218270069667537),\n",
       " ('ps_car_06_cat_16.0', 0.0010106366006013793),\n",
       " ('ps_car_06_cat_17.0', 0.0010046353265197427),\n",
       " ('ps_car_06_cat_nan', 0.0010002732344527958),\n",
       " ('ps_car_07_cat_0.0', 0.00099500122676329035),\n",
       " ('ps_car_07_cat_1.0', 0.000981321394609069),\n",
       " ('ps_car_07_cat_nan', 0.00097644029312216681),\n",
       " ('ps_car_08_cat_0.0', 0.00095624399590084135),\n",
       " ('ps_car_08_cat_1.0', 0.00095536306332845097),\n",
       " ('ps_car_08_cat_nan', 0.00095482021551302713),\n",
       " ('ps_car_09_cat_0.0', 0.00094178038856510449),\n",
       " ('ps_car_09_cat_1.0', 0.00092400052722959398),\n",
       " ('ps_car_09_cat_2.0', 0.00090252471270755056),\n",
       " ('ps_car_09_cat_3.0', 0.00089733365239517071),\n",
       " ('ps_car_09_cat_4.0', 0.00089360481557125267),\n",
       " ('ps_car_09_cat_nan', 0.00086923469250657203),\n",
       " ('ps_car_10_cat_0.0', 0.00086512282439725138),\n",
       " ('ps_car_10_cat_1.0', 0.00085669509971938182),\n",
       " ('ps_car_10_cat_2.0', 0.00083781534841665891),\n",
       " ('ps_car_10_cat_nan', 0.00083146077457470528),\n",
       " ('ps_car_11_cat_1.0', 0.00082939386432274271),\n",
       " ('ps_car_11_cat_2.0', 0.00081996958631575651),\n",
       " ('ps_car_11_cat_3.0', 0.00081375140403132384),\n",
       " ('ps_car_11_cat_4.0', 0.00080531777394310703),\n",
       " ('ps_car_11_cat_5.0', 0.00079289460277330473),\n",
       " ('ps_car_11_cat_6.0', 0.0007771534090816976),\n",
       " ('ps_car_11_cat_7.0', 0.00076468799860465438),\n",
       " ('ps_car_11_cat_8.0', 0.00075977295033470755),\n",
       " ('ps_car_11_cat_9.0', 0.00073992055915159918),\n",
       " ('ps_car_11_cat_10.0', 0.00072678628897782354),\n",
       " ('ps_car_11_cat_11.0', 0.00071858416523312794),\n",
       " ('ps_car_11_cat_12.0', 0.00071401194331970215),\n",
       " ('ps_car_11_cat_13.0', 0.0007028344396786669),\n",
       " ('ps_car_11_cat_14.0', 0.00068501482135650447),\n",
       " ('ps_car_11_cat_15.0', 0.00066775308024958615),\n",
       " ('ps_car_11_cat_16.0', 0.00064329471779920016),\n",
       " ('ps_car_11_cat_17.0', 0.00063672351289986186),\n",
       " ('ps_car_11_cat_18.0', 0.00063045814829249685),\n",
       " ('ps_car_11_cat_19.0', 0.00061781124827542931),\n",
       " ('ps_car_11_cat_20.0', 0.0006073762865382253),\n",
       " ('ps_car_11_cat_21.0', 0.00060431836190862813),\n",
       " ('ps_car_11_cat_22.0', 0.00059853953563596986),\n",
       " ('ps_car_11_cat_23.0', 0.00056941920464880229),\n",
       " ('ps_car_11_cat_24.0', 0.00055237293954760278),\n",
       " ('ps_car_11_cat_25.0', 0.00054646036929013669),\n",
       " ('ps_car_11_cat_26.0', 0.00054026925089232581),\n",
       " ('ps_car_11_cat_27.0', 0.00052995545053299039),\n",
       " ('ps_car_11_cat_28.0', 0.00052777761103942218),\n",
       " ('ps_car_11_cat_29.0', 0.00052485056193280518),\n",
       " ('ps_car_11_cat_30.0', 0.00050603353292681403),\n",
       " ('ps_car_11_cat_31.0', 0.00049288100674465022),\n",
       " ('ps_car_11_cat_32.0', 0.00048905519616732724),\n",
       " ('ps_car_11_cat_33.0', 0.00048854896631124825),\n",
       " ('ps_car_11_cat_34.0', 0.00047319427385888113),\n",
       " ('ps_car_11_cat_35.0', 0.00047258822448209797),\n",
       " ('ps_car_11_cat_36.0', 0.00047172060062827359),\n",
       " ('ps_car_11_cat_37.0', 0.00047056923808546638),\n",
       " ('ps_car_11_cat_38.0', 0.00046294874353925249),\n",
       " ('ps_car_11_cat_39.0', 0.00046122565145137012),\n",
       " ('ps_car_11_cat_40.0', 0.00046121460804397828),\n",
       " ('ps_car_11_cat_41.0', 0.00044322514239083247),\n",
       " ('ps_car_11_cat_42.0', 0.00044275373543177998),\n",
       " ('ps_car_11_cat_43.0', 0.00044072525322239975),\n",
       " ('ps_car_11_cat_44.0', 0.00043916146517248401),\n",
       " ('ps_car_11_cat_45.0', 0.00043611793390276374),\n",
       " ('ps_car_11_cat_46.0', 0.00042430202047059586),\n",
       " ('ps_car_11_cat_47.0', 0.00041432498231381757),\n",
       " ('ps_car_11_cat_48.0', 0.00040734168562729547),\n",
       " ('ps_car_11_cat_49.0', 0.00039913397796983888),\n",
       " ('ps_car_11_cat_50.0', 0.00039738623678024478),\n",
       " ('ps_car_11_cat_51.0', 0.00039060765409899628),\n",
       " ('ps_car_11_cat_52.0', 0.00038800477889156361),\n",
       " ('ps_car_11_cat_53.0', 0.00038614268479740478),\n",
       " ('ps_car_11_cat_54.0', 0.00038587708783049165),\n",
       " ('ps_car_11_cat_55.0', 0.00038552951945288008),\n",
       " ('ps_car_11_cat_56.0', 0.00036693296962787933),\n",
       " ('ps_car_11_cat_57.0', 0.00036672718992600902),\n",
       " ('ps_car_11_cat_58.0', 0.00036294618596305437),\n",
       " ('ps_car_11_cat_59.0', 0.00036228004251164799),\n",
       " ('ps_car_11_cat_60.0', 0.00036203078528452822),\n",
       " ('ps_car_11_cat_61.0', 0.00034870018982316285),\n",
       " ('ps_car_11_cat_62.0', 0.00034403144380820651),\n",
       " ('ps_car_11_cat_63.0', 0.00034381079991845998),\n",
       " ('ps_car_11_cat_64.0', 0.00031716084293185315),\n",
       " ('ps_car_11_cat_65.0', 0.00031316099991400087),\n",
       " ('ps_car_11_cat_66.0', 0.00031284664094065329),\n",
       " ('ps_car_11_cat_67.0', 0.00031263796948160258),\n",
       " ('ps_car_11_cat_68.0', 0.00031068431031430608),\n",
       " ('ps_car_11_cat_69.0', 0.00029728564103014839),\n",
       " ('ps_car_11_cat_70.0', 0.00028289818776049852),\n",
       " ('ps_car_11_cat_71.0', 0.00028282291569231528),\n",
       " ('ps_car_11_cat_72.0', 0.00027990634106864009),\n",
       " ('ps_car_11_cat_73.0', 0.00026658745538614415),\n",
       " ('ps_car_11_cat_74.0', 0.00026504468047832032),\n",
       " ('ps_car_11_cat_75.0', 0.00025803055302353427),\n",
       " ('ps_car_11_cat_76.0', 0.0002559517086394063),\n",
       " ('ps_car_11_cat_77.0', 0.00025591639747142656),\n",
       " ('ps_car_11_cat_78.0', 0.00025534016629008116),\n",
       " ('ps_car_11_cat_79.0', 0.00023888080052978831),\n",
       " ('ps_car_11_cat_80.0', 0.00023659774954966651),\n",
       " ('ps_car_11_cat_81.0', 0.00022753874583413651),\n",
       " ('ps_car_11_cat_82.0', 0.00021386658755339133),\n",
       " ('ps_car_11_cat_83.0', 0.00021226994759802529),\n",
       " ('ps_car_11_cat_84.0', 0.00020712672257520686),\n",
       " ('ps_car_11_cat_85.0', 0.00019743133198543499),\n",
       " ('ps_car_11_cat_86.0', 0.00012765464432244235),\n",
       " ('ps_car_11_cat_87.0', 0.00011655497204293285),\n",
       " ('ps_car_11_cat_88.0', 0.00011410604958946737),\n",
       " ('ps_car_11_cat_89.0', 9.8217622124595287e-05),\n",
       " ('ps_car_11_cat_90.0', 5.2094371429138354e-05),\n",
       " ('ps_car_11_cat_91.0', 1.2327010023490681e-05),\n",
       " ('ps_car_11_cat_92.0', 7.2868951336691472e-06),\n",
       " ('ps_car_11_cat_93.0', 5.3918087281228038e-06),\n",
       " ('ps_car_11_cat_94.0', 0.0),\n",
       " ('ps_car_11_cat_95.0', 0.0),\n",
       " ('ps_car_11_cat_96.0', 0.0),\n",
       " ('ps_car_11_cat_97.0', 0.0),\n",
       " ('ps_car_11_cat_98.0', 0.0),\n",
       " ('ps_car_11_cat_99.0', 0.0),\n",
       " ('ps_car_11_cat_100.0', 0.0),\n",
       " ('ps_car_11_cat_101.0', 0.0),\n",
       " ('ps_car_11_cat_102.0', 0.0),\n",
       " ('ps_car_11_cat_103.0', 0.0),\n",
       " ('ps_car_11_cat_104.0', 0.0),\n",
       " ('ps_car_11_cat_nan', 0.0)]"
      ]
     },
     "execution_count": 134,
     "metadata": {},
     "output_type": "execute_result"
    }
   ],
   "source": [
    "sorted_importance_cols"
   ]
  },
  {
   "cell_type": "code",
   "execution_count": null,
   "metadata": {
    "collapsed": true
   },
   "outputs": [],
   "source": []
  },
  {
   "cell_type": "code",
   "execution_count": 31,
   "metadata": {
    "scrolled": true
   },
   "outputs": [
    {
     "data": {
      "text/plain": [
       "array([[<matplotlib.axes._subplots.AxesSubplot object at 0x120115208>,\n",
       "        <matplotlib.axes._subplots.AxesSubplot object at 0x11c6e8160>,\n",
       "        <matplotlib.axes._subplots.AxesSubplot object at 0x123df7f60>,\n",
       "        <matplotlib.axes._subplots.AxesSubplot object at 0x11c81cf60>],\n",
       "       [<matplotlib.axes._subplots.AxesSubplot object at 0x11c871e48>,\n",
       "        <matplotlib.axes._subplots.AxesSubplot object at 0x11c871e80>,\n",
       "        <matplotlib.axes._subplots.AxesSubplot object at 0x11c94d4e0>,\n",
       "        <matplotlib.axes._subplots.AxesSubplot object at 0x11c9c57b8>],\n",
       "       [<matplotlib.axes._subplots.AxesSubplot object at 0x11ca28748>,\n",
       "        <matplotlib.axes._subplots.AxesSubplot object at 0x11ca650b8>,\n",
       "        <matplotlib.axes._subplots.AxesSubplot object at 0x11caedcf8>,\n",
       "        <matplotlib.axes._subplots.AxesSubplot object at 0x11cafd518>],\n",
       "       [<matplotlib.axes._subplots.AxesSubplot object at 0x11cbba7b8>,\n",
       "        <matplotlib.axes._subplots.AxesSubplot object at 0x11cc194e0>,\n",
       "        <matplotlib.axes._subplots.AxesSubplot object at 0x11cc87278>,\n",
       "        <matplotlib.axes._subplots.AxesSubplot object at 0x11cce3b38>],\n",
       "       [<matplotlib.axes._subplots.AxesSubplot object at 0x11cd5be10>,\n",
       "        <matplotlib.axes._subplots.AxesSubplot object at 0x11cdbdda0>,\n",
       "        <matplotlib.axes._subplots.AxesSubplot object at 0x11cdfb710>,\n",
       "        <matplotlib.axes._subplots.AxesSubplot object at 0x11ce8a390>]], dtype=object)"
      ]
     },
     "execution_count": 31,
     "metadata": {},
     "output_type": "execute_result"
    },
    {
     "data": {
      "image/png": "[encoded data removed]",
      "text/plain": [
       "<matplotlib.figure.Figure at 0x1201152b0>"
      ]
     },
     "metadata": {},
     "output_type": "display_data"
    }
   ],
   "source": [
    "train.groupby(['ps_car_01_cat','ps_car_04_cat'])['target'].describe().unstack().unstack()[['mean','count']].hist()\n"
   ]
  },
  {
   "cell_type": "code",
   "execution_count": null,
   "metadata": {
    "collapsed": true
   },
   "outputs": [],
   "source": [
    "car_col_pairs = itertools.combinations(car_cols, 2)"
   ]
  },
  {
   "cell_type": "code",
   "execution_count": null,
   "metadata": {
    "collapsed": true
   },
   "outputs": [],
   "source": [
    "train.groupby(['ps_car_01_cat', 'ps_car_02_cat'])['target'].describe().unstack().unstack()[['mean']] > .05\n",
    "\n",
    "mask = train.groupby(['ps_car_01_cat', 'ps_car_02_cat'])['target'].describe().unstack().unstack()[['mean']] > .05"
   ]
  },
  {
   "cell_type": "code",
   "execution_count": null,
   "metadata": {
    "collapsed": true
   },
   "outputs": [],
   "source": [
    "mask"
   ]
  },
  {
   "cell_type": "code",
   "execution_count": null,
   "metadata": {
    "collapsed": true
   },
   "outputs": [],
   "source": [
    "df = train.groupby(pair)['target'].describe().unstack().unstack()[['mean']]"
   ]
  },
  {
   "cell_type": "code",
   "execution_count": null,
   "metadata": {
    "collapsed": true
   },
   "outputs": [],
   "source": [
    "(df > .04).sum().sum()"
   ]
  },
  {
   "cell_type": "code",
   "execution_count": null,
   "metadata": {
    "collapsed": true
   },
   "outputs": [],
   "source": []
  },
  {
   "cell_type": "markdown",
   "metadata": {},
   "source": [
    "Inspect top features manually\n",
    "\n",
    "ind\n",
    "\n",
    "    ps_ind_14 values 3 and 4\n",
    "    ps_ind_05_cat value 2\n",
    "    \n",
    "reg\n",
    "\n",
    "    none\n",
    "    \n",
    "car\n",
    "\n",
    "    ps_car_01_cat value 9\n",
    "    ps_car_04_cat value 7\n",
    "    ps_car_06_cat values 2, 5, 8, 9, 13, 15, 17"
   ]
  },
  {
   "cell_type": "code",
   "execution_count": null,
   "metadata": {
    "collapsed": true
   },
   "outputs": [],
   "source": [
    "#train.groupby(pair)['target'].describe().unstack().unstack()[['mean']]"
   ]
  },
  {
   "cell_type": "code",
   "execution_count": null,
   "metadata": {
    "collapsed": true
   },
   "outputs": [],
   "source": [
    "worthwhile_pair = []\n",
    "\n",
    "for pair in itertools.combinations(cat_cols, 2):\n",
    "    df = train.groupby(pair)['target'].describe().unstack().unstack()[['count']]\n",
    "    if (df > .05).sum().sum() > 1:\n",
    "        worthwhile_pair.append(pair)"
   ]
  },
  {
   "cell_type": "code",
   "execution_count": null,
   "metadata": {
    "collapsed": true
   },
   "outputs": [],
   "source": []
  },
  {
   "cell_type": "code",
   "execution_count": 32,
   "metadata": {},
   "outputs": [
    {
     "data": {
      "text/plain": [
       "55"
      ]
     },
     "execution_count": 32,
     "metadata": {},
     "output_type": "execute_result"
    }
   ],
   "source": [
    "len([i for i in itertools.combinations(bin_cols, 2)])"
   ]
  },
  {
   "cell_type": "code",
   "execution_count": null,
   "metadata": {
    "collapsed": true
   },
   "outputs": [],
   "source": [
    "len(worthwhile_pair)"
   ]
  },
  {
   "cell_type": "code",
   "execution_count": null,
   "metadata": {
    "collapsed": true
   },
   "outputs": [],
   "source": [
    "def pair_above_target(perc,cols):\n",
    "    worthwhile_pair = []\n",
    "\n",
    "    for pair in itertools.combinations(cols, 2):\n",
    "        df = train.groupby(pair)['target'].describe().unstack().unstack()[['mean']]\n",
    "        if (df > perc).sum().sum() > 1:\n",
    "            worthwhile_pair.append(pair)\n",
    "\n",
    "    col_count = {}\n",
    "\n",
    "    for pair in worthwhile_pair:\n",
    "        for col in pair:\n",
    "            if col in col_count:\n",
    "                col_count[col] += 1\n",
    "            else:\n",
    "                col_count[col] = 1\n",
    "    return col_count"
   ]
  },
  {
   "cell_type": "code",
   "execution_count": null,
   "metadata": {
    "collapsed": true
   },
   "outputs": [],
   "source": [
    "pair_above_target(.2,ord_cols)"
   ]
  },
  {
   "cell_type": "code",
   "execution_count": null,
   "metadata": {
    "collapsed": true,
    "scrolled": true
   },
   "outputs": [],
   "source": [
    "pair_above_target(.1,cat_cols)"
   ]
  },
  {
   "cell_type": "code",
   "execution_count": null,
   "metadata": {
    "collapsed": true
   },
   "outputs": [],
   "source": [
    "pair_above_target(.05,bin_cols)"
   ]
  },
  {
   "cell_type": "code",
   "execution_count": null,
   "metadata": {
    "collapsed": true
   },
   "outputs": [],
   "source": [
    "keep_cols = ['ps_car_01_cat','ps_ind_05_cat','ps_ind_17_bin']"
   ]
  },
  {
   "cell_type": "code",
   "execution_count": null,
   "metadata": {
    "collapsed": true
   },
   "outputs": [],
   "source": [
    "a = (train.groupby(pair)['target'].describe().unstack().unstack()[['mean']])# > .05)#.sum()\n"
   ]
  },
  {
   "cell_type": "code",
   "execution_count": null,
   "metadata": {
    "collapsed": true
   },
   "outputs": [],
   "source": [
    "b = ((train.groupby(pair)['target'].describe().unstack().unstack()[['count']]))# / len(train)))# > .05)#.sum()"
   ]
  },
  {
   "cell_type": "code",
   "execution_count": null,
   "metadata": {
    "collapsed": true
   },
   "outputs": [],
   "source": []
  },
  {
   "cell_type": "code",
   "execution_count": null,
   "metadata": {
    "collapsed": true
   },
   "outputs": [],
   "source": [
    "((train.groupby(pair)['target'].describe().unstack().unstack()[['count']] / len(train)))# > .05)#.sum()\n"
   ]
  },
  {
   "cell_type": "code",
   "execution_count": null,
   "metadata": {
    "collapsed": true
   },
   "outputs": [],
   "source": [
    "sns.heatmap(train.groupby(['ps_car_01_cat','ps_car_04_cat'])['target'].describe().unstack().unstack()[['mean']])"
   ]
  },
  {
   "cell_type": "markdown",
   "metadata": {},
   "source": [
    "Modifications to features"
   ]
  },
  {
   "cell_type": "code",
   "execution_count": null,
   "metadata": {
    "collapsed": true
   },
   "outputs": [],
   "source": [
    "train['ps_reg_03'] = (train['ps_reg_03']*4)^2"
   ]
  },
  {
   "cell_type": "code",
   "execution_count": null,
   "metadata": {
    "collapsed": true
   },
   "outputs": [],
   "source": [
    "train['ps_car_12'] = train['ps_car_12']^2"
   ]
  },
  {
   "cell_type": "code",
   "execution_count": null,
   "metadata": {
    "collapsed": true
   },
   "outputs": [],
   "source": [
    "train['ps_car_14'] = train['ps_car_14']^2"
   ]
  },
  {
   "cell_type": "code",
   "execution_count": null,
   "metadata": {
    "collapsed": true
   },
   "outputs": [],
   "source": [
    "train['ps_car_15'] = train['ps_car_15']^2"
   ]
  },
  {
   "cell_type": "code",
   "execution_count": null,
   "metadata": {
    "collapsed": true
   },
   "outputs": [],
   "source": []
  },
  {
   "cell_type": "code",
   "execution_count": null,
   "metadata": {
    "collapsed": true
   },
   "outputs": [],
   "source": [
    "def hist_target(col):\n",
    "    if 'cat' not in col:\n",
    "        #train[col].hist()\n",
    "        train.groupby([col])['target'].mean().plot(kind='barh')\n",
    "        plt.figure()"
   ]
  },
  {
   "cell_type": "code",
   "execution_count": null,
   "metadata": {
    "collapsed": true
   },
   "outputs": [],
   "source": [
    "for col in null_cols:\n",
    "    hist_target(col)"
   ]
  },
  {
   "cell_type": "code",
   "execution_count": null,
   "metadata": {
    "collapsed": true
   },
   "outputs": [],
   "source": []
  },
  {
   "cell_type": "code",
   "execution_count": null,
   "metadata": {
    "collapsed": true
   },
   "outputs": [],
   "source": []
  },
  {
   "cell_type": "code",
   "execution_count": null,
   "metadata": {
    "collapsed": true
   },
   "outputs": [],
   "source": []
  },
  {
   "cell_type": "code",
   "execution_count": null,
   "metadata": {
    "collapsed": true
   },
   "outputs": [],
   "source": []
  },
  {
   "cell_type": "code",
   "execution_count": null,
   "metadata": {
    "collapsed": true
   },
   "outputs": [],
   "source": []
  },
  {
   "cell_type": "code",
   "execution_count": null,
   "metadata": {
    "collapsed": true
   },
   "outputs": [],
   "source": [
    "# train = pd.read_csv('./data/train.csv')\n",
    "# test = pd.read_csv('./data/test.csv')\n",
    "col = [c for c in train.columns if c not in ['id','target']]\n",
    "\n",
    "d_median = train.median(axis=0)\n",
    "d_mean = train.mean(axis=0)\n",
    "one_hot = {c: list(train[c].unique()) for c in train.columns if c not in ['id','target']}\n",
    "\n",
    "def transform_df(df):\n",
    "    df = pd.DataFrame(df)\n",
    "    dcol = [c for c in df.columns if c not in ['id','target']]\n",
    "    df['ps_car_13_x_ps_reg_03'] = df['ps_car_13'] * df['ps_reg_03']\n",
    "    df['negative_one_vals'] = np.sum((df[dcol]==-1).values, axis=1)\n",
    "    for c in dcol:\n",
    "        if '_bin' not in c: #standard arithmetic\n",
    "            df[c+str('_median_range')] = (df[c].values > d_median[c]).astype(np.int)\n",
    "            df[c+str('_mean_range')] = (df[c].values > d_mean[c]).astype(np.int)\n",
    "            #df[c+str('_sq')] = np.power(df[c].values,2).astype(np.float32)\n",
    "            #df[c+str('_sqr')] = np.square(df[c].values).astype(np.float32)\n",
    "            #df[c+str('_log')] = np.log(np.abs(df[c].values) + 1)\n",
    "            #df[c+str('_exp')] = np.exp(df[c].values) - 1\n",
    "    for c in one_hot:\n",
    "        if len(one_hot[c])>2 and len(one_hot[c]) < 10:\n",
    "            for val in one_hot[c]:\n",
    "                df[c+'_oh_' + str(val)] = (df[c].values == val).astype(np.int)\n",
    "    return df"
   ]
  },
  {
   "cell_type": "markdown",
   "metadata": {},
   "source": [
    "Create scoring metric for sklearn"
   ]
  },
  {
   "cell_type": "code",
   "execution_count": null,
   "metadata": {
    "collapsed": true
   },
   "outputs": [],
   "source": [
    "def ginic(actual, pred):\n",
    "    n = len(actual)\n",
    "    a_s = actual[np.argsort(pred)]\n",
    "    a_c = a_s.cumsum()\n",
    "    giniSum = a_c.sum() / a_c[-1] - (n + 1) / 2.0\n",
    "    return giniSum / n\n",
    " \n",
    "def gini_normalizedc(a, p):\n",
    "    if p.ndim == 2:\n",
    "        p = p[:,1] \n",
    "    return ginic(a, p) / ginic(a, a)"
   ]
  },
  {
   "cell_type": "code",
   "execution_count": null,
   "metadata": {
    "collapsed": true
   },
   "outputs": [],
   "source": [
    "gini_sklearn = metrics.make_scorer(gini_normalizedc, True, True)"
   ]
  },
  {
   "cell_type": "markdown",
   "metadata": {},
   "source": [
    "Split"
   ]
  },
  {
   "cell_type": "code",
   "execution_count": null,
   "metadata": {
    "collapsed": true
   },
   "outputs": [],
   "source": [
    "keep_cols"
   ]
  },
  {
   "cell_type": "code",
   "execution_count": null,
   "metadata": {
    "collapsed": true
   },
   "outputs": [],
   "source": [
    "x, y = train_spare.drop(['id','target'],axis=1), train['target']\n",
    "\n",
    "x = x[keep_cols]\n",
    "\n",
    "x_train, x_valid, y_train, y_valid = model_selection.train_test_split(x, y, test_size=.3)\n"
   ]
  },
  {
   "cell_type": "markdown",
   "metadata": {},
   "source": [
    "Model"
   ]
  },
  {
   "cell_type": "code",
   "execution_count": null,
   "metadata": {
    "collapsed": true
   },
   "outputs": [],
   "source": [
    "rf = ensemble.RandomForestClassifier(n_estimators=400, min_samples_leaf=15, min_samples_split=20)"
   ]
  },
  {
   "cell_type": "code",
   "execution_count": null,
   "metadata": {
    "collapsed": true
   },
   "outputs": [],
   "source": [
    "#rf = ensemble.RandomForestClassifier(n_estimators = 800,min_samples_leaf = 10,min_samples_split=15)"
   ]
  },
  {
   "cell_type": "code",
   "execution_count": null,
   "metadata": {
    "collapsed": true
   },
   "outputs": [],
   "source": [
    "knn = neighbors.KNeighborsClassifier(n_neighbors=50)"
   ]
  },
  {
   "cell_type": "code",
   "execution_count": null,
   "metadata": {
    "collapsed": true
   },
   "outputs": [],
   "source": [
    "lr = linear_model.Lasso(.01)"
   ]
  },
  {
   "cell_type": "code",
   "execution_count": null,
   "metadata": {
    "collapsed": true
   },
   "outputs": [],
   "source": [
    "lg = linear_model.LogisticRegression(penalty='l1',C=.01)"
   ]
  },
  {
   "cell_type": "markdown",
   "metadata": {},
   "source": [
    "Notes\n",
    "\n",
    "    All features with rf roc of ~.62\n",
    "    "
   ]
  },
  {
   "cell_type": "code",
   "execution_count": null,
   "metadata": {
    "collapsed": true
   },
   "outputs": [],
   "source": [
    "df = transform_df(train)"
   ]
  },
  {
   "cell_type": "code",
   "execution_count": null,
   "metadata": {
    "collapsed": true
   },
   "outputs": [],
   "source": [
    "rf = ensemble.RandomForestClassifier(n_estimators=400, min_samples_leaf=15, min_samples_split=20)\n",
    "kfold = model_selection.KFold(n_splits=5, random_state=4)\n",
    "score = model_selection.cross_val_score(rf,x_train,y_train,scoring='roc_auc',cv=kfold)\n",
    "2*np.mean(score)-1"
   ]
  },
  {
   "cell_type": "code",
   "execution_count": null,
   "metadata": {
    "collapsed": true
   },
   "outputs": [],
   "source": [
    "rf.fit(x,y)"
   ]
  },
  {
   "cell_type": "code",
   "execution_count": null,
   "metadata": {
    "collapsed": true
   },
   "outputs": [],
   "source": [
    "importances = rf.feature_importances_\n",
    "std = np.std([tree.feature_importances_ for tree in rf.estimators_],axis=0)\n",
    "indices = np.argsort(importances)[::-1]"
   ]
  },
  {
   "cell_type": "code",
   "execution_count": null,
   "metadata": {
    "collapsed": true
   },
   "outputs": [],
   "source": [
    "def calcginiindex(array):\n",
    "\n",
    "    array = array.flatten()\n",
    "    array += 0.0000001\n",
    "    array = np.sort(array)\n",
    "    index = np.arange(1,array.shape[0]+1)\n",
    "    n = array.shape[0]\n",
    "    return ((np.sum((2*index - n - 1)*array))/(n * np.sum(array)))"
   ]
  },
  {
   "cell_type": "markdown",
   "metadata": {},
   "source": [
    "Top importances"
   ]
  },
  {
   "cell_type": "code",
   "execution_count": null,
   "metadata": {
    "collapsed": true
   },
   "outputs": [],
   "source": [
    "keep_cols = []\n",
    "for f,col in enumerate(x.columns):\n",
    "    print(\"{}. {} {}\".format(f+1, col, importances[indices[f]]))\n",
    "    if importances[indices[f]] > .01:\n",
    "        keep_cols.append(col)"
   ]
  },
  {
   "cell_type": "code",
   "execution_count": null,
   "metadata": {
    "collapsed": true
   },
   "outputs": [],
   "source": [
    "np.mean(score)*2-1"
   ]
  },
  {
   "cell_type": "code",
   "execution_count": null,
   "metadata": {
    "collapsed": true
   },
   "outputs": [],
   "source": [
    "%%time\n",
    "rf.fit(x_train,y_train)"
   ]
  },
  {
   "cell_type": "code",
   "execution_count": null,
   "metadata": {
    "collapsed": true
   },
   "outputs": [],
   "source": [
    "y_pred = rf.predict_proba(x_valid)[:,1]"
   ]
  },
  {
   "cell_type": "markdown",
   "metadata": {},
   "source": [
    "---\n",
    "Maybe multiply by 2 to approximate the score on the LB?"
   ]
  },
  {
   "cell_type": "code",
   "execution_count": null,
   "metadata": {
    "collapsed": true,
    "scrolled": false
   },
   "outputs": [],
   "source": [
    "gini(y_valid,y_pred)*2"
   ]
  },
  {
   "cell_type": "markdown",
   "metadata": {},
   "source": [
    "Grid"
   ]
  },
  {
   "cell_type": "code",
   "execution_count": null,
   "metadata": {
    "collapsed": true
   },
   "outputs": [],
   "source": [
    "tuned_parameters = {}\n",
    "tuned_parameters['C'] = [.001,.01,.1,1,10]\n",
    "tuned_parameters['penalty'] = ['l1']"
   ]
  },
  {
   "cell_type": "code",
   "execution_count": null,
   "metadata": {
    "collapsed": true
   },
   "outputs": [],
   "source": [
    "grid = model_selection.GridSearchCV(lg, tuned_parameters, cv=2)"
   ]
  },
  {
   "cell_type": "code",
   "execution_count": null,
   "metadata": {
    "collapsed": true
   },
   "outputs": [],
   "source": [
    "grid_scores = grid.fit(x_train,y_train)"
   ]
  },
  {
   "cell_type": "markdown",
   "metadata": {},
   "source": [
    "Keras"
   ]
  },
  {
   "cell_type": "code",
   "execution_count": null,
   "metadata": {
    "collapsed": true
   },
   "outputs": [],
   "source": [
    "import keras"
   ]
  },
  {
   "cell_type": "code",
   "execution_count": null,
   "metadata": {
    "collapsed": true
   },
   "outputs": [],
   "source": [
    "from keras.models import Sequential()\n",
    "from keras.layers import Dense, BatchNormalization, "
   ]
  },
  {
   "cell_type": "code",
   "execution_count": null,
   "metadata": {
    "collapsed": true
   },
   "outputs": [],
   "source": []
  },
  {
   "cell_type": "code",
   "execution_count": null,
   "metadata": {
    "collapsed": true
   },
   "outputs": [],
   "source": []
  },
  {
   "cell_type": "code",
   "execution_count": null,
   "metadata": {
    "collapsed": true
   },
   "outputs": [],
   "source": [
    "from sklearn.ensemble import RandomForestClassifier\n",
    "rf = RandomForestClassifier(n_estimators=400, max_depth=8, min_samples_leaf=4, max_features=0.2, n_jobs=-1, random_state=0)\n",
    "rf.fit(train.drop(['id', 'target'],axis=1), train.target)\n",
    "features = train.drop(['id', 'target'],axis=1).columns.values\n",
    "print(\"----- Training Done -----\")"
   ]
  },
  {
   "cell_type": "code",
   "execution_count": null,
   "metadata": {
    "collapsed": true
   },
   "outputs": [],
   "source": [
    "y_pred.shape"
   ]
  },
  {
   "cell_type": "code",
   "execution_count": null,
   "metadata": {
    "collapsed": true
   },
   "outputs": [],
   "source": [
    "test = pd.read_csv('./data/test.csv')"
   ]
  },
  {
   "cell_type": "code",
   "execution_count": 127,
   "metadata": {
    "collapsed": true
   },
   "outputs": [],
   "source": [
    "def create_submission(rf):\n",
    "    X_test = test.drop(['id'],axis=1)\n",
    "    test['target'] = rf.predict_proba(X_test)[:,1]\n",
    "    test[['id','target']].to_csv('./submissions/4_sub.csv',index=False, float_format='%.5f')"
   ]
  },
  {
   "cell_type": "code",
   "execution_count": null,
   "metadata": {
    "collapsed": true
   },
   "outputs": [],
   "source": [
    "sample = pd.read_csv('./data/sample_submission.csv',index_col=None)"
   ]
  },
  {
   "cell_type": "code",
   "execution_count": null,
   "metadata": {
    "collapsed": true
   },
   "outputs": [],
   "source": [
    "def gini_xgb(pred, y):\n",
    "    y = y.get_label()\n",
    "    return 'gini', gini(y, pred) / gini(y, y)"
   ]
  },
  {
   "cell_type": "code",
   "execution_count": null,
   "metadata": {
    "collapsed": true
   },
   "outputs": [],
   "source": [
    "def gini(y, pred):\n",
    "    g = np.asarray(np.c_[y, pred, np.arange(len(y)) ], dtype=np.float)\n",
    "    g = g[np.lexsort((g[:,2], -1*g[:,1]))]\n",
    "    gs = g[:,0].cumsum().sum() / g[:,0].sum()\n",
    "    gs -= (len(y) + 1) / 2.\n",
    "    return gs / len(y)"
   ]
  },
  {
   "cell_type": "code",
   "execution_count": null,
   "metadata": {
    "collapsed": true
   },
   "outputs": [],
   "source": []
  }
 ],
 "metadata": {
  "kernelspec": {
   "display_name": "Python 3",
   "language": "python",
   "name": "python3"
  },
  "language_info": {
   "codemirror_mode": {
    "name": "ipython",
    "version": 3
   },
   "file_extension": ".py",
   "mimetype": "text/x-python",
   "name": "python",
   "nbconvert_exporter": "python",
   "pygments_lexer": "ipython3",
   "version": "3.6.1"
  }
 },
 "nbformat": 4,
 "nbformat_minor": 2
}
