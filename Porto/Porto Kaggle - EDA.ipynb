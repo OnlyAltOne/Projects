{
 "cells": [
  {
   "cell_type": "markdown",
   "metadata": {},
   "source": [
    "### Porto Seguro \n",
    "\n",
    "3rd Largest Insurance Company in Brasil\n",
    "\n",
    "---\n",
    "\n",
    "__Goal__ - To produce the likelyhood a driver will initiate an insurance claim.\n",
    "\n",
    "__Notes__ \n",
    "- Though this is an insurance claim problem, the data is anonomyzed in such a way that no features are known. Therefore, there is no 'domain expertise' easily used to construct features unless there is a labeled dataset somewhere you could compare.\n",
    "- Classes are highly imbalanced\n"
   ]
  },
  {
   "cell_type": "code",
   "execution_count": 139,
   "metadata": {},
   "outputs": [],
   "source": [
    "import pandas as pd\n",
    "import numpy as np\n",
    "import seaborn as sns\n",
    "import matplotlib.pyplot as plt\n",
    "from sklearn import *\n",
    "import itertools\n",
    "#import fancyimpute\n",
    "\n",
    "%matplotlib inline"
   ]
  },
  {
   "cell_type": "code",
   "execution_count": 438,
   "metadata": {
    "collapsed": true
   },
   "outputs": [],
   "source": [
    "test = pd.read_csv('./data/test.csv')\n",
    "train = pd.read_csv('./data/train.csv')"
   ]
  },
  {
   "cell_type": "markdown",
   "metadata": {},
   "source": [
    "Get aquainted with dataset"
   ]
  },
  {
   "cell_type": "code",
   "execution_count": 436,
   "metadata": {},
   "outputs": [
    {
     "name": "stdout",
     "output_type": "stream",
     "text": [
      "<class 'pandas.core.frame.DataFrame'>\n",
      "RangeIndex: 595212 entries, 0 to 595211\n",
      "Data columns (total 63 columns):\n",
      "id                   595212 non-null int64\n",
      "target               595212 non-null int64\n",
      "ps_ind_02_cat        595212 non-null int64\n",
      "ps_ind_04_cat        595212 non-null int64\n",
      "ps_ind_05_cat        595212 non-null int64\n",
      "ps_ind_06_bin        595212 non-null int64\n",
      "ps_ind_07_bin        595212 non-null int64\n",
      "ps_ind_08_bin        595212 non-null int64\n",
      "ps_ind_09_bin        595212 non-null int64\n",
      "ps_ind_10_bin        595212 non-null int64\n",
      "ps_ind_11_bin        595212 non-null int64\n",
      "ps_ind_12_bin        595212 non-null int64\n",
      "ps_ind_13_bin        595212 non-null int64\n",
      "ps_ind_16_bin        595212 non-null int64\n",
      "ps_ind_17_bin        595212 non-null int64\n",
      "ps_ind_18_bin        595212 non-null int64\n",
      "ps_reg_01            595212 non-null float64\n",
      "ps_reg_02            595212 non-null float64\n",
      "ps_reg_03            595212 non-null float64\n",
      "ps_car_01_cat        595212 non-null int64\n",
      "ps_car_02_cat        595212 non-null int64\n",
      "ps_car_03_cat        595212 non-null int64\n",
      "ps_car_04_cat        595212 non-null int64\n",
      "ps_car_05_cat        595212 non-null int64\n",
      "ps_car_06_cat        595212 non-null int64\n",
      "ps_car_07_cat        595212 non-null int64\n",
      "ps_car_08_cat        595212 non-null int64\n",
      "ps_car_09_cat        595212 non-null int64\n",
      "ps_car_10_cat        595212 non-null int64\n",
      "ps_car_11_cat        595212 non-null int64\n",
      "ps_car_12            595212 non-null float64\n",
      "ps_car_13            595212 non-null float64\n",
      "ps_car_14            595212 non-null float64\n",
      "ps_car_15            595212 non-null float64\n",
      "ps_calc_01           595212 non-null float64\n",
      "ps_calc_02           595212 non-null float64\n",
      "ps_calc_03           595212 non-null float64\n",
      "ps_calc_15_bin       595212 non-null int64\n",
      "ps_calc_16_bin       595212 non-null int64\n",
      "ps_calc_17_bin       595212 non-null int64\n",
      "ps_calc_18_bin       595212 non-null int64\n",
      "ps_calc_19_bin       595212 non-null int64\n",
      "ps_calc_20_bin       595212 non-null int64\n",
      "ps_ind_01_ord        595212 non-null int64\n",
      "ps_ind_03_ord        595212 non-null int64\n",
      "ps_ind_14_ord        595212 non-null int64\n",
      "ps_ind_15_ord        595212 non-null int64\n",
      "ps_car_11_ord        595212 non-null int64\n",
      "ps_calc_04_ord       595212 non-null int64\n",
      "ps_calc_05_ord       595212 non-null int64\n",
      "ps_calc_06_ord       595212 non-null int64\n",
      "ps_calc_07_ord       595212 non-null int64\n",
      "ps_calc_08_ord       595212 non-null int64\n",
      "ps_calc_09_ord       595212 non-null int64\n",
      "ps_calc_10_ord       595212 non-null int64\n",
      "ps_calc_11_ord       595212 non-null int64\n",
      "ps_calc_12_ord       595212 non-null int64\n",
      "ps_calc_13_ord       595212 non-null int64\n",
      "ps_calc_14_ord       595212 non-null int64\n",
      "ps_car_03_cat_bin    595212 non-null int64\n",
      "ps_reg_03_bin        595212 non-null int64\n",
      "ps_reg_03_count      595212 non-null int64\n",
      "ps_reg_03_mean       595212 non-null int64\n",
      "dtypes: float64(10), int64(53)\n",
      "memory usage: 286.1 MB\n"
     ]
    }
   ],
   "source": [
    "train.info()"
   ]
  },
  {
   "cell_type": "code",
   "execution_count": 439,
   "metadata": {},
   "outputs": [
    {
     "data": {
      "text/plain": [
       "(595212, 59)"
      ]
     },
     "execution_count": 439,
     "metadata": {},
     "output_type": "execute_result"
    }
   ],
   "source": [
    "train.shape"
   ]
  },
  {
   "cell_type": "code",
   "execution_count": 440,
   "metadata": {},
   "outputs": [
    {
     "data": {
      "text/plain": [
       "(892816, 58)"
      ]
     },
     "execution_count": 440,
     "metadata": {},
     "output_type": "execute_result"
    }
   ],
   "source": [
    "test.shape"
   ]
  },
  {
   "cell_type": "markdown",
   "metadata": {},
   "source": [
    "Target variable is unbalanced. Looking for combinations of variables that produce predictive power above .036"
   ]
  },
  {
   "cell_type": "code",
   "execution_count": 441,
   "metadata": {
    "scrolled": true
   },
   "outputs": [
    {
     "data": {
      "text/plain": [
       "0    0.963552\n",
       "1    0.036448\n",
       "Name: target, dtype: float64"
      ]
     },
     "execution_count": 441,
     "metadata": {},
     "output_type": "execute_result"
    }
   ],
   "source": [
    "train['target'].value_counts()/train['target'].count()"
   ]
  },
  {
   "cell_type": "markdown",
   "metadata": {},
   "source": [
    "Similar features in 4 categories: \n",
    "\n",
    "    ind, reg, car, calc.\n",
    "\n",
    "Feature types:\n",
    "\n",
    "    bin = binary, cat = categorical, unspecified = continuous or ordinal"
   ]
  },
  {
   "cell_type": "code",
   "execution_count": 442,
   "metadata": {},
   "outputs": [],
   "source": [
    "cat_cols = []\n",
    "bin_cols = []\n",
    "ord_cont_cols = []\n",
    "for col in train.columns:\n",
    "    if 'cat' in col:\n",
    "        cat_cols.append(col)\n",
    "    elif 'bin' in col:\n",
    "        bin_cols.append(col)\n",
    "    elif 'target' in col or 'id' in col:\n",
    "        pass\n",
    "    else:\n",
    "        ord_cont_cols.append(col)"
   ]
  },
  {
   "cell_type": "code",
   "execution_count": 443,
   "metadata": {
    "collapsed": true
   },
   "outputs": [],
   "source": [
    "data_groups = [cat_cols,bin_cols,ord_cont_cols]"
   ]
  },
  {
   "cell_type": "code",
   "execution_count": 444,
   "metadata": {},
   "outputs": [
    {
     "name": "stdout",
     "output_type": "stream",
     "text": [
      "14\n",
      "17\n",
      "26\n"
     ]
    }
   ],
   "source": [
    "for group in data_groups:\n",
    "    print(len(group))"
   ]
  },
  {
   "cell_type": "code",
   "execution_count": 445,
   "metadata": {},
   "outputs": [],
   "source": [
    "cont_cols = []\n",
    "ord_cols = []\n",
    "\n",
    "for col in ord_cont_cols:\n",
    "    if train[col].dtype == 'int64':\n",
    "        #print(col)\n",
    "        train['{}_ord'.format(col)] = train[col]\n",
    "        train.drop(col,axis=1,inplace=True)\n",
    "        ord_cols.append('{}_ord'.format(col))\n",
    "    else:\n",
    "        cont_cols.append(col)"
   ]
  },
  {
   "cell_type": "code",
   "execution_count": 446,
   "metadata": {},
   "outputs": [],
   "source": [
    "ind_cols = []\n",
    "reg_cols = []\n",
    "car_cols = []\n",
    "calc_cols = []\n",
    "for col in train.columns:\n",
    "    if 'ind' in col:\n",
    "        ind_cols.append(col)\n",
    "    if 'reg' in col:\n",
    "        reg_cols.append(col)\n",
    "    if 'car' in col:\n",
    "        car_cols.append(col)\n",
    "    if 'calc' in col:\n",
    "        calc_cols.append(col)"
   ]
  },
  {
   "cell_type": "code",
   "execution_count": 447,
   "metadata": {
    "collapsed": true
   },
   "outputs": [],
   "source": [
    "type_groups = [ind_cols, reg_cols, car_cols, calc_cols]"
   ]
  },
  {
   "cell_type": "code",
   "execution_count": 448,
   "metadata": {},
   "outputs": [
    {
     "name": "stdout",
     "output_type": "stream",
     "text": [
      "18\n",
      "3\n",
      "16\n",
      "20\n"
     ]
    }
   ],
   "source": [
    "for group in type_groups:\n",
    "    print(len(group))"
   ]
  },
  {
   "cell_type": "markdown",
   "metadata": {},
   "source": [
    "All columns accounted for"
   ]
  },
  {
   "cell_type": "code",
   "execution_count": 449,
   "metadata": {},
   "outputs": [
    {
     "data": {
      "text/html": [
       "<div>\n",
       "<table border=\"1\" class=\"dataframe\">\n",
       "  <thead>\n",
       "    <tr style=\"text-align: right;\">\n",
       "      <th></th>\n",
       "      <th>id</th>\n",
       "      <th>target</th>\n",
       "    </tr>\n",
       "  </thead>\n",
       "  <tbody>\n",
       "    <tr>\n",
       "      <th>0</th>\n",
       "      <td>7</td>\n",
       "      <td>0</td>\n",
       "    </tr>\n",
       "  </tbody>\n",
       "</table>\n",
       "</div>"
      ],
      "text/plain": [
       "   id  target\n",
       "0   7       0"
      ]
     },
     "execution_count": 449,
     "metadata": {},
     "output_type": "execute_result"
    }
   ],
   "source": [
    "train.drop(cat_cols + bin_cols + ord_cols + cont_cols,axis=1).head(1)"
   ]
  },
  {
   "cell_type": "code",
   "execution_count": 450,
   "metadata": {},
   "outputs": [
    {
     "data": {
      "text/html": [
       "<div>\n",
       "<table border=\"1\" class=\"dataframe\">\n",
       "  <thead>\n",
       "    <tr style=\"text-align: right;\">\n",
       "      <th></th>\n",
       "      <th>id</th>\n",
       "      <th>target</th>\n",
       "    </tr>\n",
       "  </thead>\n",
       "  <tbody>\n",
       "    <tr>\n",
       "      <th>0</th>\n",
       "      <td>7</td>\n",
       "      <td>0</td>\n",
       "    </tr>\n",
       "  </tbody>\n",
       "</table>\n",
       "</div>"
      ],
      "text/plain": [
       "   id  target\n",
       "0   7       0"
      ]
     },
     "execution_count": 450,
     "metadata": {},
     "output_type": "execute_result"
    }
   ],
   "source": [
    "train.drop(ind_cols + reg_cols + car_cols + calc_cols, axis=1).head(1)"
   ]
  },
  {
   "cell_type": "markdown",
   "metadata": {},
   "source": [
    "NaNs are -1's, but it doesn't seem beneficial to impute these as of yet. Non-filled outscored filled in testing"
   ]
  },
  {
   "cell_type": "code",
   "execution_count": 154,
   "metadata": {
    "collapsed": true
   },
   "outputs": [],
   "source": [
    "train_spare = train.copy()"
   ]
  },
  {
   "cell_type": "code",
   "execution_count": 156,
   "metadata": {},
   "outputs": [],
   "source": [
    "train_na = train.replace(-1,np.NaN)"
   ]
  },
  {
   "cell_type": "code",
   "execution_count": 157,
   "metadata": {
    "scrolled": true
   },
   "outputs": [
    {
     "name": "stdout",
     "output_type": "stream",
     "text": [
      "ps_ind_02_cat\t\t\t216 nulls\n",
      "ps_ind_04_cat\t\t\t83 nulls\n",
      "ps_ind_05_cat\t\t\t5809 nulls\n",
      "ps_reg_03\t\t\t107772 nulls\n",
      "ps_car_01_cat\t\t\t107 nulls\n",
      "ps_car_02_cat\t\t\t5 nulls\n",
      "ps_car_03_cat\t\t\t411231 nulls\n",
      "ps_car_05_cat\t\t\t266551 nulls\n",
      "ps_car_07_cat\t\t\t11489 nulls\n",
      "ps_car_09_cat\t\t\t569 nulls\n",
      "ps_car_12\t\t\t1 nulls\n",
      "ps_car_14\t\t\t42620 nulls\n",
      "ps_car_11_ord\t\t\t5 nulls\n"
     ]
    }
   ],
   "source": [
    "null_cols = []\n",
    "for col in train_na.columns:\n",
    "    if train_na[col].isnull().sum() > 0:\n",
    "        null_cols.append(col)\n",
    "        print('{}\\t\\t\\t{} nulls'.format(col,train_na[col].isnull().sum()))"
   ]
  },
  {
   "cell_type": "markdown",
   "metadata": {},
   "source": [
    "Drop above 30% null"
   ]
  },
  {
   "cell_type": "code",
   "execution_count": 451,
   "metadata": {},
   "outputs": [],
   "source": [
    "high_null_cols = [col for col in train_na.columns[train_na.isnull().sum()/train_na.shape[0] > .3]]\n",
    "\n",
    "train_na = train_na.drop(high_null_cols,axis=1)"
   ]
  },
  {
   "cell_type": "markdown",
   "metadata": {},
   "source": [
    "Drop calc cols"
   ]
  },
  {
   "cell_type": "code",
   "execution_count": 453,
   "metadata": {
    "collapsed": true
   },
   "outputs": [],
   "source": [
    "calc_cols = [col for col in train_na.columns[train_na.columns.str.contains('calc')]]\n",
    "\n",
    "train_na = train_na.drop(calc_cols,axis=1)"
   ]
  },
  {
   "cell_type": "markdown",
   "metadata": {},
   "source": [
    "Impute bin and cat with median"
   ]
  },
  {
   "cell_type": "code",
   "execution_count": 162,
   "metadata": {},
   "outputs": [],
   "source": [
    "bin_cols = [col for col in train_na.columns[train_na.columns.str.contains('bin')]]\n",
    "cat_cols = [col for col in train_na.columns[train_na.columns.str.contains('cat')]]\n",
    "ord_cols = [col for col in train_na.columns[train_na.columns.str.contains('ord')]]"
   ]
  },
  {
   "cell_type": "code",
   "execution_count": 163,
   "metadata": {},
   "outputs": [],
   "source": [
    "bin_cat_train_na = train_na[bin_cols+cat_cols+ord_cols]"
   ]
  },
  {
   "cell_type": "code",
   "execution_count": 164,
   "metadata": {},
   "outputs": [],
   "source": [
    "from fancyimpute import SimpleFill\n",
    "bin_cat_train_na_cols = bin_cat_train_na.columns\n",
    "bin_cat_train_na = pd.DataFrame(SimpleFill(fill_method='median').complete(bin_cat_train_na.as_matrix()),columns=bin_cat_train_na_cols)"
   ]
  },
  {
   "cell_type": "markdown",
   "metadata": {},
   "source": [
    "Impute cont with mean"
   ]
  },
  {
   "cell_type": "code",
   "execution_count": 165,
   "metadata": {},
   "outputs": [],
   "source": [
    "cont_train_na = train_na.drop(bin_cols+cat_cols+ord_cols,axis=1)"
   ]
  },
  {
   "cell_type": "code",
   "execution_count": 166,
   "metadata": {
    "collapsed": true
   },
   "outputs": [],
   "source": [
    "from fancyimpute import SimpleFill\n",
    "cont_train_na_cols = cont_train_na.columns\n",
    "cont_train_na = pd.DataFrame(SimpleFill().complete(cont_train_na.as_matrix()),columns=cont_train_na_cols)"
   ]
  },
  {
   "cell_type": "markdown",
   "metadata": {},
   "source": [
    "Reconnect these"
   ]
  },
  {
   "cell_type": "code",
   "execution_count": 195,
   "metadata": {
    "collapsed": true
   },
   "outputs": [],
   "source": [
    "train_na_mean = pd.concat([cont_train_na,bin_cat_train_na],axis=1)"
   ]
  },
  {
   "cell_type": "markdown",
   "metadata": {},
   "source": [
    "Invetigate categorical"
   ]
  },
  {
   "cell_type": "code",
   "execution_count": 228,
   "metadata": {},
   "outputs": [
    {
     "name": "stdout",
     "output_type": "stream",
     "text": [
      "              count      mean\n",
      "ps_reg_01                    \n",
      "0.0         21682.0  0.039249\n",
      "0.1         43192.0  0.023824\n",
      "0.2         25113.0  0.027317\n",
      "0.3         40290.0  0.031919\n",
      "0.4         53569.0  0.034498\n",
      "0.5         32341.0  0.031168\n",
      "0.6         56243.0  0.036182\n",
      "0.7         67897.0  0.038617\n",
      "0.8         60277.0  0.038555\n",
      "0.9        194608.0  0.041134\n",
      "              count      mean\n",
      "ps_reg_02                    \n",
      "0.0         89297.0  0.033775\n",
      "0.1         31816.0  0.024296\n",
      "0.2        114886.0  0.029003\n",
      "0.3         95033.0  0.033757\n",
      "0.4         59746.0  0.036521\n",
      "0.5         36528.0  0.039312\n",
      "0.6         33474.0  0.042929\n",
      "0.7         21210.0  0.042527\n",
      "0.8         19907.0  0.044406\n",
      "0.9         16788.0  0.046938\n",
      "1.0         12570.0  0.042641\n",
      "1.1         11321.0  0.045402\n",
      "1.2         15843.0  0.050369\n",
      "1.3         11761.0  0.048550\n",
      "1.4          6877.0  0.047841\n",
      "1.5          5845.0  0.044996\n",
      "1.6          5095.0  0.056330\n",
      "1.7          2478.0  0.056497\n",
      "1.8          4737.0  0.062909\n",
      "           count      mean\n",
      "ps_reg_03                 \n",
      "0.061237     3.0  0.000000\n",
      "0.075000    22.0  0.000000\n",
      "0.132288     1.0  0.000000\n",
      "0.136931     2.0  0.000000\n",
      "0.150000     3.0  0.000000\n",
      "0.154110    14.0  0.000000\n",
      "0.196850     6.0  0.000000\n",
      "0.210654     1.0  0.000000\n",
      "0.215058     1.0  0.000000\n",
      "0.226385    14.0  0.000000\n",
      "0.227761     4.0  0.000000\n",
      "0.230489     1.0  0.000000\n",
      "0.237171     6.0  0.000000\n",
      "0.246221    26.0  0.000000\n",
      "0.251247     6.0  0.000000\n",
      "0.252488     2.0  0.000000\n",
      "0.253722     3.0  0.333333\n",
      "0.254951     3.0  0.000000\n",
      "0.256174    69.0  0.043478\n",
      "0.258602     8.0  0.125000\n",
      "0.263391     1.0  0.000000\n",
      "0.264575    12.0  0.000000\n",
      "0.265754    15.0  0.000000\n",
      "0.273861    12.0  0.000000\n",
      "0.276134     1.0  0.000000\n",
      "0.277263     5.0  0.000000\n",
      "0.278388     1.0  0.000000\n",
      "0.280624     2.0  0.000000\n",
      "0.281736     5.0  0.000000\n",
      "0.282843     1.0  0.000000\n",
      "...          ...       ...\n",
      "2.411949    17.0  0.117647\n",
      "2.420615     3.0  0.000000\n",
      "2.421518     3.0  0.000000\n",
      "2.444637     2.0  0.000000\n",
      "2.449362     4.0  0.000000\n",
      "2.451530     2.0  0.000000\n",
      "2.465005     6.0  0.000000\n",
      "2.472726    33.0  0.060606\n",
      "2.486715     1.0  1.000000\n",
      "2.497749    10.0  0.100000\n",
      "2.506990     9.0  0.000000\n",
      "2.515949     9.0  0.111111\n",
      "2.525124    11.0  0.181818\n",
      "2.539685    16.0  0.000000\n",
      "2.576092     7.0  0.000000\n",
      "2.604083    22.0  0.045455\n",
      "2.640786     3.0  0.000000\n",
      "2.643624     8.0  0.000000\n",
      "2.687820    25.0  0.040000\n",
      "2.687936     3.0  0.000000\n",
      "2.748977     6.0  0.166667\n",
      "2.766315     3.0  0.000000\n",
      "2.850877     5.0  0.200000\n",
      "2.863564    13.0  0.076923\n",
      "2.924359     1.0  0.000000\n",
      "2.947457    20.0  0.050000\n",
      "3.197753     2.0  0.500000\n",
      "3.490791     4.0  0.000000\n",
      "3.787727     1.0  0.000000\n",
      "4.037945     3.0  0.000000\n",
      "\n",
      "[5013 rows x 2 columns]\n"
     ]
    }
   ],
   "source": [
    "for col in reg_cols:\n",
    "    print(train_na_mean.groupby(col)['target'].describe().unstack()[['count','mean']])#.unstack())"
   ]
  },
  {
   "cell_type": "code",
   "execution_count": 454,
   "metadata": {},
   "outputs": [
    {
     "data": {
      "text/html": [
       "<div>\n",
       "<table border=\"1\" class=\"dataframe\">\n",
       "  <thead>\n",
       "    <tr style=\"text-align: right;\">\n",
       "      <th></th>\n",
       "      <th>count</th>\n",
       "      <th>mean</th>\n",
       "    </tr>\n",
       "    <tr>\n",
       "      <th>ps_ind_01_ord</th>\n",
       "      <th></th>\n",
       "      <th></th>\n",
       "    </tr>\n",
       "  </thead>\n",
       "  <tbody>\n",
       "    <tr>\n",
       "      <th>0</th>\n",
       "      <td>187594.0</td>\n",
       "      <td>0.033221</td>\n",
       "    </tr>\n",
       "    <tr>\n",
       "      <th>1</th>\n",
       "      <td>143984.0</td>\n",
       "      <td>0.033629</td>\n",
       "    </tr>\n",
       "    <tr>\n",
       "      <th>2</th>\n",
       "      <td>82468.0</td>\n",
       "      <td>0.036863</td>\n",
       "    </tr>\n",
       "    <tr>\n",
       "      <th>3</th>\n",
       "      <td>51193.0</td>\n",
       "      <td>0.040963</td>\n",
       "    </tr>\n",
       "    <tr>\n",
       "      <th>4</th>\n",
       "      <td>33524.0</td>\n",
       "      <td>0.045132</td>\n",
       "    </tr>\n",
       "    <tr>\n",
       "      <th>5</th>\n",
       "      <td>61464.0</td>\n",
       "      <td>0.040316</td>\n",
       "    </tr>\n",
       "    <tr>\n",
       "      <th>6</th>\n",
       "      <td>17682.0</td>\n",
       "      <td>0.043151</td>\n",
       "    </tr>\n",
       "    <tr>\n",
       "      <th>7</th>\n",
       "      <td>17303.0</td>\n",
       "      <td>0.042131</td>\n",
       "    </tr>\n",
       "  </tbody>\n",
       "</table>\n",
       "</div>"
      ],
      "text/plain": [
       "                  count      mean\n",
       "ps_ind_01_ord                    \n",
       "0              187594.0  0.033221\n",
       "1              143984.0  0.033629\n",
       "2               82468.0  0.036863\n",
       "3               51193.0  0.040963\n",
       "4               33524.0  0.045132\n",
       "5               61464.0  0.040316\n",
       "6               17682.0  0.043151\n",
       "7               17303.0  0.042131"
      ]
     },
     "execution_count": 454,
     "metadata": {},
     "output_type": "execute_result"
    }
   ],
   "source": [
    "train.groupby(['ps_ind_01_ord'])['target'].describe().unstack()[['count','mean']]"
   ]
  },
  {
   "cell_type": "code",
   "execution_count": 432,
   "metadata": {},
   "outputs": [
    {
     "data": {
      "text/html": [
       "<div>\n",
       "<table border=\"1\" class=\"dataframe\">\n",
       "  <thead>\n",
       "    <tr style=\"text-align: right;\">\n",
       "      <th></th>\n",
       "      <th>sum</th>\n",
       "      <th>count</th>\n",
       "      <th>mean</th>\n",
       "    </tr>\n",
       "    <tr>\n",
       "      <th>ps_ind_01_ord</th>\n",
       "      <th></th>\n",
       "      <th></th>\n",
       "      <th></th>\n",
       "    </tr>\n",
       "  </thead>\n",
       "  <tbody>\n",
       "    <tr>\n",
       "      <th>0</th>\n",
       "      <td>6232</td>\n",
       "      <td>187594</td>\n",
       "      <td>0.033221</td>\n",
       "    </tr>\n",
       "    <tr>\n",
       "      <th>1</th>\n",
       "      <td>4842</td>\n",
       "      <td>143984</td>\n",
       "      <td>0.033629</td>\n",
       "    </tr>\n",
       "    <tr>\n",
       "      <th>2</th>\n",
       "      <td>3040</td>\n",
       "      <td>82468</td>\n",
       "      <td>0.036863</td>\n",
       "    </tr>\n",
       "    <tr>\n",
       "      <th>3</th>\n",
       "      <td>2097</td>\n",
       "      <td>51193</td>\n",
       "      <td>0.040963</td>\n",
       "    </tr>\n",
       "    <tr>\n",
       "      <th>4</th>\n",
       "      <td>1513</td>\n",
       "      <td>33524</td>\n",
       "      <td>0.045132</td>\n",
       "    </tr>\n",
       "    <tr>\n",
       "      <th>5</th>\n",
       "      <td>2478</td>\n",
       "      <td>61464</td>\n",
       "      <td>0.040316</td>\n",
       "    </tr>\n",
       "    <tr>\n",
       "      <th>6</th>\n",
       "      <td>763</td>\n",
       "      <td>17682</td>\n",
       "      <td>0.043151</td>\n",
       "    </tr>\n",
       "    <tr>\n",
       "      <th>7</th>\n",
       "      <td>729</td>\n",
       "      <td>17303</td>\n",
       "      <td>0.042131</td>\n",
       "    </tr>\n",
       "  </tbody>\n",
       "</table>\n",
       "</div>"
      ],
      "text/plain": [
       "                sum   count      mean\n",
       "ps_ind_01_ord                        \n",
       "0              6232  187594  0.033221\n",
       "1              4842  143984  0.033629\n",
       "2              3040   82468  0.036863\n",
       "3              2097   51193  0.040963\n",
       "4              1513   33524  0.045132\n",
       "5              2478   61464  0.040316\n",
       "6               763   17682  0.043151\n",
       "7               729   17303  0.042131"
      ]
     },
     "execution_count": 432,
     "metadata": {},
     "output_type": "execute_result"
    }
   ],
   "source": [
    "train.groupby(['ps_ind_01_ord'])['target'].agg({'sum' : 'sum', 'count' : 'count', 'mean' : 'mean'})#.describe().unstack()#[['count','mean']]"
   ]
  },
  {
   "cell_type": "markdown",
   "metadata": {},
   "source": [
    "Take a look at the average outcome for each value within null_cols"
   ]
  },
  {
   "cell_type": "code",
   "execution_count": 456,
   "metadata": {},
   "outputs": [
    {
     "name": "stdout",
     "output_type": "stream",
     "text": [
      "                  count      mean\n",
      "ps_ind_02_cat                    \n",
      "-1                216.0  0.185185\n",
      " 1             431859.0  0.035725\n",
      " 2             123573.0  0.038139\n",
      " 3              28186.0  0.037217\n",
      " 4              11378.0  0.040780\n",
      "                  count      mean\n",
      "ps_ind_04_cat                    \n",
      "-1                 83.0  0.397590\n",
      " 0             346965.0  0.034790\n",
      " 1             248164.0  0.038644\n",
      "                  count      mean\n",
      "ps_ind_05_cat                    \n",
      "-1               5809.0  0.083319\n",
      " 0             528009.0  0.033865\n",
      " 1               8322.0  0.047825\n",
      " 2               4184.0  0.075526\n",
      " 3               8233.0  0.042998\n",
      " 4              18344.0  0.052061\n",
      " 5               1649.0  0.048514\n",
      " 6              20662.0  0.059336\n",
      "              count      mean\n",
      "ps_reg_03                    \n",
      "-1.000000  107772.0  0.028393\n",
      " 0.061237       3.0  0.000000\n",
      " 0.075000      22.0  0.000000\n",
      " 0.132288       1.0  0.000000\n",
      " 0.136931       2.0  0.000000\n",
      " 0.150000       3.0  0.000000\n",
      " 0.154110      14.0  0.000000\n",
      " 0.196850       6.0  0.000000\n",
      " 0.210654       1.0  0.000000\n",
      " 0.215058       1.0  0.000000\n",
      " 0.226385      14.0  0.000000\n",
      " 0.227761       4.0  0.000000\n",
      " 0.230489       1.0  0.000000\n",
      " 0.237171       6.0  0.000000\n",
      " 0.246221      26.0  0.000000\n",
      " 0.251247       6.0  0.000000\n",
      " 0.252488       2.0  0.000000\n",
      " 0.253722       3.0  0.333333\n",
      " 0.254951       3.0  0.000000\n",
      " 0.256174      69.0  0.043478\n",
      " 0.258602       8.0  0.125000\n",
      " 0.263391       1.0  0.000000\n",
      " 0.264575      12.0  0.000000\n",
      " 0.265754      15.0  0.000000\n",
      " 0.273861      12.0  0.000000\n",
      " 0.276134       1.0  0.000000\n",
      " 0.277263       5.0  0.000000\n",
      " 0.278388       1.0  0.000000\n",
      " 0.280624       2.0  0.000000\n",
      " 0.281736       5.0  0.000000\n",
      "...             ...       ...\n",
      " 2.411949      17.0  0.117647\n",
      " 2.420615       3.0  0.000000\n",
      " 2.421518       3.0  0.000000\n",
      " 2.444637       2.0  0.000000\n",
      " 2.449362       4.0  0.000000\n",
      " 2.451530       2.0  0.000000\n",
      " 2.465005       6.0  0.000000\n",
      " 2.472726      33.0  0.060606\n",
      " 2.486715       1.0  1.000000\n",
      " 2.497749      10.0  0.100000\n",
      " 2.506990       9.0  0.000000\n",
      " 2.515949       9.0  0.111111\n",
      " 2.525124      11.0  0.181818\n",
      " 2.539685      16.0  0.000000\n",
      " 2.576092       7.0  0.000000\n",
      " 2.604083      22.0  0.045455\n",
      " 2.640786       3.0  0.000000\n",
      " 2.643624       8.0  0.000000\n",
      " 2.687820      25.0  0.040000\n",
      " 2.687936       3.0  0.000000\n",
      " 2.748977       6.0  0.166667\n",
      " 2.766315       3.0  0.000000\n",
      " 2.850877       5.0  0.200000\n",
      " 2.863564      13.0  0.076923\n",
      " 2.924359       1.0  0.000000\n",
      " 2.947457      20.0  0.050000\n",
      " 3.197753       2.0  0.500000\n",
      " 3.490791       4.0  0.000000\n",
      " 3.787727       1.0  0.000000\n",
      " 4.037945       3.0  0.000000\n",
      "\n",
      "[5013 rows x 2 columns]\n",
      "                  count      mean\n",
      "ps_car_01_cat                    \n",
      "-1                107.0  0.317757\n",
      " 0               5904.0  0.043869\n",
      " 1               1367.0  0.046818\n",
      " 2               2144.0  0.042910\n",
      " 3               6658.0  0.037549\n",
      " 4              26174.0  0.039161\n",
      " 5              18142.0  0.039246\n",
      " 6              62393.0  0.029763\n",
      " 7             179247.0  0.028770\n",
      " 8              15093.0  0.043398\n",
      " 9              20323.0  0.054421\n",
      " 10             50087.0  0.036976\n",
      " 11            207573.0  0.041581\n",
      "                  count      mean\n",
      "ps_car_02_cat                    \n",
      "-1                  5.0  0.000000\n",
      " 0             101217.0  0.049507\n",
      " 1             493990.0  0.033772\n",
      "                  count      mean\n",
      "ps_car_03_cat                    \n",
      "-1             411231.0  0.032707\n",
      " 0              73272.0  0.039538\n",
      " 1             110709.0  0.048298\n",
      "                  count      mean\n",
      "ps_car_05_cat                    \n",
      "-1             266551.0  0.031709\n",
      " 0             155994.0  0.040111\n",
      " 1             172667.0  0.040454\n",
      "                  count      mean\n",
      "ps_car_07_cat                    \n",
      "-1              11489.0  0.078162\n",
      " 0              30575.0  0.051186\n",
      " 1             553148.0  0.034766\n",
      "                  count      mean\n",
      "ps_car_09_cat                    \n",
      "-1                569.0  0.091388\n",
      " 0             194518.0  0.033344\n",
      " 1              29080.0  0.056946\n",
      " 2             353482.0  0.036319\n",
      " 3              14756.0  0.035104\n",
      " 4               2807.0  0.051300\n",
      "              count      mean\n",
      "ps_car_12                    \n",
      "-1.000000       1.0  0.000000\n",
      " 0.100000       2.0  0.000000\n",
      " 0.141421      53.0  0.056604\n",
      " 0.148324       2.0  0.000000\n",
      " 0.173205       3.0  0.000000\n",
      " 0.282843       1.0  0.000000\n",
      " 0.308869       4.0  0.000000\n",
      " 0.315278    3594.0  0.021981\n",
      " 0.315595    4475.0  0.018101\n",
      " 0.315753     424.0  0.023585\n",
      " 0.316070   23646.0  0.024402\n",
      " 0.316228  170579.0  0.029957\n",
      " 0.331662     377.0  0.034483\n",
      " 0.346410       1.0  0.000000\n",
      " 0.351994       2.0  0.000000\n",
      " 0.352420      53.0  0.018868\n",
      " 0.360000       1.0  0.000000\n",
      " 0.360416      33.0  0.000000\n",
      " 0.360555    4475.0  0.038436\n",
      " 0.368782     500.0  0.020000\n",
      " 0.370405       1.0  0.000000\n",
      " 0.372559      42.0  0.023810\n",
      " 0.372693      70.0  0.014286\n",
      " 0.374166   98598.0  0.036177\n",
      " 0.386394       3.0  0.333333\n",
      " 0.386911     448.0  0.020089\n",
      " 0.387298   14098.0  0.047454\n",
      " 0.394335      72.0  0.013889\n",
      " 0.394715     283.0  0.014134\n",
      " 0.395221      15.0  0.000000\n",
      "...             ...       ...\n",
      " 0.645910      11.0  0.272727\n",
      " 0.647688      46.0  0.000000\n",
      " 0.647765       1.0  0.000000\n",
      " 0.647920      24.0  0.041667\n",
      " 0.647997       2.0  0.500000\n",
      " 0.648074      88.0  0.068182\n",
      " 0.655591      81.0  0.012346\n",
      " 0.655668      17.0  0.058824\n",
      " 0.655744       1.0  0.000000\n",
      " 0.663174       9.0  0.111111\n",
      " 0.663325      62.0  0.080645\n",
      " 0.670820       1.0  0.000000\n",
      " 0.678233       6.0  0.166667\n",
      " 0.685638       5.0  0.000000\n",
      " 0.692820      39.0  0.076923\n",
      " 0.699428       1.0  0.000000\n",
      " 0.700928       6.0  0.000000\n",
      " 0.704699       4.0  0.000000\n",
      " 0.705195       1.0  0.000000\n",
      " 0.707107      28.0  0.035714\n",
      " 0.721110       5.0  0.000000\n",
      " 0.723187       4.0  0.000000\n",
      " 0.741620       6.0  0.000000\n",
      " 0.754983      13.0  0.076923\n",
      " 0.768115      29.0  0.137931\n",
      " 0.772787       1.0  0.000000\n",
      " 0.781025       2.0  0.500000\n",
      " 0.787401      21.0  0.095238\n",
      " 0.818535      49.0  0.142857\n",
      " 1.264911      38.0  0.052632\n",
      "\n",
      "[184 rows x 2 columns]\n",
      "             count      mean\n",
      "ps_car_14                   \n",
      "-1.000000  42620.0  0.040427\n",
      " 0.109545     11.0  0.000000\n",
      " 0.118322     56.0  0.053571\n",
      " 0.136015     12.0  0.000000\n",
      " 0.200000    111.0  0.054054\n",
      " 0.207846      5.0  0.000000\n",
      " 0.209762     97.0  0.072165\n",
      " 0.210950     37.0  0.000000\n",
      " 0.213073      1.0  0.000000\n",
      " 0.217945     12.0  0.000000\n",
      " 0.221359     27.0  0.111111\n",
      " 0.223159      2.0  0.000000\n",
      " 0.223607    184.0  0.043478\n",
      " 0.224277     10.0  0.000000\n",
      " 0.230217     16.0  0.000000\n",
      " 0.233238     40.0  0.100000\n",
      " 0.233452     36.0  0.000000\n",
      " 0.234521      8.0  0.000000\n",
      " 0.248998     29.0  0.068966\n",
      " 0.261725    132.0  0.083333\n",
      " 0.264575      6.0  0.333333\n",
      " 0.273861     36.0  0.083333\n",
      " 0.277489     34.0  0.058824\n",
      " 0.279285      1.0  0.000000\n",
      " 0.281957      1.0  0.000000\n",
      " 0.282843     33.0  0.090909\n",
      " 0.283725    158.0  0.025316\n",
      " 0.285482      5.0  0.000000\n",
      " 0.286007      5.0  0.000000\n",
      " 0.286356     11.0  0.272727\n",
      "...            ...       ...\n",
      " 0.548635      2.0  0.000000\n",
      " 0.549545    330.0  0.033333\n",
      " 0.550454     88.0  0.090909\n",
      " 0.550908      6.0  0.166667\n",
      " 0.551362     14.0  0.071429\n",
      " 0.552268     33.0  0.000000\n",
      " 0.554076     16.0  0.187500\n",
      " 0.554346      1.0  0.000000\n",
      " 0.554527      2.0  0.500000\n",
      " 0.554977      2.0  0.000000\n",
      " 0.556776    510.0  0.074510\n",
      " 0.559017      4.0  0.250000\n",
      " 0.560357     12.0  0.000000\n",
      " 0.561249      1.0  0.000000\n",
      " 0.565685    722.0  0.060942\n",
      " 0.565951      6.0  0.000000\n",
      " 0.566569     38.0  0.000000\n",
      " 0.567891      2.0  0.500000\n",
      " 0.568331     81.0  0.086420\n",
      " 0.570088      2.0  0.000000\n",
      " 0.574456      5.0  0.000000\n",
      " 0.575326     62.0  0.096774\n",
      " 0.583095      5.0  0.000000\n",
      " 0.587367      1.0  0.000000\n",
      " 0.591608     33.0  0.030303\n",
      " 0.595819      1.0  0.000000\n",
      " 0.603324      1.0  0.000000\n",
      " 0.609918      6.0  0.000000\n",
      " 0.631664      8.0  0.125000\n",
      " 0.636396      3.0  0.000000\n",
      "\n",
      "[850 rows x 2 columns]\n",
      "                  count      mean\n",
      "ps_car_11_ord                    \n",
      "-1                  5.0  0.000000\n",
      " 0              25983.0  0.047069\n",
      " 1              60952.0  0.027267\n",
      " 2             189353.0  0.038584\n",
      " 3             318919.0  0.036069\n"
     ]
    }
   ],
   "source": [
    "for col in null_cols:\n",
    "#    train.groupby([col])['target'].describe().unstack()[['mean']].plot()\n",
    "    print(train.groupby([col])['target'].describe().unstack()[['count','mean']])"
   ]
  },
  {
   "cell_type": "code",
   "execution_count": 312,
   "metadata": {},
   "outputs": [
    {
     "data": {
      "text/plain": [
       "0         0.1600\n",
       "1         0.1000\n",
       "2         0.1000\n",
       "3         0.1400\n",
       "4         0.0999\n",
       "5         0.1989\n",
       "6         0.1000\n",
       "7         0.1998\n",
       "8         0.1600\n",
       "9         0.2000\n",
       "10        0.2000\n",
       "11        0.1400\n",
       "12        0.1400\n",
       "13        0.1600\n",
       "14        0.1000\n",
       "15        0.3000\n",
       "16        0.1000\n",
       "17        0.1000\n",
       "18        0.1600\n",
       "19        0.0994\n",
       "20        0.0999\n",
       "21        0.1000\n",
       "22        0.2000\n",
       "23        0.1600\n",
       "24        0.1800\n",
       "25        0.2800\n",
       "26        0.2000\n",
       "27        0.1000\n",
       "28        0.2000\n",
       "29        0.1400\n",
       "           ...  \n",
       "595182    0.1000\n",
       "595183    0.1000\n",
       "595184    0.1400\n",
       "595185    0.1000\n",
       "595186    0.1000\n",
       "595187    0.1400\n",
       "595188    0.1000\n",
       "595189    0.1400\n",
       "595190    0.0999\n",
       "595191    0.1600\n",
       "595192    0.1000\n",
       "595193    0.1600\n",
       "595194    0.1400\n",
       "595195    0.1400\n",
       "595196    0.1400\n",
       "595197    0.1600\n",
       "595198    0.1400\n",
       "595199    0.1800\n",
       "595200    0.1600\n",
       "595201    0.1000\n",
       "595202    0.2000\n",
       "595203    0.1600\n",
       "595204    0.1400\n",
       "595205    0.1400\n",
       "595206    0.2000\n",
       "595207    0.1400\n",
       "595208    0.1500\n",
       "595209    0.1580\n",
       "595210    0.1400\n",
       "595211    0.1600\n",
       "Name: ps_car_12, dtype: float64"
      ]
     },
     "execution_count": 312,
     "metadata": {},
     "output_type": "execute_result"
    }
   ],
   "source": [
    "train['ps_car_12'] ** 2"
   ]
  },
  {
   "cell_type": "code",
   "execution_count": 308,
   "metadata": {},
   "outputs": [
    {
     "data": {
      "text/html": [
       "<div>\n",
       "<table border=\"1\" class=\"dataframe\">\n",
       "  <thead>\n",
       "    <tr style=\"text-align: right;\">\n",
       "      <th></th>\n",
       "      <th>mean</th>\n",
       "    </tr>\n",
       "    <tr>\n",
       "      <th>ps_car_12</th>\n",
       "      <th></th>\n",
       "    </tr>\n",
       "  </thead>\n",
       "  <tbody>\n",
       "    <tr>\n",
       "      <th>-1.000000</th>\n",
       "      <td>0.000000</td>\n",
       "    </tr>\n",
       "    <tr>\n",
       "      <th>0.100000</th>\n",
       "      <td>0.000000</td>\n",
       "    </tr>\n",
       "    <tr>\n",
       "      <th>0.141421</th>\n",
       "      <td>0.056604</td>\n",
       "    </tr>\n",
       "    <tr>\n",
       "      <th>0.148324</th>\n",
       "      <td>0.000000</td>\n",
       "    </tr>\n",
       "    <tr>\n",
       "      <th>0.173205</th>\n",
       "      <td>0.000000</td>\n",
       "    </tr>\n",
       "    <tr>\n",
       "      <th>0.282843</th>\n",
       "      <td>0.000000</td>\n",
       "    </tr>\n",
       "    <tr>\n",
       "      <th>0.308869</th>\n",
       "      <td>0.000000</td>\n",
       "    </tr>\n",
       "    <tr>\n",
       "      <th>0.315278</th>\n",
       "      <td>0.021981</td>\n",
       "    </tr>\n",
       "    <tr>\n",
       "      <th>0.315595</th>\n",
       "      <td>0.018101</td>\n",
       "    </tr>\n",
       "    <tr>\n",
       "      <th>0.315753</th>\n",
       "      <td>0.023585</td>\n",
       "    </tr>\n",
       "    <tr>\n",
       "      <th>0.316070</th>\n",
       "      <td>0.024402</td>\n",
       "    </tr>\n",
       "    <tr>\n",
       "      <th>0.316228</th>\n",
       "      <td>0.029957</td>\n",
       "    </tr>\n",
       "    <tr>\n",
       "      <th>0.331662</th>\n",
       "      <td>0.034483</td>\n",
       "    </tr>\n",
       "    <tr>\n",
       "      <th>0.346410</th>\n",
       "      <td>0.000000</td>\n",
       "    </tr>\n",
       "    <tr>\n",
       "      <th>0.351994</th>\n",
       "      <td>0.000000</td>\n",
       "    </tr>\n",
       "    <tr>\n",
       "      <th>0.352420</th>\n",
       "      <td>0.018868</td>\n",
       "    </tr>\n",
       "    <tr>\n",
       "      <th>0.360000</th>\n",
       "      <td>0.000000</td>\n",
       "    </tr>\n",
       "    <tr>\n",
       "      <th>0.360416</th>\n",
       "      <td>0.000000</td>\n",
       "    </tr>\n",
       "    <tr>\n",
       "      <th>0.360555</th>\n",
       "      <td>0.038436</td>\n",
       "    </tr>\n",
       "    <tr>\n",
       "      <th>0.368782</th>\n",
       "      <td>0.020000</td>\n",
       "    </tr>\n",
       "    <tr>\n",
       "      <th>0.370405</th>\n",
       "      <td>0.000000</td>\n",
       "    </tr>\n",
       "    <tr>\n",
       "      <th>0.372559</th>\n",
       "      <td>0.023810</td>\n",
       "    </tr>\n",
       "    <tr>\n",
       "      <th>0.372693</th>\n",
       "      <td>0.014286</td>\n",
       "    </tr>\n",
       "    <tr>\n",
       "      <th>0.374166</th>\n",
       "      <td>0.036177</td>\n",
       "    </tr>\n",
       "    <tr>\n",
       "      <th>0.386394</th>\n",
       "      <td>0.333333</td>\n",
       "    </tr>\n",
       "    <tr>\n",
       "      <th>0.386911</th>\n",
       "      <td>0.020089</td>\n",
       "    </tr>\n",
       "    <tr>\n",
       "      <th>0.387298</th>\n",
       "      <td>0.047454</td>\n",
       "    </tr>\n",
       "    <tr>\n",
       "      <th>0.394335</th>\n",
       "      <td>0.013889</td>\n",
       "    </tr>\n",
       "    <tr>\n",
       "      <th>0.394715</th>\n",
       "      <td>0.014134</td>\n",
       "    </tr>\n",
       "    <tr>\n",
       "      <th>0.395221</th>\n",
       "      <td>0.000000</td>\n",
       "    </tr>\n",
       "    <tr>\n",
       "      <th>...</th>\n",
       "      <td>...</td>\n",
       "    </tr>\n",
       "    <tr>\n",
       "      <th>0.645910</th>\n",
       "      <td>0.272727</td>\n",
       "    </tr>\n",
       "    <tr>\n",
       "      <th>0.647688</th>\n",
       "      <td>0.000000</td>\n",
       "    </tr>\n",
       "    <tr>\n",
       "      <th>0.647765</th>\n",
       "      <td>0.000000</td>\n",
       "    </tr>\n",
       "    <tr>\n",
       "      <th>0.647920</th>\n",
       "      <td>0.041667</td>\n",
       "    </tr>\n",
       "    <tr>\n",
       "      <th>0.647997</th>\n",
       "      <td>0.500000</td>\n",
       "    </tr>\n",
       "    <tr>\n",
       "      <th>0.648074</th>\n",
       "      <td>0.068182</td>\n",
       "    </tr>\n",
       "    <tr>\n",
       "      <th>0.655591</th>\n",
       "      <td>0.012346</td>\n",
       "    </tr>\n",
       "    <tr>\n",
       "      <th>0.655668</th>\n",
       "      <td>0.058824</td>\n",
       "    </tr>\n",
       "    <tr>\n",
       "      <th>0.655744</th>\n",
       "      <td>0.000000</td>\n",
       "    </tr>\n",
       "    <tr>\n",
       "      <th>0.663174</th>\n",
       "      <td>0.111111</td>\n",
       "    </tr>\n",
       "    <tr>\n",
       "      <th>0.663325</th>\n",
       "      <td>0.080645</td>\n",
       "    </tr>\n",
       "    <tr>\n",
       "      <th>0.670820</th>\n",
       "      <td>0.000000</td>\n",
       "    </tr>\n",
       "    <tr>\n",
       "      <th>0.678233</th>\n",
       "      <td>0.166667</td>\n",
       "    </tr>\n",
       "    <tr>\n",
       "      <th>0.685638</th>\n",
       "      <td>0.000000</td>\n",
       "    </tr>\n",
       "    <tr>\n",
       "      <th>0.692820</th>\n",
       "      <td>0.076923</td>\n",
       "    </tr>\n",
       "    <tr>\n",
       "      <th>0.699428</th>\n",
       "      <td>0.000000</td>\n",
       "    </tr>\n",
       "    <tr>\n",
       "      <th>0.700928</th>\n",
       "      <td>0.000000</td>\n",
       "    </tr>\n",
       "    <tr>\n",
       "      <th>0.704699</th>\n",
       "      <td>0.000000</td>\n",
       "    </tr>\n",
       "    <tr>\n",
       "      <th>0.705195</th>\n",
       "      <td>0.000000</td>\n",
       "    </tr>\n",
       "    <tr>\n",
       "      <th>0.707107</th>\n",
       "      <td>0.035714</td>\n",
       "    </tr>\n",
       "    <tr>\n",
       "      <th>0.721110</th>\n",
       "      <td>0.000000</td>\n",
       "    </tr>\n",
       "    <tr>\n",
       "      <th>0.723187</th>\n",
       "      <td>0.000000</td>\n",
       "    </tr>\n",
       "    <tr>\n",
       "      <th>0.741620</th>\n",
       "      <td>0.000000</td>\n",
       "    </tr>\n",
       "    <tr>\n",
       "      <th>0.754983</th>\n",
       "      <td>0.076923</td>\n",
       "    </tr>\n",
       "    <tr>\n",
       "      <th>0.768115</th>\n",
       "      <td>0.137931</td>\n",
       "    </tr>\n",
       "    <tr>\n",
       "      <th>0.772787</th>\n",
       "      <td>0.000000</td>\n",
       "    </tr>\n",
       "    <tr>\n",
       "      <th>0.781025</th>\n",
       "      <td>0.500000</td>\n",
       "    </tr>\n",
       "    <tr>\n",
       "      <th>0.787401</th>\n",
       "      <td>0.095238</td>\n",
       "    </tr>\n",
       "    <tr>\n",
       "      <th>0.818535</th>\n",
       "      <td>0.142857</td>\n",
       "    </tr>\n",
       "    <tr>\n",
       "      <th>1.264911</th>\n",
       "      <td>0.052632</td>\n",
       "    </tr>\n",
       "  </tbody>\n",
       "</table>\n",
       "<p>184 rows × 1 columns</p>\n",
       "</div>"
      ],
      "text/plain": [
       "               mean\n",
       "ps_car_12          \n",
       "-1.000000  0.000000\n",
       " 0.100000  0.000000\n",
       " 0.141421  0.056604\n",
       " 0.148324  0.000000\n",
       " 0.173205  0.000000\n",
       " 0.282843  0.000000\n",
       " 0.308869  0.000000\n",
       " 0.315278  0.021981\n",
       " 0.315595  0.018101\n",
       " 0.315753  0.023585\n",
       " 0.316070  0.024402\n",
       " 0.316228  0.029957\n",
       " 0.331662  0.034483\n",
       " 0.346410  0.000000\n",
       " 0.351994  0.000000\n",
       " 0.352420  0.018868\n",
       " 0.360000  0.000000\n",
       " 0.360416  0.000000\n",
       " 0.360555  0.038436\n",
       " 0.368782  0.020000\n",
       " 0.370405  0.000000\n",
       " 0.372559  0.023810\n",
       " 0.372693  0.014286\n",
       " 0.374166  0.036177\n",
       " 0.386394  0.333333\n",
       " 0.386911  0.020089\n",
       " 0.387298  0.047454\n",
       " 0.394335  0.013889\n",
       " 0.394715  0.014134\n",
       " 0.395221  0.000000\n",
       "...             ...\n",
       " 0.645910  0.272727\n",
       " 0.647688  0.000000\n",
       " 0.647765  0.000000\n",
       " 0.647920  0.041667\n",
       " 0.647997  0.500000\n",
       " 0.648074  0.068182\n",
       " 0.655591  0.012346\n",
       " 0.655668  0.058824\n",
       " 0.655744  0.000000\n",
       " 0.663174  0.111111\n",
       " 0.663325  0.080645\n",
       " 0.670820  0.000000\n",
       " 0.678233  0.166667\n",
       " 0.685638  0.000000\n",
       " 0.692820  0.076923\n",
       " 0.699428  0.000000\n",
       " 0.700928  0.000000\n",
       " 0.704699  0.000000\n",
       " 0.705195  0.000000\n",
       " 0.707107  0.035714\n",
       " 0.721110  0.000000\n",
       " 0.723187  0.000000\n",
       " 0.741620  0.000000\n",
       " 0.754983  0.076923\n",
       " 0.768115  0.137931\n",
       " 0.772787  0.000000\n",
       " 0.781025  0.500000\n",
       " 0.787401  0.095238\n",
       " 0.818535  0.142857\n",
       " 1.264911  0.052632\n",
       "\n",
       "[184 rows x 1 columns]"
      ]
     },
     "execution_count": 308,
     "metadata": {},
     "output_type": "execute_result"
    }
   ],
   "source": [
    "train.groupby(['ps_car_12'])['target'].describe().unstack()[['mean']]"
   ]
  },
  {
   "cell_type": "markdown",
   "metadata": {},
   "source": [
    "ps_car_09_cat"
   ]
  },
  {
   "cell_type": "code",
   "execution_count": null,
   "metadata": {
    "collapsed": true
   },
   "outputs": [],
   "source": [
    "ps_car_09_cat_mappings = {}\n",
    "ps_car_09_cat_mappings[4] = 1\n",
    "ps_car_09_cat_mappings[3] = 1\n",
    "ps_car_09_cat_mappings[2] = 1\n",
    "ps_car_09_cat_mappings[1] = 1\n",
    "ps_car_09_cat_mappings[0] = 0\n",
    "ps_car_09_cat_mappings[-1] = 1"
   ]
  },
  {
   "cell_type": "markdown",
   "metadata": {},
   "source": [
    "ps_car_07_cat"
   ]
  },
  {
   "cell_type": "code",
   "execution_count": 302,
   "metadata": {
    "collapsed": true
   },
   "outputs": [],
   "source": [
    "ps_car_07_cat_mappings = {}\n",
    "ps_car_07_cat_mappings[1] = 0\n",
    "ps_car_07_cat_mappings[0] = 1\n",
    "ps_car_07_cat_mappings[-1] = 1"
   ]
  },
  {
   "cell_type": "code",
   "execution_count": null,
   "metadata": {
    "collapsed": true
   },
   "outputs": [],
   "source": []
  },
  {
   "cell_type": "markdown",
   "metadata": {},
   "source": [
    "ps_car_05_cat"
   ]
  },
  {
   "cell_type": "code",
   "execution_count": 301,
   "metadata": {
    "collapsed": true
   },
   "outputs": [],
   "source": [
    "ps_car_05_cat_mappings = {}\n",
    "ps_car_05_cat_mappings[1] = 1\n",
    "ps_car_05_cat_mappings[0] = 1\n",
    "ps_car_05_cat_mappings[-1] = 0"
   ]
  },
  {
   "cell_type": "code",
   "execution_count": null,
   "metadata": {
    "collapsed": true
   },
   "outputs": [],
   "source": [
    "train['ps_car_05_cat_bin'] = train['ps_car_05_cat'].replace(ps_car_03_cat_mappings)"
   ]
  },
  {
   "cell_type": "markdown",
   "metadata": {},
   "source": [
    "ps_car_03_cat"
   ]
  },
  {
   "cell_type": "code",
   "execution_count": 292,
   "metadata": {
    "collapsed": true
   },
   "outputs": [],
   "source": [
    "ps_car_03_cat_mappings = {}\n",
    "ps_car_03_cat_mappings[1] = 1\n",
    "ps_car_03_cat_mappings[0] = 1\n",
    "ps_car_03_cat_mappings[-1] = 0"
   ]
  },
  {
   "cell_type": "code",
   "execution_count": 293,
   "metadata": {
    "collapsed": true
   },
   "outputs": [],
   "source": [
    "train['ps_car_03_cat_bin'] = train['ps_car_03_cat'].map(ps_car_03_cat_mappings)"
   ]
  },
  {
   "cell_type": "code",
   "execution_count": 287,
   "metadata": {
    "scrolled": true
   },
   "outputs": [
    {
     "data": {
      "text/plain": [
       "<matplotlib.axes._subplots.AxesSubplot at 0x130b96940>"
      ]
     },
     "execution_count": 287,
     "metadata": {},
     "output_type": "execute_result"
    },
    {
     "data": {
      "image/png": "[encoded data removed]",
      "text/plain": [
       "<matplotlib.figure.Figure at 0x114d660b8>"
      ]
     },
     "metadata": {},
     "output_type": "display_data"
    }
   ],
   "source": [
    "train.groupby(['ps_car_09_cat'])['target'].describe().unstack()[['mean']].plot()"
   ]
  },
  {
   "cell_type": "code",
   "execution_count": 318,
   "metadata": {},
   "outputs": [
    {
     "data": {
      "text/plain": [
       "0         0.718070\n",
       "1         0.766078\n",
       "2        -1.000000\n",
       "3         0.580948\n",
       "4         0.840759\n",
       "5         2.332649\n",
       "6         0.617454\n",
       "7         0.607248\n",
       "8         0.901388\n",
       "9         2.316652\n",
       "10        0.795692\n",
       "11        0.378319\n",
       "12        0.548293\n",
       "13        0.684197\n",
       "14        1.052972\n",
       "15       -1.000000\n",
       "16        0.699553\n",
       "17        0.810864\n",
       "18       -1.000000\n",
       "19        0.402337\n",
       "20        1.372725\n",
       "21        0.955903\n",
       "22        0.742041\n",
       "23       -1.000000\n",
       "24        0.587367\n",
       "25       -1.000000\n",
       "26        0.666146\n",
       "27        1.034408\n",
       "28       -1.000000\n",
       "29        1.155692\n",
       "            ...   \n",
       "595182    0.941077\n",
       "595183    0.953612\n",
       "595184    0.626997\n",
       "595185    0.500000\n",
       "595186    1.006231\n",
       "595187    0.910014\n",
       "595188   -1.000000\n",
       "595189    0.808934\n",
       "595190   -1.000000\n",
       "595191    0.912414\n",
       "595192    0.649519\n",
       "595193    1.362213\n",
       "595194   -1.000000\n",
       "595195    0.629980\n",
       "595196    0.852936\n",
       "595197    1.332291\n",
       "595198    0.839643\n",
       "595199    0.779022\n",
       "595200    0.392110\n",
       "595201    0.812404\n",
       "595202    0.366572\n",
       "595203    1.939233\n",
       "595204    0.704894\n",
       "595205    0.904848\n",
       "595206    0.653835\n",
       "595207    0.692820\n",
       "595208    1.382027\n",
       "595209    0.659071\n",
       "595210    0.698212\n",
       "595211   -1.000000\n",
       "Name: ps_reg_03, dtype: float64"
      ]
     },
     "execution_count": 318,
     "metadata": {},
     "output_type": "execute_result"
    }
   ],
   "source": [
    "train['ps_reg_03']"
   ]
  },
  {
   "cell_type": "code",
   "execution_count": 328,
   "metadata": {},
   "outputs": [
    {
     "data": {
      "text/plain": [
       "count    49.0\n",
       "dtype: float64"
      ]
     },
     "execution_count": 328,
     "metadata": {},
     "output_type": "execute_result"
    }
   ],
   "source": [
    "train.groupby(['ps_reg_03'])['target'].describe().unstack()[['count']].median()"
   ]
  },
  {
   "cell_type": "code",
   "execution_count": 334,
   "metadata": {},
   "outputs": [],
   "source": [
    "train['ps_reg_03_mean'] = (train.groupby(['ps_reg_03'])['target'].describe().unstack()[['mean']] > .05).astype(np.int)"
   ]
  },
  {
   "cell_type": "code",
   "execution_count": 333,
   "metadata": {},
   "outputs": [],
   "source": [
    "train['ps_reg_03_count'] = (train.groupby(['ps_reg_03'])['target'].describe().unstack()[['count']] > 10).astype(np.int)"
   ]
  },
  {
   "cell_type": "code",
   "execution_count": 336,
   "metadata": {},
   "outputs": [
    {
     "data": {
      "text/plain": [
       "0         NaN\n",
       "1         0.0\n",
       "2         NaN\n",
       "3         NaN\n",
       "4         NaN\n",
       "5         NaN\n",
       "6         NaN\n",
       "7         NaN\n",
       "8         NaN\n",
       "9         NaN\n",
       "10        NaN\n",
       "11        NaN\n",
       "12        NaN\n",
       "13        NaN\n",
       "14        NaN\n",
       "15        NaN\n",
       "16        NaN\n",
       "17        NaN\n",
       "18        NaN\n",
       "19        NaN\n",
       "20        NaN\n",
       "21        NaN\n",
       "22        NaN\n",
       "23        NaN\n",
       "24        NaN\n",
       "25        NaN\n",
       "26        NaN\n",
       "27        NaN\n",
       "28        NaN\n",
       "29        NaN\n",
       "         ... \n",
       "595182    NaN\n",
       "595183    NaN\n",
       "595184    NaN\n",
       "595185    NaN\n",
       "595186    NaN\n",
       "595187    NaN\n",
       "595188    NaN\n",
       "595189    NaN\n",
       "595190    NaN\n",
       "595191    NaN\n",
       "595192    NaN\n",
       "595193    NaN\n",
       "595194    NaN\n",
       "595195    NaN\n",
       "595196    NaN\n",
       "595197    NaN\n",
       "595198    NaN\n",
       "595199    NaN\n",
       "595200    NaN\n",
       "595201    NaN\n",
       "595202    NaN\n",
       "595203    NaN\n",
       "595204    NaN\n",
       "595205    NaN\n",
       "595206    NaN\n",
       "595207    NaN\n",
       "595208    NaN\n",
       "595209    NaN\n",
       "595210    NaN\n",
       "595211    NaN\n",
       "Name: ps_reg_03_mean, dtype: float64"
      ]
     },
     "execution_count": 336,
     "metadata": {},
     "output_type": "execute_result"
    }
   ],
   "source": [
    "train['ps_reg_03_mean']"
   ]
  },
  {
   "cell_type": "code",
   "execution_count": null,
   "metadata": {
    "collapsed": true
   },
   "outputs": [],
   "source": [
    "train['ps_reg_03_bin'] = "
   ]
  },
  {
   "cell_type": "code",
   "execution_count": 326,
   "metadata": {},
   "outputs": [
    {
     "data": {
      "text/html": [
       "<div>\n",
       "<table border=\"1\" class=\"dataframe\">\n",
       "  <thead>\n",
       "    <tr style=\"text-align: right;\">\n",
       "      <th></th>\n",
       "      <th>count</th>\n",
       "      <th>mean</th>\n",
       "    </tr>\n",
       "    <tr>\n",
       "      <th>ps_reg_03</th>\n",
       "      <th></th>\n",
       "      <th></th>\n",
       "    </tr>\n",
       "  </thead>\n",
       "  <tbody>\n",
       "    <tr>\n",
       "      <th>1.768651</th>\n",
       "      <td>2.0</td>\n",
       "      <td>1.000000</td>\n",
       "    </tr>\n",
       "    <tr>\n",
       "      <th>1.695398</th>\n",
       "      <td>1.0</td>\n",
       "      <td>1.000000</td>\n",
       "    </tr>\n",
       "    <tr>\n",
       "      <th>1.397542</th>\n",
       "      <td>2.0</td>\n",
       "      <td>1.000000</td>\n",
       "    </tr>\n",
       "    <tr>\n",
       "      <th>1.326885</th>\n",
       "      <td>1.0</td>\n",
       "      <td>1.000000</td>\n",
       "    </tr>\n",
       "    <tr>\n",
       "      <th>1.518017</th>\n",
       "      <td>1.0</td>\n",
       "      <td>1.000000</td>\n",
       "    </tr>\n",
       "    <tr>\n",
       "      <th>1.351157</th>\n",
       "      <td>1.0</td>\n",
       "      <td>1.000000</td>\n",
       "    </tr>\n",
       "    <tr>\n",
       "      <th>1.783080</th>\n",
       "      <td>1.0</td>\n",
       "      <td>1.000000</td>\n",
       "    </tr>\n",
       "    <tr>\n",
       "      <th>2.486715</th>\n",
       "      <td>1.0</td>\n",
       "      <td>1.000000</td>\n",
       "    </tr>\n",
       "    <tr>\n",
       "      <th>1.514100</th>\n",
       "      <td>5.0</td>\n",
       "      <td>0.600000</td>\n",
       "    </tr>\n",
       "    <tr>\n",
       "      <th>1.625385</th>\n",
       "      <td>2.0</td>\n",
       "      <td>0.500000</td>\n",
       "    </tr>\n",
       "    <tr>\n",
       "      <th>2.054264</th>\n",
       "      <td>2.0</td>\n",
       "      <td>0.500000</td>\n",
       "    </tr>\n",
       "    <tr>\n",
       "      <th>2.036081</th>\n",
       "      <td>2.0</td>\n",
       "      <td>0.500000</td>\n",
       "    </tr>\n",
       "    <tr>\n",
       "      <th>1.296630</th>\n",
       "      <td>2.0</td>\n",
       "      <td>0.500000</td>\n",
       "    </tr>\n",
       "    <tr>\n",
       "      <th>1.583311</th>\n",
       "      <td>2.0</td>\n",
       "      <td>0.500000</td>\n",
       "    </tr>\n",
       "    <tr>\n",
       "      <th>1.765644</th>\n",
       "      <td>2.0</td>\n",
       "      <td>0.500000</td>\n",
       "    </tr>\n",
       "    <tr>\n",
       "      <th>1.904436</th>\n",
       "      <td>2.0</td>\n",
       "      <td>0.500000</td>\n",
       "    </tr>\n",
       "    <tr>\n",
       "      <th>1.792345</th>\n",
       "      <td>4.0</td>\n",
       "      <td>0.500000</td>\n",
       "    </tr>\n",
       "    <tr>\n",
       "      <th>2.083417</th>\n",
       "      <td>2.0</td>\n",
       "      <td>0.500000</td>\n",
       "    </tr>\n",
       "    <tr>\n",
       "      <th>3.197753</th>\n",
       "      <td>2.0</td>\n",
       "      <td>0.500000</td>\n",
       "    </tr>\n",
       "    <tr>\n",
       "      <th>1.905584</th>\n",
       "      <td>2.0</td>\n",
       "      <td>0.500000</td>\n",
       "    </tr>\n",
       "    <tr>\n",
       "      <th>1.347451</th>\n",
       "      <td>2.0</td>\n",
       "      <td>0.500000</td>\n",
       "    </tr>\n",
       "    <tr>\n",
       "      <th>1.769181</th>\n",
       "      <td>2.0</td>\n",
       "      <td>0.500000</td>\n",
       "    </tr>\n",
       "    <tr>\n",
       "      <th>1.875167</th>\n",
       "      <td>2.0</td>\n",
       "      <td>0.500000</td>\n",
       "    </tr>\n",
       "    <tr>\n",
       "      <th>1.670142</th>\n",
       "      <td>5.0</td>\n",
       "      <td>0.400000</td>\n",
       "    </tr>\n",
       "    <tr>\n",
       "      <th>1.350000</th>\n",
       "      <td>5.0</td>\n",
       "      <td>0.400000</td>\n",
       "    </tr>\n",
       "    <tr>\n",
       "      <th>1.794436</th>\n",
       "      <td>5.0</td>\n",
       "      <td>0.400000</td>\n",
       "    </tr>\n",
       "    <tr>\n",
       "      <th>1.562450</th>\n",
       "      <td>11.0</td>\n",
       "      <td>0.363636</td>\n",
       "    </tr>\n",
       "    <tr>\n",
       "      <th>1.532359</th>\n",
       "      <td>3.0</td>\n",
       "      <td>0.333333</td>\n",
       "    </tr>\n",
       "    <tr>\n",
       "      <th>1.577973</th>\n",
       "      <td>6.0</td>\n",
       "      <td>0.333333</td>\n",
       "    </tr>\n",
       "    <tr>\n",
       "      <th>2.010131</th>\n",
       "      <td>3.0</td>\n",
       "      <td>0.333333</td>\n",
       "    </tr>\n",
       "    <tr>\n",
       "      <th>...</th>\n",
       "      <td>...</td>\n",
       "      <td>...</td>\n",
       "    </tr>\n",
       "    <tr>\n",
       "      <th>1.562250</th>\n",
       "      <td>1.0</td>\n",
       "      <td>0.000000</td>\n",
       "    </tr>\n",
       "    <tr>\n",
       "      <th>1.089151</th>\n",
       "      <td>68.0</td>\n",
       "      <td>0.000000</td>\n",
       "    </tr>\n",
       "    <tr>\n",
       "      <th>1.561850</th>\n",
       "      <td>4.0</td>\n",
       "      <td>0.000000</td>\n",
       "    </tr>\n",
       "    <tr>\n",
       "      <th>1.561450</th>\n",
       "      <td>1.0</td>\n",
       "      <td>0.000000</td>\n",
       "    </tr>\n",
       "    <tr>\n",
       "      <th>1.560849</th>\n",
       "      <td>5.0</td>\n",
       "      <td>0.000000</td>\n",
       "    </tr>\n",
       "    <tr>\n",
       "      <th>1.092589</th>\n",
       "      <td>83.0</td>\n",
       "      <td>0.000000</td>\n",
       "    </tr>\n",
       "    <tr>\n",
       "      <th>1.571623</th>\n",
       "      <td>11.0</td>\n",
       "      <td>0.000000</td>\n",
       "    </tr>\n",
       "    <tr>\n",
       "      <th>1.571822</th>\n",
       "      <td>17.0</td>\n",
       "      <td>0.000000</td>\n",
       "    </tr>\n",
       "    <tr>\n",
       "      <th>1.572021</th>\n",
       "      <td>20.0</td>\n",
       "      <td>0.000000</td>\n",
       "    </tr>\n",
       "    <tr>\n",
       "      <th>1.572220</th>\n",
       "      <td>1.0</td>\n",
       "      <td>0.000000</td>\n",
       "    </tr>\n",
       "    <tr>\n",
       "      <th>1.581336</th>\n",
       "      <td>1.0</td>\n",
       "      <td>0.000000</td>\n",
       "    </tr>\n",
       "    <tr>\n",
       "      <th>1.581139</th>\n",
       "      <td>1.0</td>\n",
       "      <td>0.000000</td>\n",
       "    </tr>\n",
       "    <tr>\n",
       "      <th>1.580743</th>\n",
       "      <td>2.0</td>\n",
       "      <td>0.000000</td>\n",
       "    </tr>\n",
       "    <tr>\n",
       "      <th>1.580546</th>\n",
       "      <td>36.0</td>\n",
       "      <td>0.000000</td>\n",
       "    </tr>\n",
       "    <tr>\n",
       "      <th>1.044330</th>\n",
       "      <td>93.0</td>\n",
       "      <td>0.000000</td>\n",
       "    </tr>\n",
       "    <tr>\n",
       "      <th>1.579359</th>\n",
       "      <td>10.0</td>\n",
       "      <td>0.000000</td>\n",
       "    </tr>\n",
       "    <tr>\n",
       "      <th>1.578765</th>\n",
       "      <td>20.0</td>\n",
       "      <td>0.000000</td>\n",
       "    </tr>\n",
       "    <tr>\n",
       "      <th>1.578369</th>\n",
       "      <td>1.0</td>\n",
       "      <td>0.000000</td>\n",
       "    </tr>\n",
       "    <tr>\n",
       "      <th>1.577577</th>\n",
       "      <td>14.0</td>\n",
       "      <td>0.000000</td>\n",
       "    </tr>\n",
       "    <tr>\n",
       "      <th>1.576983</th>\n",
       "      <td>7.0</td>\n",
       "      <td>0.000000</td>\n",
       "    </tr>\n",
       "    <tr>\n",
       "      <th>1.576785</th>\n",
       "      <td>9.0</td>\n",
       "      <td>0.000000</td>\n",
       "    </tr>\n",
       "    <tr>\n",
       "      <th>1.576190</th>\n",
       "      <td>7.0</td>\n",
       "      <td>0.000000</td>\n",
       "    </tr>\n",
       "    <tr>\n",
       "      <th>1.575992</th>\n",
       "      <td>2.0</td>\n",
       "      <td>0.000000</td>\n",
       "    </tr>\n",
       "    <tr>\n",
       "      <th>1.575793</th>\n",
       "      <td>5.0</td>\n",
       "      <td>0.000000</td>\n",
       "    </tr>\n",
       "    <tr>\n",
       "      <th>1.575000</th>\n",
       "      <td>2.0</td>\n",
       "      <td>0.000000</td>\n",
       "    </tr>\n",
       "    <tr>\n",
       "      <th>1.057710</th>\n",
       "      <td>36.0</td>\n",
       "      <td>0.000000</td>\n",
       "    </tr>\n",
       "    <tr>\n",
       "      <th>1.573610</th>\n",
       "      <td>48.0</td>\n",
       "      <td>0.000000</td>\n",
       "    </tr>\n",
       "    <tr>\n",
       "      <th>1.573015</th>\n",
       "      <td>16.0</td>\n",
       "      <td>0.000000</td>\n",
       "    </tr>\n",
       "    <tr>\n",
       "      <th>1.572617</th>\n",
       "      <td>9.0</td>\n",
       "      <td>0.000000</td>\n",
       "    </tr>\n",
       "    <tr>\n",
       "      <th>4.037945</th>\n",
       "      <td>3.0</td>\n",
       "      <td>0.000000</td>\n",
       "    </tr>\n",
       "  </tbody>\n",
       "</table>\n",
       "<p>5013 rows × 2 columns</p>\n",
       "</div>"
      ],
      "text/plain": [
       "           count      mean\n",
       "ps_reg_03                 \n",
       "1.768651     2.0  1.000000\n",
       "1.695398     1.0  1.000000\n",
       "1.397542     2.0  1.000000\n",
       "1.326885     1.0  1.000000\n",
       "1.518017     1.0  1.000000\n",
       "1.351157     1.0  1.000000\n",
       "1.783080     1.0  1.000000\n",
       "2.486715     1.0  1.000000\n",
       "1.514100     5.0  0.600000\n",
       "1.625385     2.0  0.500000\n",
       "2.054264     2.0  0.500000\n",
       "2.036081     2.0  0.500000\n",
       "1.296630     2.0  0.500000\n",
       "1.583311     2.0  0.500000\n",
       "1.765644     2.0  0.500000\n",
       "1.904436     2.0  0.500000\n",
       "1.792345     4.0  0.500000\n",
       "2.083417     2.0  0.500000\n",
       "3.197753     2.0  0.500000\n",
       "1.905584     2.0  0.500000\n",
       "1.347451     2.0  0.500000\n",
       "1.769181     2.0  0.500000\n",
       "1.875167     2.0  0.500000\n",
       "1.670142     5.0  0.400000\n",
       "1.350000     5.0  0.400000\n",
       "1.794436     5.0  0.400000\n",
       "1.562450    11.0  0.363636\n",
       "1.532359     3.0  0.333333\n",
       "1.577973     6.0  0.333333\n",
       "2.010131     3.0  0.333333\n",
       "...          ...       ...\n",
       "1.562250     1.0  0.000000\n",
       "1.089151    68.0  0.000000\n",
       "1.561850     4.0  0.000000\n",
       "1.561450     1.0  0.000000\n",
       "1.560849     5.0  0.000000\n",
       "1.092589    83.0  0.000000\n",
       "1.571623    11.0  0.000000\n",
       "1.571822    17.0  0.000000\n",
       "1.572021    20.0  0.000000\n",
       "1.572220     1.0  0.000000\n",
       "1.581336     1.0  0.000000\n",
       "1.581139     1.0  0.000000\n",
       "1.580743     2.0  0.000000\n",
       "1.580546    36.0  0.000000\n",
       "1.044330    93.0  0.000000\n",
       "1.579359    10.0  0.000000\n",
       "1.578765    20.0  0.000000\n",
       "1.578369     1.0  0.000000\n",
       "1.577577    14.0  0.000000\n",
       "1.576983     7.0  0.000000\n",
       "1.576785     9.0  0.000000\n",
       "1.576190     7.0  0.000000\n",
       "1.575992     2.0  0.000000\n",
       "1.575793     5.0  0.000000\n",
       "1.575000     2.0  0.000000\n",
       "1.057710    36.0  0.000000\n",
       "1.573610    48.0  0.000000\n",
       "1.573015    16.0  0.000000\n",
       "1.572617     9.0  0.000000\n",
       "4.037945     3.0  0.000000\n",
       "\n",
       "[5013 rows x 2 columns]"
      ]
     },
     "execution_count": 326,
     "metadata": {},
     "output_type": "execute_result"
    }
   ],
   "source": [
    "train.groupby(['ps_reg_03'])['target'].describe().unstack()[['count','mean']].sort_values(by='mean',ascending=False)\n",
    " \n",
    " #> .05).astype(np.int).unstack().unstack()"
   ]
  },
  {
   "cell_type": "code",
   "execution_count": 337,
   "metadata": {},
   "outputs": [],
   "source": [
    "mean_mappings = (train.groupby(['ps_reg_03'])['target'].describe()\n",
    "            .unstack()[['mean']] > .05).astype(np.int).unstack().unstack()\n",
    "\n",
    "ps_reg_03_mean_mappings = {}\n",
    "for val in mean_mappings.columns:\n",
    "    ps_reg_03_mean_mappings[val] = mean_mappings[val]['mean']\n",
    "\n",
    "train['ps_reg_03_mean'] = train['ps_reg_03'].map(ps_reg_03_mean_mappings)\n",
    "\n",
    "count_mappings = (train.groupby(['ps_reg_03'])['target'].describe()\n",
    "            .unstack()[['count']] > 30).astype(np.int).unstack().unstack()\n",
    "\n",
    "ps_reg_03_count_mappings = {}\n",
    "for val in count_mappings.columns:\n",
    "    ps_reg_03_count_mappings[val] = count_mappings[val]['count']\n",
    "\n",
    "train['ps_reg_03_count'] = train['ps_reg_03'].map(ps_reg_03_count_mappings)"
   ]
  },
  {
   "cell_type": "code",
   "execution_count": 384,
   "metadata": {},
   "outputs": [
    {
     "data": {
      "text/plain": [
       "1    569856\n",
       "0     25356\n",
       "Name: ps_reg_03_count, dtype: int64"
      ]
     },
     "execution_count": 384,
     "metadata": {},
     "output_type": "execute_result"
    }
   ],
   "source": [
    "train['ps_reg_03_count'].value_counts()"
   ]
  },
  {
   "cell_type": "code",
   "execution_count": 387,
   "metadata": {
    "collapsed": true
   },
   "outputs": [],
   "source": [
    "def reg_03(row):\n",
    "    if row['ps_reg_03_count'] == 1 and row['ps_reg_03_mean'] == 1:\n",
    "        return 1\n",
    "    else:\n",
    "        return 0\n",
    "\n",
    "train['ps_reg_03_bin'] = train.apply(reg_03,axis=1)"
   ]
  },
  {
   "cell_type": "code",
   "execution_count": 395,
   "metadata": {},
   "outputs": [
    {
     "data": {
      "text/plain": [
       "0         0.718070\n",
       "1         0.766078\n",
       "2        -1.000000\n",
       "3         0.580948\n",
       "4         0.840759\n",
       "5         2.332649\n",
       "6         0.617454\n",
       "7         0.607248\n",
       "8         0.901388\n",
       "9         2.316652\n",
       "10        0.795692\n",
       "11        0.378319\n",
       "12        0.548293\n",
       "13        0.684197\n",
       "14        1.052972\n",
       "15       -1.000000\n",
       "16        0.699553\n",
       "17        0.810864\n",
       "18       -1.000000\n",
       "19        0.402337\n",
       "20        1.372725\n",
       "21        0.955903\n",
       "22        0.742041\n",
       "23       -1.000000\n",
       "24        0.587367\n",
       "25       -1.000000\n",
       "26        0.666146\n",
       "27        1.034408\n",
       "28       -1.000000\n",
       "29        1.155692\n",
       "            ...   \n",
       "595182    0.941077\n",
       "595183    0.953612\n",
       "595184    0.626997\n",
       "595185    0.500000\n",
       "595186    1.006231\n",
       "595187    0.910014\n",
       "595188   -1.000000\n",
       "595189    0.808934\n",
       "595190   -1.000000\n",
       "595191    0.912414\n",
       "595192    0.649519\n",
       "595193    1.362213\n",
       "595194   -1.000000\n",
       "595195    0.629980\n",
       "595196    0.852936\n",
       "595197    1.332291\n",
       "595198    0.839643\n",
       "595199    0.779022\n",
       "595200    0.392110\n",
       "595201    0.812404\n",
       "595202    0.366572\n",
       "595203    1.939233\n",
       "595204    0.704894\n",
       "595205    0.904848\n",
       "595206    0.653835\n",
       "595207    0.692820\n",
       "595208    1.382027\n",
       "595209    0.659071\n",
       "595210    0.698212\n",
       "595211   -1.000000\n",
       "Name: ps_reg_03, dtype: float64"
      ]
     },
     "execution_count": 395,
     "metadata": {},
     "output_type": "execute_result"
    }
   ],
   "source": [
    "train['ps_reg_03']"
   ]
  },
  {
   "cell_type": "code",
   "execution_count": 214,
   "metadata": {},
   "outputs": [
    {
     "name": "stdout",
     "output_type": "stream",
     "text": [
      "ps_ind_02_cat\n",
      "ps_ind_04_cat\n",
      "ps_ind_05_cat\n",
      "ps_car_01_cat\n",
      "ps_car_02_cat\n",
      "ps_car_04_cat\n",
      "ps_car_06_cat\n",
      "ps_car_07_cat\n",
      "ps_car_08_cat\n",
      "ps_car_09_cat\n",
      "ps_car_10_cat\n",
      "ps_car_11_cat\n"
     ]
    },
    {
     "data": {
      "image/png": "[encoded data removed]",
      "text/plain": [
       "<matplotlib.figure.Figure at 0x16c339668>"
      ]
     },
     "metadata": {},
     "output_type": "display_data"
    },
    {
     "data": {
      "image/png": "[encoded data removed]",
      "text/plain": [
       "<matplotlib.figure.Figure at 0x16d5310f0>"
      ]
     },
     "metadata": {},
     "output_type": "display_data"
    },
    {
     "data": {
      "image/png": "[encoded data removed]",
      "text/plain": [
       "<matplotlib.figure.Figure at 0x16dda7a58>"
      ]
     },
     "metadata": {},
     "output_type": "display_data"
    },
    {
     "data": {
      "image/png": "[encoded data removed]",
      "text/plain": [
       "<matplotlib.figure.Figure at 0x16de2e978>"
      ]
     },
     "metadata": {},
     "output_type": "display_data"
    },
    {
     "data": {
      "image/png": "[encoded data removed]",
      "text/plain": [
       "<matplotlib.figure.Figure at 0x123581d30>"
      ]
     },
     "metadata": {},
     "output_type": "display_data"
    },
    {
     "data": {
      "image/png": "[encoded data removed]",
      "text/plain": [
       "<matplotlib.figure.Figure at 0x130a03c88>"
      ]
     },
     "metadata": {},
     "output_type": "display_data"
    },
    {
     "data": {
      "image/png": "[encoded data removed]",
      "text/plain": [
       "<matplotlib.figure.Figure at 0x1305c31d0>"
      ]
     },
     "metadata": {},
     "output_type": "display_data"
    },
    {
     "data": {
      "image/png": "[encoded data removed]",
      "text/plain": [
       "<matplotlib.figure.Figure at 0x13090e588>"
      ]
     },
     "metadata": {},
     "output_type": "display_data"
    },
    {
     "data": {
      "image/png": "[encoded data removed]",
      "text/plain": [
       "<matplotlib.figure.Figure at 0x1309446a0>"
      ]
     },
     "metadata": {},
     "output_type": "display_data"
    },
    {
     "data": {
      "image/png": "[encoded data removed]",
      "text/plain": [
       "<matplotlib.figure.Figure at 0x13082beb8>"
      ]
     },
     "metadata": {},
     "output_type": "display_data"
    },
    {
     "data": {
      "image/png": "[encoded data removed]",
      "text/plain": [
       "<matplotlib.figure.Figure at 0x13098b5c0>"
      ]
     },
     "metadata": {},
     "output_type": "display_data"
    },
    {
     "data": {
      "image/png": "[encoded data removed]",
      "text/plain": [
       "<matplotlib.figure.Figure at 0x130706400>"
      ]
     },
     "metadata": {},
     "output_type": "display_data"
    }
   ],
   "source": [
    "for col in cat_cols:\n",
    "    print(col)\n",
    "    train_na_mean.groupby(col)['target'].describe().unstack()[['mean']].plot(kind='barh')"
   ]
  },
  {
   "cell_type": "markdown",
   "metadata": {},
   "source": [
    "Create one hot columns for all categorical. Difficult to align with test dataset due to unseen data in test."
   ]
  },
  {
   "cell_type": "code",
   "execution_count": 168,
   "metadata": {
    "collapsed": true
   },
   "outputs": [],
   "source": [
    "def create_onehot(train):\n",
    "    onehot_cols = []\n",
    "    for col in [col for col in train.columns[train.columns.str.contains('cat')]]:\n",
    "        onehot = pd.get_dummies(train[col],prefix=col,dummy_na=np.NaN)\n",
    "        for new_col in onehot.columns:\n",
    "            onehot_cols.append(new_col)\n",
    "        train.drop(col,axis=1,inplace=True)\n",
    "        train = pd.concat([train,onehot],axis=1)\n",
    "    return train"
   ]
  },
  {
   "cell_type": "code",
   "execution_count": 112,
   "metadata": {},
   "outputs": [],
   "source": [
    "#train_na_mean_imputed = create_onehot(train_na_mean_imputed)"
   ]
  },
  {
   "cell_type": "code",
   "execution_count": 169,
   "metadata": {},
   "outputs": [
    {
     "data": {
      "text/plain": [
       "['ps_ind_02_cat',\n",
       " 'ps_ind_04_cat',\n",
       " 'ps_ind_05_cat',\n",
       " 'ps_car_01_cat',\n",
       " 'ps_car_02_cat',\n",
       " 'ps_car_04_cat',\n",
       " 'ps_car_06_cat',\n",
       " 'ps_car_07_cat',\n",
       " 'ps_car_08_cat',\n",
       " 'ps_car_09_cat',\n",
       " 'ps_car_10_cat',\n",
       " 'ps_car_11_cat']"
      ]
     },
     "execution_count": 169,
     "metadata": {},
     "output_type": "execute_result"
    }
   ],
   "source": [
    "[col for col in train_na_mean_imputed.columns[train_na_mean_imputed.columns.str.contains('cat')]]"
   ]
  },
  {
   "cell_type": "markdown",
   "metadata": {},
   "source": [
    "Create function to transform"
   ]
  },
  {
   "cell_type": "code",
   "execution_count": 170,
   "metadata": {
    "collapsed": true
   },
   "outputs": [],
   "source": [
    "def transform_df(train):\n",
    "    train_na = train.replace(-1,np.NaN)\n",
    "    \n",
    "    calc_cols = [col for col in train_na.columns[train_na.columns.str.contains('calc')]]\n",
    "    train_na = train_na.drop(calc_cols,axis=1)\n",
    "    \n",
    "    bin_cols = [col for col in train_na.columns[train_na.columns.str.contains('bin')]]\n",
    "    cat_cols = [col for col in train_na.columns[train_na.columns.str.contains('cat')]]\n",
    "    ord_cols = [col for col in train_na.columns[train_na.columns.str.contains('ord')]]\n",
    "    \n",
    "    bin_cat_train_na = train_na[bin_cols+cat_cols+ord_cols]    \n",
    "    from fancyimpute import SimpleFill\n",
    "    bin_cat_train_na_cols = bin_cat_train_na.columns\n",
    "    bin_cat_train_na = pd.DataFrame(SimpleFill(fill_method='median').complete(bin_cat_train_na.as_matrix()),columns=bin_cat_train_na_cols)\n",
    "\n",
    "    cont_train_na = train_na.drop(bin_cols+cat_cols+ord_cols,axis=1)\n",
    "    from fancyimpute import SimpleFill\n",
    "    cont_train_na_cols = cont_train_na.columns\n",
    "    cont_train_na = pd.DataFrame(SimpleFill().complete(cont_train_na.as_matrix()),columns=cont_train_na_cols)\n",
    "    \n",
    "    train_na_mean_imputed = pd.concat([cont_train_na,bin_cat_train_na],axis=1)\n",
    "    #train_na_mean_imputed = create_onehot(train_na_mean_imputed)\n",
    "    return train_na_mean_imputed"
   ]
  },
  {
   "cell_type": "markdown",
   "metadata": {},
   "source": [
    "### Notes:\n",
    "\n",
    "    create bins for ps_car_11_cat\n",
    "    \n",
    "    ps_reg_01\n",
    "    ps_reg_02\n",
    "    ps_reg_03 = https://en.wikipedia.org/wiki/Municipalities_of_Brazil?\n",
    "    "
   ]
  },
  {
   "cell_type": "markdown",
   "metadata": {},
   "source": [
    "ind\n",
    "\n",
    "    ps_ind_14 values 3 and 4\n",
    "    ps_ind_05_cat value 2\n",
    "    \n",
    "reg\n",
    "\n",
    "    none\n",
    "    \n",
    "car\n",
    "\n",
    "    ps_car_01_cat value 9\n",
    "    ps_car_04_cat value 7\n",
    "    ps_car_06_cat values 2, 5, 8, 9, 13, 15, 17"
   ]
  },
  {
   "cell_type": "code",
   "execution_count": 115,
   "metadata": {},
   "outputs": [],
   "source": [
    "def cross_val_model(rf):\n",
    "    kfold = model_selection.KFold(n_splits=5, random_state=4)\n",
    "    score = model_selection.cross_val_score(rf,x_train,y_train,scoring='roc_auc',cv=kfold)\n",
    "    return 2*np.mean(score)-1"
   ]
  },
  {
   "cell_type": "code",
   "execution_count": 120,
   "metadata": {
    "collapsed": true
   },
   "outputs": [],
   "source": [
    "def split_data(train):\n",
    "    x, y = train.drop(['id','target'],axis=1), train['target']\n",
    "    x_train, x_valid, y_train, y_valid = model_selection.train_test_split(x, y, test_size=.3)\n",
    "    return x_train, x_valid, y_train, y_valid, x, y"
   ]
  },
  {
   "cell_type": "code",
   "execution_count": 174,
   "metadata": {
    "collapsed": true
   },
   "outputs": [],
   "source": [
    "def create_submission(rf, filename):\n",
    "    \n",
    "    test = pd.read_csv('./data/test.csv')\n",
    "    test = transform_df(test)\n",
    "    X_test = test.drop(['id'],axis=1)\n",
    "    test['target'] = rf.predict_proba(X_test)[:,1]\n",
    "    test[['id','target']].to_csv('./submissions/'+filename+'.csv',index=False, float_format='%.5f')"
   ]
  },
  {
   "cell_type": "code",
   "execution_count": 171,
   "metadata": {},
   "outputs": [],
   "source": [
    "x_train, x_valid, y_train, y_valid, x, y = split_data(train_na_mean_imputed)"
   ]
  },
  {
   "cell_type": "code",
   "execution_count": 172,
   "metadata": {},
   "outputs": [
    {
     "data": {
      "text/plain": [
       "RandomForestClassifier(bootstrap=True, class_weight=None, criterion='gini',\n",
       "            max_depth=None, max_features='auto', max_leaf_nodes=None,\n",
       "            min_impurity_split=1e-07, min_samples_leaf=15,\n",
       "            min_samples_split=20, min_weight_fraction_leaf=0.0,\n",
       "            n_estimators=400, n_jobs=1, oob_score=False, random_state=None,\n",
       "            verbose=0, warm_start=False)"
      ]
     },
     "execution_count": 172,
     "metadata": {},
     "output_type": "execute_result"
    }
   ],
   "source": [
    "rf = ensemble.RandomForestClassifier(n_estimators=400, min_samples_leaf=15, min_samples_split=20)\n",
    "rf.fit(x, y)"
   ]
  },
  {
   "cell_type": "code",
   "execution_count": 130,
   "metadata": {},
   "outputs": [],
   "source": [
    "importances = rf.feature_importances_\n",
    "std = np.std([tree.feature_importances_ for tree in rf.estimators_],axis=0)\n",
    "indices = np.argsort(importances)[::-1]"
   ]
  },
  {
   "cell_type": "code",
   "execution_count": 133,
   "metadata": {},
   "outputs": [],
   "source": [
    "sorted_importance_cols = []\n",
    "#sorted_importance_cols = {}\n",
    "for f,col in enumerate(x.columns):\n",
    "#    sorted_importance_cols[col] = importances[indices[f]]\n",
    "    sorted_importance_cols.append((col,importances[indices[f]]))"
   ]
  },
  {
   "cell_type": "code",
   "execution_count": 134,
   "metadata": {},
   "outputs": [
    {
     "data": {
      "text/plain": [
       "[('ps_reg_01', 0.10658066591619761),\n",
       " ('ps_reg_02', 0.093383819870742998),\n",
       " ('ps_reg_03', 0.070062534068123364),\n",
       " ('ps_car_12', 0.058884348373882588),\n",
       " ('ps_car_13', 0.056569355410262492),\n",
       " ('ps_car_14', 0.054727804323040606),\n",
       " ('ps_car_15', 0.042704216502288686),\n",
       " ('ps_ind_06_bin', 0.04228204491314444),\n",
       " ('ps_ind_07_bin', 0.040837519776046827),\n",
       " ('ps_ind_08_bin', 0.034832856410676939),\n",
       " ('ps_ind_09_bin', 0.01656286779447063),\n",
       " ('ps_ind_10_bin', 0.013711842720273456),\n",
       " ('ps_ind_11_bin', 0.01236392687272617),\n",
       " ('ps_ind_12_bin', 0.01136545081459636),\n",
       " ('ps_ind_13_bin', 0.01100525246792841),\n",
       " ('ps_ind_16_bin', 0.010956702377614194),\n",
       " ('ps_ind_17_bin', 0.010726976524654168),\n",
       " ('ps_ind_18_bin', 0.01068722152916921),\n",
       " ('ps_ind_01_ord', 0.010398372449672802),\n",
       " ('ps_ind_03_ord', 0.0097222815697552215),\n",
       " ('ps_ind_14_ord', 0.0091954215271232223),\n",
       " ('ps_ind_15_ord', 0.0090230417018173116),\n",
       " ('ps_car_11_ord', 0.0088620711625513934),\n",
       " ('ps_ind_02_cat_1.0', 0.0075039322871735944),\n",
       " ('ps_ind_02_cat_2.0', 0.0074497827838483207),\n",
       " ('ps_ind_02_cat_3.0', 0.0073971947433550444),\n",
       " ('ps_ind_02_cat_4.0', 0.0071974987673027978),\n",
       " ('ps_ind_02_cat_nan', 0.0070611134284837883),\n",
       " ('ps_ind_04_cat_0.0', 0.0069829510717974849),\n",
       " ('ps_ind_04_cat_1.0', 0.0068162059095706303),\n",
       " ('ps_ind_04_cat_nan', 0.0066768856956317055),\n",
       " ('ps_ind_05_cat_0.0', 0.0064314370113893096),\n",
       " ('ps_ind_05_cat_1.0', 0.0062786571839266621),\n",
       " ('ps_ind_05_cat_2.0', 0.0059351563454582311),\n",
       " ('ps_ind_05_cat_3.0', 0.0058786503000101062),\n",
       " ('ps_ind_05_cat_4.0', 0.0057279343525062634),\n",
       " ('ps_ind_05_cat_5.0', 0.0055878430184387509),\n",
       " ('ps_ind_05_cat_6.0', 0.0054779545755597927),\n",
       " ('ps_ind_05_cat_nan', 0.004689066812153201),\n",
       " ('ps_car_01_cat_0.0', 0.0046080489661418462),\n",
       " ('ps_car_01_cat_1.0', 0.0045680095694875201),\n",
       " ('ps_car_01_cat_2.0', 0.0042208315062991011),\n",
       " ('ps_car_01_cat_3.0', 0.0040174843830589561),\n",
       " ('ps_car_01_cat_4.0', 0.0039592515818783064),\n",
       " ('ps_car_01_cat_5.0', 0.003683407727150801),\n",
       " ('ps_car_01_cat_6.0', 0.0032216755374207657),\n",
       " ('ps_car_01_cat_7.0', 0.0031604346134276608),\n",
       " ('ps_car_01_cat_8.0', 0.0031173838512071682),\n",
       " ('ps_car_01_cat_9.0', 0.0030438902597791956),\n",
       " ('ps_car_01_cat_10.0', 0.0029615306872436912),\n",
       " ('ps_car_01_cat_11.0', 0.0028718135770807642),\n",
       " ('ps_car_01_cat_nan', 0.0028007937205521234),\n",
       " ('ps_car_02_cat_0.0', 0.0025307397274426974),\n",
       " ('ps_car_02_cat_1.0', 0.0024376402369138822),\n",
       " ('ps_car_02_cat_nan', 0.0024022014442371727),\n",
       " ('ps_car_04_cat_0.0', 0.0023704401439245131),\n",
       " ('ps_car_04_cat_1.0', 0.0022009556760811851),\n",
       " ('ps_car_04_cat_2.0', 0.0021740874203061769),\n",
       " ('ps_car_04_cat_3.0', 0.0019921192222093938),\n",
       " ('ps_car_04_cat_4.0', 0.0019170513512711518),\n",
       " ('ps_car_04_cat_5.0', 0.0019068251337557587),\n",
       " ('ps_car_04_cat_6.0', 0.0018086330338156844),\n",
       " ('ps_car_04_cat_7.0', 0.0016919661073527199),\n",
       " ('ps_car_04_cat_8.0', 0.0016443220573475787),\n",
       " ('ps_car_04_cat_9.0', 0.0016010392934866153),\n",
       " ('ps_car_04_cat_nan', 0.0015984665633860607),\n",
       " ('ps_car_06_cat_0.0', 0.0015683534399483074),\n",
       " ('ps_car_06_cat_1.0', 0.0014274211695143649),\n",
       " ('ps_car_06_cat_2.0', 0.0014063649760739185),\n",
       " ('ps_car_06_cat_3.0', 0.0012839006056645039),\n",
       " ('ps_car_06_cat_4.0', 0.0012394510821863134),\n",
       " ('ps_car_06_cat_5.0', 0.0012357960413568049),\n",
       " ('ps_car_06_cat_6.0', 0.0012097915747458529),\n",
       " ('ps_car_06_cat_7.0', 0.0011703951303489713),\n",
       " ('ps_car_06_cat_8.0', 0.0011696944863194396),\n",
       " ('ps_car_06_cat_9.0', 0.001113755110845299),\n",
       " ('ps_car_06_cat_10.0', 0.0011091442734951864),\n",
       " ('ps_car_06_cat_11.0', 0.0011033147505201831),\n",
       " ('ps_car_06_cat_12.0', 0.0010760824235923735),\n",
       " ('ps_car_06_cat_13.0', 0.0010662929841704612),\n",
       " ('ps_car_06_cat_14.0', 0.0010250360382274759),\n",
       " ('ps_car_06_cat_15.0', 0.0010218270069667537),\n",
       " ('ps_car_06_cat_16.0', 0.0010106366006013793),\n",
       " ('ps_car_06_cat_17.0', 0.0010046353265197427),\n",
       " ('ps_car_06_cat_nan', 0.0010002732344527958),\n",
       " ('ps_car_07_cat_0.0', 0.00099500122676329035),\n",
       " ('ps_car_07_cat_1.0', 0.000981321394609069),\n",
       " ('ps_car_07_cat_nan', 0.00097644029312216681),\n",
       " ('ps_car_08_cat_0.0', 0.00095624399590084135),\n",
       " ('ps_car_08_cat_1.0', 0.00095536306332845097),\n",
       " ('ps_car_08_cat_nan', 0.00095482021551302713),\n",
       " ('ps_car_09_cat_0.0', 0.00094178038856510449),\n",
       " ('ps_car_09_cat_1.0', 0.00092400052722959398),\n",
       " ('ps_car_09_cat_2.0', 0.00090252471270755056),\n",
       " ('ps_car_09_cat_3.0', 0.00089733365239517071),\n",
       " ('ps_car_09_cat_4.0', 0.00089360481557125267),\n",
       " ('ps_car_09_cat_nan', 0.00086923469250657203),\n",
       " ('ps_car_10_cat_0.0', 0.00086512282439725138),\n",
       " ('ps_car_10_cat_1.0', 0.00085669509971938182),\n",
       " ('ps_car_10_cat_2.0', 0.00083781534841665891),\n",
       " ('ps_car_10_cat_nan', 0.00083146077457470528),\n",
       " ('ps_car_11_cat_1.0', 0.00082939386432274271),\n",
       " ('ps_car_11_cat_2.0', 0.00081996958631575651),\n",
       " ('ps_car_11_cat_3.0', 0.00081375140403132384),\n",
       " ('ps_car_11_cat_4.0', 0.00080531777394310703),\n",
       " ('ps_car_11_cat_5.0', 0.00079289460277330473),\n",
       " ('ps_car_11_cat_6.0', 0.0007771534090816976),\n",
       " ('ps_car_11_cat_7.0', 0.00076468799860465438),\n",
       " ('ps_car_11_cat_8.0', 0.00075977295033470755),\n",
       " ('ps_car_11_cat_9.0', 0.00073992055915159918),\n",
       " ('ps_car_11_cat_10.0', 0.00072678628897782354),\n",
       " ('ps_car_11_cat_11.0', 0.00071858416523312794),\n",
       " ('ps_car_11_cat_12.0', 0.00071401194331970215),\n",
       " ('ps_car_11_cat_13.0', 0.0007028344396786669),\n",
       " ('ps_car_11_cat_14.0', 0.00068501482135650447),\n",
       " ('ps_car_11_cat_15.0', 0.00066775308024958615),\n",
       " ('ps_car_11_cat_16.0', 0.00064329471779920016),\n",
       " ('ps_car_11_cat_17.0', 0.00063672351289986186),\n",
       " ('ps_car_11_cat_18.0', 0.00063045814829249685),\n",
       " ('ps_car_11_cat_19.0', 0.00061781124827542931),\n",
       " ('ps_car_11_cat_20.0', 0.0006073762865382253),\n",
       " ('ps_car_11_cat_21.0', 0.00060431836190862813),\n",
       " ('ps_car_11_cat_22.0', 0.00059853953563596986),\n",
       " ('ps_car_11_cat_23.0', 0.00056941920464880229),\n",
       " ('ps_car_11_cat_24.0', 0.00055237293954760278),\n",
       " ('ps_car_11_cat_25.0', 0.00054646036929013669),\n",
       " ('ps_car_11_cat_26.0', 0.00054026925089232581),\n",
       " ('ps_car_11_cat_27.0', 0.00052995545053299039),\n",
       " ('ps_car_11_cat_28.0', 0.00052777761103942218),\n",
       " ('ps_car_11_cat_29.0', 0.00052485056193280518),\n",
       " ('ps_car_11_cat_30.0', 0.00050603353292681403),\n",
       " ('ps_car_11_cat_31.0', 0.00049288100674465022),\n",
       " ('ps_car_11_cat_32.0', 0.00048905519616732724),\n",
       " ('ps_car_11_cat_33.0', 0.00048854896631124825),\n",
       " ('ps_car_11_cat_34.0', 0.00047319427385888113),\n",
       " ('ps_car_11_cat_35.0', 0.00047258822448209797),\n",
       " ('ps_car_11_cat_36.0', 0.00047172060062827359),\n",
       " ('ps_car_11_cat_37.0', 0.00047056923808546638),\n",
       " ('ps_car_11_cat_38.0', 0.00046294874353925249),\n",
       " ('ps_car_11_cat_39.0', 0.00046122565145137012),\n",
       " ('ps_car_11_cat_40.0', 0.00046121460804397828),\n",
       " ('ps_car_11_cat_41.0', 0.00044322514239083247),\n",
       " ('ps_car_11_cat_42.0', 0.00044275373543177998),\n",
       " ('ps_car_11_cat_43.0', 0.00044072525322239975),\n",
       " ('ps_car_11_cat_44.0', 0.00043916146517248401),\n",
       " ('ps_car_11_cat_45.0', 0.00043611793390276374),\n",
       " ('ps_car_11_cat_46.0', 0.00042430202047059586),\n",
       " ('ps_car_11_cat_47.0', 0.00041432498231381757),\n",
       " ('ps_car_11_cat_48.0', 0.00040734168562729547),\n",
       " ('ps_car_11_cat_49.0', 0.00039913397796983888),\n",
       " ('ps_car_11_cat_50.0', 0.00039738623678024478),\n",
       " ('ps_car_11_cat_51.0', 0.00039060765409899628),\n",
       " ('ps_car_11_cat_52.0', 0.00038800477889156361),\n",
       " ('ps_car_11_cat_53.0', 0.00038614268479740478),\n",
       " ('ps_car_11_cat_54.0', 0.00038587708783049165),\n",
       " ('ps_car_11_cat_55.0', 0.00038552951945288008),\n",
       " ('ps_car_11_cat_56.0', 0.00036693296962787933),\n",
       " ('ps_car_11_cat_57.0', 0.00036672718992600902),\n",
       " ('ps_car_11_cat_58.0', 0.00036294618596305437),\n",
       " ('ps_car_11_cat_59.0', 0.00036228004251164799),\n",
       " ('ps_car_11_cat_60.0', 0.00036203078528452822),\n",
       " ('ps_car_11_cat_61.0', 0.00034870018982316285),\n",
       " ('ps_car_11_cat_62.0', 0.00034403144380820651),\n",
       " ('ps_car_11_cat_63.0', 0.00034381079991845998),\n",
       " ('ps_car_11_cat_64.0', 0.00031716084293185315),\n",
       " ('ps_car_11_cat_65.0', 0.00031316099991400087),\n",
       " ('ps_car_11_cat_66.0', 0.00031284664094065329),\n",
       " ('ps_car_11_cat_67.0', 0.00031263796948160258),\n",
       " ('ps_car_11_cat_68.0', 0.00031068431031430608),\n",
       " ('ps_car_11_cat_69.0', 0.00029728564103014839),\n",
       " ('ps_car_11_cat_70.0', 0.00028289818776049852),\n",
       " ('ps_car_11_cat_71.0', 0.00028282291569231528),\n",
       " ('ps_car_11_cat_72.0', 0.00027990634106864009),\n",
       " ('ps_car_11_cat_73.0', 0.00026658745538614415),\n",
       " ('ps_car_11_cat_74.0', 0.00026504468047832032),\n",
       " ('ps_car_11_cat_75.0', 0.00025803055302353427),\n",
       " ('ps_car_11_cat_76.0', 0.0002559517086394063),\n",
       " ('ps_car_11_cat_77.0', 0.00025591639747142656),\n",
       " ('ps_car_11_cat_78.0', 0.00025534016629008116),\n",
       " ('ps_car_11_cat_79.0', 0.00023888080052978831),\n",
       " ('ps_car_11_cat_80.0', 0.00023659774954966651),\n",
       " ('ps_car_11_cat_81.0', 0.00022753874583413651),\n",
       " ('ps_car_11_cat_82.0', 0.00021386658755339133),\n",
       " ('ps_car_11_cat_83.0', 0.00021226994759802529),\n",
       " ('ps_car_11_cat_84.0', 0.00020712672257520686),\n",
       " ('ps_car_11_cat_85.0', 0.00019743133198543499),\n",
       " ('ps_car_11_cat_86.0', 0.00012765464432244235),\n",
       " ('ps_car_11_cat_87.0', 0.00011655497204293285),\n",
       " ('ps_car_11_cat_88.0', 0.00011410604958946737),\n",
       " ('ps_car_11_cat_89.0', 9.8217622124595287e-05),\n",
       " ('ps_car_11_cat_90.0', 5.2094371429138354e-05),\n",
       " ('ps_car_11_cat_91.0', 1.2327010023490681e-05),\n",
       " ('ps_car_11_cat_92.0', 7.2868951336691472e-06),\n",
       " ('ps_car_11_cat_93.0', 5.3918087281228038e-06),\n",
       " ('ps_car_11_cat_94.0', 0.0),\n",
       " ('ps_car_11_cat_95.0', 0.0),\n",
       " ('ps_car_11_cat_96.0', 0.0),\n",
       " ('ps_car_11_cat_97.0', 0.0),\n",
       " ('ps_car_11_cat_98.0', 0.0),\n",
       " ('ps_car_11_cat_99.0', 0.0),\n",
       " ('ps_car_11_cat_100.0', 0.0),\n",
       " ('ps_car_11_cat_101.0', 0.0),\n",
       " ('ps_car_11_cat_102.0', 0.0),\n",
       " ('ps_car_11_cat_103.0', 0.0),\n",
       " ('ps_car_11_cat_104.0', 0.0),\n",
       " ('ps_car_11_cat_nan', 0.0)]"
      ]
     },
     "execution_count": 134,
     "metadata": {},
     "output_type": "execute_result"
    }
   ],
   "source": [
    "sorted_importance_cols"
   ]
  },
  {
   "cell_type": "code",
   "execution_count": null,
   "metadata": {
    "collapsed": true
   },
   "outputs": [],
   "source": [
    "x_train, x_valid, y_train, y_valid = split_data(train)\n",
    "rf = ensemble.RandomForestClassifier(n_estimators=400, min_samples_leaf=15, min_samples_split=20)\n",
    "rf_cv_score = cross_val_model(rf)"
   ]
  },
  {
   "cell_type": "code",
   "execution_count": null,
   "metadata": {},
   "outputs": [],
   "source": [
    "worthwhile_pair = []\n",
    "\n",
    "for pair in itertools.combinations(cat_cols, 2):\n",
    "    df = train.groupby(pair)['target'].describe().unstack().unstack()[['count']]\n",
    "    if (df > .05).sum().sum() > 1:\n",
    "        worthwhile_pair.append(pair)"
   ]
  },
  {
   "cell_type": "code",
   "execution_count": null,
   "metadata": {},
   "outputs": [],
   "source": [
    "len([i for i in itertools.combinations(bin_cols, 2)])"
   ]
  },
  {
   "cell_type": "code",
   "execution_count": null,
   "metadata": {},
   "outputs": [],
   "source": [
    "len(worthwhile_pair)"
   ]
  },
  {
   "cell_type": "code",
   "execution_count": null,
   "metadata": {},
   "outputs": [],
   "source": [
    "def pair_above_target(perc,cols):\n",
    "    worthwhile_pair = []\n",
    "\n",
    "    for pair in itertools.combinations(cols, 2):\n",
    "        df = train.groupby(pair)['target'].describe().unstack().unstack()[['mean']]\n",
    "        if (df > perc).sum().sum() > 1:\n",
    "            worthwhile_pair.append(pair)\n",
    "\n",
    "    col_count = {}\n",
    "\n",
    "    for pair in worthwhile_pair:\n",
    "        for col in pair:\n",
    "            if col in col_count:\n",
    "                col_count[col] += 1\n",
    "            else:\n",
    "                col_count[col] = 1\n",
    "    return col_count"
   ]
  },
  {
   "cell_type": "code",
   "execution_count": null,
   "metadata": {},
   "outputs": [],
   "source": [
    "pair_above_target(.2,ord_cols)"
   ]
  },
  {
   "cell_type": "code",
   "execution_count": null,
   "metadata": {
    "scrolled": true
   },
   "outputs": [],
   "source": [
    "pair_above_target(.1,cat_cols)"
   ]
  },
  {
   "cell_type": "code",
   "execution_count": null,
   "metadata": {},
   "outputs": [],
   "source": [
    "pair_above_target(.05,bin_cols)"
   ]
  },
  {
   "cell_type": "code",
   "execution_count": null,
   "metadata": {
    "collapsed": true
   },
   "outputs": [],
   "source": [
    "keep_cols = ['ps_car_01_cat','ps_ind_05_cat','ps_ind_17_bin']"
   ]
  },
  {
   "cell_type": "code",
   "execution_count": null,
   "metadata": {},
   "outputs": [],
   "source": [
    "a = (train.groupby(pair)['target'].describe().unstack().unstack()[['mean']])# > .05)#.sum()\n"
   ]
  },
  {
   "cell_type": "code",
   "execution_count": null,
   "metadata": {
    "collapsed": true
   },
   "outputs": [],
   "source": [
    "b = ((train.groupby(pair)['target'].describe().unstack().unstack()[['count']]))# / len(train)))# > .05)#.sum()"
   ]
  },
  {
   "cell_type": "code",
   "execution_count": null,
   "metadata": {
    "collapsed": true
   },
   "outputs": [],
   "source": []
  },
  {
   "cell_type": "code",
   "execution_count": null,
   "metadata": {},
   "outputs": [],
   "source": [
    "((train.groupby(pair)['target'].describe().unstack().unstack()[['count']] / len(train)))# > .05)#.sum()\n"
   ]
  },
  {
   "cell_type": "code",
   "execution_count": null,
   "metadata": {},
   "outputs": [],
   "source": [
    "sns.heatmap(train.groupby(['ps_car_01_cat','ps_car_04_cat'])['target'].describe().unstack().unstack()[['mean']])"
   ]
  },
  {
   "cell_type": "markdown",
   "metadata": {},
   "source": [
    "Modifications to features"
   ]
  },
  {
   "cell_type": "code",
   "execution_count": null,
   "metadata": {
    "collapsed": true
   },
   "outputs": [],
   "source": [
    "train['ps_reg_03'] = (train['ps_reg_03']*4)^2"
   ]
  },
  {
   "cell_type": "code",
   "execution_count": null,
   "metadata": {
    "collapsed": true
   },
   "outputs": [],
   "source": [
    "train['ps_car_12'] = train['ps_car_12']^2"
   ]
  },
  {
   "cell_type": "code",
   "execution_count": null,
   "metadata": {
    "collapsed": true
   },
   "outputs": [],
   "source": [
    "train['ps_car_14'] = train['ps_car_14']^2"
   ]
  },
  {
   "cell_type": "code",
   "execution_count": null,
   "metadata": {
    "collapsed": true
   },
   "outputs": [],
   "source": [
    "train['ps_car_15'] = train['ps_car_15']^2"
   ]
  },
  {
   "cell_type": "code",
   "execution_count": null,
   "metadata": {
    "collapsed": true
   },
   "outputs": [],
   "source": []
  },
  {
   "cell_type": "code",
   "execution_count": null,
   "metadata": {
    "collapsed": true
   },
   "outputs": [],
   "source": [
    "def hist_target(col):\n",
    "    if 'cat' not in col:\n",
    "        #train[col].hist()\n",
    "        train.groupby([col])['target'].mean().plot(kind='barh')\n",
    "        plt.figure()"
   ]
  },
  {
   "cell_type": "code",
   "execution_count": null,
   "metadata": {},
   "outputs": [],
   "source": [
    "for col in null_cols:\n",
    "    hist_target(col)"
   ]
  },
  {
   "cell_type": "code",
   "execution_count": null,
   "metadata": {
    "collapsed": true
   },
   "outputs": [],
   "source": []
  },
  {
   "cell_type": "code",
   "execution_count": null,
   "metadata": {
    "collapsed": true
   },
   "outputs": [],
   "source": []
  },
  {
   "cell_type": "code",
   "execution_count": null,
   "metadata": {
    "collapsed": true
   },
   "outputs": [],
   "source": []
  },
  {
   "cell_type": "code",
   "execution_count": null,
   "metadata": {
    "collapsed": true
   },
   "outputs": [],
   "source": []
  },
  {
   "cell_type": "code",
   "execution_count": null,
   "metadata": {
    "collapsed": true
   },
   "outputs": [],
   "source": []
  },
  {
   "cell_type": "code",
   "execution_count": null,
   "metadata": {
    "collapsed": true
   },
   "outputs": [],
   "source": [
    "# train = pd.read_csv('./data/train.csv')\n",
    "# test = pd.read_csv('./data/test.csv')\n",
    "col = [c for c in train.columns if c not in ['id','target']]\n",
    "\n",
    "d_median = train.median(axis=0)\n",
    "d_mean = train.mean(axis=0)\n",
    "one_hot = {c: list(train[c].unique()) for c in train.columns if c not in ['id','target']}\n",
    "\n",
    "def transform_df(df):\n",
    "    df = pd.DataFrame(df)\n",
    "    dcol = [c for c in df.columns if c not in ['id','target']]\n",
    "    df['ps_car_13_x_ps_reg_03'] = df['ps_car_13'] * df['ps_reg_03']\n",
    "    df['negative_one_vals'] = np.sum((df[dcol]==-1).values, axis=1)\n",
    "    for c in dcol:\n",
    "        if '_bin' not in c: #standard arithmetic\n",
    "            df[c+str('_median_range')] = (df[c].values > d_median[c]).astype(np.int)\n",
    "            df[c+str('_mean_range')] = (df[c].values > d_mean[c]).astype(np.int)\n",
    "            #df[c+str('_sq')] = np.power(df[c].values,2).astype(np.float32)\n",
    "            #df[c+str('_sqr')] = np.square(df[c].values).astype(np.float32)\n",
    "            #df[c+str('_log')] = np.log(np.abs(df[c].values) + 1)\n",
    "            #df[c+str('_exp')] = np.exp(df[c].values) - 1\n",
    "    for c in one_hot:\n",
    "        if len(one_hot[c])>2 and len(one_hot[c]) < 10:\n",
    "            for val in one_hot[c]:\n",
    "                df[c+'_oh_' + str(val)] = (df[c].values == val).astype(np.int)\n",
    "    return df"
   ]
  },
  {
   "cell_type": "markdown",
   "metadata": {},
   "source": [
    "Create scoring metric for sklearn"
   ]
  },
  {
   "cell_type": "code",
   "execution_count": null,
   "metadata": {
    "collapsed": true
   },
   "outputs": [],
   "source": [
    "def ginic(actual, pred):\n",
    "    n = len(actual)\n",
    "    a_s = actual[np.argsort(pred)]\n",
    "    a_c = a_s.cumsum()\n",
    "    giniSum = a_c.sum() / a_c[-1] - (n + 1) / 2.0\n",
    "    return giniSum / n\n",
    " \n",
    "def gini_normalizedc(a, p):\n",
    "    if p.ndim == 2:\n",
    "        p = p[:,1] \n",
    "    return ginic(a, p) / ginic(a, a)"
   ]
  },
  {
   "cell_type": "code",
   "execution_count": null,
   "metadata": {},
   "outputs": [],
   "source": [
    "gini_sklearn = metrics.make_scorer(gini_normalizedc, True, True)"
   ]
  },
  {
   "cell_type": "markdown",
   "metadata": {},
   "source": [
    "Split"
   ]
  },
  {
   "cell_type": "code",
   "execution_count": null,
   "metadata": {},
   "outputs": [],
   "source": [
    "keep_cols"
   ]
  },
  {
   "cell_type": "code",
   "execution_count": null,
   "metadata": {
    "collapsed": true
   },
   "outputs": [],
   "source": [
    "x, y = train_spare.drop(['id','target'],axis=1), train['target']\n",
    "\n",
    "x = x[keep_cols]\n",
    "\n",
    "x_train, x_valid, y_train, y_valid = model_selection.train_test_split(x, y, test_size=.3)\n"
   ]
  },
  {
   "cell_type": "markdown",
   "metadata": {},
   "source": [
    "Model"
   ]
  },
  {
   "cell_type": "code",
   "execution_count": null,
   "metadata": {
    "collapsed": true
   },
   "outputs": [],
   "source": [
    "rf = ensemble.RandomForestClassifier(n_estimators=400, min_samples_leaf=15, min_samples_split=20)"
   ]
  },
  {
   "cell_type": "code",
   "execution_count": null,
   "metadata": {
    "collapsed": true
   },
   "outputs": [],
   "source": [
    "#rf = ensemble.RandomForestClassifier(n_estimators = 800,min_samples_leaf = 10,min_samples_split=15)"
   ]
  },
  {
   "cell_type": "code",
   "execution_count": null,
   "metadata": {
    "collapsed": true
   },
   "outputs": [],
   "source": [
    "knn = neighbors.KNeighborsClassifier(n_neighbors=50)"
   ]
  },
  {
   "cell_type": "code",
   "execution_count": null,
   "metadata": {
    "collapsed": true
   },
   "outputs": [],
   "source": [
    "lr = linear_model.Lasso(.01)"
   ]
  },
  {
   "cell_type": "code",
   "execution_count": null,
   "metadata": {
    "collapsed": true
   },
   "outputs": [],
   "source": [
    "lg = linear_model.LogisticRegression(penalty='l1',C=.01)"
   ]
  },
  {
   "cell_type": "markdown",
   "metadata": {},
   "source": [
    "Notes\n",
    "\n",
    "    All features with rf roc of ~.62\n",
    "    "
   ]
  },
  {
   "cell_type": "code",
   "execution_count": null,
   "metadata": {},
   "outputs": [],
   "source": [
    "df = transform_df(train)"
   ]
  },
  {
   "cell_type": "code",
   "execution_count": null,
   "metadata": {},
   "outputs": [],
   "source": [
    "rf = ensemble.RandomForestClassifier(n_estimators=400, min_samples_leaf=15, min_samples_split=20)\n",
    "kfold = model_selection.KFold(n_splits=5, random_state=4)\n",
    "score = model_selection.cross_val_score(rf,x_train,y_train,scoring='roc_auc',cv=kfold)\n",
    "2*np.mean(score)-1"
   ]
  },
  {
   "cell_type": "code",
   "execution_count": null,
   "metadata": {},
   "outputs": [],
   "source": [
    "rf.fit(x,y)"
   ]
  },
  {
   "cell_type": "code",
   "execution_count": null,
   "metadata": {},
   "outputs": [],
   "source": [
    "importances = rf.feature_importances_\n",
    "std = np.std([tree.feature_importances_ for tree in rf.estimators_],axis=0)\n",
    "indices = np.argsort(importances)[::-1]"
   ]
  },
  {
   "cell_type": "code",
   "execution_count": null,
   "metadata": {
    "collapsed": true
   },
   "outputs": [],
   "source": [
    "def calcginiindex(array):\n",
    "\n",
    "    array = array.flatten()\n",
    "    array += 0.0000001\n",
    "    array = np.sort(array)\n",
    "    index = np.arange(1,array.shape[0]+1)\n",
    "    n = array.shape[0]\n",
    "    return ((np.sum((2*index - n - 1)*array))/(n * np.sum(array)))"
   ]
  },
  {
   "cell_type": "markdown",
   "metadata": {},
   "source": [
    "Top importances"
   ]
  },
  {
   "cell_type": "code",
   "execution_count": null,
   "metadata": {},
   "outputs": [],
   "source": [
    "keep_cols = []\n",
    "for f,col in enumerate(x.columns):\n",
    "    print(\"{}. {} {}\".format(f+1, col, importances[indices[f]]))\n",
    "    if importances[indices[f]] > .01:\n",
    "        keep_cols.append(col)"
   ]
  },
  {
   "cell_type": "code",
   "execution_count": null,
   "metadata": {},
   "outputs": [],
   "source": [
    "np.mean(score)*2-1"
   ]
  },
  {
   "cell_type": "code",
   "execution_count": null,
   "metadata": {},
   "outputs": [],
   "source": [
    "%%time\n",
    "rf.fit(x_train,y_train)"
   ]
  },
  {
   "cell_type": "code",
   "execution_count": null,
   "metadata": {
    "collapsed": true
   },
   "outputs": [],
   "source": [
    "y_pred = rf.predict_proba(x_valid)[:,1]"
   ]
  },
  {
   "cell_type": "markdown",
   "metadata": {},
   "source": [
    "---\n",
    "Maybe multiply by 2 to approximate the score on the LB?"
   ]
  },
  {
   "cell_type": "code",
   "execution_count": null,
   "metadata": {
    "scrolled": false
   },
   "outputs": [],
   "source": [
    "gini(y_valid,y_pred)*2"
   ]
  },
  {
   "cell_type": "markdown",
   "metadata": {},
   "source": [
    "Grid"
   ]
  },
  {
   "cell_type": "code",
   "execution_count": null,
   "metadata": {
    "collapsed": true
   },
   "outputs": [],
   "source": [
    "tuned_parameters = {}\n",
    "tuned_parameters['C'] = [.001,.01,.1,1,10]\n",
    "tuned_parameters['penalty'] = ['l1']"
   ]
  },
  {
   "cell_type": "code",
   "execution_count": null,
   "metadata": {
    "collapsed": true
   },
   "outputs": [],
   "source": [
    "grid = model_selection.GridSearchCV(lg, tuned_parameters, cv=2)"
   ]
  },
  {
   "cell_type": "code",
   "execution_count": null,
   "metadata": {
    "collapsed": true
   },
   "outputs": [],
   "source": [
    "grid_scores = grid.fit(x_train,y_train)"
   ]
  },
  {
   "cell_type": "markdown",
   "metadata": {},
   "source": [
    "Keras"
   ]
  },
  {
   "cell_type": "code",
   "execution_count": null,
   "metadata": {
    "collapsed": true
   },
   "outputs": [],
   "source": [
    "import keras"
   ]
  },
  {
   "cell_type": "code",
   "execution_count": null,
   "metadata": {
    "collapsed": true
   },
   "outputs": [],
   "source": [
    "from keras.models import Sequential()\n",
    "from keras.layers import Dense, BatchNormalization, "
   ]
  },
  {
   "cell_type": "code",
   "execution_count": null,
   "metadata": {
    "collapsed": true
   },
   "outputs": [],
   "source": []
  },
  {
   "cell_type": "code",
   "execution_count": null,
   "metadata": {
    "collapsed": true
   },
   "outputs": [],
   "source": []
  },
  {
   "cell_type": "code",
   "execution_count": null,
   "metadata": {},
   "outputs": [],
   "source": [
    "from sklearn.ensemble import RandomForestClassifier\n",
    "rf = RandomForestClassifier(n_estimators=400, max_depth=8, min_samples_leaf=4, max_features=0.2, n_jobs=-1, random_state=0)\n",
    "rf.fit(train.drop(['id', 'target'],axis=1), train.target)\n",
    "features = train.drop(['id', 'target'],axis=1).columns.values\n",
    "print(\"----- Training Done -----\")"
   ]
  },
  {
   "cell_type": "code",
   "execution_count": null,
   "metadata": {},
   "outputs": [],
   "source": [
    "y_pred.shape"
   ]
  },
  {
   "cell_type": "code",
   "execution_count": null,
   "metadata": {
    "collapsed": true
   },
   "outputs": [],
   "source": [
    "test = pd.read_csv('./data/test.csv')"
   ]
  },
  {
   "cell_type": "code",
   "execution_count": 127,
   "metadata": {
    "collapsed": true
   },
   "outputs": [],
   "source": [
    "def create_submission(rf):\n",
    "    X_test = test.drop(['id'],axis=1)\n",
    "    test['target'] = rf.predict_proba(X_test)[:,1]\n",
    "    test[['id','target']].to_csv('./submissions/4_sub.csv',index=False, float_format='%.5f')"
   ]
  },
  {
   "cell_type": "code",
   "execution_count": null,
   "metadata": {
    "collapsed": true
   },
   "outputs": [],
   "source": [
    "sample = pd.read_csv('./data/sample_submission.csv',index_col=None)"
   ]
  },
  {
   "cell_type": "code",
   "execution_count": null,
   "metadata": {
    "collapsed": true
   },
   "outputs": [],
   "source": [
    "def gini_xgb(pred, y):\n",
    "    y = y.get_label()\n",
    "    return 'gini', gini(y, pred) / gini(y, y)"
   ]
  },
  {
   "cell_type": "code",
   "execution_count": null,
   "metadata": {
    "collapsed": true
   },
   "outputs": [],
   "source": [
    "def gini(y, pred):\n",
    "    g = np.asarray(np.c_[y, pred, np.arange(len(y)) ], dtype=np.float)\n",
    "    g = g[np.lexsort((g[:,2], -1*g[:,1]))]\n",
    "    gs = g[:,0].cumsum().sum() / g[:,0].sum()\n",
    "    gs -= (len(y) + 1) / 2.\n",
    "    return gs / len(y)"
   ]
  },
  {
   "cell_type": "code",
   "execution_count": null,
   "metadata": {
    "collapsed": true
   },
   "outputs": [],
   "source": []
  }
 ],
 "metadata": {
  "kernelspec": {
   "display_name": "Python 3",
   "language": "python",
   "name": "python3"
  },
  "language_info": {
   "codemirror_mode": {
    "name": "ipython",
    "version": 3
   },
   "file_extension": ".py",
   "mimetype": "text/x-python",
   "name": "python",
   "nbconvert_exporter": "python",
   "pygments_lexer": "ipython3",
   "version": "3.6.1"
  }
 },
 "nbformat": 4,
 "nbformat_minor": 2
}
