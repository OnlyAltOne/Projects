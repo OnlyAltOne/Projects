{
 "cells": [
  {
   "cell_type": "markdown",
   "metadata": {},
   "source": [
    "# Cyft Data Investigation\n",
    "\n",
    "Goal:\n",
    "\n",
    "    Create target\n",
    "    EDA\n",
    "    Create a Model\n"
   ]
  },
  {
   "cell_type": "markdown",
   "metadata": {},
   "source": [
    "#### Description:\n",
    "\n",
    "_30-Day All-Cause Hospital Readmissions_ is a quality measure that many healthcare organizations use to track their performance. Lower readmission rates indicate better patient outcomes, while higher ones tend to indicate system problems that are negatively impacting patients. The goal of this exercise is to analyze a dataset that simulates hospitalizations for a geriatric patient population in 2015 and 2016 to predict __if a patient is likely to have a readmission based on the information available at the time of their initial admission.__\n",
    "\n",
    "You have 3 hours to complete the exercise. If you don't get through all the objectives, that's OK. After 3 hours, please finish what you're working on and send in whatever code, analyses, and visualizations (such as images) you have available. Include comments documenting any assumptions you've made as well as other ideas you would have tried if you had more time.\n",
    "\n",
    "Feel free to use the language and statistical/machine learning libraries that you are most comfortable with, and ask questions along the way if any clarifications are necessary."
   ]
  },
  {
   "cell_type": "code",
   "execution_count": 2,
   "metadata": {
    "collapsed": true
   },
   "outputs": [],
   "source": [
    "import pandas as pd\n",
    "import numpy as np\n",
    "import matplotlib.pyplot as plt\n",
    "import seaborn as sns\n",
    "%matplotlib inline"
   ]
  },
  {
   "cell_type": "code",
   "execution_count": 3,
   "metadata": {
    "collapsed": true
   },
   "outputs": [],
   "source": [
    "admit = pd.read_csv('../Cyft/readmissions/admissions.csv')\n",
    "claims = pd.read_csv('../Cyft/readmissions/claims.csv')"
   ]
  },
  {
   "cell_type": "markdown",
   "metadata": {},
   "source": [
    "#### Data Dictionary\n",
    "\n",
    "  * admissions.csv\n",
    "    * Patient - a unique patient identifier string.\n",
    "    * AdmitDate - start date of hospital admission (yyyy-MM-dd formatted).\n",
    "    * LOS - length of hospital stay for the admission in days.\n",
    "\n",
    "  * claims.csv\n",
    "    * Patient - a unique patient identifier string.\n",
    "    * AdmitDate - start date of hospital admission (yyyy-MM-dd formatted).\n",
    "    * Age - patient's current age at time of admission.\n",
    "    * Gender - single character gender value for the patient (limited to 2 values for simplicity).\n",
    "    * PrimaryDx - the primary diagnosis code for the patient.\n",
    "    * Dx2 - the secondary diagnosis code for the patient (nullable).\n",
    "    * Dx3 - the tertiary diagnosis code for the patient (nullable).\n",
    "    * PastPCPVisits - the count of primary care physician visits the patient had in the 12 months prior to admission."
   ]
  },
  {
   "cell_type": "code",
   "execution_count": 4,
   "metadata": {},
   "outputs": [
    {
     "data": {
      "text/html": [
       "<div>\n",
       "<style>\n",
       "    .dataframe thead tr:only-child th {\n",
       "        text-align: right;\n",
       "    }\n",
       "\n",
       "    .dataframe thead th {\n",
       "        text-align: left;\n",
       "    }\n",
       "\n",
       "    .dataframe tbody tr th {\n",
       "        vertical-align: top;\n",
       "    }\n",
       "</style>\n",
       "<table border=\"1\" class=\"dataframe\">\n",
       "  <thead>\n",
       "    <tr style=\"text-align: right;\">\n",
       "      <th></th>\n",
       "      <th>Patient</th>\n",
       "      <th>AdmitDate</th>\n",
       "      <th>LOS</th>\n",
       "    </tr>\n",
       "  </thead>\n",
       "  <tbody>\n",
       "    <tr>\n",
       "      <th>0</th>\n",
       "      <td>5e982461-47d7-4ae9-ac75-d1f31acaee81</td>\n",
       "      <td>2015-09-12</td>\n",
       "      <td>9</td>\n",
       "    </tr>\n",
       "    <tr>\n",
       "      <th>1</th>\n",
       "      <td>61e049c2-08e8-469a-a1e0-808d99c084fd</td>\n",
       "      <td>2015-03-23</td>\n",
       "      <td>7</td>\n",
       "    </tr>\n",
       "    <tr>\n",
       "      <th>2</th>\n",
       "      <td>19bccbe8-0bc7-4dd5-8066-de5bd76acdff</td>\n",
       "      <td>2015-11-07</td>\n",
       "      <td>7</td>\n",
       "    </tr>\n",
       "    <tr>\n",
       "      <th>3</th>\n",
       "      <td>520d5129-fa07-45a3-9108-f6fa895c0169</td>\n",
       "      <td>2015-01-24</td>\n",
       "      <td>7</td>\n",
       "    </tr>\n",
       "    <tr>\n",
       "      <th>4</th>\n",
       "      <td>e7af2ac0-bd25-4cfe-a6f2-e6642db02f64</td>\n",
       "      <td>2015-09-08</td>\n",
       "      <td>5</td>\n",
       "    </tr>\n",
       "  </tbody>\n",
       "</table>\n",
       "</div>"
      ],
      "text/plain": [
       "                                Patient   AdmitDate  LOS\n",
       "0  5e982461-47d7-4ae9-ac75-d1f31acaee81  2015-09-12    9\n",
       "1  61e049c2-08e8-469a-a1e0-808d99c084fd  2015-03-23    7\n",
       "2  19bccbe8-0bc7-4dd5-8066-de5bd76acdff  2015-11-07    7\n",
       "3  520d5129-fa07-45a3-9108-f6fa895c0169  2015-01-24    7\n",
       "4  e7af2ac0-bd25-4cfe-a6f2-e6642db02f64  2015-09-08    5"
      ]
     },
     "execution_count": 4,
     "metadata": {},
     "output_type": "execute_result"
    }
   ],
   "source": [
    "admit.head()"
   ]
  },
  {
   "cell_type": "code",
   "execution_count": 5,
   "metadata": {},
   "outputs": [
    {
     "data": {
      "text/html": [
       "<div>\n",
       "<style>\n",
       "    .dataframe thead tr:only-child th {\n",
       "        text-align: right;\n",
       "    }\n",
       "\n",
       "    .dataframe thead th {\n",
       "        text-align: left;\n",
       "    }\n",
       "\n",
       "    .dataframe tbody tr th {\n",
       "        vertical-align: top;\n",
       "    }\n",
       "</style>\n",
       "<table border=\"1\" class=\"dataframe\">\n",
       "  <thead>\n",
       "    <tr style=\"text-align: right;\">\n",
       "      <th></th>\n",
       "      <th>Patient</th>\n",
       "      <th>AdmitDate</th>\n",
       "      <th>Age</th>\n",
       "      <th>Gender</th>\n",
       "      <th>PrimaryDx</th>\n",
       "      <th>Dx2</th>\n",
       "      <th>Dx3</th>\n",
       "      <th>PastPCPVisits</th>\n",
       "    </tr>\n",
       "  </thead>\n",
       "  <tbody>\n",
       "    <tr>\n",
       "      <th>0</th>\n",
       "      <td>5e982461-47d7-4ae9-ac75-d1f31acaee81</td>\n",
       "      <td>2015-09-12</td>\n",
       "      <td>74</td>\n",
       "      <td>M</td>\n",
       "      <td>N18</td>\n",
       "      <td>T88</td>\n",
       "      <td>NaN</td>\n",
       "      <td>19</td>\n",
       "    </tr>\n",
       "    <tr>\n",
       "      <th>1</th>\n",
       "      <td>61e049c2-08e8-469a-a1e0-808d99c084fd</td>\n",
       "      <td>2015-03-23</td>\n",
       "      <td>71</td>\n",
       "      <td>F</td>\n",
       "      <td>N18</td>\n",
       "      <td>R39</td>\n",
       "      <td>@NA</td>\n",
       "      <td>3</td>\n",
       "    </tr>\n",
       "    <tr>\n",
       "      <th>2</th>\n",
       "      <td>19bccbe8-0bc7-4dd5-8066-de5bd76acdff</td>\n",
       "      <td>2015-11-07</td>\n",
       "      <td>85</td>\n",
       "      <td>M</td>\n",
       "      <td>E11</td>\n",
       "      <td>R39</td>\n",
       "      <td>NaN</td>\n",
       "      <td>10</td>\n",
       "    </tr>\n",
       "    <tr>\n",
       "      <th>3</th>\n",
       "      <td>520d5129-fa07-45a3-9108-f6fa895c0169</td>\n",
       "      <td>2015-01-24</td>\n",
       "      <td>67</td>\n",
       "      <td>F</td>\n",
       "      <td>N18</td>\n",
       "      <td>F05</td>\n",
       "      <td>NaN</td>\n",
       "      <td>8</td>\n",
       "    </tr>\n",
       "    <tr>\n",
       "      <th>4</th>\n",
       "      <td>e7af2ac0-bd25-4cfe-a6f2-e6642db02f64</td>\n",
       "      <td>2015-09-08</td>\n",
       "      <td>78</td>\n",
       "      <td>F</td>\n",
       "      <td>A41</td>\n",
       "      <td>T88</td>\n",
       "      <td>J18</td>\n",
       "      <td>13</td>\n",
       "    </tr>\n",
       "  </tbody>\n",
       "</table>\n",
       "</div>"
      ],
      "text/plain": [
       "                                Patient   AdmitDate  Age Gender PrimaryDx  \\\n",
       "0  5e982461-47d7-4ae9-ac75-d1f31acaee81  2015-09-12   74      M       N18   \n",
       "1  61e049c2-08e8-469a-a1e0-808d99c084fd  2015-03-23   71      F       N18   \n",
       "2  19bccbe8-0bc7-4dd5-8066-de5bd76acdff  2015-11-07   85      M       E11   \n",
       "3  520d5129-fa07-45a3-9108-f6fa895c0169  2015-01-24   67      F       N18   \n",
       "4  e7af2ac0-bd25-4cfe-a6f2-e6642db02f64  2015-09-08   78      F       A41   \n",
       "\n",
       "   Dx2  Dx3  PastPCPVisits  \n",
       "0  T88  NaN             19  \n",
       "1  R39  @NA              3  \n",
       "2  R39  NaN             10  \n",
       "3  F05  NaN              8  \n",
       "4  T88  J18             13  "
      ]
     },
     "execution_count": 5,
     "metadata": {},
     "output_type": "execute_result"
    }
   ],
   "source": [
    "claims.head()"
   ]
  },
  {
   "cell_type": "markdown",
   "metadata": {},
   "source": [
    "#### Initial Look\n",
    "\n",
    "There are two overlapping columns, patient ID and admitdate. The csvs map 1:1. AdmitDate will be more useful converted to a datetime type. "
   ]
  },
  {
   "cell_type": "code",
   "execution_count": 6,
   "metadata": {},
   "outputs": [
    {
     "name": "stdout",
     "output_type": "stream",
     "text": [
      "admit: 5849 rows and 3 columns\n",
      "claims: 5849 rows and 8 columns\n"
     ]
    }
   ],
   "source": [
    "print('admit: {} rows and {} columns'.format(*admit.shape))\n",
    "print('claims: {} rows and {} columns'.format(*claims.shape))"
   ]
  },
  {
   "cell_type": "code",
   "execution_count": 7,
   "metadata": {
    "scrolled": false
   },
   "outputs": [
    {
     "data": {
      "text/html": [
       "<div>\n",
       "<style>\n",
       "    .dataframe thead tr:only-child th {\n",
       "        text-align: right;\n",
       "    }\n",
       "\n",
       "    .dataframe thead th {\n",
       "        text-align: left;\n",
       "    }\n",
       "\n",
       "    .dataframe tbody tr th {\n",
       "        vertical-align: top;\n",
       "    }\n",
       "</style>\n",
       "<table border=\"1\" class=\"dataframe\">\n",
       "  <thead>\n",
       "    <tr style=\"text-align: right;\">\n",
       "      <th></th>\n",
       "      <th>Patient</th>\n",
       "      <th>AdmitDate</th>\n",
       "      <th>LOS</th>\n",
       "      <th>Age</th>\n",
       "      <th>Gender</th>\n",
       "      <th>PrimaryDx</th>\n",
       "      <th>Dx2</th>\n",
       "      <th>Dx3</th>\n",
       "      <th>PastPCPVisits</th>\n",
       "    </tr>\n",
       "  </thead>\n",
       "  <tbody>\n",
       "    <tr>\n",
       "      <th>0</th>\n",
       "      <td>5e982461-47d7-4ae9-ac75-d1f31acaee81</td>\n",
       "      <td>2015-09-12</td>\n",
       "      <td>9</td>\n",
       "      <td>74</td>\n",
       "      <td>M</td>\n",
       "      <td>N18</td>\n",
       "      <td>T88</td>\n",
       "      <td>NaN</td>\n",
       "      <td>19</td>\n",
       "    </tr>\n",
       "    <tr>\n",
       "      <th>1</th>\n",
       "      <td>61e049c2-08e8-469a-a1e0-808d99c084fd</td>\n",
       "      <td>2015-03-23</td>\n",
       "      <td>7</td>\n",
       "      <td>71</td>\n",
       "      <td>F</td>\n",
       "      <td>N18</td>\n",
       "      <td>R39</td>\n",
       "      <td>@NA</td>\n",
       "      <td>3</td>\n",
       "    </tr>\n",
       "    <tr>\n",
       "      <th>2</th>\n",
       "      <td>19bccbe8-0bc7-4dd5-8066-de5bd76acdff</td>\n",
       "      <td>2015-11-07</td>\n",
       "      <td>7</td>\n",
       "      <td>85</td>\n",
       "      <td>M</td>\n",
       "      <td>E11</td>\n",
       "      <td>R39</td>\n",
       "      <td>NaN</td>\n",
       "      <td>10</td>\n",
       "    </tr>\n",
       "    <tr>\n",
       "      <th>3</th>\n",
       "      <td>520d5129-fa07-45a3-9108-f6fa895c0169</td>\n",
       "      <td>2015-01-24</td>\n",
       "      <td>7</td>\n",
       "      <td>67</td>\n",
       "      <td>F</td>\n",
       "      <td>N18</td>\n",
       "      <td>F05</td>\n",
       "      <td>NaN</td>\n",
       "      <td>8</td>\n",
       "    </tr>\n",
       "    <tr>\n",
       "      <th>4</th>\n",
       "      <td>e7af2ac0-bd25-4cfe-a6f2-e6642db02f64</td>\n",
       "      <td>2015-09-08</td>\n",
       "      <td>5</td>\n",
       "      <td>78</td>\n",
       "      <td>F</td>\n",
       "      <td>A41</td>\n",
       "      <td>T88</td>\n",
       "      <td>J18</td>\n",
       "      <td>13</td>\n",
       "    </tr>\n",
       "  </tbody>\n",
       "</table>\n",
       "</div>"
      ],
      "text/plain": [
       "                                Patient  AdmitDate  LOS  Age Gender PrimaryDx  \\\n",
       "0  5e982461-47d7-4ae9-ac75-d1f31acaee81 2015-09-12    9   74      M       N18   \n",
       "1  61e049c2-08e8-469a-a1e0-808d99c084fd 2015-03-23    7   71      F       N18   \n",
       "2  19bccbe8-0bc7-4dd5-8066-de5bd76acdff 2015-11-07    7   85      M       E11   \n",
       "3  520d5129-fa07-45a3-9108-f6fa895c0169 2015-01-24    7   67      F       N18   \n",
       "4  e7af2ac0-bd25-4cfe-a6f2-e6642db02f64 2015-09-08    5   78      F       A41   \n",
       "\n",
       "   Dx2  Dx3  PastPCPVisits  \n",
       "0  T88  NaN             19  \n",
       "1  R39  @NA              3  \n",
       "2  R39  NaN             10  \n",
       "3  F05  NaN              8  \n",
       "4  T88  J18             13  "
      ]
     },
     "execution_count": 7,
     "metadata": {},
     "output_type": "execute_result"
    }
   ],
   "source": [
    "full = pd.merge(admit,claims,on=['Patient','AdmitDate'])\n",
    "full['AdmitDate'] = pd.to_datetime(full['AdmitDate'])\n",
    "full.head()"
   ]
  },
  {
   "cell_type": "code",
   "execution_count": 8,
   "metadata": {},
   "outputs": [
    {
     "name": "stdout",
     "output_type": "stream",
     "text": [
      "full: 5849 rows and 9 columns\n"
     ]
    }
   ],
   "source": [
    "print('full: {} rows and {} columns'.format(*full.shape))"
   ]
  },
  {
   "cell_type": "code",
   "execution_count": 9,
   "metadata": {
    "collapsed": true
   },
   "outputs": [],
   "source": [
    "#full.set_index('AdmitDate')"
   ]
  },
  {
   "cell_type": "markdown",
   "metadata": {},
   "source": [
    "#### Null Values\n",
    "\n",
    "Can be:\n",
    "    \n",
    "    empty strings or values\n",
    "    NaN\n",
    "    @NA"
   ]
  },
  {
   "cell_type": "code",
   "execution_count": 10,
   "metadata": {},
   "outputs": [
    {
     "name": "stdout",
     "output_type": "stream",
     "text": [
      "<class 'pandas.core.frame.DataFrame'>\n",
      "Int64Index: 5849 entries, 0 to 5848\n",
      "Data columns (total 9 columns):\n",
      "Patient          5849 non-null object\n",
      "AdmitDate        5849 non-null datetime64[ns]\n",
      "LOS              5849 non-null int64\n",
      "Age              5849 non-null int64\n",
      "Gender           5849 non-null object\n",
      "PrimaryDx        5849 non-null object\n",
      "Dx2              5849 non-null object\n",
      "Dx3              3883 non-null object\n",
      "PastPCPVisits    5849 non-null int64\n",
      "dtypes: datetime64[ns](1), int64(3), object(5)\n",
      "memory usage: 457.0+ KB\n"
     ]
    }
   ],
   "source": [
    "full.info()"
   ]
  },
  {
   "cell_type": "code",
   "execution_count": 11,
   "metadata": {
    "collapsed": true
   },
   "outputs": [],
   "source": [
    "full_nan = full.replace('@NA',np.NaN) # replace @NA\n",
    "full_nan = full_nan.replace('',np.NaN) # didn't find any empty strings"
   ]
  },
  {
   "cell_type": "markdown",
   "metadata": {},
   "source": [
    "Looks like feature Dx3 is the only one with null values but they are 67% of the column which makes it unrealistic to impute. \n",
    "\n",
    "This makes sense as it is less likely to have a third diagnosis at admission time as a primary or secondary. Have to keep an eye on it down the line. For now leave as ''"
   ]
  },
  {
   "cell_type": "code",
   "execution_count": 12,
   "metadata": {},
   "outputs": [
    {
     "data": {
      "text/plain": [
       "Patient          0.00000\n",
       "AdmitDate        0.00000\n",
       "LOS              0.00000\n",
       "Age              0.00000\n",
       "Gender           0.00000\n",
       "PrimaryDx        0.00000\n",
       "Dx2              0.00000\n",
       "Dx3              0.66849\n",
       "PastPCPVisits    0.00000\n",
       "dtype: float64"
      ]
     },
     "execution_count": 12,
     "metadata": {},
     "output_type": "execute_result"
    }
   ],
   "source": [
    "full_nan.isnull().sum() / full_nan.shape[0]"
   ]
  },
  {
   "cell_type": "code",
   "execution_count": 13,
   "metadata": {
    "collapsed": true
   },
   "outputs": [],
   "source": [
    "full = full.replace('@NA',np.NaN) # replace @NA\n",
    "full = full.replace('',np.NaN) # didn't find any empty strings\n",
    "full = full.replace(np.NaN,'')"
   ]
  },
  {
   "cell_type": "markdown",
   "metadata": {},
   "source": [
    "#### Determine Patients with Readmissions and create <=30Days target column\n",
    "\n",
    "Any patient id which shows up more than once is considered a readmission. New binary column is created since this is our target variable."
   ]
  },
  {
   "cell_type": "code",
   "execution_count": 14,
   "metadata": {},
   "outputs": [
    {
     "name": "stdout",
     "output_type": "stream",
     "text": [
      "There are 1932 patients readmitted in the dataset\n"
     ]
    }
   ],
   "source": [
    "print('There are {} patients readmitted in the dataset'.format(np.sum(full['Patient'].value_counts()>1)))\n"
   ]
  },
  {
   "cell_type": "code",
   "execution_count": 15,
   "metadata": {
    "collapsed": true
   },
   "outputs": [],
   "source": [
    "full['Readmitted'] = full.groupby(['Patient'])['Patient'].transform('count')\n",
    "full['Readmitted'] = full['Readmitted'].map({2:1,1:0})"
   ]
  },
  {
   "cell_type": "code",
   "execution_count": 16,
   "metadata": {},
   "outputs": [
    {
     "data": {
      "text/plain": [
       "5844    6 days\n",
       "5845   31 days\n",
       "5846   40 days\n",
       "5847   36 days\n",
       "5848   32 days\n",
       "Name: AdmitDate, dtype: timedelta64[ns]"
      ]
     },
     "execution_count": 16,
     "metadata": {},
     "output_type": "execute_result"
    }
   ],
   "source": [
    "full[full['Readmitted'] == 1].groupby(['Patient']).diff()['AdmitDate'].tail()"
   ]
  },
  {
   "cell_type": "code",
   "execution_count": 17,
   "metadata": {
    "collapsed": true
   },
   "outputs": [],
   "source": [
    "full['DaysSinceAdmission'] = full[full['Readmitted'] == 1].groupby(['Patient']).diff()['AdmitDate']"
   ]
  },
  {
   "cell_type": "code",
   "execution_count": 18,
   "metadata": {
    "collapsed": true
   },
   "outputs": [],
   "source": [
    "full['<=30Days'] = (full['DaysSinceAdmission'] <= pd.Timedelta('30 days')).astype(np.int)"
   ]
  },
  {
   "cell_type": "code",
   "execution_count": 19,
   "metadata": {},
   "outputs": [
    {
     "data": {
      "text/html": [
       "<div>\n",
       "<style>\n",
       "    .dataframe thead tr:only-child th {\n",
       "        text-align: right;\n",
       "    }\n",
       "\n",
       "    .dataframe thead th {\n",
       "        text-align: left;\n",
       "    }\n",
       "\n",
       "    .dataframe tbody tr th {\n",
       "        vertical-align: top;\n",
       "    }\n",
       "</style>\n",
       "<table border=\"1\" class=\"dataframe\">\n",
       "  <thead>\n",
       "    <tr style=\"text-align: right;\">\n",
       "      <th></th>\n",
       "      <th>Patient</th>\n",
       "      <th>AdmitDate</th>\n",
       "      <th>LOS</th>\n",
       "      <th>Age</th>\n",
       "      <th>Gender</th>\n",
       "      <th>PrimaryDx</th>\n",
       "      <th>Dx2</th>\n",
       "      <th>Dx3</th>\n",
       "      <th>PastPCPVisits</th>\n",
       "      <th>Readmitted</th>\n",
       "      <th>DaysSinceAdmission</th>\n",
       "      <th>&lt;=30Days</th>\n",
       "    </tr>\n",
       "  </thead>\n",
       "  <tbody>\n",
       "    <tr>\n",
       "      <th>5844</th>\n",
       "      <td>641acfac-9bd1-4864-be0a-52d4bfc78ef9</td>\n",
       "      <td>2016-03-14</td>\n",
       "      <td>7</td>\n",
       "      <td>75</td>\n",
       "      <td>M</td>\n",
       "      <td>A41</td>\n",
       "      <td>I51</td>\n",
       "      <td></td>\n",
       "      <td>15</td>\n",
       "      <td>1</td>\n",
       "      <td>6 days</td>\n",
       "      <td>1</td>\n",
       "    </tr>\n",
       "    <tr>\n",
       "      <th>5845</th>\n",
       "      <td>e152df3f-69a5-4ad4-9cf0-a3b7a6b9d4d8</td>\n",
       "      <td>2016-12-20</td>\n",
       "      <td>5</td>\n",
       "      <td>86</td>\n",
       "      <td>M</td>\n",
       "      <td>E11</td>\n",
       "      <td>R41</td>\n",
       "      <td></td>\n",
       "      <td>17</td>\n",
       "      <td>1</td>\n",
       "      <td>31 days</td>\n",
       "      <td>0</td>\n",
       "    </tr>\n",
       "    <tr>\n",
       "      <th>5846</th>\n",
       "      <td>a45e1bab-df5f-4078-b938-31f920e2f765</td>\n",
       "      <td>2016-09-18</td>\n",
       "      <td>9</td>\n",
       "      <td>78</td>\n",
       "      <td>M</td>\n",
       "      <td>A41</td>\n",
       "      <td>I51</td>\n",
       "      <td>R05</td>\n",
       "      <td>14</td>\n",
       "      <td>1</td>\n",
       "      <td>40 days</td>\n",
       "      <td>0</td>\n",
       "    </tr>\n",
       "    <tr>\n",
       "      <th>5847</th>\n",
       "      <td>963fdb5d-bfe6-47c9-84c8-6456ce0fd093</td>\n",
       "      <td>2017-01-19</td>\n",
       "      <td>6</td>\n",
       "      <td>81</td>\n",
       "      <td>M</td>\n",
       "      <td>J44</td>\n",
       "      <td>F05</td>\n",
       "      <td></td>\n",
       "      <td>17</td>\n",
       "      <td>1</td>\n",
       "      <td>36 days</td>\n",
       "      <td>0</td>\n",
       "    </tr>\n",
       "    <tr>\n",
       "      <th>5848</th>\n",
       "      <td>a2940e72-8185-4944-8257-6c440d8aa374</td>\n",
       "      <td>2016-09-11</td>\n",
       "      <td>8</td>\n",
       "      <td>77</td>\n",
       "      <td>F</td>\n",
       "      <td>I50</td>\n",
       "      <td>R39</td>\n",
       "      <td></td>\n",
       "      <td>11</td>\n",
       "      <td>1</td>\n",
       "      <td>32 days</td>\n",
       "      <td>0</td>\n",
       "    </tr>\n",
       "  </tbody>\n",
       "</table>\n",
       "</div>"
      ],
      "text/plain": [
       "                                   Patient  AdmitDate  LOS  Age Gender  \\\n",
       "5844  641acfac-9bd1-4864-be0a-52d4bfc78ef9 2016-03-14    7   75      M   \n",
       "5845  e152df3f-69a5-4ad4-9cf0-a3b7a6b9d4d8 2016-12-20    5   86      M   \n",
       "5846  a45e1bab-df5f-4078-b938-31f920e2f765 2016-09-18    9   78      M   \n",
       "5847  963fdb5d-bfe6-47c9-84c8-6456ce0fd093 2017-01-19    6   81      M   \n",
       "5848  a2940e72-8185-4944-8257-6c440d8aa374 2016-09-11    8   77      F   \n",
       "\n",
       "     PrimaryDx  Dx2  Dx3  PastPCPVisits  Readmitted DaysSinceAdmission  \\\n",
       "5844       A41  I51                  15           1             6 days   \n",
       "5845       E11  R41                  17           1            31 days   \n",
       "5846       A41  I51  R05             14           1            40 days   \n",
       "5847       J44  F05                  17           1            36 days   \n",
       "5848       I50  R39                  11           1            32 days   \n",
       "\n",
       "      <=30Days  \n",
       "5844         1  \n",
       "5845         0  \n",
       "5846         0  \n",
       "5847         0  \n",
       "5848         0  "
      ]
     },
     "execution_count": 19,
     "metadata": {},
     "output_type": "execute_result"
    }
   ],
   "source": [
    "full.tail()"
   ]
  },
  {
   "cell_type": "markdown",
   "metadata": {},
   "source": [
    "#### Correct the target column\n",
    "\n",
    "I was looking at the characteristics of the _readmission_ trying to predict itself when I should have flagged the first visit as __will_be_readmitted__ to use its characteristics to predict a readmission."
   ]
  },
  {
   "cell_type": "code",
   "execution_count": 20,
   "metadata": {
    "collapsed": true
   },
   "outputs": [],
   "source": [
    "full[['WillBe<=30Days']] = full[full['Readmitted'] == 1].groupby('Patient').shift(-1)[['<=30Days']].fillna(0).astype(np.int)\n"
   ]
  },
  {
   "cell_type": "code",
   "execution_count": 927,
   "metadata": {},
   "outputs": [
    {
     "data": {
      "text/html": [
       "<div>\n",
       "<style>\n",
       "    .dataframe thead tr:only-child th {\n",
       "        text-align: right;\n",
       "    }\n",
       "\n",
       "    .dataframe thead th {\n",
       "        text-align: left;\n",
       "    }\n",
       "\n",
       "    .dataframe tbody tr th {\n",
       "        vertical-align: top;\n",
       "    }\n",
       "</style>\n",
       "<table border=\"1\" class=\"dataframe\">\n",
       "  <thead>\n",
       "    <tr style=\"text-align: right;\">\n",
       "      <th></th>\n",
       "      <th>Patient</th>\n",
       "      <th>AdmitDate</th>\n",
       "      <th>LOS</th>\n",
       "      <th>Age</th>\n",
       "      <th>Gender</th>\n",
       "      <th>PrimaryDx</th>\n",
       "      <th>Dx2</th>\n",
       "      <th>Dx3</th>\n",
       "      <th>PastPCPVisits</th>\n",
       "      <th>Readmitted</th>\n",
       "      <th>DaysSinceAdmission</th>\n",
       "      <th>&lt;=30Days</th>\n",
       "      <th>WillBe&lt;=30Days</th>\n",
       "    </tr>\n",
       "  </thead>\n",
       "  <tbody>\n",
       "    <tr>\n",
       "      <th>0</th>\n",
       "      <td>5e982461-47d7-4ae9-ac75-d1f31acaee81</td>\n",
       "      <td>2015-09-12</td>\n",
       "      <td>9</td>\n",
       "      <td>74</td>\n",
       "      <td>M</td>\n",
       "      <td>N18</td>\n",
       "      <td>T88</td>\n",
       "      <td></td>\n",
       "      <td>19</td>\n",
       "      <td>1</td>\n",
       "      <td>NaT</td>\n",
       "      <td>0</td>\n",
       "      <td>1.0</td>\n",
       "    </tr>\n",
       "    <tr>\n",
       "      <th>4304</th>\n",
       "      <td>5e982461-47d7-4ae9-ac75-d1f31acaee81</td>\n",
       "      <td>2015-09-22</td>\n",
       "      <td>5</td>\n",
       "      <td>74</td>\n",
       "      <td>M</td>\n",
       "      <td>J44</td>\n",
       "      <td>R41</td>\n",
       "      <td>H91</td>\n",
       "      <td>21</td>\n",
       "      <td>1</td>\n",
       "      <td>10 days</td>\n",
       "      <td>1</td>\n",
       "      <td>0.0</td>\n",
       "    </tr>\n",
       "  </tbody>\n",
       "</table>\n",
       "</div>"
      ],
      "text/plain": [
       "                                   Patient  AdmitDate  LOS  Age Gender  \\\n",
       "0     5e982461-47d7-4ae9-ac75-d1f31acaee81 2015-09-12    9   74      M   \n",
       "4304  5e982461-47d7-4ae9-ac75-d1f31acaee81 2015-09-22    5   74      M   \n",
       "\n",
       "     PrimaryDx  Dx2  Dx3  PastPCPVisits  Readmitted DaysSinceAdmission  \\\n",
       "0          N18  T88                  19           1                NaT   \n",
       "4304       J44  R41  H91             21           1            10 days   \n",
       "\n",
       "      <=30Days  WillBe<=30Days  \n",
       "0            0             1.0  \n",
       "4304         1             0.0  "
      ]
     },
     "execution_count": 927,
     "metadata": {},
     "output_type": "execute_result"
    }
   ],
   "source": [
    "full[full['Patient'] == '5e982461-47d7-4ae9-ac75-d1f31acaee81']"
   ]
  },
  {
   "cell_type": "markdown",
   "metadata": {},
   "source": [
    "Confirm that the distributions are the same, since they should be. Turns out I need to fill NaNs with zeros"
   ]
  },
  {
   "cell_type": "code",
   "execution_count": 21,
   "metadata": {},
   "outputs": [
    {
     "data": {
      "text/plain": [
       "0    4471\n",
       "1    1378\n",
       "Name: <=30Days, dtype: int64"
      ]
     },
     "execution_count": 21,
     "metadata": {},
     "output_type": "execute_result"
    }
   ],
   "source": [
    "full['<=30Days'].value_counts()"
   ]
  },
  {
   "cell_type": "code",
   "execution_count": 22,
   "metadata": {
    "scrolled": true
   },
   "outputs": [
    {
     "data": {
      "text/plain": [
       "0.0    2486\n",
       "1.0    1378\n",
       "Name: WillBe<=30Days, dtype: int64"
      ]
     },
     "execution_count": 22,
     "metadata": {},
     "output_type": "execute_result"
    }
   ],
   "source": [
    "full['WillBe<=30Days'].value_counts()"
   ]
  },
  {
   "cell_type": "code",
   "execution_count": 23,
   "metadata": {
    "collapsed": true
   },
   "outputs": [],
   "source": [
    "full['WillBe<=30Days'] = full['WillBe<=30Days'].fillna(0)"
   ]
  },
  {
   "cell_type": "code",
   "execution_count": 24,
   "metadata": {},
   "outputs": [
    {
     "name": "stdout",
     "output_type": "stream",
     "text": [
      "There is a 23.56% chance of being readmitted within 30 days\n"
     ]
    }
   ],
   "source": [
    "print('There is a {:.2f}% chance of being readmitted within 30 days'.format(100*full['WillBe<=30Days'].mean()))\n"
   ]
  },
  {
   "cell_type": "markdown",
   "metadata": {},
   "source": [
    "#### Reset the <=30Days column to correct values\n",
    "\n",
    "Since the rest of the notebook uses '<=30Days' as the target, I'm going to overwrite it with 'WillBe<=30Days'"
   ]
  },
  {
   "cell_type": "code",
   "execution_count": 25,
   "metadata": {
    "collapsed": true
   },
   "outputs": [],
   "source": [
    "full['<=30Days'] = full['WillBe<=30Days']\n",
    "full.drop('WillBe<=30Days',axis=1,inplace=True)"
   ]
  },
  {
   "cell_type": "markdown",
   "metadata": {},
   "source": [
    "#### Summary statistics of features\n",
    "\n",
    "Confirm no duplicates. Would not want to be incorrectly counting. Take a look at distributions of each feature. This can be done for each column by looking at all columns value counts. This isn't always manageable but with a small dataset like this it is helpful. "
   ]
  },
  {
   "cell_type": "code",
   "execution_count": 26,
   "metadata": {},
   "outputs": [
    {
     "data": {
      "text/plain": [
       "0"
      ]
     },
     "execution_count": 26,
     "metadata": {},
     "output_type": "execute_result"
    }
   ],
   "source": [
    "full.duplicated().sum()"
   ]
  },
  {
   "cell_type": "code",
   "execution_count": 27,
   "metadata": {},
   "outputs": [
    {
     "name": "stdout",
     "output_type": "stream",
     "text": [
      "519aa967-1efd-4324-a2bd-d2bc10b6d1f1    2\n",
      "5b491bfa-d25f-42cd-91f7-86e051a80eb2    2\n",
      "60d1edae-6c89-413d-a89f-d647d1c54fd4    2\n",
      "45b8931f-4933-4117-8050-7114ff79488d    2\n",
      "2688cccb-2fd0-4a9b-9d13-d7d879681088    2\n",
      "66b902a6-1c81-4449-b341-134f71f9eaef    2\n",
      "f2a8e0d4-f42a-406f-8605-2d11fe9d5cf1    2\n",
      "ad3dcb5a-4a6e-4f48-b4c4-bb3a5c5ef632    2\n",
      "5e0e72d1-3e35-4289-9e54-f449d87d05b8    2\n",
      "5c195cc9-7fe6-4bbe-8e19-493d80c704a8    2\n",
      "a18c7486-7324-4d4d-b34e-70f999781464    2\n",
      "010ceb21-cdae-4eec-9e82-571f52784ba1    2\n",
      "616314aa-03b7-4f0e-a92e-cfec6d8f6f94    2\n",
      "8910ce4c-ecd8-44dd-9f4e-55481d73f244    2\n",
      "d4397339-8b92-4fc6-8d16-1fc05fb49f2c    2\n",
      "7423a780-f3ca-4a4f-800e-299caa3829c9    2\n",
      "b174bcf0-69f8-4d80-a2ea-4494c6b9ec45    2\n",
      "391546c9-d4d0-4b61-ab1e-724d04b70392    2\n",
      "c439eaff-e429-4247-88dd-e65fd26a2a77    2\n",
      "4f655ff7-9ee2-4977-b859-6b5f7edd3545    2\n",
      "fed5aaf4-18bd-4ae9-8062-b169a864b359    2\n",
      "a103d35c-0346-4a1d-acf4-8a4149ed142d    2\n",
      "a89b1496-421a-4023-9c0d-cf41dfd5db4c    2\n",
      "9f18e1e3-089a-4210-9eee-d0ef0671b38d    2\n",
      "a593b459-a211-4be7-b46a-14b9753e21d9    2\n",
      "ce33d8c1-ca8a-42ff-a5d0-83d82cc467a1    2\n",
      "6c401af5-fdf9-4044-a19f-b38504d39610    2\n",
      "69d09d88-ad23-43c1-bef7-5c208b6b1f83    2\n",
      "8c18edfa-a4fe-4e8b-be5f-0aeccb41f093    2\n",
      "417ec9f0-eca3-4b4a-834b-5e7b09426197    2\n",
      "                                       ..\n",
      "1d414092-f7e2-475e-90c0-8294872e6a80    1\n",
      "46196ea7-89c0-4fe7-aab4-a6bb344fb0b8    1\n",
      "b0c22977-1c43-495d-a25e-482d61cfa94b    1\n",
      "2a6e7864-8166-4036-9c47-5e5da28fe8d9    1\n",
      "9ac203d0-39ad-4b25-8b54-c1a56efa6be9    1\n",
      "3ac5d807-f1d2-4dcc-b6cc-1281a67e81f2    1\n",
      "25fae7a2-3503-4475-b4bf-e1af26dbcbda    1\n",
      "0c81bc30-726b-43dc-8905-4f61b338ad38    1\n",
      "e82c7adc-47b9-482a-ad12-545e248f5cc3    1\n",
      "8fd093bc-e082-4af8-ad37-83e18c6ec2e3    1\n",
      "2925b556-0c74-404f-b2b6-1feefe1e1707    1\n",
      "92e07916-da76-4e62-9365-2d829e62acb0    1\n",
      "f3c3096d-65d9-40bb-af59-1ac110ed8986    1\n",
      "2ec933a2-48cb-4bd6-948e-4ee6e98f2844    1\n",
      "cec505da-adb8-42c6-8239-aeefc63af301    1\n",
      "d46550f1-3837-4a3e-b183-305511cb7dbb    1\n",
      "6009f99c-a40c-41ce-bc81-8a1f77da0eaf    1\n",
      "54c25f13-a0b2-41dc-9d5d-82164d9cd6f8    1\n",
      "c911dfaa-880a-4c41-b721-160402e267a2    1\n",
      "d276adeb-f807-4c6e-9eb2-236d53c9519b    1\n",
      "83904354-6983-4f2c-9eae-093890f3551b    1\n",
      "0b2b81ae-2062-4463-8148-fb54ec923018    1\n",
      "c170e432-7fa9-4f1d-9240-b4d941057495    1\n",
      "2d645cac-dd2b-4afd-ba1b-737fdca04f87    1\n",
      "63de321b-d4f0-435f-856c-805680cd73a7    1\n",
      "8347e2e2-fd3a-4bf0-b596-70833cf3f61b    1\n",
      "6dc7a19c-8272-419d-9b32-891bfdeb9f4d    1\n",
      "85dd49f5-6a18-4e2a-b2a4-65ade9d89890    1\n",
      "3c6efc38-a9f6-4772-bb3f-c85922c482a6    1\n",
      "8ffda31a-4ee5-4ccd-9f73-7e0f17944629    1\n",
      "Name: Patient, Length: 3917, dtype: int64\n",
      "2016-06-22    19\n",
      "2015-04-01    17\n",
      "2016-03-14    15\n",
      "2016-01-12    15\n",
      "2016-02-06    15\n",
      "2015-05-06    15\n",
      "2015-07-25    15\n",
      "2016-05-28    14\n",
      "2016-05-11    14\n",
      "2016-05-15    14\n",
      "2016-05-13    14\n",
      "2015-09-15    14\n",
      "2015-03-25    14\n",
      "2015-09-13    14\n",
      "2016-01-03    14\n",
      "2016-10-29    14\n",
      "2016-06-06    14\n",
      "2016-01-14    14\n",
      "2016-09-18    14\n",
      "2016-02-27    14\n",
      "2016-02-21    14\n",
      "2015-06-03    13\n",
      "2015-07-12    13\n",
      "2016-08-09    13\n",
      "2015-09-20    13\n",
      "2015-12-07    13\n",
      "2015-05-19    13\n",
      "2016-01-06    13\n",
      "2015-05-22    13\n",
      "2016-07-30    13\n",
      "              ..\n",
      "2017-01-26     2\n",
      "2015-06-23     2\n",
      "2015-10-24     2\n",
      "2017-01-22     2\n",
      "2016-12-21     2\n",
      "2015-01-01     2\n",
      "2016-06-15     2\n",
      "2017-01-19     2\n",
      "2015-12-18     2\n",
      "2016-07-23     2\n",
      "2017-01-11     2\n",
      "2016-12-28     2\n",
      "2016-05-30     2\n",
      "2015-06-21     1\n",
      "2015-12-13     1\n",
      "2017-03-08     1\n",
      "2017-02-09     1\n",
      "2017-01-21     1\n",
      "2015-01-10     1\n",
      "2017-01-23     1\n",
      "2017-01-08     1\n",
      "2017-01-24     1\n",
      "2017-02-07     1\n",
      "2017-01-03     1\n",
      "2017-01-28     1\n",
      "2016-12-06     1\n",
      "2017-02-08     1\n",
      "2017-02-03     1\n",
      "2017-02-25     1\n",
      "2017-02-15     1\n",
      "Name: AdmitDate, Length: 760, dtype: int64\n",
      "6     1382\n",
      "5     1309\n",
      "7      973\n",
      "4      786\n",
      "8      556\n",
      "3      297\n",
      "9      258\n",
      "10     106\n",
      "2       65\n",
      "11      47\n",
      "12      28\n",
      "14      13\n",
      "13      13\n",
      "1       13\n",
      "15       3\n",
      "Name: LOS, dtype: int64\n",
      "77    418\n",
      "75    414\n",
      "73    391\n",
      "74    380\n",
      "76    373\n",
      "79    367\n",
      "72    341\n",
      "78    332\n",
      "80    301\n",
      "71    282\n",
      "81    244\n",
      "69    229\n",
      "70    223\n",
      "68    216\n",
      "67    196\n",
      "83    191\n",
      "82    187\n",
      "84    146\n",
      "85    129\n",
      "66    119\n",
      "90     99\n",
      "86     97\n",
      "87     80\n",
      "89     41\n",
      "88     39\n",
      "65     14\n",
      "Name: Age, dtype: int64\n",
      "F    2967\n",
      "M    2882\n",
      "Name: Gender, dtype: int64\n",
      "N18    1498\n",
      "E11    1422\n",
      "A41    1171\n",
      "I50     943\n",
      "J44     805\n",
      "N39      10\n",
      "Name: PrimaryDx, dtype: int64\n",
      "T88    830\n",
      "R39    764\n",
      "F03    748\n",
      "G31    626\n",
      "F05    517\n",
      "R41    448\n",
      "F19    425\n",
      "I51    423\n",
      "E86    388\n",
      "E11    357\n",
      "W19    318\n",
      "M54      5\n",
      "Name: Dx2, dtype: int64\n",
      "       3910\n",
      "E11     299\n",
      "R51     287\n",
      "R05     147\n",
      "H53     146\n",
      "I10     144\n",
      "J45     136\n",
      "M54     135\n",
      "E56     134\n",
      "J18     132\n",
      "H91     129\n",
      "G89     125\n",
      "R26     125\n",
      "Name: Dx3, dtype: int64\n",
      "11    391\n",
      "13    385\n",
      "9     374\n",
      "12    371\n",
      "10    366\n",
      "8     330\n",
      "7     328\n",
      "15    307\n",
      "6     307\n",
      "14    306\n",
      "16    290\n",
      "5     285\n",
      "17    267\n",
      "4     266\n",
      "3     248\n",
      "18    234\n",
      "19    213\n",
      "2     155\n",
      "20    135\n",
      "21     93\n",
      "1      75\n",
      "22     58\n",
      "23     21\n",
      "24     16\n",
      "26      8\n",
      "25      7\n",
      "27      4\n",
      "28      3\n",
      "29      2\n",
      "32      1\n",
      "30      1\n",
      "34      1\n",
      "31      1\n",
      "Name: PastPCPVisits, dtype: int64\n",
      "1    3864\n",
      "0    1985\n",
      "Name: Readmitted, dtype: int64\n",
      "16 days     64\n",
      "11 days     63\n",
      "12 days     62\n",
      "9 days      59\n",
      "17 days     59\n",
      "19 days     58\n",
      "13 days     57\n",
      "20 days     56\n",
      "10 days     55\n",
      "14 days     54\n",
      "7 days      53\n",
      "23 days     51\n",
      "24 days     51\n",
      "6 days      50\n",
      "26 days     50\n",
      "25 days     49\n",
      "15 days     48\n",
      "5 days      47\n",
      "18 days     47\n",
      "22 days     47\n",
      "8 days      43\n",
      "4 days      41\n",
      "30 days     41\n",
      "21 days     39\n",
      "28 days     38\n",
      "31 days     38\n",
      "27 days     38\n",
      "34 days     36\n",
      "29 days     34\n",
      "32 days     32\n",
      "            ..\n",
      "56 days      6\n",
      "61 days      5\n",
      "54 days      5\n",
      "59 days      5\n",
      "50 days      5\n",
      "63 days      4\n",
      "58 days      4\n",
      "73 days      4\n",
      "60 days      4\n",
      "62 days      3\n",
      "75 days      3\n",
      "66 days      3\n",
      "64 days      3\n",
      "65 days      3\n",
      "88 days      2\n",
      "78 days      2\n",
      "71 days      2\n",
      "74 days      2\n",
      "81 days      2\n",
      "68 days      2\n",
      "87 days      2\n",
      "69 days      2\n",
      "79 days      2\n",
      "83 days      1\n",
      "84 days      1\n",
      "76 days      1\n",
      "85 days      1\n",
      "72 days      1\n",
      "82 days      1\n",
      "100 days     1\n",
      "Name: DaysSinceAdmission, Length: 83, dtype: int64\n",
      "0.0    4471\n",
      "1.0    1378\n",
      "Name: <=30Days, dtype: int64\n"
     ]
    }
   ],
   "source": [
    "for col in full.columns:\n",
    "    print(full[col].value_counts())"
   ]
  },
  {
   "cell_type": "code",
   "execution_count": 28,
   "metadata": {},
   "outputs": [
    {
     "name": "stdout",
     "output_type": "stream",
     "text": [
      "Columns:\n",
      "\tPatient\n",
      "\tAdmitDate\n",
      "\tLOS\n",
      "\tAge\n",
      "\tGender\n",
      "\tPrimaryDx\n",
      "\tDx2\n",
      "\tDx3\n",
      "\tPastPCPVisits\n",
      "\tReadmitted\n",
      "\tDaysSinceAdmission\n",
      "\t<=30Days\n"
     ]
    }
   ],
   "source": [
    "print('Columns:\\n\\t'+'\\n\\t'.join(map(str,[col for col in full.columns])))"
   ]
  },
  {
   "cell_type": "markdown",
   "metadata": {},
   "source": [
    "Theres a uniform distribution in of data across all the dates in the dataset with the months in 2017 trailing off.\n",
    "\n",
    "2017 dates won't be used in the evaluation of the model so this will not affect us"
   ]
  },
  {
   "cell_type": "code",
   "execution_count": 29,
   "metadata": {},
   "outputs": [
    {
     "data": {
      "text/plain": [
       "<matplotlib.text.Text at 0x1a0df3d978>"
      ]
     },
     "execution_count": 29,
     "metadata": {},
     "output_type": "execute_result"
    },
    {
     "data": {
      "image/png": "[encoded data removed]",
      "text/plain": [
       "<matplotlib.figure.Figure at 0x1a0e0c4e10>"
      ]
     },
     "metadata": {},
     "output_type": "display_data"
    }
   ],
   "source": [
    "full['AdmitDate'].hist(xrot=90,figsize=(12,4))\n",
    "plt.title('Patient distribution over dates',size=15)\n",
    "plt.ylabel('count')"
   ]
  },
  {
   "cell_type": "markdown",
   "metadata": {},
   "source": [
    "There is a ~normal distribution of Length of Stay centered around 6 days. There is a broad spread with a min of 1 and a max of 15 however 50% of the data sits in buckets days 5,6,7 days long."
   ]
  },
  {
   "cell_type": "code",
   "execution_count": 30,
   "metadata": {},
   "outputs": [
    {
     "data": {
      "text/plain": [
       "<matplotlib.text.Text at 0x1a0de23780>"
      ]
     },
     "execution_count": 30,
     "metadata": {},
     "output_type": "execute_result"
    },
    {
     "data": {
      "image/png": "[encoded data removed]",
      "text/plain": [
       "<matplotlib.figure.Figure at 0x1a0e0c4a90>"
      ]
     },
     "metadata": {},
     "output_type": "display_data"
    }
   ],
   "source": [
    "full['LOS'].plot(kind='box',figsize=(12,4),vert=False)\n",
    "plt.xlabel('days')\n",
    "plt.title('Distribution of length of stay',size=15)"
   ]
  },
  {
   "cell_type": "code",
   "execution_count": 31,
   "metadata": {},
   "outputs": [
    {
     "data": {
      "text/plain": [
       "15"
      ]
     },
     "execution_count": 31,
     "metadata": {},
     "output_type": "execute_result"
    }
   ],
   "source": [
    "full['LOS'].unique().shape[0]"
   ]
  },
  {
   "cell_type": "code",
   "execution_count": 32,
   "metadata": {},
   "outputs": [
    {
     "data": {
      "text/plain": [
       "<matplotlib.text.Text at 0x1a0de9d6a0>"
      ]
     },
     "execution_count": 32,
     "metadata": {},
     "output_type": "execute_result"
    },
    {
     "data": {
      "image/png": "[encoded data removed]",
      "text/plain": [
       "<matplotlib.figure.Figure at 0x1a0de0ea90>"
      ]
     },
     "metadata": {},
     "output_type": "display_data"
    }
   ],
   "source": [
    "full['LOS'].hist(bins=15,figsize=(12,4))\n",
    "plt.title('Distribution of length of stay',size=15)\n",
    "plt.xlabel('days')\n",
    "plt.ylabel('count')"
   ]
  },
  {
   "cell_type": "markdown",
   "metadata": {},
   "source": [
    "Age is a normal distribution with a clipping at the end probably rounding ages over 90 to the age 90. Majority sit between 72-80 yrs old."
   ]
  },
  {
   "cell_type": "code",
   "execution_count": 33,
   "metadata": {},
   "outputs": [
    {
     "data": {
      "text/plain": [
       "<matplotlib.text.Text at 0x1a0dde37f0>"
      ]
     },
     "execution_count": 33,
     "metadata": {},
     "output_type": "execute_result"
    },
    {
     "data": {
      "image/png": "[encoded data removed]",
      "text/plain": [
       "<matplotlib.figure.Figure at 0x1a0dd5c710>"
      ]
     },
     "metadata": {},
     "output_type": "display_data"
    }
   ],
   "source": [
    "full['Age'].plot(kind='box',figsize=(12,4),vert=False)\n",
    "plt.xlabel('yrs old')\n",
    "plt.title('Distribution of Age',size=15)"
   ]
  },
  {
   "cell_type": "code",
   "execution_count": 34,
   "metadata": {},
   "outputs": [
    {
     "data": {
      "text/plain": [
       "26"
      ]
     },
     "execution_count": 34,
     "metadata": {},
     "output_type": "execute_result"
    }
   ],
   "source": [
    "full['Age'].unique().shape[0]"
   ]
  },
  {
   "cell_type": "code",
   "execution_count": 35,
   "metadata": {},
   "outputs": [
    {
     "data": {
      "text/plain": [
       "<matplotlib.text.Text at 0x1a0dfdc358>"
      ]
     },
     "execution_count": 35,
     "metadata": {},
     "output_type": "execute_result"
    },
    {
     "data": {
      "image/png": "[encoded data removed]",
      "text/plain": [
       "<matplotlib.figure.Figure at 0x1a0ddca9e8>"
      ]
     },
     "metadata": {},
     "output_type": "display_data"
    }
   ],
   "source": [
    "full['Age'].hist(bins=26,figsize=(12,4))\n",
    "plt.title('Distribution of Age',size=15)\n",
    "plt.xlabel('yrs old')\n",
    "plt.ylabel('count')"
   ]
  },
  {
   "cell_type": "markdown",
   "metadata": {},
   "source": [
    "Even split of genders, though slightly more female as would be expected by their long expected lifespan"
   ]
  },
  {
   "cell_type": "code",
   "execution_count": 36,
   "metadata": {},
   "outputs": [
    {
     "data": {
      "text/plain": [
       "<matplotlib.text.Text at 0x1a16301828>"
      ]
     },
     "execution_count": 36,
     "metadata": {},
     "output_type": "execute_result"
    },
    {
     "data": {
      "image/png": "[encoded data removed]",
      "text/plain": [
       "<matplotlib.figure.Figure at 0x1a16308f28>"
      ]
     },
     "metadata": {},
     "output_type": "display_data"
    }
   ],
   "source": [
    "full['Gender'].value_counts().plot(kind='bar',figsize=(12,4))\n",
    "plt.title('Gender Distribution',size=15)\n",
    "plt.xlabel('gender')\n",
    "plt.ylabel('count')"
   ]
  },
  {
   "cell_type": "markdown",
   "metadata": {},
   "source": [
    "There are 3 diagnoses columns so lets take a look at all together. \n",
    "\n",
    "PrimaryDx:\n",
    "    - N39 has very few occurances\n",
    "    \n",
    "Dx2:\n",
    "    - M54 has very few occurances\n",
    "    \n",
    "Dx3:\n",
    "    - Exluding the missing data, all Dxs look to have between 200-500 occurances\n"
   ]
  },
  {
   "cell_type": "code",
   "execution_count": 37,
   "metadata": {
    "collapsed": true
   },
   "outputs": [],
   "source": [
    "Dx_cols = ['PrimaryDx','Dx2','Dx3']"
   ]
  },
  {
   "cell_type": "code",
   "execution_count": 38,
   "metadata": {},
   "outputs": [
    {
     "data": {
      "image/png": "[encoded data removed]",
      "text/plain": [
       "<matplotlib.figure.Figure at 0x1a16450080>"
      ]
     },
     "metadata": {},
     "output_type": "display_data"
    },
    {
     "data": {
      "image/png": "[encoded data removed]",
      "text/plain": [
       "<matplotlib.figure.Figure at 0x1a164501d0>"
      ]
     },
     "metadata": {},
     "output_type": "display_data"
    },
    {
     "data": {
      "image/png": "[encoded data removed]",
      "text/plain": [
       "<matplotlib.figure.Figure at 0x1a165e5908>"
      ]
     },
     "metadata": {},
     "output_type": "display_data"
    },
    {
     "data": {
      "text/plain": [
       "<matplotlib.figure.Figure at 0x1a166b5668>"
      ]
     },
     "metadata": {},
     "output_type": "display_data"
    }
   ],
   "source": [
    "for col in Dx_cols:\n",
    "    bins = full[col].unique().shape[0]\n",
    "    #full[col].hist(bins=bins,figsize=(12,4))\n",
    "    full[col].value_counts().plot(kind='bar',figsize=(12,4))\n",
    "    plt.title('Distribution of {}'.format(col),size=15)\n",
    "    plt.xlabel('dx')\n",
    "    plt.ylabel('count')\n",
    "    plt.figure()"
   ]
  },
  {
   "cell_type": "markdown",
   "metadata": {},
   "source": [
    "Past visits are all centered around 11 with 50% of the data between 7 adn 15 visits."
   ]
  },
  {
   "cell_type": "code",
   "execution_count": 39,
   "metadata": {},
   "outputs": [
    {
     "data": {
      "text/plain": [
       "count    5849.000000\n",
       "mean       11.123782\n",
       "std         5.373314\n",
       "min         1.000000\n",
       "25%         7.000000\n",
       "50%        11.000000\n",
       "75%        15.000000\n",
       "max        34.000000\n",
       "Name: PastPCPVisits, dtype: float64"
      ]
     },
     "execution_count": 39,
     "metadata": {},
     "output_type": "execute_result"
    }
   ],
   "source": [
    "full['PastPCPVisits'].describe()"
   ]
  },
  {
   "cell_type": "code",
   "execution_count": 40,
   "metadata": {},
   "outputs": [
    {
     "data": {
      "text/plain": [
       "<matplotlib.text.Text at 0x1a16a6e9b0>"
      ]
     },
     "execution_count": 40,
     "metadata": {},
     "output_type": "execute_result"
    },
    {
     "data": {
      "image/png": "[encoded data removed]",
      "text/plain": [
       "<matplotlib.figure.Figure at 0x1a0dff4630>"
      ]
     },
     "metadata": {},
     "output_type": "display_data"
    }
   ],
   "source": [
    "full['PastPCPVisits'].plot(kind='box',figsize=(12,4),vert=False)\n",
    "plt.xlabel('visits')\n",
    "plt.title('Distribution of Past PCP Visits',size=15)"
   ]
  },
  {
   "cell_type": "code",
   "execution_count": 41,
   "metadata": {},
   "outputs": [
    {
     "data": {
      "text/plain": [
       "<matplotlib.figure.Figure at 0x1a16bcc518>"
      ]
     },
     "execution_count": 41,
     "metadata": {},
     "output_type": "execute_result"
    },
    {
     "data": {
      "image/png": "[encoded data removed]",
      "text/plain": [
       "<matplotlib.figure.Figure at 0x1a16b458d0>"
      ]
     },
     "metadata": {},
     "output_type": "display_data"
    },
    {
     "data": {
      "text/plain": [
       "<matplotlib.figure.Figure at 0x1a16bcc518>"
      ]
     },
     "metadata": {},
     "output_type": "display_data"
    }
   ],
   "source": [
    "bins = full['PastPCPVisits'].unique().shape[0]\n",
    "full['PastPCPVisits'].hist(bins=bins,figsize=(12,4))\n",
    "plt.title('Distribution of Past PCP Visits'.format(col),size=15)\n",
    "plt.xlabel('visits')\n",
    "plt.ylabel('count')\n",
    "plt.figure()"
   ]
  },
  {
   "cell_type": "markdown",
   "metadata": {},
   "source": [
    "#### Take a quick look at which diagnoses, ages, and past visits lead to the highest readmittance\n",
    "\n",
    "Baseline rate is 66% readmitted but only 24% of those are readmitted within less than 30 days. We are therefore looking for combinations which lead to a higher readmitted rate than 24%."
   ]
  },
  {
   "cell_type": "code",
   "execution_count": 42,
   "metadata": {},
   "outputs": [
    {
     "data": {
      "text/plain": [
       "0.23559582834672593"
      ]
     },
     "execution_count": 42,
     "metadata": {},
     "output_type": "execute_result"
    }
   ],
   "source": [
    "full['<=30Days'].mean()"
   ]
  },
  {
   "cell_type": "code",
   "execution_count": 43,
   "metadata": {
    "scrolled": true
   },
   "outputs": [
    {
     "name": "stderr",
     "output_type": "stream",
     "text": [
      "/Users/xbno/anaconda3/lib/python3.6/site-packages/ipykernel_launcher.py:1: FutureWarning: using a dict on a Series for aggregation\n",
      "is deprecated and will be removed in a future version\n",
      "  \"\"\"Entry point for launching an IPython kernel.\n"
     ]
    },
    {
     "data": {
      "text/html": [
       "<div>\n",
       "<style>\n",
       "    .dataframe thead tr:only-child th {\n",
       "        text-align: right;\n",
       "    }\n",
       "\n",
       "    .dataframe thead th {\n",
       "        text-align: left;\n",
       "    }\n",
       "\n",
       "    .dataframe tbody tr th {\n",
       "        vertical-align: top;\n",
       "    }\n",
       "</style>\n",
       "<table border=\"1\" class=\"dataframe\">\n",
       "  <thead>\n",
       "    <tr style=\"text-align: right;\">\n",
       "      <th></th>\n",
       "      <th>sum</th>\n",
       "      <th>count</th>\n",
       "      <th>mean</th>\n",
       "    </tr>\n",
       "    <tr>\n",
       "      <th>PrimaryDx</th>\n",
       "      <th></th>\n",
       "      <th></th>\n",
       "      <th></th>\n",
       "    </tr>\n",
       "  </thead>\n",
       "  <tbody>\n",
       "    <tr>\n",
       "      <th>N39</th>\n",
       "      <td>6.0</td>\n",
       "      <td>10</td>\n",
       "      <td>0.600000</td>\n",
       "    </tr>\n",
       "    <tr>\n",
       "      <th>E11</th>\n",
       "      <td>503.0</td>\n",
       "      <td>1422</td>\n",
       "      <td>0.353727</td>\n",
       "    </tr>\n",
       "    <tr>\n",
       "      <th>N18</th>\n",
       "      <td>504.0</td>\n",
       "      <td>1498</td>\n",
       "      <td>0.336449</td>\n",
       "    </tr>\n",
       "    <tr>\n",
       "      <th>A41</th>\n",
       "      <td>260.0</td>\n",
       "      <td>1171</td>\n",
       "      <td>0.222032</td>\n",
       "    </tr>\n",
       "    <tr>\n",
       "      <th>I50</th>\n",
       "      <td>84.0</td>\n",
       "      <td>943</td>\n",
       "      <td>0.089077</td>\n",
       "    </tr>\n",
       "    <tr>\n",
       "      <th>J44</th>\n",
       "      <td>21.0</td>\n",
       "      <td>805</td>\n",
       "      <td>0.026087</td>\n",
       "    </tr>\n",
       "  </tbody>\n",
       "</table>\n",
       "</div>"
      ],
      "text/plain": [
       "             sum  count      mean\n",
       "PrimaryDx                        \n",
       "N39          6.0     10  0.600000\n",
       "E11        503.0   1422  0.353727\n",
       "N18        504.0   1498  0.336449\n",
       "A41        260.0   1171  0.222032\n",
       "I50         84.0    943  0.089077\n",
       "J44         21.0    805  0.026087"
      ]
     },
     "execution_count": 43,
     "metadata": {},
     "output_type": "execute_result"
    }
   ],
   "source": [
    "full.groupby(['PrimaryDx'])['<=30Days'].agg({'sum':'sum','count':'count','mean':'mean'}).sort_values(by='mean',ascending=False)\n"
   ]
  },
  {
   "cell_type": "code",
   "execution_count": 44,
   "metadata": {},
   "outputs": [
    {
     "name": "stderr",
     "output_type": "stream",
     "text": [
      "/Users/xbno/anaconda3/lib/python3.6/site-packages/ipykernel_launcher.py:1: FutureWarning: using a dict on a Series for aggregation\n",
      "is deprecated and will be removed in a future version\n",
      "  \"\"\"Entry point for launching an IPython kernel.\n"
     ]
    },
    {
     "data": {
      "text/html": [
       "<div>\n",
       "<style>\n",
       "    .dataframe thead tr:only-child th {\n",
       "        text-align: right;\n",
       "    }\n",
       "\n",
       "    .dataframe thead th {\n",
       "        text-align: left;\n",
       "    }\n",
       "\n",
       "    .dataframe tbody tr th {\n",
       "        vertical-align: top;\n",
       "    }\n",
       "</style>\n",
       "<table border=\"1\" class=\"dataframe\">\n",
       "  <thead>\n",
       "    <tr style=\"text-align: right;\">\n",
       "      <th></th>\n",
       "      <th>sum</th>\n",
       "      <th>count</th>\n",
       "      <th>mean</th>\n",
       "    </tr>\n",
       "    <tr>\n",
       "      <th>Dx2</th>\n",
       "      <th></th>\n",
       "      <th></th>\n",
       "      <th></th>\n",
       "    </tr>\n",
       "  </thead>\n",
       "  <tbody>\n",
       "    <tr>\n",
       "      <th>M54</th>\n",
       "      <td>4.0</td>\n",
       "      <td>5</td>\n",
       "      <td>0.800000</td>\n",
       "    </tr>\n",
       "    <tr>\n",
       "      <th>T88</th>\n",
       "      <td>348.0</td>\n",
       "      <td>830</td>\n",
       "      <td>0.419277</td>\n",
       "    </tr>\n",
       "    <tr>\n",
       "      <th>F03</th>\n",
       "      <td>288.0</td>\n",
       "      <td>748</td>\n",
       "      <td>0.385027</td>\n",
       "    </tr>\n",
       "    <tr>\n",
       "      <th>R39</th>\n",
       "      <td>271.0</td>\n",
       "      <td>764</td>\n",
       "      <td>0.354712</td>\n",
       "    </tr>\n",
       "    <tr>\n",
       "      <th>G31</th>\n",
       "      <td>182.0</td>\n",
       "      <td>626</td>\n",
       "      <td>0.290735</td>\n",
       "    </tr>\n",
       "    <tr>\n",
       "      <th>F05</th>\n",
       "      <td>126.0</td>\n",
       "      <td>517</td>\n",
       "      <td>0.243714</td>\n",
       "    </tr>\n",
       "    <tr>\n",
       "      <th>R41</th>\n",
       "      <td>78.0</td>\n",
       "      <td>448</td>\n",
       "      <td>0.174107</td>\n",
       "    </tr>\n",
       "    <tr>\n",
       "      <th>F19</th>\n",
       "      <td>41.0</td>\n",
       "      <td>425</td>\n",
       "      <td>0.096471</td>\n",
       "    </tr>\n",
       "    <tr>\n",
       "      <th>I51</th>\n",
       "      <td>20.0</td>\n",
       "      <td>423</td>\n",
       "      <td>0.047281</td>\n",
       "    </tr>\n",
       "    <tr>\n",
       "      <th>E86</th>\n",
       "      <td>15.0</td>\n",
       "      <td>388</td>\n",
       "      <td>0.038660</td>\n",
       "    </tr>\n",
       "    <tr>\n",
       "      <th>E11</th>\n",
       "      <td>5.0</td>\n",
       "      <td>357</td>\n",
       "      <td>0.014006</td>\n",
       "    </tr>\n",
       "    <tr>\n",
       "      <th>W19</th>\n",
       "      <td>0.0</td>\n",
       "      <td>318</td>\n",
       "      <td>0.000000</td>\n",
       "    </tr>\n",
       "  </tbody>\n",
       "</table>\n",
       "</div>"
      ],
      "text/plain": [
       "       sum  count      mean\n",
       "Dx2                        \n",
       "M54    4.0      5  0.800000\n",
       "T88  348.0    830  0.419277\n",
       "F03  288.0    748  0.385027\n",
       "R39  271.0    764  0.354712\n",
       "G31  182.0    626  0.290735\n",
       "F05  126.0    517  0.243714\n",
       "R41   78.0    448  0.174107\n",
       "F19   41.0    425  0.096471\n",
       "I51   20.0    423  0.047281\n",
       "E86   15.0    388  0.038660\n",
       "E11    5.0    357  0.014006\n",
       "W19    0.0    318  0.000000"
      ]
     },
     "execution_count": 44,
     "metadata": {},
     "output_type": "execute_result"
    }
   ],
   "source": [
    "full.groupby(['Dx2'])['<=30Days'].agg({'sum':'sum','count':'count','mean':'mean'}).sort_values(by='mean',ascending=False)"
   ]
  },
  {
   "cell_type": "code",
   "execution_count": 45,
   "metadata": {},
   "outputs": [
    {
     "name": "stderr",
     "output_type": "stream",
     "text": [
      "/Users/xbno/anaconda3/lib/python3.6/site-packages/ipykernel_launcher.py:1: FutureWarning: using a dict on a Series for aggregation\n",
      "is deprecated and will be removed in a future version\n",
      "  \"\"\"Entry point for launching an IPython kernel.\n"
     ]
    },
    {
     "data": {
      "text/html": [
       "<div>\n",
       "<style>\n",
       "    .dataframe thead tr:only-child th {\n",
       "        text-align: right;\n",
       "    }\n",
       "\n",
       "    .dataframe thead th {\n",
       "        text-align: left;\n",
       "    }\n",
       "\n",
       "    .dataframe tbody tr th {\n",
       "        vertical-align: top;\n",
       "    }\n",
       "</style>\n",
       "<table border=\"1\" class=\"dataframe\">\n",
       "  <thead>\n",
       "    <tr style=\"text-align: right;\">\n",
       "      <th></th>\n",
       "      <th>sum</th>\n",
       "      <th>count</th>\n",
       "      <th>mean</th>\n",
       "    </tr>\n",
       "    <tr>\n",
       "      <th>Dx3</th>\n",
       "      <th></th>\n",
       "      <th></th>\n",
       "      <th></th>\n",
       "    </tr>\n",
       "  </thead>\n",
       "  <tbody>\n",
       "    <tr>\n",
       "      <th>I10</th>\n",
       "      <td>45.0</td>\n",
       "      <td>144</td>\n",
       "      <td>0.312500</td>\n",
       "    </tr>\n",
       "    <tr>\n",
       "      <th>R51</th>\n",
       "      <td>74.0</td>\n",
       "      <td>287</td>\n",
       "      <td>0.257840</td>\n",
       "    </tr>\n",
       "    <tr>\n",
       "      <th>E11</th>\n",
       "      <td>77.0</td>\n",
       "      <td>299</td>\n",
       "      <td>0.257525</td>\n",
       "    </tr>\n",
       "    <tr>\n",
       "      <th>J18</th>\n",
       "      <td>33.0</td>\n",
       "      <td>132</td>\n",
       "      <td>0.250000</td>\n",
       "    </tr>\n",
       "    <tr>\n",
       "      <th>H91</th>\n",
       "      <td>32.0</td>\n",
       "      <td>129</td>\n",
       "      <td>0.248062</td>\n",
       "    </tr>\n",
       "    <tr>\n",
       "      <th></th>\n",
       "      <td>915.0</td>\n",
       "      <td>3910</td>\n",
       "      <td>0.234015</td>\n",
       "    </tr>\n",
       "    <tr>\n",
       "      <th>G89</th>\n",
       "      <td>29.0</td>\n",
       "      <td>125</td>\n",
       "      <td>0.232000</td>\n",
       "    </tr>\n",
       "    <tr>\n",
       "      <th>J45</th>\n",
       "      <td>31.0</td>\n",
       "      <td>136</td>\n",
       "      <td>0.227941</td>\n",
       "    </tr>\n",
       "    <tr>\n",
       "      <th>R05</th>\n",
       "      <td>32.0</td>\n",
       "      <td>147</td>\n",
       "      <td>0.217687</td>\n",
       "    </tr>\n",
       "    <tr>\n",
       "      <th>M54</th>\n",
       "      <td>29.0</td>\n",
       "      <td>135</td>\n",
       "      <td>0.214815</td>\n",
       "    </tr>\n",
       "    <tr>\n",
       "      <th>H53</th>\n",
       "      <td>31.0</td>\n",
       "      <td>146</td>\n",
       "      <td>0.212329</td>\n",
       "    </tr>\n",
       "    <tr>\n",
       "      <th>E56</th>\n",
       "      <td>27.0</td>\n",
       "      <td>134</td>\n",
       "      <td>0.201493</td>\n",
       "    </tr>\n",
       "    <tr>\n",
       "      <th>R26</th>\n",
       "      <td>23.0</td>\n",
       "      <td>125</td>\n",
       "      <td>0.184000</td>\n",
       "    </tr>\n",
       "  </tbody>\n",
       "</table>\n",
       "</div>"
      ],
      "text/plain": [
       "       sum  count      mean\n",
       "Dx3                        \n",
       "I10   45.0    144  0.312500\n",
       "R51   74.0    287  0.257840\n",
       "E11   77.0    299  0.257525\n",
       "J18   33.0    132  0.250000\n",
       "H91   32.0    129  0.248062\n",
       "     915.0   3910  0.234015\n",
       "G89   29.0    125  0.232000\n",
       "J45   31.0    136  0.227941\n",
       "R05   32.0    147  0.217687\n",
       "M54   29.0    135  0.214815\n",
       "H53   31.0    146  0.212329\n",
       "E56   27.0    134  0.201493\n",
       "R26   23.0    125  0.184000"
      ]
     },
     "execution_count": 45,
     "metadata": {},
     "output_type": "execute_result"
    }
   ],
   "source": [
    "full.groupby(['Dx3'])['<=30Days'].agg({'sum':'sum','count':'count','mean':'mean'}).sort_values(by='mean',ascending=False)\n"
   ]
  },
  {
   "cell_type": "markdown",
   "metadata": {},
   "source": [
    "Age:\n",
    "    - There is a sharp drop off in readmittance rate in the low to mid 70s\n",
    "    - Late 70s and onward there is a 6% higher chance that you'll be readmitted"
   ]
  },
  {
   "cell_type": "code",
   "execution_count": 46,
   "metadata": {},
   "outputs": [
    {
     "name": "stderr",
     "output_type": "stream",
     "text": [
      "/Users/xbno/anaconda3/lib/python3.6/site-packages/ipykernel_launcher.py:1: FutureWarning: using a dict on a Series for aggregation\n",
      "is deprecated and will be removed in a future version\n",
      "  \"\"\"Entry point for launching an IPython kernel.\n"
     ]
    },
    {
     "data": {
      "text/plain": [
       "<matplotlib.text.Text at 0x1a16ac5208>"
      ]
     },
     "execution_count": 46,
     "metadata": {},
     "output_type": "execute_result"
    },
    {
     "data": {
      "image/png": "[encoded data removed]",
      "text/plain": [
       "<matplotlib.figure.Figure at 0x1a16b45c88>"
      ]
     },
     "metadata": {},
     "output_type": "display_data"
    }
   ],
   "source": [
    "full.groupby(['Age'])['<=30Days'].agg({'sum':'sum','count':'count','mean':'mean'})['mean'].plot(kind='bar',figsize=(12,4))\n",
    "plt.title('Readmittance rate by Age',size=15)\n",
    "plt.ylabel('readmitted rate')"
   ]
  },
  {
   "cell_type": "code",
   "execution_count": 47,
   "metadata": {},
   "outputs": [
    {
     "name": "stderr",
     "output_type": "stream",
     "text": [
      "/Users/xbno/anaconda3/lib/python3.6/site-packages/ipykernel_launcher.py:1: FutureWarning: using a dict on a Series for aggregation\n",
      "is deprecated and will be removed in a future version\n",
      "  \"\"\"Entry point for launching an IPython kernel.\n"
     ]
    },
    {
     "data": {
      "text/html": [
       "<div>\n",
       "<style>\n",
       "    .dataframe thead tr:only-child th {\n",
       "        text-align: right;\n",
       "    }\n",
       "\n",
       "    .dataframe thead th {\n",
       "        text-align: left;\n",
       "    }\n",
       "\n",
       "    .dataframe tbody tr th {\n",
       "        vertical-align: top;\n",
       "    }\n",
       "</style>\n",
       "<table border=\"1\" class=\"dataframe\">\n",
       "  <thead>\n",
       "    <tr style=\"text-align: right;\">\n",
       "      <th></th>\n",
       "      <th>sum</th>\n",
       "      <th>count</th>\n",
       "      <th>mean</th>\n",
       "    </tr>\n",
       "    <tr>\n",
       "      <th>Age</th>\n",
       "      <th></th>\n",
       "      <th></th>\n",
       "      <th></th>\n",
       "    </tr>\n",
       "  </thead>\n",
       "  <tbody>\n",
       "    <tr>\n",
       "      <th>88</th>\n",
       "      <td>14.0</td>\n",
       "      <td>39</td>\n",
       "      <td>0.358974</td>\n",
       "    </tr>\n",
       "    <tr>\n",
       "      <th>87</th>\n",
       "      <td>28.0</td>\n",
       "      <td>80</td>\n",
       "      <td>0.350000</td>\n",
       "    </tr>\n",
       "    <tr>\n",
       "      <th>85</th>\n",
       "      <td>45.0</td>\n",
       "      <td>129</td>\n",
       "      <td>0.348837</td>\n",
       "    </tr>\n",
       "    <tr>\n",
       "      <th>81</th>\n",
       "      <td>84.0</td>\n",
       "      <td>244</td>\n",
       "      <td>0.344262</td>\n",
       "    </tr>\n",
       "    <tr>\n",
       "      <th>86</th>\n",
       "      <td>32.0</td>\n",
       "      <td>97</td>\n",
       "      <td>0.329897</td>\n",
       "    </tr>\n",
       "    <tr>\n",
       "      <th>89</th>\n",
       "      <td>13.0</td>\n",
       "      <td>41</td>\n",
       "      <td>0.317073</td>\n",
       "    </tr>\n",
       "    <tr>\n",
       "      <th>84</th>\n",
       "      <td>46.0</td>\n",
       "      <td>146</td>\n",
       "      <td>0.315068</td>\n",
       "    </tr>\n",
       "    <tr>\n",
       "      <th>90</th>\n",
       "      <td>31.0</td>\n",
       "      <td>99</td>\n",
       "      <td>0.313131</td>\n",
       "    </tr>\n",
       "    <tr>\n",
       "      <th>77</th>\n",
       "      <td>130.0</td>\n",
       "      <td>418</td>\n",
       "      <td>0.311005</td>\n",
       "    </tr>\n",
       "    <tr>\n",
       "      <th>78</th>\n",
       "      <td>103.0</td>\n",
       "      <td>332</td>\n",
       "      <td>0.310241</td>\n",
       "    </tr>\n",
       "    <tr>\n",
       "      <th>79</th>\n",
       "      <td>111.0</td>\n",
       "      <td>367</td>\n",
       "      <td>0.302452</td>\n",
       "    </tr>\n",
       "    <tr>\n",
       "      <th>83</th>\n",
       "      <td>57.0</td>\n",
       "      <td>191</td>\n",
       "      <td>0.298429</td>\n",
       "    </tr>\n",
       "    <tr>\n",
       "      <th>80</th>\n",
       "      <td>89.0</td>\n",
       "      <td>301</td>\n",
       "      <td>0.295681</td>\n",
       "    </tr>\n",
       "    <tr>\n",
       "      <th>82</th>\n",
       "      <td>55.0</td>\n",
       "      <td>187</td>\n",
       "      <td>0.294118</td>\n",
       "    </tr>\n",
       "    <tr>\n",
       "      <th>75</th>\n",
       "      <td>121.0</td>\n",
       "      <td>414</td>\n",
       "      <td>0.292271</td>\n",
       "    </tr>\n",
       "    <tr>\n",
       "      <th>76</th>\n",
       "      <td>97.0</td>\n",
       "      <td>373</td>\n",
       "      <td>0.260054</td>\n",
       "    </tr>\n",
       "    <tr>\n",
       "      <th>73</th>\n",
       "      <td>100.0</td>\n",
       "      <td>391</td>\n",
       "      <td>0.255754</td>\n",
       "    </tr>\n",
       "    <tr>\n",
       "      <th>74</th>\n",
       "      <td>96.0</td>\n",
       "      <td>380</td>\n",
       "      <td>0.252632</td>\n",
       "    </tr>\n",
       "    <tr>\n",
       "      <th>72</th>\n",
       "      <td>66.0</td>\n",
       "      <td>341</td>\n",
       "      <td>0.193548</td>\n",
       "    </tr>\n",
       "    <tr>\n",
       "      <th>71</th>\n",
       "      <td>34.0</td>\n",
       "      <td>282</td>\n",
       "      <td>0.120567</td>\n",
       "    </tr>\n",
       "    <tr>\n",
       "      <th>70</th>\n",
       "      <td>13.0</td>\n",
       "      <td>223</td>\n",
       "      <td>0.058296</td>\n",
       "    </tr>\n",
       "    <tr>\n",
       "      <th>69</th>\n",
       "      <td>12.0</td>\n",
       "      <td>229</td>\n",
       "      <td>0.052402</td>\n",
       "    </tr>\n",
       "    <tr>\n",
       "      <th>68</th>\n",
       "      <td>1.0</td>\n",
       "      <td>216</td>\n",
       "      <td>0.004630</td>\n",
       "    </tr>\n",
       "    <tr>\n",
       "      <th>66</th>\n",
       "      <td>0.0</td>\n",
       "      <td>119</td>\n",
       "      <td>0.000000</td>\n",
       "    </tr>\n",
       "    <tr>\n",
       "      <th>67</th>\n",
       "      <td>0.0</td>\n",
       "      <td>196</td>\n",
       "      <td>0.000000</td>\n",
       "    </tr>\n",
       "    <tr>\n",
       "      <th>65</th>\n",
       "      <td>0.0</td>\n",
       "      <td>14</td>\n",
       "      <td>0.000000</td>\n",
       "    </tr>\n",
       "  </tbody>\n",
       "</table>\n",
       "</div>"
      ],
      "text/plain": [
       "       sum  count      mean\n",
       "Age                        \n",
       "88    14.0     39  0.358974\n",
       "87    28.0     80  0.350000\n",
       "85    45.0    129  0.348837\n",
       "81    84.0    244  0.344262\n",
       "86    32.0     97  0.329897\n",
       "89    13.0     41  0.317073\n",
       "84    46.0    146  0.315068\n",
       "90    31.0     99  0.313131\n",
       "77   130.0    418  0.311005\n",
       "78   103.0    332  0.310241\n",
       "79   111.0    367  0.302452\n",
       "83    57.0    191  0.298429\n",
       "80    89.0    301  0.295681\n",
       "82    55.0    187  0.294118\n",
       "75   121.0    414  0.292271\n",
       "76    97.0    373  0.260054\n",
       "73   100.0    391  0.255754\n",
       "74    96.0    380  0.252632\n",
       "72    66.0    341  0.193548\n",
       "71    34.0    282  0.120567\n",
       "70    13.0    223  0.058296\n",
       "69    12.0    229  0.052402\n",
       "68     1.0    216  0.004630\n",
       "66     0.0    119  0.000000\n",
       "67     0.0    196  0.000000\n",
       "65     0.0     14  0.000000"
      ]
     },
     "execution_count": 47,
     "metadata": {},
     "output_type": "execute_result"
    }
   ],
   "source": [
    "full.groupby(['Age'])['<=30Days'].agg({'sum':'sum','count':'count','mean':'mean'}).sort_values(by='mean',ascending=False)"
   ]
  },
  {
   "cell_type": "code",
   "execution_count": 50,
   "metadata": {},
   "outputs": [
    {
     "name": "stderr",
     "output_type": "stream",
     "text": [
      "/Users/xbno/anaconda3/lib/python3.6/site-packages/ipykernel_launcher.py:1: FutureWarning: using a dict on a Series for aggregation\n",
      "is deprecated and will be removed in a future version\n",
      "  \"\"\"Entry point for launching an IPython kernel.\n"
     ]
    },
    {
     "data": {
      "text/plain": [
       "<matplotlib.text.Text at 0x1a170b25f8>"
      ]
     },
     "execution_count": 50,
     "metadata": {},
     "output_type": "execute_result"
    },
    {
     "data": {
      "image/png": "[encoded data removed]",
      "text/plain": [
       "<matplotlib.figure.Figure at 0x1a17113f28>"
      ]
     },
     "metadata": {},
     "output_type": "display_data"
    }
   ],
   "source": [
    "full.groupby(['PastPCPVisits'])['<=30Days'].agg({'sum':'sum','count':'count','mean':'mean'})['mean'].plot(kind='bar',figsize=(12,4))\n",
    "plt.title('Readmittance rate by PastPCPVisits',size=15)\n",
    "plt.ylabel('readmitted rate')\n",
    "\n",
    "#full.groupby(['PastPCPVisits'])['<=30Days'].agg({'sum':'sum','count':'count','mean':'mean'}).sort_values(by='mean',ascending=False)\n"
   ]
  },
  {
   "cell_type": "markdown",
   "metadata": {},
   "source": [
    "#### Split into Train, Test datasets\n",
    "\n",
    "There are no variables which are ordinal which would be need different formatting so create onehot encodings of categorical variables.  "
   ]
  },
  {
   "cell_type": "code",
   "execution_count": 53,
   "metadata": {
    "collapsed": true
   },
   "outputs": [],
   "source": [
    "full_orig = full.copy()\n",
    "\n",
    "full = full.set_index('AdmitDate')\n",
    "\n",
    "for col in [col for col in full.columns if full[col].dtype == 'object' and 'Patient' not in col]:\n",
    "    dummies = pd.get_dummies(full[col],prefix=col)\n",
    "    full.drop(col,axis=1,inplace=True)\n",
    "    full = pd.concat([full,dummies],axis=1)    "
   ]
  },
  {
   "cell_type": "code",
   "execution_count": 61,
   "metadata": {},
   "outputs": [
    {
     "name": "stdout",
     "output_type": "stream",
     "text": [
      "Onehot encoding converted 12 cols into 40 cols\n"
     ]
    }
   ],
   "source": [
    "print('Onehot encoding converted {} cols into {} cols'.format(full_orig.shape[1],full.shape[1]))"
   ]
  },
  {
   "cell_type": "code",
   "execution_count": 58,
   "metadata": {
    "collapsed": true
   },
   "outputs": [],
   "source": [
    "train = full['2015']\n",
    "test = full['2016']"
   ]
  },
  {
   "cell_type": "code",
   "execution_count": 59,
   "metadata": {},
   "outputs": [
    {
     "name": "stdout",
     "output_type": "stream",
     "text": [
      "train: 2856 rows and 40 columns\n",
      "test: 2938 rows and 40 columns\n"
     ]
    }
   ],
   "source": [
    "print('train: {} rows and {} columns'.format(*train.shape))\n",
    "print('test: {} rows and {} columns'.format(*test.shape))"
   ]
  },
  {
   "cell_type": "code",
   "execution_count": 60,
   "metadata": {
    "collapsed": true
   },
   "outputs": [],
   "source": [
    "X_train = train.drop(['Patient','Readmitted','DaysSinceAdmission','<=30Days'],axis=1)\n",
    "y_train = train['<=30Days']\n",
    "X_test = test.drop(['Patient','Readmitted','DaysSinceAdmission','<=30Days'],axis=1)\n",
    "y_test = test['<=30Days']"
   ]
  },
  {
   "cell_type": "markdown",
   "metadata": {},
   "source": [
    "#### Simple Models\n",
    "\n",
    "This is a binary classification problem so usually start with a simple logistic regression model. I'm going to use the f1_score which is a mixture of precision and recall to evaluate which model does better. This will lead to a more stable classifier than using accuracy or precision or recall alone due to the imbalanced positive class we're trying to predict which is about 1:4.\n",
    "\n",
    "Neither are much better than the baseline accuracy, but at least they aren't worse! With a little work we should be able to impove these accuracies."
   ]
  },
  {
   "cell_type": "code",
   "execution_count": 62,
   "metadata": {},
   "outputs": [
    {
     "name": "stderr",
     "output_type": "stream",
     "text": [
      "/Users/xbno/anaconda3/lib/python3.6/site-packages/sklearn/cross_validation.py:41: DeprecationWarning: This module was deprecated in version 0.18 in favor of the model_selection module into which all the refactored classes and functions are moved. Also note that the interface of the new CV iterators are different from that of this module. This module will be removed in 0.20.\n",
      "  \"This module will be removed in 0.20.\", DeprecationWarning)\n"
     ]
    }
   ],
   "source": [
    "from sklearn.linear_model import LogisticRegression\n",
    "from sklearn.ensemble import RandomForestClassifier\n",
    "from sklearn.metrics import confusion_matrix, f1_score\n",
    "from sklearn.cross_validation import cross_val_score"
   ]
  },
  {
   "cell_type": "code",
   "execution_count": 83,
   "metadata": {},
   "outputs": [
    {
     "name": "stdout",
     "output_type": "stream",
     "text": [
      "Baseline accuracy is 76.44\n"
     ]
    }
   ],
   "source": [
    "print('Baseline accuracy is {:.02f}'.format(100*(1-full_orig['<=30Days'].mean())))"
   ]
  },
  {
   "cell_type": "code",
   "execution_count": 87,
   "metadata": {},
   "outputs": [
    {
     "name": "stdout",
     "output_type": "stream",
     "text": [
      "Logistic Regression accuracy of 78.33 across 10 folds\n",
      "Logistic Regression f1 score of 0.45 across 10 folds\n"
     ]
    }
   ],
   "source": [
    "folds = 10\n",
    "lr = LogisticRegression()\n",
    "print('Logistic Regression accuracy of {:.02f} across {} folds'.format(100*cross_val_score(lr,X_train,y_train,cv=folds).mean(),folds))\n",
    "print('Logistic Regression f1 score of {:.02f} across {} folds'.format(cross_val_score(lr,X_train,y_train,cv=folds,scoring='f1').mean(),folds))\n",
    "lr.fit(X_train,y_train)\n",
    "lr_pred = lr.predict(X_test)"
   ]
  },
  {
   "cell_type": "code",
   "execution_count": 65,
   "metadata": {},
   "outputs": [
    {
     "data": {
      "text/plain": [
       "array([[2085,  174],\n",
       "       [ 425,  254]])"
      ]
     },
     "execution_count": 65,
     "metadata": {},
     "output_type": "execute_result"
    }
   ],
   "source": [
    "confusion_matrix(y_test,lr_pred)"
   ]
  },
  {
   "cell_type": "code",
   "execution_count": 88,
   "metadata": {},
   "outputs": [
    {
     "name": "stdout",
     "output_type": "stream",
     "text": [
      "Random Forest accuracy of 77.17 across 10 folds\n",
      "Random Forest f1 score of 0.48 across 10 folds\n"
     ]
    }
   ],
   "source": [
    "rf = RandomForestClassifier(n_estimators=500,n_jobs=-1)\n",
    "print('Random Forest accuracy of {:.02f} across {} folds'.format(100*cross_val_score(rf,X_train,y_train,cv=folds).mean(),folds))\n",
    "print('Random Forest f1 score of {:.02f} across {} folds'.format(cross_val_score(rf,X_train,y_train,cv=folds,scoring='f1').mean(),folds))\n",
    "rf.fit(X_train,y_train)\n",
    "rf_pred = rf.predict(X_test)"
   ]
  },
  {
   "cell_type": "code",
   "execution_count": 971,
   "metadata": {},
   "outputs": [
    {
     "data": {
      "text/plain": [
       "array([[2070,  189],\n",
       "       [ 457,  222]])"
      ]
     },
     "execution_count": 971,
     "metadata": {},
     "output_type": "execute_result"
    }
   ],
   "source": [
    "confusion_matrix(y_test,rf_pred)"
   ]
  },
  {
   "cell_type": "markdown",
   "metadata": {},
   "source": [
    "#### Feature Importance\n",
    "\n",
    "Taking a look at the coeficients and feature importance of both Logistic Regression and Random Forest can help us understand which features are most important to each model's decision. "
   ]
  },
  {
   "cell_type": "code",
   "execution_count": 108,
   "metadata": {
    "collapsed": true
   },
   "outputs": [],
   "source": [
    "from sklearn.preprocessing import normalize, StandardScaler"
   ]
  },
  {
   "cell_type": "code",
   "execution_count": 195,
   "metadata": {},
   "outputs": [],
   "source": [
    "lr_coefs = pd.DataFrame(X_train.columns,lr.coef_[0]).reset_index()\n",
    "lr_coefs.rename(columns={'index':'lr coef',0:'feat'},inplace=True)\n",
    "lr_coefs['lr coef'] = lr_coefs['lr coef'].abs()\n",
    "\n",
    "rf_imps = pd.DataFrame(X_train.columns,rf.feature_importances_).reset_index()\n",
    "rf_imps.rename(columns={'index':'rf imp',0:'feat'},inplace=True)"
   ]
  },
  {
   "cell_type": "code",
   "execution_count": 196,
   "metadata": {
    "collapsed": true
   },
   "outputs": [],
   "source": [
    "both_imps = pd.merge(lr_coefs,rf_imps,on=['feat'])\n",
    "\n",
    "both_imps.set_index('feat',inplace=True)"
   ]
  },
  {
   "cell_type": "code",
   "execution_count": 199,
   "metadata": {},
   "outputs": [
    {
     "data": {
      "text/plain": [
       "<matplotlib.axes._subplots.AxesSubplot at 0x1a1d5970b8>"
      ]
     },
     "execution_count": 199,
     "metadata": {},
     "output_type": "execute_result"
    },
    {
     "data": {
      "image/png": "[encoded data removed]",
      "text/plain": [
       "<matplotlib.figure.Figure at 0x1a1d419320>"
      ]
     },
     "metadata": {},
     "output_type": "display_data"
    }
   ],
   "source": [
    "both_imps.sort_values(by='lr coef',ascending=False).plot(kind='bar',figsize=(12,4))"
   ]
  },
  {
   "cell_type": "code",
   "execution_count": 200,
   "metadata": {},
   "outputs": [
    {
     "data": {
      "text/plain": [
       "<matplotlib.axes._subplots.AxesSubplot at 0x1a1d7a28d0>"
      ]
     },
     "execution_count": 200,
     "metadata": {},
     "output_type": "execute_result"
    },
    {
     "data": {
      "image/png": "[encoded data removed]",
      "text/plain": [
       "<matplotlib.figure.Figure at 0x1a1d74b710>"
      ]
     },
     "metadata": {},
     "output_type": "display_data"
    }
   ],
   "source": [
    "both_imps.sort_values(by='rf imp',ascending=False).plot(kind='bar',figsize=(12,4))"
   ]
  },
  {
   "cell_type": "code",
   "execution_count": 201,
   "metadata": {},
   "outputs": [
    {
     "data": {
      "text/plain": [
       "{'Dx2_T88', 'Gender_F', 'PrimaryDx_J44'}"
      ]
     },
     "execution_count": 201,
     "metadata": {},
     "output_type": "execute_result"
    }
   ],
   "source": [
    "set(lr_coefs.sort_values(by='lr coef',ascending=False).head(10)['feat']).intersection(rf_imps.sort_values(by='rf imp',ascending=False).head(10)['feat'])\n"
   ]
  },
  {
   "cell_type": "code",
   "execution_count": 296,
   "metadata": {},
   "outputs": [],
   "source": [
    "top = 20\n",
    "top_feats = set(list(rf_imps.sort_values(by='rf imp',ascending=False).head(top)['feat'])+list(lr_coefs.sort_values(by='lr coef',ascending=False).head(top)['feat']))\n"
   ]
  },
  {
   "cell_type": "code",
   "execution_count": 297,
   "metadata": {},
   "outputs": [
    {
     "data": {
      "text/plain": [
       "{'Age',\n",
       " 'Dx2_E11',\n",
       " 'Dx2_E86',\n",
       " 'Dx2_F03',\n",
       " 'Dx2_F05',\n",
       " 'Dx2_F19',\n",
       " 'Dx2_G31',\n",
       " 'Dx2_I51',\n",
       " 'Dx2_R39',\n",
       " 'Dx2_T88',\n",
       " 'Dx2_W19',\n",
       " 'Dx3_',\n",
       " 'Dx3_H53',\n",
       " 'Dx3_J18',\n",
       " 'Dx3_M54',\n",
       " 'Dx3_R05',\n",
       " 'Dx3_R26',\n",
       " 'Gender_F',\n",
       " 'Gender_M',\n",
       " 'LOS',\n",
       " 'PastPCPVisits',\n",
       " 'PrimaryDx_A41',\n",
       " 'PrimaryDx_E11',\n",
       " 'PrimaryDx_I50',\n",
       " 'PrimaryDx_J44',\n",
       " 'PrimaryDx_N18'}"
      ]
     },
     "execution_count": 297,
     "metadata": {},
     "output_type": "execute_result"
    }
   ],
   "source": [
    "top_feats"
   ]
  },
  {
   "cell_type": "markdown",
   "metadata": {},
   "source": [
    "#### Investigate distributions based on counts/readmitted rates\n",
    "\n",
    "Most of our feature importances are primary/secondary diagnoses so lets take a look at the distribution of these in terms of the target variable. \n",
    "\n",
    "#### W19 and J44\n",
    "These both make sense looking at the distributions vs the readmitted rate. W19 has no readmissions while J44 has a very small number"
   ]
  },
  {
   "cell_type": "code",
   "execution_count": 208,
   "metadata": {},
   "outputs": [
    {
     "data": {
      "image/png": "[encoded data removed]",
      "text/plain": [
       "<matplotlib.figure.Figure at 0x1a1d03ff28>"
      ]
     },
     "metadata": {},
     "output_type": "display_data"
    },
    {
     "data": {
      "text/plain": [
       "<matplotlib.figure.Figure at 0x1a1dbb4828>"
      ]
     },
     "metadata": {},
     "output_type": "display_data"
    },
    {
     "data": {
      "image/png": "[encoded data removed]",
      "text/plain": [
       "<matplotlib.figure.Figure at 0x1a1c5295f8>"
      ]
     },
     "metadata": {},
     "output_type": "display_data"
    },
    {
     "data": {
      "text/plain": [
       "<matplotlib.figure.Figure at 0x1a1c32b160>"
      ]
     },
     "metadata": {},
     "output_type": "display_data"
    },
    {
     "data": {
      "image/png": "[encoded data removed]",
      "text/plain": [
       "<matplotlib.figure.Figure at 0x1a1c581d68>"
      ]
     },
     "metadata": {},
     "output_type": "display_data"
    },
    {
     "data": {
      "text/plain": [
       "<matplotlib.figure.Figure at 0x1a1c581b00>"
      ]
     },
     "metadata": {},
     "output_type": "display_data"
    }
   ],
   "source": [
    "target = '<=30Days'\n",
    "for col in Dx_cols:\n",
    "    full_orig.groupby([col])[target].value_counts().unstack().plot(kind='bar',figsize=(12,4))\n",
    "    plt.title('Count of {} by {}'.format(target,col),size=15)\n",
    "    plt.xlabel('dx')\n",
    "    plt.ylabel('count')\n",
    "    plt.figure()"
   ]
  },
  {
   "cell_type": "markdown",
   "metadata": {},
   "source": [
    "My hypothesis would be that having certain combinations of diagnoses would indicate worse conditions than others, so graph the combinations here by choosing the features to combine."
   ]
  },
  {
   "cell_type": "code",
   "execution_count": 210,
   "metadata": {},
   "outputs": [
    {
     "data": {
      "text/plain": [
       "<matplotlib.legend.Legend at 0x1a1dfb4128>"
      ]
     },
     "execution_count": 210,
     "metadata": {},
     "output_type": "execute_result"
    },
    {
     "data": {
      "image/png": "[encoded data removed]",
      "text/plain": [
       "<matplotlib.figure.Figure at 0x1a1dfb40b8>"
      ]
     },
     "metadata": {},
     "output_type": "display_data"
    }
   ],
   "source": [
    "feat1 = 'PrimaryDx'\n",
    "feat2 = 'Dx2'\n",
    "pop_avg = full_orig['<=30Days'].mean()\n",
    "full_orig.groupby([feat1,feat2])['<=30Days'].mean().unstack().plot(kind='bar',figsize=(12,4))\n",
    "plt.ylabel('readmit rate')\n",
    "plt.title('Readmit Rate based on combination of {} and {}'.format(feat1,feat2),size=15)\n",
    "plt.axhline(y=pop_avg, color='black', linestyle='--')\n",
    "plt.legend(bbox_to_anchor=(1.05, 1), loc=2, borderaxespad=0.)"
   ]
  },
  {
   "cell_type": "code",
   "execution_count": 211,
   "metadata": {},
   "outputs": [
    {
     "data": {
      "text/plain": [
       "<matplotlib.legend.Legend at 0x1a1d03fa90>"
      ]
     },
     "execution_count": 211,
     "metadata": {},
     "output_type": "execute_result"
    },
    {
     "data": {
      "image/png": "[encoded data removed]",
      "text/plain": [
       "<matplotlib.figure.Figure at 0x1a1d053a90>"
      ]
     },
     "metadata": {},
     "output_type": "display_data"
    }
   ],
   "source": [
    "feat1 = 'PrimaryDx'\n",
    "feat2 = 'Dx3'\n",
    "pop_avg = full_orig['<=30Days'].mean()\n",
    "full_orig.groupby([feat1,feat2])['<=30Days'].mean().unstack().plot(kind='bar',figsize=(12,4))\n",
    "plt.ylabel('readmit rate')\n",
    "plt.title('Readmit Rate based on combination of {} and {}'.format(feat1,feat2),size=15)\n",
    "plt.axhline(y=pop_avg, color='black', linestyle='--')\n",
    "plt.legend(bbox_to_anchor=(1.05, 1), loc=2, borderaxespad=0.)"
   ]
  },
  {
   "cell_type": "code",
   "execution_count": 212,
   "metadata": {},
   "outputs": [
    {
     "data": {
      "text/plain": [
       "<matplotlib.legend.Legend at 0x1a1e4a0f28>"
      ]
     },
     "execution_count": 212,
     "metadata": {},
     "output_type": "execute_result"
    },
    {
     "data": {
      "image/png": "[encoded data removed]",
      "text/plain": [
       "<matplotlib.figure.Figure at 0x1a1e4b8f28>"
      ]
     },
     "metadata": {},
     "output_type": "display_data"
    }
   ],
   "source": [
    "feat1 = 'Dx2'\n",
    "feat2 = 'Dx3'\n",
    "pop_avg = full_orig['<=30Days'].mean()\n",
    "full_orig.groupby([feat1,feat2])['<=30Days'].mean().unstack().plot(kind='bar',figsize=(12,4))\n",
    "plt.ylabel('readmit rate')\n",
    "plt.title('Readmit Rate based on combination of {} and {}'.format(feat1,feat2),size=15)\n",
    "plt.axhline(y=pop_avg, color='black', linestyle='--')\n",
    "plt.legend(bbox_to_anchor=(1.05, 1), loc=2, borderaxespad=0.)"
   ]
  },
  {
   "cell_type": "markdown",
   "metadata": {},
   "source": [
    "#### Ideas for feature creation\n",
    "\n",
    "1. create month feature - hypothesis winter would bring more readmits. possibly make it ordinal? summer = 1, fall+spring = 2, winter = 3\n",
    "    - binning doesn't seem necessary, but this feature may be helpful\n",
    "2. look into combination of primary 2ndary dignoses\n",
    "    - will create a very sparse dataset when onehot encoded\n",
    "5. drop gender?\n",
    "    - pass - rf indicated it was an important feature\n",
    "6. find out what the diagnoses actually are, infer..\n",
    "    - what next? "
   ]
  },
  {
   "cell_type": "markdown",
   "metadata": {},
   "source": [
    "#### Month Admit\n",
    "\n",
    "Not as big of a difference between months as I thought. Still will include, perhaps certain ailments arise in certain months and this feature will help distinguish when they're more concerning.\n",
    "\n",
    "__J44__ is more prevalent in the winter months"
   ]
  },
  {
   "cell_type": "code",
   "execution_count": 238,
   "metadata": {
    "collapsed": true
   },
   "outputs": [],
   "source": [
    "def add_month_feat(df):\n",
    "    df['MonthAdmit'] = df['AdmitDate'].apply(lambda x: x.month)\n",
    "    return df"
   ]
  },
  {
   "cell_type": "code",
   "execution_count": 239,
   "metadata": {
    "collapsed": true
   },
   "outputs": [],
   "source": [
    "full_orig = add_month_feat(full_orig)"
   ]
  },
  {
   "cell_type": "code",
   "execution_count": 240,
   "metadata": {},
   "outputs": [
    {
     "data": {
      "text/plain": [
       "<matplotlib.legend.Legend at 0x1a20613f60>"
      ]
     },
     "execution_count": 240,
     "metadata": {},
     "output_type": "execute_result"
    },
    {
     "data": {
      "image/png": "[encoded data removed]",
      "text/plain": [
       "<matplotlib.figure.Figure at 0x1a214023c8>"
      ]
     },
     "metadata": {},
     "output_type": "display_data"
    }
   ],
   "source": [
    "full_orig.groupby(['MonthAdmit'])['<=30Days'].mean().plot(kind='bar',figsize=(12,4))\n",
    "plt.ylabel('readmit rate')\n",
    "plt.title('Readmit Rate based on {}'.format(feat1),size=15)\n",
    "plt.axhline(y=pop_avg, color='black', linestyle='--')\n",
    "plt.legend(bbox_to_anchor=(1.05, 1), loc=2, borderaxespad=0.)"
   ]
  },
  {
   "cell_type": "code",
   "execution_count": 236,
   "metadata": {},
   "outputs": [
    {
     "data": {
      "text/plain": [
       "<matplotlib.legend.Legend at 0x1a211fb0b8>"
      ]
     },
     "execution_count": 236,
     "metadata": {},
     "output_type": "execute_result"
    },
    {
     "data": {
      "image/png": "[encoded data removed]",
      "text/plain": [
       "<matplotlib.figure.Figure at 0x1a21202128>"
      ]
     },
     "metadata": {},
     "output_type": "display_data"
    }
   ],
   "source": [
    "feat1 = 'MonthAdmit'\n",
    "feat2 = 'PrimaryDx'\n",
    "pop_avg = full_orig['<=30Days'].mean()\n",
    "full_orig.groupby([feat1,feat2])['<=30Days'].mean().unstack().plot(kind='bar',figsize=(12,4))\n",
    "plt.ylabel('readmit rate')\n",
    "plt.title('Readmit Rate based on combination of {} and {}'.format(feat1,feat2),size=15)\n",
    "plt.axhline(y=pop_avg, color='black', linestyle='--')\n",
    "plt.legend(bbox_to_anchor=(1.05, 1), loc=2, borderaxespad=0.)"
   ]
  },
  {
   "cell_type": "markdown",
   "metadata": {},
   "source": [
    "#### Combos of PrimaryDx, Dx2, Dx3\n",
    "\n",
    "Perhaps this is a bad idea. I'll be able to tell once I add run it through a model."
   ]
  },
  {
   "cell_type": "code",
   "execution_count": 241,
   "metadata": {
    "collapsed": true
   },
   "outputs": [],
   "source": [
    "def add_combined_dx_feats(full_orig):\n",
    "    full_orig['PrimaryDx_Dx2'] = full_orig['PrimaryDx']+full_orig['Dx2']\n",
    "    full_orig['PrimaryDx_Dx3'] = full_orig['PrimaryDx']+full_orig['Dx3']\n",
    "    full_orig['Dx2_Dx3'] = full_orig['Dx2']+full_orig['Dx3']\n",
    "    return full_orig"
   ]
  },
  {
   "cell_type": "code",
   "execution_count": 242,
   "metadata": {
    "collapsed": true
   },
   "outputs": [],
   "source": [
    "full_orig = add_combined_dx_feats(full_orig)"
   ]
  },
  {
   "cell_type": "markdown",
   "metadata": {},
   "source": [
    "#### Bin/PCA Ages/PCPVisits\n",
    "\n",
    "After getting a refresher on binning continuous variables, I'm more inclined to do PCA on PastPCPVisits and Age than to bin each. \n",
    "\n",
    "In addition, turns out that once scaling and running PCA, the explained variance of the three columns is nearly evenly distributed between each. It doesn't seem like this will be helpful to our models."
   ]
  },
  {
   "cell_type": "code",
   "execution_count": 279,
   "metadata": {
    "collapsed": true
   },
   "outputs": [],
   "source": [
    "from sklearn.decomposition import PCA\n",
    "from sklearn.preprocessing import StandardScaler"
   ]
  },
  {
   "cell_type": "code",
   "execution_count": 286,
   "metadata": {
    "collapsed": true
   },
   "outputs": [],
   "source": [
    "#scaled pca\n",
    "= PCA(n_components=3)\n",
    "scaled_feats = StandardScaler().fit_transform(full_orig[['PastPCPVisits','Age','LOS']])\n",
    "pcs = pd.DataFrame(pca.fit_transform(scaled_feats))"
   ]
  },
  {
   "cell_type": "code",
   "execution_count": 292,
   "metadata": {},
   "outputs": [],
   "source": [
    "# #unscaled pca\n",
    "# pcs = pd.DataFrame(pca.fit_transform(full_orig[['PastPCPVisits','Age','LOS']]))\n",
    "# pcs = pd.DataFrame(pca.fit_transform(full_orig[['PastPCPVisits','Age','LOS']]))"
   ]
  },
  {
   "cell_type": "code",
   "execution_count": 293,
   "metadata": {},
   "outputs": [],
   "source": [
    "pcs.columns = ['pc1','pc2','pc3']"
   ]
  },
  {
   "cell_type": "code",
   "execution_count": 294,
   "metadata": {},
   "outputs": [
    {
     "data": {
      "text/plain": [
       "array([ 0.39591659,  0.32702664,  0.27705677])"
      ]
     },
     "execution_count": 294,
     "metadata": {},
     "output_type": "execute_result"
    }
   ],
   "source": [
    "pca.explained_variance_ratio_"
   ]
  },
  {
   "cell_type": "code",
   "execution_count": 295,
   "metadata": {},
   "outputs": [
    {
     "data": {
      "text/plain": [
       "array([[ 0.61949352,  0.68643909,  0.38082693],\n",
       "       [-0.4619068 , -0.07350404,  0.8838774 ],\n",
       "       [ 0.63472032, -0.72346287,  0.27153561]])"
      ]
     },
     "execution_count": 295,
     "metadata": {},
     "output_type": "execute_result"
    }
   ],
   "source": [
    "pca.components_"
   ]
  },
  {
   "cell_type": "markdown",
   "metadata": {
    "collapsed": true
   },
   "source": [
    "#### Human Readable Diagnoses (ICD-10 Codes)\n",
    "\n",
    "Perhaps it won't add much to the evaluation of features in the model but it would be nice to understand what these codes mean. So I did a little digging and they're all ICD10 codes, and there is an easy way to pull the related codes and their descriptions down from a webapp.\n",
    "\n",
    "[Top 25 Griatric ICD-10 Codes](http://htpnmarketing.com/icd10/wp-content/uploads/sites/17/2015/07/Copy-of-Top-25-Geriatric-ICD-9-to-ICD-10.pdf)\n",
    "\n",
    "[Webapp to query simple info](https://clin-table-search.lhc.nlm.nih.gov/apidoc/icd10cm/v3/doc.html)"
   ]
  },
  {
   "cell_type": "code",
   "execution_count": 213,
   "metadata": {
    "collapsed": true
   },
   "outputs": [],
   "source": [
    "import requests\n",
    "import json\n",
    "from pprint import pprint\n",
    "import pickle"
   ]
  },
  {
   "cell_type": "code",
   "execution_count": 214,
   "metadata": {
    "collapsed": true
   },
   "outputs": [],
   "source": [
    "unique_Dx = []\n",
    "for col in Dx_cols:\n",
    "    for Dx in full_orig[col].unique():\n",
    "        unique_Dx.append(Dx)"
   ]
  },
  {
   "cell_type": "code",
   "execution_count": 215,
   "metadata": {},
   "outputs": [
    {
     "name": "stdout",
     "output_type": "stream",
     "text": [
      "There are 31 unique Dxs in the dataset\n"
     ]
    }
   ],
   "source": [
    "print('There are {} unique Dxs in the dataset'.format(len(unique_Dx)))\n",
    "unique_Dx = [Dx for Dx in unique_Dx if len(Dx) == 3]"
   ]
  },
  {
   "cell_type": "code",
   "execution_count": 216,
   "metadata": {
    "collapsed": true
   },
   "outputs": [],
   "source": [
    "def get_icd(Dxs):\n",
    "    Dxs_info = {}\n",
    "    for Dx in Dxs:\n",
    "        sample = 'https://clin-table-search.lhc.nlm.nih.gov/api/icd10cm/v3/search?sf=code,name&terms={}'.format(Dx)\n",
    "        req = requests.get(sample)\n",
    "        Dxs_info[Dx] = json.loads(req.text)\n",
    "    return Dxs_info\n",
    "\n",
    "Dxs_info = get_icd(unique_Dx)"
   ]
  },
  {
   "cell_type": "markdown",
   "metadata": {},
   "source": [
    "#### Summarize manually or with word counts\n",
    "\n",
    "Could summarize with word counts. Would need to lowercase and remove stopwords and concat each of the list of descriptions together.\n",
    "\n",
    "Since only 30, just manually summarize for now."
   ]
  },
  {
   "cell_type": "code",
   "execution_count": 219,
   "metadata": {},
   "outputs": [
    {
     "data": {
      "text/plain": [
       "[14,\n",
       " ['A41.50', 'A41.59', 'A41.2', 'A41.4', 'A41.52', 'A41.51', 'A41.89'],\n",
       " None,\n",
       " [['A41.50', 'Gram-negative sepsis, unspecified'],\n",
       "  ['A41.59', 'Other Gram-negative sepsis'],\n",
       "  ['A41.2', 'Sepsis due to unspecified staphylococcus'],\n",
       "  ['A41.4', 'Sepsis due to anaerobes'],\n",
       "  ['A41.52', 'Sepsis due to Pseudomonas'],\n",
       "  ['A41.51', 'Sepsis due to Escherichia coli [E. coli]'],\n",
       "  ['A41.89', 'Other specified sepsis']]]"
      ]
     },
     "execution_count": 219,
     "metadata": {},
     "output_type": "execute_result"
    }
   ],
   "source": [
    "Dxs_info['A41']"
   ]
  },
  {
   "cell_type": "code",
   "execution_count": 221,
   "metadata": {
    "collapsed": true
   },
   "outputs": [],
   "source": [
    "# first time\n",
    "# Dxs_summarized = {}\n",
    "# for Dx in Dxs_info.keys():\n",
    "#     pprint(Dxs_info[Dx][3])\n",
    "#     Dxs_summarized[Dx] = input('What is the ailment?')"
   ]
  },
  {
   "cell_type": "code",
   "execution_count": 220,
   "metadata": {
    "collapsed": true
   },
   "outputs": [],
   "source": [
    "Dxs_summarized = {'A41': 'Sepsis',\n",
    " 'E11': 'diabetes mellitus',\n",
    " 'E56': 'Vitamin deficiency',\n",
    " 'E86': 'Dehydration',\n",
    " 'F03': 'dementia',\n",
    " 'F05': 'Delirium',\n",
    " 'F19': 'Drug abuse',\n",
    " 'G31': 'Degeneration of nervous system',\n",
    " 'G89': 'Chronic Pain',\n",
    " 'H53': 'Visual discomfort',\n",
    " 'H91': 'Hearing loss',\n",
    " 'I10': 'hypertension',\n",
    " 'I50': 'Heart Failure',\n",
    " 'I51': 'heart disease',\n",
    " 'J18': 'Pneumonia',\n",
    " 'J44': 'COPD',\n",
    " 'J45': 'asthma',\n",
    " 'M54': 'Radiculopathy/Panniculitis/Sciatica',\n",
    " 'N18': 'Chronic kidney disease',\n",
    " 'N39': 'Urinary incontinence',\n",
    " 'R05': 'cough',\n",
    " 'R26': 'abnormalities of gait and mobility',\n",
    " 'R39': 'Urgency of urination',\n",
    " 'R41': 'Cognitive functions and awareness symptoms',\n",
    " 'R51': 'headache',\n",
    " 'T88': 'Anesthesia Complication',\n",
    " 'W19': 'Fall'}"
   ]
  },
  {
   "cell_type": "code",
   "execution_count": 298,
   "metadata": {},
   "outputs": [
    {
     "data": {
      "text/plain": [
       "'COPD'"
      ]
     },
     "execution_count": 298,
     "metadata": {},
     "output_type": "execute_result"
    }
   ],
   "source": [
    "Dxs_summarized['J44']"
   ]
  },
  {
   "cell_type": "code",
   "execution_count": null,
   "metadata": {
    "collapsed": true
   },
   "outputs": [],
   "source": []
  },
  {
   "cell_type": "code",
   "execution_count": null,
   "metadata": {
    "collapsed": true
   },
   "outputs": [],
   "source": []
  }
 ],
 "metadata": {
  "kernelspec": {
   "display_name": "Python 3",
   "language": "python",
   "name": "python3"
  },
  "language_info": {
   "codemirror_mode": {
    "name": "ipython",
    "version": 3
   },
   "file_extension": ".py",
   "mimetype": "text/x-python",
   "name": "python",
   "nbconvert_exporter": "python",
   "pygments_lexer": "ipython3",
   "version": "3.6.2"
  }
 },
 "nbformat": 4,
 "nbformat_minor": 2
}
