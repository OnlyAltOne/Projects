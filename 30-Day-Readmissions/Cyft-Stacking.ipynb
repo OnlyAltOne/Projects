{
 "cells": [
  {
   "cell_type": "markdown",
   "metadata": {},
   "source": [
    "# Cyft Data Investigation\n",
    "\n",
    "Goal:\n"
   ]
  },
  {
   "cell_type": "markdown",
   "metadata": {},
   "source": [
    "#### Description:\n",
    "\n",
    "_30-Day All-Cause Hospital Readmissions_ is a quality measure that many healthcare organizations use to track their performance. Lower readmission rates indicate better patient outcomes, while higher ones tend to indicate system problems that are negatively impacting patients. The goal of this exercise is to analyze a dataset that simulates hospitalizations for a geriatric patient population in 2015 and 2016 to predict __if a patient is likely to have a readmission based on the information available at the time of their initial admission.__\n",
    "\n",
    "You have 3 hours to complete the exercise. If you don't get through all the objectives, that's OK. After 3 hours, please finish what you're working on and send in whatever code, analyses, and visualizations (such as images) you have available. Include comments documenting any assumptions you've made as well as other ideas you would have tried if you had more time.\n",
    "\n",
    "Feel free to use the language and statistical/machine learning libraries that you are most comfortable with, and ask questions along the way if any clarifications are necessary."
   ]
  },
  {
   "cell_type": "code",
   "execution_count": 4,
   "metadata": {},
   "outputs": [
    {
     "name": "stderr",
     "output_type": "stream",
     "text": [
      "/Users/xbno/anaconda3/lib/python3.6/site-packages/sklearn/cross_validation.py:41: DeprecationWarning: This module was deprecated in version 0.18 in favor of the model_selection module into which all the refactored classes and functions are moved. Also note that the interface of the new CV iterators are different from that of this module. This module will be removed in 0.20.\n",
      "  \"This module will be removed in 0.20.\", DeprecationWarning)\n",
      "/Users/xbno/anaconda3/lib/python3.6/site-packages/sklearn/grid_search.py:42: DeprecationWarning: This module was deprecated in version 0.18 in favor of the model_selection module into which all the refactored classes and functions are moved. This module will be removed in 0.20.\n",
      "  DeprecationWarning)\n"
     ]
    }
   ],
   "source": [
    "import pandas as pd\n",
    "import numpy as np\n",
    "import matplotlib.pyplot as plt\n",
    "import seaborn as sns\n",
    "%matplotlib inline\n",
    "\n",
    "from sklearn.linear_model import LogisticRegression\n",
    "from sklearn.ensemble import RandomForestClassifier\n",
    "from sklearn.metrics import confusion_matrix, f1_score, precision_score, recall_score, accuracy_score\n",
    "from sklearn.cross_validation import cross_val_score\n",
    "from sklearn.neighbors import KNeighborsClassifier\n",
    "from sklearn.preprocessing import StandardScaler\n",
    "from sklearn.grid_search import GridSearchCV\n",
    "import seaborn as sns"
   ]
  },
  {
   "cell_type": "code",
   "execution_count": 5,
   "metadata": {
    "collapsed": true
   },
   "outputs": [],
   "source": [
    "Dxs_summarized = {'A41': 'Sepsis',\n",
    " 'E11': 'diabetes mellitus',\n",
    " 'E56': 'Vitamin deficiency',\n",
    " 'E86': 'Dehydration',\n",
    " 'F03': 'dementia',\n",
    " 'F05': 'Delirium',\n",
    " 'F19': 'Drug abuse',\n",
    " 'G31': 'Degeneration of nervous system',\n",
    " 'G89': 'Chronic Pain',\n",
    " 'H53': 'Visual discomfort',\n",
    " 'H91': 'Hearing loss',\n",
    " 'I10': 'hypertension',\n",
    " 'I50': 'Heart Failure',\n",
    " 'I51': 'heart disease',\n",
    " 'J18': 'Pneumonia',\n",
    " 'J44': 'COPD',\n",
    " 'J45': 'asthma',\n",
    " 'M54': 'Radiculopathy/Panniculitis/Sciatica',\n",
    " 'N18': 'Chronic kidney disease',\n",
    " 'N39': 'Urinary incontinence',\n",
    " 'R05': 'cough',\n",
    " 'R26': 'abnormalities of gait and mobility',\n",
    " 'R39': 'Urgency of urination',\n",
    " 'R41': 'Cognitive functions and awareness symptoms',\n",
    " 'R51': 'headache',\n",
    " 'T88': 'Anesthesia Complication',\n",
    " 'W19': 'Fall'}"
   ]
  },
  {
   "cell_type": "code",
   "execution_count": 6,
   "metadata": {
    "collapsed": true
   },
   "outputs": [],
   "source": [
    "def add_target(full):\n",
    "    full['Readmitted'] = full.groupby(['Patient'])['Patient'].transform('count')\n",
    "    full['Readmitted'] = full['Readmitted'].map({2:1,1:0})\n",
    "    full['DaysSinceAdmission'] = full[full['Readmitted'] == 1].groupby(['Patient']).diff()['AdmitDate']\n",
    "    full['<=30Days'] = (full['DaysSinceAdmission'] <= pd.Timedelta('30 days')).astype(np.int)\n",
    "    full['WillBe<=30Days'] = full[full['Readmitted'] == 1].groupby('Patient').shift(-1)[['<=30Days']].fillna(0).astype(np.int)\n",
    "    full['WillBe<=30Days'] = full['WillBe<=30Days'].fillna(0)\n",
    "    full['<=30Days'] = full['WillBe<=30Days']\n",
    "    full.drop(['Readmitted','DaysSinceAdmission','WillBe<=30Days'],axis=1,inplace=True)\n",
    "    return full"
   ]
  },
  {
   "cell_type": "code",
   "execution_count": 7,
   "metadata": {
    "collapsed": true
   },
   "outputs": [],
   "source": [
    "def add_combined_dx_feats(full_orig):\n",
    "    full_orig['PrimaryDx_Dx2'] = full_orig['PrimaryDx']+full_orig['Dx2']\n",
    "    full_orig['PrimaryDx_Dx3'] = full_orig['PrimaryDx']+full_orig['Dx3']\n",
    "    full_orig['Dx2_Dx3'] = full_orig['Dx2']+full_orig['Dx3']\n",
    "    return full_orig"
   ]
  },
  {
   "cell_type": "code",
   "execution_count": 8,
   "metadata": {
    "collapsed": true
   },
   "outputs": [],
   "source": [
    "def add_month_feat(df):\n",
    "    df['MonthAdmit'] = df['AdmitDate'].apply(lambda x: x.month)\n",
    "    df['MonthAdmit'] = df['MonthAdmit'].map({1:'Jan',\n",
    "                                            2:'Feb',\n",
    "                                            3:'Mar',\n",
    "                                            4:'Apr',\n",
    "                                            5:'May',\n",
    "                                            6:'Jun',\n",
    "                                            7:'Jul',\n",
    "                                            8:'Aug',\n",
    "                                            9:'Sep',\n",
    "                                            10:'Oct',\n",
    "                                            11:'Nov',\n",
    "                                            12:'Dec'})\n",
    "    return df"
   ]
  },
  {
   "cell_type": "code",
   "execution_count": 9,
   "metadata": {
    "collapsed": true
   },
   "outputs": [],
   "source": [
    "def replace_nulls(full):\n",
    "    full = full.replace('@NA',np.NaN) # replace @NA\n",
    "    full = full.replace('',np.NaN) # didn't find any empty strings\n",
    "    full = full.replace(np.NaN,'')\n",
    "    return full"
   ]
  },
  {
   "cell_type": "markdown",
   "metadata": {},
   "source": [
    "#### Load and transform data\n",
    "\n",
    "Functions created in other eda notebook and copied over"
   ]
  },
  {
   "cell_type": "code",
   "execution_count": 10,
   "metadata": {
    "collapsed": true
   },
   "outputs": [],
   "source": [
    "admit = pd.read_csv('../../Cyft/readmissions/admissions.csv')\n",
    "claims = pd.read_csv('../../Cyft/readmissions/claims.csv')\n",
    "\n",
    "full = pd.merge(admit,claims,on=['Patient','AdmitDate'])\n",
    "full['AdmitDate'] = pd.to_datetime(full['AdmitDate'])\n",
    "\n",
    "full = replace_nulls(full)\n",
    "full = add_target(full)\n",
    "#full = add_combined_dx_feats(full)\n",
    "full = add_month_feat(full)"
   ]
  },
  {
   "cell_type": "code",
   "execution_count": 11,
   "metadata": {
    "collapsed": true
   },
   "outputs": [],
   "source": [
    "full_orig = full.copy()\n",
    "\n",
    "full = full.set_index('AdmitDate')\n",
    "\n",
    "for col in [col for col in full.columns if full[col].dtype == 'object' and 'Patient' not in col]:\n",
    "    dummies = pd.get_dummies(full[col],prefix=col)\n",
    "    full.drop(col,axis=1,inplace=True)\n",
    "    full = pd.concat([full,dummies],axis=1)    "
   ]
  },
  {
   "cell_type": "code",
   "execution_count": 12,
   "metadata": {},
   "outputs": [
    {
     "name": "stdout",
     "output_type": "stream",
     "text": [
      "train: 2856 rows and 49 columns\n",
      "test: 2938 rows and 49 columns\n"
     ]
    }
   ],
   "source": [
    "train = full['2015']\n",
    "test = full['2016']\n",
    "\n",
    "train = train.drop(['Patient'],axis=1)\n",
    "test = test.drop(['Patient'],axis=1)\n",
    "\n",
    "print('train: {} rows and {} columns'.format(*train.shape))\n",
    "print('test: {} rows and {} columns'.format(*test.shape))"
   ]
  },
  {
   "cell_type": "code",
   "execution_count": 13,
   "metadata": {},
   "outputs": [
    {
     "name": "stdout",
     "output_type": "stream",
     "text": [
      "Accuracy baseline is: 76.44%\n"
     ]
    }
   ],
   "source": [
    "print('Accuracy baseline is: {:.2f}%'.format(100*(1-full['<=30Days'].mean())))\n"
   ]
  },
  {
   "cell_type": "code",
   "execution_count": 14,
   "metadata": {
    "collapsed": true
   },
   "outputs": [],
   "source": [
    "# X_train = train[top_feats]\n",
    "# y_train = train['<=30Days']\n",
    "# X_test = test[top_feats]\n",
    "# y_test = test['<=30Days']"
   ]
  },
  {
   "cell_type": "code",
   "execution_count": 15,
   "metadata": {
    "collapsed": true
   },
   "outputs": [],
   "source": [
    "X_train = train.drop(['<=30Days'],axis=1)\n",
    "y_train = train['<=30Days']\n",
    "X_test = test.drop(['<=30Days'],axis=1)\n",
    "y_test = test['<=30Days']\n",
    "\n",
    "ss = StandardScaler()\n",
    "\n",
    "X_train = ss.fit_transform(X_train)\n",
    "X_test = ss.fit_transform(X_test)"
   ]
  },
  {
   "cell_type": "markdown",
   "metadata": {},
   "source": [
    "#### Stacking"
   ]
  },
  {
   "cell_type": "code",
   "execution_count": 16,
   "metadata": {
    "collapsed": true
   },
   "outputs": [],
   "source": [
    "from sklearn.cross_validation import KFold"
   ]
  },
  {
   "cell_type": "code",
   "execution_count": 17,
   "metadata": {
    "collapsed": true
   },
   "outputs": [],
   "source": [
    "# Some useful parameters which will come in handy later on\n",
    "ntrain = train.shape[0]\n",
    "ntest = test.shape[0]\n",
    "SEED = 0 # for reproducibility\n",
    "NFOLDS = 10 # set folds for out-of-fold prediction\n",
    "kf = KFold(ntrain, n_folds= NFOLDS, random_state=SEED)\n",
    "\n",
    "# Class to extend the Sklearn classifier\n",
    "class SklearnHelper(object):\n",
    "    def __init__(self, clf, seed=0, params=None):\n",
    "        #params['random_state'] = seed\n",
    "        self.clf = clf(**params)\n",
    "\n",
    "    def train(self, x_train, y_train):\n",
    "        self.clf.fit(x_train, y_train)\n",
    "\n",
    "    def predict(self, x):\n",
    "        return self.clf.predict(x)\n",
    "    \n",
    "    def fit(self,x,y):\n",
    "        return self.clf.fit(x,y)\n",
    "    \n",
    "    def feature_importances(self,x,y):\n",
    "        print(self.clf.fit(x,y).feature_importances_)"
   ]
  },
  {
   "cell_type": "code",
   "execution_count": 108,
   "metadata": {
    "collapsed": true
   },
   "outputs": [],
   "source": [
    "def get_oof(clf, x_train, y_train, x_test):\n",
    "    oof_train = np.zeros((ntrain,))\n",
    "    oof_test = np.zeros((ntest,))\n",
    "    oof_test_skf = np.empty((NFOLDS, ntest))\n",
    "\n",
    "    for i, (train_index, test_index) in enumerate(kf):\n",
    "        x_fold = x_train[train_index]\n",
    "        y_fold = y_train[train_index]\n",
    "        x_outfold = x_train[test_index]\n",
    "\n",
    "        clf.train(x_fold, y_fold)\n",
    "\n",
    "        oof_train[test_index] = clf.predict(x_outfold)\n",
    "        oof_test_skf[i, :] = clf.predict(x_test)\n",
    "\n",
    "    #oof_test[:] = oof_test_skf.mean(axis=0)\n",
    "    #oof_test[:] = oof_test_skf.mean(axis=0)\n",
    "    #print(oof_test_skf)\n",
    "    return oof_train, oof_test_skf\n",
    "    #return oof_train.reshape(-1, 1), oof_test.reshape(-1, 1)"
   ]
  },
  {
   "cell_type": "code",
   "execution_count": 109,
   "metadata": {
    "collapsed": true
   },
   "outputs": [],
   "source": [
    "knn_params = {\n",
    "    'n_neighbors': 5,\n",
    "    'weights': 'distance',\n",
    "    'p': 1\n",
    "}\n",
    "\n",
    "lr_params = {\n",
    "    'random_state': 0,\n",
    "    'C': 1,\n",
    "    'class_weight': 'balanced',\n",
    "    'penalty': 'l1'\n",
    "}\n",
    "\n",
    "# lr_params = {\n",
    "#     'class_weight': 'balanced',\n",
    "# }\n",
    "\n",
    "rf_params = {\n",
    "    'random_state': 0,\n",
    "    'class_weight': 'balanced',\n",
    "    'criterion': 'gini',\n",
    "    'max_depth': 50,\n",
    "    'min_samples_split': 80,\n",
    "    'n_estimators': 400\n",
    "}"
   ]
  },
  {
   "cell_type": "markdown",
   "metadata": {},
   "source": [
    "#### Use 3 Models for 1st stage\n",
    "\n",
    "Create blended predictions of each model's test predictions"
   ]
  },
  {
   "cell_type": "code",
   "execution_count": 110,
   "metadata": {
    "collapsed": true
   },
   "outputs": [],
   "source": [
    "rf = SklearnHelper(clf=RandomForestClassifier, seed=SEED, params=rf_params)\n",
    "knn = SklearnHelper(clf=KNeighborsClassifier, seed=SEED, params=knn_params)\n",
    "lr = SklearnHelper(clf=LogisticRegression, seed=SEED, params=lr_params)"
   ]
  },
  {
   "cell_type": "code",
   "execution_count": 111,
   "metadata": {},
   "outputs": [],
   "source": [
    "knn_oof_train, knn_oof_test = get_oof(knn, X_train, y_train, X_test)\n",
    "rf_oof_train, rf_oof_test = get_oof(rf, X_train, y_train, X_test) \n",
    "lr_oof_train, lr_oof_test = get_oof(lr, X_train, y_train, X_test)  "
   ]
  },
  {
   "cell_type": "code",
   "execution_count": 128,
   "metadata": {},
   "outputs": [
    {
     "data": {
      "text/plain": [
       "0.0    1631\n",
       "1.0    1038\n",
       "0.9      51\n",
       "0.1      47\n",
       "0.7      32\n",
       "0.8      28\n",
       "0.3      24\n",
       "0.2      24\n",
       "0.5      23\n",
       "0.6      22\n",
       "0.4      18\n",
       "Name: 0, dtype: int64"
      ]
     },
     "execution_count": 128,
     "metadata": {},
     "output_type": "execute_result"
    }
   ],
   "source": [
    "pd.DataFrame(lr_oof_test.mean(axis=0))[0].value_counts()"
   ]
  },
  {
   "cell_type": "markdown",
   "metadata": {},
   "source": [
    "#### Add out-of-fold predictions to original train/test"
   ]
  },
  {
   "cell_type": "code",
   "execution_count": 87,
   "metadata": {
    "collapsed": true
   },
   "outputs": [],
   "source": [
    "oof_train = train.drop(['<=30Days'],axis=1)\n",
    "oof_train['knn'] = knn_oof_train.astype(int)\n",
    "oof_train['rf'] = rf_oof_train.astype(int)\n",
    "oof_train['lr'] = lr_oof_train.astype(int)"
   ]
  },
  {
   "cell_type": "code",
   "execution_count": 88,
   "metadata": {
    "collapsed": true
   },
   "outputs": [],
   "source": [
    "oof_test = test.drop(['<=30Days'],axis=1)\n",
    "oof_test['knn'] = knn_oof_test.astype(int)\n",
    "oof_test['rf'] = rf_oof_test.astype(int)\n",
    "oof_test['lr'] = lr_oof_test.astype(int)"
   ]
  },
  {
   "cell_type": "code",
   "execution_count": 91,
   "metadata": {},
   "outputs": [
    {
     "data": {
      "text/plain": [
       "[<matplotlib.lines.Line2D at 0x1a18371358>]"
      ]
     },
     "execution_count": 91,
     "metadata": {},
     "output_type": "execute_result"
    },
    {
     "data": {
      "image/png": "[encoded data removed]",
      "text/plain": [
       "<matplotlib.figure.Figure at 0x1a181f0ba8>"
      ]
     },
     "metadata": {},
     "output_type": "display_data"
    }
   ],
   "source": [
    "plt.plot(lr_oof_test)"
   ]
  },
  {
   "cell_type": "markdown",
   "metadata": {},
   "source": [
    "#### Try only preds"
   ]
  },
  {
   "cell_type": "code",
   "execution_count": 24,
   "metadata": {
    "collapsed": true
   },
   "outputs": [],
   "source": [
    "oof_train = pd.DataFrame(knn_oof_train.astype(int))\n",
    "oof_train.columns = ['knn']\n",
    "oof_train['rf'] = rf_oof_train.astype(int)\n",
    "oof_train['lr'] = lr_oof_train.astype(int)"
   ]
  },
  {
   "cell_type": "code",
   "execution_count": 25,
   "metadata": {
    "collapsed": true
   },
   "outputs": [],
   "source": [
    "oof_test = pd.DataFrame(knn_oof_test.astype(int))\n",
    "oof_test.columns = ['knn']\n",
    "oof_test['rf'] = rf_oof_test.astype(int)\n",
    "oof_test['lr'] = lr_oof_test.astype(int)"
   ]
  },
  {
   "cell_type": "markdown",
   "metadata": {},
   "source": [
    "#### Only Top Feats"
   ]
  },
  {
   "cell_type": "code",
   "execution_count": 26,
   "metadata": {
    "collapsed": true
   },
   "outputs": [],
   "source": [
    "top_feats = ['Age',\n",
    " 'Dx2_E11',\n",
    " 'Dx2_E86',\n",
    " 'Dx2_F03',\n",
    " 'Dx2_I51',\n",
    " 'Dx2_T88',\n",
    " 'Dx2_W19',\n",
    " 'Dx3_',\n",
    " 'Dx3_J18',\n",
    " 'Gender_F',\n",
    " 'Gender_M',\n",
    " 'LOS',\n",
    " 'PastPCPVisits',\n",
    " 'PrimaryDx_E11',\n",
    " 'PrimaryDx_I50',\n",
    " 'PrimaryDx_J44',\n",
    " 'PrimaryDx_N18']\n",
    "\n",
    "top_feats = ['Age',\n",
    " 'Dx2_E11',\n",
    " 'Dx2_E86',\n",
    " 'Dx2_F03',\n",
    " 'Dx2_F05',\n",
    " 'Dx2_F19',\n",
    " 'Dx2_G31',\n",
    " 'Dx2_I51',\n",
    " 'Dx2_R39',\n",
    " 'Dx2_T88',\n",
    " 'Dx2_W19',\n",
    " 'Dx3_',\n",
    " 'Dx3_H53',\n",
    " 'Dx3_J18',\n",
    " 'Dx3_M54',\n",
    " 'Dx3_R05',\n",
    " 'Dx3_R26',\n",
    " 'Gender_F',\n",
    " 'Gender_M',\n",
    " 'LOS',\n",
    " 'PastPCPVisits',\n",
    " 'PrimaryDx_A41',\n",
    " 'PrimaryDx_E11',\n",
    " 'PrimaryDx_I50',\n",
    " 'PrimaryDx_J44',\n",
    " 'PrimaryDx_N18']"
   ]
  },
  {
   "cell_type": "code",
   "execution_count": 27,
   "metadata": {
    "collapsed": true
   },
   "outputs": [],
   "source": [
    "oof_train = train[top_feats].copy()\n",
    "oof_train['knn'] = knn_oof_train.astype(int)\n",
    "oof_train['rf'] = rf_oof_train.astype(int)\n",
    "oof_train['lr'] = lr_oof_train.astype(int)\n",
    "#oof_train['lr'] = oof_train['lr'].map({0:0,1:5})"
   ]
  },
  {
   "cell_type": "code",
   "execution_count": 28,
   "metadata": {
    "collapsed": true
   },
   "outputs": [],
   "source": [
    "oof_test = test[top_feats].copy()\n",
    "oof_test['knn'] = knn_oof_test.astype(int)\n",
    "oof_test['rf'] = rf_oof_test.astype(int)\n",
    "oof_test['lr'] = lr_oof_test.astype(int)\n",
    "#oof_test['lr'] = oof_test['lr'].map({0:0,1:5})"
   ]
  },
  {
   "cell_type": "markdown",
   "metadata": {},
   "source": [
    "#### Train 2nd stage model"
   ]
  },
  {
   "cell_type": "code",
   "execution_count": 29,
   "metadata": {
    "collapsed": true
   },
   "outputs": [],
   "source": [
    "from sklearn.ensemble import AdaBoostClassifier\n",
    "from sklearn.tree import DecisionTreeClassifier\n",
    "from sklearn.linear_model import SGDClassifier"
   ]
  },
  {
   "cell_type": "code",
   "execution_count": 30,
   "metadata": {
    "collapsed": true
   },
   "outputs": [],
   "source": [
    "ab = AdaBoostClassifier(base_estimator=LogisticRegression(),n_estimators=1000,learning_rate=1)\n",
    "ab.fit(oof_train,y_train)\n",
    "stack_pred = ab.predict(oof_test)"
   ]
  },
  {
   "cell_type": "markdown",
   "metadata": {},
   "source": [
    "#### For comparisons create standard predictions"
   ]
  },
  {
   "cell_type": "code",
   "execution_count": 31,
   "metadata": {
    "collapsed": true
   },
   "outputs": [],
   "source": [
    "lr_pred = LogisticRegression().fit(X_train,y_train).predict(X_test)\n",
    "knn_pred = KNeighborsClassifier(n_neighbors=5,p=1,weights='distance').fit(X_train,y_train).predict(X_test)\n",
    "rf_pred = RandomForestClassifier(n_estimators=500).fit(X_train,y_train).predict(X_test)"
   ]
  },
  {
   "cell_type": "code",
   "execution_count": 78,
   "metadata": {},
   "outputs": [],
   "source": [
    "lr_pred_prob = LogisticRegression().fit(X_train,y_train).predict_proba(X_test)[:,1]\n",
    "knn_pred_prob = KNeighborsClassifier(n_neighbors=5,p=1,weights='distance').fit(X_train,y_train).predict_proba(X_test)[:,1]\n",
    "rf_pred_prob = RandomForestClassifier(n_estimators=500).fit(X_train,y_train).predict_proba(X_test)[:,1]"
   ]
  },
  {
   "cell_type": "markdown",
   "metadata": {},
   "source": [
    "#### Analyze the predictions\n",
    "\n",
    "This is an interesting outcome. Talk through what the precision vs recall mean and calculate them out if there were real numbers involved"
   ]
  },
  {
   "cell_type": "code",
   "execution_count": 32,
   "metadata": {
    "collapsed": true
   },
   "outputs": [],
   "source": [
    "preds = pd.DataFrame(y_test)\n",
    "preds['knn'] = knn_pred \n",
    "preds['knn_blend'] = knn_oof_test.astype(int)\n",
    "preds['lr'] = lr_pred # standard lr pred\n",
    "preds['lr blend'] = lr_oof_test.astype(int)\n",
    "preds['rf'] = rf_pred\n",
    "preds['rf_blend'] = rf_oof_test.astype(int)\n",
    "preds['stack'] = stack_pred"
   ]
  },
  {
   "cell_type": "code",
   "execution_count": 33,
   "metadata": {},
   "outputs": [
    {
     "name": "stdout",
     "output_type": "stream",
     "text": [
      "Model: knn\n",
      "\tprecision: 0.421\n",
      "\trecall: 0.374\n",
      "\taccuracy: 0.736\n",
      "Model: knn_blend\n",
      "\tprecision: 0.450\n",
      "\trecall: 0.166\n",
      "\taccuracy: 0.760\n",
      "Model: lr\n",
      "\tprecision: 0.586\n",
      "\trecall: 0.415\n",
      "\taccuracy: 0.797\n",
      "Model: lr blend\n",
      "\tprecision: 0.489\n",
      "\trecall: 0.748\n",
      "\taccuracy: 0.761\n",
      "Model: rf\n",
      "\tprecision: 0.553\n",
      "\trecall: 0.309\n",
      "\taccuracy: 0.783\n",
      "Model: rf_blend\n",
      "\tprecision: 0.501\n",
      "\trecall: 0.611\n",
      "\taccuracy: 0.769\n",
      "Model: stack\n",
      "\tprecision: 0.585\n",
      "\trecall: 0.367\n",
      "\taccuracy: 0.793\n"
     ]
    }
   ],
   "source": [
    "for col in [col for col in preds if '<=30Days' not in col]:\n",
    "    y_pred = preds[col]\n",
    "    print('Model: {}'.format(col))\n",
    "    print('\\tprecision: {:.3f}\\n\\trecall: {:.3f}\\n\\taccuracy: {:.3f}'.format(precision_score(y_test,y_pred),\n",
    "                                                       recall_score(y_test,y_pred),\n",
    "                                                       accuracy_score(y_test,y_pred)))"
   ]
  },
  {
   "cell_type": "code",
   "execution_count": 34,
   "metadata": {
    "scrolled": false
   },
   "outputs": [
    {
     "data": {
      "text/plain": [
       "<=30Days     1.000000\n",
       "knn          0.374080\n",
       "knn_blend    0.166421\n",
       "lr           0.415317\n",
       "lr blend     0.748159\n",
       "rf           0.309278\n",
       "rf_blend     0.611193\n",
       "stack        0.366716\n",
       "dtype: float64"
      ]
     },
     "execution_count": 34,
     "metadata": {},
     "output_type": "execute_result"
    }
   ],
   "source": [
    "preds[preds['<=30Days'] == 1].mean()"
   ]
  },
  {
   "cell_type": "markdown",
   "metadata": {},
   "source": [
    "#### Graph AUC Curves of models"
   ]
  },
  {
   "cell_type": "code",
   "execution_count": 47,
   "metadata": {},
   "outputs": [],
   "source": [
    "from sklearn.metrics import roc_auc_score, accuracy_score, roc_curve"
   ]
  },
  {
   "cell_type": "code",
   "execution_count": 75,
   "metadata": {},
   "outputs": [],
   "source": [
    "def performance(y_true, pred, color=\"g\", ann=True):\n",
    "    #acc = accuracy_score(y_true, pred)\n",
    "    auc = roc_auc_score(y_true, pred)\n",
    "    fpr, tpr, thr = roc_curve(y_true, pred)\n",
    "    plt.plot(fpr, tpr, color, linewidth=\"1\")\n",
    "    plt.xlabel(\"False positive rate\")\n",
    "    plt.ylabel(\"True positive rate\")\n",
    "    if ann:\n",
    "        #plt.annotate(\"Acc: %0.2f\" % acc, (0.2,0.7), size=14)\n",
    "        plt.annotate(\"AUC: %0.2f\" % auc, (0.2,0.6), size=14)"
   ]
  },
  {
   "cell_type": "code",
   "execution_count": 81,
   "metadata": {},
   "outputs": [
    {
     "data": {
      "image/png": "[encoded data removed]",
      "text/plain": [
       "<matplotlib.figure.Figure at 0x1a17bde630>"
      ]
     },
     "metadata": {},
     "output_type": "display_data"
    }
   ],
   "source": [
    "performance(y_test,rf_pred_prob,ann=False)\n",
    "performance(y_test,knn_pred_prob,color='b',ann=False)\n",
    "performance(y_test,lr_pred_prob,color='r')"
   ]
  },
  {
   "cell_type": "code",
   "execution_count": 55,
   "metadata": {},
   "outputs": [
    {
     "data": {
      "text/plain": [
       "array([[ 0.],\n",
       "       [ 0.],\n",
       "       [ 0.],\n",
       "       ..., \n",
       "       [ 0.],\n",
       "       [ 0.],\n",
       "       [ 0.]])"
      ]
     },
     "execution_count": 55,
     "metadata": {},
     "output_type": "execute_result"
    }
   ],
   "source": []
  },
  {
   "cell_type": "code",
   "execution_count": 39,
   "metadata": {},
   "outputs": [
    {
     "data": {
      "text/plain": [
       "AdmitDate\n",
       "2016-01-03    0.0\n",
       "2016-05-07    1.0\n",
       "2016-01-14    0.0\n",
       "2016-10-26    1.0\n",
       "2016-08-10    0.0\n",
       "2016-01-02    0.0\n",
       "2016-12-14    0.0\n",
       "2016-07-26    1.0\n",
       "2016-08-26    0.0\n",
       "2016-10-23    0.0\n",
       "2016-04-21    0.0\n",
       "2016-02-20    0.0\n",
       "2016-11-19    1.0\n",
       "2016-06-06    0.0\n",
       "2016-07-15    1.0\n",
       "2016-10-02    1.0\n",
       "2016-11-28    0.0\n",
       "2016-10-21    1.0\n",
       "2016-02-06    0.0\n",
       "2016-09-17    0.0\n",
       "2016-05-21    1.0\n",
       "2016-09-17    1.0\n",
       "2016-06-07    0.0\n",
       "2016-07-29    0.0\n",
       "2016-03-03    0.0\n",
       "2016-09-10    1.0\n",
       "2016-07-16    1.0\n",
       "2016-06-19    0.0\n",
       "2016-08-22    0.0\n",
       "2016-11-18    0.0\n",
       "             ... \n",
       "2016-05-10    0.0\n",
       "2016-11-06    0.0\n",
       "2016-06-19    0.0\n",
       "2016-11-29    0.0\n",
       "2016-05-22    0.0\n",
       "2016-09-14    0.0\n",
       "2016-12-20    0.0\n",
       "2016-07-02    0.0\n",
       "2016-03-07    0.0\n",
       "2016-11-01    0.0\n",
       "2016-05-18    0.0\n",
       "2016-06-04    0.0\n",
       "2016-09-11    0.0\n",
       "2016-01-18    0.0\n",
       "2016-05-04    0.0\n",
       "2016-10-27    0.0\n",
       "2016-08-21    0.0\n",
       "2016-11-25    0.0\n",
       "2016-07-20    0.0\n",
       "2016-02-28    0.0\n",
       "2016-05-09    0.0\n",
       "2016-07-03    0.0\n",
       "2016-02-15    0.0\n",
       "2016-04-11    0.0\n",
       "2016-08-17    0.0\n",
       "2016-07-03    0.0\n",
       "2016-03-14    0.0\n",
       "2016-12-20    0.0\n",
       "2016-09-18    0.0\n",
       "2016-09-11    0.0\n",
       "Name: <=30Days, Length: 2938, dtype: float64"
      ]
     },
     "execution_count": 39,
     "metadata": {},
     "output_type": "execute_result"
    }
   ],
   "source": [
    "y_test"
   ]
  },
  {
   "cell_type": "code",
   "execution_count": null,
   "metadata": {
    "collapsed": true
   },
   "outputs": [],
   "source": []
  }
 ],
 "metadata": {
  "kernelspec": {
   "display_name": "Python 3",
   "language": "python",
   "name": "python3"
  },
  "language_info": {
   "codemirror_mode": {
    "name": "ipython",
    "version": 3
   },
   "file_extension": ".py",
   "mimetype": "text/x-python",
   "name": "python",
   "nbconvert_exporter": "python",
   "pygments_lexer": "ipython3",
   "version": "3.6.2"
  }
 },
 "nbformat": 4,
 "nbformat_minor": 2
}
