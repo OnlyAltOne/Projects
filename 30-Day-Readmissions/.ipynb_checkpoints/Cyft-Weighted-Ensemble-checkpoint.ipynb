{
 "cells": [
  {
   "cell_type": "markdown",
   "metadata": {},
   "source": [
    "# Cyft Data Investigation\n",
    "\n",
    "Goal:\n"
   ]
  },
  {
   "cell_type": "markdown",
   "metadata": {},
   "source": [
    "#### Description:\n",
    "\n",
    "_30-Day All-Cause Hospital Readmissions_ is a quality measure that many healthcare organizations use to track their performance. Lower readmission rates indicate better patient outcomes, while higher ones tend to indicate system problems that are negatively impacting patients. The goal of this exercise is to analyze a dataset that simulates hospitalizations for a geriatric patient population in 2015 and 2016 to predict __if a patient is likely to have a readmission based on the information available at the time of their initial admission.__\n",
    "\n",
    "You have 3 hours to complete the exercise. If you don't get through all the objectives, that's OK. After 3 hours, please finish what you're working on and send in whatever code, analyses, and visualizations (such as images) you have available. Include comments documenting any assumptions you've made as well as other ideas you would have tried if you had more time.\n",
    "\n",
    "Feel free to use the language and statistical/machine learning libraries that you are most comfortable with, and ask questions along the way if any clarifications are necessary."
   ]
  },
  {
   "cell_type": "code",
   "execution_count": 1,
   "metadata": {},
   "outputs": [
    {
     "name": "stderr",
     "output_type": "stream",
     "text": [
      "/Users/xbno/anaconda3/lib/python3.6/site-packages/sklearn/cross_validation.py:41: DeprecationWarning: This module was deprecated in version 0.18 in favor of the model_selection module into which all the refactored classes and functions are moved. Also note that the interface of the new CV iterators are different from that of this module. This module will be removed in 0.20.\n",
      "  \"This module will be removed in 0.20.\", DeprecationWarning)\n",
      "/Users/xbno/anaconda3/lib/python3.6/site-packages/sklearn/grid_search.py:42: DeprecationWarning: This module was deprecated in version 0.18 in favor of the model_selection module into which all the refactored classes and functions are moved. This module will be removed in 0.20.\n",
      "  DeprecationWarning)\n"
     ]
    }
   ],
   "source": [
    "import pandas as pd\n",
    "import numpy as np\n",
    "import matplotlib.pyplot as plt\n",
    "import seaborn as sns\n",
    "%matplotlib inline\n",
    "\n",
    "from sklearn.linear_model import LogisticRegression\n",
    "from sklearn.ensemble import RandomForestClassifier\n",
    "from sklearn.metrics import confusion_matrix, f1_score, precision_score, recall_score, accuracy_score\n",
    "from sklearn.cross_validation import cross_val_score\n",
    "from sklearn.neighbors import KNeighborsClassifier\n",
    "from sklearn.preprocessing import StandardScaler\n",
    "from sklearn.grid_search import GridSearchCV\n",
    "import seaborn as sns"
   ]
  },
  {
   "cell_type": "code",
   "execution_count": 2,
   "metadata": {
    "collapsed": true
   },
   "outputs": [],
   "source": [
    "Dxs_summarized = {'A41': 'Sepsis',\n",
    " 'E11': 'diabetes mellitus',\n",
    " 'E56': 'Vitamin deficiency',\n",
    " 'E86': 'Dehydration',\n",
    " 'F03': 'dementia',\n",
    " 'F05': 'Delirium',\n",
    " 'F19': 'Drug abuse',\n",
    " 'G31': 'Degeneration of nervous system',\n",
    " 'G89': 'Chronic Pain',\n",
    " 'H53': 'Visual discomfort',\n",
    " 'H91': 'Hearing loss',\n",
    " 'I10': 'hypertension',\n",
    " 'I50': 'Heart Failure',\n",
    " 'I51': 'heart disease',\n",
    " 'J18': 'Pneumonia',\n",
    " 'J44': 'COPD',\n",
    " 'J45': 'asthma',\n",
    " 'M54': 'Radiculopathy/Panniculitis/Sciatica',\n",
    " 'N18': 'Chronic kidney disease',\n",
    " 'N39': 'Urinary incontinence',\n",
    " 'R05': 'cough',\n",
    " 'R26': 'abnormalities of gait and mobility',\n",
    " 'R39': 'Urgency of urination',\n",
    " 'R41': 'Cognitive functions and awareness symptoms',\n",
    " 'R51': 'headache',\n",
    " 'T88': 'Anesthesia Complication',\n",
    " 'W19': 'Fall'}"
   ]
  },
  {
   "cell_type": "code",
   "execution_count": 3,
   "metadata": {
    "collapsed": true
   },
   "outputs": [],
   "source": [
    "def add_target(full):\n",
    "    full['Readmitted'] = full.groupby(['Patient'])['Patient'].transform('count')\n",
    "    full['Readmitted'] = full['Readmitted'].map({2:1,1:0})\n",
    "    full['DaysSinceAdmission'] = full[full['Readmitted'] == 1].groupby(['Patient']).diff()['AdmitDate']\n",
    "    full['<=30Days'] = (full['DaysSinceAdmission'] <= pd.Timedelta('30 days')).astype(np.int)\n",
    "    full['WillBe<=30Days'] = full[full['Readmitted'] == 1].groupby('Patient').shift(-1)[['<=30Days']].fillna(0).astype(np.int)\n",
    "    full['WillBe<=30Days'] = full['WillBe<=30Days'].fillna(0)\n",
    "    full['<=30Days'] = full['WillBe<=30Days']\n",
    "    full.drop(['Readmitted','DaysSinceAdmission','WillBe<=30Days'],axis=1,inplace=True)\n",
    "    return full"
   ]
  },
  {
   "cell_type": "code",
   "execution_count": 4,
   "metadata": {
    "collapsed": true
   },
   "outputs": [],
   "source": [
    "def add_combined_dx_feats(full_orig):\n",
    "    full_orig['PrimaryDx_Dx2'] = full_orig['PrimaryDx']+full_orig['Dx2']\n",
    "    full_orig['PrimaryDx_Dx3'] = full_orig['PrimaryDx']+full_orig['Dx3']\n",
    "    full_orig['Dx2_Dx3'] = full_orig['Dx2']+full_orig['Dx3']\n",
    "    return full_orig"
   ]
  },
  {
   "cell_type": "code",
   "execution_count": 5,
   "metadata": {
    "collapsed": true
   },
   "outputs": [],
   "source": [
    "def add_month_feat(df):\n",
    "    df['MonthAdmit'] = df['AdmitDate'].apply(lambda x: x.month)\n",
    "    df['MonthAdmit'] = df['MonthAdmit'].map({1:'Jan',\n",
    "                                            2:'Feb',\n",
    "                                            3:'Mar',\n",
    "                                            4:'Apr',\n",
    "                                            5:'May',\n",
    "                                            6:'Jun',\n",
    "                                            7:'Jul',\n",
    "                                            8:'Aug',\n",
    "                                            9:'Sep',\n",
    "                                            10:'Oct',\n",
    "                                            11:'Nov',\n",
    "                                            12:'Dec'})\n",
    "    return df"
   ]
  },
  {
   "cell_type": "code",
   "execution_count": 6,
   "metadata": {
    "collapsed": true
   },
   "outputs": [],
   "source": [
    "def replace_nulls(full):\n",
    "    full = full.replace('@NA',np.NaN) # replace @NA\n",
    "    full = full.replace('',np.NaN) # didn't find any empty strings\n",
    "    full = full.replace(np.NaN,'')\n",
    "    return full"
   ]
  },
  {
   "cell_type": "markdown",
   "metadata": {},
   "source": [
    "#### Load and transform data\n",
    "\n",
    "Functions created in other eda notebook and copied over"
   ]
  },
  {
   "cell_type": "code",
   "execution_count": 7,
   "metadata": {
    "collapsed": true
   },
   "outputs": [],
   "source": [
    "admit = pd.read_csv('../../Cyft/readmissions/admissions.csv')\n",
    "claims = pd.read_csv('../../Cyft/readmissions/claims.csv')\n",
    "\n",
    "full = pd.merge(admit,claims,on=['Patient','AdmitDate'])\n",
    "full['AdmitDate'] = pd.to_datetime(full['AdmitDate'])\n",
    "\n",
    "full = replace_nulls(full)\n",
    "full = add_target(full)\n",
    "#full = add_combined_dx_feats(full)\n",
    "full = add_month_feat(full)"
   ]
  },
  {
   "cell_type": "code",
   "execution_count": 8,
   "metadata": {
    "collapsed": true
   },
   "outputs": [],
   "source": [
    "full_orig = full.copy()\n",
    "\n",
    "full = full.set_index('AdmitDate')\n",
    "\n",
    "for col in [col for col in full.columns if full[col].dtype == 'object' and 'Patient' not in col]:\n",
    "    dummies = pd.get_dummies(full[col],prefix=col)\n",
    "    full.drop(col,axis=1,inplace=True)\n",
    "    full = pd.concat([full,dummies],axis=1)    "
   ]
  },
  {
   "cell_type": "code",
   "execution_count": 9,
   "metadata": {},
   "outputs": [
    {
     "name": "stdout",
     "output_type": "stream",
     "text": [
      "train: 2856 rows and 49 columns\n",
      "test: 2938 rows and 49 columns\n"
     ]
    }
   ],
   "source": [
    "train = full['2015']\n",
    "test = full['2016']\n",
    "\n",
    "train = train.drop(['Patient'],axis=1)\n",
    "test = test.drop(['Patient'],axis=1)\n",
    "\n",
    "print('train: {} rows and {} columns'.format(*train.shape))\n",
    "print('test: {} rows and {} columns'.format(*test.shape))"
   ]
  },
  {
   "cell_type": "code",
   "execution_count": 10,
   "metadata": {},
   "outputs": [
    {
     "name": "stdout",
     "output_type": "stream",
     "text": [
      "Accuracy baseline is: 76.44%\n"
     ]
    }
   ],
   "source": [
    "print('Accuracy baseline is: {:.2f}%'.format(100*(1-full['<=30Days'].mean())))\n"
   ]
  },
  {
   "cell_type": "code",
   "execution_count": 11,
   "metadata": {
    "collapsed": true
   },
   "outputs": [],
   "source": [
    "# X_train = train[top_feats]\n",
    "# y_train = train['<=30Days']\n",
    "# X_test = test[top_feats]\n",
    "# y_test = test['<=30Days']"
   ]
  },
  {
   "cell_type": "code",
   "execution_count": 12,
   "metadata": {
    "collapsed": true
   },
   "outputs": [],
   "source": [
    "X_train = train.drop(['<=30Days'],axis=1)\n",
    "y_train = train['<=30Days']\n",
    "X_test = test.drop(['<=30Days'],axis=1)\n",
    "y_test = test['<=30Days']\n",
    "\n",
    "ss = StandardScaler()\n",
    "\n",
    "X_train = ss.fit_transform(X_train)\n",
    "X_test = ss.fit_transform(X_test)"
   ]
  },
  {
   "cell_type": "markdown",
   "metadata": {},
   "source": [
    "#### Only Top Feats"
   ]
  },
  {
   "cell_type": "code",
   "execution_count": 43,
   "metadata": {
    "collapsed": true
   },
   "outputs": [],
   "source": [
    "top_feats = ['Age',\n",
    " 'Dx2_E11',\n",
    " 'Dx2_E86',\n",
    " 'Dx2_F03',\n",
    " 'Dx2_I51',\n",
    " 'Dx2_T88',\n",
    " 'Dx2_W19',\n",
    " 'Dx3_',\n",
    " 'Dx3_J18',\n",
    " 'Gender_F',\n",
    " 'Gender_M',\n",
    " 'LOS',\n",
    " 'PastPCPVisits',\n",
    " 'PrimaryDx_E11',\n",
    " 'PrimaryDx_I50',\n",
    " 'PrimaryDx_J44',\n",
    " 'PrimaryDx_N18']\n",
    "\n",
    "top_feats = ['Age',\n",
    " 'Dx2_E11',\n",
    " 'Dx2_E86',\n",
    " 'Dx2_F03',\n",
    " 'Dx2_F05',\n",
    " 'Dx2_F19',\n",
    " 'Dx2_G31',\n",
    " 'Dx2_I51',\n",
    " 'Dx2_R39',\n",
    " 'Dx2_T88',\n",
    " 'Dx2_W19',\n",
    " 'Dx3_',\n",
    " 'Dx3_H53',\n",
    " 'Dx3_J18',\n",
    " 'Dx3_M54',\n",
    " 'Dx3_R05',\n",
    " 'Dx3_R26',\n",
    " 'Gender_F',\n",
    " 'Gender_M',\n",
    " 'LOS',\n",
    " 'PastPCPVisits',\n",
    " 'PrimaryDx_A41',\n",
    " 'PrimaryDx_E11',\n",
    " 'PrimaryDx_I50',\n",
    " 'PrimaryDx_J44',\n",
    " 'PrimaryDx_N18']"
   ]
  },
  {
   "cell_type": "markdown",
   "metadata": {},
   "source": [
    "#### Weighted Ensemble"
   ]
  },
  {
   "cell_type": "code",
   "execution_count": 15,
   "metadata": {},
   "outputs": [],
   "source": [
    "from sklearn.cross_validation import KFold, cross_val_score\n",
    "from sklearn.ensemble import VotingClassifier"
   ]
  },
  {
   "cell_type": "code",
   "execution_count": 16,
   "metadata": {
    "collapsed": true
   },
   "outputs": [],
   "source": [
    "knn_params = {\n",
    "    'n_neighbors': 5,\n",
    "    'weights': 'distance',\n",
    "    'p': 1\n",
    "}\n",
    "\n",
    "lr_params = {\n",
    "    'random_state': 0,\n",
    "    'C': 1,\n",
    "    'class_weight': 'balanced',\n",
    "    'penalty': 'l1'\n",
    "}\n",
    "\n",
    "rf_params = {\n",
    "    'random_state': 0,\n",
    "    'class_weight': 'balanced',\n",
    "    'criterion': 'gini',\n",
    "    'max_depth': 50,\n",
    "    'min_samples_split': 80,\n",
    "    'n_estimators': 400\n",
    "}"
   ]
  },
  {
   "cell_type": "code",
   "execution_count": 78,
   "metadata": {
    "collapsed": true
   },
   "outputs": [],
   "source": [
    "clf1 = KNeighborsClassifier(n_neighbors=5,weights='distance',p=1)\n",
    "clf2 = LogisticRegression()#class_weight='balanced')\n",
    "clf3 = RandomForestClassifier(n_estimators=400,class_weight='balanced')#,max_depth=50,min_samples_split=80,criterion='gini')\n",
    "\n",
    "# clf1 = LogisticRegression(lr_params)\n",
    "# clf2 = KNeighborsClassifier(knn_params)\n",
    "# clf3 = RandomForestClassifier(rf_params)"
   ]
  },
  {
   "cell_type": "code",
   "execution_count": 79,
   "metadata": {},
   "outputs": [],
   "source": [
    "weights = [1,1,1]\n",
    "eclf = VotingClassifier(estimators=[('knn',clf1),('lr',clf2),('rf',clf3)],weights=weights)"
   ]
  },
  {
   "cell_type": "code",
   "execution_count": 93,
   "metadata": {},
   "outputs": [
    {
     "name": "stdout",
     "output_type": "stream",
     "text": [
      "Accuracy: 0.436 (+/- 0.015) [KNN]\n",
      "Accuracy: 0.474 (+/- 0.026) [Logistic Regression]\n",
      "Accuracy: 0.455 (+/- 0.035) [Random Forest]\n",
      "Accuracy: 0.474 (+/- 0.026) [Ensemble]\n"
     ]
    }
   ],
   "source": [
    "for clf, label in zip([clf1, clf2, clf3, eclf], ['KNN', 'Logistic Regression', 'Random Forest', 'Ensemble']):\n",
    "\n",
    "    scores = cross_val_score(clf, X_train, y_train, cv=5, scoring='f1')\n",
    "    print(\"Accuracy: {:0.3f} (+/- {:0.3f}) [{}]\".format(scores.mean(), scores.std(), label))"
   ]
  },
  {
   "cell_type": "code",
   "execution_count": 94,
   "metadata": {},
   "outputs": [],
   "source": [
    "df = pd.DataFrame(columns=('w1', 'w2', 'w3', 'mean', 'std'))\n",
    "\n",
    "i = 0\n",
    "for w1 in range(1,4):\n",
    "    for w2 in range(1,4):\n",
    "        for w3 in range(1,4):\n",
    "\n",
    "            if len(set((w1,w2,w3))) == 1: # skip if all weights are equal\n",
    "                continue\n",
    "\n",
    "            eclf = VotingClassifier(estimators=[('lr',clf1),('knn',clf2),('rf',clf3)], weights=[w1,w2,w3])\n",
    "            scores = cross_val_score(estimator=eclf,\n",
    "                                            X=X_train,\n",
    "                                            y=y_train,\n",
    "                                            cv=5,\n",
    "                                            scoring='f1')\n",
    "\n",
    "            df.loc[i] = [w1, w2, w3, scores.mean(), scores.std()]\n",
    "            i += 1"
   ]
  },
  {
   "cell_type": "code",
   "execution_count": 95,
   "metadata": {},
   "outputs": [
    {
     "data": {
      "text/html": [
       "<div>\n",
       "<style>\n",
       "    .dataframe thead tr:only-child th {\n",
       "        text-align: right;\n",
       "    }\n",
       "\n",
       "    .dataframe thead th {\n",
       "        text-align: left;\n",
       "    }\n",
       "\n",
       "    .dataframe tbody tr th {\n",
       "        vertical-align: top;\n",
       "    }\n",
       "</style>\n",
       "<table border=\"1\" class=\"dataframe\">\n",
       "  <thead>\n",
       "    <tr style=\"text-align: right;\">\n",
       "      <th></th>\n",
       "      <th>w1</th>\n",
       "      <th>w2</th>\n",
       "      <th>w3</th>\n",
       "      <th>mean</th>\n",
       "      <th>std</th>\n",
       "    </tr>\n",
       "  </thead>\n",
       "  <tbody>\n",
       "    <tr>\n",
       "      <th>5</th>\n",
       "      <td>1.0</td>\n",
       "      <td>3.0</td>\n",
       "      <td>1.0</td>\n",
       "      <td>0.474467</td>\n",
       "      <td>0.026103</td>\n",
       "    </tr>\n",
       "    <tr>\n",
       "      <th>1</th>\n",
       "      <td>1.0</td>\n",
       "      <td>1.0</td>\n",
       "      <td>3.0</td>\n",
       "      <td>0.457370</td>\n",
       "      <td>0.030004</td>\n",
       "    </tr>\n",
       "    <tr>\n",
       "      <th>18</th>\n",
       "      <td>3.0</td>\n",
       "      <td>1.0</td>\n",
       "      <td>3.0</td>\n",
       "      <td>0.451496</td>\n",
       "      <td>0.017208</td>\n",
       "    </tr>\n",
       "    <tr>\n",
       "      <th>23</th>\n",
       "      <td>3.0</td>\n",
       "      <td>3.0</td>\n",
       "      <td>2.0</td>\n",
       "      <td>0.451304</td>\n",
       "      <td>0.025148</td>\n",
       "    </tr>\n",
       "    <tr>\n",
       "      <th>7</th>\n",
       "      <td>1.0</td>\n",
       "      <td>3.0</td>\n",
       "      <td>3.0</td>\n",
       "      <td>0.450718</td>\n",
       "      <td>0.031960</td>\n",
       "    </tr>\n",
       "  </tbody>\n",
       "</table>\n",
       "</div>"
      ],
      "text/plain": [
       "     w1   w2   w3      mean       std\n",
       "5   1.0  3.0  1.0  0.474467  0.026103\n",
       "1   1.0  1.0  3.0  0.457370  0.030004\n",
       "18  3.0  1.0  3.0  0.451496  0.017208\n",
       "23  3.0  3.0  2.0  0.451304  0.025148\n",
       "7   1.0  3.0  3.0  0.450718  0.031960"
      ]
     },
     "execution_count": 95,
     "metadata": {},
     "output_type": "execute_result"
    }
   ],
   "source": [
    "df.sort_values(by='mean',ascending=False).head()"
   ]
  },
  {
   "cell_type": "code",
   "execution_count": 96,
   "metadata": {
    "collapsed": true
   },
   "outputs": [],
   "source": [
    "eclf = VotingClassifier(estimators=[('knn',clf1),('lr',clf2),('rf',clf3)], weights=[1,3,1])\n",
    "\n",
    "preds = pd.DataFrame()\n",
    "clfs = [('knn',clf1),('lr',clf2),('rf',clf3),('ens',eclf)]\n",
    "for name,clf in clfs:\n",
    "    clf.fit(X_train,y_train)\n",
    "    clf_pred = clf.predict(X_test)\n",
    "    preds['{}'.format(name)] = clf_pred"
   ]
  },
  {
   "cell_type": "markdown",
   "metadata": {},
   "source": [
    "#### Analyze the predictions\n",
    "\n",
    "This is an interesting outcome. Talk through what the precision vs recall mean and calculate them out if there were real numbers involved"
   ]
  },
  {
   "cell_type": "code",
   "execution_count": 97,
   "metadata": {},
   "outputs": [
    {
     "name": "stdout",
     "output_type": "stream",
     "text": [
      "Model: knn\n",
      "\tprecision: 0.421\n",
      "\trecall: 0.374\n",
      "\taccuracy: 0.736\n",
      "Model: lr\n",
      "\tprecision: 0.586\n",
      "\trecall: 0.415\n",
      "\taccuracy: 0.797\n",
      "Model: rf\n",
      "\tprecision: 0.547\n",
      "\trecall: 0.293\n",
      "\taccuracy: 0.780\n",
      "Model: ens\n",
      "\tprecision: 0.586\n",
      "\trecall: 0.415\n",
      "\taccuracy: 0.797\n"
     ]
    }
   ],
   "source": [
    "for col in [col for col in preds if '<=30Days' not in col]:\n",
    "    y_pred = preds[col]\n",
    "    print('Model: {}'.format(col))\n",
    "    print('\\tprecision: {:.3f}\\n\\trecall: {:.3f}\\n\\taccuracy: {:.3f}'.format(precision_score(y_test,y_pred),\n",
    "                                                       recall_score(y_test,y_pred),\n",
    "                                                       accuracy_score(y_test,y_pred)))"
   ]
  },
  {
   "cell_type": "code",
   "execution_count": null,
   "metadata": {
    "collapsed": true
   },
   "outputs": [],
   "source": []
  }
 ],
 "metadata": {
  "kernelspec": {
   "display_name": "Python 3",
   "language": "python",
   "name": "python3"
  },
  "language_info": {
   "codemirror_mode": {
    "name": "ipython",
    "version": 3
   },
   "file_extension": ".py",
   "mimetype": "text/x-python",
   "name": "python",
   "nbconvert_exporter": "python",
   "pygments_lexer": "ipython3",
   "version": "3.6.2"
  }
 },
 "nbformat": 4,
 "nbformat_minor": 2
}
