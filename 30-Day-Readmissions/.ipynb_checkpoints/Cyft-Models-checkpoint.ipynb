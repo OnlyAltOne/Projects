{
 "cells": [
  {
   "cell_type": "markdown",
   "metadata": {},
   "source": [
    "# Cyft Data Investigation\n",
    "\n",
    "Goal:\n"
   ]
  },
  {
   "cell_type": "markdown",
   "metadata": {},
   "source": [
    "#### Description:\n",
    "\n",
    "_30-Day All-Cause Hospital Readmissions_ is a quality measure that many healthcare organizations use to track their performance. Lower readmission rates indicate better patient outcomes, while higher ones tend to indicate system problems that are negatively impacting patients. The goal of this exercise is to analyze a dataset that simulates hospitalizations for a geriatric patient population in 2015 and 2016 to predict __if a patient is likely to have a readmission based on the information available at the time of their initial admission.__\n",
    "\n",
    "You have 3 hours to complete the exercise. If you don't get through all the objectives, that's OK. After 3 hours, please finish what you're working on and send in whatever code, analyses, and visualizations (such as images) you have available. Include comments documenting any assumptions you've made as well as other ideas you would have tried if you had more time.\n",
    "\n",
    "Feel free to use the language and statistical/machine learning libraries that you are most comfortable with, and ask questions along the way if any clarifications are necessary."
   ]
  },
  {
   "cell_type": "code",
   "execution_count": 1132,
   "metadata": {
    "collapsed": true
   },
   "outputs": [],
   "source": [
    "import pandas as pd\n",
    "import numpy as np\n",
    "import matplotlib.pyplot as plt\n",
    "import seaborn as sns\n",
    "%matplotlib inline\n",
    "\n",
    "from sklearn.linear_model import LogisticRegression\n",
    "from sklearn.ensemble import RandomForestClassifier\n",
    "from sklearn.metrics import confusion_matrix, f1_score, precision_score, recall_score\n",
    "from sklearn.cross_validation import cross_val_score\n",
    "from sklearn.neighbors import KNeighborsClassifier\n",
    "from sklearn.preprocessing import StandardScaler\n",
    "from sklearn.grid_search import GridSearchCV\n",
    "import seaborn as sns"
   ]
  },
  {
   "cell_type": "code",
   "execution_count": 1046,
   "metadata": {
    "collapsed": true
   },
   "outputs": [],
   "source": [
    "Dxs_summarized = {'A41': 'Sepsis',\n",
    " 'E11': 'diabetes mellitus',\n",
    " 'E56': 'Vitamin deficiency',\n",
    " 'E86': 'Dehydration',\n",
    " 'F03': 'dementia',\n",
    " 'F05': 'Delirium',\n",
    " 'F19': 'Drug abuse',\n",
    " 'G31': 'Degeneration of nervous system',\n",
    " 'G89': 'Chronic Pain',\n",
    " 'H53': 'Visual discomfort',\n",
    " 'H91': 'Hearing loss',\n",
    " 'I10': 'hypertension',\n",
    " 'I50': 'Heart Failure',\n",
    " 'I51': 'heart disease',\n",
    " 'J18': 'Pneumonia',\n",
    " 'J44': 'COPD',\n",
    " 'J45': 'asthma',\n",
    " 'M54': 'Radiculopathy/Panniculitis/Sciatica',\n",
    " 'N18': 'Chronic kidney disease',\n",
    " 'N39': 'Urinary incontinence',\n",
    " 'R05': 'cough',\n",
    " 'R26': 'abnormalities of gait and mobility',\n",
    " 'R39': 'Urgency of urination',\n",
    " 'R41': 'Cognitive functions and awareness symptoms',\n",
    " 'R51': 'headache',\n",
    " 'T88': 'Anesthesia Complication',\n",
    " 'W19': 'Fall'}"
   ]
  },
  {
   "cell_type": "code",
   "execution_count": 1010,
   "metadata": {
    "collapsed": true
   },
   "outputs": [],
   "source": [
    "def add_target(full):\n",
    "    full['Readmitted'] = full.groupby(['Patient'])['Patient'].transform('count')\n",
    "    full['Readmitted'] = full['Readmitted'].map({2:1,1:0})\n",
    "    full['DaysSinceAdmission'] = full[full['Readmitted'] == 1].groupby(['Patient']).diff()['AdmitDate']\n",
    "    full['<=30Days'] = (full['DaysSinceAdmission'] <= pd.Timedelta('30 days')).astype(np.int)\n",
    "    full['WillBe<=30Days'] = full[full['Readmitted'] == 1].groupby('Patient').shift(-1)[['<=30Days']].fillna(0).astype(np.int)\n",
    "    full['WillBe<=30Days'] = full['WillBe<=30Days'].fillna(0)\n",
    "    full['<=30Days'] = full['WillBe<=30Days']\n",
    "    full.drop(['Readmitted','DaysSinceAdmission','WillBe<=30Days'],axis=1,inplace=True)\n",
    "    return full"
   ]
  },
  {
   "cell_type": "code",
   "execution_count": 1013,
   "metadata": {
    "collapsed": true
   },
   "outputs": [],
   "source": [
    "def add_combined_dx_feats(full_orig):\n",
    "    full_orig['PrimaryDx_Dx2'] = full_orig['PrimaryDx']+full_orig['Dx2']\n",
    "    full_orig['PrimaryDx_Dx3'] = full_orig['PrimaryDx']+full_orig['Dx3']\n",
    "    full_orig['Dx2_Dx3'] = full_orig['Dx2']+full_orig['Dx3']\n",
    "    return full_orig"
   ]
  },
  {
   "cell_type": "code",
   "execution_count": 1034,
   "metadata": {
    "collapsed": true
   },
   "outputs": [],
   "source": [
    "def add_month_feat(df):\n",
    "    df['MonthAdmit'] = df['AdmitDate'].apply(lambda x: x.month)\n",
    "    df['MonthAdmit'] = df['MonthAdmit'].map({1:'Jan', 2:'Feb', \n",
    "                                             3:'Mar', 4:'Apr', \n",
    "                                             5:'May', 6:'Jun',\n",
    "                                             7:'Jul', 8:'Aug', \n",
    "                                             9:'Sep', 10:'Oct', \n",
    "                                             11:'Nov', 12:'Dec'})\n",
    "    return df"
   ]
  },
  {
   "cell_type": "code",
   "execution_count": 1022,
   "metadata": {
    "collapsed": true
   },
   "outputs": [],
   "source": [
    "def replace_nulls(full):\n",
    "    full = full.replace('@NA',np.NaN) # replace @NA\n",
    "    full = full.replace('',np.NaN) # didn't find any empty strings\n",
    "    full = full.replace(np.NaN,'')\n",
    "    return full"
   ]
  },
  {
   "cell_type": "markdown",
   "metadata": {},
   "source": [
    "#### Load and transform data\n",
    "\n",
    "Functions created in other eda notebook and copied over"
   ]
  },
  {
   "cell_type": "code",
   "execution_count": 1192,
   "metadata": {
    "collapsed": true
   },
   "outputs": [],
   "source": [
    "admit = pd.read_csv('../Cyft/readmissions/admissions.csv')\n",
    "claims = pd.read_csv('../Cyft/readmissions/claims.csv')\n",
    "\n",
    "full = pd.merge(admit,claims,on=['Patient','AdmitDate'])\n",
    "full['AdmitDate'] = pd.to_datetime(full['AdmitDate'])\n",
    "\n",
    "full = replace_nulls(full)\n",
    "full = add_target(full)\n",
    "#full = add_combined_dx_feats(full)\n",
    "full = add_month_feat(full)"
   ]
  },
  {
   "cell_type": "markdown",
   "metadata": {},
   "source": [
    "#### Gridsearch Models\n",
    "\n",
    "This is a binary classification problem so usually start with a simple logistic regression model. I'm going to use the f1_score which is a mixture of precision and recall to evaluate which model does better. This is a common metric to use when the dataset is imbalanced."
   ]
  },
  {
   "cell_type": "code",
   "execution_count": 1193,
   "metadata": {},
   "outputs": [
    {
     "name": "stdout",
     "output_type": "stream",
     "text": [
      "train: 2856 rows and 50 columns\n",
      "test: 2938 rows and 50 columns\n"
     ]
    }
   ],
   "source": [
    "full_orig = full.copy()\n",
    "\n",
    "full = full.set_index('AdmitDate')\n",
    "\n",
    "for col in [col for col in full.columns if full[col].dtype == 'object' and 'Patient' not in col]:\n",
    "    dummies = pd.get_dummies(full[col],prefix=col)\n",
    "    full.drop(col,axis=1,inplace=True)\n",
    "    full = pd.concat([full,dummies],axis=1)    \n",
    "\n",
    "train = full['2015']\n",
    "test = full['2016']\n",
    "\n",
    "print('train: {} rows and {} columns'.format(*train.shape))\n",
    "print('test: {} rows and {} columns'.format(*test.shape))"
   ]
  },
  {
   "cell_type": "code",
   "execution_count": 1194,
   "metadata": {},
   "outputs": [
    {
     "name": "stdout",
     "output_type": "stream",
     "text": [
      "Accuracy baseline is: 76.44%\n"
     ]
    }
   ],
   "source": [
    "print('Accuracy baseline is: {:.2f}%'.format(100*(1-full['<=30Days'].mean())))\n"
   ]
  },
  {
   "cell_type": "code",
   "execution_count": 1195,
   "metadata": {
    "collapsed": true
   },
   "outputs": [],
   "source": [
    "# X_train = train[top_feats]\n",
    "# y_train = train['<=30Days']\n",
    "# X_test = test[top_feats]\n",
    "# y_test = test['<=30Days']"
   ]
  },
  {
   "cell_type": "code",
   "execution_count": 1196,
   "metadata": {
    "collapsed": true
   },
   "outputs": [],
   "source": [
    "X_train = train.drop(['Patient','<=30Days'],axis=1)\n",
    "y_train = train['<=30Days']\n",
    "X_test = test.drop(['Patient','<=30Days'],axis=1)\n",
    "y_test = test['<=30Days']\n",
    "\n",
    "ss = StandardScaler()\n",
    "\n",
    "X_train = ss.fit_transform(X_train)\n",
    "X_test = ss.fit_transform(X_test)"
   ]
  },
  {
   "cell_type": "markdown",
   "metadata": {},
   "source": [
    "#### Grid search KNN \n",
    "\n",
    "With > 5000 samples I would have expected a high number of neighbors but by decreasing the neighbors and also increasing the p value which manipulates the similarity metric usd to determine which neighbors are most similar to the out of sample pred, knn seems to figure out a better judgement"
   ]
  },
  {
   "cell_type": "code",
   "execution_count": 1135,
   "metadata": {
    "collapsed": true
   },
   "outputs": [],
   "source": [
    "params = {}\n",
    "params['n_neighbors'] = [i for i in range(5,60,5)] #[1,2,3,4,5,6,7,8,9,10]\n",
    "params['weights'] = ['uniform','distance']\n",
    "params['p'] = [1,2,3,4]#[5,6,7]#[3,4,5]#\n",
    "\n",
    "knn = KNeighborsClassifier()\n",
    "knn_grid = GridSearchCV(knn,params,scoring='f1')\n",
    "\n",
    "knn_grid.fit(X_train,y_train)\n",
    "\n",
    "knn = knn_grid.best_estimator_\n",
    "knn.fit(X_train,y_train)\n",
    "knn_pred = knn.predict(X_test)"
   ]
  },
  {
   "cell_type": "code",
   "execution_count": 1144,
   "metadata": {},
   "outputs": [
    {
     "data": {
      "text/plain": [
       "array([[1909,  350],\n",
       "       [ 425,  254]])"
      ]
     },
     "execution_count": 1144,
     "metadata": {},
     "output_type": "execute_result"
    }
   ],
   "source": [
    "confusion_matrix(y_test,knn_pred)"
   ]
  },
  {
   "cell_type": "code",
   "execution_count": 1145,
   "metadata": {},
   "outputs": [
    {
     "name": "stdout",
     "output_type": "stream",
     "text": [
      "precision: 0.42\n",
      "recall: 0.37\n",
      "accuracy: 0.74\n"
     ]
    }
   ],
   "source": [
    "y_pred = knn_pred\n",
    "print('precision: {:.2f}\\nrecall: {:.2f}\\naccuracy: {:.2f}'.format(precision_score(y_test,y_pred),\n",
    "                                                       recall_score(y_test,y_pred),\n",
    "                                                       accuracy(y_test,y_pred)))"
   ]
  },
  {
   "cell_type": "markdown",
   "metadata": {},
   "source": [
    "#### Gridsearch with RF\n",
    "\n",
    "Did this a few times with n_estimators @ 200 to get a quick idea. Then settled on a smaller number of params and upped trees. After evaluating more trees, the best performer was still worse than the 200 tree model, so re-search on lower number of trees."
   ]
  },
  {
   "cell_type": "code",
   "execution_count": 1078,
   "metadata": {
    "collapsed": true
   },
   "outputs": [],
   "source": [
    "params = {}\n",
    "params['criterion'] = ['gini']#,'entropy']\n",
    "params['n_estimators'] = [200,400]#[400,600,800]#[200]\n",
    "params['max_depth'] = [50,75,100]#[5,10,15,20,25,30,35,40,45,50]#[15,20,25]#[5,10,15]\n",
    "#params['max_features'] = ['auto'] #['auto','sqrt']\n",
    "params['min_samples_split'] =  [40,60,80,100] #[2,4,6,8,10]\n",
    "#params['min_samples_leaf'] = [1,2,3]\n",
    "params['class_weight'] = ['balanced']\n",
    "\n",
    "rf = RandomForestClassifier()\n",
    "rf_grid = GridSearchCV(rf,params,scoring='f1')\n",
    "\n",
    "rf_grid.fit(X_train,y_train)\n",
    "\n",
    "rf = rf_grid.best_estimator_\n",
    "rf.fit(X_train,y_train)\n",
    "rf_pred = rf.predict(X_test)"
   ]
  },
  {
   "cell_type": "code",
   "execution_count": 1079,
   "metadata": {},
   "outputs": [
    {
     "data": {
      "text/plain": [
       "RandomForestClassifier(bootstrap=True, class_weight='balanced',\n",
       "            criterion='gini', max_depth=50, max_features='auto',\n",
       "            max_leaf_nodes=None, min_impurity_decrease=0.0,\n",
       "            min_impurity_split=None, min_samples_leaf=1,\n",
       "            min_samples_split=80, min_weight_fraction_leaf=0.0,\n",
       "            n_estimators=400, n_jobs=1, oob_score=False, random_state=None,\n",
       "            verbose=0, warm_start=False)"
      ]
     },
     "execution_count": 1079,
     "metadata": {},
     "output_type": "execute_result"
    }
   ],
   "source": [
    "rf_grid.best_estimator_"
   ]
  },
  {
   "cell_type": "code",
   "execution_count": 1080,
   "metadata": {},
   "outputs": [
    {
     "data": {
      "text/plain": [
       "array([[1756,  503],\n",
       "       [ 218,  461]])"
      ]
     },
     "execution_count": 1080,
     "metadata": {},
     "output_type": "execute_result"
    }
   ],
   "source": [
    "confusion_matrix(y_test,rf_pred)"
   ]
  },
  {
   "cell_type": "code",
   "execution_count": 1081,
   "metadata": {},
   "outputs": [
    {
     "name": "stdout",
     "output_type": "stream",
     "text": [
      "precision: 0.48\n",
      "recall: 0.68\n",
      "accuracy: 0.75\n"
     ]
    }
   ],
   "source": [
    "y_pred = rf_pred\n",
    "print('precision: {:.2f}\\nrecall: {:.2f}\\naccuracy: {:.2f}'.format(precision_score(y_test,y_pred),\n",
    "                                                       recall_score(y_test,y_pred),\n",
    "                                                       accuracy(y_test,y_pred)))"
   ]
  },
  {
   "cell_type": "markdown",
   "metadata": {},
   "source": [
    "#### Logistic Regression\n",
    "\n",
    "Whats interesting about lr in this case is the large difference in precision and recall when changing the hyperparameter class_weights to 'balanced' which essentially pads an imbalanced class which we kind of have here being ~1/4.\n",
    "\n",
    "More thought and discussion would need to go into which would be more suitable for the application."
   ]
  },
  {
   "cell_type": "code",
   "execution_count": 1088,
   "metadata": {},
   "outputs": [
    {
     "name": "stderr",
     "output_type": "stream",
     "text": [
      "/Users/xbno/anaconda3/lib/python3.6/site-packages/sklearn/metrics/classification.py:1135: UndefinedMetricWarning: F-score is ill-defined and being set to 0.0 due to no predicted samples.\n",
      "  'precision', 'predicted', average, warn_for)\n",
      "/Users/xbno/anaconda3/lib/python3.6/site-packages/sklearn/metrics/classification.py:1135: UndefinedMetricWarning: F-score is ill-defined and being set to 0.0 due to no predicted samples.\n",
      "  'precision', 'predicted', average, warn_for)\n",
      "/Users/xbno/anaconda3/lib/python3.6/site-packages/sklearn/metrics/classification.py:1135: UndefinedMetricWarning: F-score is ill-defined and being set to 0.0 due to no predicted samples.\n",
      "  'precision', 'predicted', average, warn_for)\n"
     ]
    }
   ],
   "source": [
    "params = {}\n",
    "params['penalty'] = ['l1','l2']\n",
    "params['class_weight'] = ['balanced']\n",
    "params['C'] = [.001,.01,.1,.5,1,5,10]#[.03,.05,.1]\n",
    "\n",
    "lr = LogisticRegression()\n",
    "lr_grid = GridSearchCV(lr,params,scoring='f1')\n",
    "\n",
    "lr_grid.fit(X_train,y_train)\n",
    "\n",
    "lr_balanced = lr_grid.best_estimator_\n",
    "lr_balanced.fit(X_train,y_train)\n",
    "lr_balanced_pred = lr_balanced.predict(X_test)\n",
    "lr_balanced_predp = lr_balanced.predict_proba(X_test)"
   ]
  },
  {
   "cell_type": "code",
   "execution_count": 1089,
   "metadata": {
    "scrolled": true
   },
   "outputs": [
    {
     "data": {
      "text/plain": [
       "array([[1618,  641],\n",
       "       [ 131,  548]])"
      ]
     },
     "execution_count": 1089,
     "metadata": {},
     "output_type": "execute_result"
    }
   ],
   "source": [
    "confusion_matrix(y_test,lr_balanced_pred)"
   ]
  },
  {
   "cell_type": "code",
   "execution_count": 1090,
   "metadata": {},
   "outputs": [
    {
     "name": "stdout",
     "output_type": "stream",
     "text": [
      "precision: 0.59\n",
      "recall: 0.37\n",
      "accuracy: 0.80\n"
     ]
    }
   ],
   "source": [
    "y_pred = lr_pred\n",
    "print('precision: {:.2f}\\nrecall: {:.2f}\\naccuracy: {:.2f}'.format(precision_score(y_test,y_pred),\n",
    "                                                       recall_score(y_test,y_pred),\n",
    "                                                       accuracy(y_test,y_pred)))"
   ]
  },
  {
   "cell_type": "markdown",
   "metadata": {
    "collapsed": true
   },
   "source": [
    "Brief visualization of the predictions. See how to increase difference of spread."
   ]
  },
  {
   "cell_type": "code",
   "execution_count": 1112,
   "metadata": {},
   "outputs": [
    {
     "data": {
      "text/plain": [
       "([array([ 106.,  247.,  297.,  268.,  271.,  233.,  238.,  253.,  335.,  690.]),\n",
       "  array([ 690.,  335.,  253.,  238.,  233.,  271.,  268.,  297.,  247.,  106.])],\n",
       " array([  1.55998554e-04,   1.00124799e-01,   2.00093599e-01,\n",
       "          3.00062399e-01,   4.00031200e-01,   5.00000000e-01,\n",
       "          5.99968800e-01,   6.99937601e-01,   7.99906401e-01,\n",
       "          8.99875201e-01,   9.99844001e-01]),\n",
       " <a list of 2 Lists of Patches objects>)"
      ]
     },
     "execution_count": 1112,
     "metadata": {},
     "output_type": "execute_result"
    },
    {
     "data": {
      "image/png": "[encoded data removed]",
      "text/plain": [
       "<matplotlib.figure.Figure at 0x1a2c4e27f0>"
      ]
     },
     "metadata": {},
     "output_type": "display_data"
    }
   ],
   "source": [
    "neg_class = pd.DataFrame(lr_balanced_predp)[0]\n",
    "pos_class = pd.DataFrame(lr_balanced_predp)[1]\n",
    "plt.hist([neg_class,pos_class], color=['r','b'], alpha=0.5)"
   ]
  },
  {
   "cell_type": "markdown",
   "metadata": {
    "collapsed": true
   },
   "source": [
    "#### Types of Errors\n",
    "\n",
    "In this dataset it seems that having a higher false positive rate would be better than having a false negative rate. \n",
    "\n",
    "    False positive - patient is expected to be readmitted, when they will not be. AKA patient is assumed to be sicker than they are.\n",
    "    \n",
    "    False negative - patient is not expected to be readmitted, but they will be. AKA patient is sicker than they seem or something unexpected will occur to them between first and second admit.\n",
    "    "
   ]
  },
  {
   "cell_type": "code",
   "execution_count": 1098,
   "metadata": {},
   "outputs": [
    {
     "name": "stdout",
     "output_type": "stream",
     "text": [
      "345 false positives and 431 false negatives\n"
     ]
    }
   ],
   "source": [
    "print('{} false positives and {} false negatives'.format(confusion_matrix(y_test,knn_pred)[0,1],confusion_matrix(y_test,knn_pred)[1,0]))\n"
   ]
  },
  {
   "cell_type": "markdown",
   "metadata": {},
   "source": [
    "#### Precision\n",
    "A higher precision means lower false positives\n",
    "\n",
    "    TP / (TP + FP)\n",
    "\n",
    "#### Recall\n",
    "A high recall means lower false negatives\n",
    "\n",
    "    TP / (TP + FN)"
   ]
  },
  {
   "cell_type": "markdown",
   "metadata": {},
   "source": [
    "#### Examine where each model outperforms the others\n",
    "\n",
    "Shows a high overlap for rf. lr and knn seem to be different. Perhaps we can figure out what is unique about the cases where each outperforms and perhaps use model stacking to take advantage of this."
   ]
  },
  {
   "cell_type": "code",
   "execution_count": 1099,
   "metadata": {
    "collapsed": true
   },
   "outputs": [],
   "source": [
    "preds = pd.DataFrame(y_test)\n",
    "preds['knn'] = knn_pred\n",
    "preds['rf'] = rf_pred\n",
    "preds['lr'] = lr_pred"
   ]
  },
  {
   "cell_type": "code",
   "execution_count": 1100,
   "metadata": {},
   "outputs": [
    {
     "data": {
      "text/plain": [
       "<=30Days    0.231110\n",
       "knn         0.201838\n",
       "rf          0.328114\n",
       "lr          0.145677\n",
       "dtype: float64"
      ]
     },
     "execution_count": 1100,
     "metadata": {},
     "output_type": "execute_result"
    }
   ],
   "source": [
    "preds.mean()"
   ]
  },
  {
   "cell_type": "code",
   "execution_count": 1101,
   "metadata": {
    "collapsed": true
   },
   "outputs": [],
   "source": [
    "knn_mask = ((preds['knn'] == preds['<=30Days']) &\n",
    "            (preds['rf'] != preds['<=30Days']) &\n",
    "            (preds['lr'] != preds['<=30Days']))\n",
    "lr_mask = ((preds['lr'] == preds['<=30Days']) &\n",
    "            (preds['rf'] != preds['<=30Days']) &\n",
    "            (preds['knn'] != preds['<=30Days']))\n",
    "rf_mask = ((preds['rf'] == preds['<=30Days']) &\n",
    "            (preds['knn'] != preds['<=30Days']) &\n",
    "            (preds['lr'] != preds['<=30Days']))"
   ]
  },
  {
   "cell_type": "code",
   "execution_count": 1102,
   "metadata": {
    "collapsed": true
   },
   "outputs": [],
   "source": [
    "preds['knn_outperforms'] = np.where(knn_mask,1,0)\n",
    "preds['lr_outperforms'] = np.where(lr_mask,1,0)\n",
    "preds['rf_outperforms'] = np.where(rf_mask,1,0)"
   ]
  },
  {
   "cell_type": "code",
   "execution_count": 1103,
   "metadata": {
    "collapsed": true
   },
   "outputs": [],
   "source": [
    "knn_mask = ((preds['knn'] != preds['<=30Days']) &\n",
    "            (preds['rf'] == preds['<=30Days']) &\n",
    "            (preds['lr'] == preds['<=30Days']))\n",
    "lr_mask = ((preds['lr'] != preds['<=30Days']) &\n",
    "            (preds['rf'] == preds['<=30Days']) &\n",
    "            (preds['knn'] == preds['<=30Days']))\n",
    "rf_mask = ((preds['rf'] != preds['<=30Days']) &\n",
    "            (preds['knn'] == preds['<=30Days']) &\n",
    "            (preds['lr'] == preds['<=30Days']))"
   ]
  },
  {
   "cell_type": "code",
   "execution_count": 1104,
   "metadata": {
    "collapsed": true
   },
   "outputs": [],
   "source": [
    "preds['knn_underperforms'] = np.where(knn_mask,1,0)\n",
    "preds['lr_underperforms'] = np.where(lr_mask,1,0)\n",
    "preds['rf_underperforms'] = np.where(rf_mask,1,0)"
   ]
  },
  {
   "cell_type": "code",
   "execution_count": 1105,
   "metadata": {},
   "outputs": [
    {
     "data": {
      "text/plain": [
       "<=30Days             0.231110\n",
       "knn                  0.201838\n",
       "rf                   0.328114\n",
       "lr                   0.145677\n",
       "knn_outperforms      0.033696\n",
       "lr_outperforms       0.052076\n",
       "rf_outperforms       0.056841\n",
       "knn_underperforms    0.075221\n",
       "lr_underperforms     0.033356\n",
       "rf_underperforms     0.079646\n",
       "dtype: float64"
      ]
     },
     "execution_count": 1105,
     "metadata": {},
     "output_type": "execute_result"
    }
   ],
   "source": [
    "preds.mean()"
   ]
  },
  {
   "cell_type": "code",
   "execution_count": 1108,
   "metadata": {
    "collapsed": true
   },
   "outputs": [],
   "source": [
    "test = full_orig.set_index('AdmitDate')['2016']\n",
    "X_test = test.drop(['Patient','<=30Days'],axis=1)"
   ]
  },
  {
   "cell_type": "code",
   "execution_count": 1109,
   "metadata": {
    "collapsed": true
   },
   "outputs": [],
   "source": [
    "preds = pd.concat([X_test,preds],axis=1)"
   ]
  },
  {
   "cell_type": "markdown",
   "metadata": {},
   "source": [
    "#### Outperformance of each model"
   ]
  },
  {
   "cell_type": "code",
   "execution_count": 1110,
   "metadata": {},
   "outputs": [
    {
     "data": {
      "text/plain": [
       "<matplotlib.legend.Legend at 0x1a2ab48c50>"
      ]
     },
     "execution_count": 1110,
     "metadata": {},
     "output_type": "execute_result"
    },
    {
     "data": {
      "image/png": "[encoded data removed]",
      "text/plain": [
       "<matplotlib.figure.Figure at 0x1a2b9575f8>"
      ]
     },
     "metadata": {},
     "output_type": "display_data"
    }
   ],
   "source": [
    "feat1 = 'PrimaryDx'\n",
    "metrics = ['knn_outperforms','lr_outperforms','rf_outperforms']\n",
    "\n",
    "knn_avg = preds['knn_outperforms'].mean()\n",
    "preds.groupby([feat1])[metrics].mean().plot(kind='bar',figsize=(12,4))\n",
    "plt.ylabel('outperform rate')\n",
    "plt.title('Model performance differences by {}'.format(feat1),size=15)\n",
    "plt.axhline(y=pop_avg, color='black', linestyle='--')\n",
    "plt.legend(bbox_to_anchor=(1.05, 1), loc=2, borderaxespad=0.)"
   ]
  },
  {
   "cell_type": "code",
   "execution_count": 1111,
   "metadata": {},
   "outputs": [
    {
     "data": {
      "text/plain": [
       "<matplotlib.legend.Legend at 0x1a2c732470>"
      ]
     },
     "execution_count": 1111,
     "metadata": {},
     "output_type": "execute_result"
    },
    {
     "data": {
      "image/png": "[encoded data removed]",
      "text/plain": [
       "<matplotlib.figure.Figure at 0x1a2c6496a0>"
      ]
     },
     "metadata": {},
     "output_type": "display_data"
    }
   ],
   "source": [
    "feat1 = 'PrimaryDx'\n",
    "metrics = ['knn','lr','rf']\n",
    "\n",
    "knn_avg = preds['knn'].mean()\n",
    "preds.groupby([feat1])[metrics].mean().plot(kind='bar',figsize=(12,4))\n",
    "plt.ylabel('outperform rate')\n",
    "plt.title('Model performances by {}'.format(feat1),size=15)\n",
    "plt.axhline(y=knn_avg, color='black', linestyle='--')\n",
    "plt.legend(bbox_to_anchor=(1.05, 1), loc=2, borderaxespad=0.)"
   ]
  },
  {
   "cell_type": "code",
   "execution_count": 872,
   "metadata": {},
   "outputs": [
    {
     "data": {
      "text/plain": [
       "<matplotlib.legend.Legend at 0x1a2acb3cc0>"
      ]
     },
     "execution_count": 872,
     "metadata": {},
     "output_type": "execute_result"
    },
    {
     "data": {
      "image/png": "[encoded data removed]",
      "text/plain": [
       "<matplotlib.figure.Figure at 0x1a2aca8f98>"
      ]
     },
     "metadata": {},
     "output_type": "display_data"
    }
   ],
   "source": [
    "feat1 = 'PastPCPVisits'\n",
    "metrics = ['knn_outperforms','lr_outperforms','rf_outperforms']\n",
    "\n",
    "knn_avg = preds['knn_outperforms'].mean()\n",
    "preds.groupby([feat1])[metrics].mean().plot(kind='bar',figsize=(12,4))\n",
    "plt.ylabel('outperform rate')\n",
    "plt.title('Model performance differences based on {}'.format(feat1),size=15)\n",
    "plt.axhline(y=pop_avg, color='black', linestyle='--')\n",
    "plt.legend(bbox_to_anchor=(1.05, 1), loc=2, borderaxespad=0.)"
   ]
  },
  {
   "cell_type": "markdown",
   "metadata": {},
   "source": [
    "#### Stacking models\n",
    "\n",
    "Use output of these models to train an aggregator model that will make predictions for the output based on the predictions the previous models made.\n",
    "\n",
    "I'll need to set up a cross validation rig that will allow these models to predict out-of-fold to be able to reuse the training data for a level 2 model. "
   ]
  },
  {
   "cell_type": "code",
   "execution_count": 873,
   "metadata": {
    "collapsed": true
   },
   "outputs": [],
   "source": [
    "preds_test = pd.DataFrame(y_test)\n",
    "preds_test['knn'] = knn_pred\n",
    "preds_test['rf'] = rf_pred\n",
    "preds_test['lr'] = lr_pred"
   ]
  },
  {
   "cell_type": "code",
   "execution_count": 874,
   "metadata": {},
   "outputs": [
    {
     "data": {
      "text/html": [
       "<div>\n",
       "<style>\n",
       "    .dataframe thead tr:only-child th {\n",
       "        text-align: right;\n",
       "    }\n",
       "\n",
       "    .dataframe thead th {\n",
       "        text-align: left;\n",
       "    }\n",
       "\n",
       "    .dataframe tbody tr th {\n",
       "        vertical-align: top;\n",
       "    }\n",
       "</style>\n",
       "<table border=\"1\" class=\"dataframe\">\n",
       "  <thead>\n",
       "    <tr style=\"text-align: right;\">\n",
       "      <th></th>\n",
       "      <th>&lt;=30Days</th>\n",
       "      <th>knn</th>\n",
       "      <th>rf</th>\n",
       "      <th>lr</th>\n",
       "    </tr>\n",
       "    <tr>\n",
       "      <th>AdmitDate</th>\n",
       "      <th></th>\n",
       "      <th></th>\n",
       "      <th></th>\n",
       "      <th></th>\n",
       "    </tr>\n",
       "  </thead>\n",
       "  <tbody>\n",
       "    <tr>\n",
       "      <th>2016-01-03</th>\n",
       "      <td>0.0</td>\n",
       "      <td>0.0</td>\n",
       "      <td>0.0</td>\n",
       "      <td>0.0</td>\n",
       "    </tr>\n",
       "    <tr>\n",
       "      <th>2016-05-07</th>\n",
       "      <td>1.0</td>\n",
       "      <td>0.0</td>\n",
       "      <td>0.0</td>\n",
       "      <td>0.0</td>\n",
       "    </tr>\n",
       "    <tr>\n",
       "      <th>2016-01-14</th>\n",
       "      <td>0.0</td>\n",
       "      <td>0.0</td>\n",
       "      <td>0.0</td>\n",
       "      <td>0.0</td>\n",
       "    </tr>\n",
       "    <tr>\n",
       "      <th>2016-10-26</th>\n",
       "      <td>1.0</td>\n",
       "      <td>0.0</td>\n",
       "      <td>0.0</td>\n",
       "      <td>0.0</td>\n",
       "    </tr>\n",
       "    <tr>\n",
       "      <th>2016-08-10</th>\n",
       "      <td>0.0</td>\n",
       "      <td>0.0</td>\n",
       "      <td>0.0</td>\n",
       "      <td>0.0</td>\n",
       "    </tr>\n",
       "  </tbody>\n",
       "</table>\n",
       "</div>"
      ],
      "text/plain": [
       "            <=30Days  knn   rf   lr\n",
       "AdmitDate                          \n",
       "2016-01-03       0.0  0.0  0.0  0.0\n",
       "2016-05-07       1.0  0.0  0.0  0.0\n",
       "2016-01-14       0.0  0.0  0.0  0.0\n",
       "2016-10-26       1.0  0.0  0.0  0.0\n",
       "2016-08-10       0.0  0.0  0.0  0.0"
      ]
     },
     "execution_count": 874,
     "metadata": {},
     "output_type": "execute_result"
    }
   ],
   "source": [
    "preds_test.head()"
   ]
  },
  {
   "cell_type": "code",
   "execution_count": 875,
   "metadata": {
    "collapsed": true
   },
   "outputs": [],
   "source": [
    "stack_X_test = preds_test.drop('<=30Days',axis=1)\n",
    "stack_y_test = preds_test['<=30Days']"
   ]
  },
  {
   "cell_type": "code",
   "execution_count": 881,
   "metadata": {
    "collapsed": true
   },
   "outputs": [],
   "source": [
    "lr_stack = LogisticRegression()\n",
    "stack_score = cross_val_score(lr_stack,stack_X_test,stack_y_test,cv=10)"
   ]
  },
  {
   "cell_type": "code",
   "execution_count": 882,
   "metadata": {},
   "outputs": [
    {
     "data": {
      "text/plain": [
       "0.79512161028795081"
      ]
     },
     "execution_count": 882,
     "metadata": {},
     "output_type": "execute_result"
    }
   ],
   "source": [
    "stack_score.mean()"
   ]
  },
  {
   "cell_type": "code",
   "execution_count": 884,
   "metadata": {
    "collapsed": true
   },
   "outputs": [],
   "source": [
    "lr_stack.fit(stack_X_test,stack_y_test)\n",
    "lr_stack_pred = lr_stack.predict(stack_X_test)"
   ]
  },
  {
   "cell_type": "code",
   "execution_count": 885,
   "metadata": {},
   "outputs": [
    {
     "data": {
      "text/plain": [
       "array([[2096,  163],\n",
       "       [ 433,  246]])"
      ]
     },
     "execution_count": 885,
     "metadata": {},
     "output_type": "execute_result"
    }
   ],
   "source": [
    "confusion_matrix(stack_y_test,lr_stack_pred)"
   ]
  },
  {
   "cell_type": "code",
   "execution_count": null,
   "metadata": {
    "collapsed": true
   },
   "outputs": [],
   "source": []
  },
  {
   "cell_type": "code",
   "execution_count": null,
   "metadata": {
    "collapsed": true
   },
   "outputs": [],
   "source": []
  },
  {
   "cell_type": "code",
   "execution_count": null,
   "metadata": {
    "collapsed": true
   },
   "outputs": [],
   "source": []
  },
  {
   "cell_type": "code",
   "execution_count": null,
   "metadata": {
    "collapsed": true
   },
   "outputs": [],
   "source": []
  },
  {
   "cell_type": "markdown",
   "metadata": {},
   "source": [
    "#### Stacking"
   ]
  },
  {
   "cell_type": "code",
   "execution_count": 1191,
   "metadata": {
    "collapsed": true
   },
   "outputs": [],
   "source": [
    "from sklearn.cross_validation import KFold"
   ]
  },
  {
   "cell_type": "code",
   "execution_count": null,
   "metadata": {
    "collapsed": true
   },
   "outputs": [],
   "source": [
    "train = train.drop()"
   ]
  },
  {
   "cell_type": "code",
   "execution_count": 1164,
   "metadata": {
    "collapsed": true
   },
   "outputs": [],
   "source": [
    "# Some useful parameters which will come in handy later on\n",
    "ntrain = train.shape[0]\n",
    "ntest = test.shape[0]\n",
    "SEED = 0 # for reproducibility\n",
    "NFOLDS = 5 # set folds for out-of-fold prediction\n",
    "kf = KFold(ntrain, n_folds= NFOLDS, random_state=SEED)\n",
    "\n",
    "# Class to extend the Sklearn classifier\n",
    "class SklearnHelper(object):\n",
    "    def __init__(self, clf, seed=0, params=None):\n",
    "        #params['random_state'] = seed\n",
    "        self.clf = clf(**params)\n",
    "\n",
    "    def train(self, x_train, y_train):\n",
    "        self.clf.fit(x_train, y_train)\n",
    "\n",
    "    def predict(self, x):\n",
    "        return self.clf.predict(x)\n",
    "    \n",
    "    def fit(self,x,y):\n",
    "        return self.clf.fit(x,y)\n",
    "    \n",
    "    def feature_importances(self,x,y):\n",
    "        print(self.clf.fit(x,y).feature_importances_)"
   ]
  },
  {
   "cell_type": "code",
   "execution_count": 1176,
   "metadata": {
    "collapsed": true
   },
   "outputs": [],
   "source": [
    "def get_oof(clf, x_train, y_train, x_test):\n",
    "    oof_train = np.zeros((ntrain,))\n",
    "    oof_test = np.zeros((ntest,))\n",
    "    oof_test_skf = np.empty((NFOLDS, ntest))\n",
    "\n",
    "    for i, (train_index, test_index) in enumerate(kf):\n",
    "        x_tr = x_train[train_index]\n",
    "        y_tr = y_train[train_index]\n",
    "        x_te = x_train[test_index]\n",
    "\n",
    "        clf.train(x_tr, y_tr)\n",
    "\n",
    "        oof_train[test_index] = clf.predict(x_te)\n",
    "        oof_test_skf[i, :] = clf.predict(x_test)\n",
    "\n",
    "    oof_test[:] = oof_test_skf.mean(axis=0)\n",
    "    return oof_train.reshape(-1, 1), oof_test.reshape(-1, 1)"
   ]
  },
  {
   "cell_type": "code",
   "execution_count": 1166,
   "metadata": {
    "collapsed": true
   },
   "outputs": [],
   "source": [
    "knn_params = {\n",
    "    'n_neighbors': 5,\n",
    "    'weights': 'distance',\n",
    "    'p': 1\n",
    "}\n",
    "\n",
    "lr_params = {\n",
    "    'random_state': 0,\n",
    "    'C': 1,\n",
    "    'class_weight': 'balanced',\n",
    "    'penalty': 'l1'\n",
    "}\n",
    "\n",
    "rf_params = {\n",
    "    'random_state': 0,\n",
    "    'class_weight': 'balanced',\n",
    "    'criterion': 'gini',\n",
    "    'max_depth': 50,\n",
    "    'min_samples_split': 80,\n",
    "    'n_estimators': 400\n",
    "}"
   ]
  },
  {
   "cell_type": "markdown",
   "metadata": {},
   "source": [
    "#### Use 3 Models for 1st stage"
   ]
  },
  {
   "cell_type": "code",
   "execution_count": 1178,
   "metadata": {
    "collapsed": true
   },
   "outputs": [],
   "source": [
    "rf = SklearnHelper(clf=RandomForestClassifier, seed=SEED, params=rf_params)\n",
    "knn = SklearnHelper(clf=KNeighborsClassifier, seed=SEED, params=knn_params)\n",
    "lr = SklearnHelper(clf=LogisticRegression, seed=SEED, params=lr_params)"
   ]
  },
  {
   "cell_type": "code",
   "execution_count": 1168,
   "metadata": {
    "collapsed": true
   },
   "outputs": [],
   "source": [
    "knn_oof_train, knn_oof_test = get_oof(knn, X_train, y_train, X_test)\n",
    "rf_oof_train, rf_oof_test = get_oof(rf, X_train, y_train, X_test) \n",
    "lr_oof_train, lr_oof_test = get_oof(lr, X_train, y_train, X_test)  "
   ]
  },
  {
   "cell_type": "markdown",
   "metadata": {},
   "source": [
    "#### Add out-of-fold predictions to original train/test"
   ]
  },
  {
   "cell_type": "code",
   "execution_count": 1180,
   "metadata": {
    "collapsed": true
   },
   "outputs": [],
   "source": [
    "oof_train = train\n",
    "oof_train['knn'] = knn_oof_train.astype(int)\n",
    "oof_train['rf'] = rf_oof_train.astype(int)\n",
    "oof_train['lr'] = lr_oof_train.astype(int)"
   ]
  },
  {
   "cell_type": "code",
   "execution_count": 1187,
   "metadata": {
    "collapsed": true
   },
   "outputs": [],
   "source": [
    "oof_test = test\n",
    "oof_test['knn'] = knn_oof_test.astype(int)\n",
    "oof_test['rf'] = rf_oof_test.astype(int)\n",
    "oof_test['lr'] = lr_oof_test.astype(int)"
   ]
  },
  {
   "cell_type": "markdown",
   "metadata": {},
   "source": [
    "#### Train 2nd stage model"
   ]
  },
  {
   "cell_type": "code",
   "execution_count": 1188,
   "metadata": {
    "collapsed": true
   },
   "outputs": [],
   "source": [
    "from sklearn.ensemble import AdaBoostClassifier"
   ]
  },
  {
   "cell_type": "code",
   "execution_count": 1189,
   "metadata": {
    "collapsed": true
   },
   "outputs": [],
   "source": [
    "ab = AdaBoostClassifier(n_estimators=500,learning_rate=.8)"
   ]
  },
  {
   "cell_type": "code",
   "execution_count": 1190,
   "metadata": {},
   "outputs": [
    {
     "ename": "ValueError",
     "evalue": "could not convert string to float: '1c0665a0-9887-4544-b50a-77561e271a39'",
     "output_type": "error",
     "traceback": [
      "\u001b[0;31m---------------------------------------------------------------------------\u001b[0m",
      "\u001b[0;31mValueError\u001b[0m                                Traceback (most recent call last)",
      "\u001b[0;32m<ipython-input-1190-4fdbd8d5b66d>\u001b[0m in \u001b[0;36m<module>\u001b[0;34m()\u001b[0m\n\u001b[0;32m----> 1\u001b[0;31m \u001b[0mab\u001b[0m\u001b[0;34m.\u001b[0m\u001b[0mfit\u001b[0m\u001b[0;34m(\u001b[0m\u001b[0moof_train\u001b[0m\u001b[0;34m,\u001b[0m\u001b[0my_train\u001b[0m\u001b[0;34m)\u001b[0m\u001b[0;34m\u001b[0m\u001b[0m\n\u001b[0m",
      "\u001b[0;32m~/anaconda3/lib/python3.6/site-packages/sklearn/ensemble/weight_boosting.py\u001b[0m in \u001b[0;36mfit\u001b[0;34m(self, X, y, sample_weight)\u001b[0m\n\u001b[1;32m    411\u001b[0m \u001b[0;34m\u001b[0m\u001b[0m\n\u001b[1;32m    412\u001b[0m         \u001b[0;31m# Fit\u001b[0m\u001b[0;34m\u001b[0m\u001b[0;34m\u001b[0m\u001b[0m\n\u001b[0;32m--> 413\u001b[0;31m         \u001b[0;32mreturn\u001b[0m \u001b[0msuper\u001b[0m\u001b[0;34m(\u001b[0m\u001b[0mAdaBoostClassifier\u001b[0m\u001b[0;34m,\u001b[0m \u001b[0mself\u001b[0m\u001b[0;34m)\u001b[0m\u001b[0;34m.\u001b[0m\u001b[0mfit\u001b[0m\u001b[0;34m(\u001b[0m\u001b[0mX\u001b[0m\u001b[0;34m,\u001b[0m \u001b[0my\u001b[0m\u001b[0;34m,\u001b[0m \u001b[0msample_weight\u001b[0m\u001b[0;34m)\u001b[0m\u001b[0;34m\u001b[0m\u001b[0m\n\u001b[0m\u001b[1;32m    414\u001b[0m \u001b[0;34m\u001b[0m\u001b[0m\n\u001b[1;32m    415\u001b[0m     \u001b[0;32mdef\u001b[0m \u001b[0m_validate_estimator\u001b[0m\u001b[0;34m(\u001b[0m\u001b[0mself\u001b[0m\u001b[0;34m)\u001b[0m\u001b[0;34m:\u001b[0m\u001b[0;34m\u001b[0m\u001b[0m\n",
      "\u001b[0;32m~/anaconda3/lib/python3.6/site-packages/sklearn/ensemble/weight_boosting.py\u001b[0m in \u001b[0;36mfit\u001b[0;34m(self, X, y, sample_weight)\u001b[0m\n\u001b[1;32m    110\u001b[0m \u001b[0;34m\u001b[0m\u001b[0m\n\u001b[1;32m    111\u001b[0m         X, y = check_X_y(X, y, accept_sparse=accept_sparse, dtype=dtype,\n\u001b[0;32m--> 112\u001b[0;31m                          y_numeric=is_regressor(self))\n\u001b[0m\u001b[1;32m    113\u001b[0m \u001b[0;34m\u001b[0m\u001b[0m\n\u001b[1;32m    114\u001b[0m         \u001b[0;32mif\u001b[0m \u001b[0msample_weight\u001b[0m \u001b[0;32mis\u001b[0m \u001b[0;32mNone\u001b[0m\u001b[0;34m:\u001b[0m\u001b[0;34m\u001b[0m\u001b[0m\n",
      "\u001b[0;32m~/anaconda3/lib/python3.6/site-packages/sklearn/utils/validation.py\u001b[0m in \u001b[0;36mcheck_X_y\u001b[0;34m(X, y, accept_sparse, dtype, order, copy, force_all_finite, ensure_2d, allow_nd, multi_output, ensure_min_samples, ensure_min_features, y_numeric, warn_on_dtype, estimator)\u001b[0m\n\u001b[1;32m    540\u001b[0m     X = check_array(X, accept_sparse, dtype, order, copy, force_all_finite,\n\u001b[1;32m    541\u001b[0m                     \u001b[0mensure_2d\u001b[0m\u001b[0;34m,\u001b[0m \u001b[0mallow_nd\u001b[0m\u001b[0;34m,\u001b[0m \u001b[0mensure_min_samples\u001b[0m\u001b[0;34m,\u001b[0m\u001b[0;34m\u001b[0m\u001b[0m\n\u001b[0;32m--> 542\u001b[0;31m                     ensure_min_features, warn_on_dtype, estimator)\n\u001b[0m\u001b[1;32m    543\u001b[0m     \u001b[0;32mif\u001b[0m \u001b[0mmulti_output\u001b[0m\u001b[0;34m:\u001b[0m\u001b[0;34m\u001b[0m\u001b[0m\n\u001b[1;32m    544\u001b[0m         y = check_array(y, 'csr', force_all_finite=True, ensure_2d=False,\n",
      "\u001b[0;32m~/anaconda3/lib/python3.6/site-packages/sklearn/utils/validation.py\u001b[0m in \u001b[0;36mcheck_array\u001b[0;34m(array, accept_sparse, dtype, order, copy, force_all_finite, ensure_2d, allow_nd, ensure_min_samples, ensure_min_features, warn_on_dtype, estimator)\u001b[0m\n\u001b[1;32m    400\u001b[0m                                       force_all_finite)\n\u001b[1;32m    401\u001b[0m     \u001b[0;32melse\u001b[0m\u001b[0;34m:\u001b[0m\u001b[0;34m\u001b[0m\u001b[0m\n\u001b[0;32m--> 402\u001b[0;31m         \u001b[0marray\u001b[0m \u001b[0;34m=\u001b[0m \u001b[0mnp\u001b[0m\u001b[0;34m.\u001b[0m\u001b[0marray\u001b[0m\u001b[0;34m(\u001b[0m\u001b[0marray\u001b[0m\u001b[0;34m,\u001b[0m \u001b[0mdtype\u001b[0m\u001b[0;34m=\u001b[0m\u001b[0mdtype\u001b[0m\u001b[0;34m,\u001b[0m \u001b[0morder\u001b[0m\u001b[0;34m=\u001b[0m\u001b[0morder\u001b[0m\u001b[0;34m,\u001b[0m \u001b[0mcopy\u001b[0m\u001b[0;34m=\u001b[0m\u001b[0mcopy\u001b[0m\u001b[0;34m)\u001b[0m\u001b[0;34m\u001b[0m\u001b[0m\n\u001b[0m\u001b[1;32m    403\u001b[0m \u001b[0;34m\u001b[0m\u001b[0m\n\u001b[1;32m    404\u001b[0m         \u001b[0;32mif\u001b[0m \u001b[0mensure_2d\u001b[0m\u001b[0;34m:\u001b[0m\u001b[0;34m\u001b[0m\u001b[0m\n",
      "\u001b[0;31mValueError\u001b[0m: could not convert string to float: '1c0665a0-9887-4544-b50a-77561e271a39'"
     ]
    }
   ],
   "source": [
    "ab.fit(oof_train,y_train)"
   ]
  },
  {
   "cell_type": "code",
   "execution_count": null,
   "metadata": {
    "collapsed": true
   },
   "outputs": [],
   "source": []
  },
  {
   "cell_type": "code",
   "execution_count": null,
   "metadata": {
    "collapsed": true
   },
   "outputs": [],
   "source": []
  }
 ],
 "metadata": {
  "kernelspec": {
   "display_name": "Python 3",
   "language": "python",
   "name": "python3"
  },
  "language_info": {
   "codemirror_mode": {
    "name": "ipython",
    "version": 3
   },
   "file_extension": ".py",
   "mimetype": "text/x-python",
   "name": "python",
   "nbconvert_exporter": "python",
   "pygments_lexer": "ipython3",
   "version": "3.6.2"
  }
 },
 "nbformat": 4,
 "nbformat_minor": 2
}
