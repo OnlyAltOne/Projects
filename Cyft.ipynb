{
 "cells": [
  {
   "cell_type": "markdown",
   "metadata": {},
   "source": [
    "# Cyft Data Investigation\n",
    "\n",
    "Goal:\n"
   ]
  },
  {
   "cell_type": "markdown",
   "metadata": {},
   "source": [
    "#### Description:\n",
    "\n",
    "_30-Day All-Cause Hospital Readmissions_ is a quality measure that many healthcare organizations use to track their performance. Lower readmission rates indicate better patient outcomes, while higher ones tend to indicate system problems that are negatively impacting patients. The goal of this exercise is to analyze a dataset that simulates hospitalizations for a geriatric patient population in 2015 and 2016 to predict if a patient is likely to have a readmission based on the information available at the time of their initial admission.\n",
    "\n",
    "You have 3 hours to complete the exercise. If you don't get through all the objectives, that's OK. After 3 hours, please finish what you're working on and send in whatever code, analyses, and visualizations (such as images) you have available. Include comments documenting any assumptions you've made as well as other ideas you would have tried if you had more time.\n",
    "\n",
    "Feel free to use the language and statistical/machine learning libraries that you are most comfortable with, and ask questions along the way if any clarifications are necessary."
   ]
  },
  {
   "cell_type": "code",
   "execution_count": 706,
   "metadata": {
    "collapsed": true
   },
   "outputs": [],
   "source": [
    "import pandas as pd\n",
    "import numpy as np\n",
    "import matplotlib.pyplot as plt\n",
    "import seaborn as sns\n",
    "%matplotlib inline"
   ]
  },
  {
   "cell_type": "code",
   "execution_count": 707,
   "metadata": {
    "collapsed": true
   },
   "outputs": [],
   "source": [
    "admit = pd.read_csv('../Cyft/readmissions/admissions.csv')\n",
    "claims = pd.read_csv('../Cyft/readmissions/claims.csv')"
   ]
  },
  {
   "cell_type": "markdown",
   "metadata": {},
   "source": [
    "#### Data Dictionary\n",
    "\n",
    "  * admissions.csv\n",
    "    * Patient - a unique patient identifier string.\n",
    "    * AdmitDate - start date of hospital admission (yyyy-MM-dd formatted).\n",
    "    * LOS - length of hospital stay for the admission in days.\n",
    "\n",
    "  * claims.csv\n",
    "    * Patient - a unique patient identifier string.\n",
    "    * AdmitDate - start date of hospital admission (yyyy-MM-dd formatted).\n",
    "    * Age - patient's current age at time of admission.\n",
    "    * Gender - single character gender value for the patient (limited to 2 values for simplicity).\n",
    "    * PrimaryDx - the primary diagnosis code for the patient.\n",
    "    * Dx2 - the secondary diagnosis code for the patient (nullable).\n",
    "    * Dx3 - the tertiary diagnosis code for the patient (nullable).\n",
    "    * PastPCPVisits - the count of primary care physician visits the patient had in the 12 months prior to admission."
   ]
  },
  {
   "cell_type": "code",
   "execution_count": 708,
   "metadata": {},
   "outputs": [
    {
     "data": {
      "text/html": [
       "<div>\n",
       "<style>\n",
       "    .dataframe thead tr:only-child th {\n",
       "        text-align: right;\n",
       "    }\n",
       "\n",
       "    .dataframe thead th {\n",
       "        text-align: left;\n",
       "    }\n",
       "\n",
       "    .dataframe tbody tr th {\n",
       "        vertical-align: top;\n",
       "    }\n",
       "</style>\n",
       "<table border=\"1\" class=\"dataframe\">\n",
       "  <thead>\n",
       "    <tr style=\"text-align: right;\">\n",
       "      <th></th>\n",
       "      <th>Patient</th>\n",
       "      <th>AdmitDate</th>\n",
       "      <th>LOS</th>\n",
       "    </tr>\n",
       "  </thead>\n",
       "  <tbody>\n",
       "    <tr>\n",
       "      <th>0</th>\n",
       "      <td>5e982461-47d7-4ae9-ac75-d1f31acaee81</td>\n",
       "      <td>2015-09-12</td>\n",
       "      <td>9</td>\n",
       "    </tr>\n",
       "    <tr>\n",
       "      <th>1</th>\n",
       "      <td>61e049c2-08e8-469a-a1e0-808d99c084fd</td>\n",
       "      <td>2015-03-23</td>\n",
       "      <td>7</td>\n",
       "    </tr>\n",
       "    <tr>\n",
       "      <th>2</th>\n",
       "      <td>19bccbe8-0bc7-4dd5-8066-de5bd76acdff</td>\n",
       "      <td>2015-11-07</td>\n",
       "      <td>7</td>\n",
       "    </tr>\n",
       "    <tr>\n",
       "      <th>3</th>\n",
       "      <td>520d5129-fa07-45a3-9108-f6fa895c0169</td>\n",
       "      <td>2015-01-24</td>\n",
       "      <td>7</td>\n",
       "    </tr>\n",
       "    <tr>\n",
       "      <th>4</th>\n",
       "      <td>e7af2ac0-bd25-4cfe-a6f2-e6642db02f64</td>\n",
       "      <td>2015-09-08</td>\n",
       "      <td>5</td>\n",
       "    </tr>\n",
       "  </tbody>\n",
       "</table>\n",
       "</div>"
      ],
      "text/plain": [
       "                                Patient   AdmitDate  LOS\n",
       "0  5e982461-47d7-4ae9-ac75-d1f31acaee81  2015-09-12    9\n",
       "1  61e049c2-08e8-469a-a1e0-808d99c084fd  2015-03-23    7\n",
       "2  19bccbe8-0bc7-4dd5-8066-de5bd76acdff  2015-11-07    7\n",
       "3  520d5129-fa07-45a3-9108-f6fa895c0169  2015-01-24    7\n",
       "4  e7af2ac0-bd25-4cfe-a6f2-e6642db02f64  2015-09-08    5"
      ]
     },
     "execution_count": 708,
     "metadata": {},
     "output_type": "execute_result"
    }
   ],
   "source": [
    "admit.head()"
   ]
  },
  {
   "cell_type": "code",
   "execution_count": 709,
   "metadata": {},
   "outputs": [
    {
     "data": {
      "text/html": [
       "<div>\n",
       "<style>\n",
       "    .dataframe thead tr:only-child th {\n",
       "        text-align: right;\n",
       "    }\n",
       "\n",
       "    .dataframe thead th {\n",
       "        text-align: left;\n",
       "    }\n",
       "\n",
       "    .dataframe tbody tr th {\n",
       "        vertical-align: top;\n",
       "    }\n",
       "</style>\n",
       "<table border=\"1\" class=\"dataframe\">\n",
       "  <thead>\n",
       "    <tr style=\"text-align: right;\">\n",
       "      <th></th>\n",
       "      <th>Patient</th>\n",
       "      <th>AdmitDate</th>\n",
       "      <th>Age</th>\n",
       "      <th>Gender</th>\n",
       "      <th>PrimaryDx</th>\n",
       "      <th>Dx2</th>\n",
       "      <th>Dx3</th>\n",
       "      <th>PastPCPVisits</th>\n",
       "    </tr>\n",
       "  </thead>\n",
       "  <tbody>\n",
       "    <tr>\n",
       "      <th>0</th>\n",
       "      <td>5e982461-47d7-4ae9-ac75-d1f31acaee81</td>\n",
       "      <td>2015-09-12</td>\n",
       "      <td>74</td>\n",
       "      <td>M</td>\n",
       "      <td>N18</td>\n",
       "      <td>T88</td>\n",
       "      <td>NaN</td>\n",
       "      <td>19</td>\n",
       "    </tr>\n",
       "    <tr>\n",
       "      <th>1</th>\n",
       "      <td>61e049c2-08e8-469a-a1e0-808d99c084fd</td>\n",
       "      <td>2015-03-23</td>\n",
       "      <td>71</td>\n",
       "      <td>F</td>\n",
       "      <td>N18</td>\n",
       "      <td>R39</td>\n",
       "      <td>@NA</td>\n",
       "      <td>3</td>\n",
       "    </tr>\n",
       "    <tr>\n",
       "      <th>2</th>\n",
       "      <td>19bccbe8-0bc7-4dd5-8066-de5bd76acdff</td>\n",
       "      <td>2015-11-07</td>\n",
       "      <td>85</td>\n",
       "      <td>M</td>\n",
       "      <td>E11</td>\n",
       "      <td>R39</td>\n",
       "      <td>NaN</td>\n",
       "      <td>10</td>\n",
       "    </tr>\n",
       "    <tr>\n",
       "      <th>3</th>\n",
       "      <td>520d5129-fa07-45a3-9108-f6fa895c0169</td>\n",
       "      <td>2015-01-24</td>\n",
       "      <td>67</td>\n",
       "      <td>F</td>\n",
       "      <td>N18</td>\n",
       "      <td>F05</td>\n",
       "      <td>NaN</td>\n",
       "      <td>8</td>\n",
       "    </tr>\n",
       "    <tr>\n",
       "      <th>4</th>\n",
       "      <td>e7af2ac0-bd25-4cfe-a6f2-e6642db02f64</td>\n",
       "      <td>2015-09-08</td>\n",
       "      <td>78</td>\n",
       "      <td>F</td>\n",
       "      <td>A41</td>\n",
       "      <td>T88</td>\n",
       "      <td>J18</td>\n",
       "      <td>13</td>\n",
       "    </tr>\n",
       "  </tbody>\n",
       "</table>\n",
       "</div>"
      ],
      "text/plain": [
       "                                Patient   AdmitDate  Age Gender PrimaryDx  \\\n",
       "0  5e982461-47d7-4ae9-ac75-d1f31acaee81  2015-09-12   74      M       N18   \n",
       "1  61e049c2-08e8-469a-a1e0-808d99c084fd  2015-03-23   71      F       N18   \n",
       "2  19bccbe8-0bc7-4dd5-8066-de5bd76acdff  2015-11-07   85      M       E11   \n",
       "3  520d5129-fa07-45a3-9108-f6fa895c0169  2015-01-24   67      F       N18   \n",
       "4  e7af2ac0-bd25-4cfe-a6f2-e6642db02f64  2015-09-08   78      F       A41   \n",
       "\n",
       "   Dx2  Dx3  PastPCPVisits  \n",
       "0  T88  NaN             19  \n",
       "1  R39  @NA              3  \n",
       "2  R39  NaN             10  \n",
       "3  F05  NaN              8  \n",
       "4  T88  J18             13  "
      ]
     },
     "execution_count": 709,
     "metadata": {},
     "output_type": "execute_result"
    }
   ],
   "source": [
    "claims.head()"
   ]
  },
  {
   "cell_type": "markdown",
   "metadata": {},
   "source": [
    "#### Initial Look\n",
    "\n",
    "There are two overlapping columns, patient ID and admitdate. The csvs map 1:1. AdmitDate will be more useful converted to a datetime type. "
   ]
  },
  {
   "cell_type": "code",
   "execution_count": 710,
   "metadata": {},
   "outputs": [
    {
     "name": "stdout",
     "output_type": "stream",
     "text": [
      "admit: 5849 rows and 3 columns\n",
      "claims: 5849 rows and 8 columns\n"
     ]
    }
   ],
   "source": [
    "print('admit: {} rows and {} columns'.format(*admit.shape))\n",
    "print('claims: {} rows and {} columns'.format(*claims.shape))"
   ]
  },
  {
   "cell_type": "code",
   "execution_count": 711,
   "metadata": {
    "scrolled": false
   },
   "outputs": [
    {
     "data": {
      "text/html": [
       "<div>\n",
       "<style>\n",
       "    .dataframe thead tr:only-child th {\n",
       "        text-align: right;\n",
       "    }\n",
       "\n",
       "    .dataframe thead th {\n",
       "        text-align: left;\n",
       "    }\n",
       "\n",
       "    .dataframe tbody tr th {\n",
       "        vertical-align: top;\n",
       "    }\n",
       "</style>\n",
       "<table border=\"1\" class=\"dataframe\">\n",
       "  <thead>\n",
       "    <tr style=\"text-align: right;\">\n",
       "      <th></th>\n",
       "      <th>Patient</th>\n",
       "      <th>AdmitDate</th>\n",
       "      <th>LOS</th>\n",
       "      <th>Age</th>\n",
       "      <th>Gender</th>\n",
       "      <th>PrimaryDx</th>\n",
       "      <th>Dx2</th>\n",
       "      <th>Dx3</th>\n",
       "      <th>PastPCPVisits</th>\n",
       "    </tr>\n",
       "  </thead>\n",
       "  <tbody>\n",
       "    <tr>\n",
       "      <th>0</th>\n",
       "      <td>5e982461-47d7-4ae9-ac75-d1f31acaee81</td>\n",
       "      <td>2015-09-12</td>\n",
       "      <td>9</td>\n",
       "      <td>74</td>\n",
       "      <td>M</td>\n",
       "      <td>N18</td>\n",
       "      <td>T88</td>\n",
       "      <td>NaN</td>\n",
       "      <td>19</td>\n",
       "    </tr>\n",
       "    <tr>\n",
       "      <th>1</th>\n",
       "      <td>61e049c2-08e8-469a-a1e0-808d99c084fd</td>\n",
       "      <td>2015-03-23</td>\n",
       "      <td>7</td>\n",
       "      <td>71</td>\n",
       "      <td>F</td>\n",
       "      <td>N18</td>\n",
       "      <td>R39</td>\n",
       "      <td>@NA</td>\n",
       "      <td>3</td>\n",
       "    </tr>\n",
       "    <tr>\n",
       "      <th>2</th>\n",
       "      <td>19bccbe8-0bc7-4dd5-8066-de5bd76acdff</td>\n",
       "      <td>2015-11-07</td>\n",
       "      <td>7</td>\n",
       "      <td>85</td>\n",
       "      <td>M</td>\n",
       "      <td>E11</td>\n",
       "      <td>R39</td>\n",
       "      <td>NaN</td>\n",
       "      <td>10</td>\n",
       "    </tr>\n",
       "    <tr>\n",
       "      <th>3</th>\n",
       "      <td>520d5129-fa07-45a3-9108-f6fa895c0169</td>\n",
       "      <td>2015-01-24</td>\n",
       "      <td>7</td>\n",
       "      <td>67</td>\n",
       "      <td>F</td>\n",
       "      <td>N18</td>\n",
       "      <td>F05</td>\n",
       "      <td>NaN</td>\n",
       "      <td>8</td>\n",
       "    </tr>\n",
       "    <tr>\n",
       "      <th>4</th>\n",
       "      <td>e7af2ac0-bd25-4cfe-a6f2-e6642db02f64</td>\n",
       "      <td>2015-09-08</td>\n",
       "      <td>5</td>\n",
       "      <td>78</td>\n",
       "      <td>F</td>\n",
       "      <td>A41</td>\n",
       "      <td>T88</td>\n",
       "      <td>J18</td>\n",
       "      <td>13</td>\n",
       "    </tr>\n",
       "  </tbody>\n",
       "</table>\n",
       "</div>"
      ],
      "text/plain": [
       "                                Patient  AdmitDate  LOS  Age Gender PrimaryDx  \\\n",
       "0  5e982461-47d7-4ae9-ac75-d1f31acaee81 2015-09-12    9   74      M       N18   \n",
       "1  61e049c2-08e8-469a-a1e0-808d99c084fd 2015-03-23    7   71      F       N18   \n",
       "2  19bccbe8-0bc7-4dd5-8066-de5bd76acdff 2015-11-07    7   85      M       E11   \n",
       "3  520d5129-fa07-45a3-9108-f6fa895c0169 2015-01-24    7   67      F       N18   \n",
       "4  e7af2ac0-bd25-4cfe-a6f2-e6642db02f64 2015-09-08    5   78      F       A41   \n",
       "\n",
       "   Dx2  Dx3  PastPCPVisits  \n",
       "0  T88  NaN             19  \n",
       "1  R39  @NA              3  \n",
       "2  R39  NaN             10  \n",
       "3  F05  NaN              8  \n",
       "4  T88  J18             13  "
      ]
     },
     "execution_count": 711,
     "metadata": {},
     "output_type": "execute_result"
    }
   ],
   "source": [
    "full = pd.merge(admit,claims,on=['Patient','AdmitDate'])\n",
    "full['AdmitDate'] = pd.to_datetime(full['AdmitDate'])\n",
    "full.head()"
   ]
  },
  {
   "cell_type": "code",
   "execution_count": 712,
   "metadata": {},
   "outputs": [
    {
     "name": "stdout",
     "output_type": "stream",
     "text": [
      "full: 5849 rows and 9 columns\n"
     ]
    }
   ],
   "source": [
    "print('full: {} rows and {} columns'.format(*full.shape))"
   ]
  },
  {
   "cell_type": "code",
   "execution_count": 713,
   "metadata": {
    "collapsed": true
   },
   "outputs": [],
   "source": [
    "#full.set_index('AdmitDate')"
   ]
  },
  {
   "cell_type": "markdown",
   "metadata": {},
   "source": [
    "#### Null Values\n",
    "\n",
    "Can be:\n",
    "    \n",
    "    empty strings or values\n",
    "    NaN\n",
    "    @NA"
   ]
  },
  {
   "cell_type": "code",
   "execution_count": 714,
   "metadata": {},
   "outputs": [
    {
     "name": "stdout",
     "output_type": "stream",
     "text": [
      "<class 'pandas.core.frame.DataFrame'>\n",
      "Int64Index: 5849 entries, 0 to 5848\n",
      "Data columns (total 9 columns):\n",
      "Patient          5849 non-null object\n",
      "AdmitDate        5849 non-null datetime64[ns]\n",
      "LOS              5849 non-null int64\n",
      "Age              5849 non-null int64\n",
      "Gender           5849 non-null object\n",
      "PrimaryDx        5849 non-null object\n",
      "Dx2              5849 non-null object\n",
      "Dx3              3883 non-null object\n",
      "PastPCPVisits    5849 non-null int64\n",
      "dtypes: datetime64[ns](1), int64(3), object(5)\n",
      "memory usage: 457.0+ KB\n"
     ]
    }
   ],
   "source": [
    "full.info()"
   ]
  },
  {
   "cell_type": "code",
   "execution_count": 715,
   "metadata": {
    "collapsed": true
   },
   "outputs": [],
   "source": [
    "full_nan = full.replace('@NA',np.NaN) # replace @NA\n",
    "full_nan = full_nan.replace('',np.NaN) # didn't find any empty strings"
   ]
  },
  {
   "cell_type": "markdown",
   "metadata": {},
   "source": [
    "Looks like feature Dx3 is the only one with null values but they are 67% of the column which makes it unrealistic to impute. \n",
    "\n",
    "This makes sense as it is less likely to have a third diagnosis at admission time as a primary or secondary. Have to keep an eye on it down the line. For now leave as ''"
   ]
  },
  {
   "cell_type": "code",
   "execution_count": 716,
   "metadata": {},
   "outputs": [
    {
     "data": {
      "text/plain": [
       "Patient          0.00000\n",
       "AdmitDate        0.00000\n",
       "LOS              0.00000\n",
       "Age              0.00000\n",
       "Gender           0.00000\n",
       "PrimaryDx        0.00000\n",
       "Dx2              0.00000\n",
       "Dx3              0.66849\n",
       "PastPCPVisits    0.00000\n",
       "dtype: float64"
      ]
     },
     "execution_count": 716,
     "metadata": {},
     "output_type": "execute_result"
    }
   ],
   "source": [
    "full_nan.isnull().sum() / full_nan.shape[0]"
   ]
  },
  {
   "cell_type": "code",
   "execution_count": 717,
   "metadata": {
    "collapsed": true
   },
   "outputs": [],
   "source": [
    "full = full.replace('@NA',np.NaN) # replace @NA\n",
    "full = full.replace('',np.NaN) # didn't find any empty strings\n",
    "full = full.replace(np.NaN,'')"
   ]
  },
  {
   "cell_type": "code",
   "execution_count": 718,
   "metadata": {},
   "outputs": [
    {
     "name": "stdout",
     "output_type": "stream",
     "text": [
      "d0c9fc8f-9123-4a58-a202-824108c351de    2\n",
      "0c166bce-afbd-4a30-9fa8-4e0a3ac2331f    2\n",
      "059911fc-5d4c-47f8-a183-6e247a01804c    2\n",
      "6854879c-4e82-4325-a5e8-abf86bc50c36    2\n",
      "fee5140d-d4d4-42a6-a183-612ee59a8874    2\n",
      "ade33aa5-39ff-4a51-887c-8073354b31da    2\n",
      "57726e7c-08ec-4bed-a5d9-b05821c6376e    2\n",
      "85362de6-0d74-4bfa-87b1-bd70f62041ad    2\n",
      "f21ad04f-0d6f-42e0-86e7-701010131954    2\n",
      "db6e1e8a-dd6f-4345-91ca-14a6e18b283b    2\n",
      "5547d574-6453-4502-9ed0-d76338634ba2    2\n",
      "948e7dac-7ae6-47c9-b02a-7d847eb50bc9    2\n",
      "be76cffa-b2e6-4107-96dd-7aa83355978a    2\n",
      "05ff47b2-823d-4527-8a35-698ba657c8ed    2\n",
      "cd57e1b7-277e-4cfb-8b31-2a152e939c4b    2\n",
      "c7a85714-63a6-4455-9804-94a04388f0cc    2\n",
      "76a17508-1c7f-4c71-82e4-7aeab29e81cf    2\n",
      "01faebba-6fa2-4ea0-8612-c35a36ab7442    2\n",
      "e667e30c-d6a1-43c4-84ad-ac933e1f2a9b    2\n",
      "0ef09c6f-580f-4a93-b288-9251b88b7f96    2\n",
      "30c2b767-25e5-48a5-9c7b-540cf129880a    2\n",
      "d28dc1b0-7bf9-43ee-bf88-86a7ebef5277    2\n",
      "50a689af-3a6c-438d-9a26-e41dbb64548f    2\n",
      "6ed5240a-11ad-4fc0-9fe8-bba48b48aa54    2\n",
      "54035bdf-93d7-4f81-ba84-0d6a45b4b91d    2\n",
      "19af8505-22cc-418b-96b0-f5f2c4477ef7    2\n",
      "6a5d9003-769e-436f-9051-f6c53fb184cc    2\n",
      "a46d8ef4-0e7d-46eb-a437-cb1bab9fbdfe    2\n",
      "d66de432-29ea-4fa5-b7d2-908208161261    2\n",
      "c0933ed2-45a1-4211-a064-14993aba9fee    2\n",
      "                                       ..\n",
      "05b7e02e-b7d5-484e-8d91-9652fd1d4e55    1\n",
      "5b505be1-6dd3-4dca-bf24-44d3808f8516    1\n",
      "7d9ec178-66e8-4243-9fec-8ecf13f85cf4    1\n",
      "3361354e-3412-4d61-a284-f6b31a48a613    1\n",
      "1710576a-6802-48f7-999a-4f3f10a82e8b    1\n",
      "05c5dc39-fb39-43b5-8497-5d58b004e8df    1\n",
      "f753a06e-f703-4767-bfef-59b3b5f0edcf    1\n",
      "5a371653-e90f-452b-893b-cb550c1d0d12    1\n",
      "001049df-d2d0-474b-9a09-5ba95414fb70    1\n",
      "e5289f71-4402-480b-8e7c-a86cf5810f20    1\n",
      "65e69e2d-b5a8-41d0-9a9f-8c71125dbc22    1\n",
      "16e46d81-d2f1-4edc-9ec8-6ad1919b9ff9    1\n",
      "9e8a74d3-f721-4098-98cc-aed7ae0e823a    1\n",
      "9d144038-e4fc-4dc2-b8a1-b126a2658c40    1\n",
      "36cee1e9-e089-4174-8860-75ab8d8b9091    1\n",
      "afe79173-fdcf-48ff-8152-01e51e4f7440    1\n",
      "2931054f-af85-443f-8246-b89bfe64e439    1\n",
      "6344e1a0-59b6-45f4-960e-00c22c292626    1\n",
      "4ea65456-f8da-4689-98b3-5e27d7018ba7    1\n",
      "988202f5-5e20-4353-bb14-272042876608    1\n",
      "da0fd519-789c-4713-bf3e-f3e636e9a82b    1\n",
      "cf2b0470-6da1-4d4a-840c-9b4d815848b2    1\n",
      "9ccdc65c-f5ea-47a3-9f28-b2edee634269    1\n",
      "267ec59f-9e3d-4421-8910-119477634d2c    1\n",
      "57fb1d65-952c-4020-9490-cf623542f813    1\n",
      "b69327d3-ba6a-4124-9001-e6a4aed24056    1\n",
      "20706950-b1b7-48a2-a851-d24e6729dff0    1\n",
      "40123698-e1fb-4934-8994-d8a7694bfa47    1\n",
      "298a2673-81e9-4034-afae-a6dc5e945e41    1\n",
      "ea7df8d9-35b2-4011-9d8e-88a10bb74b52    1\n",
      "Name: Patient, Length: 3917, dtype: int64\n",
      "2016-06-22    19\n",
      "2015-04-01    17\n",
      "2016-03-14    15\n",
      "2016-01-12    15\n",
      "2016-02-06    15\n",
      "2015-05-06    15\n",
      "2015-07-25    15\n",
      "2016-05-28    14\n",
      "2016-05-11    14\n",
      "2016-05-15    14\n",
      "2016-05-13    14\n",
      "2015-09-15    14\n",
      "2015-03-25    14\n",
      "2015-09-13    14\n",
      "2016-01-03    14\n",
      "2016-10-29    14\n",
      "2016-06-06    14\n",
      "2016-01-14    14\n",
      "2016-09-18    14\n",
      "2016-02-27    14\n",
      "2016-02-21    14\n",
      "2015-06-03    13\n",
      "2015-07-12    13\n",
      "2016-08-09    13\n",
      "2015-09-20    13\n",
      "2015-12-07    13\n",
      "2015-05-19    13\n",
      "2016-01-06    13\n",
      "2015-05-22    13\n",
      "2016-07-30    13\n",
      "              ..\n",
      "2017-01-26     2\n",
      "2015-06-23     2\n",
      "2015-10-24     2\n",
      "2017-01-22     2\n",
      "2016-12-21     2\n",
      "2015-01-01     2\n",
      "2016-06-15     2\n",
      "2017-01-19     2\n",
      "2015-12-18     2\n",
      "2016-07-23     2\n",
      "2017-01-11     2\n",
      "2016-12-28     2\n",
      "2016-05-30     2\n",
      "2015-06-21     1\n",
      "2015-12-13     1\n",
      "2017-03-08     1\n",
      "2017-02-09     1\n",
      "2017-01-21     1\n",
      "2015-01-10     1\n",
      "2017-01-23     1\n",
      "2017-01-08     1\n",
      "2017-01-24     1\n",
      "2017-02-07     1\n",
      "2017-01-03     1\n",
      "2017-01-28     1\n",
      "2016-12-06     1\n",
      "2017-02-08     1\n",
      "2017-02-03     1\n",
      "2017-02-25     1\n",
      "2017-02-15     1\n",
      "Name: AdmitDate, Length: 760, dtype: int64\n",
      "6     1382\n",
      "5     1309\n",
      "7      973\n",
      "4      786\n",
      "8      556\n",
      "3      297\n",
      "9      258\n",
      "10     106\n",
      "2       65\n",
      "11      47\n",
      "12      28\n",
      "14      13\n",
      "13      13\n",
      "1       13\n",
      "15       3\n",
      "Name: LOS, dtype: int64\n",
      "77    418\n",
      "75    414\n",
      "73    391\n",
      "74    380\n",
      "76    373\n",
      "79    367\n",
      "72    341\n",
      "78    332\n",
      "80    301\n",
      "71    282\n",
      "81    244\n",
      "69    229\n",
      "70    223\n",
      "68    216\n",
      "67    196\n",
      "83    191\n",
      "82    187\n",
      "84    146\n",
      "85    129\n",
      "66    119\n",
      "90     99\n",
      "86     97\n",
      "87     80\n",
      "89     41\n",
      "88     39\n",
      "65     14\n",
      "Name: Age, dtype: int64\n",
      "F    2967\n",
      "M    2882\n",
      "Name: Gender, dtype: int64\n",
      "N18    1498\n",
      "E11    1422\n",
      "A41    1171\n",
      "I50     943\n",
      "J44     805\n",
      "N39      10\n",
      "Name: PrimaryDx, dtype: int64\n",
      "T88    830\n",
      "R39    764\n",
      "F03    748\n",
      "G31    626\n",
      "F05    517\n",
      "R41    448\n",
      "F19    425\n",
      "I51    423\n",
      "E86    388\n",
      "E11    357\n",
      "W19    318\n",
      "M54      5\n",
      "Name: Dx2, dtype: int64\n",
      "       3910\n",
      "E11     299\n",
      "R51     287\n",
      "R05     147\n",
      "H53     146\n",
      "I10     144\n",
      "J45     136\n",
      "M54     135\n",
      "E56     134\n",
      "J18     132\n",
      "H91     129\n",
      "R26     125\n",
      "G89     125\n",
      "Name: Dx3, dtype: int64\n",
      "11    391\n",
      "13    385\n",
      "9     374\n",
      "12    371\n",
      "10    366\n",
      "8     330\n",
      "7     328\n",
      "15    307\n",
      "6     307\n",
      "14    306\n",
      "16    290\n",
      "5     285\n",
      "17    267\n",
      "4     266\n",
      "3     248\n",
      "18    234\n",
      "19    213\n",
      "2     155\n",
      "20    135\n",
      "21     93\n",
      "1      75\n",
      "22     58\n",
      "23     21\n",
      "24     16\n",
      "26      8\n",
      "25      7\n",
      "27      4\n",
      "28      3\n",
      "29      2\n",
      "32      1\n",
      "30      1\n",
      "34      1\n",
      "31      1\n",
      "Name: PastPCPVisits, dtype: int64\n"
     ]
    }
   ],
   "source": [
    "for col in full.columns:\n",
    "    print(full[col].value_counts())"
   ]
  },
  {
   "cell_type": "markdown",
   "metadata": {},
   "source": [
    "#### Determine Patients with Readmissions\n",
    "\n",
    "Any patient id which shows up more than once is considered a readmission. New binary column is created since this is our target variable."
   ]
  },
  {
   "cell_type": "code",
   "execution_count": 719,
   "metadata": {},
   "outputs": [
    {
     "name": "stdout",
     "output_type": "stream",
     "text": [
      "There are 1932 patients readmitted in the 30 day window\n"
     ]
    }
   ],
   "source": [
    "print('There are {} patients readmitted in the 30 day window'.format(np.sum(full['Patient'].value_counts()>1)))\n"
   ]
  },
  {
   "cell_type": "code",
   "execution_count": 720,
   "metadata": {
    "collapsed": true
   },
   "outputs": [],
   "source": [
    "full['Readmitted'] = full.groupby(['Patient'])['Patient'].transform('count')\n",
    "full['Readmitted'] = full['Readmitted'].map({2:1,1:0})"
   ]
  },
  {
   "cell_type": "code",
   "execution_count": 721,
   "metadata": {},
   "outputs": [
    {
     "data": {
      "text/plain": [
       "5844    6 days\n",
       "5845   31 days\n",
       "5846   40 days\n",
       "5847   36 days\n",
       "5848   32 days\n",
       "Name: AdmitDate, dtype: timedelta64[ns]"
      ]
     },
     "execution_count": 721,
     "metadata": {},
     "output_type": "execute_result"
    }
   ],
   "source": [
    "full[full['Readmitted'] == 1].groupby(['Patient']).diff()['AdmitDate'].tail()"
   ]
  },
  {
   "cell_type": "code",
   "execution_count": 722,
   "metadata": {
    "collapsed": true
   },
   "outputs": [],
   "source": [
    "full['DaysSinceAdmission'] = full[full['Readmitted'] == 1].groupby(['Patient']).diff()['AdmitDate']"
   ]
  },
  {
   "cell_type": "code",
   "execution_count": 723,
   "metadata": {
    "collapsed": true
   },
   "outputs": [],
   "source": [
    "full['<=30Days'] = (full['DaysSinceAdmission'] <= pd.Timedelta('30 days')).astype(np.int)"
   ]
  },
  {
   "cell_type": "code",
   "execution_count": 724,
   "metadata": {},
   "outputs": [
    {
     "data": {
      "text/html": [
       "<div>\n",
       "<style>\n",
       "    .dataframe thead tr:only-child th {\n",
       "        text-align: right;\n",
       "    }\n",
       "\n",
       "    .dataframe thead th {\n",
       "        text-align: left;\n",
       "    }\n",
       "\n",
       "    .dataframe tbody tr th {\n",
       "        vertical-align: top;\n",
       "    }\n",
       "</style>\n",
       "<table border=\"1\" class=\"dataframe\">\n",
       "  <thead>\n",
       "    <tr style=\"text-align: right;\">\n",
       "      <th></th>\n",
       "      <th>Patient</th>\n",
       "      <th>AdmitDate</th>\n",
       "      <th>LOS</th>\n",
       "      <th>Age</th>\n",
       "      <th>Gender</th>\n",
       "      <th>PrimaryDx</th>\n",
       "      <th>Dx2</th>\n",
       "      <th>Dx3</th>\n",
       "      <th>PastPCPVisits</th>\n",
       "      <th>Readmitted</th>\n",
       "      <th>DaysSinceAdmission</th>\n",
       "      <th>&lt;=30Days</th>\n",
       "    </tr>\n",
       "  </thead>\n",
       "  <tbody>\n",
       "    <tr>\n",
       "      <th>5844</th>\n",
       "      <td>641acfac-9bd1-4864-be0a-52d4bfc78ef9</td>\n",
       "      <td>2016-03-14</td>\n",
       "      <td>7</td>\n",
       "      <td>75</td>\n",
       "      <td>M</td>\n",
       "      <td>A41</td>\n",
       "      <td>I51</td>\n",
       "      <td></td>\n",
       "      <td>15</td>\n",
       "      <td>1</td>\n",
       "      <td>6 days</td>\n",
       "      <td>1</td>\n",
       "    </tr>\n",
       "    <tr>\n",
       "      <th>5845</th>\n",
       "      <td>e152df3f-69a5-4ad4-9cf0-a3b7a6b9d4d8</td>\n",
       "      <td>2016-12-20</td>\n",
       "      <td>5</td>\n",
       "      <td>86</td>\n",
       "      <td>M</td>\n",
       "      <td>E11</td>\n",
       "      <td>R41</td>\n",
       "      <td></td>\n",
       "      <td>17</td>\n",
       "      <td>1</td>\n",
       "      <td>31 days</td>\n",
       "      <td>0</td>\n",
       "    </tr>\n",
       "    <tr>\n",
       "      <th>5846</th>\n",
       "      <td>a45e1bab-df5f-4078-b938-31f920e2f765</td>\n",
       "      <td>2016-09-18</td>\n",
       "      <td>9</td>\n",
       "      <td>78</td>\n",
       "      <td>M</td>\n",
       "      <td>A41</td>\n",
       "      <td>I51</td>\n",
       "      <td>R05</td>\n",
       "      <td>14</td>\n",
       "      <td>1</td>\n",
       "      <td>40 days</td>\n",
       "      <td>0</td>\n",
       "    </tr>\n",
       "    <tr>\n",
       "      <th>5847</th>\n",
       "      <td>963fdb5d-bfe6-47c9-84c8-6456ce0fd093</td>\n",
       "      <td>2017-01-19</td>\n",
       "      <td>6</td>\n",
       "      <td>81</td>\n",
       "      <td>M</td>\n",
       "      <td>J44</td>\n",
       "      <td>F05</td>\n",
       "      <td></td>\n",
       "      <td>17</td>\n",
       "      <td>1</td>\n",
       "      <td>36 days</td>\n",
       "      <td>0</td>\n",
       "    </tr>\n",
       "    <tr>\n",
       "      <th>5848</th>\n",
       "      <td>a2940e72-8185-4944-8257-6c440d8aa374</td>\n",
       "      <td>2016-09-11</td>\n",
       "      <td>8</td>\n",
       "      <td>77</td>\n",
       "      <td>F</td>\n",
       "      <td>I50</td>\n",
       "      <td>R39</td>\n",
       "      <td></td>\n",
       "      <td>11</td>\n",
       "      <td>1</td>\n",
       "      <td>32 days</td>\n",
       "      <td>0</td>\n",
       "    </tr>\n",
       "  </tbody>\n",
       "</table>\n",
       "</div>"
      ],
      "text/plain": [
       "                                   Patient  AdmitDate  LOS  Age Gender  \\\n",
       "5844  641acfac-9bd1-4864-be0a-52d4bfc78ef9 2016-03-14    7   75      M   \n",
       "5845  e152df3f-69a5-4ad4-9cf0-a3b7a6b9d4d8 2016-12-20    5   86      M   \n",
       "5846  a45e1bab-df5f-4078-b938-31f920e2f765 2016-09-18    9   78      M   \n",
       "5847  963fdb5d-bfe6-47c9-84c8-6456ce0fd093 2017-01-19    6   81      M   \n",
       "5848  a2940e72-8185-4944-8257-6c440d8aa374 2016-09-11    8   77      F   \n",
       "\n",
       "     PrimaryDx  Dx2  Dx3  PastPCPVisits  Readmitted DaysSinceAdmission  \\\n",
       "5844       A41  I51                  15           1             6 days   \n",
       "5845       E11  R41                  17           1            31 days   \n",
       "5846       A41  I51  R05             14           1            40 days   \n",
       "5847       J44  F05                  17           1            36 days   \n",
       "5848       I50  R39                  11           1            32 days   \n",
       "\n",
       "      <=30Days  \n",
       "5844         1  \n",
       "5845         0  \n",
       "5846         0  \n",
       "5847         0  \n",
       "5848         0  "
      ]
     },
     "execution_count": 724,
     "metadata": {},
     "output_type": "execute_result"
    }
   ],
   "source": [
    "full.tail()"
   ]
  },
  {
   "cell_type": "markdown",
   "metadata": {},
   "source": [
    "Quick spot check to cofirm thats correct"
   ]
  },
  {
   "cell_type": "code",
   "execution_count": 725,
   "metadata": {},
   "outputs": [
    {
     "data": {
      "text/html": [
       "<div>\n",
       "<style>\n",
       "    .dataframe thead tr:only-child th {\n",
       "        text-align: right;\n",
       "    }\n",
       "\n",
       "    .dataframe thead th {\n",
       "        text-align: left;\n",
       "    }\n",
       "\n",
       "    .dataframe tbody tr th {\n",
       "        vertical-align: top;\n",
       "    }\n",
       "</style>\n",
       "<table border=\"1\" class=\"dataframe\">\n",
       "  <thead>\n",
       "    <tr style=\"text-align: right;\">\n",
       "      <th></th>\n",
       "      <th>Patient</th>\n",
       "      <th>AdmitDate</th>\n",
       "      <th>LOS</th>\n",
       "      <th>Age</th>\n",
       "      <th>Gender</th>\n",
       "      <th>PrimaryDx</th>\n",
       "      <th>Dx2</th>\n",
       "      <th>Dx3</th>\n",
       "      <th>PastPCPVisits</th>\n",
       "      <th>Readmitted</th>\n",
       "      <th>DaysSinceAdmission</th>\n",
       "      <th>&lt;=30Days</th>\n",
       "    </tr>\n",
       "  </thead>\n",
       "  <tbody>\n",
       "    <tr>\n",
       "      <th>0</th>\n",
       "      <td>5e982461-47d7-4ae9-ac75-d1f31acaee81</td>\n",
       "      <td>2015-09-12</td>\n",
       "      <td>9</td>\n",
       "      <td>74</td>\n",
       "      <td>M</td>\n",
       "      <td>N18</td>\n",
       "      <td>T88</td>\n",
       "      <td></td>\n",
       "      <td>19</td>\n",
       "      <td>1</td>\n",
       "      <td>NaT</td>\n",
       "      <td>0</td>\n",
       "    </tr>\n",
       "    <tr>\n",
       "      <th>4304</th>\n",
       "      <td>5e982461-47d7-4ae9-ac75-d1f31acaee81</td>\n",
       "      <td>2015-09-22</td>\n",
       "      <td>5</td>\n",
       "      <td>74</td>\n",
       "      <td>M</td>\n",
       "      <td>J44</td>\n",
       "      <td>R41</td>\n",
       "      <td>H91</td>\n",
       "      <td>21</td>\n",
       "      <td>1</td>\n",
       "      <td>10 days</td>\n",
       "      <td>1</td>\n",
       "    </tr>\n",
       "  </tbody>\n",
       "</table>\n",
       "</div>"
      ],
      "text/plain": [
       "                                   Patient  AdmitDate  LOS  Age Gender  \\\n",
       "0     5e982461-47d7-4ae9-ac75-d1f31acaee81 2015-09-12    9   74      M   \n",
       "4304  5e982461-47d7-4ae9-ac75-d1f31acaee81 2015-09-22    5   74      M   \n",
       "\n",
       "     PrimaryDx  Dx2  Dx3  PastPCPVisits  Readmitted DaysSinceAdmission  \\\n",
       "0          N18  T88                  19           1                NaT   \n",
       "4304       J44  R41  H91             21           1            10 days   \n",
       "\n",
       "      <=30Days  \n",
       "0            0  \n",
       "4304         1  "
      ]
     },
     "execution_count": 725,
     "metadata": {},
     "output_type": "execute_result"
    }
   ],
   "source": [
    "full[full['Patient'] == '5e982461-47d7-4ae9-ac75-d1f31acaee81']"
   ]
  },
  {
   "cell_type": "code",
   "execution_count": 726,
   "metadata": {
    "scrolled": true
   },
   "outputs": [
    {
     "data": {
      "text/plain": [
       "0.23559582834672593"
      ]
     },
     "execution_count": 726,
     "metadata": {},
     "output_type": "execute_result"
    }
   ],
   "source": [
    "full['<=30Days'].mean()"
   ]
  },
  {
   "cell_type": "markdown",
   "metadata": {},
   "source": [
    "#### Summary statistics of features\n",
    "\n",
    "Confirm no duplicates. Would not want to be incorrectly counting."
   ]
  },
  {
   "cell_type": "code",
   "execution_count": 727,
   "metadata": {},
   "outputs": [
    {
     "data": {
      "text/plain": [
       "0"
      ]
     },
     "execution_count": 727,
     "metadata": {},
     "output_type": "execute_result"
    }
   ],
   "source": [
    "full.duplicated().sum()"
   ]
  },
  {
   "cell_type": "code",
   "execution_count": 728,
   "metadata": {},
   "outputs": [
    {
     "name": "stdout",
     "output_type": "stream",
     "text": [
      "Columns:\n",
      "\tPatient\n",
      "\tAdmitDate\n",
      "\tLOS\n",
      "\tAge\n",
      "\tGender\n",
      "\tPrimaryDx\n",
      "\tDx2\n",
      "\tDx3\n",
      "\tPastPCPVisits\n",
      "\tReadmitted\n",
      "\tDaysSinceAdmission\n",
      "\t<=30Days\n"
     ]
    }
   ],
   "source": [
    "print('Columns:\\n\\t'+'\\n\\t'.join(map(str,[col for col in full.columns])))"
   ]
  },
  {
   "cell_type": "markdown",
   "metadata": {},
   "source": [
    "Theres a uniform distribution in of data across all the dates in the dataset with the months in 2017 trailing off.\n",
    "\n",
    "2017 dates won't be used in the evaluation of the model so this will not affect us"
   ]
  },
  {
   "cell_type": "code",
   "execution_count": 729,
   "metadata": {},
   "outputs": [
    {
     "data": {
      "text/plain": [
       "<matplotlib.text.Text at 0x1a1e5e27b8>"
      ]
     },
     "execution_count": 729,
     "metadata": {},
     "output_type": "execute_result"
    },
    {
     "data": {
      "image/png": "[encoded data removed]",
      "text/plain": [
       "<matplotlib.figure.Figure at 0x1a1e709d68>"
      ]
     },
     "metadata": {},
     "output_type": "display_data"
    }
   ],
   "source": [
    "full['AdmitDate'].hist(xrot=90,figsize=(12,4))\n",
    "plt.title('Patient distribution over dates',size=15)\n",
    "plt.ylabel('count')"
   ]
  },
  {
   "cell_type": "markdown",
   "metadata": {},
   "source": [
    "There is a ~normal distribution of Length of Stay centered around 6 days. There is a broad spread with a min of 1 and a max of 15 however 50% of the data sits in buckets days 5,6,7 days long."
   ]
  },
  {
   "cell_type": "code",
   "execution_count": 730,
   "metadata": {},
   "outputs": [
    {
     "data": {
      "text/plain": [
       "<matplotlib.text.Text at 0x1a1eaa73c8>"
      ]
     },
     "execution_count": 730,
     "metadata": {},
     "output_type": "execute_result"
    },
    {
     "data": {
      "image/png": "[encoded data removed]",
      "text/plain": [
       "<matplotlib.figure.Figure at 0x1a1eaf8588>"
      ]
     },
     "metadata": {},
     "output_type": "display_data"
    }
   ],
   "source": [
    "full['LOS'].plot(kind='box',figsize=(12,4),vert=False)\n",
    "plt.xlabel('days')\n",
    "plt.title('Distribution of length of stay',size=15)"
   ]
  },
  {
   "cell_type": "code",
   "execution_count": 731,
   "metadata": {},
   "outputs": [
    {
     "data": {
      "text/plain": [
       "15"
      ]
     },
     "execution_count": 731,
     "metadata": {},
     "output_type": "execute_result"
    }
   ],
   "source": [
    "full['LOS'].unique().shape[0]"
   ]
  },
  {
   "cell_type": "code",
   "execution_count": 732,
   "metadata": {},
   "outputs": [
    {
     "data": {
      "text/plain": [
       "<matplotlib.text.Text at 0x1a1f397ba8>"
      ]
     },
     "execution_count": 732,
     "metadata": {},
     "output_type": "execute_result"
    },
    {
     "data": {
      "image/png": "[encoded data removed]",
      "text/plain": [
       "<matplotlib.figure.Figure at 0x1a1ed275f8>"
      ]
     },
     "metadata": {},
     "output_type": "display_data"
    }
   ],
   "source": [
    "full['LOS'].hist(bins=15,figsize=(12,4))\n",
    "plt.title('Distribution of length of stay',size=15)\n",
    "plt.xlabel('days')\n",
    "plt.ylabel('count')"
   ]
  },
  {
   "cell_type": "markdown",
   "metadata": {},
   "source": [
    "Age is a normal distribution with a clipping at the end probably rounding ages over 90 to the age 90. Majority sit between 72-80 yrs old."
   ]
  },
  {
   "cell_type": "code",
   "execution_count": 733,
   "metadata": {},
   "outputs": [
    {
     "data": {
      "text/plain": [
       "<matplotlib.text.Text at 0x1a1f0b67f0>"
      ]
     },
     "execution_count": 733,
     "metadata": {},
     "output_type": "execute_result"
    },
    {
     "data": {
      "image/png": "[encoded data removed]",
      "text/plain": [
       "<matplotlib.figure.Figure at 0x1a1f3a1668>"
      ]
     },
     "metadata": {},
     "output_type": "display_data"
    }
   ],
   "source": [
    "full['Age'].plot(kind='box',figsize=(12,4),vert=False)\n",
    "plt.xlabel('yrs old')\n",
    "plt.title('Distribution of Age',size=15)"
   ]
  },
  {
   "cell_type": "code",
   "execution_count": 734,
   "metadata": {},
   "outputs": [
    {
     "data": {
      "text/plain": [
       "26"
      ]
     },
     "execution_count": 734,
     "metadata": {},
     "output_type": "execute_result"
    }
   ],
   "source": [
    "full['Age'].unique().shape[0]"
   ]
  },
  {
   "cell_type": "code",
   "execution_count": 735,
   "metadata": {},
   "outputs": [
    {
     "data": {
      "text/plain": [
       "<matplotlib.text.Text at 0x1a1ee6ec18>"
      ]
     },
     "execution_count": 735,
     "metadata": {},
     "output_type": "execute_result"
    },
    {
     "data": {
      "image/png": "[encoded data removed]",
      "text/plain": [
       "<matplotlib.figure.Figure at 0x1a1f0ee828>"
      ]
     },
     "metadata": {},
     "output_type": "display_data"
    }
   ],
   "source": [
    "full['Age'].hist(bins=26,figsize=(12,4))\n",
    "plt.title('Distribution of Age',size=15)\n",
    "plt.xlabel('yrs old')\n",
    "plt.ylabel('count')"
   ]
  },
  {
   "cell_type": "markdown",
   "metadata": {},
   "source": [
    "Even split of genders, though slightly more female as would be expected by their long expected lifespan"
   ]
  },
  {
   "cell_type": "code",
   "execution_count": 736,
   "metadata": {},
   "outputs": [
    {
     "data": {
      "text/plain": [
       "<matplotlib.text.Text at 0x1a1f427668>"
      ]
     },
     "execution_count": 736,
     "metadata": {},
     "output_type": "execute_result"
    },
    {
     "data": {
      "image/png": "[encoded data removed]",
      "text/plain": [
       "<matplotlib.figure.Figure at 0x1a1f439048>"
      ]
     },
     "metadata": {},
     "output_type": "display_data"
    }
   ],
   "source": [
    "full['Gender'].value_counts().plot(kind='bar',figsize=(12,4))\n",
    "plt.title('Gender Distribution',size=15)\n",
    "plt.xlabel('gender')\n",
    "plt.ylabel('count')"
   ]
  },
  {
   "cell_type": "markdown",
   "metadata": {},
   "source": [
    "There are 3 diagnoses columns so lets take a look at all together. \n",
    "\n",
    "PrimaryDx:\n",
    "    - N39 has very few occurances\n",
    "    \n",
    "Dx2:\n",
    "    - M54 has very few occurances\n",
    "    \n",
    "Dx3:\n",
    "    - Exluding the missing data, all Dxs look to have between 200-500 occurances\n"
   ]
  },
  {
   "cell_type": "code",
   "execution_count": 737,
   "metadata": {
    "collapsed": true
   },
   "outputs": [],
   "source": [
    "Dx_cols = ['PrimaryDx','Dx2','Dx3']"
   ]
  },
  {
   "cell_type": "code",
   "execution_count": 738,
   "metadata": {},
   "outputs": [
    {
     "data": {
      "image/png": "[encoded data removed]",
      "text/plain": [
       "<matplotlib.figure.Figure at 0x1a1f53d358>"
      ]
     },
     "metadata": {},
     "output_type": "display_data"
    },
    {
     "data": {
      "image/png": "[encoded data removed]",
      "text/plain": [
       "<matplotlib.figure.Figure at 0x1a1f53d5f8>"
      ]
     },
     "metadata": {},
     "output_type": "display_data"
    },
    {
     "data": {
      "image/png": "[encoded data removed]",
      "text/plain": [
       "<matplotlib.figure.Figure at 0x1a1fc5e978>"
      ]
     },
     "metadata": {},
     "output_type": "display_data"
    },
    {
     "data": {
      "text/plain": [
       "<matplotlib.figure.Figure at 0x1a1fd9acf8>"
      ]
     },
     "metadata": {},
     "output_type": "display_data"
    }
   ],
   "source": [
    "for col in Dx_cols:\n",
    "    bins = full[col].unique().shape[0]\n",
    "    #full[col].hist(bins=bins,figsize=(12,4))\n",
    "    full[col].value_counts().plot(kind='bar',figsize=(12,4))\n",
    "    plt.title('Distribution of {}'.format(col),size=15)\n",
    "    plt.xlabel('dx')\n",
    "    plt.ylabel('count')\n",
    "    plt.figure()"
   ]
  },
  {
   "cell_type": "markdown",
   "metadata": {},
   "source": [
    "Past visits are all centered around 11 with 50% of the data between 7 adn 15 visits."
   ]
  },
  {
   "cell_type": "code",
   "execution_count": 739,
   "metadata": {},
   "outputs": [
    {
     "data": {
      "text/plain": [
       "count    5849.000000\n",
       "mean       11.123782\n",
       "std         5.373314\n",
       "min         1.000000\n",
       "25%         7.000000\n",
       "50%        11.000000\n",
       "75%        15.000000\n",
       "max        34.000000\n",
       "Name: PastPCPVisits, dtype: float64"
      ]
     },
     "execution_count": 739,
     "metadata": {},
     "output_type": "execute_result"
    }
   ],
   "source": [
    "full['PastPCPVisits'].describe()"
   ]
  },
  {
   "cell_type": "code",
   "execution_count": 740,
   "metadata": {},
   "outputs": [
    {
     "data": {
      "text/plain": [
       "<matplotlib.text.Text at 0x1a1fe8f080>"
      ]
     },
     "execution_count": 740,
     "metadata": {},
     "output_type": "execute_result"
    },
    {
     "data": {
      "image/png": "[encoded data removed]",
      "text/plain": [
       "<matplotlib.figure.Figure at 0x1a1f5856d8>"
      ]
     },
     "metadata": {},
     "output_type": "display_data"
    }
   ],
   "source": [
    "full['PastPCPVisits'].plot(kind='box',figsize=(12,4),vert=False)\n",
    "plt.xlabel('visits')\n",
    "plt.title('Distribution of Past PCP Visits',size=15)"
   ]
  },
  {
   "cell_type": "code",
   "execution_count": 741,
   "metadata": {},
   "outputs": [
    {
     "data": {
      "text/plain": [
       "<matplotlib.figure.Figure at 0x1a203fac50>"
      ]
     },
     "execution_count": 741,
     "metadata": {},
     "output_type": "execute_result"
    },
    {
     "data": {
      "image/png": "[encoded data removed]",
      "text/plain": [
       "<matplotlib.figure.Figure at 0x1a2037d860>"
      ]
     },
     "metadata": {},
     "output_type": "display_data"
    },
    {
     "data": {
      "text/plain": [
       "<matplotlib.figure.Figure at 0x1a203fac50>"
      ]
     },
     "metadata": {},
     "output_type": "display_data"
    }
   ],
   "source": [
    "bins = full['PastPCPVisits'].unique().shape[0]\n",
    "full['PastPCPVisits'].hist(bins=bins,figsize=(12,4))\n",
    "plt.title('Distribution of Past PCP Visits'.format(col),size=15)\n",
    "plt.xlabel('visits')\n",
    "plt.ylabel('count')\n",
    "plt.figure()"
   ]
  },
  {
   "cell_type": "markdown",
   "metadata": {},
   "source": [
    "#### Take a quick look at which diagnoses, ages, and past visits lead to the highest readmittance\n",
    "\n",
    "Baseline rate is 66% readmitted but only 24% of those are readmitted within less than 30 days. We are therefore looking for combinations which lead to a higher readmitted rate than 24%."
   ]
  },
  {
   "cell_type": "code",
   "execution_count": 742,
   "metadata": {},
   "outputs": [
    {
     "data": {
      "text/plain": [
       "0.23559582834672593"
      ]
     },
     "execution_count": 742,
     "metadata": {},
     "output_type": "execute_result"
    }
   ],
   "source": [
    "full['<=30Days'].mean()"
   ]
  },
  {
   "cell_type": "code",
   "execution_count": 743,
   "metadata": {
    "scrolled": true
   },
   "outputs": [
    {
     "name": "stderr",
     "output_type": "stream",
     "text": [
      "/Users/xbno/anaconda3/lib/python3.6/site-packages/ipykernel_launcher.py:1: FutureWarning: using a dict on a Series for aggregation\n",
      "is deprecated and will be removed in a future version\n",
      "  \"\"\"Entry point for launching an IPython kernel.\n"
     ]
    },
    {
     "data": {
      "text/html": [
       "<div>\n",
       "<style>\n",
       "    .dataframe thead tr:only-child th {\n",
       "        text-align: right;\n",
       "    }\n",
       "\n",
       "    .dataframe thead th {\n",
       "        text-align: left;\n",
       "    }\n",
       "\n",
       "    .dataframe tbody tr th {\n",
       "        vertical-align: top;\n",
       "    }\n",
       "</style>\n",
       "<table border=\"1\" class=\"dataframe\">\n",
       "  <thead>\n",
       "    <tr style=\"text-align: right;\">\n",
       "      <th></th>\n",
       "      <th>sum</th>\n",
       "      <th>count</th>\n",
       "      <th>mean</th>\n",
       "    </tr>\n",
       "    <tr>\n",
       "      <th>PrimaryDx</th>\n",
       "      <th></th>\n",
       "      <th></th>\n",
       "      <th></th>\n",
       "    </tr>\n",
       "  </thead>\n",
       "  <tbody>\n",
       "    <tr>\n",
       "      <th>J44</th>\n",
       "      <td>264</td>\n",
       "      <td>805</td>\n",
       "      <td>0.327950</td>\n",
       "    </tr>\n",
       "    <tr>\n",
       "      <th>I50</th>\n",
       "      <td>284</td>\n",
       "      <td>943</td>\n",
       "      <td>0.301166</td>\n",
       "    </tr>\n",
       "    <tr>\n",
       "      <th>A41</th>\n",
       "      <td>295</td>\n",
       "      <td>1171</td>\n",
       "      <td>0.251921</td>\n",
       "    </tr>\n",
       "    <tr>\n",
       "      <th>N18</th>\n",
       "      <td>275</td>\n",
       "      <td>1498</td>\n",
       "      <td>0.183578</td>\n",
       "    </tr>\n",
       "    <tr>\n",
       "      <th>E11</th>\n",
       "      <td>260</td>\n",
       "      <td>1422</td>\n",
       "      <td>0.182841</td>\n",
       "    </tr>\n",
       "    <tr>\n",
       "      <th>N39</th>\n",
       "      <td>0</td>\n",
       "      <td>10</td>\n",
       "      <td>0.000000</td>\n",
       "    </tr>\n",
       "  </tbody>\n",
       "</table>\n",
       "</div>"
      ],
      "text/plain": [
       "           sum  count      mean\n",
       "PrimaryDx                      \n",
       "J44        264    805  0.327950\n",
       "I50        284    943  0.301166\n",
       "A41        295   1171  0.251921\n",
       "N18        275   1498  0.183578\n",
       "E11        260   1422  0.182841\n",
       "N39          0     10  0.000000"
      ]
     },
     "execution_count": 743,
     "metadata": {},
     "output_type": "execute_result"
    }
   ],
   "source": [
    "full.groupby(['PrimaryDx'])['<=30Days'].agg({'sum':'sum','count':'count','mean':'mean'}).sort_values(by='mean',ascending=False)\n"
   ]
  },
  {
   "cell_type": "code",
   "execution_count": 744,
   "metadata": {},
   "outputs": [
    {
     "name": "stderr",
     "output_type": "stream",
     "text": [
      "/Users/xbno/anaconda3/lib/python3.6/site-packages/ipykernel_launcher.py:1: FutureWarning: using a dict on a Series for aggregation\n",
      "is deprecated and will be removed in a future version\n",
      "  \"\"\"Entry point for launching an IPython kernel.\n"
     ]
    },
    {
     "data": {
      "text/html": [
       "<div>\n",
       "<style>\n",
       "    .dataframe thead tr:only-child th {\n",
       "        text-align: right;\n",
       "    }\n",
       "\n",
       "    .dataframe thead th {\n",
       "        text-align: left;\n",
       "    }\n",
       "\n",
       "    .dataframe tbody tr th {\n",
       "        vertical-align: top;\n",
       "    }\n",
       "</style>\n",
       "<table border=\"1\" class=\"dataframe\">\n",
       "  <thead>\n",
       "    <tr style=\"text-align: right;\">\n",
       "      <th></th>\n",
       "      <th>sum</th>\n",
       "      <th>count</th>\n",
       "      <th>mean</th>\n",
       "    </tr>\n",
       "    <tr>\n",
       "      <th>Dx2</th>\n",
       "      <th></th>\n",
       "      <th></th>\n",
       "      <th></th>\n",
       "    </tr>\n",
       "  </thead>\n",
       "  <tbody>\n",
       "    <tr>\n",
       "      <th>I51</th>\n",
       "      <td>151</td>\n",
       "      <td>423</td>\n",
       "      <td>0.356974</td>\n",
       "    </tr>\n",
       "    <tr>\n",
       "      <th>E86</th>\n",
       "      <td>137</td>\n",
       "      <td>388</td>\n",
       "      <td>0.353093</td>\n",
       "    </tr>\n",
       "    <tr>\n",
       "      <th>W19</th>\n",
       "      <td>111</td>\n",
       "      <td>318</td>\n",
       "      <td>0.349057</td>\n",
       "    </tr>\n",
       "    <tr>\n",
       "      <th>E11</th>\n",
       "      <td>111</td>\n",
       "      <td>357</td>\n",
       "      <td>0.310924</td>\n",
       "    </tr>\n",
       "    <tr>\n",
       "      <th>R41</th>\n",
       "      <td>133</td>\n",
       "      <td>448</td>\n",
       "      <td>0.296875</td>\n",
       "    </tr>\n",
       "    <tr>\n",
       "      <th>F19</th>\n",
       "      <td>124</td>\n",
       "      <td>425</td>\n",
       "      <td>0.291765</td>\n",
       "    </tr>\n",
       "    <tr>\n",
       "      <th>F05</th>\n",
       "      <td>120</td>\n",
       "      <td>517</td>\n",
       "      <td>0.232108</td>\n",
       "    </tr>\n",
       "    <tr>\n",
       "      <th>G31</th>\n",
       "      <td>131</td>\n",
       "      <td>626</td>\n",
       "      <td>0.209265</td>\n",
       "    </tr>\n",
       "    <tr>\n",
       "      <th>T88</th>\n",
       "      <td>131</td>\n",
       "      <td>830</td>\n",
       "      <td>0.157831</td>\n",
       "    </tr>\n",
       "    <tr>\n",
       "      <th>R39</th>\n",
       "      <td>120</td>\n",
       "      <td>764</td>\n",
       "      <td>0.157068</td>\n",
       "    </tr>\n",
       "    <tr>\n",
       "      <th>F03</th>\n",
       "      <td>109</td>\n",
       "      <td>748</td>\n",
       "      <td>0.145722</td>\n",
       "    </tr>\n",
       "    <tr>\n",
       "      <th>M54</th>\n",
       "      <td>0</td>\n",
       "      <td>5</td>\n",
       "      <td>0.000000</td>\n",
       "    </tr>\n",
       "  </tbody>\n",
       "</table>\n",
       "</div>"
      ],
      "text/plain": [
       "     sum  count      mean\n",
       "Dx2                      \n",
       "I51  151    423  0.356974\n",
       "E86  137    388  0.353093\n",
       "W19  111    318  0.349057\n",
       "E11  111    357  0.310924\n",
       "R41  133    448  0.296875\n",
       "F19  124    425  0.291765\n",
       "F05  120    517  0.232108\n",
       "G31  131    626  0.209265\n",
       "T88  131    830  0.157831\n",
       "R39  120    764  0.157068\n",
       "F03  109    748  0.145722\n",
       "M54    0      5  0.000000"
      ]
     },
     "execution_count": 744,
     "metadata": {},
     "output_type": "execute_result"
    }
   ],
   "source": [
    "full.groupby(['Dx2'])['<=30Days'].agg({'sum':'sum','count':'count','mean':'mean'}).sort_values(by='mean',ascending=False)"
   ]
  },
  {
   "cell_type": "code",
   "execution_count": 745,
   "metadata": {},
   "outputs": [
    {
     "name": "stderr",
     "output_type": "stream",
     "text": [
      "/Users/xbno/anaconda3/lib/python3.6/site-packages/ipykernel_launcher.py:1: FutureWarning: using a dict on a Series for aggregation\n",
      "is deprecated and will be removed in a future version\n",
      "  \"\"\"Entry point for launching an IPython kernel.\n"
     ]
    },
    {
     "data": {
      "text/html": [
       "<div>\n",
       "<style>\n",
       "    .dataframe thead tr:only-child th {\n",
       "        text-align: right;\n",
       "    }\n",
       "\n",
       "    .dataframe thead th {\n",
       "        text-align: left;\n",
       "    }\n",
       "\n",
       "    .dataframe tbody tr th {\n",
       "        vertical-align: top;\n",
       "    }\n",
       "</style>\n",
       "<table border=\"1\" class=\"dataframe\">\n",
       "  <thead>\n",
       "    <tr style=\"text-align: right;\">\n",
       "      <th></th>\n",
       "      <th>sum</th>\n",
       "      <th>count</th>\n",
       "      <th>mean</th>\n",
       "    </tr>\n",
       "    <tr>\n",
       "      <th>Dx3</th>\n",
       "      <th></th>\n",
       "      <th></th>\n",
       "      <th></th>\n",
       "    </tr>\n",
       "  </thead>\n",
       "  <tbody>\n",
       "    <tr>\n",
       "      <th>J18</th>\n",
       "      <td>38</td>\n",
       "      <td>132</td>\n",
       "      <td>0.287879</td>\n",
       "    </tr>\n",
       "    <tr>\n",
       "      <th>H91</th>\n",
       "      <td>37</td>\n",
       "      <td>129</td>\n",
       "      <td>0.286822</td>\n",
       "    </tr>\n",
       "    <tr>\n",
       "      <th>E56</th>\n",
       "      <td>37</td>\n",
       "      <td>134</td>\n",
       "      <td>0.276119</td>\n",
       "    </tr>\n",
       "    <tr>\n",
       "      <th>G89</th>\n",
       "      <td>32</td>\n",
       "      <td>125</td>\n",
       "      <td>0.256000</td>\n",
       "    </tr>\n",
       "    <tr>\n",
       "      <th>E11</th>\n",
       "      <td>74</td>\n",
       "      <td>299</td>\n",
       "      <td>0.247492</td>\n",
       "    </tr>\n",
       "    <tr>\n",
       "      <th>R05</th>\n",
       "      <td>36</td>\n",
       "      <td>147</td>\n",
       "      <td>0.244898</td>\n",
       "    </tr>\n",
       "    <tr>\n",
       "      <th></th>\n",
       "      <td>928</td>\n",
       "      <td>3910</td>\n",
       "      <td>0.237340</td>\n",
       "    </tr>\n",
       "    <tr>\n",
       "      <th>R26</th>\n",
       "      <td>29</td>\n",
       "      <td>125</td>\n",
       "      <td>0.232000</td>\n",
       "    </tr>\n",
       "    <tr>\n",
       "      <th>H53</th>\n",
       "      <td>32</td>\n",
       "      <td>146</td>\n",
       "      <td>0.219178</td>\n",
       "    </tr>\n",
       "    <tr>\n",
       "      <th>R51</th>\n",
       "      <td>61</td>\n",
       "      <td>287</td>\n",
       "      <td>0.212544</td>\n",
       "    </tr>\n",
       "    <tr>\n",
       "      <th>J45</th>\n",
       "      <td>26</td>\n",
       "      <td>136</td>\n",
       "      <td>0.191176</td>\n",
       "    </tr>\n",
       "    <tr>\n",
       "      <th>I10</th>\n",
       "      <td>27</td>\n",
       "      <td>144</td>\n",
       "      <td>0.187500</td>\n",
       "    </tr>\n",
       "    <tr>\n",
       "      <th>M54</th>\n",
       "      <td>21</td>\n",
       "      <td>135</td>\n",
       "      <td>0.155556</td>\n",
       "    </tr>\n",
       "  </tbody>\n",
       "</table>\n",
       "</div>"
      ],
      "text/plain": [
       "     sum  count      mean\n",
       "Dx3                      \n",
       "J18   38    132  0.287879\n",
       "H91   37    129  0.286822\n",
       "E56   37    134  0.276119\n",
       "G89   32    125  0.256000\n",
       "E11   74    299  0.247492\n",
       "R05   36    147  0.244898\n",
       "     928   3910  0.237340\n",
       "R26   29    125  0.232000\n",
       "H53   32    146  0.219178\n",
       "R51   61    287  0.212544\n",
       "J45   26    136  0.191176\n",
       "I10   27    144  0.187500\n",
       "M54   21    135  0.155556"
      ]
     },
     "execution_count": 745,
     "metadata": {},
     "output_type": "execute_result"
    }
   ],
   "source": [
    "full.groupby(['Dx3'])['<=30Days'].agg({'sum':'sum','count':'count','mean':'mean'}).sort_values(by='mean',ascending=False)\n"
   ]
  },
  {
   "cell_type": "markdown",
   "metadata": {},
   "source": [
    "Age:\n",
    "    - There is a sharp drop off in readmittance rate in the low to mid 70s\n",
    "    - Late 70s and onward there is a 6% higher chance that you'll be readmitted"
   ]
  },
  {
   "cell_type": "code",
   "execution_count": 746,
   "metadata": {},
   "outputs": [
    {
     "name": "stderr",
     "output_type": "stream",
     "text": [
      "/Users/xbno/anaconda3/lib/python3.6/site-packages/ipykernel_launcher.py:1: FutureWarning: using a dict on a Series for aggregation\n",
      "is deprecated and will be removed in a future version\n",
      "  \"\"\"Entry point for launching an IPython kernel.\n"
     ]
    },
    {
     "data": {
      "text/plain": [
       "<matplotlib.text.Text at 0x1a20349588>"
      ]
     },
     "execution_count": 746,
     "metadata": {},
     "output_type": "execute_result"
    },
    {
     "data": {
      "image/png": "[encoded data removed]",
      "text/plain": [
       "<matplotlib.figure.Figure at 0x1a204fff60>"
      ]
     },
     "metadata": {},
     "output_type": "display_data"
    }
   ],
   "source": [
    "full.groupby(['Age'])['<=30Days'].agg({'sum':'sum','count':'count','mean':'mean'})['mean'].plot(kind='bar',figsize=(12,4))\n",
    "plt.title('Readmittance rate by Age',size=15)\n",
    "plt.ylabel('readmitted rate')"
   ]
  },
  {
   "cell_type": "code",
   "execution_count": 747,
   "metadata": {},
   "outputs": [
    {
     "name": "stderr",
     "output_type": "stream",
     "text": [
      "/Users/xbno/anaconda3/lib/python3.6/site-packages/ipykernel_launcher.py:1: FutureWarning: using a dict on a Series for aggregation\n",
      "is deprecated and will be removed in a future version\n",
      "  \"\"\"Entry point for launching an IPython kernel.\n"
     ]
    },
    {
     "data": {
      "text/html": [
       "<div>\n",
       "<style>\n",
       "    .dataframe thead tr:only-child th {\n",
       "        text-align: right;\n",
       "    }\n",
       "\n",
       "    .dataframe thead th {\n",
       "        text-align: left;\n",
       "    }\n",
       "\n",
       "    .dataframe tbody tr th {\n",
       "        vertical-align: top;\n",
       "    }\n",
       "</style>\n",
       "<table border=\"1\" class=\"dataframe\">\n",
       "  <thead>\n",
       "    <tr style=\"text-align: right;\">\n",
       "      <th></th>\n",
       "      <th>sum</th>\n",
       "      <th>count</th>\n",
       "      <th>mean</th>\n",
       "    </tr>\n",
       "    <tr>\n",
       "      <th>Age</th>\n",
       "      <th></th>\n",
       "      <th></th>\n",
       "      <th></th>\n",
       "    </tr>\n",
       "  </thead>\n",
       "  <tbody>\n",
       "    <tr>\n",
       "      <th>88</th>\n",
       "      <td>14</td>\n",
       "      <td>39</td>\n",
       "      <td>0.358974</td>\n",
       "    </tr>\n",
       "    <tr>\n",
       "      <th>87</th>\n",
       "      <td>28</td>\n",
       "      <td>80</td>\n",
       "      <td>0.350000</td>\n",
       "    </tr>\n",
       "    <tr>\n",
       "      <th>85</th>\n",
       "      <td>45</td>\n",
       "      <td>129</td>\n",
       "      <td>0.348837</td>\n",
       "    </tr>\n",
       "    <tr>\n",
       "      <th>81</th>\n",
       "      <td>84</td>\n",
       "      <td>244</td>\n",
       "      <td>0.344262</td>\n",
       "    </tr>\n",
       "    <tr>\n",
       "      <th>86</th>\n",
       "      <td>32</td>\n",
       "      <td>97</td>\n",
       "      <td>0.329897</td>\n",
       "    </tr>\n",
       "    <tr>\n",
       "      <th>89</th>\n",
       "      <td>13</td>\n",
       "      <td>41</td>\n",
       "      <td>0.317073</td>\n",
       "    </tr>\n",
       "    <tr>\n",
       "      <th>84</th>\n",
       "      <td>46</td>\n",
       "      <td>146</td>\n",
       "      <td>0.315068</td>\n",
       "    </tr>\n",
       "    <tr>\n",
       "      <th>90</th>\n",
       "      <td>31</td>\n",
       "      <td>99</td>\n",
       "      <td>0.313131</td>\n",
       "    </tr>\n",
       "    <tr>\n",
       "      <th>77</th>\n",
       "      <td>130</td>\n",
       "      <td>418</td>\n",
       "      <td>0.311005</td>\n",
       "    </tr>\n",
       "    <tr>\n",
       "      <th>78</th>\n",
       "      <td>103</td>\n",
       "      <td>332</td>\n",
       "      <td>0.310241</td>\n",
       "    </tr>\n",
       "    <tr>\n",
       "      <th>79</th>\n",
       "      <td>111</td>\n",
       "      <td>367</td>\n",
       "      <td>0.302452</td>\n",
       "    </tr>\n",
       "    <tr>\n",
       "      <th>83</th>\n",
       "      <td>57</td>\n",
       "      <td>191</td>\n",
       "      <td>0.298429</td>\n",
       "    </tr>\n",
       "    <tr>\n",
       "      <th>80</th>\n",
       "      <td>89</td>\n",
       "      <td>301</td>\n",
       "      <td>0.295681</td>\n",
       "    </tr>\n",
       "    <tr>\n",
       "      <th>82</th>\n",
       "      <td>55</td>\n",
       "      <td>187</td>\n",
       "      <td>0.294118</td>\n",
       "    </tr>\n",
       "    <tr>\n",
       "      <th>75</th>\n",
       "      <td>121</td>\n",
       "      <td>414</td>\n",
       "      <td>0.292271</td>\n",
       "    </tr>\n",
       "    <tr>\n",
       "      <th>76</th>\n",
       "      <td>97</td>\n",
       "      <td>373</td>\n",
       "      <td>0.260054</td>\n",
       "    </tr>\n",
       "    <tr>\n",
       "      <th>73</th>\n",
       "      <td>100</td>\n",
       "      <td>391</td>\n",
       "      <td>0.255754</td>\n",
       "    </tr>\n",
       "    <tr>\n",
       "      <th>74</th>\n",
       "      <td>96</td>\n",
       "      <td>380</td>\n",
       "      <td>0.252632</td>\n",
       "    </tr>\n",
       "    <tr>\n",
       "      <th>72</th>\n",
       "      <td>66</td>\n",
       "      <td>341</td>\n",
       "      <td>0.193548</td>\n",
       "    </tr>\n",
       "    <tr>\n",
       "      <th>71</th>\n",
       "      <td>34</td>\n",
       "      <td>282</td>\n",
       "      <td>0.120567</td>\n",
       "    </tr>\n",
       "    <tr>\n",
       "      <th>70</th>\n",
       "      <td>13</td>\n",
       "      <td>223</td>\n",
       "      <td>0.058296</td>\n",
       "    </tr>\n",
       "    <tr>\n",
       "      <th>69</th>\n",
       "      <td>12</td>\n",
       "      <td>229</td>\n",
       "      <td>0.052402</td>\n",
       "    </tr>\n",
       "    <tr>\n",
       "      <th>68</th>\n",
       "      <td>1</td>\n",
       "      <td>216</td>\n",
       "      <td>0.004630</td>\n",
       "    </tr>\n",
       "    <tr>\n",
       "      <th>66</th>\n",
       "      <td>0</td>\n",
       "      <td>119</td>\n",
       "      <td>0.000000</td>\n",
       "    </tr>\n",
       "    <tr>\n",
       "      <th>67</th>\n",
       "      <td>0</td>\n",
       "      <td>196</td>\n",
       "      <td>0.000000</td>\n",
       "    </tr>\n",
       "    <tr>\n",
       "      <th>65</th>\n",
       "      <td>0</td>\n",
       "      <td>14</td>\n",
       "      <td>0.000000</td>\n",
       "    </tr>\n",
       "  </tbody>\n",
       "</table>\n",
       "</div>"
      ],
      "text/plain": [
       "     sum  count      mean\n",
       "Age                      \n",
       "88    14     39  0.358974\n",
       "87    28     80  0.350000\n",
       "85    45    129  0.348837\n",
       "81    84    244  0.344262\n",
       "86    32     97  0.329897\n",
       "89    13     41  0.317073\n",
       "84    46    146  0.315068\n",
       "90    31     99  0.313131\n",
       "77   130    418  0.311005\n",
       "78   103    332  0.310241\n",
       "79   111    367  0.302452\n",
       "83    57    191  0.298429\n",
       "80    89    301  0.295681\n",
       "82    55    187  0.294118\n",
       "75   121    414  0.292271\n",
       "76    97    373  0.260054\n",
       "73   100    391  0.255754\n",
       "74    96    380  0.252632\n",
       "72    66    341  0.193548\n",
       "71    34    282  0.120567\n",
       "70    13    223  0.058296\n",
       "69    12    229  0.052402\n",
       "68     1    216  0.004630\n",
       "66     0    119  0.000000\n",
       "67     0    196  0.000000\n",
       "65     0     14  0.000000"
      ]
     },
     "execution_count": 747,
     "metadata": {},
     "output_type": "execute_result"
    }
   ],
   "source": [
    "full.groupby(['Age'])['<=30Days'].agg({'sum':'sum','count':'count','mean':'mean'}).sort_values(by='mean',ascending=False)"
   ]
  },
  {
   "cell_type": "code",
   "execution_count": 748,
   "metadata": {},
   "outputs": [
    {
     "name": "stderr",
     "output_type": "stream",
     "text": [
      "/Users/xbno/anaconda3/lib/python3.6/site-packages/ipykernel_launcher.py:1: FutureWarning: using a dict on a Series for aggregation\n",
      "is deprecated and will be removed in a future version\n",
      "  \"\"\"Entry point for launching an IPython kernel.\n"
     ]
    },
    {
     "data": {
      "text/html": [
       "<div>\n",
       "<style>\n",
       "    .dataframe thead tr:only-child th {\n",
       "        text-align: right;\n",
       "    }\n",
       "\n",
       "    .dataframe thead th {\n",
       "        text-align: left;\n",
       "    }\n",
       "\n",
       "    .dataframe tbody tr th {\n",
       "        vertical-align: top;\n",
       "    }\n",
       "</style>\n",
       "<table border=\"1\" class=\"dataframe\">\n",
       "  <thead>\n",
       "    <tr style=\"text-align: right;\">\n",
       "      <th></th>\n",
       "      <th>sum</th>\n",
       "      <th>count</th>\n",
       "      <th>mean</th>\n",
       "    </tr>\n",
       "    <tr>\n",
       "      <th>PastPCPVisits</th>\n",
       "      <th></th>\n",
       "      <th></th>\n",
       "      <th></th>\n",
       "    </tr>\n",
       "  </thead>\n",
       "  <tbody>\n",
       "    <tr>\n",
       "      <th>32</th>\n",
       "      <td>1</td>\n",
       "      <td>1</td>\n",
       "      <td>1.000000</td>\n",
       "    </tr>\n",
       "    <tr>\n",
       "      <th>22</th>\n",
       "      <td>34</td>\n",
       "      <td>58</td>\n",
       "      <td>0.586207</td>\n",
       "    </tr>\n",
       "    <tr>\n",
       "      <th>23</th>\n",
       "      <td>12</td>\n",
       "      <td>21</td>\n",
       "      <td>0.571429</td>\n",
       "    </tr>\n",
       "    <tr>\n",
       "      <th>21</th>\n",
       "      <td>49</td>\n",
       "      <td>93</td>\n",
       "      <td>0.526882</td>\n",
       "    </tr>\n",
       "    <tr>\n",
       "      <th>24</th>\n",
       "      <td>8</td>\n",
       "      <td>16</td>\n",
       "      <td>0.500000</td>\n",
       "    </tr>\n",
       "    <tr>\n",
       "      <th>15</th>\n",
       "      <td>110</td>\n",
       "      <td>307</td>\n",
       "      <td>0.358306</td>\n",
       "    </tr>\n",
       "    <tr>\n",
       "      <th>20</th>\n",
       "      <td>48</td>\n",
       "      <td>135</td>\n",
       "      <td>0.355556</td>\n",
       "    </tr>\n",
       "    <tr>\n",
       "      <th>28</th>\n",
       "      <td>1</td>\n",
       "      <td>3</td>\n",
       "      <td>0.333333</td>\n",
       "    </tr>\n",
       "    <tr>\n",
       "      <th>19</th>\n",
       "      <td>70</td>\n",
       "      <td>213</td>\n",
       "      <td>0.328638</td>\n",
       "    </tr>\n",
       "    <tr>\n",
       "      <th>13</th>\n",
       "      <td>125</td>\n",
       "      <td>385</td>\n",
       "      <td>0.324675</td>\n",
       "    </tr>\n",
       "    <tr>\n",
       "      <th>14</th>\n",
       "      <td>96</td>\n",
       "      <td>306</td>\n",
       "      <td>0.313725</td>\n",
       "    </tr>\n",
       "    <tr>\n",
       "      <th>18</th>\n",
       "      <td>70</td>\n",
       "      <td>234</td>\n",
       "      <td>0.299145</td>\n",
       "    </tr>\n",
       "    <tr>\n",
       "      <th>17</th>\n",
       "      <td>73</td>\n",
       "      <td>267</td>\n",
       "      <td>0.273408</td>\n",
       "    </tr>\n",
       "    <tr>\n",
       "      <th>12</th>\n",
       "      <td>98</td>\n",
       "      <td>371</td>\n",
       "      <td>0.264151</td>\n",
       "    </tr>\n",
       "    <tr>\n",
       "      <th>27</th>\n",
       "      <td>1</td>\n",
       "      <td>4</td>\n",
       "      <td>0.250000</td>\n",
       "    </tr>\n",
       "    <tr>\n",
       "      <th>11</th>\n",
       "      <td>97</td>\n",
       "      <td>391</td>\n",
       "      <td>0.248082</td>\n",
       "    </tr>\n",
       "    <tr>\n",
       "      <th>10</th>\n",
       "      <td>90</td>\n",
       "      <td>366</td>\n",
       "      <td>0.245902</td>\n",
       "    </tr>\n",
       "    <tr>\n",
       "      <th>16</th>\n",
       "      <td>70</td>\n",
       "      <td>290</td>\n",
       "      <td>0.241379</td>\n",
       "    </tr>\n",
       "    <tr>\n",
       "      <th>9</th>\n",
       "      <td>85</td>\n",
       "      <td>374</td>\n",
       "      <td>0.227273</td>\n",
       "    </tr>\n",
       "    <tr>\n",
       "      <th>8</th>\n",
       "      <td>57</td>\n",
       "      <td>330</td>\n",
       "      <td>0.172727</td>\n",
       "    </tr>\n",
       "    <tr>\n",
       "      <th>5</th>\n",
       "      <td>43</td>\n",
       "      <td>285</td>\n",
       "      <td>0.150877</td>\n",
       "    </tr>\n",
       "    <tr>\n",
       "      <th>7</th>\n",
       "      <td>48</td>\n",
       "      <td>328</td>\n",
       "      <td>0.146341</td>\n",
       "    </tr>\n",
       "    <tr>\n",
       "      <th>25</th>\n",
       "      <td>1</td>\n",
       "      <td>7</td>\n",
       "      <td>0.142857</td>\n",
       "    </tr>\n",
       "    <tr>\n",
       "      <th>6</th>\n",
       "      <td>39</td>\n",
       "      <td>307</td>\n",
       "      <td>0.127036</td>\n",
       "    </tr>\n",
       "    <tr>\n",
       "      <th>26</th>\n",
       "      <td>1</td>\n",
       "      <td>8</td>\n",
       "      <td>0.125000</td>\n",
       "    </tr>\n",
       "    <tr>\n",
       "      <th>4</th>\n",
       "      <td>28</td>\n",
       "      <td>266</td>\n",
       "      <td>0.105263</td>\n",
       "    </tr>\n",
       "    <tr>\n",
       "      <th>3</th>\n",
       "      <td>23</td>\n",
       "      <td>248</td>\n",
       "      <td>0.092742</td>\n",
       "    </tr>\n",
       "    <tr>\n",
       "      <th>30</th>\n",
       "      <td>0</td>\n",
       "      <td>1</td>\n",
       "      <td>0.000000</td>\n",
       "    </tr>\n",
       "    <tr>\n",
       "      <th>31</th>\n",
       "      <td>0</td>\n",
       "      <td>1</td>\n",
       "      <td>0.000000</td>\n",
       "    </tr>\n",
       "    <tr>\n",
       "      <th>1</th>\n",
       "      <td>0</td>\n",
       "      <td>75</td>\n",
       "      <td>0.000000</td>\n",
       "    </tr>\n",
       "    <tr>\n",
       "      <th>29</th>\n",
       "      <td>0</td>\n",
       "      <td>2</td>\n",
       "      <td>0.000000</td>\n",
       "    </tr>\n",
       "    <tr>\n",
       "      <th>2</th>\n",
       "      <td>0</td>\n",
       "      <td>155</td>\n",
       "      <td>0.000000</td>\n",
       "    </tr>\n",
       "    <tr>\n",
       "      <th>34</th>\n",
       "      <td>0</td>\n",
       "      <td>1</td>\n",
       "      <td>0.000000</td>\n",
       "    </tr>\n",
       "  </tbody>\n",
       "</table>\n",
       "</div>"
      ],
      "text/plain": [
       "               sum  count      mean\n",
       "PastPCPVisits                      \n",
       "32               1      1  1.000000\n",
       "22              34     58  0.586207\n",
       "23              12     21  0.571429\n",
       "21              49     93  0.526882\n",
       "24               8     16  0.500000\n",
       "15             110    307  0.358306\n",
       "20              48    135  0.355556\n",
       "28               1      3  0.333333\n",
       "19              70    213  0.328638\n",
       "13             125    385  0.324675\n",
       "14              96    306  0.313725\n",
       "18              70    234  0.299145\n",
       "17              73    267  0.273408\n",
       "12              98    371  0.264151\n",
       "27               1      4  0.250000\n",
       "11              97    391  0.248082\n",
       "10              90    366  0.245902\n",
       "16              70    290  0.241379\n",
       "9               85    374  0.227273\n",
       "8               57    330  0.172727\n",
       "5               43    285  0.150877\n",
       "7               48    328  0.146341\n",
       "25               1      7  0.142857\n",
       "6               39    307  0.127036\n",
       "26               1      8  0.125000\n",
       "4               28    266  0.105263\n",
       "3               23    248  0.092742\n",
       "30               0      1  0.000000\n",
       "31               0      1  0.000000\n",
       "1                0     75  0.000000\n",
       "29               0      2  0.000000\n",
       "2                0    155  0.000000\n",
       "34               0      1  0.000000"
      ]
     },
     "execution_count": 748,
     "metadata": {},
     "output_type": "execute_result"
    }
   ],
   "source": [
    "full.groupby(['PastPCPVisits'])['<=30Days'].agg({'sum':'sum','count':'count','mean':'mean'}).sort_values(by='mean',ascending=False)\n"
   ]
  },
  {
   "cell_type": "markdown",
   "metadata": {},
   "source": [
    "#### Split into Train, Test\n",
    "\n",
    "There are no variables which look ordinal so create onehot encodings of categorical variables. "
   ]
  },
  {
   "cell_type": "code",
   "execution_count": 749,
   "metadata": {
    "collapsed": true
   },
   "outputs": [],
   "source": [
    "full_orig = full.copy()"
   ]
  },
  {
   "cell_type": "code",
   "execution_count": 750,
   "metadata": {
    "collapsed": true
   },
   "outputs": [],
   "source": [
    "full = full.set_index('AdmitDate')"
   ]
  },
  {
   "cell_type": "code",
   "execution_count": 751,
   "metadata": {
    "collapsed": true
   },
   "outputs": [],
   "source": [
    "for col in [col for col in full.columns if full[col].dtype == 'object' and 'Patient' not in col]:\n",
    "    dummies = pd.get_dummies(full[col],prefix=col)\n",
    "    full.drop(col,axis=1,inplace=True)\n",
    "    full = pd.concat([full,dummies],axis=1)    "
   ]
  },
  {
   "cell_type": "code",
   "execution_count": 752,
   "metadata": {},
   "outputs": [
    {
     "name": "stdout",
     "output_type": "stream",
     "text": [
      "<class 'pandas.core.frame.DataFrame'>\n",
      "DatetimeIndex: 5849 entries, 2015-09-12 to 2016-09-11\n",
      "Data columns (total 40 columns):\n",
      "Patient               5849 non-null object\n",
      "LOS                   5849 non-null int64\n",
      "Age                   5849 non-null int64\n",
      "PastPCPVisits         5849 non-null int64\n",
      "Readmitted            5849 non-null int64\n",
      "DaysSinceAdmission    1932 non-null timedelta64[ns]\n",
      "<=30Days              5849 non-null int64\n",
      "Gender_F              5849 non-null uint8\n",
      "Gender_M              5849 non-null uint8\n",
      "PrimaryDx_A41         5849 non-null uint8\n",
      "PrimaryDx_E11         5849 non-null uint8\n",
      "PrimaryDx_I50         5849 non-null uint8\n",
      "PrimaryDx_J44         5849 non-null uint8\n",
      "PrimaryDx_N18         5849 non-null uint8\n",
      "PrimaryDx_N39         5849 non-null uint8\n",
      "Dx2_E11               5849 non-null uint8\n",
      "Dx2_E86               5849 non-null uint8\n",
      "Dx2_F03               5849 non-null uint8\n",
      "Dx2_F05               5849 non-null uint8\n",
      "Dx2_F19               5849 non-null uint8\n",
      "Dx2_G31               5849 non-null uint8\n",
      "Dx2_I51               5849 non-null uint8\n",
      "Dx2_M54               5849 non-null uint8\n",
      "Dx2_R39               5849 non-null uint8\n",
      "Dx2_R41               5849 non-null uint8\n",
      "Dx2_T88               5849 non-null uint8\n",
      "Dx2_W19               5849 non-null uint8\n",
      "Dx3_                  5849 non-null uint8\n",
      "Dx3_E11               5849 non-null uint8\n",
      "Dx3_E56               5849 non-null uint8\n",
      "Dx3_G89               5849 non-null uint8\n",
      "Dx3_H53               5849 non-null uint8\n",
      "Dx3_H91               5849 non-null uint8\n",
      "Dx3_I10               5849 non-null uint8\n",
      "Dx3_J18               5849 non-null uint8\n",
      "Dx3_J45               5849 non-null uint8\n",
      "Dx3_M54               5849 non-null uint8\n",
      "Dx3_R05               5849 non-null uint8\n",
      "Dx3_R26               5849 non-null uint8\n",
      "Dx3_R51               5849 non-null uint8\n",
      "dtypes: int64(5), object(1), timedelta64[ns](1), uint8(33)\n",
      "memory usage: 554.1+ KB\n"
     ]
    }
   ],
   "source": [
    "full.info()"
   ]
  },
  {
   "cell_type": "code",
   "execution_count": 753,
   "metadata": {
    "collapsed": true
   },
   "outputs": [],
   "source": [
    "train = full['2015']\n",
    "test = full['2016']"
   ]
  },
  {
   "cell_type": "code",
   "execution_count": 754,
   "metadata": {},
   "outputs": [
    {
     "name": "stdout",
     "output_type": "stream",
     "text": [
      "train: 2856 rows and 40 columns\n",
      "test: 2938 rows and 40 columns\n"
     ]
    }
   ],
   "source": [
    "print('train: {} rows and {} columns'.format(*train.shape))\n",
    "print('test: {} rows and {} columns'.format(*test.shape))"
   ]
  },
  {
   "cell_type": "code",
   "execution_count": 755,
   "metadata": {
    "collapsed": true
   },
   "outputs": [],
   "source": [
    "#[col for col in train.columns]"
   ]
  },
  {
   "cell_type": "code",
   "execution_count": 756,
   "metadata": {
    "collapsed": true
   },
   "outputs": [],
   "source": [
    "X_train = train.drop(['Patient','Readmitted','DaysSinceAdmission','<=30Days'],axis=1)\n",
    "y_train = train['<=30Days']\n",
    "X_test = test.drop(['Patient','Readmitted','DaysSinceAdmission','<=30Days'],axis=1)\n",
    "y_test = test['<=30Days']"
   ]
  },
  {
   "cell_type": "markdown",
   "metadata": {},
   "source": [
    "#### Model\n",
    "\n",
    "This is a binary classification problem so usually start with a simple logistic regression model. I'm going to use the f1_score which is a mixture of precision and recall to evaluate which model does better. This will lead to a more stable classifier than using accuracy or precision or recall alone. \n",
    "\n",
    "In fact the accuracy of the logistic regression is slightly higher than the random forest however its f1_score is more desireable."
   ]
  },
  {
   "cell_type": "code",
   "execution_count": 260,
   "metadata": {
    "collapsed": true
   },
   "outputs": [],
   "source": [
    "from sklearn.linear_model import LogisticRegression\n",
    "from sklearn.ensemble import RandomForestClassifier\n",
    "from sklearn.metrics import confusion_matrix, f1_score\n",
    "from sklearn.cross_validation import cross_val_score"
   ]
  },
  {
   "cell_type": "code",
   "execution_count": 162,
   "metadata": {
    "collapsed": true
   },
   "outputs": [],
   "source": [
    "def accuracy(true,pred):\n",
    "    correct = 0\n",
    "    pred_len = len(pred)\n",
    "    for i in range(pred_len):\n",
    "        if pred[i] == true[i]:\n",
    "            correct += 1\n",
    "    return correct/pred_len"
   ]
  },
  {
   "cell_type": "code",
   "execution_count": 152,
   "metadata": {
    "collapsed": true
   },
   "outputs": [],
   "source": [
    "lr = LogisticRegression()\n",
    "lr.fit(X_train,y_train)\n",
    "lr_pred = lr.predict(X_test)"
   ]
  },
  {
   "cell_type": "code",
   "execution_count": 155,
   "metadata": {},
   "outputs": [
    {
     "data": {
      "text/plain": [
       "array([[2068,  179],\n",
       "       [ 520,  171]])"
      ]
     },
     "execution_count": 155,
     "metadata": {},
     "output_type": "execute_result"
    }
   ],
   "source": [
    "confusion_matrix(y_test,lr_pred)"
   ]
  },
  {
   "cell_type": "code",
   "execution_count": 159,
   "metadata": {},
   "outputs": [
    {
     "data": {
      "text/plain": [
       "0.32853025936599423"
      ]
     },
     "execution_count": 159,
     "metadata": {},
     "output_type": "execute_result"
    }
   ],
   "source": [
    "f1_score(y_test,lr_pred)"
   ]
  },
  {
   "cell_type": "code",
   "execution_count": 163,
   "metadata": {},
   "outputs": [
    {
     "data": {
      "text/plain": [
       "0.7620830496936691"
      ]
     },
     "execution_count": 163,
     "metadata": {},
     "output_type": "execute_result"
    }
   ],
   "source": [
    "accuracy(y_test,lr_pred)"
   ]
  },
  {
   "cell_type": "code",
   "execution_count": 171,
   "metadata": {},
   "outputs": [
    {
     "data": {
      "text/plain": [
       "0.77304651275126246"
      ]
     },
     "execution_count": 171,
     "metadata": {},
     "output_type": "execute_result"
    }
   ],
   "source": [
    "cross_val_score(lr,X_train,y_train,cv=10).mean()"
   ]
  },
  {
   "cell_type": "code",
   "execution_count": 156,
   "metadata": {
    "collapsed": true
   },
   "outputs": [],
   "source": [
    "rf = RandomForestClassifier(n_estimators=500,n_jobs=-1)\n",
    "rf.fit(X_train,y_train)\n",
    "rf_pred = rf.predict(X_test)"
   ]
  },
  {
   "cell_type": "code",
   "execution_count": 157,
   "metadata": {},
   "outputs": [
    {
     "data": {
      "text/plain": [
       "array([[2027,  220],\n",
       "       [ 494,  197]])"
      ]
     },
     "execution_count": 157,
     "metadata": {},
     "output_type": "execute_result"
    }
   ],
   "source": [
    "confusion_matrix(y_test,rf_pred)"
   ]
  },
  {
   "cell_type": "code",
   "execution_count": 160,
   "metadata": {},
   "outputs": [
    {
     "data": {
      "text/plain": [
       "0.35559566787003616"
      ]
     },
     "execution_count": 160,
     "metadata": {},
     "output_type": "execute_result"
    }
   ],
   "source": [
    "f1_score(y_test,rf_pred)"
   ]
  },
  {
   "cell_type": "code",
   "execution_count": 164,
   "metadata": {},
   "outputs": [
    {
     "data": {
      "text/plain": [
       "0.7569775357385977"
      ]
     },
     "execution_count": 164,
     "metadata": {},
     "output_type": "execute_result"
    }
   ],
   "source": [
    "accuracy(y_test,rf_pred)"
   ]
  },
  {
   "cell_type": "code",
   "execution_count": 172,
   "metadata": {},
   "outputs": [
    {
     "data": {
      "text/plain": [
       "0.77024435983357686"
      ]
     },
     "execution_count": 172,
     "metadata": {},
     "output_type": "execute_result"
    }
   ],
   "source": [
    "cross_val_score(rf,X_train,y_train,cv=10).mean()"
   ]
  },
  {
   "cell_type": "markdown",
   "metadata": {},
   "source": [
    "#### Continuing on\n",
    "\n",
    "If I had more time, I would dive more into my investigation of the features and do some feature engineering. \n",
    "\n",
    "I'd also run the models through a gridsearch and correctly approximate their performance using crossvalidation and try an SVM or neural net as well. \n",
    "\n",
    "When I created a few of these models I would be able to evaluate which performed better for different samples by analyzing their errors and then stack them in an ensemble."
   ]
  },
  {
   "cell_type": "code",
   "execution_count": null,
   "metadata": {
    "collapsed": true
   },
   "outputs": [],
   "source": []
  },
  {
   "cell_type": "code",
   "execution_count": null,
   "metadata": {
    "collapsed": true
   },
   "outputs": [],
   "source": []
  },
  {
   "cell_type": "code",
   "execution_count": null,
   "metadata": {
    "collapsed": true
   },
   "outputs": [],
   "source": []
  },
  {
   "cell_type": "code",
   "execution_count": null,
   "metadata": {
    "collapsed": true
   },
   "outputs": [],
   "source": []
  },
  {
   "cell_type": "code",
   "execution_count": null,
   "metadata": {
    "collapsed": true
   },
   "outputs": [],
   "source": []
  },
  {
   "cell_type": "markdown",
   "metadata": {},
   "source": [
    "#### Quick look at feature importance based on the models\n",
    "\n",
    "logistic regression coefs give us an understanding of how the decision boundary is drawn\n",
    "\n",
    "random forest feature importance is a similar metric which gauges how important the features are to each tree in the forest\n",
    "\n",
    "There are a couple features common between these measures:\n",
    "\n",
    "    Age\n",
    "    PastPCPVisits"
   ]
  },
  {
   "cell_type": "code",
   "execution_count": 230,
   "metadata": {
    "collapsed": true
   },
   "outputs": [],
   "source": [
    "lr_coefs = pd.DataFrame(X_train.columns,lr.coef_[0]).reset_index()\n",
    "lr_coefs.rename(columns={'index':'lr coef',0:'feat'},inplace=True)"
   ]
  },
  {
   "cell_type": "code",
   "execution_count": 231,
   "metadata": {},
   "outputs": [
    {
     "data": {
      "text/html": [
       "<div>\n",
       "<style>\n",
       "    .dataframe thead tr:only-child th {\n",
       "        text-align: right;\n",
       "    }\n",
       "\n",
       "    .dataframe thead th {\n",
       "        text-align: left;\n",
       "    }\n",
       "\n",
       "    .dataframe tbody tr th {\n",
       "        vertical-align: top;\n",
       "    }\n",
       "</style>\n",
       "<table border=\"1\" class=\"dataframe\">\n",
       "  <thead>\n",
       "    <tr style=\"text-align: right;\">\n",
       "      <th></th>\n",
       "      <th>lr coef</th>\n",
       "      <th>feat</th>\n",
       "    </tr>\n",
       "  </thead>\n",
       "  <tbody>\n",
       "    <tr>\n",
       "      <th>12</th>\n",
       "      <td>0.403962</td>\n",
       "      <td>Dx2_E86</td>\n",
       "    </tr>\n",
       "    <tr>\n",
       "      <th>30</th>\n",
       "      <td>0.351148</td>\n",
       "      <td>Dx3_J18</td>\n",
       "    </tr>\n",
       "    <tr>\n",
       "      <th>22</th>\n",
       "      <td>0.168745</td>\n",
       "      <td>Dx2_W19</td>\n",
       "    </tr>\n",
       "    <tr>\n",
       "      <th>2</th>\n",
       "      <td>0.138735</td>\n",
       "      <td>PastPCPVisits</td>\n",
       "    </tr>\n",
       "    <tr>\n",
       "      <th>17</th>\n",
       "      <td>0.091719</td>\n",
       "      <td>Dx2_I51</td>\n",
       "    </tr>\n",
       "    <tr>\n",
       "      <th>1</th>\n",
       "      <td>0.061648</td>\n",
       "      <td>Age</td>\n",
       "    </tr>\n",
       "    <tr>\n",
       "      <th>15</th>\n",
       "      <td>0.035040</td>\n",
       "      <td>Dx2_F19</td>\n",
       "    </tr>\n",
       "    <tr>\n",
       "      <th>20</th>\n",
       "      <td>0.030484</td>\n",
       "      <td>Dx2_R41</td>\n",
       "    </tr>\n",
       "    <tr>\n",
       "      <th>25</th>\n",
       "      <td>-0.007300</td>\n",
       "      <td>Dx3_E56</td>\n",
       "    </tr>\n",
       "    <tr>\n",
       "      <th>11</th>\n",
       "      <td>-0.025649</td>\n",
       "      <td>Dx2_E11</td>\n",
       "    </tr>\n",
       "  </tbody>\n",
       "</table>\n",
       "</div>"
      ],
      "text/plain": [
       "     lr coef           feat\n",
       "12  0.403962        Dx2_E86\n",
       "30  0.351148        Dx3_J18\n",
       "22  0.168745        Dx2_W19\n",
       "2   0.138735  PastPCPVisits\n",
       "17  0.091719        Dx2_I51\n",
       "1   0.061648            Age\n",
       "15  0.035040        Dx2_F19\n",
       "20  0.030484        Dx2_R41\n",
       "25 -0.007300        Dx3_E56\n",
       "11 -0.025649        Dx2_E11"
      ]
     },
     "execution_count": 231,
     "metadata": {},
     "output_type": "execute_result"
    }
   ],
   "source": [
    "lr_coefs.sort_values(by='lr coef',ascending=False).head(10)"
   ]
  },
  {
   "cell_type": "code",
   "execution_count": 228,
   "metadata": {
    "collapsed": true
   },
   "outputs": [],
   "source": [
    "rf_imps = pd.DataFrame(X_train.columns,rf.feature_importances_).reset_index()\n",
    "rf_imps.rename(columns={'index':'rf imp',0:'feat'},inplace=True)"
   ]
  },
  {
   "cell_type": "code",
   "execution_count": 234,
   "metadata": {},
   "outputs": [
    {
     "data": {
      "text/plain": [
       "2     PastPCPVisits\n",
       "1               Age\n",
       "0               LOS\n",
       "23             Dx3_\n",
       "3          Gender_F\n",
       "4          Gender_M\n",
       "8     PrimaryDx_J44\n",
       "5     PrimaryDx_A41\n",
       "9     PrimaryDx_N18\n",
       "6     PrimaryDx_E11\n",
       "Name: feat, dtype: object"
      ]
     },
     "execution_count": 234,
     "metadata": {},
     "output_type": "execute_result"
    }
   ],
   "source": [
    "rf_imps.sort_values(by='rf imp',ascending=False).head(10)['feat']"
   ]
  },
  {
   "cell_type": "code",
   "execution_count": 232,
   "metadata": {
    "collapsed": true
   },
   "outputs": [],
   "source": [
    "both_imps = pd.merge(lr_coefs,rf_imps,on=['feat'])"
   ]
  },
  {
   "cell_type": "code",
   "execution_count": 233,
   "metadata": {},
   "outputs": [
    {
     "data": {
      "text/html": [
       "<div>\n",
       "<style>\n",
       "    .dataframe thead tr:only-child th {\n",
       "        text-align: right;\n",
       "    }\n",
       "\n",
       "    .dataframe thead th {\n",
       "        text-align: left;\n",
       "    }\n",
       "\n",
       "    .dataframe tbody tr th {\n",
       "        vertical-align: top;\n",
       "    }\n",
       "</style>\n",
       "<table border=\"1\" class=\"dataframe\">\n",
       "  <thead>\n",
       "    <tr style=\"text-align: right;\">\n",
       "      <th></th>\n",
       "      <th>lr coef</th>\n",
       "      <th>feat</th>\n",
       "      <th>rf imp</th>\n",
       "    </tr>\n",
       "  </thead>\n",
       "  <tbody>\n",
       "    <tr>\n",
       "      <th>2</th>\n",
       "      <td>0.138735</td>\n",
       "      <td>PastPCPVisits</td>\n",
       "      <td>0.246631</td>\n",
       "    </tr>\n",
       "    <tr>\n",
       "      <th>1</th>\n",
       "      <td>0.061648</td>\n",
       "      <td>Age</td>\n",
       "      <td>0.211840</td>\n",
       "    </tr>\n",
       "    <tr>\n",
       "      <th>0</th>\n",
       "      <td>-0.202246</td>\n",
       "      <td>LOS</td>\n",
       "      <td>0.133522</td>\n",
       "    </tr>\n",
       "    <tr>\n",
       "      <th>23</th>\n",
       "      <td>-0.321889</td>\n",
       "      <td>Dx3_</td>\n",
       "      <td>0.025053</td>\n",
       "    </tr>\n",
       "    <tr>\n",
       "      <th>3</th>\n",
       "      <td>-1.706362</td>\n",
       "      <td>Gender_F</td>\n",
       "      <td>0.022842</td>\n",
       "    </tr>\n",
       "    <tr>\n",
       "      <th>4</th>\n",
       "      <td>-1.730769</td>\n",
       "      <td>Gender_M</td>\n",
       "      <td>0.022520</td>\n",
       "    </tr>\n",
       "    <tr>\n",
       "      <th>8</th>\n",
       "      <td>-0.184175</td>\n",
       "      <td>PrimaryDx_J44</td>\n",
       "      <td>0.019477</td>\n",
       "    </tr>\n",
       "    <tr>\n",
       "      <th>5</th>\n",
       "      <td>-0.439580</td>\n",
       "      <td>PrimaryDx_A41</td>\n",
       "      <td>0.018238</td>\n",
       "    </tr>\n",
       "    <tr>\n",
       "      <th>9</th>\n",
       "      <td>-0.813036</td>\n",
       "      <td>PrimaryDx_N18</td>\n",
       "      <td>0.017350</td>\n",
       "    </tr>\n",
       "    <tr>\n",
       "      <th>6</th>\n",
       "      <td>-0.850233</td>\n",
       "      <td>PrimaryDx_E11</td>\n",
       "      <td>0.017105</td>\n",
       "    </tr>\n",
       "  </tbody>\n",
       "</table>\n",
       "</div>"
      ],
      "text/plain": [
       "     lr coef           feat    rf imp\n",
       "2   0.138735  PastPCPVisits  0.246631\n",
       "1   0.061648            Age  0.211840\n",
       "0  -0.202246            LOS  0.133522\n",
       "23 -0.321889           Dx3_  0.025053\n",
       "3  -1.706362       Gender_F  0.022842\n",
       "4  -1.730769       Gender_M  0.022520\n",
       "8  -0.184175  PrimaryDx_J44  0.019477\n",
       "5  -0.439580  PrimaryDx_A41  0.018238\n",
       "9  -0.813036  PrimaryDx_N18  0.017350\n",
       "6  -0.850233  PrimaryDx_E11  0.017105"
      ]
     },
     "execution_count": 233,
     "metadata": {},
     "output_type": "execute_result"
    }
   ],
   "source": [
    "both_imps.sort_values(by='rf imp',ascending=False).head(10)"
   ]
  },
  {
   "cell_type": "code",
   "execution_count": 247,
   "metadata": {},
   "outputs": [
    {
     "data": {
      "text/plain": [
       "{'Age', 'PastPCPVisits'}"
      ]
     },
     "execution_count": 247,
     "metadata": {},
     "output_type": "execute_result"
    }
   ],
   "source": [
    "set(lr_coefs.sort_values(by='lr coef',ascending=False).head(10)['feat']).intersection(rf_imps.sort_values(by='rf imp',ascending=False).head(10)['feat'])\n"
   ]
  },
  {
   "cell_type": "code",
   "execution_count": 252,
   "metadata": {
    "collapsed": true
   },
   "outputs": [],
   "source": [
    "top_feats = list(set().union(rf_imps.sort_values(by='rf imp',ascending=False).head(10)['feat'],lr_coefs.sort_values(by='lr coef',ascending=False).head(10)['feat']))"
   ]
  },
  {
   "cell_type": "markdown",
   "metadata": {},
   "source": [
    "#### Rerun models with Gridsearch\n",
    "\n",
    "Using original scaled data"
   ]
  },
  {
   "cell_type": "code",
   "execution_count": 352,
   "metadata": {
    "collapsed": true
   },
   "outputs": [],
   "source": [
    "from sklearn.neighbors import KNeighborsClassifier\n",
    "from sklearn.preprocessing import StandardScaler\n",
    "from sklearn.grid_search import GridSearchCV\n",
    "from sklearn.metrics import precision_score, recall_score"
   ]
  },
  {
   "cell_type": "code",
   "execution_count": 581,
   "metadata": {
    "collapsed": true
   },
   "outputs": [],
   "source": [
    "# X_train = train[top_feats]\n",
    "# y_train = train['<=30Days']\n",
    "# X_test = test[top_feats]\n",
    "# y_test = test['<=30Days']"
   ]
  },
  {
   "cell_type": "code",
   "execution_count": 270,
   "metadata": {
    "collapsed": true
   },
   "outputs": [],
   "source": [
    "X_train = train.drop(['Patient','Readmitted','DaysSinceAdmission','<=30Days'],axis=1)\n",
    "y_train = train['<=30Days']\n",
    "X_test = test.drop(['Patient','Readmitted','DaysSinceAdmission','<=30Days'],axis=1)\n",
    "y_test = test['<=30Days']"
   ]
  },
  {
   "cell_type": "code",
   "execution_count": 273,
   "metadata": {
    "collapsed": true
   },
   "outputs": [],
   "source": [
    "ss = StandardScaler()"
   ]
  },
  {
   "cell_type": "code",
   "execution_count": 274,
   "metadata": {
    "collapsed": true
   },
   "outputs": [],
   "source": [
    "X_train = ss.fit_transform(X_train)\n",
    "X_test = ss.fit_transform(X_test)"
   ]
  },
  {
   "cell_type": "markdown",
   "metadata": {},
   "source": [
    "#### Grid search KNN \n",
    "\n",
    "With > 5000 samples I would have expected a high number of neighbors but by decreasing the neighbors and also increasing the p value which manipulates the similarity metric usd to determine which neighbors are most similar to the out of sample pred, knn seems to figure out a better judgement"
   ]
  },
  {
   "cell_type": "code",
   "execution_count": 531,
   "metadata": {
    "collapsed": true
   },
   "outputs": [],
   "source": [
    "params = {}\n",
    "params['n_neighbors'] = [1,2,3,4]#[3,4,5,6,7,8]#[i for i in range(5,60,5)]\n",
    "params['weights'] = ['distance']#['uniform','distance']\n",
    "params['p'] = [5,6,7]#[3,4,5]#[1,2,3,4]"
   ]
  },
  {
   "cell_type": "code",
   "execution_count": 533,
   "metadata": {
    "collapsed": true
   },
   "outputs": [],
   "source": [
    "knn = KNeighborsClassifier()\n",
    "knn_grid = GridSearchCV(knn,params,scoring='f1')"
   ]
  },
  {
   "cell_type": "code",
   "execution_count": 534,
   "metadata": {},
   "outputs": [
    {
     "data": {
      "text/plain": [
       "GridSearchCV(cv=None, error_score='raise',\n",
       "       estimator=KNeighborsClassifier(algorithm='auto', leaf_size=30, metric='minkowski',\n",
       "           metric_params=None, n_jobs=1, n_neighbors=5, p=2,\n",
       "           weights='uniform'),\n",
       "       fit_params={}, iid=True, n_jobs=1,\n",
       "       param_grid={'n_neighbors': [1, 2, 3, 4], 'weights': ['distance'], 'p': [5, 6, 7]},\n",
       "       pre_dispatch='2*n_jobs', refit=True, scoring='f1', verbose=0)"
      ]
     },
     "execution_count": 534,
     "metadata": {},
     "output_type": "execute_result"
    }
   ],
   "source": [
    "knn_grid.fit(X_train,y_train)"
   ]
  },
  {
   "cell_type": "code",
   "execution_count": 535,
   "metadata": {
    "scrolled": true
   },
   "outputs": [
    {
     "data": {
      "text/plain": [
       "KNeighborsClassifier(algorithm='auto', leaf_size=30, metric='minkowski',\n",
       "           metric_params=None, n_jobs=1, n_neighbors=1, p=5,\n",
       "           weights='distance')"
      ]
     },
     "execution_count": 535,
     "metadata": {},
     "output_type": "execute_result"
    }
   ],
   "source": [
    "knn_grid.best_estimator_"
   ]
  },
  {
   "cell_type": "code",
   "execution_count": 536,
   "metadata": {
    "collapsed": true
   },
   "outputs": [],
   "source": [
    "knn = knn_grid.best_estimator_"
   ]
  },
  {
   "cell_type": "code",
   "execution_count": 537,
   "metadata": {
    "collapsed": true
   },
   "outputs": [],
   "source": [
    "knn.fit(X_train,y_train)\n",
    "knn_pred = knn.predict(X_test)"
   ]
  },
  {
   "cell_type": "code",
   "execution_count": 538,
   "metadata": {},
   "outputs": [
    {
     "data": {
      "text/plain": [
       "array([[1758,  489],\n",
       "       [ 439,  252]])"
      ]
     },
     "execution_count": 538,
     "metadata": {},
     "output_type": "execute_result"
    }
   ],
   "source": [
    "confusion_matrix(y_test,knn_pred)"
   ]
  },
  {
   "cell_type": "code",
   "execution_count": 539,
   "metadata": {},
   "outputs": [
    {
     "data": {
      "text/plain": [
       "0.34008097165991902"
      ]
     },
     "execution_count": 539,
     "metadata": {},
     "output_type": "execute_result"
    }
   ],
   "source": [
    "precision_score(y_test,knn_pred)"
   ]
  },
  {
   "cell_type": "code",
   "execution_count": 540,
   "metadata": {},
   "outputs": [
    {
     "data": {
      "text/plain": [
       "0.36468885672937773"
      ]
     },
     "execution_count": 540,
     "metadata": {},
     "output_type": "execute_result"
    }
   ],
   "source": [
    "recall_score(y_test,knn_pred)"
   ]
  },
  {
   "cell_type": "code",
   "execution_count": 541,
   "metadata": {},
   "outputs": [
    {
     "data": {
      "text/plain": [
       "0.35195530726256985"
      ]
     },
     "execution_count": 541,
     "metadata": {},
     "output_type": "execute_result"
    }
   ],
   "source": [
    "f1_score(y_test,knn_pred)"
   ]
  },
  {
   "cell_type": "markdown",
   "metadata": {},
   "source": [
    "#### Gridsearch with RF\n",
    "\n",
    "Did this a few times with n_estimators @ 200 to get a quick idea. Then settled on a smaller number of params and upped trees\n",
    "\n",
    "After evaluating more trees, the best performer was still worse than the 200 tree model, so research on lower number of trees.\n",
    "\n",
    "Between f1 of .35 and .36 the scores and params start shuffling around probably due to random choice in sampling."
   ]
  },
  {
   "cell_type": "code",
   "execution_count": 556,
   "metadata": {
    "collapsed": true
   },
   "outputs": [],
   "source": [
    "params = {}\n",
    "params['criterion'] = ['gini','entropy']\n",
    "params['n_estimators'] = [200,250,300]#[400,600,800]#[200]\n",
    "params['max_depth'] = [35,40,45,50]#[15,20,25]#[5,10,15]\n",
    "#params['max_features'] = ['auto'] #['auto','sqrt']\n",
    "params['min_samples_split'] = [2]#[2,4,6,8,10] #[10,20,40]\n",
    "params['min_samples_leaf'] = [1]#[1,2,3]\n",
    "#params['class_weight'] = ['balanced']"
   ]
  },
  {
   "cell_type": "code",
   "execution_count": 557,
   "metadata": {},
   "outputs": [
    {
     "data": {
      "text/plain": [
       "{'criterion': ['gini', 'entropy'],\n",
       " 'max_depth': [35, 40, 45, 50],\n",
       " 'min_samples_leaf': [1],\n",
       " 'min_samples_split': [2],\n",
       " 'n_estimators': [200, 250, 300]}"
      ]
     },
     "execution_count": 557,
     "metadata": {},
     "output_type": "execute_result"
    }
   ],
   "source": [
    "params"
   ]
  },
  {
   "cell_type": "code",
   "execution_count": 558,
   "metadata": {
    "collapsed": true
   },
   "outputs": [],
   "source": [
    "rf = RandomForestClassifier()\n",
    "rf_grid = GridSearchCV(rf,params,scoring='f1')"
   ]
  },
  {
   "cell_type": "code",
   "execution_count": 559,
   "metadata": {
    "scrolled": false
   },
   "outputs": [
    {
     "data": {
      "text/plain": [
       "GridSearchCV(cv=None, error_score='raise',\n",
       "       estimator=RandomForestClassifier(bootstrap=True, class_weight=None, criterion='gini',\n",
       "            max_depth=None, max_features='auto', max_leaf_nodes=None,\n",
       "            min_impurity_decrease=0.0, min_impurity_split=None,\n",
       "            min_samples_leaf=1, min_samples_split=2,\n",
       "            min_weight_fraction_leaf=0.0, n_estimators=10, n_jobs=1,\n",
       "            oob_score=False, random_state=None, verbose=0,\n",
       "            warm_start=False),\n",
       "       fit_params={}, iid=True, n_jobs=1,\n",
       "       param_grid={'criterion': ['gini', 'entropy'], 'n_estimators': [200, 250, 300], 'max_depth': [35, 40, 45, 50], 'min_samples_split': [2], 'min_samples_leaf': [1]},\n",
       "       pre_dispatch='2*n_jobs', refit=True, scoring='f1', verbose=0)"
      ]
     },
     "execution_count": 559,
     "metadata": {},
     "output_type": "execute_result"
    }
   ],
   "source": [
    "rf_grid.fit(X_train,y_train)"
   ]
  },
  {
   "cell_type": "code",
   "execution_count": 562,
   "metadata": {},
   "outputs": [
    {
     "data": {
      "text/plain": [
       "RandomForestClassifier(bootstrap=True, class_weight=None, criterion='gini',\n",
       "            max_depth=50, max_features='auto', max_leaf_nodes=None,\n",
       "            min_impurity_decrease=0.0, min_impurity_split=None,\n",
       "            min_samples_leaf=1, min_samples_split=2,\n",
       "            min_weight_fraction_leaf=0.0, n_estimators=300, n_jobs=1,\n",
       "            oob_score=False, random_state=None, verbose=0,\n",
       "            warm_start=False)"
      ]
     },
     "execution_count": 562,
     "metadata": {},
     "output_type": "execute_result"
    }
   ],
   "source": [
    "rf_grid.best_estimator_"
   ]
  },
  {
   "cell_type": "code",
   "execution_count": 563,
   "metadata": {
    "collapsed": true
   },
   "outputs": [],
   "source": [
    "rf = rf_grid.best_estimator_"
   ]
  },
  {
   "cell_type": "code",
   "execution_count": 564,
   "metadata": {
    "collapsed": true
   },
   "outputs": [],
   "source": [
    "rf.fit(X_train,y_train)\n",
    "rf_pred = rf.predict(X_test)"
   ]
  },
  {
   "cell_type": "code",
   "execution_count": 565,
   "metadata": {},
   "outputs": [
    {
     "data": {
      "text/plain": [
       "array([[1974,  273],\n",
       "       [ 476,  215]])"
      ]
     },
     "execution_count": 565,
     "metadata": {},
     "output_type": "execute_result"
    }
   ],
   "source": [
    "confusion_matrix(y_test,rf_pred)"
   ]
  },
  {
   "cell_type": "code",
   "execution_count": 566,
   "metadata": {},
   "outputs": [
    {
     "data": {
      "text/plain": [
       "0.4405737704918033"
      ]
     },
     "execution_count": 566,
     "metadata": {},
     "output_type": "execute_result"
    }
   ],
   "source": [
    "precision_score(y_test,rf_pred)"
   ]
  },
  {
   "cell_type": "code",
   "execution_count": 567,
   "metadata": {},
   "outputs": [
    {
     "data": {
      "text/plain": [
       "0.31114327062228653"
      ]
     },
     "execution_count": 567,
     "metadata": {},
     "output_type": "execute_result"
    }
   ],
   "source": [
    "recall_score(y_test,rf_pred)"
   ]
  },
  {
   "cell_type": "code",
   "execution_count": 568,
   "metadata": {},
   "outputs": [
    {
     "data": {
      "text/plain": [
       "0.36471586089906699"
      ]
     },
     "execution_count": 568,
     "metadata": {},
     "output_type": "execute_result"
    }
   ],
   "source": [
    "f1_score(y_test,rf_pred)"
   ]
  },
  {
   "cell_type": "markdown",
   "metadata": {},
   "source": [
    "#### Logistic Regression\n",
    "\n",
    "Whats interesting about lr in this case is the large difference in precision and recall when changing the hyperparameter class_weights to 'balanced' which essentially pads an imbalanced class which we kind of have here being ~1/4.\n",
    "\n",
    "More thought and discussion would need to go into which would be more suitable for the application."
   ]
  },
  {
   "cell_type": "code",
   "execution_count": 668,
   "metadata": {
    "collapsed": true
   },
   "outputs": [],
   "source": [
    "params = {}\n",
    "params['penalty'] = ['l1','l2']\n",
    "params['class_weight'] = ['balanced']\n",
    "params['C'] = [.03,.05,.1]#[.001,.01,.1,.5,1,5,10]"
   ]
  },
  {
   "cell_type": "code",
   "execution_count": 669,
   "metadata": {
    "collapsed": true
   },
   "outputs": [],
   "source": [
    "lr = LogisticRegression()\n",
    "lr_grid = GridSearchCV(lr,params,scoring='f1')"
   ]
  },
  {
   "cell_type": "code",
   "execution_count": 670,
   "metadata": {
    "scrolled": true
   },
   "outputs": [
    {
     "data": {
      "text/plain": [
       "GridSearchCV(cv=None, error_score='raise',\n",
       "       estimator=LogisticRegression(C=1.0, class_weight=None, dual=False, fit_intercept=True,\n",
       "          intercept_scaling=1, max_iter=100, multi_class='ovr', n_jobs=1,\n",
       "          penalty='l2', random_state=None, solver='liblinear', tol=0.0001,\n",
       "          verbose=0, warm_start=False),\n",
       "       fit_params={}, iid=True, n_jobs=1,\n",
       "       param_grid={'penalty': ['l1', 'l2'], 'class_weight': ['balanced'], 'C': [0.03, 0.05, 0.1]},\n",
       "       pre_dispatch='2*n_jobs', refit=True, scoring='f1', verbose=0)"
      ]
     },
     "execution_count": 670,
     "metadata": {},
     "output_type": "execute_result"
    }
   ],
   "source": [
    "lr_grid.fit(X_train,y_train)"
   ]
  },
  {
   "cell_type": "code",
   "execution_count": 671,
   "metadata": {
    "scrolled": true
   },
   "outputs": [
    {
     "data": {
      "text/plain": [
       "LogisticRegression(C=0.05, class_weight='balanced', dual=False,\n",
       "          fit_intercept=True, intercept_scaling=1, max_iter=100,\n",
       "          multi_class='ovr', n_jobs=1, penalty='l1', random_state=None,\n",
       "          solver='liblinear', tol=0.0001, verbose=0, warm_start=False)"
      ]
     },
     "execution_count": 671,
     "metadata": {},
     "output_type": "execute_result"
    }
   ],
   "source": [
    "lr_grid.best_estimator_"
   ]
  },
  {
   "cell_type": "code",
   "execution_count": 672,
   "metadata": {
    "collapsed": true
   },
   "outputs": [],
   "source": [
    "lr_balanced = lr_grid.best_estimator_\n",
    "lr_balanced.fit(X_train,y_train)\n",
    "lr_balanced_pred = lr_balanced.predict(X_test)\n",
    "lr_balanced_predp = lr_balanced.predict_proba(X_test)"
   ]
  },
  {
   "cell_type": "code",
   "execution_count": 676,
   "metadata": {
    "scrolled": true
   },
   "outputs": [
    {
     "data": {
      "text/plain": [
       "array([[1490,  757],\n",
       "       [ 235,  456]])"
      ]
     },
     "execution_count": 676,
     "metadata": {},
     "output_type": "execute_result"
    }
   ],
   "source": [
    "confusion_matrix(y_test,lr_balanced_pred)"
   ]
  },
  {
   "cell_type": "code",
   "execution_count": 677,
   "metadata": {},
   "outputs": [
    {
     "data": {
      "text/plain": [
       "0.37592745259686727"
      ]
     },
     "execution_count": 677,
     "metadata": {},
     "output_type": "execute_result"
    }
   ],
   "source": [
    "precision_score(y_test,lr_pred)"
   ]
  },
  {
   "cell_type": "code",
   "execution_count": 678,
   "metadata": {},
   "outputs": [
    {
     "data": {
      "text/plain": [
       "0.65991316931982635"
      ]
     },
     "execution_count": 678,
     "metadata": {},
     "output_type": "execute_result"
    }
   ],
   "source": [
    "recall_score(y_test,lr_pred)"
   ]
  },
  {
   "cell_type": "code",
   "execution_count": 679,
   "metadata": {},
   "outputs": [
    {
     "data": {
      "text/plain": [
       "0.47899159663865548"
      ]
     },
     "execution_count": 679,
     "metadata": {},
     "output_type": "execute_result"
    }
   ],
   "source": [
    "f1_score(y_test,lr_pred)"
   ]
  },
  {
   "cell_type": "markdown",
   "metadata": {},
   "source": [
    "Something is off with this, and I'd restart me kernel but I'll end here. The resulting predictions from the lr output are not changing anymore. So I cannot effectively average the predictions for the two lrs which I was going to do."
   ]
  },
  {
   "cell_type": "code",
   "execution_count": 695,
   "metadata": {
    "collapsed": true
   },
   "outputs": [],
   "source": [
    "params = {}\n",
    "params['penalty'] = ['l1','l2']\n",
    "#params['class_weight'] = ['balanced']\n",
    "params['C'] = [100]#[.001,.01,.1,.5,1,5,10]"
   ]
  },
  {
   "cell_type": "code",
   "execution_count": 696,
   "metadata": {
    "collapsed": true
   },
   "outputs": [],
   "source": [
    "lr = LogisticRegression()\n",
    "lr_grid = GridSearchCV(lr,params,scoring='f1')"
   ]
  },
  {
   "cell_type": "code",
   "execution_count": 697,
   "metadata": {
    "scrolled": true
   },
   "outputs": [
    {
     "data": {
      "text/plain": [
       "GridSearchCV(cv=None, error_score='raise',\n",
       "       estimator=LogisticRegression(C=1.0, class_weight=None, dual=False, fit_intercept=True,\n",
       "          intercept_scaling=1, max_iter=100, multi_class='ovr', n_jobs=1,\n",
       "          penalty='l2', random_state=None, solver='liblinear', tol=0.0001,\n",
       "          verbose=0, warm_start=False),\n",
       "       fit_params={}, iid=True, n_jobs=1,\n",
       "       param_grid={'penalty': ['l1', 'l2'], 'C': [100]},\n",
       "       pre_dispatch='2*n_jobs', refit=True, scoring='f1', verbose=0)"
      ]
     },
     "execution_count": 697,
     "metadata": {},
     "output_type": "execute_result"
    }
   ],
   "source": [
    "lr_grid.fit(X_train,y_train)"
   ]
  },
  {
   "cell_type": "code",
   "execution_count": 701,
   "metadata": {
    "scrolled": true
   },
   "outputs": [
    {
     "data": {
      "text/plain": [
       "LogisticRegression(C=100, class_weight=None, dual=False, fit_intercept=True,\n",
       "          intercept_scaling=1, max_iter=100, multi_class='ovr', n_jobs=1,\n",
       "          penalty='l1', random_state=None, solver='liblinear', tol=0.0001,\n",
       "          verbose=0, warm_start=False)"
      ]
     },
     "execution_count": 701,
     "metadata": {},
     "output_type": "execute_result"
    }
   ],
   "source": [
    "lr_grid.best_estimator_"
   ]
  },
  {
   "cell_type": "code",
   "execution_count": 702,
   "metadata": {
    "collapsed": true
   },
   "outputs": [],
   "source": [
    "lr = lr_grid.best_estimator_\n",
    "lr.fit(X_train,y_train)\n",
    "lr_pred = lr_balanced.predict(X_test)\n",
    "lr_predp = lr_balanced.predict_proba(X_test)"
   ]
  },
  {
   "cell_type": "code",
   "execution_count": 703,
   "metadata": {
    "scrolled": true
   },
   "outputs": [
    {
     "data": {
      "text/plain": [
       "array([[1490,  757],\n",
       "       [ 235,  456]])"
      ]
     },
     "execution_count": 703,
     "metadata": {},
     "output_type": "execute_result"
    }
   ],
   "source": [
    "confusion_matrix(y_test,lr_pred)"
   ]
  },
  {
   "cell_type": "code",
   "execution_count": 686,
   "metadata": {},
   "outputs": [
    {
     "data": {
      "text/plain": [
       "0.37592745259686727"
      ]
     },
     "execution_count": 686,
     "metadata": {},
     "output_type": "execute_result"
    }
   ],
   "source": [
    "precision_score(y_test,lr_pred)"
   ]
  },
  {
   "cell_type": "code",
   "execution_count": 687,
   "metadata": {},
   "outputs": [
    {
     "data": {
      "text/plain": [
       "0.65991316931982635"
      ]
     },
     "execution_count": 687,
     "metadata": {},
     "output_type": "execute_result"
    }
   ],
   "source": [
    "recall_score(y_test,lr_pred)"
   ]
  },
  {
   "cell_type": "code",
   "execution_count": 688,
   "metadata": {},
   "outputs": [
    {
     "data": {
      "text/plain": [
       "0.47899159663865548"
      ]
     },
     "execution_count": 688,
     "metadata": {},
     "output_type": "execute_result"
    }
   ],
   "source": [
    "f1_score(y_test,lr_pred)"
   ]
  },
  {
   "cell_type": "code",
   "execution_count": null,
   "metadata": {
    "collapsed": true
   },
   "outputs": [],
   "source": []
  },
  {
   "cell_type": "code",
   "execution_count": null,
   "metadata": {
    "collapsed": true
   },
   "outputs": [],
   "source": []
  },
  {
   "cell_type": "code",
   "execution_count": null,
   "metadata": {
    "collapsed": true
   },
   "outputs": [],
   "source": []
  },
  {
   "cell_type": "code",
   "execution_count": null,
   "metadata": {
    "collapsed": true
   },
   "outputs": [],
   "source": []
  },
  {
   "cell_type": "code",
   "execution_count": null,
   "metadata": {
    "collapsed": true
   },
   "outputs": [],
   "source": []
  },
  {
   "cell_type": "markdown",
   "metadata": {},
   "source": [
    "#### Ideas for next steps again\n",
    "\n",
    "1. create month feature - hypothesis winter would bring more readmits. possibly make it ordinal? summer = 1, fall+spring = 2, winter = 3\n",
    "2. look into combination of primary 2ndary dignoses\n",
    "3. bin ages?\n",
    "4. bin pcpvisits?\n",
    "5. drop gender?"
   ]
  },
  {
   "cell_type": "markdown",
   "metadata": {},
   "source": [
    "I don't know much about diagnoses but I expected the distributions by gender to be different."
   ]
  },
  {
   "cell_type": "code",
   "execution_count": 768,
   "metadata": {},
   "outputs": [
    {
     "data": {
      "image/png": "[encoded data removed]",
      "text/plain": [
       "<matplotlib.figure.Figure at 0x1a20e8cc50>"
      ]
     },
     "metadata": {},
     "output_type": "display_data"
    },
    {
     "data": {
      "text/plain": [
       "<matplotlib.figure.Figure at 0x1a1e02dc18>"
      ]
     },
     "metadata": {},
     "output_type": "display_data"
    },
    {
     "data": {
      "image/png": "[encoded data removed]",
      "text/plain": [
       "<matplotlib.figure.Figure at 0x1a20fdfc18>"
      ]
     },
     "metadata": {},
     "output_type": "display_data"
    },
    {
     "data": {
      "text/plain": [
       "<matplotlib.figure.Figure at 0x1a211a9f60>"
      ]
     },
     "metadata": {},
     "output_type": "display_data"
    },
    {
     "data": {
      "image/png": "[encoded data removed]",
      "text/plain": [
       "<matplotlib.figure.Figure at 0x1a2125d7f0>"
      ]
     },
     "metadata": {},
     "output_type": "display_data"
    },
    {
     "data": {
      "text/plain": [
       "<matplotlib.figure.Figure at 0x1a212a5048>"
      ]
     },
     "metadata": {},
     "output_type": "display_data"
    }
   ],
   "source": [
    "for col in Dx_cols:\n",
    "    #bins = full[col].unique().shape[0]\n",
    "    full_orig.groupby(['Gender'])[col].value_counts().unstack().plot(kind='bar',figsize=(12,4))\n",
    "    plt.title('Distribution of {} by Gender'.format(col),size=15)\n",
    "    plt.xlabel('dx')\n",
    "    plt.ylabel('count')\n",
    "    plt.figure()"
   ]
  },
  {
   "cell_type": "markdown",
   "metadata": {},
   "source": [
    "My hypothesis would be that having certain combinations of diagnoses would indicate worse conditions than others, so graph the combinations here by choosing the features to combine.\n",
    "\n",
    "The first indicates to me that generally J44 is worse than other PrimaryDxs"
   ]
  },
  {
   "cell_type": "code",
   "execution_count": 791,
   "metadata": {},
   "outputs": [
    {
     "data": {
      "text/plain": [
       "<matplotlib.legend.Legend at 0x1a2657ba20>"
      ]
     },
     "execution_count": 791,
     "metadata": {},
     "output_type": "execute_result"
    },
    {
     "data": {
      "image/png": "[encoded data removed]",
      "text/plain": [
       "<matplotlib.figure.Figure at 0x1a2657b908>"
      ]
     },
     "metadata": {},
     "output_type": "display_data"
    }
   ],
   "source": [
    "feat1 = 'PrimaryDx'\n",
    "feat2 = 'Dx2'\n",
    "pop_avg = full_orig['<=30Days'].mean()\n",
    "full_orig.groupby([feat1,feat2])['<=30Days'].mean().unstack().plot(kind='bar',figsize=(12,4))\n",
    "plt.ylabel('readmit rate')\n",
    "plt.title('Readmit Rate based on combination of {} and {}'.format(feat1,feat2),size=15)\n",
    "plt.axhline(y=pop_avg, color='black', linestyle='--')\n",
    "plt.legend(bbox_to_anchor=(1.05, 1), loc=2, borderaxespad=0.)"
   ]
  },
  {
   "cell_type": "code",
   "execution_count": 790,
   "metadata": {},
   "outputs": [
    {
     "data": {
      "text/plain": [
       "<matplotlib.legend.Legend at 0x1a2608ce48>"
      ]
     },
     "execution_count": 790,
     "metadata": {},
     "output_type": "execute_result"
    },
    {
     "data": {
      "image/png": "[encoded data removed]",
      "text/plain": [
       "<matplotlib.figure.Figure at 0x1a2608cc18>"
      ]
     },
     "metadata": {},
     "output_type": "display_data"
    }
   ],
   "source": [
    "feat1 = 'Dx2'\n",
    "feat2 = 'Dx3'\n",
    "pop_avg = full_orig['<=30Days'].mean()\n",
    "full_orig.groupby([feat1,feat2])['<=30Days'].mean().unstack().plot(kind='bar',figsize=(12,4))\n",
    "plt.ylabel('readmit rate')\n",
    "plt.title('Readmit Rate based on combination of {} and {}'.format(feat1,feat2),size=15)\n",
    "plt.axhline(y=pop_avg, color='black', linestyle='--')\n",
    "plt.legend(bbox_to_anchor=(1.05, 1), loc=2, borderaxespad=0.)"
   ]
  },
  {
   "cell_type": "code",
   "execution_count": null,
   "metadata": {
    "collapsed": true
   },
   "outputs": [],
   "source": []
  }
 ],
 "metadata": {
  "kernelspec": {
   "display_name": "Python 3",
   "language": "python",
   "name": "python3"
  },
  "language_info": {
   "codemirror_mode": {
    "name": "ipython",
    "version": 3
   },
   "file_extension": ".py",
   "mimetype": "text/x-python",
   "name": "python",
   "nbconvert_exporter": "python",
   "pygments_lexer": "ipython3",
   "version": "3.6.2"
  }
 },
 "nbformat": 4,
 "nbformat_minor": 2
}
