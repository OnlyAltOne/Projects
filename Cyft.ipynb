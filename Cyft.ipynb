{
 "cells": [
  {
   "cell_type": "markdown",
   "metadata": {},
   "source": [
    "# Cyft Data Investigation\n",
    "\n",
    "Goal:\n"
   ]
  },
  {
   "cell_type": "markdown",
   "metadata": {},
   "source": [
    "#### Description:\n",
    "\n",
    "_30-Day All-Cause Hospital Readmissions_ is a quality measure that many healthcare organizations use to track their performance. Lower readmission rates indicate better patient outcomes, while higher ones tend to indicate system problems that are negatively impacting patients. The goal of this exercise is to analyze a dataset that simulates hospitalizations for a geriatric patient population in 2015 and 2016 to predict __if a patient is likely to have a readmission based on the information available at the time of their initial admission.__\n",
    "\n",
    "You have 3 hours to complete the exercise. If you don't get through all the objectives, that's OK. After 3 hours, please finish what you're working on and send in whatever code, analyses, and visualizations (such as images) you have available. Include comments documenting any assumptions you've made as well as other ideas you would have tried if you had more time.\n",
    "\n",
    "Feel free to use the language and statistical/machine learning libraries that you are most comfortable with, and ask questions along the way if any clarifications are necessary."
   ]
  },
  {
   "cell_type": "code",
   "execution_count": 726,
   "metadata": {
    "collapsed": true
   },
   "outputs": [],
   "source": [
    "import pandas as pd\n",
    "import numpy as np\n",
    "import matplotlib.pyplot as plt\n",
    "import seaborn as sns\n",
    "%matplotlib inline"
   ]
  },
  {
   "cell_type": "code",
   "execution_count": 727,
   "metadata": {
    "collapsed": true
   },
   "outputs": [],
   "source": [
    "admit = pd.read_csv('../Cyft/readmissions/admissions.csv')\n",
    "claims = pd.read_csv('../Cyft/readmissions/claims.csv')"
   ]
  },
  {
   "cell_type": "markdown",
   "metadata": {},
   "source": [
    "#### Data Dictionary\n",
    "\n",
    "  * admissions.csv\n",
    "    * Patient - a unique patient identifier string.\n",
    "    * AdmitDate - start date of hospital admission (yyyy-MM-dd formatted).\n",
    "    * LOS - length of hospital stay for the admission in days.\n",
    "\n",
    "  * claims.csv\n",
    "    * Patient - a unique patient identifier string.\n",
    "    * AdmitDate - start date of hospital admission (yyyy-MM-dd formatted).\n",
    "    * Age - patient's current age at time of admission.\n",
    "    * Gender - single character gender value for the patient (limited to 2 values for simplicity).\n",
    "    * PrimaryDx - the primary diagnosis code for the patient.\n",
    "    * Dx2 - the secondary diagnosis code for the patient (nullable).\n",
    "    * Dx3 - the tertiary diagnosis code for the patient (nullable).\n",
    "    * PastPCPVisits - the count of primary care physician visits the patient had in the 12 months prior to admission."
   ]
  },
  {
   "cell_type": "code",
   "execution_count": 728,
   "metadata": {},
   "outputs": [
    {
     "data": {
      "text/html": [
       "<div>\n",
       "<style>\n",
       "    .dataframe thead tr:only-child th {\n",
       "        text-align: right;\n",
       "    }\n",
       "\n",
       "    .dataframe thead th {\n",
       "        text-align: left;\n",
       "    }\n",
       "\n",
       "    .dataframe tbody tr th {\n",
       "        vertical-align: top;\n",
       "    }\n",
       "</style>\n",
       "<table border=\"1\" class=\"dataframe\">\n",
       "  <thead>\n",
       "    <tr style=\"text-align: right;\">\n",
       "      <th></th>\n",
       "      <th>Patient</th>\n",
       "      <th>AdmitDate</th>\n",
       "      <th>LOS</th>\n",
       "    </tr>\n",
       "  </thead>\n",
       "  <tbody>\n",
       "    <tr>\n",
       "      <th>0</th>\n",
       "      <td>5e982461-47d7-4ae9-ac75-d1f31acaee81</td>\n",
       "      <td>2015-09-12</td>\n",
       "      <td>9</td>\n",
       "    </tr>\n",
       "    <tr>\n",
       "      <th>1</th>\n",
       "      <td>61e049c2-08e8-469a-a1e0-808d99c084fd</td>\n",
       "      <td>2015-03-23</td>\n",
       "      <td>7</td>\n",
       "    </tr>\n",
       "    <tr>\n",
       "      <th>2</th>\n",
       "      <td>19bccbe8-0bc7-4dd5-8066-de5bd76acdff</td>\n",
       "      <td>2015-11-07</td>\n",
       "      <td>7</td>\n",
       "    </tr>\n",
       "    <tr>\n",
       "      <th>3</th>\n",
       "      <td>520d5129-fa07-45a3-9108-f6fa895c0169</td>\n",
       "      <td>2015-01-24</td>\n",
       "      <td>7</td>\n",
       "    </tr>\n",
       "    <tr>\n",
       "      <th>4</th>\n",
       "      <td>e7af2ac0-bd25-4cfe-a6f2-e6642db02f64</td>\n",
       "      <td>2015-09-08</td>\n",
       "      <td>5</td>\n",
       "    </tr>\n",
       "  </tbody>\n",
       "</table>\n",
       "</div>"
      ],
      "text/plain": [
       "                                Patient   AdmitDate  LOS\n",
       "0  5e982461-47d7-4ae9-ac75-d1f31acaee81  2015-09-12    9\n",
       "1  61e049c2-08e8-469a-a1e0-808d99c084fd  2015-03-23    7\n",
       "2  19bccbe8-0bc7-4dd5-8066-de5bd76acdff  2015-11-07    7\n",
       "3  520d5129-fa07-45a3-9108-f6fa895c0169  2015-01-24    7\n",
       "4  e7af2ac0-bd25-4cfe-a6f2-e6642db02f64  2015-09-08    5"
      ]
     },
     "execution_count": 728,
     "metadata": {},
     "output_type": "execute_result"
    }
   ],
   "source": [
    "admit.head()"
   ]
  },
  {
   "cell_type": "code",
   "execution_count": 729,
   "metadata": {},
   "outputs": [
    {
     "data": {
      "text/html": [
       "<div>\n",
       "<style>\n",
       "    .dataframe thead tr:only-child th {\n",
       "        text-align: right;\n",
       "    }\n",
       "\n",
       "    .dataframe thead th {\n",
       "        text-align: left;\n",
       "    }\n",
       "\n",
       "    .dataframe tbody tr th {\n",
       "        vertical-align: top;\n",
       "    }\n",
       "</style>\n",
       "<table border=\"1\" class=\"dataframe\">\n",
       "  <thead>\n",
       "    <tr style=\"text-align: right;\">\n",
       "      <th></th>\n",
       "      <th>Patient</th>\n",
       "      <th>AdmitDate</th>\n",
       "      <th>Age</th>\n",
       "      <th>Gender</th>\n",
       "      <th>PrimaryDx</th>\n",
       "      <th>Dx2</th>\n",
       "      <th>Dx3</th>\n",
       "      <th>PastPCPVisits</th>\n",
       "    </tr>\n",
       "  </thead>\n",
       "  <tbody>\n",
       "    <tr>\n",
       "      <th>0</th>\n",
       "      <td>5e982461-47d7-4ae9-ac75-d1f31acaee81</td>\n",
       "      <td>2015-09-12</td>\n",
       "      <td>74</td>\n",
       "      <td>M</td>\n",
       "      <td>N18</td>\n",
       "      <td>T88</td>\n",
       "      <td>NaN</td>\n",
       "      <td>19</td>\n",
       "    </tr>\n",
       "    <tr>\n",
       "      <th>1</th>\n",
       "      <td>61e049c2-08e8-469a-a1e0-808d99c084fd</td>\n",
       "      <td>2015-03-23</td>\n",
       "      <td>71</td>\n",
       "      <td>F</td>\n",
       "      <td>N18</td>\n",
       "      <td>R39</td>\n",
       "      <td>@NA</td>\n",
       "      <td>3</td>\n",
       "    </tr>\n",
       "    <tr>\n",
       "      <th>2</th>\n",
       "      <td>19bccbe8-0bc7-4dd5-8066-de5bd76acdff</td>\n",
       "      <td>2015-11-07</td>\n",
       "      <td>85</td>\n",
       "      <td>M</td>\n",
       "      <td>E11</td>\n",
       "      <td>R39</td>\n",
       "      <td>NaN</td>\n",
       "      <td>10</td>\n",
       "    </tr>\n",
       "    <tr>\n",
       "      <th>3</th>\n",
       "      <td>520d5129-fa07-45a3-9108-f6fa895c0169</td>\n",
       "      <td>2015-01-24</td>\n",
       "      <td>67</td>\n",
       "      <td>F</td>\n",
       "      <td>N18</td>\n",
       "      <td>F05</td>\n",
       "      <td>NaN</td>\n",
       "      <td>8</td>\n",
       "    </tr>\n",
       "    <tr>\n",
       "      <th>4</th>\n",
       "      <td>e7af2ac0-bd25-4cfe-a6f2-e6642db02f64</td>\n",
       "      <td>2015-09-08</td>\n",
       "      <td>78</td>\n",
       "      <td>F</td>\n",
       "      <td>A41</td>\n",
       "      <td>T88</td>\n",
       "      <td>J18</td>\n",
       "      <td>13</td>\n",
       "    </tr>\n",
       "  </tbody>\n",
       "</table>\n",
       "</div>"
      ],
      "text/plain": [
       "                                Patient   AdmitDate  Age Gender PrimaryDx  \\\n",
       "0  5e982461-47d7-4ae9-ac75-d1f31acaee81  2015-09-12   74      M       N18   \n",
       "1  61e049c2-08e8-469a-a1e0-808d99c084fd  2015-03-23   71      F       N18   \n",
       "2  19bccbe8-0bc7-4dd5-8066-de5bd76acdff  2015-11-07   85      M       E11   \n",
       "3  520d5129-fa07-45a3-9108-f6fa895c0169  2015-01-24   67      F       N18   \n",
       "4  e7af2ac0-bd25-4cfe-a6f2-e6642db02f64  2015-09-08   78      F       A41   \n",
       "\n",
       "   Dx2  Dx3  PastPCPVisits  \n",
       "0  T88  NaN             19  \n",
       "1  R39  @NA              3  \n",
       "2  R39  NaN             10  \n",
       "3  F05  NaN              8  \n",
       "4  T88  J18             13  "
      ]
     },
     "execution_count": 729,
     "metadata": {},
     "output_type": "execute_result"
    }
   ],
   "source": [
    "claims.head()"
   ]
  },
  {
   "cell_type": "markdown",
   "metadata": {},
   "source": [
    "#### Initial Look\n",
    "\n",
    "There are two overlapping columns, patient ID and admitdate. The csvs map 1:1. AdmitDate will be more useful converted to a datetime type. "
   ]
  },
  {
   "cell_type": "code",
   "execution_count": 730,
   "metadata": {},
   "outputs": [
    {
     "name": "stdout",
     "output_type": "stream",
     "text": [
      "admit: 5849 rows and 3 columns\n",
      "claims: 5849 rows and 8 columns\n"
     ]
    }
   ],
   "source": [
    "print('admit: {} rows and {} columns'.format(*admit.shape))\n",
    "print('claims: {} rows and {} columns'.format(*claims.shape))"
   ]
  },
  {
   "cell_type": "code",
   "execution_count": 731,
   "metadata": {
    "scrolled": false
   },
   "outputs": [
    {
     "data": {
      "text/html": [
       "<div>\n",
       "<style>\n",
       "    .dataframe thead tr:only-child th {\n",
       "        text-align: right;\n",
       "    }\n",
       "\n",
       "    .dataframe thead th {\n",
       "        text-align: left;\n",
       "    }\n",
       "\n",
       "    .dataframe tbody tr th {\n",
       "        vertical-align: top;\n",
       "    }\n",
       "</style>\n",
       "<table border=\"1\" class=\"dataframe\">\n",
       "  <thead>\n",
       "    <tr style=\"text-align: right;\">\n",
       "      <th></th>\n",
       "      <th>Patient</th>\n",
       "      <th>AdmitDate</th>\n",
       "      <th>LOS</th>\n",
       "      <th>Age</th>\n",
       "      <th>Gender</th>\n",
       "      <th>PrimaryDx</th>\n",
       "      <th>Dx2</th>\n",
       "      <th>Dx3</th>\n",
       "      <th>PastPCPVisits</th>\n",
       "    </tr>\n",
       "  </thead>\n",
       "  <tbody>\n",
       "    <tr>\n",
       "      <th>0</th>\n",
       "      <td>5e982461-47d7-4ae9-ac75-d1f31acaee81</td>\n",
       "      <td>2015-09-12</td>\n",
       "      <td>9</td>\n",
       "      <td>74</td>\n",
       "      <td>M</td>\n",
       "      <td>N18</td>\n",
       "      <td>T88</td>\n",
       "      <td>NaN</td>\n",
       "      <td>19</td>\n",
       "    </tr>\n",
       "    <tr>\n",
       "      <th>1</th>\n",
       "      <td>61e049c2-08e8-469a-a1e0-808d99c084fd</td>\n",
       "      <td>2015-03-23</td>\n",
       "      <td>7</td>\n",
       "      <td>71</td>\n",
       "      <td>F</td>\n",
       "      <td>N18</td>\n",
       "      <td>R39</td>\n",
       "      <td>@NA</td>\n",
       "      <td>3</td>\n",
       "    </tr>\n",
       "    <tr>\n",
       "      <th>2</th>\n",
       "      <td>19bccbe8-0bc7-4dd5-8066-de5bd76acdff</td>\n",
       "      <td>2015-11-07</td>\n",
       "      <td>7</td>\n",
       "      <td>85</td>\n",
       "      <td>M</td>\n",
       "      <td>E11</td>\n",
       "      <td>R39</td>\n",
       "      <td>NaN</td>\n",
       "      <td>10</td>\n",
       "    </tr>\n",
       "    <tr>\n",
       "      <th>3</th>\n",
       "      <td>520d5129-fa07-45a3-9108-f6fa895c0169</td>\n",
       "      <td>2015-01-24</td>\n",
       "      <td>7</td>\n",
       "      <td>67</td>\n",
       "      <td>F</td>\n",
       "      <td>N18</td>\n",
       "      <td>F05</td>\n",
       "      <td>NaN</td>\n",
       "      <td>8</td>\n",
       "    </tr>\n",
       "    <tr>\n",
       "      <th>4</th>\n",
       "      <td>e7af2ac0-bd25-4cfe-a6f2-e6642db02f64</td>\n",
       "      <td>2015-09-08</td>\n",
       "      <td>5</td>\n",
       "      <td>78</td>\n",
       "      <td>F</td>\n",
       "      <td>A41</td>\n",
       "      <td>T88</td>\n",
       "      <td>J18</td>\n",
       "      <td>13</td>\n",
       "    </tr>\n",
       "  </tbody>\n",
       "</table>\n",
       "</div>"
      ],
      "text/plain": [
       "                                Patient  AdmitDate  LOS  Age Gender PrimaryDx  \\\n",
       "0  5e982461-47d7-4ae9-ac75-d1f31acaee81 2015-09-12    9   74      M       N18   \n",
       "1  61e049c2-08e8-469a-a1e0-808d99c084fd 2015-03-23    7   71      F       N18   \n",
       "2  19bccbe8-0bc7-4dd5-8066-de5bd76acdff 2015-11-07    7   85      M       E11   \n",
       "3  520d5129-fa07-45a3-9108-f6fa895c0169 2015-01-24    7   67      F       N18   \n",
       "4  e7af2ac0-bd25-4cfe-a6f2-e6642db02f64 2015-09-08    5   78      F       A41   \n",
       "\n",
       "   Dx2  Dx3  PastPCPVisits  \n",
       "0  T88  NaN             19  \n",
       "1  R39  @NA              3  \n",
       "2  R39  NaN             10  \n",
       "3  F05  NaN              8  \n",
       "4  T88  J18             13  "
      ]
     },
     "execution_count": 731,
     "metadata": {},
     "output_type": "execute_result"
    }
   ],
   "source": [
    "full = pd.merge(admit,claims,on=['Patient','AdmitDate'])\n",
    "full['AdmitDate'] = pd.to_datetime(full['AdmitDate'])\n",
    "full.head()"
   ]
  },
  {
   "cell_type": "code",
   "execution_count": 732,
   "metadata": {},
   "outputs": [
    {
     "name": "stdout",
     "output_type": "stream",
     "text": [
      "full: 5849 rows and 9 columns\n"
     ]
    }
   ],
   "source": [
    "print('full: {} rows and {} columns'.format(*full.shape))"
   ]
  },
  {
   "cell_type": "code",
   "execution_count": 733,
   "metadata": {
    "collapsed": true
   },
   "outputs": [],
   "source": [
    "#full.set_index('AdmitDate')"
   ]
  },
  {
   "cell_type": "markdown",
   "metadata": {},
   "source": [
    "#### Null Values\n",
    "\n",
    "Can be:\n",
    "    \n",
    "    empty strings or values\n",
    "    NaN\n",
    "    @NA"
   ]
  },
  {
   "cell_type": "code",
   "execution_count": 734,
   "metadata": {},
   "outputs": [
    {
     "name": "stdout",
     "output_type": "stream",
     "text": [
      "<class 'pandas.core.frame.DataFrame'>\n",
      "Int64Index: 5849 entries, 0 to 5848\n",
      "Data columns (total 9 columns):\n",
      "Patient          5849 non-null object\n",
      "AdmitDate        5849 non-null datetime64[ns]\n",
      "LOS              5849 non-null int64\n",
      "Age              5849 non-null int64\n",
      "Gender           5849 non-null object\n",
      "PrimaryDx        5849 non-null object\n",
      "Dx2              5849 non-null object\n",
      "Dx3              3883 non-null object\n",
      "PastPCPVisits    5849 non-null int64\n",
      "dtypes: datetime64[ns](1), int64(3), object(5)\n",
      "memory usage: 457.0+ KB\n"
     ]
    }
   ],
   "source": [
    "full.info()"
   ]
  },
  {
   "cell_type": "code",
   "execution_count": 735,
   "metadata": {
    "collapsed": true
   },
   "outputs": [],
   "source": [
    "full_nan = full.replace('@NA',np.NaN) # replace @NA\n",
    "full_nan = full_nan.replace('',np.NaN) # didn't find any empty strings"
   ]
  },
  {
   "cell_type": "markdown",
   "metadata": {},
   "source": [
    "Looks like feature Dx3 is the only one with null values but they are 67% of the column which makes it unrealistic to impute. \n",
    "\n",
    "This makes sense as it is less likely to have a third diagnosis at admission time as a primary or secondary. Have to keep an eye on it down the line. For now leave as ''"
   ]
  },
  {
   "cell_type": "code",
   "execution_count": 736,
   "metadata": {},
   "outputs": [
    {
     "data": {
      "text/plain": [
       "Patient          0.00000\n",
       "AdmitDate        0.00000\n",
       "LOS              0.00000\n",
       "Age              0.00000\n",
       "Gender           0.00000\n",
       "PrimaryDx        0.00000\n",
       "Dx2              0.00000\n",
       "Dx3              0.66849\n",
       "PastPCPVisits    0.00000\n",
       "dtype: float64"
      ]
     },
     "execution_count": 736,
     "metadata": {},
     "output_type": "execute_result"
    }
   ],
   "source": [
    "full_nan.isnull().sum() / full_nan.shape[0]"
   ]
  },
  {
   "cell_type": "code",
   "execution_count": 737,
   "metadata": {
    "collapsed": true
   },
   "outputs": [],
   "source": [
    "full = full.replace('@NA',np.NaN) # replace @NA\n",
    "full = full.replace('',np.NaN) # didn't find any empty strings\n",
    "full = full.replace(np.NaN,'')"
   ]
  },
  {
   "cell_type": "code",
   "execution_count": 738,
   "metadata": {},
   "outputs": [
    {
     "name": "stdout",
     "output_type": "stream",
     "text": [
      "be78ad19-b6a6-409c-9b8f-4720a6fa31f3    2\n",
      "2773eed9-c059-47af-b7aa-d21954327227    2\n",
      "5494b3ff-c67d-415e-8ee5-7979ca6b7ea4    2\n",
      "5ad38480-7320-4437-aa95-4155e62b1b70    2\n",
      "deb63588-daa4-4b97-ac12-fc1be6d8f83c    2\n",
      "54f2cdbf-669f-488a-8868-55a24bbfe197    2\n",
      "1730ee80-e9d0-4702-a4c4-80efdc8cec2e    2\n",
      "1a34bbbc-1f57-41b6-9604-e9d855ba7e98    2\n",
      "67b3a488-fc7f-47ed-8cfa-6669aa799a6d    2\n",
      "d6c1b3c8-ee33-449b-afc4-6c96c6a40b36    2\n",
      "2eb136a7-5bbf-4806-9a2a-63bad6f1aa67    2\n",
      "02df8468-986a-4388-b90c-347e2a1ce98e    2\n",
      "8adec5fb-959b-49b6-ac41-7a7fe5a5f2f6    2\n",
      "55c3f958-3303-4c42-b7e2-b96ebc23c3b6    2\n",
      "b22e51b9-2432-41dd-ac36-547f6f418727    2\n",
      "fba08ad7-9f45-4f48-a1be-9d3dc923b773    2\n",
      "851b3330-c447-4fb0-8d93-6da136cf8ffb    2\n",
      "1acc036c-b3eb-4994-a5ca-adc0a70fdfdf    2\n",
      "36d257df-a53b-4b92-a99d-97698c7f1d50    2\n",
      "96b6772d-a4a0-47c6-bfdd-887cbd623de9    2\n",
      "347fe701-f9a8-4db4-806c-cb772c5657cd    2\n",
      "1c0665a0-9887-4544-b50a-77561e271a39    2\n",
      "f7cc4dfd-c025-4692-9d0a-81e13eb7a8d0    2\n",
      "3809c6eb-ad6a-4840-84f8-00d14fe62d40    2\n",
      "c9cdcd68-213b-481d-8719-b41ff2cdc7b9    2\n",
      "060447b6-1baf-4335-9a04-8a2a923a7f4e    2\n",
      "0f94924a-c679-4f5a-972c-ebcfdfd2b49c    2\n",
      "0498f29b-60fc-4e4f-b4c5-7e8d5c654454    2\n",
      "e01d1768-cad7-4a97-b4bc-743fbc639892    2\n",
      "0f7f9732-1a12-4172-8676-94abb5a54fd3    2\n",
      "                                       ..\n",
      "8e0c0a18-7460-4169-abe4-36f94e8ef230    1\n",
      "66c86277-4ae2-40e6-b154-a7f675c5e16f    1\n",
      "cac77418-ae1b-4323-8bab-6c34f0e0d322    1\n",
      "72b974cc-4c98-4cb4-9f1b-a935e67137c2    1\n",
      "86c7b1ce-1ba2-456b-8b2e-16efb3fe52a0    1\n",
      "f599b6cb-3805-4788-9cf3-12484b6fee28    1\n",
      "41b6200b-dc57-49f6-902d-67ada863d63b    1\n",
      "55fc5330-1c8f-4162-b6ed-beefbfc887c3    1\n",
      "fe559fe8-0767-4596-a245-eda111b3abdd    1\n",
      "3c3b29bd-b6fa-4054-9241-e7d03305cc3e    1\n",
      "a16e0b91-5c03-4a27-8b4d-436964575299    1\n",
      "60cfbc35-714e-489f-9e80-1856b6251469    1\n",
      "d23cae0e-48ad-40d0-8013-2541fe70f6fd    1\n",
      "99cc3dbe-3d8b-4036-aedd-8fbe6407a6f7    1\n",
      "e07c6e91-3eae-4ae5-b87c-967e17263154    1\n",
      "b2be9587-4fb3-4364-a09a-91d5856effdc    1\n",
      "df2664c1-d543-43f7-b58a-1ad3bb288e7d    1\n",
      "743a84bb-fbcc-48b7-91ee-b01df3b75f6f    1\n",
      "aafc1798-6f2f-455b-b683-e46fb59f416a    1\n",
      "2931054f-af85-443f-8246-b89bfe64e439    1\n",
      "268b9c96-0a42-4630-bf92-f0e9e8fe9dbc    1\n",
      "ab9f8880-81bd-49d0-8464-7ef402260532    1\n",
      "3314191a-ee70-4e5c-beca-26b9359715ec    1\n",
      "c439cbf1-e7fe-4475-ad91-4318dcd62d66    1\n",
      "034c91df-1447-4e2d-8cae-2fbdc804259a    1\n",
      "79a8e153-48a2-415b-9a5a-89435320c30a    1\n",
      "cba7e718-d703-4b36-b17c-ab910c156f36    1\n",
      "bd4e259d-e2ab-4131-b347-8461d3563ec5    1\n",
      "bf1b3f10-6f8b-4c74-bf6c-6e63e7782f4a    1\n",
      "70ddca6b-cf77-4562-bcb9-7e60d8669f98    1\n",
      "Name: Patient, Length: 3917, dtype: int64\n",
      "2016-06-22    19\n",
      "2015-04-01    17\n",
      "2016-03-14    15\n",
      "2016-01-12    15\n",
      "2016-02-06    15\n",
      "2015-05-06    15\n",
      "2015-07-25    15\n",
      "2016-05-28    14\n",
      "2016-05-11    14\n",
      "2016-05-15    14\n",
      "2016-05-13    14\n",
      "2015-09-15    14\n",
      "2015-03-25    14\n",
      "2015-09-13    14\n",
      "2016-01-03    14\n",
      "2016-10-29    14\n",
      "2016-06-06    14\n",
      "2016-01-14    14\n",
      "2016-09-18    14\n",
      "2016-02-27    14\n",
      "2016-02-21    14\n",
      "2015-06-03    13\n",
      "2015-07-12    13\n",
      "2016-08-09    13\n",
      "2015-09-20    13\n",
      "2015-12-07    13\n",
      "2015-05-19    13\n",
      "2016-01-06    13\n",
      "2015-05-22    13\n",
      "2016-07-30    13\n",
      "              ..\n",
      "2017-01-26     2\n",
      "2015-06-23     2\n",
      "2015-10-24     2\n",
      "2017-01-22     2\n",
      "2016-12-21     2\n",
      "2015-01-01     2\n",
      "2016-06-15     2\n",
      "2017-01-19     2\n",
      "2015-12-18     2\n",
      "2016-07-23     2\n",
      "2017-01-11     2\n",
      "2016-12-28     2\n",
      "2016-05-30     2\n",
      "2015-06-21     1\n",
      "2015-12-13     1\n",
      "2017-03-08     1\n",
      "2017-02-09     1\n",
      "2017-01-21     1\n",
      "2015-01-10     1\n",
      "2017-01-23     1\n",
      "2017-01-08     1\n",
      "2017-01-24     1\n",
      "2017-02-07     1\n",
      "2017-01-03     1\n",
      "2017-01-28     1\n",
      "2016-12-06     1\n",
      "2017-02-08     1\n",
      "2017-02-03     1\n",
      "2017-02-25     1\n",
      "2017-02-15     1\n",
      "Name: AdmitDate, Length: 760, dtype: int64\n",
      "6     1382\n",
      "5     1309\n",
      "7      973\n",
      "4      786\n",
      "8      556\n",
      "3      297\n",
      "9      258\n",
      "10     106\n",
      "2       65\n",
      "11      47\n",
      "12      28\n",
      "14      13\n",
      "13      13\n",
      "1       13\n",
      "15       3\n",
      "Name: LOS, dtype: int64\n",
      "77    418\n",
      "75    414\n",
      "73    391\n",
      "74    380\n",
      "76    373\n",
      "79    367\n",
      "72    341\n",
      "78    332\n",
      "80    301\n",
      "71    282\n",
      "81    244\n",
      "69    229\n",
      "70    223\n",
      "68    216\n",
      "67    196\n",
      "83    191\n",
      "82    187\n",
      "84    146\n",
      "85    129\n",
      "66    119\n",
      "90     99\n",
      "86     97\n",
      "87     80\n",
      "89     41\n",
      "88     39\n",
      "65     14\n",
      "Name: Age, dtype: int64\n",
      "F    2967\n",
      "M    2882\n",
      "Name: Gender, dtype: int64\n",
      "N18    1498\n",
      "E11    1422\n",
      "A41    1171\n",
      "I50     943\n",
      "J44     805\n",
      "N39      10\n",
      "Name: PrimaryDx, dtype: int64\n",
      "T88    830\n",
      "R39    764\n",
      "F03    748\n",
      "G31    626\n",
      "F05    517\n",
      "R41    448\n",
      "F19    425\n",
      "I51    423\n",
      "E86    388\n",
      "E11    357\n",
      "W19    318\n",
      "M54      5\n",
      "Name: Dx2, dtype: int64\n",
      "       3910\n",
      "E11     299\n",
      "R51     287\n",
      "R05     147\n",
      "H53     146\n",
      "I10     144\n",
      "J45     136\n",
      "M54     135\n",
      "E56     134\n",
      "J18     132\n",
      "H91     129\n",
      "G89     125\n",
      "R26     125\n",
      "Name: Dx3, dtype: int64\n",
      "11    391\n",
      "13    385\n",
      "9     374\n",
      "12    371\n",
      "10    366\n",
      "8     330\n",
      "7     328\n",
      "15    307\n",
      "6     307\n",
      "14    306\n",
      "16    290\n",
      "5     285\n",
      "17    267\n",
      "4     266\n",
      "3     248\n",
      "18    234\n",
      "19    213\n",
      "2     155\n",
      "20    135\n",
      "21     93\n",
      "1      75\n",
      "22     58\n",
      "23     21\n",
      "24     16\n",
      "26      8\n",
      "25      7\n",
      "27      4\n",
      "28      3\n",
      "29      2\n",
      "32      1\n",
      "30      1\n",
      "34      1\n",
      "31      1\n",
      "Name: PastPCPVisits, dtype: int64\n"
     ]
    }
   ],
   "source": [
    "for col in full.columns:\n",
    "    print(full[col].value_counts())"
   ]
  },
  {
   "cell_type": "markdown",
   "metadata": {},
   "source": [
    "#### Determine Patients with Readmissions\n",
    "\n",
    "Any patient id which shows up more than once is considered a readmission. New binary column is created since this is our target variable."
   ]
  },
  {
   "cell_type": "code",
   "execution_count": 739,
   "metadata": {},
   "outputs": [
    {
     "name": "stdout",
     "output_type": "stream",
     "text": [
      "There are 1932 patients readmitted in the 30 day window\n"
     ]
    }
   ],
   "source": [
    "print('There are {} patients readmitted in the 30 day window'.format(np.sum(full['Patient'].value_counts()>1)))\n"
   ]
  },
  {
   "cell_type": "code",
   "execution_count": 740,
   "metadata": {
    "collapsed": true
   },
   "outputs": [],
   "source": [
    "full['Readmitted'] = full.groupby(['Patient'])['Patient'].transform('count')\n",
    "full['Readmitted'] = full['Readmitted'].map({2:1,1:0})"
   ]
  },
  {
   "cell_type": "code",
   "execution_count": 741,
   "metadata": {},
   "outputs": [
    {
     "data": {
      "text/plain": [
       "5844    6 days\n",
       "5845   31 days\n",
       "5846   40 days\n",
       "5847   36 days\n",
       "5848   32 days\n",
       "Name: AdmitDate, dtype: timedelta64[ns]"
      ]
     },
     "execution_count": 741,
     "metadata": {},
     "output_type": "execute_result"
    }
   ],
   "source": [
    "full[full['Readmitted'] == 1].groupby(['Patient']).diff()['AdmitDate'].tail()"
   ]
  },
  {
   "cell_type": "code",
   "execution_count": 742,
   "metadata": {
    "collapsed": true
   },
   "outputs": [],
   "source": [
    "full['DaysSinceAdmission'] = full[full['Readmitted'] == 1].groupby(['Patient']).diff()['AdmitDate']"
   ]
  },
  {
   "cell_type": "code",
   "execution_count": 743,
   "metadata": {
    "collapsed": true
   },
   "outputs": [],
   "source": [
    "full['<=30Days'] = (full['DaysSinceAdmission'] <= pd.Timedelta('30 days')).astype(np.int)"
   ]
  },
  {
   "cell_type": "code",
   "execution_count": 744,
   "metadata": {},
   "outputs": [
    {
     "data": {
      "text/html": [
       "<div>\n",
       "<style>\n",
       "    .dataframe thead tr:only-child th {\n",
       "        text-align: right;\n",
       "    }\n",
       "\n",
       "    .dataframe thead th {\n",
       "        text-align: left;\n",
       "    }\n",
       "\n",
       "    .dataframe tbody tr th {\n",
       "        vertical-align: top;\n",
       "    }\n",
       "</style>\n",
       "<table border=\"1\" class=\"dataframe\">\n",
       "  <thead>\n",
       "    <tr style=\"text-align: right;\">\n",
       "      <th></th>\n",
       "      <th>Patient</th>\n",
       "      <th>AdmitDate</th>\n",
       "      <th>LOS</th>\n",
       "      <th>Age</th>\n",
       "      <th>Gender</th>\n",
       "      <th>PrimaryDx</th>\n",
       "      <th>Dx2</th>\n",
       "      <th>Dx3</th>\n",
       "      <th>PastPCPVisits</th>\n",
       "      <th>Readmitted</th>\n",
       "      <th>DaysSinceAdmission</th>\n",
       "      <th>&lt;=30Days</th>\n",
       "    </tr>\n",
       "  </thead>\n",
       "  <tbody>\n",
       "    <tr>\n",
       "      <th>5844</th>\n",
       "      <td>641acfac-9bd1-4864-be0a-52d4bfc78ef9</td>\n",
       "      <td>2016-03-14</td>\n",
       "      <td>7</td>\n",
       "      <td>75</td>\n",
       "      <td>M</td>\n",
       "      <td>A41</td>\n",
       "      <td>I51</td>\n",
       "      <td></td>\n",
       "      <td>15</td>\n",
       "      <td>1</td>\n",
       "      <td>6 days</td>\n",
       "      <td>1</td>\n",
       "    </tr>\n",
       "    <tr>\n",
       "      <th>5845</th>\n",
       "      <td>e152df3f-69a5-4ad4-9cf0-a3b7a6b9d4d8</td>\n",
       "      <td>2016-12-20</td>\n",
       "      <td>5</td>\n",
       "      <td>86</td>\n",
       "      <td>M</td>\n",
       "      <td>E11</td>\n",
       "      <td>R41</td>\n",
       "      <td></td>\n",
       "      <td>17</td>\n",
       "      <td>1</td>\n",
       "      <td>31 days</td>\n",
       "      <td>0</td>\n",
       "    </tr>\n",
       "    <tr>\n",
       "      <th>5846</th>\n",
       "      <td>a45e1bab-df5f-4078-b938-31f920e2f765</td>\n",
       "      <td>2016-09-18</td>\n",
       "      <td>9</td>\n",
       "      <td>78</td>\n",
       "      <td>M</td>\n",
       "      <td>A41</td>\n",
       "      <td>I51</td>\n",
       "      <td>R05</td>\n",
       "      <td>14</td>\n",
       "      <td>1</td>\n",
       "      <td>40 days</td>\n",
       "      <td>0</td>\n",
       "    </tr>\n",
       "    <tr>\n",
       "      <th>5847</th>\n",
       "      <td>963fdb5d-bfe6-47c9-84c8-6456ce0fd093</td>\n",
       "      <td>2017-01-19</td>\n",
       "      <td>6</td>\n",
       "      <td>81</td>\n",
       "      <td>M</td>\n",
       "      <td>J44</td>\n",
       "      <td>F05</td>\n",
       "      <td></td>\n",
       "      <td>17</td>\n",
       "      <td>1</td>\n",
       "      <td>36 days</td>\n",
       "      <td>0</td>\n",
       "    </tr>\n",
       "    <tr>\n",
       "      <th>5848</th>\n",
       "      <td>a2940e72-8185-4944-8257-6c440d8aa374</td>\n",
       "      <td>2016-09-11</td>\n",
       "      <td>8</td>\n",
       "      <td>77</td>\n",
       "      <td>F</td>\n",
       "      <td>I50</td>\n",
       "      <td>R39</td>\n",
       "      <td></td>\n",
       "      <td>11</td>\n",
       "      <td>1</td>\n",
       "      <td>32 days</td>\n",
       "      <td>0</td>\n",
       "    </tr>\n",
       "  </tbody>\n",
       "</table>\n",
       "</div>"
      ],
      "text/plain": [
       "                                   Patient  AdmitDate  LOS  Age Gender  \\\n",
       "5844  641acfac-9bd1-4864-be0a-52d4bfc78ef9 2016-03-14    7   75      M   \n",
       "5845  e152df3f-69a5-4ad4-9cf0-a3b7a6b9d4d8 2016-12-20    5   86      M   \n",
       "5846  a45e1bab-df5f-4078-b938-31f920e2f765 2016-09-18    9   78      M   \n",
       "5847  963fdb5d-bfe6-47c9-84c8-6456ce0fd093 2017-01-19    6   81      M   \n",
       "5848  a2940e72-8185-4944-8257-6c440d8aa374 2016-09-11    8   77      F   \n",
       "\n",
       "     PrimaryDx  Dx2  Dx3  PastPCPVisits  Readmitted DaysSinceAdmission  \\\n",
       "5844       A41  I51                  15           1             6 days   \n",
       "5845       E11  R41                  17           1            31 days   \n",
       "5846       A41  I51  R05             14           1            40 days   \n",
       "5847       J44  F05                  17           1            36 days   \n",
       "5848       I50  R39                  11           1            32 days   \n",
       "\n",
       "      <=30Days  \n",
       "5844         1  \n",
       "5845         0  \n",
       "5846         0  \n",
       "5847         0  \n",
       "5848         0  "
      ]
     },
     "execution_count": 744,
     "metadata": {},
     "output_type": "execute_result"
    }
   ],
   "source": [
    "full.tail()"
   ]
  },
  {
   "cell_type": "markdown",
   "metadata": {},
   "source": [
    "#### Believe I was going about this the wrong way\n",
    "\n",
    "I was looking at the characteristics of the _readmission_ trying to predict itself when I should have flagged the first visit as __will_be_readmitted__ to use its characteristics to predict a readmission"
   ]
  },
  {
   "cell_type": "code",
   "execution_count": 745,
   "metadata": {},
   "outputs": [],
   "source": [
    "full[['WillBe<=30Days']] = full[full['Readmitted'] == 1].groupby('Patient').shift(-1)[['<=30Days']].fillna(0).astype(np.int)\n"
   ]
  },
  {
   "cell_type": "markdown",
   "metadata": {},
   "source": [
    "Quick spot check to cofirm thats correct"
   ]
  },
  {
   "cell_type": "code",
   "execution_count": 746,
   "metadata": {},
   "outputs": [
    {
     "data": {
      "text/html": [
       "<div>\n",
       "<style>\n",
       "    .dataframe thead tr:only-child th {\n",
       "        text-align: right;\n",
       "    }\n",
       "\n",
       "    .dataframe thead th {\n",
       "        text-align: left;\n",
       "    }\n",
       "\n",
       "    .dataframe tbody tr th {\n",
       "        vertical-align: top;\n",
       "    }\n",
       "</style>\n",
       "<table border=\"1\" class=\"dataframe\">\n",
       "  <thead>\n",
       "    <tr style=\"text-align: right;\">\n",
       "      <th></th>\n",
       "      <th>Patient</th>\n",
       "      <th>AdmitDate</th>\n",
       "      <th>LOS</th>\n",
       "      <th>Age</th>\n",
       "      <th>Gender</th>\n",
       "      <th>PrimaryDx</th>\n",
       "      <th>Dx2</th>\n",
       "      <th>Dx3</th>\n",
       "      <th>PastPCPVisits</th>\n",
       "      <th>Readmitted</th>\n",
       "      <th>DaysSinceAdmission</th>\n",
       "      <th>&lt;=30Days</th>\n",
       "      <th>WillBe&lt;=30Days</th>\n",
       "    </tr>\n",
       "  </thead>\n",
       "  <tbody>\n",
       "    <tr>\n",
       "      <th>0</th>\n",
       "      <td>5e982461-47d7-4ae9-ac75-d1f31acaee81</td>\n",
       "      <td>2015-09-12</td>\n",
       "      <td>9</td>\n",
       "      <td>74</td>\n",
       "      <td>M</td>\n",
       "      <td>N18</td>\n",
       "      <td>T88</td>\n",
       "      <td></td>\n",
       "      <td>19</td>\n",
       "      <td>1</td>\n",
       "      <td>NaT</td>\n",
       "      <td>0</td>\n",
       "      <td>1.0</td>\n",
       "    </tr>\n",
       "    <tr>\n",
       "      <th>4304</th>\n",
       "      <td>5e982461-47d7-4ae9-ac75-d1f31acaee81</td>\n",
       "      <td>2015-09-22</td>\n",
       "      <td>5</td>\n",
       "      <td>74</td>\n",
       "      <td>M</td>\n",
       "      <td>J44</td>\n",
       "      <td>R41</td>\n",
       "      <td>H91</td>\n",
       "      <td>21</td>\n",
       "      <td>1</td>\n",
       "      <td>10 days</td>\n",
       "      <td>1</td>\n",
       "      <td>0.0</td>\n",
       "    </tr>\n",
       "  </tbody>\n",
       "</table>\n",
       "</div>"
      ],
      "text/plain": [
       "                                   Patient  AdmitDate  LOS  Age Gender  \\\n",
       "0     5e982461-47d7-4ae9-ac75-d1f31acaee81 2015-09-12    9   74      M   \n",
       "4304  5e982461-47d7-4ae9-ac75-d1f31acaee81 2015-09-22    5   74      M   \n",
       "\n",
       "     PrimaryDx  Dx2  Dx3  PastPCPVisits  Readmitted DaysSinceAdmission  \\\n",
       "0          N18  T88                  19           1                NaT   \n",
       "4304       J44  R41  H91             21           1            10 days   \n",
       "\n",
       "      <=30Days  WillBe<=30Days  \n",
       "0            0             1.0  \n",
       "4304         1             0.0  "
      ]
     },
     "execution_count": 746,
     "metadata": {},
     "output_type": "execute_result"
    }
   ],
   "source": [
    "full[full['Patient'] == '5e982461-47d7-4ae9-ac75-d1f31acaee81']"
   ]
  },
  {
   "cell_type": "code",
   "execution_count": 747,
   "metadata": {},
   "outputs": [
    {
     "data": {
      "text/plain": [
       "0    4471\n",
       "1    1378\n",
       "Name: <=30Days, dtype: int64"
      ]
     },
     "execution_count": 747,
     "metadata": {},
     "output_type": "execute_result"
    }
   ],
   "source": [
    "full['<=30Days'].value_counts()#.mean()"
   ]
  },
  {
   "cell_type": "code",
   "execution_count": 748,
   "metadata": {
    "scrolled": true
   },
   "outputs": [
    {
     "data": {
      "text/plain": [
       "0.0    2486\n",
       "1.0    1378\n",
       "Name: WillBe<=30Days, dtype: int64"
      ]
     },
     "execution_count": 748,
     "metadata": {},
     "output_type": "execute_result"
    }
   ],
   "source": [
    "full['WillBe<=30Days'].value_counts()#.mean()"
   ]
  },
  {
   "cell_type": "markdown",
   "metadata": {},
   "source": [
    "The means were different indicating something was wrong. Needed to fill rest of the column with 0's. "
   ]
  },
  {
   "cell_type": "code",
   "execution_count": 749,
   "metadata": {},
   "outputs": [],
   "source": [
    "full['WillBe<=30Days'] = full['WillBe<=30Days'].fillna(0)"
   ]
  },
  {
   "cell_type": "code",
   "execution_count": 750,
   "metadata": {},
   "outputs": [
    {
     "name": "stdout",
     "output_type": "stream",
     "text": [
      "There is a 23.56% chance of being readmitted within 30 days\n"
     ]
    }
   ],
   "source": [
    "print('There is a {:.2f}% chance of being readmitted within 30 days'.format(100*full['WillBe<=30Days'].mean()))\n"
   ]
  },
  {
   "cell_type": "markdown",
   "metadata": {},
   "source": [
    "#### Modification\n",
    "\n",
    "Since the rest of the notebook uses '<=30Days' as the target, I'm going to overwrite it with 'WillBe<=30Days'"
   ]
  },
  {
   "cell_type": "code",
   "execution_count": 751,
   "metadata": {
    "collapsed": true
   },
   "outputs": [],
   "source": [
    "full['<=30Days'] = full['WillBe<=30Days']\n",
    "full.drop('WillBe<=30Days',axis=1,inplace=True)"
   ]
  },
  {
   "cell_type": "markdown",
   "metadata": {},
   "source": [
    "#### Summary statistics of features\n",
    "\n",
    "Confirm no duplicates. Would not want to be incorrectly counting."
   ]
  },
  {
   "cell_type": "code",
   "execution_count": 752,
   "metadata": {},
   "outputs": [
    {
     "data": {
      "text/plain": [
       "0"
      ]
     },
     "execution_count": 752,
     "metadata": {},
     "output_type": "execute_result"
    }
   ],
   "source": [
    "full.duplicated().sum()"
   ]
  },
  {
   "cell_type": "code",
   "execution_count": 753,
   "metadata": {},
   "outputs": [
    {
     "name": "stdout",
     "output_type": "stream",
     "text": [
      "Columns:\n",
      "\tPatient\n",
      "\tAdmitDate\n",
      "\tLOS\n",
      "\tAge\n",
      "\tGender\n",
      "\tPrimaryDx\n",
      "\tDx2\n",
      "\tDx3\n",
      "\tPastPCPVisits\n",
      "\tReadmitted\n",
      "\tDaysSinceAdmission\n",
      "\t<=30Days\n"
     ]
    }
   ],
   "source": [
    "print('Columns:\\n\\t'+'\\n\\t'.join(map(str,[col for col in full.columns])))"
   ]
  },
  {
   "cell_type": "markdown",
   "metadata": {},
   "source": [
    "Theres a uniform distribution in of data across all the dates in the dataset with the months in 2017 trailing off.\n",
    "\n",
    "2017 dates won't be used in the evaluation of the model so this will not affect us"
   ]
  },
  {
   "cell_type": "code",
   "execution_count": 754,
   "metadata": {},
   "outputs": [
    {
     "data": {
      "text/plain": [
       "<matplotlib.text.Text at 0x1a29050c88>"
      ]
     },
     "execution_count": 754,
     "metadata": {},
     "output_type": "execute_result"
    },
    {
     "data": {
      "image/png": "[encoded data removed]",
      "text/plain": [
       "<matplotlib.figure.Figure at 0x1a29073860>"
      ]
     },
     "metadata": {},
     "output_type": "display_data"
    }
   ],
   "source": [
    "full['AdmitDate'].hist(xrot=90,figsize=(12,4))\n",
    "plt.title('Patient distribution over dates',size=15)\n",
    "plt.ylabel('count')"
   ]
  },
  {
   "cell_type": "markdown",
   "metadata": {},
   "source": [
    "There is a ~normal distribution of Length of Stay centered around 6 days. There is a broad spread with a min of 1 and a max of 15 however 50% of the data sits in buckets days 5,6,7 days long."
   ]
  },
  {
   "cell_type": "code",
   "execution_count": 755,
   "metadata": {},
   "outputs": [
    {
     "data": {
      "text/plain": [
       "<matplotlib.text.Text at 0x1a2a20bef0>"
      ]
     },
     "execution_count": 755,
     "metadata": {},
     "output_type": "execute_result"
    },
    {
     "data": {
      "image/png": "[encoded data removed]",
      "text/plain": [
       "<matplotlib.figure.Figure at 0x1a290736a0>"
      ]
     },
     "metadata": {},
     "output_type": "display_data"
    }
   ],
   "source": [
    "full['LOS'].plot(kind='box',figsize=(12,4),vert=False)\n",
    "plt.xlabel('days')\n",
    "plt.title('Distribution of length of stay',size=15)"
   ]
  },
  {
   "cell_type": "code",
   "execution_count": 756,
   "metadata": {},
   "outputs": [
    {
     "data": {
      "text/plain": [
       "15"
      ]
     },
     "execution_count": 756,
     "metadata": {},
     "output_type": "execute_result"
    }
   ],
   "source": [
    "full['LOS'].unique().shape[0]"
   ]
  },
  {
   "cell_type": "code",
   "execution_count": 757,
   "metadata": {},
   "outputs": [
    {
     "data": {
      "text/plain": [
       "<matplotlib.text.Text at 0x1a23234630>"
      ]
     },
     "execution_count": 757,
     "metadata": {},
     "output_type": "execute_result"
    },
    {
     "data": {
      "image/png": "[encoded data removed]",
      "text/plain": [
       "<matplotlib.figure.Figure at 0x1a28d82cc0>"
      ]
     },
     "metadata": {},
     "output_type": "display_data"
    }
   ],
   "source": [
    "full['LOS'].hist(bins=15,figsize=(12,4))\n",
    "plt.title('Distribution of length of stay',size=15)\n",
    "plt.xlabel('days')\n",
    "plt.ylabel('count')"
   ]
  },
  {
   "cell_type": "markdown",
   "metadata": {},
   "source": [
    "Age is a normal distribution with a clipping at the end probably rounding ages over 90 to the age 90. Majority sit between 72-80 yrs old."
   ]
  },
  {
   "cell_type": "code",
   "execution_count": 758,
   "metadata": {},
   "outputs": [
    {
     "data": {
      "text/plain": [
       "<matplotlib.text.Text at 0x1a232e3f60>"
      ]
     },
     "execution_count": 758,
     "metadata": {},
     "output_type": "execute_result"
    },
    {
     "data": {
      "image/png": "[encoded data removed]",
      "text/plain": [
       "<matplotlib.figure.Figure at 0x1a28ed9780>"
      ]
     },
     "metadata": {},
     "output_type": "display_data"
    }
   ],
   "source": [
    "full['Age'].plot(kind='box',figsize=(12,4),vert=False)\n",
    "plt.xlabel('yrs old')\n",
    "plt.title('Distribution of Age',size=15)"
   ]
  },
  {
   "cell_type": "code",
   "execution_count": 759,
   "metadata": {},
   "outputs": [
    {
     "data": {
      "text/plain": [
       "26"
      ]
     },
     "execution_count": 759,
     "metadata": {},
     "output_type": "execute_result"
    }
   ],
   "source": [
    "full['Age'].unique().shape[0]"
   ]
  },
  {
   "cell_type": "code",
   "execution_count": 760,
   "metadata": {},
   "outputs": [
    {
     "data": {
      "text/plain": [
       "<matplotlib.text.Text at 0x1a2a255dd8>"
      ]
     },
     "execution_count": 760,
     "metadata": {},
     "output_type": "execute_result"
    },
    {
     "data": {
      "image/png": "[encoded data removed]",
      "text/plain": [
       "<matplotlib.figure.Figure at 0x1a232b9278>"
      ]
     },
     "metadata": {},
     "output_type": "display_data"
    }
   ],
   "source": [
    "full['Age'].hist(bins=26,figsize=(12,4))\n",
    "plt.title('Distribution of Age',size=15)\n",
    "plt.xlabel('yrs old')\n",
    "plt.ylabel('count')"
   ]
  },
  {
   "cell_type": "markdown",
   "metadata": {},
   "source": [
    "Even split of genders, though slightly more female as would be expected by their long expected lifespan"
   ]
  },
  {
   "cell_type": "code",
   "execution_count": 761,
   "metadata": {},
   "outputs": [
    {
     "data": {
      "text/plain": [
       "<matplotlib.text.Text at 0x1a29569978>"
      ]
     },
     "execution_count": 761,
     "metadata": {},
     "output_type": "execute_result"
    },
    {
     "data": {
      "image/png": "[encoded data removed]",
      "text/plain": [
       "<matplotlib.figure.Figure at 0x1a29531828>"
      ]
     },
     "metadata": {},
     "output_type": "display_data"
    }
   ],
   "source": [
    "full['Gender'].value_counts().plot(kind='bar',figsize=(12,4))\n",
    "plt.title('Gender Distribution',size=15)\n",
    "plt.xlabel('gender')\n",
    "plt.ylabel('count')"
   ]
  },
  {
   "cell_type": "markdown",
   "metadata": {},
   "source": [
    "There are 3 diagnoses columns so lets take a look at all together. \n",
    "\n",
    "PrimaryDx:\n",
    "    - N39 has very few occurances\n",
    "    \n",
    "Dx2:\n",
    "    - M54 has very few occurances\n",
    "    \n",
    "Dx3:\n",
    "    - Exluding the missing data, all Dxs look to have between 200-500 occurances\n"
   ]
  },
  {
   "cell_type": "code",
   "execution_count": 762,
   "metadata": {
    "collapsed": true
   },
   "outputs": [],
   "source": [
    "Dx_cols = ['PrimaryDx','Dx2','Dx3']"
   ]
  },
  {
   "cell_type": "code",
   "execution_count": 763,
   "metadata": {},
   "outputs": [
    {
     "data": {
      "image/png": "[encoded data removed]",
      "text/plain": [
       "<matplotlib.figure.Figure at 0x1a296946d8>"
      ]
     },
     "metadata": {},
     "output_type": "display_data"
    },
    {
     "data": {
      "image/png": "[encoded data removed]",
      "text/plain": [
       "<matplotlib.figure.Figure at 0x1a296947f0>"
      ]
     },
     "metadata": {},
     "output_type": "display_data"
    },
    {
     "data": {
      "image/png": "[encoded data removed]",
      "text/plain": [
       "<matplotlib.figure.Figure at 0x1a29718668>"
      ]
     },
     "metadata": {},
     "output_type": "display_data"
    },
    {
     "data": {
      "text/plain": [
       "<matplotlib.figure.Figure at 0x1a29a86f28>"
      ]
     },
     "metadata": {},
     "output_type": "display_data"
    }
   ],
   "source": [
    "for col in Dx_cols:\n",
    "    bins = full[col].unique().shape[0]\n",
    "    #full[col].hist(bins=bins,figsize=(12,4))\n",
    "    full[col].value_counts().plot(kind='bar',figsize=(12,4))\n",
    "    plt.title('Distribution of {}'.format(col),size=15)\n",
    "    plt.xlabel('dx')\n",
    "    plt.ylabel('count')\n",
    "    plt.figure()"
   ]
  },
  {
   "cell_type": "markdown",
   "metadata": {},
   "source": [
    "Past visits are all centered around 11 with 50% of the data between 7 adn 15 visits."
   ]
  },
  {
   "cell_type": "code",
   "execution_count": 764,
   "metadata": {},
   "outputs": [
    {
     "data": {
      "text/plain": [
       "count    5849.000000\n",
       "mean       11.123782\n",
       "std         5.373314\n",
       "min         1.000000\n",
       "25%         7.000000\n",
       "50%        11.000000\n",
       "75%        15.000000\n",
       "max        34.000000\n",
       "Name: PastPCPVisits, dtype: float64"
      ]
     },
     "execution_count": 764,
     "metadata": {},
     "output_type": "execute_result"
    }
   ],
   "source": [
    "full['PastPCPVisits'].describe()"
   ]
  },
  {
   "cell_type": "code",
   "execution_count": 765,
   "metadata": {},
   "outputs": [
    {
     "data": {
      "text/plain": [
       "<matplotlib.text.Text at 0x1a29af02b0>"
      ]
     },
     "execution_count": 765,
     "metadata": {},
     "output_type": "execute_result"
    },
    {
     "data": {
      "image/png": "[encoded data removed]",
      "text/plain": [
       "<matplotlib.figure.Figure at 0x1a29040ef0>"
      ]
     },
     "metadata": {},
     "output_type": "display_data"
    }
   ],
   "source": [
    "full['PastPCPVisits'].plot(kind='box',figsize=(12,4),vert=False)\n",
    "plt.xlabel('visits')\n",
    "plt.title('Distribution of Past PCP Visits',size=15)"
   ]
  },
  {
   "cell_type": "code",
   "execution_count": 766,
   "metadata": {},
   "outputs": [
    {
     "data": {
      "text/plain": [
       "<matplotlib.figure.Figure at 0x1a28ee0eb8>"
      ]
     },
     "execution_count": 766,
     "metadata": {},
     "output_type": "execute_result"
    },
    {
     "data": {
      "image/png": "[encoded data removed]",
      "text/plain": [
       "<matplotlib.figure.Figure at 0x1a28da0048>"
      ]
     },
     "metadata": {},
     "output_type": "display_data"
    },
    {
     "data": {
      "text/plain": [
       "<matplotlib.figure.Figure at 0x1a28ee0eb8>"
      ]
     },
     "metadata": {},
     "output_type": "display_data"
    }
   ],
   "source": [
    "bins = full['PastPCPVisits'].unique().shape[0]\n",
    "full['PastPCPVisits'].hist(bins=bins,figsize=(12,4))\n",
    "plt.title('Distribution of Past PCP Visits'.format(col),size=15)\n",
    "plt.xlabel('visits')\n",
    "plt.ylabel('count')\n",
    "plt.figure()"
   ]
  },
  {
   "cell_type": "markdown",
   "metadata": {},
   "source": [
    "#### Take a quick look at which diagnoses, ages, and past visits lead to the highest readmittance\n",
    "\n",
    "Baseline rate is 66% readmitted but only 24% of those are readmitted within less than 30 days. We are therefore looking for combinations which lead to a higher readmitted rate than 24%."
   ]
  },
  {
   "cell_type": "code",
   "execution_count": 767,
   "metadata": {},
   "outputs": [
    {
     "data": {
      "text/plain": [
       "0.23559582834672593"
      ]
     },
     "execution_count": 767,
     "metadata": {},
     "output_type": "execute_result"
    }
   ],
   "source": [
    "full['<=30Days'].mean()"
   ]
  },
  {
   "cell_type": "code",
   "execution_count": 768,
   "metadata": {
    "scrolled": true
   },
   "outputs": [
    {
     "name": "stderr",
     "output_type": "stream",
     "text": [
      "/Users/xbno/anaconda3/lib/python3.6/site-packages/ipykernel_launcher.py:1: FutureWarning: using a dict on a Series for aggregation\n",
      "is deprecated and will be removed in a future version\n",
      "  \"\"\"Entry point for launching an IPython kernel.\n"
     ]
    },
    {
     "data": {
      "text/html": [
       "<div>\n",
       "<style>\n",
       "    .dataframe thead tr:only-child th {\n",
       "        text-align: right;\n",
       "    }\n",
       "\n",
       "    .dataframe thead th {\n",
       "        text-align: left;\n",
       "    }\n",
       "\n",
       "    .dataframe tbody tr th {\n",
       "        vertical-align: top;\n",
       "    }\n",
       "</style>\n",
       "<table border=\"1\" class=\"dataframe\">\n",
       "  <thead>\n",
       "    <tr style=\"text-align: right;\">\n",
       "      <th></th>\n",
       "      <th>sum</th>\n",
       "      <th>count</th>\n",
       "      <th>mean</th>\n",
       "    </tr>\n",
       "    <tr>\n",
       "      <th>PrimaryDx</th>\n",
       "      <th></th>\n",
       "      <th></th>\n",
       "      <th></th>\n",
       "    </tr>\n",
       "  </thead>\n",
       "  <tbody>\n",
       "    <tr>\n",
       "      <th>N39</th>\n",
       "      <td>6.0</td>\n",
       "      <td>10</td>\n",
       "      <td>0.600000</td>\n",
       "    </tr>\n",
       "    <tr>\n",
       "      <th>E11</th>\n",
       "      <td>503.0</td>\n",
       "      <td>1422</td>\n",
       "      <td>0.353727</td>\n",
       "    </tr>\n",
       "    <tr>\n",
       "      <th>N18</th>\n",
       "      <td>504.0</td>\n",
       "      <td>1498</td>\n",
       "      <td>0.336449</td>\n",
       "    </tr>\n",
       "    <tr>\n",
       "      <th>A41</th>\n",
       "      <td>260.0</td>\n",
       "      <td>1171</td>\n",
       "      <td>0.222032</td>\n",
       "    </tr>\n",
       "    <tr>\n",
       "      <th>I50</th>\n",
       "      <td>84.0</td>\n",
       "      <td>943</td>\n",
       "      <td>0.089077</td>\n",
       "    </tr>\n",
       "    <tr>\n",
       "      <th>J44</th>\n",
       "      <td>21.0</td>\n",
       "      <td>805</td>\n",
       "      <td>0.026087</td>\n",
       "    </tr>\n",
       "  </tbody>\n",
       "</table>\n",
       "</div>"
      ],
      "text/plain": [
       "             sum  count      mean\n",
       "PrimaryDx                        \n",
       "N39          6.0     10  0.600000\n",
       "E11        503.0   1422  0.353727\n",
       "N18        504.0   1498  0.336449\n",
       "A41        260.0   1171  0.222032\n",
       "I50         84.0    943  0.089077\n",
       "J44         21.0    805  0.026087"
      ]
     },
     "execution_count": 768,
     "metadata": {},
     "output_type": "execute_result"
    }
   ],
   "source": [
    "full.groupby(['PrimaryDx'])['<=30Days'].agg({'sum':'sum','count':'count','mean':'mean'}).sort_values(by='mean',ascending=False)\n"
   ]
  },
  {
   "cell_type": "code",
   "execution_count": 769,
   "metadata": {},
   "outputs": [
    {
     "name": "stderr",
     "output_type": "stream",
     "text": [
      "/Users/xbno/anaconda3/lib/python3.6/site-packages/ipykernel_launcher.py:1: FutureWarning: using a dict on a Series for aggregation\n",
      "is deprecated and will be removed in a future version\n",
      "  \"\"\"Entry point for launching an IPython kernel.\n"
     ]
    },
    {
     "data": {
      "text/html": [
       "<div>\n",
       "<style>\n",
       "    .dataframe thead tr:only-child th {\n",
       "        text-align: right;\n",
       "    }\n",
       "\n",
       "    .dataframe thead th {\n",
       "        text-align: left;\n",
       "    }\n",
       "\n",
       "    .dataframe tbody tr th {\n",
       "        vertical-align: top;\n",
       "    }\n",
       "</style>\n",
       "<table border=\"1\" class=\"dataframe\">\n",
       "  <thead>\n",
       "    <tr style=\"text-align: right;\">\n",
       "      <th></th>\n",
       "      <th>sum</th>\n",
       "      <th>count</th>\n",
       "      <th>mean</th>\n",
       "    </tr>\n",
       "    <tr>\n",
       "      <th>Dx2</th>\n",
       "      <th></th>\n",
       "      <th></th>\n",
       "      <th></th>\n",
       "    </tr>\n",
       "  </thead>\n",
       "  <tbody>\n",
       "    <tr>\n",
       "      <th>M54</th>\n",
       "      <td>4.0</td>\n",
       "      <td>5</td>\n",
       "      <td>0.800000</td>\n",
       "    </tr>\n",
       "    <tr>\n",
       "      <th>T88</th>\n",
       "      <td>348.0</td>\n",
       "      <td>830</td>\n",
       "      <td>0.419277</td>\n",
       "    </tr>\n",
       "    <tr>\n",
       "      <th>F03</th>\n",
       "      <td>288.0</td>\n",
       "      <td>748</td>\n",
       "      <td>0.385027</td>\n",
       "    </tr>\n",
       "    <tr>\n",
       "      <th>R39</th>\n",
       "      <td>271.0</td>\n",
       "      <td>764</td>\n",
       "      <td>0.354712</td>\n",
       "    </tr>\n",
       "    <tr>\n",
       "      <th>G31</th>\n",
       "      <td>182.0</td>\n",
       "      <td>626</td>\n",
       "      <td>0.290735</td>\n",
       "    </tr>\n",
       "    <tr>\n",
       "      <th>F05</th>\n",
       "      <td>126.0</td>\n",
       "      <td>517</td>\n",
       "      <td>0.243714</td>\n",
       "    </tr>\n",
       "    <tr>\n",
       "      <th>R41</th>\n",
       "      <td>78.0</td>\n",
       "      <td>448</td>\n",
       "      <td>0.174107</td>\n",
       "    </tr>\n",
       "    <tr>\n",
       "      <th>F19</th>\n",
       "      <td>41.0</td>\n",
       "      <td>425</td>\n",
       "      <td>0.096471</td>\n",
       "    </tr>\n",
       "    <tr>\n",
       "      <th>I51</th>\n",
       "      <td>20.0</td>\n",
       "      <td>423</td>\n",
       "      <td>0.047281</td>\n",
       "    </tr>\n",
       "    <tr>\n",
       "      <th>E86</th>\n",
       "      <td>15.0</td>\n",
       "      <td>388</td>\n",
       "      <td>0.038660</td>\n",
       "    </tr>\n",
       "    <tr>\n",
       "      <th>E11</th>\n",
       "      <td>5.0</td>\n",
       "      <td>357</td>\n",
       "      <td>0.014006</td>\n",
       "    </tr>\n",
       "    <tr>\n",
       "      <th>W19</th>\n",
       "      <td>0.0</td>\n",
       "      <td>318</td>\n",
       "      <td>0.000000</td>\n",
       "    </tr>\n",
       "  </tbody>\n",
       "</table>\n",
       "</div>"
      ],
      "text/plain": [
       "       sum  count      mean\n",
       "Dx2                        \n",
       "M54    4.0      5  0.800000\n",
       "T88  348.0    830  0.419277\n",
       "F03  288.0    748  0.385027\n",
       "R39  271.0    764  0.354712\n",
       "G31  182.0    626  0.290735\n",
       "F05  126.0    517  0.243714\n",
       "R41   78.0    448  0.174107\n",
       "F19   41.0    425  0.096471\n",
       "I51   20.0    423  0.047281\n",
       "E86   15.0    388  0.038660\n",
       "E11    5.0    357  0.014006\n",
       "W19    0.0    318  0.000000"
      ]
     },
     "execution_count": 769,
     "metadata": {},
     "output_type": "execute_result"
    }
   ],
   "source": [
    "full.groupby(['Dx2'])['<=30Days'].agg({'sum':'sum','count':'count','mean':'mean'}).sort_values(by='mean',ascending=False)"
   ]
  },
  {
   "cell_type": "code",
   "execution_count": 770,
   "metadata": {},
   "outputs": [
    {
     "name": "stderr",
     "output_type": "stream",
     "text": [
      "/Users/xbno/anaconda3/lib/python3.6/site-packages/ipykernel_launcher.py:1: FutureWarning: using a dict on a Series for aggregation\n",
      "is deprecated and will be removed in a future version\n",
      "  \"\"\"Entry point for launching an IPython kernel.\n"
     ]
    },
    {
     "data": {
      "text/html": [
       "<div>\n",
       "<style>\n",
       "    .dataframe thead tr:only-child th {\n",
       "        text-align: right;\n",
       "    }\n",
       "\n",
       "    .dataframe thead th {\n",
       "        text-align: left;\n",
       "    }\n",
       "\n",
       "    .dataframe tbody tr th {\n",
       "        vertical-align: top;\n",
       "    }\n",
       "</style>\n",
       "<table border=\"1\" class=\"dataframe\">\n",
       "  <thead>\n",
       "    <tr style=\"text-align: right;\">\n",
       "      <th></th>\n",
       "      <th>sum</th>\n",
       "      <th>count</th>\n",
       "      <th>mean</th>\n",
       "    </tr>\n",
       "    <tr>\n",
       "      <th>Dx3</th>\n",
       "      <th></th>\n",
       "      <th></th>\n",
       "      <th></th>\n",
       "    </tr>\n",
       "  </thead>\n",
       "  <tbody>\n",
       "    <tr>\n",
       "      <th>I10</th>\n",
       "      <td>45.0</td>\n",
       "      <td>144</td>\n",
       "      <td>0.312500</td>\n",
       "    </tr>\n",
       "    <tr>\n",
       "      <th>R51</th>\n",
       "      <td>74.0</td>\n",
       "      <td>287</td>\n",
       "      <td>0.257840</td>\n",
       "    </tr>\n",
       "    <tr>\n",
       "      <th>E11</th>\n",
       "      <td>77.0</td>\n",
       "      <td>299</td>\n",
       "      <td>0.257525</td>\n",
       "    </tr>\n",
       "    <tr>\n",
       "      <th>J18</th>\n",
       "      <td>33.0</td>\n",
       "      <td>132</td>\n",
       "      <td>0.250000</td>\n",
       "    </tr>\n",
       "    <tr>\n",
       "      <th>H91</th>\n",
       "      <td>32.0</td>\n",
       "      <td>129</td>\n",
       "      <td>0.248062</td>\n",
       "    </tr>\n",
       "    <tr>\n",
       "      <th></th>\n",
       "      <td>915.0</td>\n",
       "      <td>3910</td>\n",
       "      <td>0.234015</td>\n",
       "    </tr>\n",
       "    <tr>\n",
       "      <th>G89</th>\n",
       "      <td>29.0</td>\n",
       "      <td>125</td>\n",
       "      <td>0.232000</td>\n",
       "    </tr>\n",
       "    <tr>\n",
       "      <th>J45</th>\n",
       "      <td>31.0</td>\n",
       "      <td>136</td>\n",
       "      <td>0.227941</td>\n",
       "    </tr>\n",
       "    <tr>\n",
       "      <th>R05</th>\n",
       "      <td>32.0</td>\n",
       "      <td>147</td>\n",
       "      <td>0.217687</td>\n",
       "    </tr>\n",
       "    <tr>\n",
       "      <th>M54</th>\n",
       "      <td>29.0</td>\n",
       "      <td>135</td>\n",
       "      <td>0.214815</td>\n",
       "    </tr>\n",
       "    <tr>\n",
       "      <th>H53</th>\n",
       "      <td>31.0</td>\n",
       "      <td>146</td>\n",
       "      <td>0.212329</td>\n",
       "    </tr>\n",
       "    <tr>\n",
       "      <th>E56</th>\n",
       "      <td>27.0</td>\n",
       "      <td>134</td>\n",
       "      <td>0.201493</td>\n",
       "    </tr>\n",
       "    <tr>\n",
       "      <th>R26</th>\n",
       "      <td>23.0</td>\n",
       "      <td>125</td>\n",
       "      <td>0.184000</td>\n",
       "    </tr>\n",
       "  </tbody>\n",
       "</table>\n",
       "</div>"
      ],
      "text/plain": [
       "       sum  count      mean\n",
       "Dx3                        \n",
       "I10   45.0    144  0.312500\n",
       "R51   74.0    287  0.257840\n",
       "E11   77.0    299  0.257525\n",
       "J18   33.0    132  0.250000\n",
       "H91   32.0    129  0.248062\n",
       "     915.0   3910  0.234015\n",
       "G89   29.0    125  0.232000\n",
       "J45   31.0    136  0.227941\n",
       "R05   32.0    147  0.217687\n",
       "M54   29.0    135  0.214815\n",
       "H53   31.0    146  0.212329\n",
       "E56   27.0    134  0.201493\n",
       "R26   23.0    125  0.184000"
      ]
     },
     "execution_count": 770,
     "metadata": {},
     "output_type": "execute_result"
    }
   ],
   "source": [
    "full.groupby(['Dx3'])['<=30Days'].agg({'sum':'sum','count':'count','mean':'mean'}).sort_values(by='mean',ascending=False)\n"
   ]
  },
  {
   "cell_type": "markdown",
   "metadata": {},
   "source": [
    "Age:\n",
    "    - There is a sharp drop off in readmittance rate in the low to mid 70s\n",
    "    - Late 70s and onward there is a 6% higher chance that you'll be readmitted"
   ]
  },
  {
   "cell_type": "code",
   "execution_count": 771,
   "metadata": {},
   "outputs": [
    {
     "name": "stderr",
     "output_type": "stream",
     "text": [
      "/Users/xbno/anaconda3/lib/python3.6/site-packages/ipykernel_launcher.py:1: FutureWarning: using a dict on a Series for aggregation\n",
      "is deprecated and will be removed in a future version\n",
      "  \"\"\"Entry point for launching an IPython kernel.\n"
     ]
    },
    {
     "data": {
      "text/plain": [
       "<matplotlib.text.Text at 0x1a29b2acf8>"
      ]
     },
     "execution_count": 771,
     "metadata": {},
     "output_type": "execute_result"
    },
    {
     "data": {
      "image/png": "[encoded data removed]",
      "text/plain": [
       "<matplotlib.figure.Figure at 0x1a29a28358>"
      ]
     },
     "metadata": {},
     "output_type": "display_data"
    }
   ],
   "source": [
    "full.groupby(['Age'])['<=30Days'].agg({'sum':'sum','count':'count','mean':'mean'})['mean'].plot(kind='bar',figsize=(12,4))\n",
    "plt.title('Readmittance rate by Age',size=15)\n",
    "plt.ylabel('readmitted rate')"
   ]
  },
  {
   "cell_type": "code",
   "execution_count": 772,
   "metadata": {},
   "outputs": [
    {
     "name": "stderr",
     "output_type": "stream",
     "text": [
      "/Users/xbno/anaconda3/lib/python3.6/site-packages/ipykernel_launcher.py:1: FutureWarning: using a dict on a Series for aggregation\n",
      "is deprecated and will be removed in a future version\n",
      "  \"\"\"Entry point for launching an IPython kernel.\n"
     ]
    },
    {
     "data": {
      "text/html": [
       "<div>\n",
       "<style>\n",
       "    .dataframe thead tr:only-child th {\n",
       "        text-align: right;\n",
       "    }\n",
       "\n",
       "    .dataframe thead th {\n",
       "        text-align: left;\n",
       "    }\n",
       "\n",
       "    .dataframe tbody tr th {\n",
       "        vertical-align: top;\n",
       "    }\n",
       "</style>\n",
       "<table border=\"1\" class=\"dataframe\">\n",
       "  <thead>\n",
       "    <tr style=\"text-align: right;\">\n",
       "      <th></th>\n",
       "      <th>sum</th>\n",
       "      <th>count</th>\n",
       "      <th>mean</th>\n",
       "    </tr>\n",
       "    <tr>\n",
       "      <th>Age</th>\n",
       "      <th></th>\n",
       "      <th></th>\n",
       "      <th></th>\n",
       "    </tr>\n",
       "  </thead>\n",
       "  <tbody>\n",
       "    <tr>\n",
       "      <th>88</th>\n",
       "      <td>14.0</td>\n",
       "      <td>39</td>\n",
       "      <td>0.358974</td>\n",
       "    </tr>\n",
       "    <tr>\n",
       "      <th>87</th>\n",
       "      <td>28.0</td>\n",
       "      <td>80</td>\n",
       "      <td>0.350000</td>\n",
       "    </tr>\n",
       "    <tr>\n",
       "      <th>85</th>\n",
       "      <td>45.0</td>\n",
       "      <td>129</td>\n",
       "      <td>0.348837</td>\n",
       "    </tr>\n",
       "    <tr>\n",
       "      <th>81</th>\n",
       "      <td>84.0</td>\n",
       "      <td>244</td>\n",
       "      <td>0.344262</td>\n",
       "    </tr>\n",
       "    <tr>\n",
       "      <th>86</th>\n",
       "      <td>32.0</td>\n",
       "      <td>97</td>\n",
       "      <td>0.329897</td>\n",
       "    </tr>\n",
       "    <tr>\n",
       "      <th>89</th>\n",
       "      <td>13.0</td>\n",
       "      <td>41</td>\n",
       "      <td>0.317073</td>\n",
       "    </tr>\n",
       "    <tr>\n",
       "      <th>84</th>\n",
       "      <td>46.0</td>\n",
       "      <td>146</td>\n",
       "      <td>0.315068</td>\n",
       "    </tr>\n",
       "    <tr>\n",
       "      <th>90</th>\n",
       "      <td>31.0</td>\n",
       "      <td>99</td>\n",
       "      <td>0.313131</td>\n",
       "    </tr>\n",
       "    <tr>\n",
       "      <th>77</th>\n",
       "      <td>130.0</td>\n",
       "      <td>418</td>\n",
       "      <td>0.311005</td>\n",
       "    </tr>\n",
       "    <tr>\n",
       "      <th>78</th>\n",
       "      <td>103.0</td>\n",
       "      <td>332</td>\n",
       "      <td>0.310241</td>\n",
       "    </tr>\n",
       "    <tr>\n",
       "      <th>79</th>\n",
       "      <td>111.0</td>\n",
       "      <td>367</td>\n",
       "      <td>0.302452</td>\n",
       "    </tr>\n",
       "    <tr>\n",
       "      <th>83</th>\n",
       "      <td>57.0</td>\n",
       "      <td>191</td>\n",
       "      <td>0.298429</td>\n",
       "    </tr>\n",
       "    <tr>\n",
       "      <th>80</th>\n",
       "      <td>89.0</td>\n",
       "      <td>301</td>\n",
       "      <td>0.295681</td>\n",
       "    </tr>\n",
       "    <tr>\n",
       "      <th>82</th>\n",
       "      <td>55.0</td>\n",
       "      <td>187</td>\n",
       "      <td>0.294118</td>\n",
       "    </tr>\n",
       "    <tr>\n",
       "      <th>75</th>\n",
       "      <td>121.0</td>\n",
       "      <td>414</td>\n",
       "      <td>0.292271</td>\n",
       "    </tr>\n",
       "    <tr>\n",
       "      <th>76</th>\n",
       "      <td>97.0</td>\n",
       "      <td>373</td>\n",
       "      <td>0.260054</td>\n",
       "    </tr>\n",
       "    <tr>\n",
       "      <th>73</th>\n",
       "      <td>100.0</td>\n",
       "      <td>391</td>\n",
       "      <td>0.255754</td>\n",
       "    </tr>\n",
       "    <tr>\n",
       "      <th>74</th>\n",
       "      <td>96.0</td>\n",
       "      <td>380</td>\n",
       "      <td>0.252632</td>\n",
       "    </tr>\n",
       "    <tr>\n",
       "      <th>72</th>\n",
       "      <td>66.0</td>\n",
       "      <td>341</td>\n",
       "      <td>0.193548</td>\n",
       "    </tr>\n",
       "    <tr>\n",
       "      <th>71</th>\n",
       "      <td>34.0</td>\n",
       "      <td>282</td>\n",
       "      <td>0.120567</td>\n",
       "    </tr>\n",
       "    <tr>\n",
       "      <th>70</th>\n",
       "      <td>13.0</td>\n",
       "      <td>223</td>\n",
       "      <td>0.058296</td>\n",
       "    </tr>\n",
       "    <tr>\n",
       "      <th>69</th>\n",
       "      <td>12.0</td>\n",
       "      <td>229</td>\n",
       "      <td>0.052402</td>\n",
       "    </tr>\n",
       "    <tr>\n",
       "      <th>68</th>\n",
       "      <td>1.0</td>\n",
       "      <td>216</td>\n",
       "      <td>0.004630</td>\n",
       "    </tr>\n",
       "    <tr>\n",
       "      <th>66</th>\n",
       "      <td>0.0</td>\n",
       "      <td>119</td>\n",
       "      <td>0.000000</td>\n",
       "    </tr>\n",
       "    <tr>\n",
       "      <th>67</th>\n",
       "      <td>0.0</td>\n",
       "      <td>196</td>\n",
       "      <td>0.000000</td>\n",
       "    </tr>\n",
       "    <tr>\n",
       "      <th>65</th>\n",
       "      <td>0.0</td>\n",
       "      <td>14</td>\n",
       "      <td>0.000000</td>\n",
       "    </tr>\n",
       "  </tbody>\n",
       "</table>\n",
       "</div>"
      ],
      "text/plain": [
       "       sum  count      mean\n",
       "Age                        \n",
       "88    14.0     39  0.358974\n",
       "87    28.0     80  0.350000\n",
       "85    45.0    129  0.348837\n",
       "81    84.0    244  0.344262\n",
       "86    32.0     97  0.329897\n",
       "89    13.0     41  0.317073\n",
       "84    46.0    146  0.315068\n",
       "90    31.0     99  0.313131\n",
       "77   130.0    418  0.311005\n",
       "78   103.0    332  0.310241\n",
       "79   111.0    367  0.302452\n",
       "83    57.0    191  0.298429\n",
       "80    89.0    301  0.295681\n",
       "82    55.0    187  0.294118\n",
       "75   121.0    414  0.292271\n",
       "76    97.0    373  0.260054\n",
       "73   100.0    391  0.255754\n",
       "74    96.0    380  0.252632\n",
       "72    66.0    341  0.193548\n",
       "71    34.0    282  0.120567\n",
       "70    13.0    223  0.058296\n",
       "69    12.0    229  0.052402\n",
       "68     1.0    216  0.004630\n",
       "66     0.0    119  0.000000\n",
       "67     0.0    196  0.000000\n",
       "65     0.0     14  0.000000"
      ]
     },
     "execution_count": 772,
     "metadata": {},
     "output_type": "execute_result"
    }
   ],
   "source": [
    "full.groupby(['Age'])['<=30Days'].agg({'sum':'sum','count':'count','mean':'mean'}).sort_values(by='mean',ascending=False)"
   ]
  },
  {
   "cell_type": "code",
   "execution_count": 773,
   "metadata": {},
   "outputs": [
    {
     "name": "stderr",
     "output_type": "stream",
     "text": [
      "/Users/xbno/anaconda3/lib/python3.6/site-packages/ipykernel_launcher.py:1: FutureWarning: using a dict on a Series for aggregation\n",
      "is deprecated and will be removed in a future version\n",
      "  \"\"\"Entry point for launching an IPython kernel.\n"
     ]
    },
    {
     "data": {
      "text/html": [
       "<div>\n",
       "<style>\n",
       "    .dataframe thead tr:only-child th {\n",
       "        text-align: right;\n",
       "    }\n",
       "\n",
       "    .dataframe thead th {\n",
       "        text-align: left;\n",
       "    }\n",
       "\n",
       "    .dataframe tbody tr th {\n",
       "        vertical-align: top;\n",
       "    }\n",
       "</style>\n",
       "<table border=\"1\" class=\"dataframe\">\n",
       "  <thead>\n",
       "    <tr style=\"text-align: right;\">\n",
       "      <th></th>\n",
       "      <th>sum</th>\n",
       "      <th>count</th>\n",
       "      <th>mean</th>\n",
       "    </tr>\n",
       "    <tr>\n",
       "      <th>PastPCPVisits</th>\n",
       "      <th></th>\n",
       "      <th></th>\n",
       "      <th></th>\n",
       "    </tr>\n",
       "  </thead>\n",
       "  <tbody>\n",
       "    <tr>\n",
       "      <th>30</th>\n",
       "      <td>1.0</td>\n",
       "      <td>1</td>\n",
       "      <td>1.000000</td>\n",
       "    </tr>\n",
       "    <tr>\n",
       "      <th>11</th>\n",
       "      <td>125.0</td>\n",
       "      <td>391</td>\n",
       "      <td>0.319693</td>\n",
       "    </tr>\n",
       "    <tr>\n",
       "      <th>1</th>\n",
       "      <td>23.0</td>\n",
       "      <td>75</td>\n",
       "      <td>0.306667</td>\n",
       "    </tr>\n",
       "    <tr>\n",
       "      <th>13</th>\n",
       "      <td>110.0</td>\n",
       "      <td>385</td>\n",
       "      <td>0.285714</td>\n",
       "    </tr>\n",
       "    <tr>\n",
       "      <th>8</th>\n",
       "      <td>90.0</td>\n",
       "      <td>330</td>\n",
       "      <td>0.272727</td>\n",
       "    </tr>\n",
       "    <tr>\n",
       "      <th>10</th>\n",
       "      <td>98.0</td>\n",
       "      <td>366</td>\n",
       "      <td>0.267760</td>\n",
       "    </tr>\n",
       "    <tr>\n",
       "      <th>17</th>\n",
       "      <td>70.0</td>\n",
       "      <td>267</td>\n",
       "      <td>0.262172</td>\n",
       "    </tr>\n",
       "    <tr>\n",
       "      <th>9</th>\n",
       "      <td>97.0</td>\n",
       "      <td>374</td>\n",
       "      <td>0.259358</td>\n",
       "    </tr>\n",
       "    <tr>\n",
       "      <th>7</th>\n",
       "      <td>85.0</td>\n",
       "      <td>328</td>\n",
       "      <td>0.259146</td>\n",
       "    </tr>\n",
       "    <tr>\n",
       "      <th>12</th>\n",
       "      <td>96.0</td>\n",
       "      <td>371</td>\n",
       "      <td>0.258760</td>\n",
       "    </tr>\n",
       "    <tr>\n",
       "      <th>20</th>\n",
       "      <td>34.0</td>\n",
       "      <td>135</td>\n",
       "      <td>0.251852</td>\n",
       "    </tr>\n",
       "    <tr>\n",
       "      <th>16</th>\n",
       "      <td>70.0</td>\n",
       "      <td>290</td>\n",
       "      <td>0.241379</td>\n",
       "    </tr>\n",
       "    <tr>\n",
       "      <th>15</th>\n",
       "      <td>73.0</td>\n",
       "      <td>307</td>\n",
       "      <td>0.237785</td>\n",
       "    </tr>\n",
       "    <tr>\n",
       "      <th>19</th>\n",
       "      <td>49.0</td>\n",
       "      <td>213</td>\n",
       "      <td>0.230047</td>\n",
       "    </tr>\n",
       "    <tr>\n",
       "      <th>14</th>\n",
       "      <td>70.0</td>\n",
       "      <td>306</td>\n",
       "      <td>0.228758</td>\n",
       "    </tr>\n",
       "    <tr>\n",
       "      <th>18</th>\n",
       "      <td>48.0</td>\n",
       "      <td>234</td>\n",
       "      <td>0.205128</td>\n",
       "    </tr>\n",
       "    <tr>\n",
       "      <th>6</th>\n",
       "      <td>57.0</td>\n",
       "      <td>307</td>\n",
       "      <td>0.185668</td>\n",
       "    </tr>\n",
       "    <tr>\n",
       "      <th>2</th>\n",
       "      <td>28.0</td>\n",
       "      <td>155</td>\n",
       "      <td>0.180645</td>\n",
       "    </tr>\n",
       "    <tr>\n",
       "      <th>3</th>\n",
       "      <td>43.0</td>\n",
       "      <td>248</td>\n",
       "      <td>0.173387</td>\n",
       "    </tr>\n",
       "    <tr>\n",
       "      <th>5</th>\n",
       "      <td>48.0</td>\n",
       "      <td>285</td>\n",
       "      <td>0.168421</td>\n",
       "    </tr>\n",
       "    <tr>\n",
       "      <th>4</th>\n",
       "      <td>39.0</td>\n",
       "      <td>266</td>\n",
       "      <td>0.146617</td>\n",
       "    </tr>\n",
       "    <tr>\n",
       "      <th>25</th>\n",
       "      <td>1.0</td>\n",
       "      <td>7</td>\n",
       "      <td>0.142857</td>\n",
       "    </tr>\n",
       "    <tr>\n",
       "      <th>22</th>\n",
       "      <td>8.0</td>\n",
       "      <td>58</td>\n",
       "      <td>0.137931</td>\n",
       "    </tr>\n",
       "    <tr>\n",
       "      <th>21</th>\n",
       "      <td>12.0</td>\n",
       "      <td>93</td>\n",
       "      <td>0.129032</td>\n",
       "    </tr>\n",
       "    <tr>\n",
       "      <th>26</th>\n",
       "      <td>1.0</td>\n",
       "      <td>8</td>\n",
       "      <td>0.125000</td>\n",
       "    </tr>\n",
       "    <tr>\n",
       "      <th>24</th>\n",
       "      <td>1.0</td>\n",
       "      <td>16</td>\n",
       "      <td>0.062500</td>\n",
       "    </tr>\n",
       "    <tr>\n",
       "      <th>23</th>\n",
       "      <td>1.0</td>\n",
       "      <td>21</td>\n",
       "      <td>0.047619</td>\n",
       "    </tr>\n",
       "    <tr>\n",
       "      <th>27</th>\n",
       "      <td>0.0</td>\n",
       "      <td>4</td>\n",
       "      <td>0.000000</td>\n",
       "    </tr>\n",
       "    <tr>\n",
       "      <th>28</th>\n",
       "      <td>0.0</td>\n",
       "      <td>3</td>\n",
       "      <td>0.000000</td>\n",
       "    </tr>\n",
       "    <tr>\n",
       "      <th>29</th>\n",
       "      <td>0.0</td>\n",
       "      <td>2</td>\n",
       "      <td>0.000000</td>\n",
       "    </tr>\n",
       "    <tr>\n",
       "      <th>31</th>\n",
       "      <td>0.0</td>\n",
       "      <td>1</td>\n",
       "      <td>0.000000</td>\n",
       "    </tr>\n",
       "    <tr>\n",
       "      <th>32</th>\n",
       "      <td>0.0</td>\n",
       "      <td>1</td>\n",
       "      <td>0.000000</td>\n",
       "    </tr>\n",
       "    <tr>\n",
       "      <th>34</th>\n",
       "      <td>0.0</td>\n",
       "      <td>1</td>\n",
       "      <td>0.000000</td>\n",
       "    </tr>\n",
       "  </tbody>\n",
       "</table>\n",
       "</div>"
      ],
      "text/plain": [
       "                 sum  count      mean\n",
       "PastPCPVisits                        \n",
       "30               1.0      1  1.000000\n",
       "11             125.0    391  0.319693\n",
       "1               23.0     75  0.306667\n",
       "13             110.0    385  0.285714\n",
       "8               90.0    330  0.272727\n",
       "10              98.0    366  0.267760\n",
       "17              70.0    267  0.262172\n",
       "9               97.0    374  0.259358\n",
       "7               85.0    328  0.259146\n",
       "12              96.0    371  0.258760\n",
       "20              34.0    135  0.251852\n",
       "16              70.0    290  0.241379\n",
       "15              73.0    307  0.237785\n",
       "19              49.0    213  0.230047\n",
       "14              70.0    306  0.228758\n",
       "18              48.0    234  0.205128\n",
       "6               57.0    307  0.185668\n",
       "2               28.0    155  0.180645\n",
       "3               43.0    248  0.173387\n",
       "5               48.0    285  0.168421\n",
       "4               39.0    266  0.146617\n",
       "25               1.0      7  0.142857\n",
       "22               8.0     58  0.137931\n",
       "21              12.0     93  0.129032\n",
       "26               1.0      8  0.125000\n",
       "24               1.0     16  0.062500\n",
       "23               1.0     21  0.047619\n",
       "27               0.0      4  0.000000\n",
       "28               0.0      3  0.000000\n",
       "29               0.0      2  0.000000\n",
       "31               0.0      1  0.000000\n",
       "32               0.0      1  0.000000\n",
       "34               0.0      1  0.000000"
      ]
     },
     "execution_count": 773,
     "metadata": {},
     "output_type": "execute_result"
    }
   ],
   "source": [
    "full.groupby(['PastPCPVisits'])['<=30Days'].agg({'sum':'sum','count':'count','mean':'mean'}).sort_values(by='mean',ascending=False)\n"
   ]
  },
  {
   "cell_type": "markdown",
   "metadata": {},
   "source": [
    "#### Split into Train, Test\n",
    "\n",
    "There are no variables which look ordinal so create onehot encodings of categorical variables. "
   ]
  },
  {
   "cell_type": "code",
   "execution_count": 774,
   "metadata": {
    "collapsed": true
   },
   "outputs": [],
   "source": [
    "full_orig = full.copy()"
   ]
  },
  {
   "cell_type": "code",
   "execution_count": 775,
   "metadata": {},
   "outputs": [],
   "source": [
    "full = full.set_index('AdmitDate')"
   ]
  },
  {
   "cell_type": "code",
   "execution_count": 776,
   "metadata": {
    "collapsed": true
   },
   "outputs": [],
   "source": [
    "for col in [col for col in full.columns if full[col].dtype == 'object' and 'Patient' not in col]:\n",
    "    dummies = pd.get_dummies(full[col],prefix=col)\n",
    "    full.drop(col,axis=1,inplace=True)\n",
    "    full = pd.concat([full,dummies],axis=1)    "
   ]
  },
  {
   "cell_type": "code",
   "execution_count": 777,
   "metadata": {},
   "outputs": [
    {
     "name": "stdout",
     "output_type": "stream",
     "text": [
      "<class 'pandas.core.frame.DataFrame'>\n",
      "DatetimeIndex: 5849 entries, 2015-09-12 to 2016-09-11\n",
      "Data columns (total 40 columns):\n",
      "Patient               5849 non-null object\n",
      "LOS                   5849 non-null int64\n",
      "Age                   5849 non-null int64\n",
      "PastPCPVisits         5849 non-null int64\n",
      "Readmitted            5849 non-null int64\n",
      "DaysSinceAdmission    1932 non-null timedelta64[ns]\n",
      "<=30Days              5849 non-null float64\n",
      "Gender_F              5849 non-null uint8\n",
      "Gender_M              5849 non-null uint8\n",
      "PrimaryDx_A41         5849 non-null uint8\n",
      "PrimaryDx_E11         5849 non-null uint8\n",
      "PrimaryDx_I50         5849 non-null uint8\n",
      "PrimaryDx_J44         5849 non-null uint8\n",
      "PrimaryDx_N18         5849 non-null uint8\n",
      "PrimaryDx_N39         5849 non-null uint8\n",
      "Dx2_E11               5849 non-null uint8\n",
      "Dx2_E86               5849 non-null uint8\n",
      "Dx2_F03               5849 non-null uint8\n",
      "Dx2_F05               5849 non-null uint8\n",
      "Dx2_F19               5849 non-null uint8\n",
      "Dx2_G31               5849 non-null uint8\n",
      "Dx2_I51               5849 non-null uint8\n",
      "Dx2_M54               5849 non-null uint8\n",
      "Dx2_R39               5849 non-null uint8\n",
      "Dx2_R41               5849 non-null uint8\n",
      "Dx2_T88               5849 non-null uint8\n",
      "Dx2_W19               5849 non-null uint8\n",
      "Dx3_                  5849 non-null uint8\n",
      "Dx3_E11               5849 non-null uint8\n",
      "Dx3_E56               5849 non-null uint8\n",
      "Dx3_G89               5849 non-null uint8\n",
      "Dx3_H53               5849 non-null uint8\n",
      "Dx3_H91               5849 non-null uint8\n",
      "Dx3_I10               5849 non-null uint8\n",
      "Dx3_J18               5849 non-null uint8\n",
      "Dx3_J45               5849 non-null uint8\n",
      "Dx3_M54               5849 non-null uint8\n",
      "Dx3_R05               5849 non-null uint8\n",
      "Dx3_R26               5849 non-null uint8\n",
      "Dx3_R51               5849 non-null uint8\n",
      "dtypes: float64(1), int64(4), object(1), timedelta64[ns](1), uint8(33)\n",
      "memory usage: 554.1+ KB\n"
     ]
    }
   ],
   "source": [
    "full.info()"
   ]
  },
  {
   "cell_type": "code",
   "execution_count": 778,
   "metadata": {
    "collapsed": true
   },
   "outputs": [],
   "source": [
    "train = full['2015']\n",
    "test = full['2016']"
   ]
  },
  {
   "cell_type": "code",
   "execution_count": 779,
   "metadata": {},
   "outputs": [
    {
     "name": "stdout",
     "output_type": "stream",
     "text": [
      "train: 2856 rows and 40 columns\n",
      "test: 2938 rows and 40 columns\n"
     ]
    }
   ],
   "source": [
    "print('train: {} rows and {} columns'.format(*train.shape))\n",
    "print('test: {} rows and {} columns'.format(*test.shape))"
   ]
  },
  {
   "cell_type": "code",
   "execution_count": 780,
   "metadata": {
    "collapsed": true
   },
   "outputs": [],
   "source": [
    "#[col for col in train.columns]"
   ]
  },
  {
   "cell_type": "code",
   "execution_count": 781,
   "metadata": {
    "collapsed": true
   },
   "outputs": [],
   "source": [
    "X_train = train.drop(['Patient','Readmitted','DaysSinceAdmission','<=30Days'],axis=1)\n",
    "y_train = train['<=30Days']\n",
    "X_test = test.drop(['Patient','Readmitted','DaysSinceAdmission','<=30Days'],axis=1)\n",
    "y_test = test['<=30Days']"
   ]
  },
  {
   "cell_type": "markdown",
   "metadata": {},
   "source": [
    "#### Model\n",
    "\n",
    "This is a binary classification problem so usually start with a simple logistic regression model. I'm going to use the f1_score which is a mixture of precision and recall to evaluate which model does better. This will lead to a more stable classifier than using accuracy or precision or recall alone. \n",
    "\n",
    "In fact the accuracy of the logistic regression is slightly higher than the random forest however its f1_score is more desireable."
   ]
  },
  {
   "cell_type": "code",
   "execution_count": 782,
   "metadata": {},
   "outputs": [],
   "source": [
    "from sklearn.linear_model import LogisticRegression\n",
    "from sklearn.ensemble import RandomForestClassifier\n",
    "from sklearn.metrics import confusion_matrix, f1_score\n",
    "from sklearn.cross_validation import cross_val_score"
   ]
  },
  {
   "cell_type": "code",
   "execution_count": 783,
   "metadata": {
    "collapsed": true
   },
   "outputs": [],
   "source": [
    "def accuracy(true,pred):\n",
    "    correct = 0\n",
    "    pred_len = len(pred)\n",
    "    for i in range(pred_len):\n",
    "        if pred[i] == true[i]:\n",
    "            correct += 1\n",
    "    return correct/pred_len"
   ]
  },
  {
   "cell_type": "code",
   "execution_count": 784,
   "metadata": {
    "collapsed": true
   },
   "outputs": [],
   "source": [
    "lr = LogisticRegression()\n",
    "lr.fit(X_train,y_train)\n",
    "lr_pred = lr.predict(X_test)"
   ]
  },
  {
   "cell_type": "code",
   "execution_count": 785,
   "metadata": {},
   "outputs": [
    {
     "data": {
      "text/plain": [
       "array([[2085,  174],\n",
       "       [ 425,  254]])"
      ]
     },
     "execution_count": 785,
     "metadata": {},
     "output_type": "execute_result"
    }
   ],
   "source": [
    "confusion_matrix(y_test,lr_pred)"
   ]
  },
  {
   "cell_type": "code",
   "execution_count": 786,
   "metadata": {},
   "outputs": [
    {
     "data": {
      "text/plain": [
       "0.45889792231255649"
      ]
     },
     "execution_count": 786,
     "metadata": {},
     "output_type": "execute_result"
    }
   ],
   "source": [
    "f1_score(y_test,lr_pred)"
   ]
  },
  {
   "cell_type": "code",
   "execution_count": 787,
   "metadata": {},
   "outputs": [
    {
     "data": {
      "text/plain": [
       "0.7961198093941457"
      ]
     },
     "execution_count": 787,
     "metadata": {},
     "output_type": "execute_result"
    }
   ],
   "source": [
    "accuracy(y_test,lr_pred)"
   ]
  },
  {
   "cell_type": "code",
   "execution_count": 788,
   "metadata": {},
   "outputs": [
    {
     "data": {
      "text/plain": [
       "0.78330218706423305"
      ]
     },
     "execution_count": 788,
     "metadata": {},
     "output_type": "execute_result"
    }
   ],
   "source": [
    "cross_val_score(lr,X_train,y_train,cv=10).mean()"
   ]
  },
  {
   "cell_type": "code",
   "execution_count": 789,
   "metadata": {
    "collapsed": true
   },
   "outputs": [],
   "source": [
    "rf = RandomForestClassifier(n_estimators=500,n_jobs=-1)\n",
    "rf.fit(X_train,y_train)\n",
    "rf_pred = rf.predict(X_test)"
   ]
  },
  {
   "cell_type": "code",
   "execution_count": 790,
   "metadata": {},
   "outputs": [
    {
     "data": {
      "text/plain": [
       "array([[2067,  192],\n",
       "       [ 456,  223]])"
      ]
     },
     "execution_count": 790,
     "metadata": {},
     "output_type": "execute_result"
    }
   ],
   "source": [
    "confusion_matrix(y_test,rf_pred)"
   ]
  },
  {
   "cell_type": "code",
   "execution_count": 791,
   "metadata": {},
   "outputs": [
    {
     "data": {
      "text/plain": [
       "0.40767824497257765"
      ]
     },
     "execution_count": 791,
     "metadata": {},
     "output_type": "execute_result"
    }
   ],
   "source": [
    "f1_score(y_test,rf_pred)"
   ]
  },
  {
   "cell_type": "code",
   "execution_count": 792,
   "metadata": {},
   "outputs": [
    {
     "data": {
      "text/plain": [
       "0.7794417971409122"
      ]
     },
     "execution_count": 792,
     "metadata": {},
     "output_type": "execute_result"
    }
   ],
   "source": [
    "accuracy(y_test,rf_pred)"
   ]
  },
  {
   "cell_type": "code",
   "execution_count": 793,
   "metadata": {},
   "outputs": [
    {
     "data": {
      "text/plain": [
       "0.77522340644282828"
      ]
     },
     "execution_count": 793,
     "metadata": {},
     "output_type": "execute_result"
    }
   ],
   "source": [
    "cross_val_score(rf,X_train,y_train,cv=10).mean()"
   ]
  },
  {
   "cell_type": "markdown",
   "metadata": {},
   "source": [
    "#### Continuing on\n",
    "\n",
    "If I had more time, I would dive more into my investigation of the features and do some feature engineering. \n",
    "\n",
    "I'd also run the models through a gridsearch and correctly approximate their performance using crossvalidation and try an SVM or neural net as well. \n",
    "\n",
    "When I created a few of these models I would be able to evaluate which performed better for different samples by analyzing their errors and then stack them in an ensemble."
   ]
  },
  {
   "cell_type": "code",
   "execution_count": null,
   "metadata": {
    "collapsed": true
   },
   "outputs": [],
   "source": []
  },
  {
   "cell_type": "code",
   "execution_count": null,
   "metadata": {
    "collapsed": true
   },
   "outputs": [],
   "source": []
  },
  {
   "cell_type": "code",
   "execution_count": null,
   "metadata": {
    "collapsed": true
   },
   "outputs": [],
   "source": []
  },
  {
   "cell_type": "code",
   "execution_count": null,
   "metadata": {
    "collapsed": true
   },
   "outputs": [],
   "source": []
  },
  {
   "cell_type": "code",
   "execution_count": null,
   "metadata": {
    "collapsed": true
   },
   "outputs": [],
   "source": []
  },
  {
   "cell_type": "markdown",
   "metadata": {},
   "source": [
    "#### Quick look at feature importance based on the models\n",
    "\n",
    "logistic regression coefs give us an understanding of how the decision boundary is drawn\n",
    "\n",
    "random forest feature importance is a similar metric which gauges how important the features are to each tree in the forest\n",
    "\n",
    "There are a couple features common between these measures:\n",
    "\n",
    "    Age\n",
    "    PastPCPVisits"
   ]
  },
  {
   "cell_type": "code",
   "execution_count": 794,
   "metadata": {
    "collapsed": true
   },
   "outputs": [],
   "source": [
    "lr_coefs = pd.DataFrame(X_train.columns,lr.coef_[0]).reset_index()\n",
    "lr_coefs.rename(columns={'index':'lr coef',0:'feat'},inplace=True)"
   ]
  },
  {
   "cell_type": "code",
   "execution_count": 795,
   "metadata": {},
   "outputs": [
    {
     "data": {
      "text/html": [
       "<div>\n",
       "<style>\n",
       "    .dataframe thead tr:only-child th {\n",
       "        text-align: right;\n",
       "    }\n",
       "\n",
       "    .dataframe thead th {\n",
       "        text-align: left;\n",
       "    }\n",
       "\n",
       "    .dataframe tbody tr th {\n",
       "        vertical-align: top;\n",
       "    }\n",
       "</style>\n",
       "<table border=\"1\" class=\"dataframe\">\n",
       "  <thead>\n",
       "    <tr style=\"text-align: right;\">\n",
       "      <th></th>\n",
       "      <th>lr coef</th>\n",
       "      <th>feat</th>\n",
       "    </tr>\n",
       "  </thead>\n",
       "  <tbody>\n",
       "    <tr>\n",
       "      <th>21</th>\n",
       "      <td>1.014121</td>\n",
       "      <td>Dx2_T88</td>\n",
       "    </tr>\n",
       "    <tr>\n",
       "      <th>13</th>\n",
       "      <td>0.828248</td>\n",
       "      <td>Dx2_F03</td>\n",
       "    </tr>\n",
       "    <tr>\n",
       "      <th>19</th>\n",
       "      <td>0.565998</td>\n",
       "      <td>Dx2_R39</td>\n",
       "    </tr>\n",
       "    <tr>\n",
       "      <th>14</th>\n",
       "      <td>0.432637</td>\n",
       "      <td>Dx2_F05</td>\n",
       "    </tr>\n",
       "    <tr>\n",
       "      <th>16</th>\n",
       "      <td>0.420952</td>\n",
       "      <td>Dx2_G31</td>\n",
       "    </tr>\n",
       "    <tr>\n",
       "      <th>18</th>\n",
       "      <td>0.344387</td>\n",
       "      <td>Dx2_M54</td>\n",
       "    </tr>\n",
       "    <tr>\n",
       "      <th>0</th>\n",
       "      <td>0.274143</td>\n",
       "      <td>LOS</td>\n",
       "    </tr>\n",
       "    <tr>\n",
       "      <th>26</th>\n",
       "      <td>0.106840</td>\n",
       "      <td>Dx3_G89</td>\n",
       "    </tr>\n",
       "    <tr>\n",
       "      <th>1</th>\n",
       "      <td>0.051069</td>\n",
       "      <td>Age</td>\n",
       "    </tr>\n",
       "    <tr>\n",
       "      <th>35</th>\n",
       "      <td>0.044299</td>\n",
       "      <td>Dx3_R51</td>\n",
       "    </tr>\n",
       "  </tbody>\n",
       "</table>\n",
       "</div>"
      ],
      "text/plain": [
       "     lr coef     feat\n",
       "21  1.014121  Dx2_T88\n",
       "13  0.828248  Dx2_F03\n",
       "19  0.565998  Dx2_R39\n",
       "14  0.432637  Dx2_F05\n",
       "16  0.420952  Dx2_G31\n",
       "18  0.344387  Dx2_M54\n",
       "0   0.274143      LOS\n",
       "26  0.106840  Dx3_G89\n",
       "1   0.051069      Age\n",
       "35  0.044299  Dx3_R51"
      ]
     },
     "execution_count": 795,
     "metadata": {},
     "output_type": "execute_result"
    }
   ],
   "source": [
    "lr_coefs.sort_values(by='lr coef',ascending=False).head(10)"
   ]
  },
  {
   "cell_type": "code",
   "execution_count": 796,
   "metadata": {
    "collapsed": true
   },
   "outputs": [],
   "source": [
    "rf_imps = pd.DataFrame(X_train.columns,rf.feature_importances_).reset_index()\n",
    "rf_imps.rename(columns={'index':'rf imp',0:'feat'},inplace=True)"
   ]
  },
  {
   "cell_type": "code",
   "execution_count": 797,
   "metadata": {},
   "outputs": [
    {
     "data": {
      "text/plain": [
       "1               Age\n",
       "2     PastPCPVisits\n",
       "0               LOS\n",
       "21          Dx2_T88\n",
       "8     PrimaryDx_J44\n",
       "23             Dx3_\n",
       "13          Dx2_F03\n",
       "6     PrimaryDx_E11\n",
       "9     PrimaryDx_N18\n",
       "3          Gender_F\n",
       "Name: feat, dtype: object"
      ]
     },
     "execution_count": 797,
     "metadata": {},
     "output_type": "execute_result"
    }
   ],
   "source": [
    "rf_imps.sort_values(by='rf imp',ascending=False).head(10)['feat']"
   ]
  },
  {
   "cell_type": "code",
   "execution_count": 798,
   "metadata": {
    "collapsed": true
   },
   "outputs": [],
   "source": [
    "both_imps = pd.merge(lr_coefs,rf_imps,on=['feat'])"
   ]
  },
  {
   "cell_type": "code",
   "execution_count": 799,
   "metadata": {},
   "outputs": [
    {
     "data": {
      "text/html": [
       "<div>\n",
       "<style>\n",
       "    .dataframe thead tr:only-child th {\n",
       "        text-align: right;\n",
       "    }\n",
       "\n",
       "    .dataframe thead th {\n",
       "        text-align: left;\n",
       "    }\n",
       "\n",
       "    .dataframe tbody tr th {\n",
       "        vertical-align: top;\n",
       "    }\n",
       "</style>\n",
       "<table border=\"1\" class=\"dataframe\">\n",
       "  <thead>\n",
       "    <tr style=\"text-align: right;\">\n",
       "      <th></th>\n",
       "      <th>lr coef</th>\n",
       "      <th>feat</th>\n",
       "      <th>rf imp</th>\n",
       "    </tr>\n",
       "  </thead>\n",
       "  <tbody>\n",
       "    <tr>\n",
       "      <th>1</th>\n",
       "      <td>0.051069</td>\n",
       "      <td>Age</td>\n",
       "      <td>0.211523</td>\n",
       "    </tr>\n",
       "    <tr>\n",
       "      <th>2</th>\n",
       "      <td>0.015135</td>\n",
       "      <td>PastPCPVisits</td>\n",
       "      <td>0.192460</td>\n",
       "    </tr>\n",
       "    <tr>\n",
       "      <th>0</th>\n",
       "      <td>0.274143</td>\n",
       "      <td>LOS</td>\n",
       "      <td>0.158566</td>\n",
       "    </tr>\n",
       "    <tr>\n",
       "      <th>21</th>\n",
       "      <td>1.014121</td>\n",
       "      <td>Dx2_T88</td>\n",
       "      <td>0.029549</td>\n",
       "    </tr>\n",
       "    <tr>\n",
       "      <th>8</th>\n",
       "      <td>-2.210072</td>\n",
       "      <td>PrimaryDx_J44</td>\n",
       "      <td>0.027874</td>\n",
       "    </tr>\n",
       "    <tr>\n",
       "      <th>23</th>\n",
       "      <td>-0.313949</td>\n",
       "      <td>Dx3_</td>\n",
       "      <td>0.023410</td>\n",
       "    </tr>\n",
       "    <tr>\n",
       "      <th>13</th>\n",
       "      <td>0.828248</td>\n",
       "      <td>Dx2_F03</td>\n",
       "      <td>0.022995</td>\n",
       "    </tr>\n",
       "    <tr>\n",
       "      <th>6</th>\n",
       "      <td>-0.089260</td>\n",
       "      <td>PrimaryDx_E11</td>\n",
       "      <td>0.022682</td>\n",
       "    </tr>\n",
       "    <tr>\n",
       "      <th>9</th>\n",
       "      <td>-0.085261</td>\n",
       "      <td>PrimaryDx_N18</td>\n",
       "      <td>0.021916</td>\n",
       "    </tr>\n",
       "    <tr>\n",
       "      <th>3</th>\n",
       "      <td>-2.110184</td>\n",
       "      <td>Gender_F</td>\n",
       "      <td>0.021334</td>\n",
       "    </tr>\n",
       "  </tbody>\n",
       "</table>\n",
       "</div>"
      ],
      "text/plain": [
       "     lr coef           feat    rf imp\n",
       "1   0.051069            Age  0.211523\n",
       "2   0.015135  PastPCPVisits  0.192460\n",
       "0   0.274143            LOS  0.158566\n",
       "21  1.014121        Dx2_T88  0.029549\n",
       "8  -2.210072  PrimaryDx_J44  0.027874\n",
       "23 -0.313949           Dx3_  0.023410\n",
       "13  0.828248        Dx2_F03  0.022995\n",
       "6  -0.089260  PrimaryDx_E11  0.022682\n",
       "9  -0.085261  PrimaryDx_N18  0.021916\n",
       "3  -2.110184       Gender_F  0.021334"
      ]
     },
     "execution_count": 799,
     "metadata": {},
     "output_type": "execute_result"
    }
   ],
   "source": [
    "both_imps.sort_values(by='rf imp',ascending=False).head(10)"
   ]
  },
  {
   "cell_type": "code",
   "execution_count": 800,
   "metadata": {},
   "outputs": [
    {
     "data": {
      "text/plain": [
       "{'Age', 'Dx2_F03', 'Dx2_T88', 'LOS'}"
      ]
     },
     "execution_count": 800,
     "metadata": {},
     "output_type": "execute_result"
    }
   ],
   "source": [
    "set(lr_coefs.sort_values(by='lr coef',ascending=False).head(10)['feat']).intersection(rf_imps.sort_values(by='rf imp',ascending=False).head(10)['feat'])\n"
   ]
  },
  {
   "cell_type": "code",
   "execution_count": 801,
   "metadata": {
    "collapsed": true
   },
   "outputs": [],
   "source": [
    "top_feats = list(set().union(rf_imps.sort_values(by='rf imp',ascending=False).head(10)['feat'],lr_coefs.sort_values(by='lr coef',ascending=False).head(10)['feat']))"
   ]
  },
  {
   "cell_type": "code",
   "execution_count": 802,
   "metadata": {},
   "outputs": [],
   "source": [
    "#Dxs_summarized['F03']"
   ]
  },
  {
   "cell_type": "markdown",
   "metadata": {},
   "source": [
    "#### Rerun models with Gridsearch\n",
    "\n",
    "Using original scaled data"
   ]
  },
  {
   "cell_type": "code",
   "execution_count": 803,
   "metadata": {},
   "outputs": [],
   "source": [
    "from sklearn.neighbors import KNeighborsClassifier\n",
    "from sklearn.preprocessing import StandardScaler\n",
    "from sklearn.grid_search import GridSearchCV\n",
    "from sklearn.metrics import precision_score, recall_score"
   ]
  },
  {
   "cell_type": "code",
   "execution_count": null,
   "metadata": {
    "collapsed": true
   },
   "outputs": [],
   "source": []
  },
  {
   "cell_type": "code",
   "execution_count": 804,
   "metadata": {
    "collapsed": true
   },
   "outputs": [],
   "source": [
    "# X_train = train[top_feats]\n",
    "# y_train = train['<=30Days']\n",
    "# X_test = test[top_feats]\n",
    "# y_test = test['<=30Days']"
   ]
  },
  {
   "cell_type": "code",
   "execution_count": 805,
   "metadata": {
    "collapsed": true
   },
   "outputs": [],
   "source": [
    "X_train = train.drop(['Patient','Readmitted','DaysSinceAdmission','<=30Days'],axis=1)\n",
    "y_train = train['<=30Days']\n",
    "X_test = test.drop(['Patient','Readmitted','DaysSinceAdmission','<=30Days'],axis=1)\n",
    "y_test = test['<=30Days']"
   ]
  },
  {
   "cell_type": "code",
   "execution_count": 806,
   "metadata": {
    "collapsed": true
   },
   "outputs": [],
   "source": [
    "ss = StandardScaler()"
   ]
  },
  {
   "cell_type": "code",
   "execution_count": 807,
   "metadata": {},
   "outputs": [],
   "source": [
    "X_train = ss.fit_transform(X_train)\n",
    "X_test = ss.fit_transform(X_test)"
   ]
  },
  {
   "cell_type": "code",
   "execution_count": 808,
   "metadata": {},
   "outputs": [
    {
     "name": "stdout",
     "output_type": "stream",
     "text": [
      "Accuracy baseline is: 76.44%\n"
     ]
    }
   ],
   "source": [
    "print('Accuracy baseline is: {:.2f}%'.format(100*(1-full['<=30Days'].mean())))\n"
   ]
  },
  {
   "cell_type": "markdown",
   "metadata": {},
   "source": [
    "#### Grid search KNN \n",
    "\n",
    "With > 5000 samples I would have expected a high number of neighbors but by decreasing the neighbors and also increasing the p value which manipulates the similarity metric usd to determine which neighbors are most similar to the out of sample pred, knn seems to figure out a better judgement"
   ]
  },
  {
   "cell_type": "code",
   "execution_count": 901,
   "metadata": {
    "collapsed": true
   },
   "outputs": [],
   "source": [
    "params = {}\n",
    "params['n_neighbors'] = [1,2,3,4]#,5,6,7,8]#[i for i in range(5,60,5)]\n",
    "params['weights'] = ['uniform','distance']\n",
    "params['p'] = [1,2,3,4]#[5,6,7]#[3,4,5]#"
   ]
  },
  {
   "cell_type": "code",
   "execution_count": 902,
   "metadata": {
    "collapsed": true
   },
   "outputs": [],
   "source": [
    "knn = KNeighborsClassifier()\n",
    "knn_grid = GridSearchCV(knn,params,scoring='f1')#'f1')"
   ]
  },
  {
   "cell_type": "code",
   "execution_count": 903,
   "metadata": {},
   "outputs": [
    {
     "data": {
      "text/plain": [
       "GridSearchCV(cv=None, error_score='raise',\n",
       "       estimator=KNeighborsClassifier(algorithm='auto', leaf_size=30, metric='minkowski',\n",
       "           metric_params=None, n_jobs=1, n_neighbors=5, p=2,\n",
       "           weights='uniform'),\n",
       "       fit_params={}, iid=True, n_jobs=1,\n",
       "       param_grid={'n_neighbors': [1, 2, 3, 4], 'weights': ['uniform', 'distance'], 'p': [1, 2, 3, 4]},\n",
       "       pre_dispatch='2*n_jobs', refit=True, scoring='f1', verbose=0)"
      ]
     },
     "execution_count": 903,
     "metadata": {},
     "output_type": "execute_result"
    }
   ],
   "source": [
    "knn_grid.fit(X_train,y_train)"
   ]
  },
  {
   "cell_type": "code",
   "execution_count": 900,
   "metadata": {},
   "outputs": [
    {
     "data": {
      "text/plain": [
       "KNeighborsClassifier(algorithm='auto', leaf_size=30, metric='minkowski',\n",
       "           metric_params=None, n_jobs=1, n_neighbors=4, p=1,\n",
       "           weights='uniform')"
      ]
     },
     "execution_count": 900,
     "metadata": {},
     "output_type": "execute_result"
    }
   ],
   "source": [
    "knn_grid.best_estimator_"
   ]
  },
  {
   "cell_type": "code",
   "execution_count": 814,
   "metadata": {
    "collapsed": true
   },
   "outputs": [],
   "source": [
    "knn = knn_grid.best_estimator_\n",
    "knn.fit(X_train,y_train)\n",
    "knn_pred = knn.predict(X_test)"
   ]
  },
  {
   "cell_type": "code",
   "execution_count": 815,
   "metadata": {},
   "outputs": [
    {
     "data": {
      "text/plain": [
       "array([[2081,  178],\n",
       "       [ 516,  163]])"
      ]
     },
     "execution_count": 815,
     "metadata": {},
     "output_type": "execute_result"
    }
   ],
   "source": [
    "confusion_matrix(y_test,knn_pred)"
   ]
  },
  {
   "cell_type": "code",
   "execution_count": 816,
   "metadata": {},
   "outputs": [
    {
     "name": "stdout",
     "output_type": "stream",
     "text": [
      "precision: 0.48\n",
      "recall: 0.24\n",
      "accuracy: 0.76\n"
     ]
    }
   ],
   "source": [
    "y_pred = knn_pred\n",
    "print('precision: {:.2f}\\nrecall: {:.2f}\\naccuracy: {:.2f}'.format(precision_score(y_test,y_pred),\n",
    "                                                       recall_score(y_test,y_pred),\n",
    "                                                       accuracy(y_test,y_pred)))"
   ]
  },
  {
   "cell_type": "markdown",
   "metadata": {},
   "source": [
    "#### Gridsearch with RF\n",
    "\n",
    "Did this a few times with n_estimators @ 200 to get a quick idea. Then settled on a smaller number of params and upped trees\n",
    "\n",
    "After evaluating more trees, the best performer was still worse than the 200 tree model, so re-search on lower number of trees.\n",
    "\n",
    "Between f1 of .35 and .36 the scores and params start shuffling around probably due to random choice in sampling."
   ]
  },
  {
   "cell_type": "code",
   "execution_count": 817,
   "metadata": {
    "collapsed": true
   },
   "outputs": [],
   "source": [
    "params = {}\n",
    "params['criterion'] = ['gini','entropy']\n",
    "params['n_estimators'] = [200]#[400,600,800]#[200]\n",
    "params['max_depth'] = [5,10,15,20,25,30,35,40,45,50]#[15,20,25]#[5,10,15]\n",
    "#params['max_features'] = ['auto'] #['auto','sqrt']\n",
    "params['min_samples_split'] = [2,4,6,8,10] #[10,20,40]\n",
    "params['min_samples_leaf'] = [1,2,3]\n",
    "#params['class_weight'] = ['balanced']"
   ]
  },
  {
   "cell_type": "code",
   "execution_count": 818,
   "metadata": {
    "collapsed": true
   },
   "outputs": [],
   "source": [
    "rf = RandomForestClassifier()\n",
    "rf_grid = GridSearchCV(rf,params,scoring='precision')#'f1')"
   ]
  },
  {
   "cell_type": "code",
   "execution_count": 819,
   "metadata": {
    "scrolled": false
   },
   "outputs": [
    {
     "data": {
      "text/plain": [
       "GridSearchCV(cv=None, error_score='raise',\n",
       "       estimator=RandomForestClassifier(bootstrap=True, class_weight=None, criterion='gini',\n",
       "            max_depth=None, max_features='auto', max_leaf_nodes=None,\n",
       "            min_impurity_decrease=0.0, min_impurity_split=None,\n",
       "            min_samples_leaf=1, min_samples_split=2,\n",
       "            min_weight_fraction_leaf=0.0, n_estimators=10, n_jobs=1,\n",
       "            oob_score=False, random_state=None, verbose=0,\n",
       "            warm_start=False),\n",
       "       fit_params={}, iid=True, n_jobs=1,\n",
       "       param_grid={'criterion': ['gini', 'entropy'], 'n_estimators': [200], 'max_depth': [5, 10, 15, 20, 25, 30, 35, 40, 45, 50], 'min_samples_split': [2, 4, 6, 8, 10], 'min_samples_leaf': [1, 2, 3]},\n",
       "       pre_dispatch='2*n_jobs', refit=True, scoring='precision', verbose=0)"
      ]
     },
     "execution_count": 819,
     "metadata": {},
     "output_type": "execute_result"
    }
   ],
   "source": [
    "rf_grid.fit(X_train,y_train)"
   ]
  },
  {
   "cell_type": "code",
   "execution_count": 820,
   "metadata": {
    "collapsed": true
   },
   "outputs": [],
   "source": [
    "rf = rf_grid.best_estimator_\n",
    "rf.fit(X_train,y_train)\n",
    "rf_pred = rf.predict(X_test)"
   ]
  },
  {
   "cell_type": "code",
   "execution_count": 821,
   "metadata": {},
   "outputs": [
    {
     "data": {
      "text/plain": [
       "array([[2243,   16],\n",
       "       [ 657,   22]])"
      ]
     },
     "execution_count": 821,
     "metadata": {},
     "output_type": "execute_result"
    }
   ],
   "source": [
    "confusion_matrix(y_test,rf_pred)"
   ]
  },
  {
   "cell_type": "code",
   "execution_count": 822,
   "metadata": {},
   "outputs": [
    {
     "name": "stdout",
     "output_type": "stream",
     "text": [
      "precision: 0.58\n",
      "recall: 0.03\n",
      "accuracy: 0.77\n"
     ]
    }
   ],
   "source": [
    "y_pred = rf_pred\n",
    "print('precision: {:.2f}\\nrecall: {:.2f}\\naccuracy: {:.2f}'.format(precision_score(y_test,y_pred),\n",
    "                                                       recall_score(y_test,y_pred),\n",
    "                                                       accuracy(y_test,y_pred)))"
   ]
  },
  {
   "cell_type": "markdown",
   "metadata": {},
   "source": [
    "#### Logistic Regression\n",
    "\n",
    "Whats interesting about lr in this case is the large difference in precision and recall when changing the hyperparameter class_weights to 'balanced' which essentially pads an imbalanced class which we kind of have here being ~1/4.\n",
    "\n",
    "More thought and discussion would need to go into which would be more suitable for the application."
   ]
  },
  {
   "cell_type": "code",
   "execution_count": 824,
   "metadata": {
    "collapsed": true
   },
   "outputs": [],
   "source": [
    "params = {}\n",
    "params['penalty'] = ['l1','l2']\n",
    "#params['class_weight'] = ['balanced']\n",
    "params['C'] = [.001,.01,.1,.5,1,5,10]#[.03,.05,.1]"
   ]
  },
  {
   "cell_type": "code",
   "execution_count": 825,
   "metadata": {
    "collapsed": true
   },
   "outputs": [],
   "source": [
    "lr = LogisticRegression()\n",
    "lr_grid = GridSearchCV(lr,params,scoring='recall')#'f1')"
   ]
  },
  {
   "cell_type": "code",
   "execution_count": 826,
   "metadata": {
    "scrolled": true
   },
   "outputs": [
    {
     "data": {
      "text/plain": [
       "GridSearchCV(cv=None, error_score='raise',\n",
       "       estimator=LogisticRegression(C=1.0, class_weight=None, dual=False, fit_intercept=True,\n",
       "          intercept_scaling=1, max_iter=100, multi_class='ovr', n_jobs=1,\n",
       "          penalty='l2', random_state=None, solver='liblinear', tol=0.0001,\n",
       "          verbose=0, warm_start=False),\n",
       "       fit_params={}, iid=True, n_jobs=1,\n",
       "       param_grid={'penalty': ['l1', 'l2'], 'C': [0.001, 0.01, 0.1, 0.5, 1, 5, 10]},\n",
       "       pre_dispatch='2*n_jobs', refit=True, scoring='recall', verbose=0)"
      ]
     },
     "execution_count": 826,
     "metadata": {},
     "output_type": "execute_result"
    }
   ],
   "source": [
    "lr_grid.fit(X_train,y_train)"
   ]
  },
  {
   "cell_type": "code",
   "execution_count": 827,
   "metadata": {
    "collapsed": true
   },
   "outputs": [],
   "source": [
    "lr_balanced = lr_grid.best_estimator_\n",
    "lr_balanced.fit(X_train,y_train)\n",
    "lr_balanced_pred = lr_balanced.predict(X_test)\n",
    "lr_balanced_predp = lr_balanced.predict_proba(X_test)"
   ]
  },
  {
   "cell_type": "code",
   "execution_count": 828,
   "metadata": {
    "scrolled": true
   },
   "outputs": [
    {
     "data": {
      "text/plain": [
       "array([[2032,  227],\n",
       "       [ 374,  305]])"
      ]
     },
     "execution_count": 828,
     "metadata": {},
     "output_type": "execute_result"
    }
   ],
   "source": [
    "confusion_matrix(y_test,lr_balanced_pred)"
   ]
  },
  {
   "cell_type": "code",
   "execution_count": 829,
   "metadata": {},
   "outputs": [
    {
     "name": "stdout",
     "output_type": "stream",
     "text": [
      "precision: 0.59\n",
      "recall: 0.37\n",
      "accuracy: 0.80\n"
     ]
    }
   ],
   "source": [
    "y_pred = lr_pred\n",
    "print('precision: {:.2f}\\nrecall: {:.2f}\\naccuracy: {:.2f}'.format(precision_score(y_test,y_pred),\n",
    "                                                       recall_score(y_test,y_pred),\n",
    "                                                       accuracy(y_test,y_pred)))"
   ]
  },
  {
   "cell_type": "markdown",
   "metadata": {
    "collapsed": true
   },
   "source": [
    "Brief visualization of the predictions. See how to increase difference of spread."
   ]
  },
  {
   "cell_type": "code",
   "execution_count": 836,
   "metadata": {},
   "outputs": [
    {
     "data": {
      "text/plain": [
       "([array([   0.,    1.,   24.,  123.,  384.,  576.,  684.,  656.,  396.,   94.]),\n",
       "  array([  94.,  396.,  656.,  684.,  576.,  384.,  123.,   24.,    1.,    0.])],\n",
       " array([ 0.15097434,  0.22077947,  0.2905846 ,  0.36038974,  0.43019487,\n",
       "         0.5       ,  0.56980513,  0.63961026,  0.7094154 ,  0.77922053,\n",
       "         0.84902566]),\n",
       " <a list of 2 Lists of Patches objects>)"
      ]
     },
     "execution_count": 836,
     "metadata": {},
     "output_type": "execute_result"
    },
    {
     "data": {
      "image/png": "[encoded data removed]",
      "text/plain": [
       "<matplotlib.figure.Figure at 0x1a296e06a0>"
      ]
     },
     "metadata": {},
     "output_type": "display_data"
    }
   ],
   "source": [
    "import seaborn as sns\n",
    "neg_class = pd.DataFrame(lr_balanced_predp)[0]\n",
    "pos_class = pd.DataFrame(lr_balanced_predp)[1]\n",
    "plt.hist([neg_class,pos_class], color=['r','b'], alpha=0.5)"
   ]
  },
  {
   "cell_type": "markdown",
   "metadata": {},
   "source": [
    "#### Naive Bayes\n",
    "\n"
   ]
  },
  {
   "cell_type": "code",
   "execution_count": 830,
   "metadata": {},
   "outputs": [],
   "source": [
    "from sklearn import naive_bayes"
   ]
  },
  {
   "cell_type": "code",
   "execution_count": 852,
   "metadata": {},
   "outputs": [],
   "source": [
    "nb = naive_bayes.GaussianNB()\n",
    "cv_score = cross_val_score(nb,X_train,y_train,cv=10)"
   ]
  },
  {
   "cell_type": "code",
   "execution_count": 853,
   "metadata": {
    "scrolled": true
   },
   "outputs": [
    {
     "data": {
      "text/plain": [
       "0.59599224842367915"
      ]
     },
     "execution_count": 853,
     "metadata": {},
     "output_type": "execute_result"
    }
   ],
   "source": [
    "cv_score.mean()"
   ]
  },
  {
   "cell_type": "code",
   "execution_count": 857,
   "metadata": {},
   "outputs": [],
   "source": [
    "nb.fit(X_train,y_train)\n",
    "nb_pred = nb.predict_proba(X_test)"
   ]
  },
  {
   "cell_type": "code",
   "execution_count": 859,
   "metadata": {
    "scrolled": true
   },
   "outputs": [
    {
     "data": {
      "text/plain": [
       "array([[   0, 2259],\n",
       "       [   0,  679]])"
      ]
     },
     "execution_count": 859,
     "metadata": {},
     "output_type": "execute_result"
    }
   ],
   "source": [
    "confusion_matrix(y_test,nb_pred[:,0])"
   ]
  },
  {
   "cell_type": "code",
   "execution_count": 861,
   "metadata": {},
   "outputs": [
    {
     "name": "stdout",
     "output_type": "stream",
     "text": [
      "precision: 0.23\n",
      "recall: 1.00\n",
      "accuracy: 0.23\n"
     ]
    }
   ],
   "source": [
    "y_pred = nb_pred[:,0]\n",
    "print('precision: {:.2f}\\nrecall: {:.2f}\\naccuracy: {:.2f}'.format(precision_score(y_test,y_pred),\n",
    "                                                       recall_score(y_test,y_pred),\n",
    "                                                       accuracy(y_test,y_pred)))"
   ]
  },
  {
   "cell_type": "markdown",
   "metadata": {
    "collapsed": true
   },
   "source": [
    "#### Types of Errors\n",
    "\n",
    "In this dataset it seems that having a higher false positive rate would be better than having a false negative rate. \n",
    "\n",
    "    False positive - patient is expected to be readmitted, when they will not be. AKA patient is assumed to be sicker than they are.\n",
    "    \n",
    "    False negative - patient is not expected to be readmitted, but they will be. AKA patient is sicker than they seem or something unexpected will occur to them between first and second admit.\n",
    "    "
   ]
  },
  {
   "cell_type": "code",
   "execution_count": 862,
   "metadata": {},
   "outputs": [
    {
     "name": "stdout",
     "output_type": "stream",
     "text": [
      "178 false positives and 516 false negatives\n"
     ]
    }
   ],
   "source": [
    "print('{} false positives and {} false negatives'.format(confusion_matrix(y_test,knn_pred)[0,1],confusion_matrix(y_test,knn_pred)[1,0]))\n"
   ]
  },
  {
   "cell_type": "markdown",
   "metadata": {},
   "source": [
    "#### Precision\n",
    "A higher precision means lower false positives\n",
    "\n",
    "    TP / (TP + FP)\n",
    "\n",
    "#### Recall\n",
    "A high recall means lower false negatives\n",
    "\n",
    "    TP / (TP + FN)"
   ]
  },
  {
   "cell_type": "markdown",
   "metadata": {},
   "source": [
    "#### Examine where each model outperforms the others\n",
    "\n",
    "Shows a high overlap for rf. lr and knn seem to be different. Perhaps we can figure out what is unique about the cases where each outperforms and perhaps use model stacking to take advantage of this."
   ]
  },
  {
   "cell_type": "code",
   "execution_count": 889,
   "metadata": {},
   "outputs": [],
   "source": [
    "preds = pd.DataFrame(y_test)\n",
    "preds['knn'] = knn_pred\n",
    "preds['rf'] = rf_pred\n",
    "preds['lr'] = lr_pred"
   ]
  },
  {
   "cell_type": "code",
   "execution_count": 890,
   "metadata": {},
   "outputs": [
    {
     "data": {
      "text/plain": [
       "<=30Days    0.231110\n",
       "knn         0.116065\n",
       "rf          0.012934\n",
       "lr          0.145677\n",
       "dtype: float64"
      ]
     },
     "execution_count": 890,
     "metadata": {},
     "output_type": "execute_result"
    }
   ],
   "source": [
    "preds.mean()"
   ]
  },
  {
   "cell_type": "code",
   "execution_count": 891,
   "metadata": {
    "collapsed": true
   },
   "outputs": [],
   "source": [
    "knn_mask = ((preds['knn'] == preds['<=30Days']) &\n",
    "            (preds['rf'] != preds['<=30Days']) &\n",
    "            (preds['lr'] != preds['<=30Days']))\n",
    "lr_mask = ((preds['lr'] == preds['<=30Days']) &\n",
    "            (preds['rf'] != preds['<=30Days']) &\n",
    "            (preds['knn'] != preds['<=30Days']))\n",
    "rf_mask = ((preds['rf'] == preds['<=30Days']) &\n",
    "            (preds['knn'] != preds['<=30Days']) &\n",
    "            (preds['lr'] != preds['<=30Days']))"
   ]
  },
  {
   "cell_type": "code",
   "execution_count": 892,
   "metadata": {},
   "outputs": [],
   "source": [
    "preds['knn_outperforms'] = np.where(knn_mask,1,0)\n",
    "preds['lr_outperforms'] = np.where(lr_mask,1,0)\n",
    "preds['rf_outperforms'] = np.where(rf_mask,1,0)"
   ]
  },
  {
   "cell_type": "code",
   "execution_count": 893,
   "metadata": {
    "collapsed": true
   },
   "outputs": [],
   "source": [
    "knn_mask = ((preds['knn'] != preds['<=30Days']) &\n",
    "            (preds['rf'] == preds['<=30Days']) &\n",
    "            (preds['lr'] == preds['<=30Days']))\n",
    "lr_mask = ((preds['lr'] != preds['<=30Days']) &\n",
    "            (preds['rf'] == preds['<=30Days']) &\n",
    "            (preds['knn'] == preds['<=30Days']))\n",
    "rf_mask = ((preds['rf'] != preds['<=30Days']) &\n",
    "            (preds['knn'] == preds['<=30Days']) &\n",
    "            (preds['lr'] == preds['<=30Days']))"
   ]
  },
  {
   "cell_type": "code",
   "execution_count": 894,
   "metadata": {
    "collapsed": true
   },
   "outputs": [],
   "source": [
    "preds['knn_underperforms'] = np.where(knn_mask,1,0)\n",
    "preds['lr_underperforms'] = np.where(lr_mask,1,0)\n",
    "preds['rf_underperforms'] = np.where(rf_mask,1,0)"
   ]
  },
  {
   "cell_type": "code",
   "execution_count": 895,
   "metadata": {},
   "outputs": [
    {
     "data": {
      "text/plain": [
       "<=30Days             0.231110\n",
       "knn                  0.116065\n",
       "rf                   0.012934\n",
       "lr                   0.145677\n",
       "knn_outperforms      0.027570\n",
       "lr_outperforms       0.052076\n",
       "rf_outperforms       0.020422\n",
       "knn_underperforms    0.041184\n",
       "lr_underperforms     0.033356\n",
       "rf_underperforms     0.026889\n",
       "dtype: float64"
      ]
     },
     "execution_count": 895,
     "metadata": {},
     "output_type": "execute_result"
    }
   ],
   "source": [
    "preds.mean()"
   ]
  },
  {
   "cell_type": "code",
   "execution_count": 868,
   "metadata": {},
   "outputs": [],
   "source": [
    "test = full_orig.set_index('AdmitDate')['2016']\n",
    "X_test = test.drop(['Patient','Readmitted','DaysSinceAdmission','<=30Days'],axis=1)"
   ]
  },
  {
   "cell_type": "code",
   "execution_count": 869,
   "metadata": {},
   "outputs": [],
   "source": [
    "preds = pd.concat([X_test,preds],axis=1)"
   ]
  },
  {
   "cell_type": "markdown",
   "metadata": {},
   "source": [
    "#### Outperformance of each model"
   ]
  },
  {
   "cell_type": "code",
   "execution_count": 870,
   "metadata": {},
   "outputs": [
    {
     "data": {
      "text/plain": [
       "<matplotlib.legend.Legend at 0x1a2a8d1f60>"
      ]
     },
     "execution_count": 870,
     "metadata": {},
     "output_type": "execute_result"
    },
    {
     "data": {
      "image/png": "[encoded data removed]",
      "text/plain": [
       "<matplotlib.figure.Figure at 0x1a2a8d14e0>"
      ]
     },
     "metadata": {},
     "output_type": "display_data"
    }
   ],
   "source": [
    "feat1 = 'PrimaryDx'\n",
    "metrics = ['knn_outperforms','lr_outperforms','rf_outperforms']\n",
    "\n",
    "knn_avg = preds['knn_outperforms'].mean()\n",
    "preds.groupby([feat1])[metrics].mean().plot(kind='bar',figsize=(12,4))\n",
    "plt.ylabel('outperform rate')\n",
    "plt.title('Model performance differences by {}'.format(feat1),size=15)\n",
    "plt.axhline(y=pop_avg, color='black', linestyle='--')\n",
    "plt.legend(bbox_to_anchor=(1.05, 1), loc=2, borderaxespad=0.)"
   ]
  },
  {
   "cell_type": "code",
   "execution_count": 871,
   "metadata": {},
   "outputs": [
    {
     "data": {
      "text/plain": [
       "<matplotlib.legend.Legend at 0x1a2a8d1630>"
      ]
     },
     "execution_count": 871,
     "metadata": {},
     "output_type": "execute_result"
    },
    {
     "data": {
      "image/png": "[encoded data removed]",
      "text/plain": [
       "<matplotlib.figure.Figure at 0x1a2a8d1710>"
      ]
     },
     "metadata": {},
     "output_type": "display_data"
    }
   ],
   "source": [
    "feat1 = 'PrimaryDx'\n",
    "metrics = ['knn','lr','rf']\n",
    "\n",
    "knn_avg = preds['knn'].mean()\n",
    "preds.groupby([feat1])[metrics].mean().plot(kind='bar',figsize=(12,4))\n",
    "plt.ylabel('outperform rate')\n",
    "plt.title('Model performances by {}'.format(feat1),size=15)\n",
    "plt.axhline(y=knn_avg, color='black', linestyle='--')\n",
    "plt.legend(bbox_to_anchor=(1.05, 1), loc=2, borderaxespad=0.)"
   ]
  },
  {
   "cell_type": "code",
   "execution_count": 872,
   "metadata": {},
   "outputs": [
    {
     "data": {
      "text/plain": [
       "<matplotlib.legend.Legend at 0x1a2acb3cc0>"
      ]
     },
     "execution_count": 872,
     "metadata": {},
     "output_type": "execute_result"
    },
    {
     "data": {
      "image/png": "[encoded data removed]",
      "text/plain": [
       "<matplotlib.figure.Figure at 0x1a2aca8f98>"
      ]
     },
     "metadata": {},
     "output_type": "display_data"
    }
   ],
   "source": [
    "feat1 = 'PastPCPVisits'\n",
    "metrics = ['knn_outperforms','lr_outperforms','rf_outperforms']\n",
    "\n",
    "knn_avg = preds['knn_outperforms'].mean()\n",
    "preds.groupby([feat1])[metrics].mean().plot(kind='bar',figsize=(12,4))\n",
    "plt.ylabel('outperform rate')\n",
    "plt.title('Model performance differences based on {}'.format(feat1),size=15)\n",
    "plt.axhline(y=pop_avg, color='black', linestyle='--')\n",
    "plt.legend(bbox_to_anchor=(1.05, 1), loc=2, borderaxespad=0.)"
   ]
  },
  {
   "cell_type": "markdown",
   "metadata": {},
   "source": [
    "#### Stacking models\n",
    "\n",
    "Use output of these models to train an aggregator model that will make predictions for the output based on the predictions the previous models made.\n",
    "\n",
    "I'll need to set up a cross validation rig that will allow these models to predict out-of-fold to be able to reuse the training data for a level 2 model. "
   ]
  },
  {
   "cell_type": "code",
   "execution_count": 873,
   "metadata": {
    "collapsed": true
   },
   "outputs": [],
   "source": [
    "preds_test = pd.DataFrame(y_test)\n",
    "preds_test['knn'] = knn_pred\n",
    "preds_test['rf'] = rf_pred\n",
    "preds_test['lr'] = lr_pred"
   ]
  },
  {
   "cell_type": "code",
   "execution_count": 874,
   "metadata": {},
   "outputs": [
    {
     "data": {
      "text/html": [
       "<div>\n",
       "<style>\n",
       "    .dataframe thead tr:only-child th {\n",
       "        text-align: right;\n",
       "    }\n",
       "\n",
       "    .dataframe thead th {\n",
       "        text-align: left;\n",
       "    }\n",
       "\n",
       "    .dataframe tbody tr th {\n",
       "        vertical-align: top;\n",
       "    }\n",
       "</style>\n",
       "<table border=\"1\" class=\"dataframe\">\n",
       "  <thead>\n",
       "    <tr style=\"text-align: right;\">\n",
       "      <th></th>\n",
       "      <th>&lt;=30Days</th>\n",
       "      <th>knn</th>\n",
       "      <th>rf</th>\n",
       "      <th>lr</th>\n",
       "    </tr>\n",
       "    <tr>\n",
       "      <th>AdmitDate</th>\n",
       "      <th></th>\n",
       "      <th></th>\n",
       "      <th></th>\n",
       "      <th></th>\n",
       "    </tr>\n",
       "  </thead>\n",
       "  <tbody>\n",
       "    <tr>\n",
       "      <th>2016-01-03</th>\n",
       "      <td>0.0</td>\n",
       "      <td>0.0</td>\n",
       "      <td>0.0</td>\n",
       "      <td>0.0</td>\n",
       "    </tr>\n",
       "    <tr>\n",
       "      <th>2016-05-07</th>\n",
       "      <td>1.0</td>\n",
       "      <td>0.0</td>\n",
       "      <td>0.0</td>\n",
       "      <td>0.0</td>\n",
       "    </tr>\n",
       "    <tr>\n",
       "      <th>2016-01-14</th>\n",
       "      <td>0.0</td>\n",
       "      <td>0.0</td>\n",
       "      <td>0.0</td>\n",
       "      <td>0.0</td>\n",
       "    </tr>\n",
       "    <tr>\n",
       "      <th>2016-10-26</th>\n",
       "      <td>1.0</td>\n",
       "      <td>0.0</td>\n",
       "      <td>0.0</td>\n",
       "      <td>0.0</td>\n",
       "    </tr>\n",
       "    <tr>\n",
       "      <th>2016-08-10</th>\n",
       "      <td>0.0</td>\n",
       "      <td>0.0</td>\n",
       "      <td>0.0</td>\n",
       "      <td>0.0</td>\n",
       "    </tr>\n",
       "  </tbody>\n",
       "</table>\n",
       "</div>"
      ],
      "text/plain": [
       "            <=30Days  knn   rf   lr\n",
       "AdmitDate                          \n",
       "2016-01-03       0.0  0.0  0.0  0.0\n",
       "2016-05-07       1.0  0.0  0.0  0.0\n",
       "2016-01-14       0.0  0.0  0.0  0.0\n",
       "2016-10-26       1.0  0.0  0.0  0.0\n",
       "2016-08-10       0.0  0.0  0.0  0.0"
      ]
     },
     "execution_count": 874,
     "metadata": {},
     "output_type": "execute_result"
    }
   ],
   "source": [
    "preds_test.head()"
   ]
  },
  {
   "cell_type": "code",
   "execution_count": 875,
   "metadata": {
    "collapsed": true
   },
   "outputs": [],
   "source": [
    "stack_X_test = preds_test.drop('<=30Days',axis=1)\n",
    "stack_y_test = preds_test['<=30Days']"
   ]
  },
  {
   "cell_type": "code",
   "execution_count": 881,
   "metadata": {
    "collapsed": true
   },
   "outputs": [],
   "source": [
    "lr_stack = LogisticRegression()\n",
    "stack_score = cross_val_score(lr_stack,stack_X_test,stack_y_test,cv=10)"
   ]
  },
  {
   "cell_type": "code",
   "execution_count": 882,
   "metadata": {},
   "outputs": [
    {
     "data": {
      "text/plain": [
       "0.79512161028795081"
      ]
     },
     "execution_count": 882,
     "metadata": {},
     "output_type": "execute_result"
    }
   ],
   "source": [
    "stack_score.mean()"
   ]
  },
  {
   "cell_type": "code",
   "execution_count": 884,
   "metadata": {},
   "outputs": [],
   "source": [
    "lr_stack.fit(stack_X_test,stack_y_test)\n",
    "lr_stack_pred = lr_stack.predict(stack_X_test)"
   ]
  },
  {
   "cell_type": "code",
   "execution_count": 885,
   "metadata": {},
   "outputs": [
    {
     "data": {
      "text/plain": [
       "array([[2096,  163],\n",
       "       [ 433,  246]])"
      ]
     },
     "execution_count": 885,
     "metadata": {},
     "output_type": "execute_result"
    }
   ],
   "source": [
    "confusion_matrix(stack_y_test,lr_stack_pred)"
   ]
  },
  {
   "cell_type": "code",
   "execution_count": null,
   "metadata": {
    "collapsed": true
   },
   "outputs": [],
   "source": []
  },
  {
   "cell_type": "code",
   "execution_count": null,
   "metadata": {
    "collapsed": true
   },
   "outputs": [],
   "source": []
  },
  {
   "cell_type": "code",
   "execution_count": null,
   "metadata": {
    "collapsed": true
   },
   "outputs": [],
   "source": []
  },
  {
   "cell_type": "code",
   "execution_count": null,
   "metadata": {
    "collapsed": true
   },
   "outputs": [],
   "source": []
  },
  {
   "cell_type": "code",
   "execution_count": null,
   "metadata": {
    "collapsed": true
   },
   "outputs": [],
   "source": []
  },
  {
   "cell_type": "markdown",
   "metadata": {},
   "source": [
    "#### Ideas for next steps again\n",
    "\n",
    "1. create month feature - hypothesis winter would bring more readmits. possibly make it ordinal? summer = 1, fall+spring = 2, winter = 3\n",
    "    - binning doesn't seem necessary, but this feature may be helpful\n",
    "2. look into combination of primary 2ndary dignoses\n",
    "    - will create a very sparse dataset when onehot encoded\n",
    "3. bin ages?\n",
    "    - pass - PCA instead\n",
    "4. bin pcpvisits?\n",
    "    - pass - PCA instead\n",
    "5. drop gender?\n",
    "    - pass - rf indicated it was an important feature\n",
    "6. find out what the diagnoses actually are, infer..\n",
    "    - what next? "
   ]
  },
  {
   "cell_type": "markdown",
   "metadata": {},
   "source": [
    "#### Believe I was going about this the wrong way\n",
    "\n",
    "I was looking at the characteristics of the readmission trying to predict it when I should have flagged the first visit as __will_be_readmitted__"
   ]
  },
  {
   "cell_type": "code",
   "execution_count": null,
   "metadata": {
    "collapsed": true
   },
   "outputs": [],
   "source": [
    "full_orig[['WillBeReadmitted']] = full_orig[full_orig['Readmitted'] == 1].groupby('Patient').shift(-1)[['<=30Days']].fillna('')\n"
   ]
  },
  {
   "cell_type": "markdown",
   "metadata": {},
   "source": [
    "Spot check"
   ]
  },
  {
   "cell_type": "code",
   "execution_count": null,
   "metadata": {},
   "outputs": [],
   "source": [
    "full_orig[full_orig['Patient'] == 'fc443307-b9d7-4a74-8ac5-314aa1b0803a']"
   ]
  },
  {
   "cell_type": "markdown",
   "metadata": {},
   "source": [
    "I don't know much about diagnoses but I expected the distributions by gender to be different."
   ]
  },
  {
   "cell_type": "code",
   "execution_count": null,
   "metadata": {},
   "outputs": [],
   "source": [
    "for col in Dx_cols:\n",
    "    #bins = full[col].unique().shape[0]\n",
    "    full_orig.groupby(['Gender'])[col].value_counts().unstack().plot(kind='bar',figsize=(12,4))\n",
    "    plt.title('Distribution of {} by Gender'.format(col),size=15)\n",
    "    plt.xlabel('dx')\n",
    "    plt.ylabel('count')\n",
    "    plt.figure()"
   ]
  },
  {
   "cell_type": "markdown",
   "metadata": {},
   "source": [
    "My hypothesis would be that having certain combinations of diagnoses would indicate worse conditions than others, so graph the combinations here by choosing the features to combine.\n",
    "\n",
    "The first indicates to me that generally J44 is worse than other PrimaryDxs"
   ]
  },
  {
   "cell_type": "code",
   "execution_count": null,
   "metadata": {},
   "outputs": [],
   "source": [
    "feat1 = 'PrimaryDx'\n",
    "feat2 = 'Dx2'\n",
    "pop_avg = full_orig['<=30Days'].mean()\n",
    "full_orig.groupby([feat1,feat2])['<=30Days'].mean().unstack().plot(kind='bar',figsize=(12,4))\n",
    "plt.ylabel('readmit rate')\n",
    "plt.title('Readmit Rate based on combination of {} and {}'.format(feat1,feat2),size=15)\n",
    "plt.axhline(y=pop_avg, color='black', linestyle='--')\n",
    "plt.legend(bbox_to_anchor=(1.05, 1), loc=2, borderaxespad=0.)"
   ]
  },
  {
   "cell_type": "code",
   "execution_count": null,
   "metadata": {},
   "outputs": [],
   "source": [
    "feat1 = 'PrimaryDx'\n",
    "feat2 = 'Dx3'\n",
    "pop_avg = full_orig['<=30Days'].mean()\n",
    "full_orig.groupby([feat1,feat2])['<=30Days'].mean().unstack().plot(kind='bar',figsize=(12,4))\n",
    "plt.ylabel('readmit rate')\n",
    "plt.title('Readmit Rate based on combination of {} and {}'.format(feat1,feat2),size=15)\n",
    "plt.axhline(y=pop_avg, color='black', linestyle='--')\n",
    "plt.legend(bbox_to_anchor=(1.05, 1), loc=2, borderaxespad=0.)"
   ]
  },
  {
   "cell_type": "code",
   "execution_count": null,
   "metadata": {},
   "outputs": [],
   "source": [
    "feat1 = 'Dx2'\n",
    "feat2 = 'Dx3'\n",
    "pop_avg = full_orig['<=30Days'].mean()\n",
    "full_orig.groupby([feat1,feat2])['<=30Days'].mean().unstack().plot(kind='bar',figsize=(12,4))\n",
    "plt.ylabel('readmit rate')\n",
    "plt.title('Readmit Rate based on combination of {} and {}'.format(feat1,feat2),size=15)\n",
    "plt.axhline(y=pop_avg, color='black', linestyle='--')\n",
    "plt.legend(bbox_to_anchor=(1.05, 1), loc=2, borderaxespad=0.)"
   ]
  },
  {
   "cell_type": "markdown",
   "metadata": {},
   "source": [
    "#### Combos of PrimaryDx, Dx2, Dx3\n",
    "\n",
    "Perhaps this is a bad idea. I'll be able to tell once I add run it through a model."
   ]
  },
  {
   "cell_type": "code",
   "execution_count": null,
   "metadata": {
    "collapsed": true
   },
   "outputs": [],
   "source": [
    "full_orig['PrimaryDx_Dx2'] = full_orig['PrimaryDx']+full_orig['Dx2']\n",
    "full_orig['PrimaryDx_Dx3'] = full_orig['PrimaryDx']+full_orig['Dx3']\n",
    "full_orig['Dx2_Dx3'] = full_orig['Dx2']+full_orig['Dx3']"
   ]
  },
  {
   "cell_type": "markdown",
   "metadata": {},
   "source": [
    "#### Bin/PCA Ages/PCPVisits\n",
    "\n",
    "After getting a refresher on binning continuous variables, I'm more inclined to do PCA on PastPCPVisits and Age than to bin each. "
   ]
  },
  {
   "cell_type": "code",
   "execution_count": null,
   "metadata": {
    "collapsed": true
   },
   "outputs": [],
   "source": [
    "from sklearn.decomposition import PCA"
   ]
  },
  {
   "cell_type": "code",
   "execution_count": null,
   "metadata": {},
   "outputs": [],
   "source": [
    "pca = PCA()\n",
    "a = pca.fit_transform(full_orig[['PastPCPVisits','Age','LOS']])"
   ]
  },
  {
   "cell_type": "code",
   "execution_count": null,
   "metadata": {},
   "outputs": [],
   "source": [
    "pca.explained_variance_ratio_"
   ]
  },
  {
   "cell_type": "code",
   "execution_count": null,
   "metadata": {},
   "outputs": [],
   "source": [
    "pca.components_"
   ]
  },
  {
   "cell_type": "markdown",
   "metadata": {},
   "source": [
    "#### Create previous diagnoses fields\n",
    "\n",
    "Taking a step back and thinking about the data the way it is formatted, I can only predict a readmission based on that admit's details. What I imagine would influence a future admit is also the past admission's PrimaryDx, Dx2, and Dx3."
   ]
  },
  {
   "cell_type": "code",
   "execution_count": null,
   "metadata": {},
   "outputs": [],
   "source": [
    "full_orig[['PrevPrimaryDx','PrevDx2','PrevDx3']] = full_orig[full_orig['Readmitted'] == 1].groupby('Patient').transform('shift')[['PrimaryDx','Dx2','Dx3']].fillna('')"
   ]
  },
  {
   "cell_type": "markdown",
   "metadata": {},
   "source": [
    "Spot check a patient"
   ]
  },
  {
   "cell_type": "code",
   "execution_count": null,
   "metadata": {},
   "outputs": [],
   "source": [
    "full_orig[full_orig['Patient'] == 'fc443307-b9d7-4a74-8ac5-314aa1b0803a']"
   ]
  },
  {
   "cell_type": "markdown",
   "metadata": {},
   "source": [
    "#### Month Admit\n",
    "\n",
    "Not as big of a difference between months as I thought. Still will include, perhaps certain ailments arise in certain months and this feature will help distinguish when they're more concerning.\n",
    "\n",
    "__J44__ is more prevalent in the winter months"
   ]
  },
  {
   "cell_type": "code",
   "execution_count": null,
   "metadata": {},
   "outputs": [],
   "source": [
    "full_orig['MonthAdmit'] = full_orig['AdmitDate'].apply(lambda x: x.month)"
   ]
  },
  {
   "cell_type": "code",
   "execution_count": null,
   "metadata": {},
   "outputs": [],
   "source": [
    "full_orig.groupby(['MonthAdmit'])['<=30Days'].mean().plot(kind='bar',figsize=(12,4))\n",
    "plt.ylabel('readmit rate')\n",
    "plt.title('Readmit Rate based on {}'.format(feat1),size=15)\n",
    "plt.axhline(y=pop_avg, color='black', linestyle='--')\n",
    "plt.legend(bbox_to_anchor=(1.05, 1), loc=2, borderaxespad=0.)"
   ]
  },
  {
   "cell_type": "code",
   "execution_count": null,
   "metadata": {},
   "outputs": [],
   "source": [
    "feat1 = 'MonthAdmit'\n",
    "feat2 = 'PrimaryDx'\n",
    "pop_avg = full_orig['<=30Days'].mean()\n",
    "full_orig.groupby([feat1,feat2])['<=30Days'].mean().unstack().plot(kind='bar',figsize=(12,4))\n",
    "plt.ylabel('readmit rate')\n",
    "plt.title('Readmit Rate based on combination of {} and {}'.format(feat1,feat2),size=15)\n",
    "plt.axhline(y=pop_avg, color='black', linestyle='--')\n",
    "plt.legend(bbox_to_anchor=(1.05, 1), loc=2, borderaxespad=0.)"
   ]
  },
  {
   "cell_type": "code",
   "execution_count": null,
   "metadata": {},
   "outputs": [],
   "source": [
    "Dxs_summarized['J44']"
   ]
  },
  {
   "cell_type": "code",
   "execution_count": null,
   "metadata": {
    "collapsed": true
   },
   "outputs": [],
   "source": []
  },
  {
   "cell_type": "markdown",
   "metadata": {
    "collapsed": true
   },
   "source": [
    "#### Investigate diagnoses\n",
    "\n",
    "[Top 25 Griatric ICD-10 Codes](http://htpnmarketing.com/icd10/wp-content/uploads/sites/17/2015/07/Copy-of-Top-25-Geriatric-ICD-9-to-ICD-10.pdf)\n",
    "\n",
    "[Webapp to query simple info](https://clin-table-search.lhc.nlm.nih.gov/apidoc/icd10cm/v3/doc.html)"
   ]
  },
  {
   "cell_type": "code",
   "execution_count": null,
   "metadata": {
    "collapsed": true
   },
   "outputs": [],
   "source": [
    "import requests\n",
    "import json\n",
    "from pprint import pprint\n",
    "import pickle"
   ]
  },
  {
   "cell_type": "code",
   "execution_count": null,
   "metadata": {},
   "outputs": [],
   "source": [
    "unique_Dx = []\n",
    "for col in Dx_cols:\n",
    "    for Dx in full_orig[col].unique():\n",
    "        unique_Dx.append(Dx)"
   ]
  },
  {
   "cell_type": "code",
   "execution_count": null,
   "metadata": {},
   "outputs": [],
   "source": [
    "print('There are {} unique Dxs in the dataset'.format(len(unique_Dx)))\n",
    "unique_Dx = [Dx for Dx in unique_Dx if len(Dx) == 3]"
   ]
  },
  {
   "cell_type": "code",
   "execution_count": null,
   "metadata": {
    "collapsed": true
   },
   "outputs": [],
   "source": [
    "def get_icd(Dxs):\n",
    "    Dxs_info = {}\n",
    "    for Dx in Dxs:\n",
    "        sample = 'https://clin-table-search.lhc.nlm.nih.gov/api/icd10cm/v3/search?sf=code,name&terms={}'.format(Dx)\n",
    "        req = requests.get(sample)\n",
    "        Dxs_info[Dx] = json.loads(req.text)\n",
    "    return Dxs_info\n",
    "\n",
    "Dxs_info = get_icd(unique_Dx)"
   ]
  },
  {
   "cell_type": "markdown",
   "metadata": {},
   "source": [
    "#### Summarize manually or with word counts\n",
    "\n",
    "Could summarize with word counts. Would need to lowercase and remove stopwords and concat each of the list of descriptions together.\n",
    "\n",
    "Since only 30, just manually summarize for now."
   ]
  },
  {
   "cell_type": "code",
   "execution_count": null,
   "metadata": {},
   "outputs": [],
   "source": [
    "Dxs_info['A41']"
   ]
  },
  {
   "cell_type": "code",
   "execution_count": null,
   "metadata": {},
   "outputs": [],
   "source": [
    "Dxs_summarized = {}\n",
    "for Dx in Dxs_info.keys():\n",
    "    pprint(Dxs_info[Dx][3])\n",
    "    Dxs_summarized[Dx] = input('What is the ailment?')"
   ]
  },
  {
   "cell_type": "markdown",
   "metadata": {},
   "source": [
    "#### Manual Summary:\n",
    "\n",
    "{'A41': 'Sepsis',\n",
    " 'E11': 'diabetes mellitus',\n",
    " 'E56': 'Vitamin deficiency',\n",
    " 'E86': 'Dehydration',\n",
    " 'F03': 'dementia',\n",
    " 'F05': 'Delirium',\n",
    " 'F19': 'Drug abuse',\n",
    " 'G31': 'Degeneration of nervous system',\n",
    " 'G89': 'Chronic Pain',\n",
    " 'H53': 'Visual discomfort',\n",
    " 'H91': 'Hearing loss',\n",
    " 'I10': 'hypertension',\n",
    " 'I50': 'Heart Failure',\n",
    " 'I51': 'heart disease',\n",
    " 'J18': 'Pneumonia',\n",
    " 'J44': 'COPD',\n",
    " 'J45': 'asthma',\n",
    " 'M54': 'Radiculopathy/Panniculitis/Sciatica',\n",
    " 'N18': 'Chronic kidney disease',\n",
    " 'N39': 'Urinary incontinence',\n",
    " 'R05': 'cough',\n",
    " 'R26': 'abnormalities of gait and mobility',\n",
    " 'R39': 'Urgency of urination',\n",
    " 'R41': 'Cognitive functions and awareness symptoms',\n",
    " 'R51': 'headache',\n",
    " 'T88': 'Anesthesia Complication',\n",
    " 'W19': 'Fall'}"
   ]
  },
  {
   "cell_type": "code",
   "execution_count": null,
   "metadata": {},
   "outputs": [],
   "source": [
    "Dxs_summarized"
   ]
  }
 ],
 "metadata": {
  "kernelspec": {
   "display_name": "Python 3",
   "language": "python",
   "name": "python3"
  },
  "language_info": {
   "codemirror_mode": {
    "name": "ipython",
    "version": 3
   },
   "file_extension": ".py",
   "mimetype": "text/x-python",
   "name": "python",
   "nbconvert_exporter": "python",
   "pygments_lexer": "ipython3",
   "version": "3.6.2"
  }
 },
 "nbformat": 4,
 "nbformat_minor": 2
}
