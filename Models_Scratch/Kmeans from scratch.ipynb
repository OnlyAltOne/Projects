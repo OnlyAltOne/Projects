{
 "cells": [
  {
   "cell_type": "markdown",
   "metadata": {},
   "source": [
    "# <div style=\"text-align: right\"> Kmeans from scratch. </div>\n",
    "\n",
    "---\n",
    "\n",
    "<div style=\"text-align: right\"> Geoff Counihan - Oct 9, 2017 </div>"
   ]
  },
  {
   "cell_type": "markdown",
   "metadata": {},
   "source": [
    "### Notes\n",
    "\n",
    "---\n",
    "\n",
    "Unclear what the difference between sklearn's implementation and mine is. \n",
    "    \n",
    "I've run into the issue of having equidistant points from centroids. Though its rare in high dimensional datasets it happens quite frequently using the iris dataset. I'm uncertain how to best go about asigning these points to the lowest index centoid with the numpy implementation I have. \n",
    "\n",
    "Why are my values didferent than sklearns?\n",
    "\n",
    "__Additions__: Create a visualization"
   ]
  },
  {
   "cell_type": "code",
   "execution_count": 605,
   "metadata": {
    "collapsed": true
   },
   "outputs": [],
   "source": [
    "from sklearn.datasets import load_iris\n",
    "import numpy as np\n",
    "import pandas as pd"
   ]
  },
  {
   "cell_type": "code",
   "execution_count": 634,
   "metadata": {
    "collapsed": true
   },
   "outputs": [],
   "source": [
    "iris = load_iris()\n",
    "X = iris.data[:,:2]\n",
    "y = iris.target"
   ]
  },
  {
   "cell_type": "code",
   "execution_count": 635,
   "metadata": {
    "scrolled": true
   },
   "outputs": [
    {
     "name": "stdout",
     "output_type": "stream",
     "text": [
      "[[ 5.1  3.5  0. ]\n",
      " [ 4.9  3.   0. ]\n",
      " [ 4.7  3.2  0. ]]\n"
     ]
    }
   ],
   "source": [
    "Xy = np.column_stack((X,y))\n",
    "Xy_point = Xy[:3]\n",
    "print(Xy_point)"
   ]
  },
  {
   "cell_type": "code",
   "execution_count": 606,
   "metadata": {},
   "outputs": [],
   "source": [
    "Xy = pd.read_csv('./sonar.all-data.csv',header=None)\n",
    "Xy[60] = Xy[60].map({'R':0,'M':1})\n",
    "X = np.array(Xy.iloc[:,:-1])\n",
    "y = np.array(Xy.iloc[:,-1])\n",
    "Xy = np.array(Xy)"
   ]
  },
  {
   "cell_type": "markdown",
   "metadata": {},
   "source": [
    "__Eucledean distance__ - is defined by the square root of the sum of squared differences between two arrays of numbers. "
   ]
  },
  {
   "cell_type": "code",
   "execution_count": 636,
   "metadata": {
    "collapsed": true
   },
   "outputs": [],
   "source": [
    "def euclidean(a, b):\n",
    "    return np.sqrt(((a-b)**2).sum(axis=0))"
   ]
  },
  {
   "cell_type": "code",
   "execution_count": 637,
   "metadata": {},
   "outputs": [
    {
     "name": "stdout",
     "output_type": "stream",
     "text": [
      "2d Distance: 4.0\n",
      "3d Distance: 2.8284271247461903\n"
     ]
    }
   ],
   "source": [
    "a = np.array([0,0,0,0])\n",
    "b = np.array([2,2,2,2])\n",
    "\n",
    "distance3d = euclidean(a,b)\n",
    "print('2d Distance: {}'.format(distance3d))\n",
    "\n",
    "c = np.array([0,0])\n",
    "d = np.array([2,2])\n",
    "\n",
    "distance2d = euclidean(c,d)\n",
    "print('3d Distance: {}'.format(distance2d))"
   ]
  },
  {
   "cell_type": "markdown",
   "metadata": {},
   "source": [
    "### Other components\n",
    "\n",
    "---\n",
    "\n",
    "__Centroids__ - number of centroids to use"
   ]
  },
  {
   "cell_type": "code",
   "execution_count": 544,
   "metadata": {
    "collapsed": true
   },
   "outputs": [],
   "source": [
    "a = X[np.random.randint(Xy.shape[0])]"
   ]
  },
  {
   "cell_type": "code",
   "execution_count": 545,
   "metadata": {
    "collapsed": true
   },
   "outputs": [],
   "source": [
    "b = X[np.random.randint(Xy.shape[0])]"
   ]
  },
  {
   "cell_type": "code",
   "execution_count": 748,
   "metadata": {},
   "outputs": [],
   "source": [
    "def init_centroids(X,num_centroids=3):\n",
    "    feat_range = {}\n",
    "    centroids = {}\n",
    "    for k in range(num_centroids):\n",
    "        centroids[k] = X[np.random.randint(Xy.shape[0])]\n",
    "    return centroids"
   ]
  },
  {
   "cell_type": "code",
   "execution_count": 749,
   "metadata": {
    "collapsed": true
   },
   "outputs": [],
   "source": [
    "centroids = init_centroids(X)"
   ]
  },
  {
   "cell_type": "code",
   "execution_count": 647,
   "metadata": {},
   "outputs": [],
   "source": [
    "def dist_from_centroid(centroids):\n",
    "    dist_from = np.array([]).reshape(0,X.shape[0])\n",
    "    for k in centroids.keys():\n",
    "        dist = np.array([])\n",
    "        for i in range(X.shape[0]):\n",
    "            dist = np.append(dist,euclidean(centroids[k],X[i]))\n",
    "        dist_from = np.vstack((dist_from,dist))\n",
    "    return dist_from"
   ]
  },
  {
   "cell_type": "code",
   "execution_count": 648,
   "metadata": {},
   "outputs": [],
   "source": [
    "dist_from = dist_from_centroid(centroids)"
   ]
  },
  {
   "cell_type": "code",
   "execution_count": 732,
   "metadata": {
    "collapsed": true
   },
   "outputs": [],
   "source": [
    "def label(dist_from):\n",
    "     return np.argwhere(dist_from == np.min(dist_from,axis=0))"
   ]
  },
  {
   "cell_type": "code",
   "execution_count": 733,
   "metadata": {
    "collapsed": true
   },
   "outputs": [],
   "source": [
    "labels = label(dist_from)"
   ]
  },
  {
   "cell_type": "code",
   "execution_count": 763,
   "metadata": {},
   "outputs": [
    {
     "name": "stdout",
     "output_type": "stream",
     "text": [
      "[ 5.11296296  3.38333333]\n",
      "[ 5.9         2.76595745]\n",
      "[ 6.59387755  2.96734694]\n"
     ]
    }
   ],
   "source": [
    "for k in centroids.keys():\n",
    "    print(X[labels[:,0] == k].mean(axis=0))"
   ]
  },
  {
   "cell_type": "code",
   "execution_count": 764,
   "metadata": {},
   "outputs": [],
   "source": [
    "def recenter(centroids):\n",
    "    for k in centroids.keys():\n",
    "        centroids_hist[k] = centroids[k]\n",
    "        centroids[k] = X[labels[:,0] == k].mean(axis=0)\n",
    "    return centroids"
   ]
  },
  {
   "cell_type": "code",
   "execution_count": 765,
   "metadata": {},
   "outputs": [],
   "source": [
    "centroids = recenter(centroids)"
   ]
  },
  {
   "cell_type": "code",
   "execution_count": 769,
   "metadata": {
    "collapsed": true
   },
   "outputs": [],
   "source": [
    "def stop(centroid_hist, centroids, iterations):\n",
    "    if iterations > max_iterations:\n",
    "        return True\n",
    "    for k in centroids.keys():\n",
    "        #print(k)\n",
    "        if np.array_equal(centroids_hist[k], centroids[k]):\n",
    "            return True\n",
    "        #print('through')\n",
    "    return False"
   ]
  },
  {
   "cell_type": "code",
   "execution_count": 778,
   "metadata": {
    "scrolled": true
   },
   "outputs": [],
   "source": [
    "iterations = 0\n",
    "max_iterations = 1000\n",
    "centroid_hist = {}\n",
    "while not stop(centroid_hist, centroids, iterations):\n",
    "    #print(iterations)\n",
    "    dist_from = dist_from_centroid(centroids)\n",
    "    labels = label(dist_from)\n",
    "    centroids = recenter(centroids)\n",
    "    iterations += 1"
   ]
  },
  {
   "cell_type": "code",
   "execution_count": 770,
   "metadata": {},
   "outputs": [
    {
     "data": {
      "text/plain": [
       "{0: array([ 5.11296296,  3.38333333]),\n",
       " 1: array([ 5.9       ,  2.76595745]),\n",
       " 2: array([ 6.59387755,  2.96734694])}"
      ]
     },
     "execution_count": 770,
     "metadata": {},
     "output_type": "execute_result"
    }
   ],
   "source": [
    "centroids"
   ]
  },
  {
   "cell_type": "code",
   "execution_count": 784,
   "metadata": {},
   "outputs": [],
   "source": [
    "class kmeans():\n",
    "    def __init__(self, num_centroids=4, max_iter=1000):\n",
    "        self.num_centroids = num_centroids\n",
    "        self.max_iter = max_iter\n",
    "        self.metric = metric\n",
    "        \n",
    "    def euclidean(self, a, b):\n",
    "        return np.sqrt(((a-b)**2).sum(axis=0))\n",
    "    \n",
    "    def manhattan(self, a, b):\n",
    "        return np.abs((a-b).sum(axis=0))\n",
    "        \n",
    "    def init_centroids(self):\n",
    "        centroids = {}\n",
    "        for k in range(self.num_centroids):\n",
    "            centroids[k] = self.X[np.random.randint(self.X.shape[0])]\n",
    "        return centroids\n",
    "\n",
    "    def dist_from_centroid(self):\n",
    "        self.dist_from = np.array([]).reshape(0,self.X.shape[0])\n",
    "        if self.metric == 'euclidean':\n",
    "            for k in self.centroids.keys():\n",
    "                dist = np.array([])\n",
    "                for i in range(self.X.shape[0]):\n",
    "                    dist = np.append(dist,self.euclidean(self.centroids[k],self.X[i]))\n",
    "                self.dist_from = np.vstack((self.dist_from,dist))\n",
    "            \n",
    "    def label(self):\n",
    "        self.labels = np.argwhere(self.dist_from == np.min(self.dist_from,axis=0))\n",
    "        if self.labels.shape[0] != self.X.shape[0]:\n",
    "            idx = np.where(np.unique(self.labels[:,1], return_counts=True)[1] == 2)\n",
    "            duplicate_asignments = np.where(self.labels[:,1] == idx)[1]\n",
    "            for i, dup in enumerate(duplicate_asignments):\n",
    "                if i == 0:\n",
    "                    self.labels = np.delete(self.labels,dup,axis=0)\n",
    "        #print(self.labels)\n",
    "            \n",
    "    def recenter(self):\n",
    "        for k in self.centroids.keys():\n",
    "            self.centroids_hist[k] = self.centroids[k]\n",
    "            self.centroids[k] = self.X[self.labels[:,0] == k].mean(axis=0)\n",
    "            \n",
    "    def stop(self):\n",
    "        if self.iterations > self.max_iter:\n",
    "            return True\n",
    "        for k in centroids.keys():\n",
    "            if np.array_equal(km.centroids_hist[k], km.centroids[k]):\n",
    "                return True\n",
    "        return False\n",
    "    \n",
    "    def fit(self, X):\n",
    "        self.X = X\n",
    "        self.centroids = self.init_centroids()\n",
    "        self.centroids_hist = self.init_centroids()\n",
    "        self.iterations = 0\n",
    "        \n",
    "        #while not self.stop():#self.iterations < self.max_iter:\n",
    "        while self.iterations < self.max_iter:\n",
    "            self.dist_from_centroid()\n",
    "            self.label()\n",
    "            self.recenter()\n",
    "            self.iterations += 1\n",
    "            "
   ]
  },
  {
   "cell_type": "markdown",
   "metadata": {},
   "source": [
    "### Test.\n",
    "\n",
    "---"
   ]
  },
  {
   "cell_type": "code",
   "execution_count": 780,
   "metadata": {
    "collapsed": true
   },
   "outputs": [],
   "source": [
    "from sklearn.model_selection import train_test_split\n",
    "\n",
    "iris = load_iris()\n",
    "X = iris.data[:,:2]\n",
    "y = iris.target\n",
    "\n",
    "X_train, X_test, y_train, y_test = train_test_split(X, y, random_state=35)"
   ]
  },
  {
   "cell_type": "code",
   "execution_count": 782,
   "metadata": {},
   "outputs": [],
   "source": [
    "km = kmeans(num_centroids=3,max_iter=1000,metric='euclidean')\n",
    "km.fit(X)"
   ]
  },
  {
   "cell_type": "code",
   "execution_count": 783,
   "metadata": {},
   "outputs": [
    {
     "data": {
      "text/plain": [
       "{0: array([ 5.11296296,  3.38333333]),\n",
       " 1: array([ 5.9       ,  2.76595745]),\n",
       " 2: array([ 6.59387755,  2.96734694])}"
      ]
     },
     "execution_count": 783,
     "metadata": {},
     "output_type": "execute_result"
    }
   ],
   "source": [
    "km.centroids"
   ]
  },
  {
   "cell_type": "code",
   "execution_count": 775,
   "metadata": {},
   "outputs": [
    {
     "data": {
      "text/plain": [
       "array([[  0,   0],\n",
       "       [  0,   1],\n",
       "       [  0,   2],\n",
       "       [  0,   3],\n",
       "       [  0,   4],\n",
       "       [  0,   5],\n",
       "       [  0,   6],\n",
       "       [  0,   7],\n",
       "       [  0,   8],\n",
       "       [  0,   9],\n",
       "       [  0,  10],\n",
       "       [  0,  11],\n",
       "       [  0,  12],\n",
       "       [  0,  13],\n",
       "       [  0,  14],\n",
       "       [  0,  15],\n",
       "       [  0,  16],\n",
       "       [  0,  17],\n",
       "       [  0,  18],\n",
       "       [  0,  19],\n",
       "       [  0,  20],\n",
       "       [  0,  21],\n",
       "       [  0,  22],\n",
       "       [  0,  23],\n",
       "       [  0,  24],\n",
       "       [  0,  25],\n",
       "       [  0,  26],\n",
       "       [  0,  27],\n",
       "       [  0,  28],\n",
       "       [  0,  29],\n",
       "       [  0,  30],\n",
       "       [  0,  31],\n",
       "       [  0,  32],\n",
       "       [  0,  33],\n",
       "       [  0,  34],\n",
       "       [  0,  35],\n",
       "       [  0,  36],\n",
       "       [  0,  37],\n",
       "       [  0,  38],\n",
       "       [  0,  39],\n",
       "       [  0,  40],\n",
       "       [  0,  41],\n",
       "       [  0,  42],\n",
       "       [  0,  43],\n",
       "       [  0,  44],\n",
       "       [  0,  45],\n",
       "       [  0,  46],\n",
       "       [  0,  47],\n",
       "       [  0,  48],\n",
       "       [  0,  49],\n",
       "       [  0,  57],\n",
       "       [  0,  84],\n",
       "       [  0, 106],\n",
       "       [  1,  53],\n",
       "       [  1,  55],\n",
       "       [  1,  59],\n",
       "       [  1,  60],\n",
       "       [  1,  61],\n",
       "       [  1,  62],\n",
       "       [  1,  63],\n",
       "       [  1,  64],\n",
       "       [  1,  66],\n",
       "       [  1,  67],\n",
       "       [  1,  68],\n",
       "       [  1,  69],\n",
       "       [  1,  70],\n",
       "       [  1,  71],\n",
       "       [  1,  72],\n",
       "       [  1,  73],\n",
       "       [  1,  78],\n",
       "       [  1,  79],\n",
       "       [  1,  80],\n",
       "       [  1,  81],\n",
       "       [  1,  82],\n",
       "       [  1,  83],\n",
       "       [  1,  85],\n",
       "       [  1,  87],\n",
       "       [  1,  88],\n",
       "       [  1,  89],\n",
       "       [  1,  90],\n",
       "       [  1,  91],\n",
       "       [  1,  92],\n",
       "       [  1,  93],\n",
       "       [  1,  94],\n",
       "       [  1,  95],\n",
       "       [  1,  96],\n",
       "       [  1,  97],\n",
       "       [  1,  98],\n",
       "       [  1,  99],\n",
       "       [  1, 101],\n",
       "       [  1, 113],\n",
       "       [  1, 114],\n",
       "       [  1, 119],\n",
       "       [  1, 121],\n",
       "       [  1, 126],\n",
       "       [  1, 127],\n",
       "       [  1, 134],\n",
       "       [  1, 138],\n",
       "       [  1, 142],\n",
       "       [  1, 146],\n",
       "       [  1, 149],\n",
       "       [  2,  50],\n",
       "       [  2,  51],\n",
       "       [  2,  52],\n",
       "       [  2,  54],\n",
       "       [  2,  56],\n",
       "       [  2,  58],\n",
       "       [  2,  65],\n",
       "       [  2,  74],\n",
       "       [  2,  75],\n",
       "       [  2,  76],\n",
       "       [  2,  77],\n",
       "       [  2,  86],\n",
       "       [  2, 100],\n",
       "       [  2, 102],\n",
       "       [  2, 103],\n",
       "       [  2, 104],\n",
       "       [  2, 105],\n",
       "       [  2, 107],\n",
       "       [  2, 108],\n",
       "       [  2, 109],\n",
       "       [  2, 110],\n",
       "       [  2, 111],\n",
       "       [  2, 112],\n",
       "       [  2, 115],\n",
       "       [  2, 116],\n",
       "       [  2, 117],\n",
       "       [  2, 118],\n",
       "       [  2, 120],\n",
       "       [  2, 122],\n",
       "       [  2, 123],\n",
       "       [  2, 124],\n",
       "       [  2, 125],\n",
       "       [  2, 128],\n",
       "       [  2, 129],\n",
       "       [  2, 130],\n",
       "       [  2, 131],\n",
       "       [  2, 132],\n",
       "       [  2, 133],\n",
       "       [  2, 135],\n",
       "       [  2, 136],\n",
       "       [  2, 137],\n",
       "       [  2, 139],\n",
       "       [  2, 140],\n",
       "       [  2, 141],\n",
       "       [  2, 143],\n",
       "       [  2, 144],\n",
       "       [  2, 145],\n",
       "       [  2, 147],\n",
       "       [  2, 148]])"
      ]
     },
     "execution_count": 775,
     "metadata": {},
     "output_type": "execute_result"
    }
   ],
   "source": [
    "km.labels"
   ]
  },
  {
   "cell_type": "markdown",
   "metadata": {},
   "source": [
    "### Compare performance\n",
    "\n",
    "---"
   ]
  },
  {
   "cell_type": "code",
   "execution_count": 771,
   "metadata": {
    "collapsed": true
   },
   "outputs": [],
   "source": [
    "from sklearn.cluster import k_means"
   ]
  },
  {
   "cell_type": "code",
   "execution_count": 772,
   "metadata": {
    "scrolled": true
   },
   "outputs": [
    {
     "data": {
      "text/plain": [
       "(array([[ 5.006     ,  3.418     ],\n",
       "        [ 6.81276596,  3.07446809],\n",
       "        [ 5.77358491,  2.69245283]]),\n",
       " array([0, 0, 0, 0, 0, 0, 0, 0, 0, 0, 0, 0, 0, 0, 0, 0, 0, 0, 0, 0, 0, 0, 0,\n",
       "        0, 0, 0, 0, 0, 0, 0, 0, 0, 0, 0, 0, 0, 0, 0, 0, 0, 0, 0, 0, 0, 0, 0,\n",
       "        0, 0, 0, 0, 1, 1, 1, 2, 1, 2, 1, 2, 1, 2, 2, 2, 2, 2, 2, 1, 2, 2, 2,\n",
       "        2, 2, 2, 2, 2, 1, 1, 1, 1, 2, 2, 2, 2, 2, 2, 2, 2, 1, 2, 2, 2, 2, 2,\n",
       "        2, 2, 2, 2, 2, 2, 2, 2, 1, 2, 1, 1, 1, 1, 2, 1, 1, 1, 1, 1, 1, 2, 2,\n",
       "        1, 1, 1, 1, 2, 1, 2, 1, 2, 1, 1, 2, 2, 1, 1, 1, 1, 1, 2, 2, 1, 1, 1,\n",
       "        2, 1, 1, 1, 2, 1, 1, 1, 2, 1, 1, 2], dtype=int32),\n",
       " 37.12370212765957)"
      ]
     },
     "execution_count": 772,
     "metadata": {},
     "output_type": "execute_result"
    }
   ],
   "source": [
    "k_means(X, n_clusters=3, max_iter=1000)"
   ]
  },
  {
   "cell_type": "code",
   "execution_count": null,
   "metadata": {
    "collapsed": true
   },
   "outputs": [],
   "source": []
  }
 ],
 "metadata": {
  "kernelspec": {
   "display_name": "Python 3",
   "language": "python",
   "name": "python3"
  },
  "language_info": {
   "codemirror_mode": {
    "name": "ipython",
    "version": 3
   },
   "file_extension": ".py",
   "mimetype": "text/x-python",
   "name": "python",
   "nbconvert_exporter": "python",
   "pygments_lexer": "ipython3",
   "version": "3.6.1"
  }
 },
 "nbformat": 4,
 "nbformat_minor": 2
}
