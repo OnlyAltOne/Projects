{
 "cells": [
  {
   "cell_type": "markdown",
   "metadata": {},
   "source": [
    "\n",
    "# <div style=\"text-align: right\"> Logistic Regression from Scratch. </div>\n",
    "\n",
    "---\n",
    "\n",
    "<div style=\"text-align: right\"> Geoff Counihan - Oct 30, 2017 </div>"
   ]
  },
  {
   "cell_type": "markdown",
   "metadata": {},
   "source": [
    "### Notes\n",
    "\n",
    "---\n",
    "\n",
    "Inspired by [Machine learning mastery](https://machinelearningmastery.com/implement-logistic-regression-stochastic-gradient-descent-scratch-python/)\n",
    "    \n",
    "__Additions__: L1 and L2 norm"
   ]
  },
  {
   "cell_type": "code",
   "execution_count": 1,
   "metadata": {
    "collapsed": true
   },
   "outputs": [],
   "source": [
    "from sklearn.datasets import load_iris"
   ]
  },
  {
   "cell_type": "code",
   "execution_count": 2,
   "metadata": {
    "collapsed": true
   },
   "outputs": [],
   "source": [
    "import numpy as np\n",
    "import pandas as pd\n",
    "import matplotlib.pyplot as plt\n",
    "%matplotlib inline"
   ]
  },
  {
   "cell_type": "code",
   "execution_count": 3,
   "metadata": {
    "collapsed": true
   },
   "outputs": [],
   "source": [
    "Xy = pd.read_csv('./sonar.all-data.csv',header=None)\n",
    "Xy[60] = Xy[60].map({'R':0,'M':1})\n",
    "X = np.array(Xy.iloc[:,:-1])\n",
    "y = np.array(Xy.iloc[:,-1])\n",
    "Xy = np.array(Xy)"
   ]
  },
  {
   "cell_type": "markdown",
   "metadata": {},
   "source": [
    "### Link Function\n",
    "\n",
    "GLMs or Generalized Linear Models convert a linear regression into a classification by using a link function.\n",
    "\n",
    "---\n",
    "\n",
    "__Sigmoid__ - a function whose values at -inf are 0 and +inf are 1"
   ]
  },
  {
   "cell_type": "code",
   "execution_count": 4,
   "metadata": {
    "collapsed": true
   },
   "outputs": [],
   "source": [
    "def sigmoid(X):\n",
    "    return 1 / (1 + np.exp(-X))"
   ]
  },
  {
   "cell_type": "code",
   "execution_count": 5,
   "metadata": {},
   "outputs": [
    {
     "data": {
      "text/plain": [
       "<matplotlib.text.Text at 0x10b573160>"
      ]
     },
     "execution_count": 5,
     "metadata": {},
     "output_type": "execute_result"
    },
    {
     "data": {
      "image/png": "[encoded data removed]",
      "text/plain": [
       "<matplotlib.figure.Figure at 0x10b3fb278>"
      ]
     },
     "metadata": {},
     "output_type": "display_data"
    }
   ],
   "source": [
    "a = np.linspace(-10,10)\n",
    "\n",
    "plt.plot(a,sigmoid(a))\n",
    "plt.title('Sigmoid function')"
   ]
  },
  {
   "cell_type": "markdown",
   "metadata": {},
   "source": [
    "__Gradient Descent__ - a simple iterative optimization algorithm that operates over a loss landscape"
   ]
  },
  {
   "cell_type": "code",
   "execution_count": 6,
   "metadata": {
    "collapsed": true
   },
   "outputs": [],
   "source": [
    "lr = .01\n",
    "w = np.random.uniform(size=(X.shape[1],))\n",
    "steps = 100\n",
    "\n",
    "def gradient_descent(X,y,w,lr,steps):\n",
    "    Xt = X.transpose()\n",
    "    for i in range(steps):\n",
    "        h = np.dot(X, w)\n",
    "        loss = h - y\n",
    "        cost = np.sum(loss ** 2) / (2 * X.shape[0])\n",
    "        print('iter: {} | cost: {}'.format(i,cost))\n",
    "        gradient = np.dot(Xt, loss) / X.shape[0]\n",
    "        w -= lr * gradient\n",
    "    return w"
   ]
  },
  {
   "cell_type": "code",
   "execution_count": 8,
   "metadata": {},
   "outputs": [
    {
     "name": "stdout",
     "output_type": "stream",
     "text": [
      "iter: 0 | cost: 27.827575511628332\n",
      "iter: 1 | cost: 23.64389020614845\n",
      "iter: 2 | cost: 20.097546457908045\n",
      "iter: 3 | cost: 17.091412164611196\n",
      "iter: 4 | cost: 14.543158618264819\n",
      "iter: 5 | cost: 12.383004395547406\n",
      "iter: 6 | cost: 10.551803090324627\n",
      "iter: 7 | cost: 8.999422485086102\n",
      "iter: 8 | cost: 7.683370744585783\n",
      "iter: 9 | cost: 6.567631984293257\n",
      "iter: 10 | cost: 5.6216793039102635\n",
      "iter: 11 | cost: 4.819638239408154\n",
      "iter: 12 | cost: 4.1395777090676225\n",
      "iter: 13 | cost: 3.562909022810906\n",
      "iter: 14 | cost: 3.073876485451896\n",
      "iter: 15 | cost: 2.6591256345028973\n",
      "iter: 16 | cost: 2.307337280651693\n",
      "iter: 17 | cost: 2.0089173222599856\n",
      "iter: 18 | cost: 1.7557338336494444\n",
      "iter: 19 | cost: 1.5408942224187974\n",
      "iter: 20 | cost: 1.358556349075583\n",
      "iter: 21 | cost: 1.2037684329596117\n",
      "iter: 22 | cost: 1.0723333572864386\n",
      "iter: 23 | cost: 0.9606936547655595\n",
      "iter: 24 | cost: 0.8658340219725564\n",
      "iter: 25 | cost: 0.78519869100732\n",
      "iter: 26 | cost: 0.7166213941152558\n",
      "iter: 27 | cost: 0.6582660020422959\n",
      "iter: 28 | cost: 0.6085762093944649\n",
      "iter: 29 | cost: 0.5662328881942316\n",
      "iter: 30 | cost: 0.5301179409629497\n",
      "iter: 31 | cost: 0.49928366276980213\n",
      "iter: 32 | cost: 0.47292677265380667\n",
      "iter: 33 | cost: 0.4503664027835836\n",
      "iter: 34 | cost: 0.43102544217628586\n",
      "iter: 35 | cost: 0.4144147237244694\n",
      "iter: 36 | cost: 0.4001196211968613\n",
      "iter: 37 | cost: 0.3877886889212162\n",
      "iter: 38 | cost: 0.3771240328345218\n",
      "iter: 39 | cost: 0.3678731490316983\n",
      "iter: 40 | cost: 0.35982200615884785\n",
      "iter: 41 | cost: 0.35278918208305987\n",
      "iter: 42 | cost: 0.34662089416187347\n",
      "iter: 43 | cost: 0.34118678692343707\n",
      "iter: 44 | cost: 0.3363763617242764\n",
      "iter: 45 | cost: 0.3320959505441442\n",
      "iter: 46 | cost: 0.32826615098880274\n",
      "iter: 47 | cost: 0.32481965221039655\n",
      "iter: 48 | cost: 0.321699392167667\n",
      "iter: 49 | cost: 0.3188569957281995\n",
      "iter: 50 | cost: 0.3162514508110054\n",
      "iter: 51 | cost: 0.3138479862909337\n",
      "iter: 52 | cost: 0.3116171209154243\n",
      "iter: 53 | cost: 0.3095338571704896\n",
      "iter: 54 | cost: 0.307576998004957\n",
      "iter: 55 | cost: 0.30572856768877565\n",
      "iter: 56 | cost: 0.3039733209348509\n",
      "iter: 57 | cost: 0.30229832683261565\n",
      "iter: 58 | cost: 0.300692616191669\n",
      "iter: 59 | cost: 0.29914688263148004\n",
      "iter: 60 | cost: 0.29765322922599863\n",
      "iter: 61 | cost: 0.2962049537603849\n",
      "iter: 62 | cost: 0.2947963667151856\n",
      "iter: 63 | cost: 0.2934226369901386\n",
      "iter: 64 | cost: 0.2920796611399528\n",
      "iter: 65 | cost: 0.2907639525387289\n",
      "iter: 66 | cost: 0.28947254743579914\n",
      "iter: 67 | cost: 0.2882029253286585\n",
      "iter: 68 | cost: 0.28695294147099265\n",
      "iter: 69 | cost: 0.28572076966635956\n",
      "iter: 70 | cost: 0.2845048537799447\n",
      "iter: 71 | cost: 0.283303866639715\n",
      "iter: 72 | cost: 0.2821166752007949\n",
      "iter: 73 | cost: 0.280942311018523\n",
      "iter: 74 | cost: 0.27977994522112215\n",
      "iter: 75 | cost: 0.27862886729622416\n",
      "iter: 76 | cost: 0.27748846711000297\n",
      "iter: 77 | cost: 0.27635821966625235\n",
      "iter: 78 | cost: 0.27523767218783196\n",
      "iter: 79 | cost: 0.27412643316654406\n",
      "iter: 80 | cost: 0.2730241630814464\n",
      "iter: 81 | cost: 0.27193056653132425\n",
      "iter: 82 | cost: 0.2708453855658036\n",
      "iter: 83 | cost: 0.2697683940324265\n",
      "iter: 84 | cost: 0.26869939278485544\n",
      "iter: 85 | cost: 0.2676382056209707\n",
      "iter: 86 | cost: 0.2665846758396215\n",
      "iter: 87 | cost: 0.2655386633217513\n",
      "iter: 88 | cost: 0.2645000420559809\n",
      "iter: 89 | cost: 0.2634686980409152\n",
      "iter: 90 | cost: 0.26244452750676317\n",
      "iter: 91 | cost: 0.2614274354076075\n",
      "iter: 92 | cost: 0.260417334143079\n",
      "iter: 93 | cost: 0.2594141424744772\n",
      "iter: 94 | cost: 0.25841778460570375\n",
      "iter: 95 | cost: 0.25742818940389484\n",
      "iter: 96 | cost: 0.256445289738463\n",
      "iter: 97 | cost: 0.25546902192050663\n",
      "iter: 98 | cost: 0.2544993252272919\n",
      "iter: 99 | cost: 0.2535361414988456\n"
     ]
    },
    {
     "data": {
      "text/plain": [
       "array([ 0.95732832,  0.53794631,  0.79766695,  0.59141848,  0.76220985,\n",
       "        0.3295569 ,  0.4818405 , -0.0981956 ,  0.75359045,  0.61710395,\n",
       "        0.22174394,  0.64708165,  0.58600279,  0.13861325,  0.48205109,\n",
       "        0.18798851, -0.03992163, -0.18917126,  0.29615915, -0.0477232 ,\n",
       "       -0.40168692, -0.18457437, -0.43699258,  0.17822991,  0.29050352,\n",
       "       -0.30045744, -0.35453455, -0.27930141, -0.01271641, -0.1592708 ,\n",
       "       -0.17446708,  0.03827499, -0.38718635,  0.53391693, -0.38874342,\n",
       "        0.01073837,  0.4077501 ,  0.32599282, -0.14831391, -0.11417533,\n",
       "        0.32907302, -0.1712312 ,  0.422403  , -0.219125  ,  0.14701967,\n",
       "        0.7960979 ,  0.86440931,  0.17231968, -0.00327667,  0.4931483 ,\n",
       "        0.40762318,  0.75540913,  0.76820578,  0.17142987,  0.90611683,\n",
       "        0.34880761,  0.35520962,  0.82585832,  0.32863412,  0.49544675])"
      ]
     },
     "execution_count": 8,
     "metadata": {},
     "output_type": "execute_result"
    }
   ],
   "source": [
    "lr = .01\n",
    "w = np.random.uniform(size=(X.shape[1],))\n",
    "steps = 100\n",
    "gradient_descent(X,y,w,lr,steps)"
   ]
  },
  {
   "cell_type": "code",
   "execution_count": 55,
   "metadata": {
    "collapsed": true
   },
   "outputs": [],
   "source": [
    "def compute_error_for_line_given_points(b, m, points):\n",
    "    totalError = 0\n",
    "    for i in range(0, len(points)):\n",
    "        x = points[i, 0]\n",
    "        y = points[i, 1]\n",
    "        totalError += (y - (m * x + b)) ** 2\n",
    "    return totalError / float(len(points))\n",
    "\n",
    "def step_gradient(b_current, m_current, points, learningRate):\n",
    "    b_gradient = 0\n",
    "    m_gradient = 0\n",
    "    N = float(len(points))\n",
    "    for i in range(0, len(points)):\n",
    "        x = points[i, 0]\n",
    "        y = points[i, 1]\n",
    "        b_gradient += -(2/N) * (y - ((m_current * x) + b_current))\n",
    "        m_gradient += -(2/N) * x * (y - ((m_current * x) + b_current))\n",
    "    new_b = b_current - (learningRate * b_gradient)\n",
    "    new_m = m_current - (learningRate * m_gradient)\n",
    "    return [new_b, new_m]\n",
    "\n",
    "def gradient_descent_runner(points, starting_b, starting_m, learning_rate, num_iterations):\n",
    "    b = starting_b\n",
    "    m = starting_m\n",
    "    for i in range(num_iterations):\n",
    "        b, m = step_gradient(b, m, array(points), learning_rate)\n",
    "    return [b, m]"
   ]
  },
  {
   "cell_type": "code",
   "execution_count": 81,
   "metadata": {},
   "outputs": [],
   "source": [
    "x = np.linspace(0,10)\n",
    "v = lambda x: x*.5 + 2\n",
    "y = v(x) + (np.random.rand(50)*1)"
   ]
  },
  {
   "cell_type": "code",
   "execution_count": 63,
   "metadata": {},
   "outputs": [
    {
     "data": {
      "text/plain": [
       "<matplotlib.collections.PathCollection at 0x1a145287b8>"
      ]
     },
     "execution_count": 63,
     "metadata": {},
     "output_type": "execute_result"
    },
    {
     "data": {
      "image/png": "[encoded data removed]",
      "text/plain": [
       "<matplotlib.figure.Figure at 0x1a14e80668>"
      ]
     },
     "metadata": {},
     "output_type": "display_data"
    }
   ],
   "source": [
    "plt.scatter(x,y)"
   ]
  },
  {
   "cell_type": "code",
   "execution_count": 82,
   "metadata": {},
   "outputs": [],
   "source": [
    "points = pd.DataFrame(x,y).reset_index().values"
   ]
  },
  {
   "cell_type": "code",
   "execution_count": 65,
   "metadata": {},
   "outputs": [],
   "source": [
    "points = list(zip(x,y))"
   ]
  },
  {
   "cell_type": "code",
   "execution_count": 83,
   "metadata": {},
   "outputs": [],
   "source": [
    "points = np.array([[2,3],[3,4]])\n",
    "i=0\n",
    "x = points[i, 0]\n",
    "y = points[i, 1]"
   ]
  },
  {
   "cell_type": "code",
   "execution_count": 95,
   "metadata": {},
   "outputs": [
    {
     "data": {
      "text/plain": [
       "0.125"
      ]
     },
     "execution_count": 95,
     "metadata": {},
     "output_type": "execute_result"
    }
   ],
   "source": [
    "compute_error_for_line_given_points(2,.5,points)"
   ]
  },
  {
   "cell_type": "code",
   "execution_count": 97,
   "metadata": {},
   "outputs": [
    {
     "data": {
      "text/plain": [
       "1.625"
      ]
     },
     "execution_count": 97,
     "metadata": {},
     "output_type": "execute_result"
    }
   ],
   "source": [
    "compute_error_for_line_given_points(1,.5,points)"
   ]
  },
  {
   "cell_type": "code",
   "execution_count": 98,
   "metadata": {},
   "outputs": [
    {
     "data": {
      "text/plain": [
       "0.5"
      ]
     },
     "execution_count": 98,
     "metadata": {},
     "output_type": "execute_result"
    }
   ],
   "source": [
    "compute_error_for_line_given_points(4,0,points)"
   ]
  },
  {
   "cell_type": "code",
   "execution_count": 135,
   "metadata": {},
   "outputs": [
    {
     "data": {
      "text/plain": [
       "(50,)"
      ]
     },
     "execution_count": 135,
     "metadata": {},
     "output_type": "execute_result"
    }
   ],
   "source": [
    "np.linspace(1,3,50).shape"
   ]
  },
  {
   "cell_type": "code",
   "execution_count": 153,
   "metadata": {},
   "outputs": [],
   "source": [
    "space = pd.DataFrame()\n",
    "bi = {}\n",
    "\n",
    "ms = np.linspace(-100,100,100)\n",
    "bs = np.linspace(-100,100,100)\n",
    "\n",
    "bi = []\n",
    "for m in ms:\n",
    "    mi = []\n",
    "    #mi[m] = []\n",
    "    for b in bs:\n",
    "        mi.append(compute_error_for_line_given_points(m,b,points))\n",
    "        #mi[m].append(compute_error_for_line_given_points(m,b,points))\n",
    "    bi.append(mi)"
   ]
  },
  {
   "cell_type": "code",
   "execution_count": 154,
   "metadata": {},
   "outputs": [],
   "source": [
    "space = pd.DataFrame(bi)\n",
    "space.columns = bs\n",
    "space.index = ms"
   ]
  },
  {
   "cell_type": "code",
   "execution_count": 155,
   "metadata": {},
   "outputs": [
    {
     "data": {
      "text/plain": [
       "<matplotlib.axes._subplots.AxesSubplot at 0x1a161c9320>"
      ]
     },
     "execution_count": 155,
     "metadata": {},
     "output_type": "execute_result"
    },
    {
     "data": {
      "image/png": "[encoded data removed]",
      "text/plain": [
       "<matplotlib.figure.Figure at 0x1a1620fa20>"
      ]
     },
     "metadata": {},
     "output_type": "display_data"
    }
   ],
   "source": [
    "import seaborn as sns\n",
    "sns.heatmap(space)"
   ]
  },
  {
   "cell_type": "code",
   "execution_count": 91,
   "metadata": {},
   "outputs": [
    {
     "ename": "SyntaxError",
     "evalue": "positional argument follows keyword argument (<ipython-input-91-5a62734f0edf>, line 1)",
     "output_type": "error",
     "traceback": [
      "\u001b[0;36m  File \u001b[0;32m\"<ipython-input-91-5a62734f0edf>\"\u001b[0;36m, line \u001b[0;32m1\u001b[0m\n\u001b[0;31m    print('{} optimally lowest error'.format(compute_error_for_line_given_points(b=2,m=.5,points)))\u001b[0m\n\u001b[0m                                                                                         ^\u001b[0m\n\u001b[0;31mSyntaxError\u001b[0m\u001b[0;31m:\u001b[0m positional argument follows keyword argument\n"
     ]
    }
   ],
   "source": [
    "print('{} optimally lowest error'.format(compute_error_for_line_given_points(b=2,m=.5,points)))\n",
    "#compute_error_for_line_given_points(.5,2,points)"
   ]
  },
  {
   "cell_type": "markdown",
   "metadata": {},
   "source": [
    "__Predict__ - "
   ]
  },
  {
   "cell_type": "code",
   "execution_count": 9,
   "metadata": {},
   "outputs": [
    {
     "name": "stdout",
     "output_type": "stream",
     "text": [
      "prediction: 0.7497222985208888, actual: 0\n"
     ]
    }
   ],
   "source": [
    "idx = 3\n",
    "print('prediction: {}, actual: {}'.format(X[idx].dot(w),y[idx]))"
   ]
  },
  {
   "cell_type": "code",
   "execution_count": 10,
   "metadata": {
    "collapsed": true,
    "scrolled": true
   },
   "outputs": [],
   "source": [
    "def predict_proba(sample):\n",
    "    return sigmoid(sample.dot(w))"
   ]
  },
  {
   "cell_type": "code",
   "execution_count": 11,
   "metadata": {
    "collapsed": true
   },
   "outputs": [],
   "source": [
    "def predict(X_test,thresh=0.5):\n",
    "    for i in X_test:\n",
    "        if i.dot(w) < thresh:\n",
    "            return 0\n",
    "        else:\n",
    "            return 1"
   ]
  },
  {
   "cell_type": "code",
   "execution_count": 12,
   "metadata": {},
   "outputs": [
    {
     "data": {
      "text/plain": [
       "1"
      ]
     },
     "execution_count": 12,
     "metadata": {},
     "output_type": "execute_result"
    }
   ],
   "source": [
    "predict(X[:2,])"
   ]
  },
  {
   "cell_type": "markdown",
   "metadata": {},
   "source": [
    "__Stocastic Gradient Descent__ - "
   ]
  },
  {
   "cell_type": "code",
   "execution_count": null,
   "metadata": {
    "collapsed": true
   },
   "outputs": [],
   "source": []
  },
  {
   "cell_type": "markdown",
   "metadata": {},
   "source": [
    "### Create class.\n",
    "\n",
    "---\n",
    "\n",
    "__Tie__ - Added to modify behavior when there is a tie for majority class"
   ]
  },
  {
   "cell_type": "code",
   "execution_count": 249,
   "metadata": {
    "collapsed": true
   },
   "outputs": [],
   "source": [
    "class logistic_regression(object):\n",
    "    def __init__(self, lr=0.01, steps=10000, thresh=0.5):\n",
    "        self.lr = lr\n",
    "        self.steps = steps\n",
    "        self.thresh = thresh\n",
    "    \n",
    "    def sigmoid(self,x):\n",
    "        return 1 / (1 + np.exp(-x))\n",
    "    \n",
    "    def gradient_descent(self):\n",
    "        Xt = self.X.transpose()\n",
    "        for i in range(self.steps):\n",
    "            #print(i)\n",
    "            h = np.dot(self.X, self.w)\n",
    "            loss = h - y\n",
    "            cost = np.sum(loss ** 2) / (2 * self.X.shape[0])\n",
    "            #print('iter: {} | cost: {}'.format(i,cost))\n",
    "            gradient = np.dot(Xt, loss) / self.X.shape[0]\n",
    "            self.w = self.w - self.lr * gradient\n",
    "    \n",
    "    def fit(self,X,y):\n",
    "        '''Save training data.\n",
    "        \n",
    "        '''\n",
    "        self.X = X\n",
    "        self.y = y\n",
    "        self.Xy = np.column_stack((X, y))\n",
    "        self.w = np.random.uniform(size=(X.shape[1],))\n",
    "        \n",
    "        self.gradient_descent()\n",
    "    \n",
    "    def predict_proba(self, X_test):\n",
    "        self.y_pred_proba = self.sigmoid(X_test.dot(self.w))\n",
    "        return self.y_pred_proba\n",
    "    \n",
    "    def predict(self, X_test):\n",
    "        self.y_pred = np.array([])\n",
    "        for i in range(X_test.shape[0]):\n",
    "            if self.predict_proba(np.dot(X_test[i],self.w)) < self.thresh:\n",
    "                self.y_pred = np.append(0)\n",
    "            else:\n",
    "                self.y_pred = np.append(1)\n",
    "        return self.y_pred\n",
    "        "
   ]
  },
  {
   "cell_type": "markdown",
   "metadata": {},
   "source": [
    "#### Test"
   ]
  },
  {
   "cell_type": "code",
   "execution_count": 250,
   "metadata": {
    "collapsed": true
   },
   "outputs": [],
   "source": [
    "from sklearn.model_selection import train_test_split\n",
    "\n",
    "Xy = pd.read_csv('./sonar.all-data.csv',header=None)\n",
    "Xy[60] = Xy[60].map({'R':0,'M':1})\n",
    "X = np.array(Xy.iloc[:,:-1])\n",
    "y = np.array(Xy.iloc[:,-1])\n",
    "Xy = np.array(Xy)\n",
    "\n",
    "X_train, X_test, y_train, y_test = train_test_split(X, y, random_state=35)"
   ]
  },
  {
   "cell_type": "code",
   "execution_count": 251,
   "metadata": {
    "collapsed": true
   },
   "outputs": [],
   "source": [
    "lr = logistic_regression()"
   ]
  },
  {
   "cell_type": "code",
   "execution_count": 252,
   "metadata": {
    "collapsed": true
   },
   "outputs": [],
   "source": [
    "lr.fit(X,y)"
   ]
  },
  {
   "cell_type": "code",
   "execution_count": 253,
   "metadata": {},
   "outputs": [
    {
     "ename": "AttributeError",
     "evalue": "'numpy.float64' object has no attribute 'dot'",
     "output_type": "error",
     "traceback": [
      "\u001b[0;31m---------------------------------------------------------------------------\u001b[0m",
      "\u001b[0;31mAttributeError\u001b[0m                            Traceback (most recent call last)",
      "\u001b[0;32m<ipython-input-253-ddf71a9f4598>\u001b[0m in \u001b[0;36m<module>\u001b[0;34m()\u001b[0m\n\u001b[0;32m----> 1\u001b[0;31m \u001b[0mlr\u001b[0m\u001b[0;34m.\u001b[0m\u001b[0mpredict\u001b[0m\u001b[0;34m(\u001b[0m\u001b[0mX_test\u001b[0m\u001b[0;34m)\u001b[0m\u001b[0;34m\u001b[0m\u001b[0m\n\u001b[0m",
      "\u001b[0;32m<ipython-input-249-dbb40a3d32be>\u001b[0m in \u001b[0;36mpredict\u001b[0;34m(self, X_test)\u001b[0m\n\u001b[1;32m     37\u001b[0m         \u001b[0mself\u001b[0m\u001b[0;34m.\u001b[0m\u001b[0my_pred\u001b[0m \u001b[0;34m=\u001b[0m \u001b[0mnp\u001b[0m\u001b[0;34m.\u001b[0m\u001b[0marray\u001b[0m\u001b[0;34m(\u001b[0m\u001b[0;34m[\u001b[0m\u001b[0;34m]\u001b[0m\u001b[0;34m)\u001b[0m\u001b[0;34m\u001b[0m\u001b[0m\n\u001b[1;32m     38\u001b[0m         \u001b[0;32mfor\u001b[0m \u001b[0mi\u001b[0m \u001b[0;32min\u001b[0m \u001b[0mrange\u001b[0m\u001b[0;34m(\u001b[0m\u001b[0mX_test\u001b[0m\u001b[0;34m.\u001b[0m\u001b[0mshape\u001b[0m\u001b[0;34m[\u001b[0m\u001b[0;36m0\u001b[0m\u001b[0;34m]\u001b[0m\u001b[0;34m)\u001b[0m\u001b[0;34m:\u001b[0m\u001b[0;34m\u001b[0m\u001b[0m\n\u001b[0;32m---> 39\u001b[0;31m             \u001b[0;32mif\u001b[0m \u001b[0mself\u001b[0m\u001b[0;34m.\u001b[0m\u001b[0mpredict_proba\u001b[0m\u001b[0;34m(\u001b[0m\u001b[0mnp\u001b[0m\u001b[0;34m.\u001b[0m\u001b[0mdot\u001b[0m\u001b[0;34m(\u001b[0m\u001b[0mX_test\u001b[0m\u001b[0;34m[\u001b[0m\u001b[0mi\u001b[0m\u001b[0;34m]\u001b[0m\u001b[0;34m,\u001b[0m\u001b[0mself\u001b[0m\u001b[0;34m.\u001b[0m\u001b[0mw\u001b[0m\u001b[0;34m)\u001b[0m\u001b[0;34m)\u001b[0m \u001b[0;34m<\u001b[0m \u001b[0mself\u001b[0m\u001b[0;34m.\u001b[0m\u001b[0mthresh\u001b[0m\u001b[0;34m:\u001b[0m\u001b[0;34m\u001b[0m\u001b[0m\n\u001b[0m\u001b[1;32m     40\u001b[0m                 \u001b[0mself\u001b[0m\u001b[0;34m.\u001b[0m\u001b[0my_pred\u001b[0m \u001b[0;34m=\u001b[0m \u001b[0mnp\u001b[0m\u001b[0;34m.\u001b[0m\u001b[0mappend\u001b[0m\u001b[0;34m(\u001b[0m\u001b[0;36m0\u001b[0m\u001b[0;34m)\u001b[0m\u001b[0;34m\u001b[0m\u001b[0m\n\u001b[1;32m     41\u001b[0m             \u001b[0;32melse\u001b[0m\u001b[0;34m:\u001b[0m\u001b[0;34m\u001b[0m\u001b[0m\n",
      "\u001b[0;32m<ipython-input-249-dbb40a3d32be>\u001b[0m in \u001b[0;36mpredict_proba\u001b[0;34m(self, X_test)\u001b[0m\n\u001b[1;32m     31\u001b[0m \u001b[0;34m\u001b[0m\u001b[0m\n\u001b[1;32m     32\u001b[0m     \u001b[0;32mdef\u001b[0m \u001b[0mpredict_proba\u001b[0m\u001b[0;34m(\u001b[0m\u001b[0mself\u001b[0m\u001b[0;34m,\u001b[0m \u001b[0mX_test\u001b[0m\u001b[0;34m)\u001b[0m\u001b[0;34m:\u001b[0m\u001b[0;34m\u001b[0m\u001b[0m\n\u001b[0;32m---> 33\u001b[0;31m         \u001b[0mself\u001b[0m\u001b[0;34m.\u001b[0m\u001b[0my_pred_proba\u001b[0m \u001b[0;34m=\u001b[0m \u001b[0mself\u001b[0m\u001b[0;34m.\u001b[0m\u001b[0msigmoid\u001b[0m\u001b[0;34m(\u001b[0m\u001b[0mX_test\u001b[0m\u001b[0;34m.\u001b[0m\u001b[0mdot\u001b[0m\u001b[0;34m(\u001b[0m\u001b[0mself\u001b[0m\u001b[0;34m.\u001b[0m\u001b[0mw\u001b[0m\u001b[0;34m)\u001b[0m\u001b[0;34m)\u001b[0m\u001b[0;34m\u001b[0m\u001b[0m\n\u001b[0m\u001b[1;32m     34\u001b[0m         \u001b[0;32mreturn\u001b[0m \u001b[0mself\u001b[0m\u001b[0;34m.\u001b[0m\u001b[0my_pred_proba\u001b[0m\u001b[0;34m\u001b[0m\u001b[0m\n\u001b[1;32m     35\u001b[0m \u001b[0;34m\u001b[0m\u001b[0m\n",
      "\u001b[0;31mAttributeError\u001b[0m: 'numpy.float64' object has no attribute 'dot'"
     ]
    }
   ],
   "source": [
    "lr.predict(X_test)"
   ]
  },
  {
   "cell_type": "code",
   "execution_count": 32,
   "metadata": {},
   "outputs": [
    {
     "name": "stdout",
     "output_type": "stream",
     "text": [
      "CPU times: user 964 µs, sys: 933 µs, total: 1.9 ms\n",
      "Wall time: 1.25 ms\n"
     ]
    }
   ],
   "source": [
    "%%time\n",
    "my_pred = dt.predict(X_test)"
   ]
  },
  {
   "cell_type": "markdown",
   "metadata": {},
   "source": [
    "### Display tree.\n",
    "---"
   ]
  },
  {
   "cell_type": "code",
   "execution_count": 33,
   "metadata": {
    "scrolled": false
   },
   "outputs": [
    {
     "name": "stdout",
     "output_type": "stream",
     "text": [
      "[feat1 < 5.40]\n",
      "\t[feat2 < 2.70]\n",
      "\t\t[1.0]\n",
      "\t\t[0.0]\n",
      "\t[feat1 < 6.20]\n",
      "\t\t[1.0]\n",
      "\t\t[2.0]\n"
     ]
    }
   ],
   "source": [
    "dt.display_tree()"
   ]
  },
  {
   "cell_type": "markdown",
   "metadata": {},
   "source": [
    "### Compare performance\n",
    "\n",
    "---"
   ]
  },
  {
   "cell_type": "code",
   "execution_count": 34,
   "metadata": {
    "collapsed": true
   },
   "outputs": [],
   "source": [
    "from sklearn.tree import DecisionTreeClassifier\n",
    "from sklearn import tree"
   ]
  },
  {
   "cell_type": "code",
   "execution_count": 35,
   "metadata": {
    "collapsed": true
   },
   "outputs": [],
   "source": [
    "clf = DecisionTreeClassifier(max_depth=2,min_samples_split=30)"
   ]
  },
  {
   "cell_type": "code",
   "execution_count": 36,
   "metadata": {},
   "outputs": [
    {
     "data": {
      "text/plain": [
       "DecisionTreeClassifier(class_weight=None, criterion='gini', max_depth=2,\n",
       "            max_features=None, max_leaf_nodes=None,\n",
       "            min_impurity_split=1e-07, min_samples_leaf=1,\n",
       "            min_samples_split=30, min_weight_fraction_leaf=0.0,\n",
       "            presort=False, random_state=None, splitter='best')"
      ]
     },
     "execution_count": 36,
     "metadata": {},
     "output_type": "execute_result"
    }
   ],
   "source": [
    "clf.fit(X_train,y_train)"
   ]
  },
  {
   "cell_type": "code",
   "execution_count": 37,
   "metadata": {
    "collapsed": true
   },
   "outputs": [],
   "source": [
    "sk_pred = clf.predict(X_test)"
   ]
  },
  {
   "cell_type": "markdown",
   "metadata": {},
   "source": [
    "### Sample points\n",
    "\n",
    "---"
   ]
  },
  {
   "cell_type": "code",
   "execution_count": 38,
   "metadata": {
    "collapsed": true
   },
   "outputs": [],
   "source": [
    "a = X_test[:3]"
   ]
  },
  {
   "cell_type": "code",
   "execution_count": 39,
   "metadata": {},
   "outputs": [
    {
     "name": "stdout",
     "output_type": "stream",
     "text": [
      "sk_pred: [1 1 2]\n",
      "my_pred: [ 1.  1.  2.]\n",
      "true: [1 1 2]\n"
     ]
    }
   ],
   "source": [
    "print('sk_pred: {}'.format(clf.predict(a)))\n",
    "print('my_pred: {}'.format(dt.predict(a)))\n",
    "print('true: {}'.format(y_test[:3]))"
   ]
  },
  {
   "cell_type": "markdown",
   "metadata": {},
   "source": [
    "### Accuracy differences\n",
    "\n",
    "---\n",
    "\n",
    "I'm unclear how sklearn differs. Will need to look deeper"
   ]
  },
  {
   "cell_type": "code",
   "execution_count": 40,
   "metadata": {
    "collapsed": true
   },
   "outputs": [],
   "source": [
    "def accuracy(pred,true):\n",
    "    correct = 0\n",
    "    pred_len = len(pred)\n",
    "    for i in range(pred_len):\n",
    "        if pred[i] == true[i]:\n",
    "            correct += 1\n",
    "    return correct/pred_len"
   ]
  },
  {
   "cell_type": "code",
   "execution_count": 41,
   "metadata": {},
   "outputs": [
    {
     "data": {
      "text/plain": [
       "0.7631578947368421"
      ]
     },
     "execution_count": 41,
     "metadata": {},
     "output_type": "execute_result"
    }
   ],
   "source": [
    "accuracy(my_pred,y_test)"
   ]
  },
  {
   "cell_type": "code",
   "execution_count": 42,
   "metadata": {},
   "outputs": [
    {
     "data": {
      "text/plain": [
       "0.7894736842105263"
      ]
     },
     "execution_count": 42,
     "metadata": {},
     "output_type": "execute_result"
    }
   ],
   "source": [
    "accuracy(sk_pred,y_test)"
   ]
  },
  {
   "cell_type": "code",
   "execution_count": 43,
   "metadata": {},
   "outputs": [
    {
     "data": {
      "text/plain": [
       "[(1.0, 1, 1),\n",
       " (1.0, 1, 1),\n",
       " (2.0, 2, 2),\n",
       " (2.0, 2, 1),\n",
       " (0.0, 0, 0),\n",
       " (2.0, 2, 2),\n",
       " (2.0, 2, 2),\n",
       " (1.0, 1, 1),\n",
       " (1.0, 1, 1),\n",
       " (0.0, 0, 0),\n",
       " (1.0, 0, 1),\n",
       " (2.0, 2, 2),\n",
       " (0.0, 0, 0),\n",
       " (2.0, 2, 2),\n",
       " (0.0, 0, 0),\n",
       " (1.0, 1, 2),\n",
       " (1.0, 1, 1),\n",
       " (0.0, 0, 0),\n",
       " (0.0, 0, 0),\n",
       " (0.0, 0, 0),\n",
       " (2.0, 2, 1),\n",
       " (1.0, 1, 1),\n",
       " (2.0, 2, 2),\n",
       " (2.0, 2, 1),\n",
       " (0.0, 0, 0),\n",
       " (1.0, 0, 0),\n",
       " (1.0, 0, 0),\n",
       " (2.0, 2, 2),\n",
       " (0.0, 0, 0),\n",
       " (2.0, 2, 2),\n",
       " (0.0, 0, 0),\n",
       " (1.0, 1, 1),\n",
       " (1.0, 1, 2),\n",
       " (0.0, 0, 0),\n",
       " (2.0, 2, 1),\n",
       " (1.0, 1, 2),\n",
       " (0.0, 0, 0),\n",
       " (2.0, 2, 2)]"
      ]
     },
     "execution_count": 43,
     "metadata": {},
     "output_type": "execute_result"
    }
   ],
   "source": [
    "list(zip(my_pred,sk_pred,y_test))"
   ]
  },
  {
   "cell_type": "code",
   "execution_count": null,
   "metadata": {
    "collapsed": true
   },
   "outputs": [],
   "source": []
  },
  {
   "cell_type": "code",
   "execution_count": null,
   "metadata": {
    "collapsed": true
   },
   "outputs": [],
   "source": []
  },
  {
   "cell_type": "code",
   "execution_count": null,
   "metadata": {
    "collapsed": true
   },
   "outputs": [],
   "source": []
  },
  {
   "cell_type": "code",
   "execution_count": null,
   "metadata": {
    "collapsed": true
   },
   "outputs": [],
   "source": []
  }
 ],
 "metadata": {
  "kernelspec": {
   "display_name": "Python 3",
   "language": "python",
   "name": "python3"
  },
  "language_info": {
   "codemirror_mode": {
    "name": "ipython",
    "version": 3
   },
   "file_extension": ".py",
   "mimetype": "text/x-python",
   "name": "python",
   "nbconvert_exporter": "python",
   "pygments_lexer": "ipython3",
   "version": "3.6.2"
  }
 },
 "nbformat": 4,
 "nbformat_minor": 2
}
