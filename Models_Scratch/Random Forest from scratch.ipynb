{
 "cells": [
  {
   "cell_type": "markdown",
   "metadata": {},
   "source": [
    "\n",
    "# <div style=\"text-align: right\"> Random Forest from scratch. </div>\n",
    "\n",
    "---\n",
    "\n",
    "<div style=\"text-align: right\"> Geoff Counihan - Oct 6, 2017 </div>"
   ]
  },
  {
   "cell_type": "markdown",
   "metadata": {},
   "source": [
    "### Notes\n",
    "\n",
    "---\n",
    "\n",
    "Inhereted my decision tree class to create a random forest classifier. There are a few modifications.\n",
    "\n",
    "    1. Sample with replacement\n",
    "    2. Create, predict, and average multiple tree predictions\n",
    "    3. Modify split function to spit off n_feat random features\n",
    "    \n",
    "__Additions__: Entropy, Test Cases"
   ]
  },
  {
   "cell_type": "code",
   "execution_count": 111,
   "metadata": {
    "collapsed": true
   },
   "outputs": [],
   "source": [
    "from sklearn.datasets import load_iris\n",
    "import pandas as pd\n",
    "import numpy as np\n",
    "import operator"
   ]
  },
  {
   "cell_type": "code",
   "execution_count": 182,
   "metadata": {
    "collapsed": true
   },
   "outputs": [],
   "source": [
    "Xy = pd.read_csv('./sonar.all-data.csv',header=None)\n",
    "Xy[60] = Xy[60].map({'R':0,'M':1})\n",
    "X = np.array(Xy.iloc[:,:-1])\n",
    "y = np.array(Xy.iloc[:,-1])\n",
    "Xy = np.array(Xy)"
   ]
  },
  {
   "cell_type": "code",
   "execution_count": 5,
   "metadata": {},
   "outputs": [
    {
     "name": "stdout",
     "output_type": "stream",
     "text": [
      "[[ 5.1  3.5  0. ]\n",
      " [ 4.9  3.   0. ]\n",
      " [ 4.7  3.2  0. ]]\n"
     ]
    }
   ],
   "source": [
    "# iris = load_iris()\n",
    "# X = iris.data[:,:2]\n",
    "# y = iris.target\n",
    "\n",
    "# Xy = np.column_stack((X,y))\n",
    "# Xy_point = Xy[:3]\n",
    "# print(Xy_point)"
   ]
  },
  {
   "cell_type": "markdown",
   "metadata": {},
   "source": [
    "### Data manipulations\n",
    "\n",
    "Random Forests are powerful because they ensemble a large number of weak learners. For each tree to be different from another two manipulations are performed\n",
    "\n",
    "---\n",
    "\n",
    "__Sample with replacement__ - create a ficticous dataset sampled with replacement from the original data"
   ]
  },
  {
   "cell_type": "code",
   "execution_count": 138,
   "metadata": {
    "collapsed": true
   },
   "outputs": [],
   "source": [
    "def samp(Xy,ratio):\n",
    "    n = int(np.round(len(Xy) * ratio))\n",
    "    idx = np.random.randint(Xy.shape[0],size=n)\n",
    "    return Xy[idx,:]"
   ]
  },
  {
   "cell_type": "code",
   "execution_count": 141,
   "metadata": {
    "scrolled": true
   },
   "outputs": [
    {
     "data": {
      "text/plain": [
       "(208, 61)"
      ]
     },
     "execution_count": 141,
     "metadata": {},
     "output_type": "execute_result"
    }
   ],
   "source": [
    "samp(Xy,1).shape"
   ]
  },
  {
   "cell_type": "code",
   "execution_count": 341,
   "metadata": {
    "collapsed": true
   },
   "outputs": [],
   "source": [
    "class random_forest(decision_tree):\n",
    "    def __init__(self, num_trees, max_depth=2, min_num_split=30, sample_ratio=1):\n",
    "        self.max_depth = max_depth\n",
    "        self.min_num_sample = min_num_split\n",
    "        self.num_trees = num_trees\n",
    "        self.ratio = sample_ratio\n",
    "        \n",
    "    def build_tree(self, Xy):\n",
    "        '''Recursively build tree, unclear if this is the correct way\n",
    "        \n",
    "        '''\n",
    "        self.root = self.best_split(Xy)\n",
    "        #print(self.root)\n",
    "        self.split_branch(self.root, 1) # i don't understand how this is working, pointed to node?\n",
    "        #print(self.root)\n",
    "        return self.root\n",
    "    \n",
    "    def best_split(self, Xy):\n",
    "        classes = np.unique(Xy[:,-1])\n",
    "        best_feat = 999\n",
    "        best_val = 999\n",
    "        best_score = 999\n",
    "        best_groups = None\n",
    "        n_feats = np.random.choice(Xy.shape[1]-1, self.n_feat, replace=False)\n",
    "        #print(n_feats)\n",
    "        for feat in n_feats:\n",
    "            for i in Xy:\n",
    "                groups = self.split(feat, i[feat], Xy)\n",
    "                #print(groups)\n",
    "                gini = self.gini_score(groups, classes)\n",
    "                #print('feat {}, valued < {}, scored {}'.format(feat,i[feat], gini))\n",
    "                if gini < best_score:\n",
    "                    best_feat = feat\n",
    "                    best_val = i[feat]\n",
    "                    best_score = gini\n",
    "                    best_groups = groups\n",
    "        output = {}\n",
    "        output['feat'] = best_feat\n",
    "        output['val'] = best_val\n",
    "        output['groups'] = best_groups\n",
    "        return output\n",
    "    \n",
    "    def samp(self, Xy, ratio=1):\n",
    "        n = int(np.round(len(Xy) * ratio))\n",
    "        idx = np.random.randint(Xy.shape[0],size=n)\n",
    "        return Xy[idx,:]\n",
    "        \n",
    "    def fit(self, X, y):\n",
    "        '''Save training data.\n",
    "        \n",
    "        '''\n",
    "        self.X = X\n",
    "        self.y = y\n",
    "        self.Xy = np.column_stack((X, y))\n",
    "\n",
    "        self.n_feat = int(np.sqrt(X.shape[1]))\n",
    "        \n",
    "        self.trees = [self.build_tree(self.samp(self.Xy)) for i in range(self.num_trees)]\n",
    "        \n",
    "    def predict(self, X_test):\n",
    "        self.y_preds = np.array([]).reshape(0,X_test.shape[0])\n",
    "        for root in self.trees:\n",
    "            y_pred = np.array([])\n",
    "            for i in X_test:\n",
    "                y_pred = np.append(y_pred,self.predict_sample(root,i))\n",
    "            #print(y_pred.shape)\n",
    "            self.y_preds = np.vstack((self.y_preds,y_pred))\n",
    "        self.avg_preds = np.rint(self.y_preds.mean(axis=0))\n",
    "        return self.avg_preds\n",
    "        \n",
    "        "
   ]
  },
  {
   "cell_type": "code",
   "execution_count": 279,
   "metadata": {
    "collapsed": true
   },
   "outputs": [],
   "source": [
    "# dt = decision_tree(max_depth=2,min_num_split=30)\n",
    "# dt.fit(X,y)"
   ]
  },
  {
   "cell_type": "code",
   "execution_count": 306,
   "metadata": {},
   "outputs": [
    {
     "data": {
      "text/plain": [
       "array([ 1.,  0.,  1.,  1.,  1.,  0.,  1.,  0.,  1.,  1.,  1.,  1.,  1.,\n",
       "        1.,  0.,  1.,  1.,  0.,  1.,  1.,  1.,  1.,  1.,  1.,  0.,  0.,\n",
       "        1.,  1.,  0.,  1.,  1.,  1.,  0.,  1.,  1.,  0.,  1.,  1.,  0.,\n",
       "        1.,  1.,  1.,  1.,  1.,  0.,  0.,  1.,  1.,  1.,  0.,  0.,  1.])"
      ]
     },
     "execution_count": 306,
     "metadata": {},
     "output_type": "execute_result"
    }
   ],
   "source": [
    "np.rint(rf_pred)"
   ]
  },
  {
   "cell_type": "code",
   "execution_count": 280,
   "metadata": {},
   "outputs": [
    {
     "data": {
      "text/plain": [
       "52"
      ]
     },
     "execution_count": 280,
     "metadata": {},
     "output_type": "execute_result"
    }
   ],
   "source": [
    "X_test.shape[0]"
   ]
  },
  {
   "cell_type": "code",
   "execution_count": 281,
   "metadata": {
    "collapsed": true
   },
   "outputs": [],
   "source": [
    "rf = random_forest(num_trees=3)"
   ]
  },
  {
   "cell_type": "code",
   "execution_count": 282,
   "metadata": {
    "scrolled": true
   },
   "outputs": [
    {
     "name": "stdout",
     "output_type": "stream",
     "text": [
      "[41 20 16 19 12 30 48]\n",
      "[ 2 26 38 23 33 13 57]\n",
      "[22  8 58 52 17 10 11]\n",
      "[42 32 27  1 17 55 24]\n",
      "[38 54 49 48 41 14  7]\n",
      "[57 18 32 13 16 41 37]\n",
      "[36 41 59 42 13 28 45]\n",
      "[24 57  7 59 29 49 30]\n"
     ]
    }
   ],
   "source": [
    "rf.fit(X,y)"
   ]
  },
  {
   "cell_type": "code",
   "execution_count": 283,
   "metadata": {
    "scrolled": true
   },
   "outputs": [
    {
     "name": "stdout",
     "output_type": "stream",
     "text": [
      "(52,)\n",
      "(52,)\n",
      "(52,)\n"
     ]
    },
    {
     "data": {
      "text/plain": [
       "array([ 0.66666667,  0.        ,  0.66666667,  1.        ,  0.33333333,\n",
       "        0.        ,  0.33333333,  0.66666667,  1.        ,  0.66666667,\n",
       "        1.        ,  0.66666667,  0.66666667,  0.66666667,  0.        ,\n",
       "        1.        ,  1.        ,  0.        ,  0.        ,  0.66666667,\n",
       "        1.        ,  1.        ,  0.66666667,  0.66666667,  0.33333333,\n",
       "        0.        ,  0.33333333,  0.33333333,  0.66666667,  0.66666667,\n",
       "        1.        ,  1.        ,  0.66666667,  0.33333333,  1.        ,\n",
       "        0.66666667,  1.        ,  1.        ,  0.        ,  0.66666667,\n",
       "        1.        ,  0.66666667,  1.        ,  0.66666667,  0.        ,\n",
       "        0.33333333,  0.66666667,  0.33333333,  0.66666667,  0.        ,\n",
       "        0.        ,  0.        ])"
      ]
     },
     "execution_count": 283,
     "metadata": {},
     "output_type": "execute_result"
    }
   ],
   "source": [
    "rf.predict(X_test)"
   ]
  },
  {
   "cell_type": "code",
   "execution_count": 249,
   "metadata": {
    "scrolled": true
   },
   "outputs": [
    {
     "data": {
      "text/plain": [
       "[{'feat': 10,\n",
       "  'left': {'feat': 51, 'left': 0.0, 'right': 1.0, 'val': 0.017600000000000001},\n",
       "  'right': {'feat': 35, 'left': 1.0, 'right': 0.0, 'val': 0.4577},\n",
       "  'val': 0.17419999999999999},\n",
       " {'feat': 46,\n",
       "  'left': {'feat': 52,\n",
       "   'left': 1.0,\n",
       "   'right': 0.0,\n",
       "   'val': 0.00050000000000000001},\n",
       "  'right': {'feat': 12, 'left': 0.0, 'right': 1.0, 'val': 0.2087},\n",
       "  'val': 0.0608},\n",
       " {'feat': 12,\n",
       "  'left': {'feat': 51,\n",
       "   'left': 0.0,\n",
       "   'right': 0.0,\n",
       "   'val': 0.0071999999999999998},\n",
       "  'right': {'feat': 8, 'left': 0.0, 'right': 1.0, 'val': 0.074999999999999997},\n",
       "  'val': 0.247}]"
      ]
     },
     "execution_count": 249,
     "metadata": {},
     "output_type": "execute_result"
    }
   ],
   "source": [
    "rf.trees"
   ]
  },
  {
   "cell_type": "code",
   "execution_count": 258,
   "metadata": {},
   "outputs": [
    {
     "data": {
      "text/plain": [
       "60"
      ]
     },
     "execution_count": 258,
     "metadata": {},
     "output_type": "execute_result"
    }
   ],
   "source": [
    "X_test.shape[1]"
   ]
  },
  {
   "cell_type": "code",
   "execution_count": 259,
   "metadata": {},
   "outputs": [
    {
     "data": {
      "text/plain": [
       "61"
      ]
     },
     "execution_count": 259,
     "metadata": {},
     "output_type": "execute_result"
    }
   ],
   "source": [
    "Xy.shape[1]"
   ]
  },
  {
   "cell_type": "code",
   "execution_count": 256,
   "metadata": {},
   "outputs": [
    {
     "data": {
      "text/plain": [
       "(208, 60)"
      ]
     },
     "execution_count": 256,
     "metadata": {},
     "output_type": "execute_result"
    }
   ],
   "source": [
    "X.shape"
   ]
  },
  {
   "cell_type": "markdown",
   "metadata": {},
   "source": [
    "### Create class.\n",
    "\n",
    "---\n",
    "\n",
    "__Tie__ - Added to modify behavior when there is a tie for majority class"
   ]
  },
  {
   "cell_type": "markdown",
   "metadata": {},
   "source": [
    "### Test.\n",
    "\n",
    "---"
   ]
  },
  {
   "cell_type": "code",
   "execution_count": 252,
   "metadata": {
    "collapsed": true
   },
   "outputs": [],
   "source": [
    "from sklearn.model_selection import train_test_split\n",
    "\n",
    "Xy = pd.read_csv('./sonar.all-data.csv',header=None)\n",
    "Xy[60] = Xy[60].map({'R':0,'M':1})\n",
    "X = np.array(Xy.iloc[:,:-1])\n",
    "y = np.array(Xy.iloc[:,-1])\n",
    "Xy = np.array(Xy)\n",
    "\n",
    "X_train, X_test, y_train, y_test = train_test_split(X, y, random_state=35)"
   ]
  },
  {
   "cell_type": "code",
   "execution_count": 321,
   "metadata": {
    "collapsed": true
   },
   "outputs": [],
   "source": [
    "dt = decision_tree(max_depth=3,min_num_split=30)\n",
    "dt.fit(X_train,y_train)\n",
    "dt_pred = dt.predict(X_test)"
   ]
  },
  {
   "cell_type": "code",
   "execution_count": 342,
   "metadata": {
    "collapsed": true
   },
   "outputs": [],
   "source": [
    "rf = random_forest(max_depth=2,num_trees=100,min_num_split=30)\n",
    "rf.fit(X_train,y_train)\n",
    "rf_pred = rf.predict(X_test)"
   ]
  },
  {
   "cell_type": "markdown",
   "metadata": {},
   "source": [
    "### Display tree.\n",
    "---"
   ]
  },
  {
   "cell_type": "code",
   "execution_count": 943,
   "metadata": {
    "scrolled": false
   },
   "outputs": [
    {
     "name": "stdout",
     "output_type": "stream",
     "text": [
      "[feat1 < 5.40]\n",
      "\t[feat2 < 2.70]\n",
      "\t\t[1.0]\n",
      "\t\t[0.0]\n",
      "\t[feat1 < 6.20]\n",
      "\t\t[1.0]\n",
      "\t\t[2.0]\n"
     ]
    }
   ],
   "source": [
    "dt.display_tree()"
   ]
  },
  {
   "cell_type": "markdown",
   "metadata": {},
   "source": [
    "### Compare performance\n",
    "\n",
    "---"
   ]
  },
  {
   "cell_type": "code",
   "execution_count": 285,
   "metadata": {
    "collapsed": true
   },
   "outputs": [],
   "source": [
    "from sklearn.tree import DecisionTreeClassifier\n",
    "from sklearn import tree"
   ]
  },
  {
   "cell_type": "code",
   "execution_count": 292,
   "metadata": {
    "collapsed": true
   },
   "outputs": [],
   "source": [
    "clf = DecisionTreeClassifier(max_depth=2,min_samples_split=30)\n",
    "clf.fit(X_train,y_train)\n",
    "sk_pred = clf.predict(X_test)"
   ]
  },
  {
   "cell_type": "markdown",
   "metadata": {},
   "source": [
    "### Sample points\n",
    "\n",
    "---"
   ]
  },
  {
   "cell_type": "code",
   "execution_count": 295,
   "metadata": {
    "collapsed": true
   },
   "outputs": [],
   "source": [
    "a = X_test[:3]"
   ]
  },
  {
   "cell_type": "code",
   "execution_count": 343,
   "metadata": {
    "scrolled": true
   },
   "outputs": [
    {
     "name": "stdout",
     "output_type": "stream",
     "text": [
      "sk_pred: [1 0 0]\n",
      "dt_pred: [ 1.  0.  0.]\n",
      "rf_pred: [ 1.  0.  1.]\n",
      "true: [0 0 0]\n"
     ]
    }
   ],
   "source": [
    "print('sk_pred: {}'.format(clf.predict(a)))\n",
    "print('dt_pred: {}'.format(dt.predict(a)))\n",
    "print('rf_pred: {}'.format(rf.predict(a)))\n",
    "print('true: {}'.format(y_test[:3]))"
   ]
  },
  {
   "cell_type": "markdown",
   "metadata": {},
   "source": [
    "### Accuracy differences\n",
    "\n",
    "---\n",
    "\n",
    "I'm unclear how sklearn differs. Will need to look deeper"
   ]
  },
  {
   "cell_type": "code",
   "execution_count": 344,
   "metadata": {
    "collapsed": true
   },
   "outputs": [],
   "source": [
    "def accuracy(pred,true):\n",
    "    correct = 0\n",
    "    pred_len = len(pred)\n",
    "    for i in range(pred_len):\n",
    "        if pred[i] == true[i]:\n",
    "            correct += 1\n",
    "    return correct/pred_len"
   ]
  },
  {
   "cell_type": "code",
   "execution_count": 345,
   "metadata": {},
   "outputs": [
    {
     "data": {
      "text/plain": [
       "0.6538461538461539"
      ]
     },
     "execution_count": 345,
     "metadata": {},
     "output_type": "execute_result"
    }
   ],
   "source": [
    "accuracy(dt_pred,y_test)"
   ]
  },
  {
   "cell_type": "code",
   "execution_count": 346,
   "metadata": {},
   "outputs": [
    {
     "data": {
      "text/plain": [
       "0.6538461538461539"
      ]
     },
     "execution_count": 346,
     "metadata": {},
     "output_type": "execute_result"
    }
   ],
   "source": [
    "accuracy(rf_pred,y_test)"
   ]
  },
  {
   "cell_type": "code",
   "execution_count": 347,
   "metadata": {},
   "outputs": [
    {
     "data": {
      "text/plain": [
       "0.6153846153846154"
      ]
     },
     "execution_count": 347,
     "metadata": {},
     "output_type": "execute_result"
    }
   ],
   "source": [
    "accuracy(sk_pred,y_test)"
   ]
  },
  {
   "cell_type": "code",
   "execution_count": 348,
   "metadata": {},
   "outputs": [
    {
     "data": {
      "text/plain": [
       "[(1.0, 1.0, 1, 0),\n",
       " (0.0, 0.0, 0, 0),\n",
       " (1.0, 0.0, 0, 0),\n",
       " (1.0, 1.0, 1, 1),\n",
       " (1.0, 1.0, 1, 1),\n",
       " (0.0, 0.0, 0, 0),\n",
       " (1.0, 1.0, 1, 0),\n",
       " (1.0, 0.0, 1, 0),\n",
       " (1.0, 1.0, 1, 0),\n",
       " (0.0, 0.0, 0, 0),\n",
       " (1.0, 0.0, 0, 1),\n",
       " (1.0, 1.0, 1, 0),\n",
       " (1.0, 1.0, 1, 1),\n",
       " (1.0, 1.0, 1, 1),\n",
       " (0.0, 0.0, 0, 0),\n",
       " (1.0, 1.0, 1, 1),\n",
       " (1.0, 1.0, 1, 1),\n",
       " (0.0, 0.0, 0, 0),\n",
       " (0.0, 0.0, 0, 1),\n",
       " (1.0, 1.0, 0, 1),\n",
       " (1.0, 1.0, 1, 1),\n",
       " (1.0, 1.0, 1, 1),\n",
       " (1.0, 1.0, 1, 0),\n",
       " (1.0, 1.0, 1, 1),\n",
       " (0.0, 0.0, 0, 0),\n",
       " (0.0, 0.0, 0, 0),\n",
       " (1.0, 0.0, 0, 0),\n",
       " (1.0, 0.0, 0, 1),\n",
       " (1.0, 0.0, 0, 1),\n",
       " (0.0, 0.0, 0, 1),\n",
       " (1.0, 0.0, 0, 0),\n",
       " (1.0, 1.0, 1, 1),\n",
       " (1.0, 1.0, 1, 1),\n",
       " (1.0, 1.0, 1, 0),\n",
       " (1.0, 1.0, 1, 0),\n",
       " (0.0, 0.0, 0, 0),\n",
       " (1.0, 0.0, 0, 1),\n",
       " (1.0, 1.0, 1, 1),\n",
       " (0.0, 0.0, 0, 0),\n",
       " (1.0, 1.0, 1, 0),\n",
       " (1.0, 1.0, 1, 0),\n",
       " (1.0, 1.0, 1, 0),\n",
       " (1.0, 1.0, 1, 1),\n",
       " (0.0, 1.0, 1, 1),\n",
       " (0.0, 0.0, 0, 0),\n",
       " (0.0, 0.0, 0, 0),\n",
       " (0.0, 1.0, 1, 0),\n",
       " (1.0, 1.0, 1, 0),\n",
       " (1.0, 1.0, 1, 1),\n",
       " (0.0, 0.0, 0, 0),\n",
       " (0.0, 0.0, 0, 0),\n",
       " (0.0, 0.0, 0, 0)]"
      ]
     },
     "execution_count": 348,
     "metadata": {},
     "output_type": "execute_result"
    }
   ],
   "source": [
    "list(zip(rf_pred,dt_pred,sk_pred,y_test))"
   ]
  },
  {
   "cell_type": "code",
   "execution_count": null,
   "metadata": {
    "collapsed": true
   },
   "outputs": [],
   "source": []
  },
  {
   "cell_type": "code",
   "execution_count": 333,
   "metadata": {
    "collapsed": true
   },
   "outputs": [],
   "source": [
    "class decision_tree(object):\n",
    "    def __init__(self, max_depth, min_num_split):\n",
    "        self.max_depth = max_depth\n",
    "        self.min_num_sample = min_num_split\n",
    "    \n",
    "    def gini(self, X):\n",
    "        if np.min(X) < 0:\n",
    "            X -= np.amin(X)\n",
    "        #X = X.flatten()\n",
    "        X += .00001\n",
    "        X = np.sort(X)\n",
    "        i = np.arange(1,X.shape[0]+1)\n",
    "        n = X.shape[0]\n",
    "        return ((np.sum((2 * i - n - 1) * X)) / (n * np.sum(X)))\n",
    "    \n",
    "    def gini_score(self, groups, classes):\n",
    "        n_samples = sum([len(group) for group in groups])\n",
    "        gini = 0\n",
    "        for group in groups:\n",
    "            size = float(len(group))\n",
    "            if size == 0:\n",
    "                continue\n",
    "            score = 0.0\n",
    "            #print(size)\n",
    "            for class_val in classes:\n",
    "                #print(group.shape)\n",
    "                p = (group[:,-1] == class_val).sum() / size\n",
    "                #print(p)\n",
    "                score += p * p\n",
    "            gini += (1.0 - score) * (size / n_samples)\n",
    "            #print(gini)\n",
    "        return gini\n",
    "    \n",
    "    def split(self, feat, val, Xy):\n",
    "#         Xi_left = np.array([]).reshape(0,3)\n",
    "#         Xi_right = np.array([]).reshape(0,3)\n",
    "        Xi_left = np.array([]).reshape(0,self.Xy.shape[1])\n",
    "        Xi_right = np.array([]).reshape(0,self.Xy.shape[1])\n",
    "        for i in Xy:\n",
    "            #print(i.shape)\n",
    "            if i[feat] <= val:\n",
    "                Xi_left = np.vstack((Xi_left,i))\n",
    "            if i[feat] > val:\n",
    "                Xi_right = np.vstack((Xi_right,i))\n",
    "        return Xi_left, Xi_right\n",
    "    \n",
    "    def best_split(self, Xy):\n",
    "        classes = np.unique(Xy[:,-1])\n",
    "        best_feat = 999\n",
    "        best_val = 999\n",
    "        best_score = 999\n",
    "        best_groups = None\n",
    "        for feat in range(Xy.shape[1]-1):\n",
    "            for i in Xy:\n",
    "                groups = self.split(feat, i[feat], Xy)\n",
    "                #print(groups)\n",
    "                gini = self.gini_score(groups, classes)\n",
    "                #print('feat {}, valued < {}, scored {}'.format(feat,i[feat], gini))\n",
    "                if gini < best_score:\n",
    "                    best_feat = feat\n",
    "                    best_val = i[feat]\n",
    "                    best_score = gini\n",
    "                    best_groups = groups\n",
    "        output = {}\n",
    "        output['feat'] = best_feat\n",
    "        output['val'] = best_val\n",
    "        output['groups'] = best_groups\n",
    "        return output\n",
    "    \n",
    "    def terminal_node(self, group):\n",
    "        # errored out: couldn't np.unique(nothing) or something - doesn't happen all the time\n",
    "        #print(group[:,-1])\n",
    "        classes, counts = np.unique(group[:,-1],return_counts=True)\n",
    "        return classes[np.argmax(counts)]\n",
    "            \n",
    "    def split_branch(self, node, depth):\n",
    "        left_node, right_node = node['groups']\n",
    "        del(node['groups'])\n",
    "        if not isinstance(left_node,np.ndarray) or not isinstance(right_node,np.ndarray):\n",
    "            node['left'] = node['right'] = self.terminal_node(left_node + right_node)\n",
    "            return\n",
    "        if depth >= self.max_depth:\n",
    "            node['left'] = self.terminal_node(left_node)\n",
    "            node['right'] = self.terminal_node(right_node)\n",
    "            return\n",
    "        if len(left_node) <= self.min_num_sample:\n",
    "            node['left'] = self.terminal_node(left_node)\n",
    "        else:\n",
    "            node['left'] = self.best_split(left_node)\n",
    "            self.split_branch(node['left'], depth+1)\n",
    "        if len(right_node) <= self.min_num_sample:\n",
    "            node['right'] = self.terminal_node(right_node)\n",
    "        else:\n",
    "            node['right'] = self.best_split(right_node)\n",
    "            self.split_branch(node['right'], depth+1)\n",
    "    \n",
    "    def build_tree(self):\n",
    "        '''Recursively build tree, unclear if this is the correct way\n",
    "        \n",
    "        '''\n",
    "        \n",
    "        self.root = self.best_split(self.Xy)\n",
    "        #print(self.root)\n",
    "        self.split_branch(self.root, 1) # i don't understand how this is working, pointed to node?\n",
    "        #print(self.root)\n",
    "        return self.root\n",
    "    \n",
    "    def fit(self,X,y):\n",
    "        '''Save training data.\n",
    "        \n",
    "        '''\n",
    "        self.X = X\n",
    "        self.y = y\n",
    "        self.Xy = np.column_stack((X, y))\n",
    "        self.build_tree()\n",
    "\n",
    "    def display_tree(self, depth=0):\n",
    "        if isinstance(self.root,dict):\n",
    "            print('{}[feat{} < {:.2f}]'.format(depth*'\\t',(self.root['feat']+1), self.root['val']))\n",
    "            display_tree(self.root['left'], depth+1)\n",
    "            display_tree(self.root['right'], depth+1)\n",
    "        else:\n",
    "            print('{}[{}]'.format(depth*'\\t', self.root))\n",
    "            \n",
    "    def predict_sample(self, node, sample):\n",
    "        #print(node)\n",
    "        if sample[node['feat']] < node['val']:\n",
    "            if isinstance(node['left'],dict):\n",
    "                return self.predict_sample(node['left'],sample)\n",
    "            else:\n",
    "                return node['left']\n",
    "        else:\n",
    "            if isinstance(node['right'],dict):\n",
    "                return self.predict_sample(node['right'],sample)\n",
    "            else:\n",
    "                return node['right']\n",
    "    \n",
    "    def predict(self, X_test):\n",
    "        self.y_pred = np.array([])\n",
    "        for i in X_test:\n",
    "            #print(i)\n",
    "            self.y_pred = np.append(self.y_pred,self.predict_sample(self.root,i))\n",
    "        return self.y_pred\n",
    "        "
   ]
  },
  {
   "cell_type": "code",
   "execution_count": null,
   "metadata": {
    "collapsed": true
   },
   "outputs": [],
   "source": []
  }
 ],
 "metadata": {
  "kernelspec": {
   "display_name": "Python 3",
   "language": "python",
   "name": "python3"
  },
  "language_info": {
   "codemirror_mode": {
    "name": "ipython",
    "version": 3
   },
   "file_extension": ".py",
   "mimetype": "text/x-python",
   "name": "python",
   "nbconvert_exporter": "python",
   "pygments_lexer": "ipython3",
   "version": "3.6.1"
  }
 },
 "nbformat": 4,
 "nbformat_minor": 2
}
