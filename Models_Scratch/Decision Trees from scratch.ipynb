{
 "cells": [
  {
   "cell_type": "markdown",
   "metadata": {},
   "source": [
    "\n",
    "# <div style=\"text-align: right\"> Decision Trees from scratch. </div>\n",
    "\n",
    "---\n",
    "\n",
    "<div style=\"text-align: right\"> Geoff Counihan - Oct 6, 2017 </div>"
   ]
  },
  {
   "cell_type": "markdown",
   "metadata": {},
   "source": [
    "### Notes\n",
    "\n",
    "---\n",
    "\n",
    "Unclear what the difference between sklearn's implementation and mine is, again. There must be some default arguments that are being set.\n",
    "    \n",
    "__Additions__: Entropy, Test cases, Random Forest"
   ]
  },
  {
   "cell_type": "code",
   "execution_count": 1,
   "metadata": {
    "collapsed": true
   },
   "outputs": [],
   "source": [
    "from sklearn.datasets import load_iris"
   ]
  },
  {
   "cell_type": "code",
   "execution_count": 4,
   "metadata": {
    "collapsed": true
   },
   "outputs": [],
   "source": [
    "import numpy as np\n",
    "import operator"
   ]
  },
  {
   "cell_type": "code",
   "execution_count": 5,
   "metadata": {
    "collapsed": true
   },
   "outputs": [],
   "source": [
    "iris = load_iris()\n",
    "X = iris.data[:,:2]\n",
    "y = iris.target"
   ]
  },
  {
   "cell_type": "code",
   "execution_count": 6,
   "metadata": {},
   "outputs": [
    {
     "name": "stdout",
     "output_type": "stream",
     "text": [
      "[[ 5.1  3.5  0. ]\n",
      " [ 4.9  3.   0. ]\n",
      " [ 4.7  3.2  0. ]]\n"
     ]
    }
   ],
   "source": [
    "Xy = np.column_stack((X,y))\n",
    "Xy_point = Xy[:3]\n",
    "print(Xy_point)"
   ]
  },
  {
   "cell_type": "markdown",
   "metadata": {},
   "source": [
    "### Similarity\n",
    "\n",
    "---\n",
    "\n",
    "__Numeric__ data needs a similarity metric like euclidean or manhattan. \n",
    "\n",
    "__Categorical__ data needs a similarity metric like gini or entropy"
   ]
  },
  {
   "cell_type": "markdown",
   "metadata": {},
   "source": [
    "__Gini__ - is a measure of purity of split. basically, it looks at the class composition in the resulting two groups and quantifies between 0 and .5 in a two class problem. lower is better."
   ]
  },
  {
   "cell_type": "code",
   "execution_count": 7,
   "metadata": {
    "collapsed": true
   },
   "outputs": [],
   "source": [
    "def gini_score(groups,classes):\n",
    "    n_samples = sum([len(group) for group in groups])\n",
    "    gini = 0\n",
    "    for group in groups:\n",
    "        size = float(len(group))\n",
    "        if size == 0:\n",
    "            continue\n",
    "        score = 0.0\n",
    "        #print(size)\n",
    "        for class_val in classes:\n",
    "            #print(group.shape)\n",
    "            p = (group[:,-1] == class_val).sum() / size\n",
    "            score += p * p\n",
    "        gini += (1.0 - score) * (size / n_samples)\n",
    "        #print(gini)\n",
    "    return gini"
   ]
  },
  {
   "cell_type": "code",
   "execution_count": 8,
   "metadata": {
    "collapsed": true
   },
   "outputs": [],
   "source": [
    "# test cases\n",
    "z = 40\n",
    "groups = [Xy[:z,:],Xy[z:,:]]\n",
    "#groups = [Xy[np.where(Xy[:,-1] == i)[0]] for i in classes]\n",
    "\n",
    "classes = np.unique(Xy[:,-1])"
   ]
  },
  {
   "cell_type": "code",
   "execution_count": 9,
   "metadata": {},
   "outputs": [
    {
     "data": {
      "text/plain": [
       "0.42424242424242425"
      ]
     },
     "execution_count": 9,
     "metadata": {},
     "output_type": "execute_result"
    }
   ],
   "source": [
    "gini_score(groups,classes)"
   ]
  },
  {
   "cell_type": "markdown",
   "metadata": {},
   "source": [
    "__Split feature__ - splits a feature into two groups based on value"
   ]
  },
  {
   "cell_type": "code",
   "execution_count": 10,
   "metadata": {
    "collapsed": true
   },
   "outputs": [],
   "source": [
    "def split(feat, val, Xy):\n",
    "    Xi_left = np.array([]).reshape(0,3)\n",
    "    Xi_right = np.array([]).reshape(0,3)\n",
    "    for i in Xy:\n",
    "        #print(i.shape)\n",
    "        if i[feat] <= val:\n",
    "            Xi_left = np.vstack((Xi_left,i))\n",
    "        if i[feat] > val:\n",
    "            Xi_right = np.vstack((Xi_right,i))\n",
    "    return Xi_left, Xi_right"
   ]
  },
  {
   "cell_type": "code",
   "execution_count": 11,
   "metadata": {
    "collapsed": true
   },
   "outputs": [],
   "source": [
    "a, b = split(0, 6.3, Xy)"
   ]
  },
  {
   "cell_type": "markdown",
   "metadata": {},
   "source": [
    "__Best split__ - produces a split feature based on the best information gain"
   ]
  },
  {
   "cell_type": "code",
   "execution_count": 12,
   "metadata": {
    "collapsed": true
   },
   "outputs": [],
   "source": [
    "def best_split(Xy):\n",
    "    classes = np.unique(Xy[:,-1])\n",
    "    best_feat = 999\n",
    "    best_val = 999\n",
    "    best_score = 999\n",
    "    best_groups = None\n",
    "    for feat in range(Xy.shape[1]-1):\n",
    "        for i in Xy:\n",
    "            groups = split(feat, i[feat], Xy)\n",
    "            #print(groups)\n",
    "            gini = gini_score(groups, classes)\n",
    "            #print('feat {}, valued < {}, scored {}'.format(feat,i[feat], gini))\n",
    "            if gini < best_score:\n",
    "                best_feat = feat\n",
    "                best_val = i[feat]\n",
    "                best_score = gini\n",
    "                best_groups = groups\n",
    "    output = {}\n",
    "    output['feat'] = best_feat\n",
    "    output['val'] = best_val\n",
    "    output['groups'] = best_groups\n",
    "    return output"
   ]
  },
  {
   "cell_type": "code",
   "execution_count": 13,
   "metadata": {
    "collapsed": true,
    "scrolled": true
   },
   "outputs": [],
   "source": [
    "split_dict = best_split(Xy)"
   ]
  },
  {
   "cell_type": "markdown",
   "metadata": {},
   "source": [
    "__Terminal nodes__ - we need to make a decision when to stop building a tree. This usually means taking arguments __max tree depth__ and __min num in node__"
   ]
  },
  {
   "cell_type": "code",
   "execution_count": 14,
   "metadata": {
    "collapsed": true
   },
   "outputs": [],
   "source": [
    "def terminal_node(group):\n",
    "    classes, counts = np.unique(group[:,-1],return_counts=True)\n",
    "    return classes[np.argmax(counts)]"
   ]
  },
  {
   "cell_type": "code",
   "execution_count": 15,
   "metadata": {},
   "outputs": [
    {
     "data": {
      "text/plain": [
       "0.0"
      ]
     },
     "execution_count": 15,
     "metadata": {},
     "output_type": "execute_result"
    }
   ],
   "source": [
    "z = 40\n",
    "groups = [Xy[:z,:],Xy[z:,:]]\n",
    "group = groups[0]\n",
    "terminal_node(group)"
   ]
  },
  {
   "cell_type": "markdown",
   "metadata": {},
   "source": [
    "__Split branch__ - recursively split data again and again with arguments for early stops"
   ]
  },
  {
   "cell_type": "code",
   "execution_count": 16,
   "metadata": {
    "collapsed": true
   },
   "outputs": [],
   "source": [
    "def split_branch(node, max_depth, min_num_sample, depth):\n",
    "    left_node, right_node = node['groups']\n",
    "    del(node['groups'])\n",
    "    if not isinstance(left_node,np.ndarray) or not isinstance(right_node,np.ndarray):\n",
    "        node['left'] = node['right'] = terminal_node(left_node + right_node)\n",
    "        return\n",
    "    if depth >= max_depth:\n",
    "        node['left'] = terminal_node(left_node)\n",
    "        node['right'] = terminal_node(right_node)\n",
    "        return\n",
    "    if len(left_node) <= min_num_sample:\n",
    "        node['left'] = terminal_node(left_node)\n",
    "    else:\n",
    "        node['left'] = best_split(left_node)\n",
    "        split_branch(node['left'], max_depth, min_num_sample, depth+1)\n",
    "    if len(right_node) <= min_num_sample:\n",
    "        node['right'] = terminal_node(right_node)\n",
    "    else:\n",
    "        node['right'] = best_split(right_node)\n",
    "        split_branch(node['right'], max_depth, min_num_sample, depth+1)"
   ]
  },
  {
   "cell_type": "code",
   "execution_count": 17,
   "metadata": {
    "collapsed": true
   },
   "outputs": [],
   "source": [
    "split_dict = best_split(Xy)\n",
    "left, right = split_dict['groups']"
   ]
  },
  {
   "cell_type": "markdown",
   "metadata": {},
   "source": [
    "__Build tree__ - the simple function to take inputs and then build the tree"
   ]
  },
  {
   "cell_type": "code",
   "execution_count": 18,
   "metadata": {
    "collapsed": true
   },
   "outputs": [],
   "source": [
    "def build_tree(Xy, max_depth, min_num_sample):\n",
    "    root = best_split(Xy)\n",
    "    split_branch(root, max_depth, min_num_sample, 1)\n",
    "    return root"
   ]
  },
  {
   "cell_type": "code",
   "execution_count": 19,
   "metadata": {
    "collapsed": true
   },
   "outputs": [],
   "source": [
    "Xy = np.column_stack((X,y))\n",
    "tree = build_tree(Xy, 2, 30)"
   ]
  },
  {
   "cell_type": "markdown",
   "metadata": {},
   "source": [
    "__Display tree__ - primative way of displaying the splits the tree makes"
   ]
  },
  {
   "cell_type": "code",
   "execution_count": 20,
   "metadata": {
    "collapsed": true
   },
   "outputs": [],
   "source": [
    "def display_tree(node, depth=0):\n",
    "    if isinstance(node,dict):\n",
    "        print('{}[feat{} < {:.2f}]'.format(depth*'\\t',(node['feat']+1), node['val']))\n",
    "        display_tree(node['left'], depth+1)\n",
    "        display_tree(node['right'], depth+1)\n",
    "    else:\n",
    "        print('{}[{}]'.format(depth*'\\t', node))\n",
    "        "
   ]
  },
  {
   "cell_type": "code",
   "execution_count": 21,
   "metadata": {},
   "outputs": [
    {
     "name": "stdout",
     "output_type": "stream",
     "text": [
      "[feat1 < 5.40]\n",
      "\t[feat2 < 2.70]\n",
      "\t\t[1.0]\n",
      "\t\t[0.0]\n",
      "\t[feat1 < 6.10]\n",
      "\t\t[1.0]\n",
      "\t\t[2.0]\n"
     ]
    }
   ],
   "source": [
    "display_tree(tree)"
   ]
  },
  {
   "cell_type": "markdown",
   "metadata": {},
   "source": [
    "__Predict sample__ - make a recursive function to travel down the tree structure to determine class of new sample"
   ]
  },
  {
   "cell_type": "code",
   "execution_count": 22,
   "metadata": {
    "collapsed": true
   },
   "outputs": [],
   "source": [
    "def predict_sample(node,sample):\n",
    "    print(node)\n",
    "    if sample[node['feat']] < node['val']:\n",
    "        if isinstance(node['left'],dict):\n",
    "            return predict_sample(node['left'],sample)\n",
    "        else:\n",
    "            return node['left']\n",
    "    else:\n",
    "        if isinstance(node['right'],dict):\n",
    "            return predict_sample(node['right'],sample)\n",
    "        else:\n",
    "            return node['right']"
   ]
  },
  {
   "cell_type": "code",
   "execution_count": 23,
   "metadata": {},
   "outputs": [
    {
     "data": {
      "text/plain": [
       "array([ 5.1,  3.5,  0. ])"
      ]
     },
     "execution_count": 23,
     "metadata": {},
     "output_type": "execute_result"
    }
   ],
   "source": [
    "sample = Xy[0]\n",
    "sample"
   ]
  },
  {
   "cell_type": "code",
   "execution_count": 24,
   "metadata": {},
   "outputs": [
    {
     "name": "stdout",
     "output_type": "stream",
     "text": [
      "{'feat': 0, 'val': 5.4000000000000004, 'left': {'feat': 1, 'val': 2.7000000000000002, 'left': 1.0, 'right': 0.0}, 'right': {'feat': 0, 'val': 6.0999999999999996, 'left': 1.0, 'right': 2.0}}\n",
      "{'feat': 1, 'val': 2.7000000000000002, 'left': 1.0, 'right': 0.0}\n"
     ]
    },
    {
     "data": {
      "text/plain": [
       "0.0"
      ]
     },
     "execution_count": 24,
     "metadata": {},
     "output_type": "execute_result"
    }
   ],
   "source": [
    "predict_sample(tree,sample)"
   ]
  },
  {
   "cell_type": "markdown",
   "metadata": {},
   "source": [
    "__Predict__ - predict a set of samples"
   ]
  },
  {
   "cell_type": "code",
   "execution_count": 25,
   "metadata": {
    "collapsed": true
   },
   "outputs": [],
   "source": [
    "def predict(X):\n",
    "    y_pred = np.array([])\n",
    "    for i in X:\n",
    "        y_pred = np.append(y_pred,predict_sample(tree,i))\n",
    "    return y_pred"
   ]
  },
  {
   "cell_type": "code",
   "execution_count": 26,
   "metadata": {},
   "outputs": [
    {
     "name": "stdout",
     "output_type": "stream",
     "text": [
      "{'feat': 0, 'val': 5.4000000000000004, 'left': {'feat': 1, 'val': 2.7000000000000002, 'left': 1.0, 'right': 0.0}, 'right': {'feat': 0, 'val': 6.0999999999999996, 'left': 1.0, 'right': 2.0}}\n",
      "{'feat': 1, 'val': 2.7000000000000002, 'left': 1.0, 'right': 0.0}\n",
      "{'feat': 0, 'val': 5.4000000000000004, 'left': {'feat': 1, 'val': 2.7000000000000002, 'left': 1.0, 'right': 0.0}, 'right': {'feat': 0, 'val': 6.0999999999999996, 'left': 1.0, 'right': 2.0}}\n",
      "{'feat': 1, 'val': 2.7000000000000002, 'left': 1.0, 'right': 0.0}\n",
      "{'feat': 0, 'val': 5.4000000000000004, 'left': {'feat': 1, 'val': 2.7000000000000002, 'left': 1.0, 'right': 0.0}, 'right': {'feat': 0, 'val': 6.0999999999999996, 'left': 1.0, 'right': 2.0}}\n",
      "{'feat': 1, 'val': 2.7000000000000002, 'left': 1.0, 'right': 0.0}\n",
      "{'feat': 0, 'val': 5.4000000000000004, 'left': {'feat': 1, 'val': 2.7000000000000002, 'left': 1.0, 'right': 0.0}, 'right': {'feat': 0, 'val': 6.0999999999999996, 'left': 1.0, 'right': 2.0}}\n",
      "{'feat': 1, 'val': 2.7000000000000002, 'left': 1.0, 'right': 0.0}\n",
      "{'feat': 0, 'val': 5.4000000000000004, 'left': {'feat': 1, 'val': 2.7000000000000002, 'left': 1.0, 'right': 0.0}, 'right': {'feat': 0, 'val': 6.0999999999999996, 'left': 1.0, 'right': 2.0}}\n",
      "{'feat': 1, 'val': 2.7000000000000002, 'left': 1.0, 'right': 0.0}\n",
      "{'feat': 0, 'val': 5.4000000000000004, 'left': {'feat': 1, 'val': 2.7000000000000002, 'left': 1.0, 'right': 0.0}, 'right': {'feat': 0, 'val': 6.0999999999999996, 'left': 1.0, 'right': 2.0}}\n",
      "{'feat': 0, 'val': 6.0999999999999996, 'left': 1.0, 'right': 2.0}\n",
      "{'feat': 0, 'val': 5.4000000000000004, 'left': {'feat': 1, 'val': 2.7000000000000002, 'left': 1.0, 'right': 0.0}, 'right': {'feat': 0, 'val': 6.0999999999999996, 'left': 1.0, 'right': 2.0}}\n",
      "{'feat': 1, 'val': 2.7000000000000002, 'left': 1.0, 'right': 0.0}\n",
      "{'feat': 0, 'val': 5.4000000000000004, 'left': {'feat': 1, 'val': 2.7000000000000002, 'left': 1.0, 'right': 0.0}, 'right': {'feat': 0, 'val': 6.0999999999999996, 'left': 1.0, 'right': 2.0}}\n",
      "{'feat': 1, 'val': 2.7000000000000002, 'left': 1.0, 'right': 0.0}\n",
      "{'feat': 0, 'val': 5.4000000000000004, 'left': {'feat': 1, 'val': 2.7000000000000002, 'left': 1.0, 'right': 0.0}, 'right': {'feat': 0, 'val': 6.0999999999999996, 'left': 1.0, 'right': 2.0}}\n",
      "{'feat': 1, 'val': 2.7000000000000002, 'left': 1.0, 'right': 0.0}\n",
      "{'feat': 0, 'val': 5.4000000000000004, 'left': {'feat': 1, 'val': 2.7000000000000002, 'left': 1.0, 'right': 0.0}, 'right': {'feat': 0, 'val': 6.0999999999999996, 'left': 1.0, 'right': 2.0}}\n",
      "{'feat': 1, 'val': 2.7000000000000002, 'left': 1.0, 'right': 0.0}\n",
      "{'feat': 0, 'val': 5.4000000000000004, 'left': {'feat': 1, 'val': 2.7000000000000002, 'left': 1.0, 'right': 0.0}, 'right': {'feat': 0, 'val': 6.0999999999999996, 'left': 1.0, 'right': 2.0}}\n",
      "{'feat': 0, 'val': 6.0999999999999996, 'left': 1.0, 'right': 2.0}\n",
      "{'feat': 0, 'val': 5.4000000000000004, 'left': {'feat': 1, 'val': 2.7000000000000002, 'left': 1.0, 'right': 0.0}, 'right': {'feat': 0, 'val': 6.0999999999999996, 'left': 1.0, 'right': 2.0}}\n",
      "{'feat': 1, 'val': 2.7000000000000002, 'left': 1.0, 'right': 0.0}\n",
      "{'feat': 0, 'val': 5.4000000000000004, 'left': {'feat': 1, 'val': 2.7000000000000002, 'left': 1.0, 'right': 0.0}, 'right': {'feat': 0, 'val': 6.0999999999999996, 'left': 1.0, 'right': 2.0}}\n",
      "{'feat': 1, 'val': 2.7000000000000002, 'left': 1.0, 'right': 0.0}\n",
      "{'feat': 0, 'val': 5.4000000000000004, 'left': {'feat': 1, 'val': 2.7000000000000002, 'left': 1.0, 'right': 0.0}, 'right': {'feat': 0, 'val': 6.0999999999999996, 'left': 1.0, 'right': 2.0}}\n",
      "{'feat': 1, 'val': 2.7000000000000002, 'left': 1.0, 'right': 0.0}\n",
      "{'feat': 0, 'val': 5.4000000000000004, 'left': {'feat': 1, 'val': 2.7000000000000002, 'left': 1.0, 'right': 0.0}, 'right': {'feat': 0, 'val': 6.0999999999999996, 'left': 1.0, 'right': 2.0}}\n",
      "{'feat': 0, 'val': 6.0999999999999996, 'left': 1.0, 'right': 2.0}\n",
      "{'feat': 0, 'val': 5.4000000000000004, 'left': {'feat': 1, 'val': 2.7000000000000002, 'left': 1.0, 'right': 0.0}, 'right': {'feat': 0, 'val': 6.0999999999999996, 'left': 1.0, 'right': 2.0}}\n",
      "{'feat': 0, 'val': 6.0999999999999996, 'left': 1.0, 'right': 2.0}\n",
      "{'feat': 0, 'val': 5.4000000000000004, 'left': {'feat': 1, 'val': 2.7000000000000002, 'left': 1.0, 'right': 0.0}, 'right': {'feat': 0, 'val': 6.0999999999999996, 'left': 1.0, 'right': 2.0}}\n",
      "{'feat': 0, 'val': 6.0999999999999996, 'left': 1.0, 'right': 2.0}\n",
      "{'feat': 0, 'val': 5.4000000000000004, 'left': {'feat': 1, 'val': 2.7000000000000002, 'left': 1.0, 'right': 0.0}, 'right': {'feat': 0, 'val': 6.0999999999999996, 'left': 1.0, 'right': 2.0}}\n",
      "{'feat': 1, 'val': 2.7000000000000002, 'left': 1.0, 'right': 0.0}\n",
      "{'feat': 0, 'val': 5.4000000000000004, 'left': {'feat': 1, 'val': 2.7000000000000002, 'left': 1.0, 'right': 0.0}, 'right': {'feat': 0, 'val': 6.0999999999999996, 'left': 1.0, 'right': 2.0}}\n",
      "{'feat': 0, 'val': 6.0999999999999996, 'left': 1.0, 'right': 2.0}\n",
      "{'feat': 0, 'val': 5.4000000000000004, 'left': {'feat': 1, 'val': 2.7000000000000002, 'left': 1.0, 'right': 0.0}, 'right': {'feat': 0, 'val': 6.0999999999999996, 'left': 1.0, 'right': 2.0}}\n",
      "{'feat': 1, 'val': 2.7000000000000002, 'left': 1.0, 'right': 0.0}\n",
      "{'feat': 0, 'val': 5.4000000000000004, 'left': {'feat': 1, 'val': 2.7000000000000002, 'left': 1.0, 'right': 0.0}, 'right': {'feat': 0, 'val': 6.0999999999999996, 'left': 1.0, 'right': 2.0}}\n",
      "{'feat': 0, 'val': 6.0999999999999996, 'left': 1.0, 'right': 2.0}\n",
      "{'feat': 0, 'val': 5.4000000000000004, 'left': {'feat': 1, 'val': 2.7000000000000002, 'left': 1.0, 'right': 0.0}, 'right': {'feat': 0, 'val': 6.0999999999999996, 'left': 1.0, 'right': 2.0}}\n",
      "{'feat': 1, 'val': 2.7000000000000002, 'left': 1.0, 'right': 0.0}\n",
      "{'feat': 0, 'val': 5.4000000000000004, 'left': {'feat': 1, 'val': 2.7000000000000002, 'left': 1.0, 'right': 0.0}, 'right': {'feat': 0, 'val': 6.0999999999999996, 'left': 1.0, 'right': 2.0}}\n",
      "{'feat': 1, 'val': 2.7000000000000002, 'left': 1.0, 'right': 0.0}\n",
      "{'feat': 0, 'val': 5.4000000000000004, 'left': {'feat': 1, 'val': 2.7000000000000002, 'left': 1.0, 'right': 0.0}, 'right': {'feat': 0, 'val': 6.0999999999999996, 'left': 1.0, 'right': 2.0}}\n",
      "{'feat': 1, 'val': 2.7000000000000002, 'left': 1.0, 'right': 0.0}\n",
      "{'feat': 0, 'val': 5.4000000000000004, 'left': {'feat': 1, 'val': 2.7000000000000002, 'left': 1.0, 'right': 0.0}, 'right': {'feat': 0, 'val': 6.0999999999999996, 'left': 1.0, 'right': 2.0}}\n",
      "{'feat': 1, 'val': 2.7000000000000002, 'left': 1.0, 'right': 0.0}\n",
      "{'feat': 0, 'val': 5.4000000000000004, 'left': {'feat': 1, 'val': 2.7000000000000002, 'left': 1.0, 'right': 0.0}, 'right': {'feat': 0, 'val': 6.0999999999999996, 'left': 1.0, 'right': 2.0}}\n",
      "{'feat': 1, 'val': 2.7000000000000002, 'left': 1.0, 'right': 0.0}\n",
      "{'feat': 0, 'val': 5.4000000000000004, 'left': {'feat': 1, 'val': 2.7000000000000002, 'left': 1.0, 'right': 0.0}, 'right': {'feat': 0, 'val': 6.0999999999999996, 'left': 1.0, 'right': 2.0}}\n",
      "{'feat': 1, 'val': 2.7000000000000002, 'left': 1.0, 'right': 0.0}\n",
      "{'feat': 0, 'val': 5.4000000000000004, 'left': {'feat': 1, 'val': 2.7000000000000002, 'left': 1.0, 'right': 0.0}, 'right': {'feat': 0, 'val': 6.0999999999999996, 'left': 1.0, 'right': 2.0}}\n",
      "{'feat': 1, 'val': 2.7000000000000002, 'left': 1.0, 'right': 0.0}\n",
      "{'feat': 0, 'val': 5.4000000000000004, 'left': {'feat': 1, 'val': 2.7000000000000002, 'left': 1.0, 'right': 0.0}, 'right': {'feat': 0, 'val': 6.0999999999999996, 'left': 1.0, 'right': 2.0}}\n",
      "{'feat': 1, 'val': 2.7000000000000002, 'left': 1.0, 'right': 0.0}\n",
      "{'feat': 0, 'val': 5.4000000000000004, 'left': {'feat': 1, 'val': 2.7000000000000002, 'left': 1.0, 'right': 0.0}, 'right': {'feat': 0, 'val': 6.0999999999999996, 'left': 1.0, 'right': 2.0}}\n",
      "{'feat': 1, 'val': 2.7000000000000002, 'left': 1.0, 'right': 0.0}\n",
      "{'feat': 0, 'val': 5.4000000000000004, 'left': {'feat': 1, 'val': 2.7000000000000002, 'left': 1.0, 'right': 0.0}, 'right': {'feat': 0, 'val': 6.0999999999999996, 'left': 1.0, 'right': 2.0}}\n",
      "{'feat': 1, 'val': 2.7000000000000002, 'left': 1.0, 'right': 0.0}\n",
      "{'feat': 0, 'val': 5.4000000000000004, 'left': {'feat': 1, 'val': 2.7000000000000002, 'left': 1.0, 'right': 0.0}, 'right': {'feat': 0, 'val': 6.0999999999999996, 'left': 1.0, 'right': 2.0}}\n",
      "{'feat': 0, 'val': 6.0999999999999996, 'left': 1.0, 'right': 2.0}\n",
      "{'feat': 0, 'val': 5.4000000000000004, 'left': {'feat': 1, 'val': 2.7000000000000002, 'left': 1.0, 'right': 0.0}, 'right': {'feat': 0, 'val': 6.0999999999999996, 'left': 1.0, 'right': 2.0}}\n",
      "{'feat': 1, 'val': 2.7000000000000002, 'left': 1.0, 'right': 0.0}\n",
      "{'feat': 0, 'val': 5.4000000000000004, 'left': {'feat': 1, 'val': 2.7000000000000002, 'left': 1.0, 'right': 0.0}, 'right': {'feat': 0, 'val': 6.0999999999999996, 'left': 1.0, 'right': 2.0}}\n",
      "{'feat': 0, 'val': 6.0999999999999996, 'left': 1.0, 'right': 2.0}\n",
      "{'feat': 0, 'val': 5.4000000000000004, 'left': {'feat': 1, 'val': 2.7000000000000002, 'left': 1.0, 'right': 0.0}, 'right': {'feat': 0, 'val': 6.0999999999999996, 'left': 1.0, 'right': 2.0}}\n",
      "{'feat': 1, 'val': 2.7000000000000002, 'left': 1.0, 'right': 0.0}\n",
      "{'feat': 0, 'val': 5.4000000000000004, 'left': {'feat': 1, 'val': 2.7000000000000002, 'left': 1.0, 'right': 0.0}, 'right': {'feat': 0, 'val': 6.0999999999999996, 'left': 1.0, 'right': 2.0}}\n",
      "{'feat': 1, 'val': 2.7000000000000002, 'left': 1.0, 'right': 0.0}\n",
      "{'feat': 0, 'val': 5.4000000000000004, 'left': {'feat': 1, 'val': 2.7000000000000002, 'left': 1.0, 'right': 0.0}, 'right': {'feat': 0, 'val': 6.0999999999999996, 'left': 1.0, 'right': 2.0}}\n",
      "{'feat': 0, 'val': 6.0999999999999996, 'left': 1.0, 'right': 2.0}\n",
      "{'feat': 0, 'val': 5.4000000000000004, 'left': {'feat': 1, 'val': 2.7000000000000002, 'left': 1.0, 'right': 0.0}, 'right': {'feat': 0, 'val': 6.0999999999999996, 'left': 1.0, 'right': 2.0}}\n",
      "{'feat': 1, 'val': 2.7000000000000002, 'left': 1.0, 'right': 0.0}\n",
      "{'feat': 0, 'val': 5.4000000000000004, 'left': {'feat': 1, 'val': 2.7000000000000002, 'left': 1.0, 'right': 0.0}, 'right': {'feat': 0, 'val': 6.0999999999999996, 'left': 1.0, 'right': 2.0}}\n",
      "{'feat': 1, 'val': 2.7000000000000002, 'left': 1.0, 'right': 0.0}\n",
      "{'feat': 0, 'val': 5.4000000000000004, 'left': {'feat': 1, 'val': 2.7000000000000002, 'left': 1.0, 'right': 0.0}, 'right': {'feat': 0, 'val': 6.0999999999999996, 'left': 1.0, 'right': 2.0}}\n",
      "{'feat': 1, 'val': 2.7000000000000002, 'left': 1.0, 'right': 0.0}\n",
      "{'feat': 0, 'val': 5.4000000000000004, 'left': {'feat': 1, 'val': 2.7000000000000002, 'left': 1.0, 'right': 0.0}, 'right': {'feat': 0, 'val': 6.0999999999999996, 'left': 1.0, 'right': 2.0}}\n",
      "{'feat': 1, 'val': 2.7000000000000002, 'left': 1.0, 'right': 0.0}\n",
      "{'feat': 0, 'val': 5.4000000000000004, 'left': {'feat': 1, 'val': 2.7000000000000002, 'left': 1.0, 'right': 0.0}, 'right': {'feat': 0, 'val': 6.0999999999999996, 'left': 1.0, 'right': 2.0}}\n",
      "{'feat': 1, 'val': 2.7000000000000002, 'left': 1.0, 'right': 0.0}\n",
      "{'feat': 0, 'val': 5.4000000000000004, 'left': {'feat': 1, 'val': 2.7000000000000002, 'left': 1.0, 'right': 0.0}, 'right': {'feat': 0, 'val': 6.0999999999999996, 'left': 1.0, 'right': 2.0}}\n",
      "{'feat': 1, 'val': 2.7000000000000002, 'left': 1.0, 'right': 0.0}\n",
      "{'feat': 0, 'val': 5.4000000000000004, 'left': {'feat': 1, 'val': 2.7000000000000002, 'left': 1.0, 'right': 0.0}, 'right': {'feat': 0, 'val': 6.0999999999999996, 'left': 1.0, 'right': 2.0}}\n",
      "{'feat': 1, 'val': 2.7000000000000002, 'left': 1.0, 'right': 0.0}\n",
      "{'feat': 0, 'val': 5.4000000000000004, 'left': {'feat': 1, 'val': 2.7000000000000002, 'left': 1.0, 'right': 0.0}, 'right': {'feat': 0, 'val': 6.0999999999999996, 'left': 1.0, 'right': 2.0}}\n",
      "{'feat': 1, 'val': 2.7000000000000002, 'left': 1.0, 'right': 0.0}\n",
      "{'feat': 0, 'val': 5.4000000000000004, 'left': {'feat': 1, 'val': 2.7000000000000002, 'left': 1.0, 'right': 0.0}, 'right': {'feat': 0, 'val': 6.0999999999999996, 'left': 1.0, 'right': 2.0}}\n",
      "{'feat': 1, 'val': 2.7000000000000002, 'left': 1.0, 'right': 0.0}\n",
      "{'feat': 0, 'val': 5.4000000000000004, 'left': {'feat': 1, 'val': 2.7000000000000002, 'left': 1.0, 'right': 0.0}, 'right': {'feat': 0, 'val': 6.0999999999999996, 'left': 1.0, 'right': 2.0}}\n",
      "{'feat': 1, 'val': 2.7000000000000002, 'left': 1.0, 'right': 0.0}\n",
      "{'feat': 0, 'val': 5.4000000000000004, 'left': {'feat': 1, 'val': 2.7000000000000002, 'left': 1.0, 'right': 0.0}, 'right': {'feat': 0, 'val': 6.0999999999999996, 'left': 1.0, 'right': 2.0}}\n",
      "{'feat': 1, 'val': 2.7000000000000002, 'left': 1.0, 'right': 0.0}\n",
      "{'feat': 0, 'val': 5.4000000000000004, 'left': {'feat': 1, 'val': 2.7000000000000002, 'left': 1.0, 'right': 0.0}, 'right': {'feat': 0, 'val': 6.0999999999999996, 'left': 1.0, 'right': 2.0}}\n",
      "{'feat': 1, 'val': 2.7000000000000002, 'left': 1.0, 'right': 0.0}\n",
      "{'feat': 0, 'val': 5.4000000000000004, 'left': {'feat': 1, 'val': 2.7000000000000002, 'left': 1.0, 'right': 0.0}, 'right': {'feat': 0, 'val': 6.0999999999999996, 'left': 1.0, 'right': 2.0}}\n",
      "{'feat': 1, 'val': 2.7000000000000002, 'left': 1.0, 'right': 0.0}\n",
      "{'feat': 0, 'val': 5.4000000000000004, 'left': {'feat': 1, 'val': 2.7000000000000002, 'left': 1.0, 'right': 0.0}, 'right': {'feat': 0, 'val': 6.0999999999999996, 'left': 1.0, 'right': 2.0}}\n",
      "{'feat': 0, 'val': 6.0999999999999996, 'left': 1.0, 'right': 2.0}\n",
      "{'feat': 0, 'val': 5.4000000000000004, 'left': {'feat': 1, 'val': 2.7000000000000002, 'left': 1.0, 'right': 0.0}, 'right': {'feat': 0, 'val': 6.0999999999999996, 'left': 1.0, 'right': 2.0}}\n",
      "{'feat': 0, 'val': 6.0999999999999996, 'left': 1.0, 'right': 2.0}\n",
      "{'feat': 0, 'val': 5.4000000000000004, 'left': {'feat': 1, 'val': 2.7000000000000002, 'left': 1.0, 'right': 0.0}, 'right': {'feat': 0, 'val': 6.0999999999999996, 'left': 1.0, 'right': 2.0}}\n",
      "{'feat': 0, 'val': 6.0999999999999996, 'left': 1.0, 'right': 2.0}\n",
      "{'feat': 0, 'val': 5.4000000000000004, 'left': {'feat': 1, 'val': 2.7000000000000002, 'left': 1.0, 'right': 0.0}, 'right': {'feat': 0, 'val': 6.0999999999999996, 'left': 1.0, 'right': 2.0}}\n",
      "{'feat': 0, 'val': 6.0999999999999996, 'left': 1.0, 'right': 2.0}\n",
      "{'feat': 0, 'val': 5.4000000000000004, 'left': {'feat': 1, 'val': 2.7000000000000002, 'left': 1.0, 'right': 0.0}, 'right': {'feat': 0, 'val': 6.0999999999999996, 'left': 1.0, 'right': 2.0}}\n",
      "{'feat': 0, 'val': 6.0999999999999996, 'left': 1.0, 'right': 2.0}\n",
      "{'feat': 0, 'val': 5.4000000000000004, 'left': {'feat': 1, 'val': 2.7000000000000002, 'left': 1.0, 'right': 0.0}, 'right': {'feat': 0, 'val': 6.0999999999999996, 'left': 1.0, 'right': 2.0}}\n",
      "{'feat': 0, 'val': 6.0999999999999996, 'left': 1.0, 'right': 2.0}\n",
      "{'feat': 0, 'val': 5.4000000000000004, 'left': {'feat': 1, 'val': 2.7000000000000002, 'left': 1.0, 'right': 0.0}, 'right': {'feat': 0, 'val': 6.0999999999999996, 'left': 1.0, 'right': 2.0}}\n",
      "{'feat': 0, 'val': 6.0999999999999996, 'left': 1.0, 'right': 2.0}\n",
      "{'feat': 0, 'val': 5.4000000000000004, 'left': {'feat': 1, 'val': 2.7000000000000002, 'left': 1.0, 'right': 0.0}, 'right': {'feat': 0, 'val': 6.0999999999999996, 'left': 1.0, 'right': 2.0}}\n",
      "{'feat': 1, 'val': 2.7000000000000002, 'left': 1.0, 'right': 0.0}\n",
      "{'feat': 0, 'val': 5.4000000000000004, 'left': {'feat': 1, 'val': 2.7000000000000002, 'left': 1.0, 'right': 0.0}, 'right': {'feat': 0, 'val': 6.0999999999999996, 'left': 1.0, 'right': 2.0}}\n",
      "{'feat': 0, 'val': 6.0999999999999996, 'left': 1.0, 'right': 2.0}\n",
      "{'feat': 0, 'val': 5.4000000000000004, 'left': {'feat': 1, 'val': 2.7000000000000002, 'left': 1.0, 'right': 0.0}, 'right': {'feat': 0, 'val': 6.0999999999999996, 'left': 1.0, 'right': 2.0}}\n",
      "{'feat': 1, 'val': 2.7000000000000002, 'left': 1.0, 'right': 0.0}\n",
      "{'feat': 0, 'val': 5.4000000000000004, 'left': {'feat': 1, 'val': 2.7000000000000002, 'left': 1.0, 'right': 0.0}, 'right': {'feat': 0, 'val': 6.0999999999999996, 'left': 1.0, 'right': 2.0}}\n",
      "{'feat': 1, 'val': 2.7000000000000002, 'left': 1.0, 'right': 0.0}\n",
      "{'feat': 0, 'val': 5.4000000000000004, 'left': {'feat': 1, 'val': 2.7000000000000002, 'left': 1.0, 'right': 0.0}, 'right': {'feat': 0, 'val': 6.0999999999999996, 'left': 1.0, 'right': 2.0}}\n",
      "{'feat': 0, 'val': 6.0999999999999996, 'left': 1.0, 'right': 2.0}\n",
      "{'feat': 0, 'val': 5.4000000000000004, 'left': {'feat': 1, 'val': 2.7000000000000002, 'left': 1.0, 'right': 0.0}, 'right': {'feat': 0, 'val': 6.0999999999999996, 'left': 1.0, 'right': 2.0}}\n",
      "{'feat': 0, 'val': 6.0999999999999996, 'left': 1.0, 'right': 2.0}\n",
      "{'feat': 0, 'val': 5.4000000000000004, 'left': {'feat': 1, 'val': 2.7000000000000002, 'left': 1.0, 'right': 0.0}, 'right': {'feat': 0, 'val': 6.0999999999999996, 'left': 1.0, 'right': 2.0}}\n",
      "{'feat': 0, 'val': 6.0999999999999996, 'left': 1.0, 'right': 2.0}\n",
      "{'feat': 0, 'val': 5.4000000000000004, 'left': {'feat': 1, 'val': 2.7000000000000002, 'left': 1.0, 'right': 0.0}, 'right': {'feat': 0, 'val': 6.0999999999999996, 'left': 1.0, 'right': 2.0}}\n",
      "{'feat': 0, 'val': 6.0999999999999996, 'left': 1.0, 'right': 2.0}\n",
      "{'feat': 0, 'val': 5.4000000000000004, 'left': {'feat': 1, 'val': 2.7000000000000002, 'left': 1.0, 'right': 0.0}, 'right': {'feat': 0, 'val': 6.0999999999999996, 'left': 1.0, 'right': 2.0}}\n",
      "{'feat': 0, 'val': 6.0999999999999996, 'left': 1.0, 'right': 2.0}\n",
      "{'feat': 0, 'val': 5.4000000000000004, 'left': {'feat': 1, 'val': 2.7000000000000002, 'left': 1.0, 'right': 0.0}, 'right': {'feat': 0, 'val': 6.0999999999999996, 'left': 1.0, 'right': 2.0}}\n",
      "{'feat': 0, 'val': 6.0999999999999996, 'left': 1.0, 'right': 2.0}\n",
      "{'feat': 0, 'val': 5.4000000000000004, 'left': {'feat': 1, 'val': 2.7000000000000002, 'left': 1.0, 'right': 0.0}, 'right': {'feat': 0, 'val': 6.0999999999999996, 'left': 1.0, 'right': 2.0}}\n",
      "{'feat': 0, 'val': 6.0999999999999996, 'left': 1.0, 'right': 2.0}\n",
      "{'feat': 0, 'val': 5.4000000000000004, 'left': {'feat': 1, 'val': 2.7000000000000002, 'left': 1.0, 'right': 0.0}, 'right': {'feat': 0, 'val': 6.0999999999999996, 'left': 1.0, 'right': 2.0}}\n",
      "{'feat': 0, 'val': 6.0999999999999996, 'left': 1.0, 'right': 2.0}\n",
      "{'feat': 0, 'val': 5.4000000000000004, 'left': {'feat': 1, 'val': 2.7000000000000002, 'left': 1.0, 'right': 0.0}, 'right': {'feat': 0, 'val': 6.0999999999999996, 'left': 1.0, 'right': 2.0}}\n",
      "{'feat': 0, 'val': 6.0999999999999996, 'left': 1.0, 'right': 2.0}\n",
      "{'feat': 0, 'val': 5.4000000000000004, 'left': {'feat': 1, 'val': 2.7000000000000002, 'left': 1.0, 'right': 0.0}, 'right': {'feat': 0, 'val': 6.0999999999999996, 'left': 1.0, 'right': 2.0}}\n",
      "{'feat': 0, 'val': 6.0999999999999996, 'left': 1.0, 'right': 2.0}\n",
      "{'feat': 0, 'val': 5.4000000000000004, 'left': {'feat': 1, 'val': 2.7000000000000002, 'left': 1.0, 'right': 0.0}, 'right': {'feat': 0, 'val': 6.0999999999999996, 'left': 1.0, 'right': 2.0}}\n",
      "{'feat': 0, 'val': 6.0999999999999996, 'left': 1.0, 'right': 2.0}\n",
      "{'feat': 0, 'val': 5.4000000000000004, 'left': {'feat': 1, 'val': 2.7000000000000002, 'left': 1.0, 'right': 0.0}, 'right': {'feat': 0, 'val': 6.0999999999999996, 'left': 1.0, 'right': 2.0}}\n",
      "{'feat': 0, 'val': 6.0999999999999996, 'left': 1.0, 'right': 2.0}\n",
      "{'feat': 0, 'val': 5.4000000000000004, 'left': {'feat': 1, 'val': 2.7000000000000002, 'left': 1.0, 'right': 0.0}, 'right': {'feat': 0, 'val': 6.0999999999999996, 'left': 1.0, 'right': 2.0}}\n",
      "{'feat': 0, 'val': 6.0999999999999996, 'left': 1.0, 'right': 2.0}\n",
      "{'feat': 0, 'val': 5.4000000000000004, 'left': {'feat': 1, 'val': 2.7000000000000002, 'left': 1.0, 'right': 0.0}, 'right': {'feat': 0, 'val': 6.0999999999999996, 'left': 1.0, 'right': 2.0}}\n",
      "{'feat': 0, 'val': 6.0999999999999996, 'left': 1.0, 'right': 2.0}\n",
      "{'feat': 0, 'val': 5.4000000000000004, 'left': {'feat': 1, 'val': 2.7000000000000002, 'left': 1.0, 'right': 0.0}, 'right': {'feat': 0, 'val': 6.0999999999999996, 'left': 1.0, 'right': 2.0}}\n",
      "{'feat': 0, 'val': 6.0999999999999996, 'left': 1.0, 'right': 2.0}\n",
      "{'feat': 0, 'val': 5.4000000000000004, 'left': {'feat': 1, 'val': 2.7000000000000002, 'left': 1.0, 'right': 0.0}, 'right': {'feat': 0, 'val': 6.0999999999999996, 'left': 1.0, 'right': 2.0}}\n",
      "{'feat': 0, 'val': 6.0999999999999996, 'left': 1.0, 'right': 2.0}\n",
      "{'feat': 0, 'val': 5.4000000000000004, 'left': {'feat': 1, 'val': 2.7000000000000002, 'left': 1.0, 'right': 0.0}, 'right': {'feat': 0, 'val': 6.0999999999999996, 'left': 1.0, 'right': 2.0}}\n",
      "{'feat': 0, 'val': 6.0999999999999996, 'left': 1.0, 'right': 2.0}\n",
      "{'feat': 0, 'val': 5.4000000000000004, 'left': {'feat': 1, 'val': 2.7000000000000002, 'left': 1.0, 'right': 0.0}, 'right': {'feat': 0, 'val': 6.0999999999999996, 'left': 1.0, 'right': 2.0}}\n",
      "{'feat': 0, 'val': 6.0999999999999996, 'left': 1.0, 'right': 2.0}\n",
      "{'feat': 0, 'val': 5.4000000000000004, 'left': {'feat': 1, 'val': 2.7000000000000002, 'left': 1.0, 'right': 0.0}, 'right': {'feat': 0, 'val': 6.0999999999999996, 'left': 1.0, 'right': 2.0}}\n",
      "{'feat': 0, 'val': 6.0999999999999996, 'left': 1.0, 'right': 2.0}\n",
      "{'feat': 0, 'val': 5.4000000000000004, 'left': {'feat': 1, 'val': 2.7000000000000002, 'left': 1.0, 'right': 0.0}, 'right': {'feat': 0, 'val': 6.0999999999999996, 'left': 1.0, 'right': 2.0}}\n",
      "{'feat': 0, 'val': 6.0999999999999996, 'left': 1.0, 'right': 2.0}\n",
      "{'feat': 0, 'val': 5.4000000000000004, 'left': {'feat': 1, 'val': 2.7000000000000002, 'left': 1.0, 'right': 0.0}, 'right': {'feat': 0, 'val': 6.0999999999999996, 'left': 1.0, 'right': 2.0}}\n",
      "{'feat': 0, 'val': 6.0999999999999996, 'left': 1.0, 'right': 2.0}\n",
      "{'feat': 0, 'val': 5.4000000000000004, 'left': {'feat': 1, 'val': 2.7000000000000002, 'left': 1.0, 'right': 0.0}, 'right': {'feat': 0, 'val': 6.0999999999999996, 'left': 1.0, 'right': 2.0}}\n",
      "{'feat': 0, 'val': 6.0999999999999996, 'left': 1.0, 'right': 2.0}\n",
      "{'feat': 0, 'val': 5.4000000000000004, 'left': {'feat': 1, 'val': 2.7000000000000002, 'left': 1.0, 'right': 0.0}, 'right': {'feat': 0, 'val': 6.0999999999999996, 'left': 1.0, 'right': 2.0}}\n",
      "{'feat': 0, 'val': 6.0999999999999996, 'left': 1.0, 'right': 2.0}\n",
      "{'feat': 0, 'val': 5.4000000000000004, 'left': {'feat': 1, 'val': 2.7000000000000002, 'left': 1.0, 'right': 0.0}, 'right': {'feat': 0, 'val': 6.0999999999999996, 'left': 1.0, 'right': 2.0}}\n",
      "{'feat': 0, 'val': 6.0999999999999996, 'left': 1.0, 'right': 2.0}\n",
      "{'feat': 0, 'val': 5.4000000000000004, 'left': {'feat': 1, 'val': 2.7000000000000002, 'left': 1.0, 'right': 0.0}, 'right': {'feat': 0, 'val': 6.0999999999999996, 'left': 1.0, 'right': 2.0}}\n",
      "{'feat': 0, 'val': 6.0999999999999996, 'left': 1.0, 'right': 2.0}\n",
      "{'feat': 0, 'val': 5.4000000000000004, 'left': {'feat': 1, 'val': 2.7000000000000002, 'left': 1.0, 'right': 0.0}, 'right': {'feat': 0, 'val': 6.0999999999999996, 'left': 1.0, 'right': 2.0}}\n",
      "{'feat': 0, 'val': 6.0999999999999996, 'left': 1.0, 'right': 2.0}\n",
      "{'feat': 0, 'val': 5.4000000000000004, 'left': {'feat': 1, 'val': 2.7000000000000002, 'left': 1.0, 'right': 0.0}, 'right': {'feat': 0, 'val': 6.0999999999999996, 'left': 1.0, 'right': 2.0}}\n",
      "{'feat': 0, 'val': 6.0999999999999996, 'left': 1.0, 'right': 2.0}\n",
      "{'feat': 0, 'val': 5.4000000000000004, 'left': {'feat': 1, 'val': 2.7000000000000002, 'left': 1.0, 'right': 0.0}, 'right': {'feat': 0, 'val': 6.0999999999999996, 'left': 1.0, 'right': 2.0}}\n",
      "{'feat': 0, 'val': 6.0999999999999996, 'left': 1.0, 'right': 2.0}\n",
      "{'feat': 0, 'val': 5.4000000000000004, 'left': {'feat': 1, 'val': 2.7000000000000002, 'left': 1.0, 'right': 0.0}, 'right': {'feat': 0, 'val': 6.0999999999999996, 'left': 1.0, 'right': 2.0}}\n",
      "{'feat': 0, 'val': 6.0999999999999996, 'left': 1.0, 'right': 2.0}\n",
      "{'feat': 0, 'val': 5.4000000000000004, 'left': {'feat': 1, 'val': 2.7000000000000002, 'left': 1.0, 'right': 0.0}, 'right': {'feat': 0, 'val': 6.0999999999999996, 'left': 1.0, 'right': 2.0}}\n",
      "{'feat': 0, 'val': 6.0999999999999996, 'left': 1.0, 'right': 2.0}\n",
      "{'feat': 0, 'val': 5.4000000000000004, 'left': {'feat': 1, 'val': 2.7000000000000002, 'left': 1.0, 'right': 0.0}, 'right': {'feat': 0, 'val': 6.0999999999999996, 'left': 1.0, 'right': 2.0}}\n",
      "{'feat': 0, 'val': 6.0999999999999996, 'left': 1.0, 'right': 2.0}\n",
      "{'feat': 0, 'val': 5.4000000000000004, 'left': {'feat': 1, 'val': 2.7000000000000002, 'left': 1.0, 'right': 0.0}, 'right': {'feat': 0, 'val': 6.0999999999999996, 'left': 1.0, 'right': 2.0}}\n",
      "{'feat': 0, 'val': 6.0999999999999996, 'left': 1.0, 'right': 2.0}\n",
      "{'feat': 0, 'val': 5.4000000000000004, 'left': {'feat': 1, 'val': 2.7000000000000002, 'left': 1.0, 'right': 0.0}, 'right': {'feat': 0, 'val': 6.0999999999999996, 'left': 1.0, 'right': 2.0}}\n",
      "{'feat': 1, 'val': 2.7000000000000002, 'left': 1.0, 'right': 0.0}\n",
      "{'feat': 0, 'val': 5.4000000000000004, 'left': {'feat': 1, 'val': 2.7000000000000002, 'left': 1.0, 'right': 0.0}, 'right': {'feat': 0, 'val': 6.0999999999999996, 'left': 1.0, 'right': 2.0}}\n",
      "{'feat': 0, 'val': 6.0999999999999996, 'left': 1.0, 'right': 2.0}\n",
      "{'feat': 0, 'val': 5.4000000000000004, 'left': {'feat': 1, 'val': 2.7000000000000002, 'left': 1.0, 'right': 0.0}, 'right': {'feat': 0, 'val': 6.0999999999999996, 'left': 1.0, 'right': 2.0}}\n",
      "{'feat': 0, 'val': 6.0999999999999996, 'left': 1.0, 'right': 2.0}\n",
      "{'feat': 0, 'val': 5.4000000000000004, 'left': {'feat': 1, 'val': 2.7000000000000002, 'left': 1.0, 'right': 0.0}, 'right': {'feat': 0, 'val': 6.0999999999999996, 'left': 1.0, 'right': 2.0}}\n",
      "{'feat': 0, 'val': 6.0999999999999996, 'left': 1.0, 'right': 2.0}\n",
      "{'feat': 0, 'val': 5.4000000000000004, 'left': {'feat': 1, 'val': 2.7000000000000002, 'left': 1.0, 'right': 0.0}, 'right': {'feat': 0, 'val': 6.0999999999999996, 'left': 1.0, 'right': 2.0}}\n",
      "{'feat': 0, 'val': 6.0999999999999996, 'left': 1.0, 'right': 2.0}\n",
      "{'feat': 0, 'val': 5.4000000000000004, 'left': {'feat': 1, 'val': 2.7000000000000002, 'left': 1.0, 'right': 0.0}, 'right': {'feat': 0, 'val': 6.0999999999999996, 'left': 1.0, 'right': 2.0}}\n",
      "{'feat': 1, 'val': 2.7000000000000002, 'left': 1.0, 'right': 0.0}\n",
      "{'feat': 0, 'val': 5.4000000000000004, 'left': {'feat': 1, 'val': 2.7000000000000002, 'left': 1.0, 'right': 0.0}, 'right': {'feat': 0, 'val': 6.0999999999999996, 'left': 1.0, 'right': 2.0}}\n",
      "{'feat': 0, 'val': 6.0999999999999996, 'left': 1.0, 'right': 2.0}\n",
      "{'feat': 0, 'val': 5.4000000000000004, 'left': {'feat': 1, 'val': 2.7000000000000002, 'left': 1.0, 'right': 0.0}, 'right': {'feat': 0, 'val': 6.0999999999999996, 'left': 1.0, 'right': 2.0}}\n",
      "{'feat': 0, 'val': 6.0999999999999996, 'left': 1.0, 'right': 2.0}\n",
      "{'feat': 0, 'val': 5.4000000000000004, 'left': {'feat': 1, 'val': 2.7000000000000002, 'left': 1.0, 'right': 0.0}, 'right': {'feat': 0, 'val': 6.0999999999999996, 'left': 1.0, 'right': 2.0}}\n",
      "{'feat': 0, 'val': 6.0999999999999996, 'left': 1.0, 'right': 2.0}\n",
      "{'feat': 0, 'val': 5.4000000000000004, 'left': {'feat': 1, 'val': 2.7000000000000002, 'left': 1.0, 'right': 0.0}, 'right': {'feat': 0, 'val': 6.0999999999999996, 'left': 1.0, 'right': 2.0}}\n",
      "{'feat': 0, 'val': 6.0999999999999996, 'left': 1.0, 'right': 2.0}\n",
      "{'feat': 0, 'val': 5.4000000000000004, 'left': {'feat': 1, 'val': 2.7000000000000002, 'left': 1.0, 'right': 0.0}, 'right': {'feat': 0, 'val': 6.0999999999999996, 'left': 1.0, 'right': 2.0}}\n",
      "{'feat': 0, 'val': 6.0999999999999996, 'left': 1.0, 'right': 2.0}\n",
      "{'feat': 0, 'val': 5.4000000000000004, 'left': {'feat': 1, 'val': 2.7000000000000002, 'left': 1.0, 'right': 0.0}, 'right': {'feat': 0, 'val': 6.0999999999999996, 'left': 1.0, 'right': 2.0}}\n",
      "{'feat': 0, 'val': 6.0999999999999996, 'left': 1.0, 'right': 2.0}\n",
      "{'feat': 0, 'val': 5.4000000000000004, 'left': {'feat': 1, 'val': 2.7000000000000002, 'left': 1.0, 'right': 0.0}, 'right': {'feat': 0, 'val': 6.0999999999999996, 'left': 1.0, 'right': 2.0}}\n",
      "{'feat': 0, 'val': 6.0999999999999996, 'left': 1.0, 'right': 2.0}\n",
      "{'feat': 0, 'val': 5.4000000000000004, 'left': {'feat': 1, 'val': 2.7000000000000002, 'left': 1.0, 'right': 0.0}, 'right': {'feat': 0, 'val': 6.0999999999999996, 'left': 1.0, 'right': 2.0}}\n",
      "{'feat': 1, 'val': 2.7000000000000002, 'left': 1.0, 'right': 0.0}\n",
      "{'feat': 0, 'val': 5.4000000000000004, 'left': {'feat': 1, 'val': 2.7000000000000002, 'left': 1.0, 'right': 0.0}, 'right': {'feat': 0, 'val': 6.0999999999999996, 'left': 1.0, 'right': 2.0}}\n",
      "{'feat': 0, 'val': 6.0999999999999996, 'left': 1.0, 'right': 2.0}\n",
      "{'feat': 0, 'val': 5.4000000000000004, 'left': {'feat': 1, 'val': 2.7000000000000002, 'left': 1.0, 'right': 0.0}, 'right': {'feat': 0, 'val': 6.0999999999999996, 'left': 1.0, 'right': 2.0}}\n",
      "{'feat': 0, 'val': 6.0999999999999996, 'left': 1.0, 'right': 2.0}\n",
      "{'feat': 0, 'val': 5.4000000000000004, 'left': {'feat': 1, 'val': 2.7000000000000002, 'left': 1.0, 'right': 0.0}, 'right': {'feat': 0, 'val': 6.0999999999999996, 'left': 1.0, 'right': 2.0}}\n",
      "{'feat': 0, 'val': 6.0999999999999996, 'left': 1.0, 'right': 2.0}\n",
      "{'feat': 0, 'val': 5.4000000000000004, 'left': {'feat': 1, 'val': 2.7000000000000002, 'left': 1.0, 'right': 0.0}, 'right': {'feat': 0, 'val': 6.0999999999999996, 'left': 1.0, 'right': 2.0}}\n",
      "{'feat': 0, 'val': 6.0999999999999996, 'left': 1.0, 'right': 2.0}\n",
      "{'feat': 0, 'val': 5.4000000000000004, 'left': {'feat': 1, 'val': 2.7000000000000002, 'left': 1.0, 'right': 0.0}, 'right': {'feat': 0, 'val': 6.0999999999999996, 'left': 1.0, 'right': 2.0}}\n",
      "{'feat': 0, 'val': 6.0999999999999996, 'left': 1.0, 'right': 2.0}\n",
      "{'feat': 0, 'val': 5.4000000000000004, 'left': {'feat': 1, 'val': 2.7000000000000002, 'left': 1.0, 'right': 0.0}, 'right': {'feat': 0, 'val': 6.0999999999999996, 'left': 1.0, 'right': 2.0}}\n",
      "{'feat': 0, 'val': 6.0999999999999996, 'left': 1.0, 'right': 2.0}\n",
      "{'feat': 0, 'val': 5.4000000000000004, 'left': {'feat': 1, 'val': 2.7000000000000002, 'left': 1.0, 'right': 0.0}, 'right': {'feat': 0, 'val': 6.0999999999999996, 'left': 1.0, 'right': 2.0}}\n",
      "{'feat': 0, 'val': 6.0999999999999996, 'left': 1.0, 'right': 2.0}\n",
      "{'feat': 0, 'val': 5.4000000000000004, 'left': {'feat': 1, 'val': 2.7000000000000002, 'left': 1.0, 'right': 0.0}, 'right': {'feat': 0, 'val': 6.0999999999999996, 'left': 1.0, 'right': 2.0}}\n",
      "{'feat': 0, 'val': 6.0999999999999996, 'left': 1.0, 'right': 2.0}\n",
      "{'feat': 0, 'val': 5.4000000000000004, 'left': {'feat': 1, 'val': 2.7000000000000002, 'left': 1.0, 'right': 0.0}, 'right': {'feat': 0, 'val': 6.0999999999999996, 'left': 1.0, 'right': 2.0}}\n",
      "{'feat': 0, 'val': 6.0999999999999996, 'left': 1.0, 'right': 2.0}\n",
      "{'feat': 0, 'val': 5.4000000000000004, 'left': {'feat': 1, 'val': 2.7000000000000002, 'left': 1.0, 'right': 0.0}, 'right': {'feat': 0, 'val': 6.0999999999999996, 'left': 1.0, 'right': 2.0}}\n",
      "{'feat': 0, 'val': 6.0999999999999996, 'left': 1.0, 'right': 2.0}\n",
      "{'feat': 0, 'val': 5.4000000000000004, 'left': {'feat': 1, 'val': 2.7000000000000002, 'left': 1.0, 'right': 0.0}, 'right': {'feat': 0, 'val': 6.0999999999999996, 'left': 1.0, 'right': 2.0}}\n",
      "{'feat': 0, 'val': 6.0999999999999996, 'left': 1.0, 'right': 2.0}\n",
      "{'feat': 0, 'val': 5.4000000000000004, 'left': {'feat': 1, 'val': 2.7000000000000002, 'left': 1.0, 'right': 0.0}, 'right': {'feat': 0, 'val': 6.0999999999999996, 'left': 1.0, 'right': 2.0}}\n",
      "{'feat': 0, 'val': 6.0999999999999996, 'left': 1.0, 'right': 2.0}\n",
      "{'feat': 0, 'val': 5.4000000000000004, 'left': {'feat': 1, 'val': 2.7000000000000002, 'left': 1.0, 'right': 0.0}, 'right': {'feat': 0, 'val': 6.0999999999999996, 'left': 1.0, 'right': 2.0}}\n",
      "{'feat': 0, 'val': 6.0999999999999996, 'left': 1.0, 'right': 2.0}\n",
      "{'feat': 0, 'val': 5.4000000000000004, 'left': {'feat': 1, 'val': 2.7000000000000002, 'left': 1.0, 'right': 0.0}, 'right': {'feat': 0, 'val': 6.0999999999999996, 'left': 1.0, 'right': 2.0}}\n",
      "{'feat': 0, 'val': 6.0999999999999996, 'left': 1.0, 'right': 2.0}\n",
      "{'feat': 0, 'val': 5.4000000000000004, 'left': {'feat': 1, 'val': 2.7000000000000002, 'left': 1.0, 'right': 0.0}, 'right': {'feat': 0, 'val': 6.0999999999999996, 'left': 1.0, 'right': 2.0}}\n",
      "{'feat': 0, 'val': 6.0999999999999996, 'left': 1.0, 'right': 2.0}\n",
      "{'feat': 0, 'val': 5.4000000000000004, 'left': {'feat': 1, 'val': 2.7000000000000002, 'left': 1.0, 'right': 0.0}, 'right': {'feat': 0, 'val': 6.0999999999999996, 'left': 1.0, 'right': 2.0}}\n",
      "{'feat': 0, 'val': 6.0999999999999996, 'left': 1.0, 'right': 2.0}\n",
      "{'feat': 0, 'val': 5.4000000000000004, 'left': {'feat': 1, 'val': 2.7000000000000002, 'left': 1.0, 'right': 0.0}, 'right': {'feat': 0, 'val': 6.0999999999999996, 'left': 1.0, 'right': 2.0}}\n",
      "{'feat': 0, 'val': 6.0999999999999996, 'left': 1.0, 'right': 2.0}\n",
      "{'feat': 0, 'val': 5.4000000000000004, 'left': {'feat': 1, 'val': 2.7000000000000002, 'left': 1.0, 'right': 0.0}, 'right': {'feat': 0, 'val': 6.0999999999999996, 'left': 1.0, 'right': 2.0}}\n",
      "{'feat': 0, 'val': 6.0999999999999996, 'left': 1.0, 'right': 2.0}\n",
      "{'feat': 0, 'val': 5.4000000000000004, 'left': {'feat': 1, 'val': 2.7000000000000002, 'left': 1.0, 'right': 0.0}, 'right': {'feat': 0, 'val': 6.0999999999999996, 'left': 1.0, 'right': 2.0}}\n",
      "{'feat': 0, 'val': 6.0999999999999996, 'left': 1.0, 'right': 2.0}\n",
      "{'feat': 0, 'val': 5.4000000000000004, 'left': {'feat': 1, 'val': 2.7000000000000002, 'left': 1.0, 'right': 0.0}, 'right': {'feat': 0, 'val': 6.0999999999999996, 'left': 1.0, 'right': 2.0}}\n",
      "{'feat': 0, 'val': 6.0999999999999996, 'left': 1.0, 'right': 2.0}\n",
      "{'feat': 0, 'val': 5.4000000000000004, 'left': {'feat': 1, 'val': 2.7000000000000002, 'left': 1.0, 'right': 0.0}, 'right': {'feat': 0, 'val': 6.0999999999999996, 'left': 1.0, 'right': 2.0}}\n",
      "{'feat': 0, 'val': 6.0999999999999996, 'left': 1.0, 'right': 2.0}\n",
      "{'feat': 0, 'val': 5.4000000000000004, 'left': {'feat': 1, 'val': 2.7000000000000002, 'left': 1.0, 'right': 0.0}, 'right': {'feat': 0, 'val': 6.0999999999999996, 'left': 1.0, 'right': 2.0}}\n",
      "{'feat': 0, 'val': 6.0999999999999996, 'left': 1.0, 'right': 2.0}\n",
      "{'feat': 0, 'val': 5.4000000000000004, 'left': {'feat': 1, 'val': 2.7000000000000002, 'left': 1.0, 'right': 0.0}, 'right': {'feat': 0, 'val': 6.0999999999999996, 'left': 1.0, 'right': 2.0}}\n",
      "{'feat': 0, 'val': 6.0999999999999996, 'left': 1.0, 'right': 2.0}\n",
      "{'feat': 0, 'val': 5.4000000000000004, 'left': {'feat': 1, 'val': 2.7000000000000002, 'left': 1.0, 'right': 0.0}, 'right': {'feat': 0, 'val': 6.0999999999999996, 'left': 1.0, 'right': 2.0}}\n",
      "{'feat': 0, 'val': 6.0999999999999996, 'left': 1.0, 'right': 2.0}\n",
      "{'feat': 0, 'val': 5.4000000000000004, 'left': {'feat': 1, 'val': 2.7000000000000002, 'left': 1.0, 'right': 0.0}, 'right': {'feat': 0, 'val': 6.0999999999999996, 'left': 1.0, 'right': 2.0}}\n",
      "{'feat': 0, 'val': 6.0999999999999996, 'left': 1.0, 'right': 2.0}\n",
      "{'feat': 0, 'val': 5.4000000000000004, 'left': {'feat': 1, 'val': 2.7000000000000002, 'left': 1.0, 'right': 0.0}, 'right': {'feat': 0, 'val': 6.0999999999999996, 'left': 1.0, 'right': 2.0}}\n",
      "{'feat': 0, 'val': 6.0999999999999996, 'left': 1.0, 'right': 2.0}\n",
      "{'feat': 0, 'val': 5.4000000000000004, 'left': {'feat': 1, 'val': 2.7000000000000002, 'left': 1.0, 'right': 0.0}, 'right': {'feat': 0, 'val': 6.0999999999999996, 'left': 1.0, 'right': 2.0}}\n",
      "{'feat': 0, 'val': 6.0999999999999996, 'left': 1.0, 'right': 2.0}\n",
      "{'feat': 0, 'val': 5.4000000000000004, 'left': {'feat': 1, 'val': 2.7000000000000002, 'left': 1.0, 'right': 0.0}, 'right': {'feat': 0, 'val': 6.0999999999999996, 'left': 1.0, 'right': 2.0}}\n",
      "{'feat': 0, 'val': 6.0999999999999996, 'left': 1.0, 'right': 2.0}\n",
      "{'feat': 0, 'val': 5.4000000000000004, 'left': {'feat': 1, 'val': 2.7000000000000002, 'left': 1.0, 'right': 0.0}, 'right': {'feat': 0, 'val': 6.0999999999999996, 'left': 1.0, 'right': 2.0}}\n",
      "{'feat': 0, 'val': 6.0999999999999996, 'left': 1.0, 'right': 2.0}\n",
      "{'feat': 0, 'val': 5.4000000000000004, 'left': {'feat': 1, 'val': 2.7000000000000002, 'left': 1.0, 'right': 0.0}, 'right': {'feat': 0, 'val': 6.0999999999999996, 'left': 1.0, 'right': 2.0}}\n",
      "{'feat': 0, 'val': 6.0999999999999996, 'left': 1.0, 'right': 2.0}\n",
      "{'feat': 0, 'val': 5.4000000000000004, 'left': {'feat': 1, 'val': 2.7000000000000002, 'left': 1.0, 'right': 0.0}, 'right': {'feat': 0, 'val': 6.0999999999999996, 'left': 1.0, 'right': 2.0}}\n",
      "{'feat': 0, 'val': 6.0999999999999996, 'left': 1.0, 'right': 2.0}\n",
      "{'feat': 0, 'val': 5.4000000000000004, 'left': {'feat': 1, 'val': 2.7000000000000002, 'left': 1.0, 'right': 0.0}, 'right': {'feat': 0, 'val': 6.0999999999999996, 'left': 1.0, 'right': 2.0}}\n",
      "{'feat': 0, 'val': 6.0999999999999996, 'left': 1.0, 'right': 2.0}\n",
      "{'feat': 0, 'val': 5.4000000000000004, 'left': {'feat': 1, 'val': 2.7000000000000002, 'left': 1.0, 'right': 0.0}, 'right': {'feat': 0, 'val': 6.0999999999999996, 'left': 1.0, 'right': 2.0}}\n",
      "{'feat': 0, 'val': 6.0999999999999996, 'left': 1.0, 'right': 2.0}\n",
      "{'feat': 0, 'val': 5.4000000000000004, 'left': {'feat': 1, 'val': 2.7000000000000002, 'left': 1.0, 'right': 0.0}, 'right': {'feat': 0, 'val': 6.0999999999999996, 'left': 1.0, 'right': 2.0}}\n",
      "{'feat': 0, 'val': 6.0999999999999996, 'left': 1.0, 'right': 2.0}\n",
      "{'feat': 0, 'val': 5.4000000000000004, 'left': {'feat': 1, 'val': 2.7000000000000002, 'left': 1.0, 'right': 0.0}, 'right': {'feat': 0, 'val': 6.0999999999999996, 'left': 1.0, 'right': 2.0}}\n",
      "{'feat': 0, 'val': 6.0999999999999996, 'left': 1.0, 'right': 2.0}\n",
      "{'feat': 0, 'val': 5.4000000000000004, 'left': {'feat': 1, 'val': 2.7000000000000002, 'left': 1.0, 'right': 0.0}, 'right': {'feat': 0, 'val': 6.0999999999999996, 'left': 1.0, 'right': 2.0}}\n",
      "{'feat': 0, 'val': 6.0999999999999996, 'left': 1.0, 'right': 2.0}\n",
      "{'feat': 0, 'val': 5.4000000000000004, 'left': {'feat': 1, 'val': 2.7000000000000002, 'left': 1.0, 'right': 0.0}, 'right': {'feat': 0, 'val': 6.0999999999999996, 'left': 1.0, 'right': 2.0}}\n",
      "{'feat': 0, 'val': 6.0999999999999996, 'left': 1.0, 'right': 2.0}\n",
      "{'feat': 0, 'val': 5.4000000000000004, 'left': {'feat': 1, 'val': 2.7000000000000002, 'left': 1.0, 'right': 0.0}, 'right': {'feat': 0, 'val': 6.0999999999999996, 'left': 1.0, 'right': 2.0}}\n",
      "{'feat': 0, 'val': 6.0999999999999996, 'left': 1.0, 'right': 2.0}\n",
      "{'feat': 0, 'val': 5.4000000000000004, 'left': {'feat': 1, 'val': 2.7000000000000002, 'left': 1.0, 'right': 0.0}, 'right': {'feat': 0, 'val': 6.0999999999999996, 'left': 1.0, 'right': 2.0}}\n",
      "{'feat': 0, 'val': 6.0999999999999996, 'left': 1.0, 'right': 2.0}\n",
      "{'feat': 0, 'val': 5.4000000000000004, 'left': {'feat': 1, 'val': 2.7000000000000002, 'left': 1.0, 'right': 0.0}, 'right': {'feat': 0, 'val': 6.0999999999999996, 'left': 1.0, 'right': 2.0}}\n",
      "{'feat': 0, 'val': 6.0999999999999996, 'left': 1.0, 'right': 2.0}\n",
      "{'feat': 0, 'val': 5.4000000000000004, 'left': {'feat': 1, 'val': 2.7000000000000002, 'left': 1.0, 'right': 0.0}, 'right': {'feat': 0, 'val': 6.0999999999999996, 'left': 1.0, 'right': 2.0}}\n",
      "{'feat': 0, 'val': 6.0999999999999996, 'left': 1.0, 'right': 2.0}\n",
      "{'feat': 0, 'val': 5.4000000000000004, 'left': {'feat': 1, 'val': 2.7000000000000002, 'left': 1.0, 'right': 0.0}, 'right': {'feat': 0, 'val': 6.0999999999999996, 'left': 1.0, 'right': 2.0}}\n",
      "{'feat': 0, 'val': 6.0999999999999996, 'left': 1.0, 'right': 2.0}\n",
      "{'feat': 0, 'val': 5.4000000000000004, 'left': {'feat': 1, 'val': 2.7000000000000002, 'left': 1.0, 'right': 0.0}, 'right': {'feat': 0, 'val': 6.0999999999999996, 'left': 1.0, 'right': 2.0}}\n",
      "{'feat': 0, 'val': 6.0999999999999996, 'left': 1.0, 'right': 2.0}\n"
     ]
    }
   ],
   "source": [
    "y_pred = predict(X)"
   ]
  },
  {
   "cell_type": "code",
   "execution_count": 27,
   "metadata": {},
   "outputs": [
    {
     "data": {
      "text/plain": [
       "array([ 0.,  0.,  0.,  0.,  0.,  1.,  0.,  0.,  0.,  0.,  1.,  0.,  0.,\n",
       "        0.,  1.,  1.,  1.,  0.,  1.,  0.,  1.,  0.,  0.,  0.,  0.,  0.,\n",
       "        0.,  0.,  0.,  0.,  0.,  1.,  0.,  1.,  0.,  0.,  1.,  0.,  0.,\n",
       "        0.,  0.,  1.,  0.,  0.,  0.,  0.,  0.,  0.,  0.,  0.,  2.,  2.,\n",
       "        2.,  1.,  2.,  1.,  2.,  1.,  2.,  0.,  1.,  1.,  1.,  2.,  1.,\n",
       "        2.,  1.,  1.,  2.,  1.,  1.,  2.,  2.,  2.,  2.,  2.,  2.,  2.,\n",
       "        1.,  1.,  1.,  1.,  1.,  1.,  1.,  1.,  2.,  2.,  1.,  1.,  1.,\n",
       "        2.,  1.,  1.,  1.,  1.,  1.,  2.,  1.,  1.,  2.,  1.,  2.,  2.,\n",
       "        2.,  2.,  1.,  2.,  2.,  2.,  2.,  2.,  2.,  1.,  1.,  2.,  2.,\n",
       "        2.,  2.,  1.,  2.,  1.,  2.,  2.,  2.,  2.,  2.,  2.,  2.,  2.,\n",
       "        2.,  2.,  2.,  2.,  2.,  2.,  2.,  2.,  1.,  2.,  2.,  2.,  1.,\n",
       "        2.,  2.,  2.,  2.,  2.,  2.,  1.])"
      ]
     },
     "execution_count": 27,
     "metadata": {},
     "output_type": "execute_result"
    }
   ],
   "source": [
    "y_pred"
   ]
  },
  {
   "cell_type": "markdown",
   "metadata": {},
   "source": [
    "### Create class.\n",
    "\n",
    "---\n",
    "\n",
    "__Tie__ - Added to modify behavior when there is a tie for majority class"
   ]
  },
  {
   "cell_type": "code",
   "execution_count": 28,
   "metadata": {
    "collapsed": true
   },
   "outputs": [],
   "source": [
    "class decision_tree(object):\n",
    "    def __init__(self, max_depth, min_num_split):\n",
    "        self.max_depth = max_depth\n",
    "        self.min_num_sample = min_num_split\n",
    "    \n",
    "    def gini(self, X):\n",
    "        if np.min(X) < 0:\n",
    "            X -= np.amin(X)\n",
    "        #X = X.flatten()\n",
    "        X += .00001\n",
    "        X = np.sort(X)\n",
    "        i = np.arange(1,X.shape[0]+1)\n",
    "        n = X.shape[0]\n",
    "        return ((np.sum((2 * i - n - 1) * X)) / (n * np.sum(X)))\n",
    "    \n",
    "    def gini_score(self, groups, classes):\n",
    "        n_samples = sum([len(group) for group in groups])\n",
    "        gini = 0\n",
    "        for group in groups:\n",
    "            size = float(len(group))\n",
    "            if size == 0:\n",
    "                continue\n",
    "            score = 0.0\n",
    "            #print(size)\n",
    "            for class_val in classes:\n",
    "                #print(group.shape)\n",
    "                p = (group[:,-1] == class_val).sum() / size\n",
    "                #print(p)\n",
    "                score += p * p\n",
    "            gini += (1.0 - score) * (size / n_samples)\n",
    "            #print(gini)\n",
    "        return gini\n",
    "    \n",
    "    def split(self, feat, val, Xy):\n",
    "#         Xi_left = np.array([]).reshape(0,3)\n",
    "#         Xi_right = np.array([]).reshape(0,3)\n",
    "        Xi_left = np.array([]).reshape(0,self.Xy.shape[1])\n",
    "        Xi_right = np.array([]).reshape(0,self.Xy.shape[1])\n",
    "        for i in Xy:\n",
    "            #print(i.shape)\n",
    "            if i[feat] <= val:\n",
    "                Xi_left = np.vstack((Xi_left,i))\n",
    "            if i[feat] > val:\n",
    "                Xi_right = np.vstack((Xi_right,i))\n",
    "        return Xi_left, Xi_right\n",
    "    \n",
    "    def best_split(self, Xy):\n",
    "        classes = np.unique(Xy[:,-1])\n",
    "        best_feat = 999\n",
    "        best_val = 999\n",
    "        best_score = 999\n",
    "        best_groups = None\n",
    "        for feat in range(Xy.shape[1]-1):\n",
    "            for i in Xy:\n",
    "                groups = self.split(feat, i[feat], Xy)\n",
    "                #print(groups)\n",
    "                gini = self.gini_score(groups, classes)\n",
    "                #print('feat {}, valued < {}, scored {}'.format(feat,i[feat], gini))\n",
    "                if gini < best_score:\n",
    "                    best_feat = feat\n",
    "                    best_val = i[feat]\n",
    "                    best_score = gini\n",
    "                    best_groups = groups\n",
    "        output = {}\n",
    "        output['feat'] = best_feat\n",
    "        output['val'] = best_val\n",
    "        output['groups'] = best_groups\n",
    "        return output\n",
    "    \n",
    "    def terminal_node(self, group):\n",
    "        # errored out: couldn't np.unique(nothing) or something - doesn't happen all the time\n",
    "        #print(group[:,-1])\n",
    "        classes, counts = np.unique(group[:,-1],return_counts=True)\n",
    "        return classes[np.argmax(counts)]\n",
    "            \n",
    "    def split_branch(self, node, depth):\n",
    "        left_node, right_node = node['groups']\n",
    "        del(node['groups'])\n",
    "        if not isinstance(left_node,np.ndarray) or not isinstance(right_node,np.ndarray):\n",
    "            node['left'] = node['right'] = self.terminal_node(left_node + right_node)\n",
    "            return\n",
    "        if depth >= self.max_depth:\n",
    "            node['left'] = self.terminal_node(left_node)\n",
    "            node['right'] = self.terminal_node(right_node)\n",
    "            return\n",
    "        if len(left_node) <= self.min_num_sample:\n",
    "            node['left'] = self.terminal_node(left_node)\n",
    "        else:\n",
    "            node['left'] = self.best_split(left_node)\n",
    "            self.split_branch(node['left'], depth+1)\n",
    "        if len(right_node) <= self.min_num_sample:\n",
    "            node['right'] = self.terminal_node(right_node)\n",
    "        else:\n",
    "            node['right'] = self.best_split(right_node)\n",
    "            self.split_branch(node['right'], depth+1)\n",
    "    \n",
    "    def build_tree(self):\n",
    "        '''Recursively build tree, unclear if this is the correct way\n",
    "        \n",
    "        '''\n",
    "        \n",
    "        self.root = self.best_split(self.Xy)\n",
    "        #print(self.root)\n",
    "        self.split_branch(self.root, 1) # i don't understand how this is working, pointed to node?\n",
    "        #print(self.root)\n",
    "        return self.root\n",
    "    \n",
    "    def fit(self,X,y):\n",
    "        '''Save training data.\n",
    "        \n",
    "        '''\n",
    "        self.X = X\n",
    "        self.y = y\n",
    "        self.Xy = np.column_stack((X, y))\n",
    "        self.build_tree()\n",
    "\n",
    "    def display_tree(self, depth=0):\n",
    "        if isinstance(self.root,dict):\n",
    "            print('{}[feat{} < {:.2f}]'.format(depth*'\\t',(self.root['feat']+1), self.root['val']))\n",
    "            display_tree(self.root['left'], depth+1)\n",
    "            display_tree(self.root['right'], depth+1)\n",
    "        else:\n",
    "            print('{}[{}]'.format(depth*'\\t', self.root))\n",
    "            \n",
    "    def predict_sample(self, node, sample):\n",
    "        #print(node)\n",
    "        if sample[node['feat']] < node['val']:\n",
    "            if isinstance(node['left'],dict):\n",
    "                return self.predict_sample(node['left'],sample)\n",
    "            else:\n",
    "                return node['left']\n",
    "        else:\n",
    "            if isinstance(node['right'],dict):\n",
    "                return self.predict_sample(node['right'],sample)\n",
    "            else:\n",
    "                return node['right']\n",
    "    \n",
    "    def predict(self, X_test):\n",
    "        self.y_pred = np.array([])\n",
    "        for i in X_test:\n",
    "            #print(i)\n",
    "            self.y_pred = np.append(self.y_pred,self.predict_sample(self.root,i))\n",
    "        return self.y_pred\n",
    "        "
   ]
  },
  {
   "cell_type": "markdown",
   "metadata": {},
   "source": [
    "### Test.\n",
    "\n",
    "---"
   ]
  },
  {
   "cell_type": "code",
   "execution_count": 29,
   "metadata": {
    "collapsed": true
   },
   "outputs": [],
   "source": [
    "from sklearn.model_selection import train_test_split\n",
    "\n",
    "iris = load_iris()\n",
    "X = iris.data[:,:2]\n",
    "y = iris.target\n",
    "\n",
    "X_train, X_test, y_train, y_test = train_test_split(X, y, random_state=35)"
   ]
  },
  {
   "cell_type": "code",
   "execution_count": 30,
   "metadata": {
    "collapsed": true
   },
   "outputs": [],
   "source": [
    "dt = decision_tree(max_depth=2,min_num_split=30)"
   ]
  },
  {
   "cell_type": "code",
   "execution_count": 31,
   "metadata": {
    "collapsed": true
   },
   "outputs": [],
   "source": [
    "dt.fit(X_train,y_train)\n",
    "#dt.fit(X,y)"
   ]
  },
  {
   "cell_type": "code",
   "execution_count": 32,
   "metadata": {},
   "outputs": [
    {
     "name": "stdout",
     "output_type": "stream",
     "text": [
      "CPU times: user 964 µs, sys: 933 µs, total: 1.9 ms\n",
      "Wall time: 1.25 ms\n"
     ]
    }
   ],
   "source": [
    "%%time\n",
    "my_pred = dt.predict(X_test)"
   ]
  },
  {
   "cell_type": "markdown",
   "metadata": {},
   "source": [
    "### Display tree.\n",
    "---"
   ]
  },
  {
   "cell_type": "code",
   "execution_count": 33,
   "metadata": {
    "scrolled": false
   },
   "outputs": [
    {
     "name": "stdout",
     "output_type": "stream",
     "text": [
      "[feat1 < 5.40]\n",
      "\t[feat2 < 2.70]\n",
      "\t\t[1.0]\n",
      "\t\t[0.0]\n",
      "\t[feat1 < 6.20]\n",
      "\t\t[1.0]\n",
      "\t\t[2.0]\n"
     ]
    }
   ],
   "source": [
    "dt.display_tree()"
   ]
  },
  {
   "cell_type": "markdown",
   "metadata": {},
   "source": [
    "### Compare performance\n",
    "\n",
    "---"
   ]
  },
  {
   "cell_type": "code",
   "execution_count": 34,
   "metadata": {
    "collapsed": true
   },
   "outputs": [],
   "source": [
    "from sklearn.tree import DecisionTreeClassifier\n",
    "from sklearn import tree"
   ]
  },
  {
   "cell_type": "code",
   "execution_count": 35,
   "metadata": {
    "collapsed": true
   },
   "outputs": [],
   "source": [
    "clf = DecisionTreeClassifier(max_depth=2,min_samples_split=30)"
   ]
  },
  {
   "cell_type": "code",
   "execution_count": 36,
   "metadata": {},
   "outputs": [
    {
     "data": {
      "text/plain": [
       "DecisionTreeClassifier(class_weight=None, criterion='gini', max_depth=2,\n",
       "            max_features=None, max_leaf_nodes=None,\n",
       "            min_impurity_split=1e-07, min_samples_leaf=1,\n",
       "            min_samples_split=30, min_weight_fraction_leaf=0.0,\n",
       "            presort=False, random_state=None, splitter='best')"
      ]
     },
     "execution_count": 36,
     "metadata": {},
     "output_type": "execute_result"
    }
   ],
   "source": [
    "clf.fit(X_train,y_train)"
   ]
  },
  {
   "cell_type": "code",
   "execution_count": 37,
   "metadata": {
    "collapsed": true
   },
   "outputs": [],
   "source": [
    "sk_pred = clf.predict(X_test)"
   ]
  },
  {
   "cell_type": "markdown",
   "metadata": {},
   "source": [
    "### Sample points\n",
    "\n",
    "---"
   ]
  },
  {
   "cell_type": "code",
   "execution_count": 38,
   "metadata": {
    "collapsed": true
   },
   "outputs": [],
   "source": [
    "a = X_test[:3]"
   ]
  },
  {
   "cell_type": "code",
   "execution_count": 39,
   "metadata": {},
   "outputs": [
    {
     "name": "stdout",
     "output_type": "stream",
     "text": [
      "sk_pred: [1 1 2]\n",
      "my_pred: [ 1.  1.  2.]\n",
      "true: [1 1 2]\n"
     ]
    }
   ],
   "source": [
    "print('sk_pred: {}'.format(clf.predict(a)))\n",
    "print('my_pred: {}'.format(dt.predict(a)))\n",
    "print('true: {}'.format(y_test[:3]))"
   ]
  },
  {
   "cell_type": "markdown",
   "metadata": {},
   "source": [
    "### Accuracy differences\n",
    "\n",
    "---\n",
    "\n",
    "I'm unclear how sklearn differs. Will need to look deeper"
   ]
  },
  {
   "cell_type": "code",
   "execution_count": 40,
   "metadata": {
    "collapsed": true
   },
   "outputs": [],
   "source": [
    "def accuracy(pred,true):\n",
    "    correct = 0\n",
    "    pred_len = len(pred)\n",
    "    for i in range(pred_len):\n",
    "        if pred[i] == true[i]:\n",
    "            correct += 1\n",
    "    return correct/pred_len"
   ]
  },
  {
   "cell_type": "code",
   "execution_count": 41,
   "metadata": {},
   "outputs": [
    {
     "data": {
      "text/plain": [
       "0.7631578947368421"
      ]
     },
     "execution_count": 41,
     "metadata": {},
     "output_type": "execute_result"
    }
   ],
   "source": [
    "accuracy(my_pred,y_test)"
   ]
  },
  {
   "cell_type": "code",
   "execution_count": 42,
   "metadata": {},
   "outputs": [
    {
     "data": {
      "text/plain": [
       "0.7894736842105263"
      ]
     },
     "execution_count": 42,
     "metadata": {},
     "output_type": "execute_result"
    }
   ],
   "source": [
    "accuracy(sk_pred,y_test)"
   ]
  },
  {
   "cell_type": "code",
   "execution_count": 43,
   "metadata": {},
   "outputs": [
    {
     "data": {
      "text/plain": [
       "[(1.0, 1, 1),\n",
       " (1.0, 1, 1),\n",
       " (2.0, 2, 2),\n",
       " (2.0, 2, 1),\n",
       " (0.0, 0, 0),\n",
       " (2.0, 2, 2),\n",
       " (2.0, 2, 2),\n",
       " (1.0, 1, 1),\n",
       " (1.0, 1, 1),\n",
       " (0.0, 0, 0),\n",
       " (1.0, 0, 1),\n",
       " (2.0, 2, 2),\n",
       " (0.0, 0, 0),\n",
       " (2.0, 2, 2),\n",
       " (0.0, 0, 0),\n",
       " (1.0, 1, 2),\n",
       " (1.0, 1, 1),\n",
       " (0.0, 0, 0),\n",
       " (0.0, 0, 0),\n",
       " (0.0, 0, 0),\n",
       " (2.0, 2, 1),\n",
       " (1.0, 1, 1),\n",
       " (2.0, 2, 2),\n",
       " (2.0, 2, 1),\n",
       " (0.0, 0, 0),\n",
       " (1.0, 0, 0),\n",
       " (1.0, 0, 0),\n",
       " (2.0, 2, 2),\n",
       " (0.0, 0, 0),\n",
       " (2.0, 2, 2),\n",
       " (0.0, 0, 0),\n",
       " (1.0, 1, 1),\n",
       " (1.0, 1, 2),\n",
       " (0.0, 0, 0),\n",
       " (2.0, 2, 1),\n",
       " (1.0, 1, 2),\n",
       " (0.0, 0, 0),\n",
       " (2.0, 2, 2)]"
      ]
     },
     "execution_count": 43,
     "metadata": {},
     "output_type": "execute_result"
    }
   ],
   "source": [
    "list(zip(my_pred,sk_pred,y_test))"
   ]
  },
  {
   "cell_type": "code",
   "execution_count": null,
   "metadata": {
    "collapsed": true
   },
   "outputs": [],
   "source": []
  },
  {
   "cell_type": "code",
   "execution_count": null,
   "metadata": {
    "collapsed": true
   },
   "outputs": [],
   "source": []
  },
  {
   "cell_type": "code",
   "execution_count": null,
   "metadata": {
    "collapsed": true
   },
   "outputs": [],
   "source": []
  },
  {
   "cell_type": "code",
   "execution_count": null,
   "metadata": {
    "collapsed": true
   },
   "outputs": [],
   "source": []
  }
 ],
 "metadata": {
  "kernelspec": {
   "display_name": "Python 3",
   "language": "python",
   "name": "python3"
  },
  "language_info": {
   "codemirror_mode": {
    "name": "ipython",
    "version": 3
   },
   "file_extension": ".py",
   "mimetype": "text/x-python",
   "name": "python",
   "nbconvert_exporter": "python",
   "pygments_lexer": "ipython3",
   "version": "3.6.1"
  }
 },
 "nbformat": 4,
 "nbformat_minor": 2
}
