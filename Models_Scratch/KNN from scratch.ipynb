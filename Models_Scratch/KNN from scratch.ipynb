{
 "cells": [
  {
   "cell_type": "markdown",
   "metadata": {},
   "source": [
    "# <div style=\"text-align: right\"> KNN from scratch. </div>\n",
    "\n",
    "---\n",
    "\n",
    "<div style=\"text-align: right\"> Geoff Counihan - Oct 5, 2017 </div>"
   ]
  },
  {
   "cell_type": "markdown",
   "metadata": {},
   "source": [
    "### Notes\n",
    "\n",
    "---\n",
    "\n",
    "Unclear what the difference between sklearn's implementation and mine is. I thought it was the tie behavior but that doesn't align them. \n",
    "    \n",
    "Tried scipy euclidean which was ~2x slower than numpy\n",
    "\n",
    "\n",
    "    \n",
    "__Additions__: Matrix implementation, Test cases, Weighted distance, Entropy, Predict Probability, [This?](https://www.kaggle.com/mineshjethva/knn-from-scratch-in-python-at-97-1)"
   ]
  },
  {
   "cell_type": "code",
   "execution_count": 3,
   "metadata": {
    "collapsed": true
   },
   "outputs": [],
   "source": [
    "from sklearn.datasets import load_iris"
   ]
  },
  {
   "cell_type": "code",
   "execution_count": 4,
   "metadata": {
    "collapsed": true
   },
   "outputs": [],
   "source": [
    "iris = load_iris()\n",
    "X = iris.data[:,:2]\n",
    "y = iris.target"
   ]
  },
  {
   "cell_type": "code",
   "execution_count": 5,
   "metadata": {
    "scrolled": true
   },
   "outputs": [
    {
     "ename": "NameError",
     "evalue": "name 'np' is not defined",
     "output_type": "error",
     "traceback": [
      "\u001b[0;31m---------------------------------------------------------------------------\u001b[0m",
      "\u001b[0;31mNameError\u001b[0m                                 Traceback (most recent call last)",
      "\u001b[0;32m<ipython-input-5-14a04d7d2c49>\u001b[0m in \u001b[0;36m<module>\u001b[0;34m()\u001b[0m\n\u001b[0;32m----> 1\u001b[0;31m \u001b[0mXy\u001b[0m \u001b[0;34m=\u001b[0m \u001b[0mnp\u001b[0m\u001b[0;34m.\u001b[0m\u001b[0mcolumn_stack\u001b[0m\u001b[0;34m(\u001b[0m\u001b[0;34m(\u001b[0m\u001b[0mX\u001b[0m\u001b[0;34m,\u001b[0m\u001b[0my\u001b[0m\u001b[0;34m)\u001b[0m\u001b[0;34m)\u001b[0m\u001b[0;34m\u001b[0m\u001b[0m\n\u001b[0m\u001b[1;32m      2\u001b[0m \u001b[0mXy_point\u001b[0m \u001b[0;34m=\u001b[0m \u001b[0mXy\u001b[0m\u001b[0;34m[\u001b[0m\u001b[0;34m:\u001b[0m\u001b[0;36m3\u001b[0m\u001b[0;34m]\u001b[0m\u001b[0;34m\u001b[0m\u001b[0m\n\u001b[1;32m      3\u001b[0m \u001b[0mprint\u001b[0m\u001b[0;34m(\u001b[0m\u001b[0mXy_point\u001b[0m\u001b[0;34m)\u001b[0m\u001b[0;34m\u001b[0m\u001b[0m\n",
      "\u001b[0;31mNameError\u001b[0m: name 'np' is not defined"
     ]
    }
   ],
   "source": [
    "Xy = np.column_stack((X,y))\n",
    "Xy_point = Xy[:3]\n",
    "print(Xy_point)"
   ]
  },
  {
   "cell_type": "markdown",
   "metadata": {},
   "source": [
    "### Similarity\n",
    "\n",
    "---\n",
    "\n",
    "__Numeric__ data needs a similarity metric like euclidean or manhattan. \n",
    "\n",
    "__Categorical__ data needs a similarity metric like gini or entropy"
   ]
  },
  {
   "cell_type": "code",
   "execution_count": 6,
   "metadata": {
    "collapsed": true
   },
   "outputs": [],
   "source": [
    "import numpy as np\n",
    "import operator"
   ]
  },
  {
   "cell_type": "markdown",
   "metadata": {},
   "source": [
    "__Eucledean distance__ - is defined by the square root of the sum of squared differences between two arrays of numbers. "
   ]
  },
  {
   "cell_type": "code",
   "execution_count": 13,
   "metadata": {
    "collapsed": true
   },
   "outputs": [],
   "source": [
    "def euclidean_loop(a, b):\n",
    "    dist = 0\n",
    "    for i in range(len(a)):\n",
    "        dist += np.square(a[i]-b[i])\n",
    "    return np.sqrt(dist)"
   ]
  },
  {
   "cell_type": "code",
   "execution_count": 14,
   "metadata": {
    "collapsed": true
   },
   "outputs": [],
   "source": [
    "def euclidean_matrix(a, b):\n",
    "    return np.sqrt(((a-b)**2).sum(axis=0))"
   ]
  },
  {
   "cell_type": "code",
   "execution_count": 20,
   "metadata": {
    "collapsed": true
   },
   "outputs": [],
   "source": [
    "def minkowski_matrix(a, b, p):\n",
    "    return ((np.abs(a-b)**p).sum(axis=0))**(1/p)"
   ]
  },
  {
   "cell_type": "code",
   "execution_count": 21,
   "metadata": {},
   "outputs": [
    {
     "name": "stdout",
     "output_type": "stream",
     "text": [
      "2d Distance: 4.0\n",
      "3d Distance: 2.8284271247461903\n",
      "CPU times: user 573 µs, sys: 586 µs, total: 1.16 ms\n",
      "Wall time: 1.56 ms\n"
     ]
    }
   ],
   "source": [
    "%%time\n",
    "a = np.array([0,0,0,0])\n",
    "b = np.array([2,2,2,2])\n",
    "\n",
    "distance3d = minkowski_matrix(a,b,2)\n",
    "print('2d Distance: {}'.format(distance3d))\n",
    "\n",
    "c = np.array([0,0])\n",
    "d = np.array([2,2])\n",
    "\n",
    "distance2d = minkowski_matrix(c,d,2)\n",
    "print('3d Distance: {}'.format(distance2d))"
   ]
  },
  {
   "cell_type": "code",
   "execution_count": 22,
   "metadata": {},
   "outputs": [
    {
     "name": "stdout",
     "output_type": "stream",
     "text": [
      "2d Distance: 4.0\n",
      "3d Distance: 2.8284271247461903\n",
      "CPU times: user 730 µs, sys: 505 µs, total: 1.24 ms\n",
      "Wall time: 862 µs\n"
     ]
    }
   ],
   "source": [
    "%%time\n",
    "a = np.array([0,0,0,0])\n",
    "b = np.array([2,2,2,2])\n",
    "\n",
    "distance3d = euclidean_loop(a,b)\n",
    "print('2d Distance: {}'.format(distance3d))\n",
    "\n",
    "c = np.array([0,0])\n",
    "d = np.array([2,2])\n",
    "\n",
    "distance2d = euclidean_loop(c,d)\n",
    "print('3d Distance: {}'.format(distance2d))"
   ]
  },
  {
   "cell_type": "code",
   "execution_count": 15,
   "metadata": {},
   "outputs": [
    {
     "name": "stdout",
     "output_type": "stream",
     "text": [
      "2d Distance: 4.0\n",
      "3d Distance: 2.8284271247461903\n",
      "CPU times: user 491 µs, sys: 358 µs, total: 849 µs\n",
      "Wall time: 629 µs\n"
     ]
    }
   ],
   "source": [
    "%%time\n",
    "a = np.array([0,0,0,0])\n",
    "b = np.array([2,2,2,2])\n",
    "\n",
    "distance3d = euclidean_matrix(a,b)\n",
    "print('2d Distance: {}'.format(distance3d))\n",
    "\n",
    "c = np.array([0,0])\n",
    "d = np.array([2,2])\n",
    "\n",
    "distance2d = euclidean_matrix(c,d)\n",
    "print('3d Distance: {}'.format(distance2d))"
   ]
  },
  {
   "cell_type": "code",
   "execution_count": null,
   "metadata": {
    "collapsed": true
   },
   "outputs": [],
   "source": []
  },
  {
   "cell_type": "markdown",
   "metadata": {},
   "source": [
    "__Manhattan distance__ - defined by only walking along axes of data from one point to another"
   ]
  },
  {
   "cell_type": "code",
   "execution_count": 25,
   "metadata": {
    "collapsed": true
   },
   "outputs": [],
   "source": [
    "def manhattan(a, b):\n",
    "    dist = 0\n",
    "    for i in range(len(a)):\n",
    "        dist += np.abs(a[i]-b[i])\n",
    "    return dist"
   ]
  },
  {
   "cell_type": "code",
   "execution_count": 23,
   "metadata": {},
   "outputs": [
    {
     "name": "stdout",
     "output_type": "stream",
     "text": [
      "2d Distance: 8.0\n",
      "3d Distance: 4.0\n",
      "CPU times: user 567 µs, sys: 560 µs, total: 1.13 ms\n",
      "Wall time: 639 µs\n"
     ]
    }
   ],
   "source": [
    "%%time\n",
    "a = np.array([0,0,0,0])\n",
    "b = np.array([2,2,2,2])\n",
    "\n",
    "distance3d = minkowski_matrix(a,b,1)\n",
    "print('2d Distance: {}'.format(distance3d))\n",
    "\n",
    "c = np.array([0,0])\n",
    "d = np.array([2,2])\n",
    "\n",
    "distance2d = minkowski_matrix(c,d,1)\n",
    "print('3d Distance: {}'.format(distance2d))"
   ]
  },
  {
   "cell_type": "code",
   "execution_count": 26,
   "metadata": {},
   "outputs": [
    {
     "name": "stdout",
     "output_type": "stream",
     "text": [
      "2d Distance: 8\n",
      "3d Distance: 4\n"
     ]
    }
   ],
   "source": [
    "a = np.array([0,0,0,0])\n",
    "b = np.array([2,2,2,2])\n",
    "\n",
    "distance3d = manhattan(a,b)\n",
    "print('2d Distance: {}'.format(distance3d))\n",
    "\n",
    "c = np.array([0,0])\n",
    "d = np.array([2,2])\n",
    "\n",
    "distance2d = manhattan(c,d)\n",
    "print('3d Distance: {}'.format(distance2d))"
   ]
  },
  {
   "cell_type": "markdown",
   "metadata": {},
   "source": [
    "### Other components\n",
    "\n",
    "---\n",
    "\n",
    "__Find neighbors__ - finds the k closest samples to the new sample"
   ]
  },
  {
   "cell_type": "code",
   "execution_count": 665,
   "metadata": {
    "collapsed": true
   },
   "outputs": [],
   "source": [
    "def find_neighbors(Xy, new_sample, k):\n",
    "    distances = []\n",
    "    neighbors = []\n",
    "    dim = len(new_sample)\n",
    "    for i in range(len(Xy)):\n",
    "        distance = euclidean(Xy[i], new_sample)\n",
    "        distances.append((Xy[i],distance))\n",
    "    distances = sorted(distances,key=operator.itemgetter(1))\n",
    "    #print(distances)\n",
    "    for i in range(k):\n",
    "        #print(distances[i])\n",
    "        neighbors.append(distances[i][0])\n",
    "    return neighbors"
   ]
  },
  {
   "cell_type": "code",
   "execution_count": 666,
   "metadata": {},
   "outputs": [
    {
     "name": "stdout",
     "output_type": "stream",
     "text": [
      "[([5, 5, 5], 0.0), ([4, 4, 4], 1.7320508075688772), ([3, 3, 3], 3.4641016151377544), ([2, 2, 2], 5.196152422706632)]\n",
      "([5, 5, 5], 0.0)\n",
      "([4, 4, 4], 1.7320508075688772)\n",
      "[[5, 5, 5], [4, 4, 4]]\n"
     ]
    }
   ],
   "source": [
    "# Xy = np.column_stack((X,y))\n",
    "# Xy_point = Xy[0]\n",
    "# print(Xy_point)\n",
    "\n",
    "Xy = [[2, 2, 2], [4, 4, 4], [3, 3, 3], [5, 5, 5]]\n",
    "new_sample = [5, 5, 5]\n",
    "\n",
    "#new_sample = Xy_point\n",
    "\n",
    "k = 2\n",
    "neighbors = find_neighbors(Xy, new_sample, k)\n",
    "print(neighbors)"
   ]
  },
  {
   "cell_type": "markdown",
   "metadata": {},
   "source": [
    "__Majority vote__ - calculate the majority class within a set of points. What to do about a tie?"
   ]
  },
  {
   "cell_type": "code",
   "execution_count": 118,
   "metadata": {
    "collapsed": true
   },
   "outputs": [],
   "source": [
    "def majority_vote(neighbors):\n",
    "    class_votes = {}\n",
    "    for x in range(len(neighbors)):\n",
    "        sample_class = neighbors[x][-1]\n",
    "        if sample_class in class_votes:\n",
    "            class_votes[sample_class] += 1\n",
    "        else:\n",
    "            class_votes[sample_class] =1\n",
    "    sorted_votes = sorted(class_votes.items())\n",
    "    print(sorted_votes)\n",
    "    return sorted_votes[0][0]"
   ]
  },
  {
   "cell_type": "code",
   "execution_count": 774,
   "metadata": {},
   "outputs": [
    {
     "name": "stdout",
     "output_type": "stream",
     "text": [
      "[('a', 2), ('b', 1), ('c', 2)]\n",
      "a\n"
     ]
    }
   ],
   "source": [
    "neighbors = [[1,1,1,'a'], [2,2,2,'a'], [3,3,3,'b'], [4,4,4,'c'], [5,5,5,'c']]\n",
    "response = majority_vote(neighbors)\n",
    "print(response)\n"
   ]
  },
  {
   "cell_type": "markdown",
   "metadata": {},
   "source": [
    "### Create class.\n",
    "\n",
    "---\n",
    "\n",
    "__Tie__ - Added to modify behavior when there is a tie for majority class"
   ]
  },
  {
   "cell_type": "code",
   "execution_count": 1196,
   "metadata": {
    "collapsed": true
   },
   "outputs": [],
   "source": [
    "class k_nearest_neighbors(object):\n",
    "    def __init__(self,k=5,metric='euclidean',ties=True):\n",
    "        '''K nearest neighbors model. Detemine an unknown sample with a\n",
    "        majority vote of most similar known samples.\n",
    "        \n",
    "        k = number of neighbors to use\n",
    "        metric = similarity measure\n",
    "            'euclidean' is defined by the square root of the sum of squared differences between two arrays of numbers. \n",
    "            'manhattan' is defined by the sum of the absolute distance between two arrays of numbers.\n",
    "        ties = in the case of a majority tie, winner goes to the most frequently occuring class\n",
    "        \n",
    "        '''\n",
    "        self.k = k\n",
    "        self.metric = metric\n",
    "        self.ties = ties\n",
    "        \n",
    "    def minkowski_matrix(self, a, b, p):\n",
    "        return ((np.abs(a-b)**p).sum(axis=0))**(1/p)\n",
    "\n",
    "    def euclidean(self, a, b):\n",
    "        dist = 0\n",
    "        for i in range(len(a)):\n",
    "            dist += np.square(a[i]-b[i])\n",
    "        return np.sqrt(dist)\n",
    "    \n",
    "    def manhattan(self, a, b):\n",
    "        dist = 0\n",
    "        for i in range(len(a)):\n",
    "            dist += np.abs(a[i]-b[i])\n",
    "        return dist\n",
    "    \n",
    "    def find_neighbors(self, new_sample):\n",
    "        '''List the k neighbors closest to the new sample.\n",
    "        \n",
    "        '''\n",
    "        distances = []      \n",
    "        for i in range(len(self.X)):\n",
    "            if self.metric == 'euclidean':  \n",
    "                distance = self.euclidean(self.X[i], new_sample)\n",
    "            if self.metric == 'manhattan':\n",
    "                distance = self.manhattan(self.X[i], new_sample)\n",
    "            distances.append((self.y[i],distance))\n",
    "        distances = sorted(distances,key=operator.itemgetter(1))\n",
    "        \n",
    "        neighbors = []\n",
    "        for i in range(self.k):\n",
    "            neighbors.append(distances[i][0])\n",
    "        return neighbors\n",
    "    \n",
    "    def majority_vote(self, neighbors):\n",
    "        '''Determine majority class from the set of neighbors.\n",
    "        \n",
    "        '''\n",
    "        class_votes = {}\n",
    "        for i in range(len(neighbors)):\n",
    "            sample_class = neighbors[i]\n",
    "            if sample_class in class_votes:\n",
    "                class_votes[sample_class] += 1\n",
    "            else:\n",
    "                class_votes[sample_class] = 1\n",
    "        sorted_votes = sorted(class_votes.items())\n",
    "        if self.ties:\n",
    "            sorted_votes = self.tie(sorted_votes)\n",
    "        return sorted_votes[0][0]\n",
    "    \n",
    "#          addition to inspect how often there are ties in counts\n",
    "    def tie(self,sorted_votes):\n",
    "        '''Determine when ties occur in the the neighbors. Of the tied classes,\n",
    "        choose the class most frequent in the training data.\n",
    "        \n",
    "        Print out number of ties.\n",
    "        '''\n",
    "        tie = {}\n",
    "        for pair in sorted_votes:\n",
    "            count = pair[1]\n",
    "            if count in tie:\n",
    "                self.tie_count += 1\n",
    "                #print('tie')\n",
    "                tie[count].append(pair[0])\n",
    "            else:\n",
    "                tie[count] = [pair[0]]\n",
    "            #print(tie)\n",
    "        tie_class_frequency = {}\n",
    "        if len(tie[count]) > 1:\n",
    "            #print('tie')\n",
    "            for tie_class in tie[count]:\n",
    "                tie_class_frequency[tie_class] = np.count_nonzero(self.y == tie_class)\n",
    "            max_class = max(tie_class_frequency, key=tie_class_frequency.get)\n",
    "            #print(max_class)\n",
    "            sorted_votes = [(max_class,1)]\n",
    "        return sorted_votes\n",
    "\n",
    "    def fit(self,X,y):\n",
    "        '''Save training data.\n",
    "        \n",
    "        '''\n",
    "        self.X = X\n",
    "        self.y = y\n",
    "        self.Xy = np.column_stack((X, y))\n",
    "        \n",
    "    def predict(self, X_test):\n",
    "        '''Predict class for each value in array of new samples.\n",
    "        \n",
    "        '''\n",
    "        self.tie_count = 0\n",
    "        y_pred = []\n",
    "        for i in range(len(X_test)):\n",
    "            neighbors = self.find_neighbors(X_test[i])\n",
    "            pred_class = self.majority_vote(neighbors)\n",
    "            y_pred.append(pred_class)\n",
    "        if self.ties:\n",
    "            print('{} ties'.format(self.tie_count))\n",
    "        return y_pred\n",
    "    "
   ]
  },
  {
   "cell_type": "markdown",
   "metadata": {},
   "source": [
    "### Test.\n",
    "\n",
    "---"
   ]
  },
  {
   "cell_type": "code",
   "execution_count": 1155,
   "metadata": {
    "collapsed": true
   },
   "outputs": [],
   "source": [
    "from sklearn.model_selection import train_test_split\n",
    "\n",
    "iris = load_iris()\n",
    "X = iris.data[:,:2]\n",
    "y = iris.target\n",
    "\n",
    "X_train, X_test, y_train, y_test = train_test_split(X, y, random_state=35)"
   ]
  },
  {
   "cell_type": "code",
   "execution_count": 1194,
   "metadata": {
    "collapsed": true
   },
   "outputs": [],
   "source": [
    "knn = k_nearest_neighbors(k=2,ties=True)#,metric='euclidean')\n",
    "#knn = k_nearest_neighbors(k=10,metric='manhattan')\n",
    "knn.fit(X_train,y_train)"
   ]
  },
  {
   "cell_type": "code",
   "execution_count": 1195,
   "metadata": {},
   "outputs": [
    {
     "name": "stdout",
     "output_type": "stream",
     "text": [
      "11 ties\n",
      "CPU times: user 42.3 ms, sys: 1.55 ms, total: 43.9 ms\n",
      "Wall time: 43.5 ms\n"
     ]
    }
   ],
   "source": [
    "%%time\n",
    "my_pred = knn.predict(X_test)"
   ]
  },
  {
   "cell_type": "markdown",
   "metadata": {},
   "source": [
    "### Compare performance\n",
    "\n",
    "---"
   ]
  },
  {
   "cell_type": "code",
   "execution_count": 1185,
   "metadata": {
    "collapsed": true
   },
   "outputs": [],
   "source": [
    "from sklearn.neighbors import KNeighborsClassifier, KNeighborsRegressor"
   ]
  },
  {
   "cell_type": "code",
   "execution_count": 1186,
   "metadata": {},
   "outputs": [
    {
     "data": {
      "text/plain": [
       "KNeighborsClassifier(algorithm='brute', leaf_size=30, metric='minkowski',\n",
       "           metric_params=None, n_jobs=1, n_neighbors=2, p=2,\n",
       "           weights='uniform')"
      ]
     },
     "execution_count": 1186,
     "metadata": {},
     "output_type": "execute_result"
    }
   ],
   "source": [
    "sklearn_knn = KNeighborsClassifier(n_neighbors=2,algorithm='brute')\n",
    "sklearn_knn.fit(X_train,y_train)"
   ]
  },
  {
   "cell_type": "code",
   "execution_count": 1187,
   "metadata": {},
   "outputs": [
    {
     "name": "stdout",
     "output_type": "stream",
     "text": [
      "CPU times: user 1.18 ms, sys: 835 µs, total: 2.02 ms\n",
      "Wall time: 1.26 ms\n"
     ]
    }
   ],
   "source": [
    "%%time\n",
    "sk_pred = sklearn_knn.predict(X_test)"
   ]
  },
  {
   "cell_type": "markdown",
   "metadata": {},
   "source": [
    "### Sample points\n",
    "\n",
    "---"
   ]
  },
  {
   "cell_type": "code",
   "execution_count": 1188,
   "metadata": {
    "collapsed": true
   },
   "outputs": [],
   "source": [
    "a = X_test[:3]"
   ]
  },
  {
   "cell_type": "code",
   "execution_count": 1189,
   "metadata": {},
   "outputs": [
    {
     "name": "stdout",
     "output_type": "stream",
     "text": [
      "sk_pred: [1 2 2]\n",
      "1 ties\n",
      "my_pred: [1, 2, 1]\n",
      "true: [1 1 2]\n"
     ]
    }
   ],
   "source": [
    "print('sk_pred: {}'.format(sklearn_knn.predict(a)))\n",
    "print('my_pred: {}'.format(knn.predict(a)))\n",
    "print('true: {}'.format(y_test[:3]))"
   ]
  },
  {
   "cell_type": "markdown",
   "metadata": {},
   "source": [
    "### Accuracy differences\n",
    "\n",
    "---\n",
    "\n",
    "I'm unclear how sklearn differs. Will need to look deeper."
   ]
  },
  {
   "cell_type": "code",
   "execution_count": 1190,
   "metadata": {
    "collapsed": true
   },
   "outputs": [],
   "source": [
    "def accuracy(pred,true):\n",
    "    correct = 0\n",
    "    pred_len = len(pred)\n",
    "    for i in range(pred_len):\n",
    "        if pred[i] == true[i]:\n",
    "            correct += 1\n",
    "    return correct/pred_len"
   ]
  },
  {
   "cell_type": "code",
   "execution_count": 1191,
   "metadata": {},
   "outputs": [
    {
     "data": {
      "text/plain": [
       "0.7105263157894737"
      ]
     },
     "execution_count": 1191,
     "metadata": {},
     "output_type": "execute_result"
    }
   ],
   "source": [
    "accuracy(my_pred,y_test)"
   ]
  },
  {
   "cell_type": "code",
   "execution_count": 1192,
   "metadata": {},
   "outputs": [
    {
     "data": {
      "text/plain": [
       "0.7894736842105263"
      ]
     },
     "execution_count": 1192,
     "metadata": {},
     "output_type": "execute_result"
    }
   ],
   "source": [
    "accuracy(sk_pred,y_test)"
   ]
  },
  {
   "cell_type": "code",
   "execution_count": 1193,
   "metadata": {},
   "outputs": [
    {
     "data": {
      "text/plain": [
       "[(1, 1, 1),\n",
       " (2, 2, 1),\n",
       " (1, 2, 2),\n",
       " (1, 1, 1),\n",
       " (0, 0, 0),\n",
       " (2, 2, 2),\n",
       " (1, 1, 2),\n",
       " (1, 1, 1),\n",
       " (1, 1, 1),\n",
       " (0, 0, 0),\n",
       " (1, 1, 1),\n",
       " (1, 1, 2),\n",
       " (0, 0, 0),\n",
       " (1, 1, 2),\n",
       " (0, 0, 0),\n",
       " (1, 1, 2),\n",
       " (1, 1, 1),\n",
       " (0, 0, 0),\n",
       " (0, 0, 0),\n",
       " (0, 0, 0),\n",
       " (1, 1, 1),\n",
       " (2, 1, 1),\n",
       " (1, 1, 2),\n",
       " (1, 1, 1),\n",
       " (0, 0, 0),\n",
       " (0, 0, 0),\n",
       " (0, 0, 0),\n",
       " (2, 2, 2),\n",
       " (0, 0, 0),\n",
       " (2, 2, 2),\n",
       " (0, 0, 0),\n",
       " (1, 1, 1),\n",
       " (1, 1, 2),\n",
       " (0, 0, 0),\n",
       " (2, 1, 1),\n",
       " (1, 1, 2),\n",
       " (0, 0, 0),\n",
       " (2, 2, 2)]"
      ]
     },
     "execution_count": 1193,
     "metadata": {},
     "output_type": "execute_result"
    }
   ],
   "source": [
    "list(zip(my_pred,sk_pred,y_test))"
   ]
  }
 ],
 "metadata": {
  "kernelspec": {
   "display_name": "Python 3",
   "language": "python",
   "name": "python3"
  },
  "language_info": {
   "codemirror_mode": {
    "name": "ipython",
    "version": 3
   },
   "file_extension": ".py",
   "mimetype": "text/x-python",
   "name": "python",
   "nbconvert_exporter": "python",
   "pygments_lexer": "ipython3",
   "version": "3.6.1"
  }
 },
 "nbformat": 4,
 "nbformat_minor": 2
}
