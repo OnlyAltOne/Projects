{
 "cells": [
  {
   "cell_type": "markdown",
   "metadata": {},
   "source": [
    "# Dogs vs Cat Redux\n",
    "\n",
    "---\n",
    "\n",
    "Notebook to prototype different architectures rapidly. Using sample dataset."
   ]
  },
  {
   "cell_type": "code",
   "execution_count": 1,
   "metadata": {},
   "outputs": [
    {
     "name": "stderr",
     "output_type": "stream",
     "text": [
      "Using cuDNN version 5005 on context None\n",
      "Mapped name None to device cuda: GeForce GTX 1060 6GB (0000:04:00.0)\n",
      "Using Theano backend.\n"
     ]
    }
   ],
   "source": [
    "from utils import *\n",
    "from vgg16 import Vgg16\n",
    "from keras.callbacks import ModelCheckpoint\n",
    "from keras.initializers import he_normal\n",
    "%matplotlib inline"
   ]
  },
  {
   "cell_type": "code",
   "execution_count": 2,
   "metadata": {},
   "outputs": [
    {
     "name": "stdout",
     "output_type": "stream",
     "text": [
      "Downloading data from https://github.com/fchollet/deep-learning-models/releases/download/v0.2/resnet50_weights_tf_dim_ordering_tf_kernels.h5\n",
      "102801408/102853048 [============================>.] - ETA: 0s"
     ]
    }
   ],
   "source": [
    "resnet = keras.applications.resnet50.ResNet50(include_top=True, weights='imagenet', input_tensor=None, input_shape=None, pooling=None, classes=1000)\n"
   ]
  },
  {
   "cell_type": "markdown",
   "metadata": {
    "collapsed": true
   },
   "source": [
    "Plan:\n",
    "\n",
    "1. create decent size sample to work through ideas quickly\n",
    "2. __once a good approach is found automate it for full dataset__\n",
    "3. submit to kaggle at least 20 times"
   ]
  },
  {
   "cell_type": "markdown",
   "metadata": {},
   "source": [
    "---\n",
    "\n",
    "Prototyping:\n",
    "\n",
    "    Batchnorm\n",
    "    Data augmentation\n",
    "    Try multiple levels of vgg conv layers\n",
    "    An ensemble - in next notebook\n",
    "    \n",
    "After finding in proto4 that he_normalization is excellent, I neglected to add it to any of the other models I made... This needs to be added"
   ]
  },
  {
   "cell_type": "code",
   "execution_count": 9,
   "metadata": {
    "collapsed": true
   },
   "outputs": [],
   "source": [
    "def resnet():\n",
    "    return keras.applications.resnet50.ResNet50(include_top=True, weights='imagenet')"
   ]
  },
  {
   "cell_type": "code",
   "execution_count": 10,
   "metadata": {
    "collapsed": true
   },
   "outputs": [],
   "source": [
    "res = resnet()"
   ]
  },
  {
   "cell_type": "code",
   "execution_count": 16,
   "metadata": {},
   "outputs": [],
   "source": [
    "for layer in res.layers:\n",
    "    layer.get_config()"
   ]
  },
  {
   "cell_type": "code",
   "execution_count": 4,
   "metadata": {
    "collapsed": true
   },
   "outputs": [],
   "source": [
    "def frozen_resnet():\n",
    "    model = resnet()\n",
    "    vggbn = vggbn.model\n",
    "    for layer in vggbn.layers:\n",
    "        layer.trainable = False\n",
    "    return vggbn"
   ]
  },
  {
   "cell_type": "code",
   "execution_count": 5,
   "metadata": {
    "collapsed": true
   },
   "outputs": [],
   "source": [
    "def frozen_vggbn():\n",
    "    vggbn = Vgg16BN()\n",
    "    vggbn = vggbn.model\n",
    "    for layer in vggbn.layers:\n",
    "        layer.trainable = False\n",
    "    return vggbn"
   ]
  },
  {
   "cell_type": "code",
   "execution_count": 6,
   "metadata": {},
   "outputs": [],
   "source": [
    "vgg = frozen_vggbn()"
   ]
  },
  {
   "cell_type": "code",
   "execution_count": 8,
   "metadata": {},
   "outputs": [
    {
     "data": {
      "text/plain": [
       "(None, 3, 224, 224)"
      ]
     },
     "execution_count": 8,
     "metadata": {},
     "output_type": "execute_result"
    }
   ],
   "source": [
    "vgg.input_shape"
   ]
  },
  {
   "cell_type": "code",
   "execution_count": null,
   "metadata": {
    "collapsed": true
   },
   "outputs": [],
   "source": [
    "res = frozen_resnet()"
   ]
  },
  {
   "cell_type": "code",
   "execution_count": null,
   "metadata": {
    "collapsed": true
   },
   "outputs": [],
   "source": []
  },
  {
   "cell_type": "markdown",
   "metadata": {},
   "source": [
    "Confirm last layer is trainiable"
   ]
  },
  {
   "cell_type": "code",
   "execution_count": 38,
   "metadata": {},
   "outputs": [
    {
     "data": {
      "text/plain": [
       "[{'activation': 'softmax',\n",
       "  'activity_regularizer': None,\n",
       "  'bias_constraint': None,\n",
       "  'bias_initializer': {'class_name': 'Zeros', 'config': {}},\n",
       "  'bias_regularizer': None,\n",
       "  'kernel_constraint': None,\n",
       "  'kernel_initializer': {'class_name': 'VarianceScaling',\n",
       "   'config': {'distribution': 'uniform',\n",
       "    'mode': 'fan_avg',\n",
       "    'scale': 1.0,\n",
       "    'seed': None}},\n",
       "  'kernel_regularizer': None,\n",
       "  'name': 'dense_16',\n",
       "  'trainable': True,\n",
       "  'units': 2,\n",
       "  'use_bias': True}]"
      ]
     },
     "execution_count": 38,
     "metadata": {},
     "output_type": "execute_result"
    }
   ],
   "source": [
    "[layer.get_config() for layer in  vggbn.layers][-1:]"
   ]
  },
  {
   "cell_type": "code",
   "execution_count": 3,
   "metadata": {
    "collapsed": true
   },
   "outputs": [],
   "source": [
    "batch_size=32 #32 - kept running out of mem on proto6"
   ]
  },
  {
   "cell_type": "code",
   "execution_count": 4,
   "metadata": {
    "collapsed": true
   },
   "outputs": [],
   "source": [
    "aug_gen = image.ImageDataGenerator(\n",
    "    channel_shift_range=10,\n",
    "    zoom_range=0.05,\n",
    "    rotation_range=5,\n",
    "    width_shift_range=0.05,\n",
    "    height_shift_range=0.05,\n",
    "    horizontal_flip=True)"
   ]
  },
  {
   "cell_type": "markdown",
   "metadata": {},
   "source": [
    "---\n",
    "\n",
    "Set up data batches. Used both for prototyping but found that augmented is always results in better performance. "
   ]
  },
  {
   "cell_type": "code",
   "execution_count": 5,
   "metadata": {},
   "outputs": [
    {
     "name": "stdout",
     "output_type": "stream",
     "text": [
      "Found 2000 images belonging to 2 classes.\n",
      "Found 2000 images belonging to 2 classes.\n",
      "Found 1000 images belonging to 2 classes.\n"
     ]
    }
   ],
   "source": [
    "train_batches = get_batches('../../dogscats/lrg_sample/train/',batch_size=batch_size)\n",
    "aug_train_batches = aug_gen.flow_from_directory(directory='../../dogscats/lrg_sample/train/',batch_size=batch_size,shuffle=True,target_size=(224,224))\n",
    "val_batches = get_batches('../../dogscats/lrg_sample/valid/',batch_size=batch_size*2)\n",
    "\n",
    "train_steps = train_batches.samples//train_batches.batch_size\n",
    "aug_train_steps = aug_train_batches.samples//aug_train_batches.batch_size\n",
    "val_steps = val_batches.samples//val_batches.batch_size"
   ]
  },
  {
   "cell_type": "code",
   "execution_count": 6,
   "metadata": {
    "collapsed": true
   },
   "outputs": [],
   "source": [
    "results_path = '../../dogscats/lrg_sample/results/'\n",
    "model_path = '../../dogscats/lrg_sample/models/'"
   ]
  },
  {
   "cell_type": "markdown",
   "metadata": {},
   "source": [
    "---\n",
    "Prototype 4.\n",
    "\n",
    "Simple finetune model with he_normal intialization"
   ]
  },
  {
   "cell_type": "code",
   "execution_count": 15,
   "metadata": {
    "collapsed": true
   },
   "outputs": [],
   "source": [
    "cb = [ModelCheckpoint(model_path+'proto4', monitor='val_loss', save_best_only=True, save_weights_only=False)]\n"
   ]
  },
  {
   "cell_type": "code",
   "execution_count": 56,
   "metadata": {
    "collapsed": true
   },
   "outputs": [],
   "source": [
    "vggbn = frozen_vggbn()\n",
    "vggbn.add(Dense(2,activation='softmax',kernel_initializer='he_normal'))"
   ]
  },
  {
   "cell_type": "code",
   "execution_count": 17,
   "metadata": {},
   "outputs": [
    {
     "name": "stdout",
     "output_type": "stream",
     "text": [
      "Epoch 1/10\n",
      "62/62 [==============================] - 40s - loss: 0.3487 - acc: 0.9173 - val_loss: 0.0848 - val_acc: 0.9722\n",
      "Epoch 2/10\n",
      "62/62 [==============================] - 33s - loss: 0.2278 - acc: 0.9526 - val_loss: 0.0937 - val_acc: 0.9754\n",
      "Epoch 3/10\n",
      "62/62 [==============================] - 33s - loss: 0.1789 - acc: 0.9607 - val_loss: 0.0908 - val_acc: 0.9722\n",
      "Epoch 4/10\n",
      "62/62 [==============================] - 32s - loss: 0.1867 - acc: 0.9652 - val_loss: 0.0955 - val_acc: 0.9722\n",
      "Epoch 5/10\n",
      "62/62 [==============================] - 36s - loss: 0.2070 - acc: 0.9632 - val_loss: 0.0571 - val_acc: 0.9850\n",
      "Epoch 6/10\n",
      "62/62 [==============================] - 33s - loss: 0.1990 - acc: 0.9612 - val_loss: 0.0810 - val_acc: 0.9786\n",
      "Epoch 7/10\n",
      "62/62 [==============================] - 32s - loss: 0.1742 - acc: 0.9657 - val_loss: 0.1061 - val_acc: 0.9701\n",
      "Epoch 8/10\n",
      "62/62 [==============================] - 33s - loss: 0.1503 - acc: 0.9723 - val_loss: 0.0979 - val_acc: 0.9792\n",
      "Epoch 9/10\n",
      "62/62 [==============================] - 32s - loss: 0.1902 - acc: 0.9657 - val_loss: 0.1002 - val_acc: 0.9797\n",
      "Epoch 10/10\n",
      "62/62 [==============================] - 33s - loss: 0.2378 - acc: 0.9637 - val_loss: 0.0600 - val_acc: 0.9840\n"
     ]
    }
   ],
   "source": [
    "opt = Adam(lr=.001)\n",
    "\n",
    "vggbn.compile(optimizer=opt,loss='categorical_crossentropy',metrics=['accuracy'])\n",
    "\n",
    "proto4 = vggbn.fit_generator(aug_train_batches,\n",
    "                    aug_train_steps,\n",
    "                    epochs=10,\n",
    "                    callbacks=cb,\n",
    "                    validation_data=val_batches,\n",
    "                    validation_steps=val_steps)"
   ]
  },
  {
   "cell_type": "code",
   "execution_count": 57,
   "metadata": {},
   "outputs": [
    {
     "name": "stdout",
     "output_type": "stream",
     "text": [
      "Found 12500 images belonging to 1 classes.\n",
      "Raw Predictions: [  1.0000e+00   2.1217e-08   1.0000e+00   1.0000e+00   1.0000e+00]\n",
      "Mid Predictions: [ 0.5409  0.5071  0.5398  0.4203  0.4167  0.5239  0.4462  0.4727  0.4285  0.4695  0.5042  0.4594\n",
      "  0.4743  0.4302  0.5321  0.5339  0.4672  0.4052  0.4326  0.5794  0.4618  0.4403  0.4074  0.4703\n",
      "  0.4544  0.4102  0.5624  0.576   0.4969  0.4922  0.4198  0.4587  0.5256  0.4896  0.4264  0.5851\n",
      "  0.5363  0.5439  0.4562  0.4993  0.5351  0.5362  0.4362  0.5609]\n",
      "Edge Predictions: [ 1.  1.  1. ...,  1.  1.  1.]\n",
      "/home/xbno/anaconda3/courses/dogscats/submissions\n"
     ]
    }
   ],
   "source": [
    "vggbn.load_weights('../../dogscats/lrg_sample/models/proto4')\n",
    "save_sub(vggbn,'vggbn_proto4.csv')"
   ]
  },
  {
   "cell_type": "code",
   "execution_count": 7,
   "metadata": {
    "collapsed": true
   },
   "outputs": [],
   "source": [
    "def half_frozen_vggbn(depth):\n",
    "    '''Transfer learning from vggbn to a frozen model based on given depth.\n",
    "    \n",
    "    '''\n",
    "    \n",
    "    vggbn = Vgg16BN()\n",
    "    vggbn = vggbn.model\n",
    "    vggbn.pop()\n",
    "    for layer in vggbn.layers[:depth]:\n",
    "        #print('Freezing {}'.format(layer.name))\n",
    "        layer.trainable = False\n",
    "    for layer in vggbn.layers[depth:]:\n",
    "        if 'dense' in layer.name:\n",
    "            #print('Changing {} to he_normal initilizer'.format(layer.name))\n",
    "            layer.kernel_initializer = he_normal()\n",
    "    return vggbn"
   ]
  },
  {
   "cell_type": "markdown",
   "metadata": {},
   "source": [
    "---\n",
    "Prototype 5.\n",
    "\n",
    "Free up last 3 conv layers and both fc layers of vgg. Add finetune layer"
   ]
  },
  {
   "cell_type": "code",
   "execution_count": 7,
   "metadata": {
    "collapsed": true
   },
   "outputs": [],
   "source": [
    "cb = [ModelCheckpoint(model_path+'proto5', monitor='val_loss', save_best_only=True, save_weights_only=False, verbose=True)]\n"
   ]
  },
  {
   "cell_type": "code",
   "execution_count": 9,
   "metadata": {},
   "outputs": [
    {
     "name": "stdout",
     "output_type": "stream",
     "text": [
      "Changing conv2d_11 to he_normal initilizer\n",
      "Changing conv2d_12 to he_normal initilizer\n",
      "Changing conv2d_13 to he_normal initilizer\n",
      "Changing dense_1 to he_normal initilizer\n",
      "Changing dense_2 to he_normal initilizer\n"
     ]
    }
   ],
   "source": [
    "vggbn = half_frozen_vggbn(-14)\n",
    "vggbn.add(Dense(2,activation='softmax',kernel_initializer='he_normal'))\n",
    "opt = Adam(lr=.001)\n",
    "vggbn.compile(optimizer=opt,loss='categorical_crossentropy',metrics=['accuracy'])"
   ]
  },
  {
   "cell_type": "code",
   "execution_count": 13,
   "metadata": {
    "scrolled": true
   },
   "outputs": [
    {
     "data": {
      "text/plain": [
       "[{'activation': 'relu',\n",
       "  'activity_regularizer': None,\n",
       "  'bias_constraint': None,\n",
       "  'bias_initializer': {'class_name': 'Zeros', 'config': {}},\n",
       "  'bias_regularizer': None,\n",
       "  'data_format': 'channels_first',\n",
       "  'dilation_rate': (1, 1),\n",
       "  'filters': 512,\n",
       "  'kernel_constraint': None,\n",
       "  'kernel_initializer': {'class_name': 'VarianceScaling',\n",
       "   'config': {'distribution': 'normal',\n",
       "    'mode': 'fan_in',\n",
       "    'scale': 2.0,\n",
       "    'seed': None}},\n",
       "  'kernel_regularizer': None,\n",
       "  'kernel_size': (3, 3),\n",
       "  'name': 'conv2d_24',\n",
       "  'padding': 'valid',\n",
       "  'strides': (1, 1),\n",
       "  'trainable': True,\n",
       "  'use_bias': True},\n",
       " {'data_format': 'channels_first',\n",
       "  'name': 'zero_padding2d_25',\n",
       "  'padding': ((1, 1), (1, 1)),\n",
       "  'trainable': True},\n",
       " {'activation': 'relu',\n",
       "  'activity_regularizer': None,\n",
       "  'bias_constraint': None,\n",
       "  'bias_initializer': {'class_name': 'Zeros', 'config': {}},\n",
       "  'bias_regularizer': None,\n",
       "  'data_format': 'channels_first',\n",
       "  'dilation_rate': (1, 1),\n",
       "  'filters': 512,\n",
       "  'kernel_constraint': None,\n",
       "  'kernel_initializer': {'class_name': 'VarianceScaling',\n",
       "   'config': {'distribution': 'normal',\n",
       "    'mode': 'fan_in',\n",
       "    'scale': 2.0,\n",
       "    'seed': None}},\n",
       "  'kernel_regularizer': None,\n",
       "  'kernel_size': (3, 3),\n",
       "  'name': 'conv2d_25',\n",
       "  'padding': 'valid',\n",
       "  'strides': (1, 1),\n",
       "  'trainable': True,\n",
       "  'use_bias': True},\n",
       " {'data_format': 'channels_first',\n",
       "  'name': 'zero_padding2d_26',\n",
       "  'padding': ((1, 1), (1, 1)),\n",
       "  'trainable': True},\n",
       " {'activation': 'relu',\n",
       "  'activity_regularizer': None,\n",
       "  'bias_constraint': None,\n",
       "  'bias_initializer': {'class_name': 'Zeros', 'config': {}},\n",
       "  'bias_regularizer': None,\n",
       "  'data_format': 'channels_first',\n",
       "  'dilation_rate': (1, 1),\n",
       "  'filters': 512,\n",
       "  'kernel_constraint': None,\n",
       "  'kernel_initializer': {'class_name': 'VarianceScaling',\n",
       "   'config': {'distribution': 'normal',\n",
       "    'mode': 'fan_in',\n",
       "    'scale': 2.0,\n",
       "    'seed': None}},\n",
       "  'kernel_regularizer': None,\n",
       "  'kernel_size': (3, 3),\n",
       "  'name': 'conv2d_26',\n",
       "  'padding': 'valid',\n",
       "  'strides': (1, 1),\n",
       "  'trainable': True,\n",
       "  'use_bias': True},\n",
       " {'data_format': 'channels_first',\n",
       "  'name': 'max_pooling2d_10',\n",
       "  'padding': 'valid',\n",
       "  'pool_size': (2, 2),\n",
       "  'strides': (2, 2),\n",
       "  'trainable': True},\n",
       " {'name': 'flatten_2', 'trainable': True},\n",
       " {'activation': 'relu',\n",
       "  'activity_regularizer': None,\n",
       "  'bias_constraint': None,\n",
       "  'bias_initializer': {'class_name': 'Zeros', 'config': {}},\n",
       "  'bias_regularizer': None,\n",
       "  'kernel_constraint': None,\n",
       "  'kernel_initializer': {'class_name': 'VarianceScaling',\n",
       "   'config': {'distribution': 'normal',\n",
       "    'mode': 'fan_in',\n",
       "    'scale': 2.0,\n",
       "    'seed': None}},\n",
       "  'kernel_regularizer': None,\n",
       "  'name': 'dense_5',\n",
       "  'trainable': True,\n",
       "  'units': 4096,\n",
       "  'use_bias': True},\n",
       " {'axis': -1,\n",
       "  'beta_constraint': None,\n",
       "  'beta_initializer': {'class_name': 'Zeros', 'config': {}},\n",
       "  'beta_regularizer': None,\n",
       "  'center': True,\n",
       "  'epsilon': 0.001,\n",
       "  'gamma_constraint': None,\n",
       "  'gamma_initializer': {'class_name': 'Ones', 'config': {}},\n",
       "  'gamma_regularizer': None,\n",
       "  'momentum': 0.99,\n",
       "  'moving_mean_initializer': {'class_name': 'Zeros', 'config': {}},\n",
       "  'moving_variance_initializer': {'class_name': 'Ones', 'config': {}},\n",
       "  'name': 'batch_normalization_3',\n",
       "  'scale': True,\n",
       "  'trainable': True},\n",
       " {'name': 'dropout_3', 'rate': 0.5, 'trainable': True},\n",
       " {'activation': 'relu',\n",
       "  'activity_regularizer': None,\n",
       "  'bias_constraint': None,\n",
       "  'bias_initializer': {'class_name': 'Zeros', 'config': {}},\n",
       "  'bias_regularizer': None,\n",
       "  'kernel_constraint': None,\n",
       "  'kernel_initializer': {'class_name': 'VarianceScaling',\n",
       "   'config': {'distribution': 'normal',\n",
       "    'mode': 'fan_in',\n",
       "    'scale': 2.0,\n",
       "    'seed': None}},\n",
       "  'kernel_regularizer': None,\n",
       "  'name': 'dense_6',\n",
       "  'trainable': True,\n",
       "  'units': 4096,\n",
       "  'use_bias': True},\n",
       " {'axis': -1,\n",
       "  'beta_constraint': None,\n",
       "  'beta_initializer': {'class_name': 'Zeros', 'config': {}},\n",
       "  'beta_regularizer': None,\n",
       "  'center': True,\n",
       "  'epsilon': 0.001,\n",
       "  'gamma_constraint': None,\n",
       "  'gamma_initializer': {'class_name': 'Ones', 'config': {}},\n",
       "  'gamma_regularizer': None,\n",
       "  'momentum': 0.99,\n",
       "  'moving_mean_initializer': {'class_name': 'Zeros', 'config': {}},\n",
       "  'moving_variance_initializer': {'class_name': 'Ones', 'config': {}},\n",
       "  'name': 'batch_normalization_4',\n",
       "  'scale': True,\n",
       "  'trainable': True},\n",
       " {'name': 'dropout_4', 'rate': 0.5, 'trainable': True},\n",
       " {'activation': 'softmax',\n",
       "  'activity_regularizer': None,\n",
       "  'bias_constraint': None,\n",
       "  'bias_initializer': {'class_name': 'Zeros', 'config': {}},\n",
       "  'bias_regularizer': None,\n",
       "  'kernel_constraint': None,\n",
       "  'kernel_initializer': {'class_name': 'VarianceScaling',\n",
       "   'config': {'distribution': 'normal',\n",
       "    'mode': 'fan_in',\n",
       "    'scale': 2.0,\n",
       "    'seed': None}},\n",
       "  'kernel_regularizer': None,\n",
       "  'name': 'dense_8',\n",
       "  'trainable': True,\n",
       "  'units': 2,\n",
       "  'use_bias': True}]"
      ]
     },
     "execution_count": 13,
     "metadata": {},
     "output_type": "execute_result"
    }
   ],
   "source": [
    "[layer.get_config() for layer in  vggbn.layers][-14:]"
   ]
  },
  {
   "cell_type": "code",
   "execution_count": 14,
   "metadata": {},
   "outputs": [
    {
     "name": "stdout",
     "output_type": "stream",
     "text": [
      "Epoch 1/10\n",
      "62/62 [==============================] - 49s - loss: 2.9878 - acc: 0.7434 - val_loss: 8.0498 - val_acc: 0.4979\n",
      "Epoch 2/10\n",
      "62/62 [==============================] - 46s - loss: 0.8013 - acc: 0.8972 - val_loss: 2.4038 - val_acc: 0.8056\n",
      "Epoch 3/10\n",
      "62/62 [==============================] - 46s - loss: 0.4906 - acc: 0.9073 - val_loss: 0.9062 - val_acc: 0.8942\n",
      "Epoch 4/10\n",
      "62/62 [==============================] - 36s - loss: 0.4881 - acc: 0.9229 - val_loss: 3.4227 - val_acc: 0.7393\n",
      "Epoch 5/10\n",
      "62/62 [==============================] - 46s - loss: 0.3362 - acc: 0.9390 - val_loss: 0.7965 - val_acc: 0.9167\n",
      "Epoch 6/10\n",
      "62/62 [==============================] - 37s - loss: 0.3059 - acc: 0.9415 - val_loss: 2.4014 - val_acc: 0.7511\n",
      "Epoch 7/10\n",
      "62/62 [==============================] - 45s - loss: 0.2439 - acc: 0.9436 - val_loss: 0.3355 - val_acc: 0.9423\n",
      "Epoch 8/10\n",
      "62/62 [==============================] - 36s - loss: 0.1921 - acc: 0.9506 - val_loss: 1.4131 - val_acc: 0.8269\n",
      "Epoch 9/10\n",
      "62/62 [==============================] - 37s - loss: 0.1808 - acc: 0.9511 - val_loss: 0.7931 - val_acc: 0.9049\n",
      "Epoch 10/10\n",
      "62/62 [==============================] - 46s - loss: 0.1766 - acc: 0.9577 - val_loss: 0.2092 - val_acc: 0.9444\n"
     ]
    }
   ],
   "source": [
    "opt = Adam(lr=.001)\n",
    "\n",
    "vggbn.compile(optimizer=opt,loss='categorical_crossentropy',metrics=['accuracy'])\n",
    "\n",
    "proto5 = vggbn.fit_generator(aug_train_batches,\n",
    "                    aug_train_steps,\n",
    "                    epochs=10,\n",
    "                    callbacks=cb,\n",
    "                    validation_data=val_batches,\n",
    "                    validation_steps=val_steps)"
   ]
  },
  {
   "cell_type": "markdown",
   "metadata": {},
   "source": [
    "---\n",
    "Prototype 6.\n",
    "\n",
    "Originally only reinitializing the all unfrozen layers but this doesn't make sense as it doesn't take advantage of transferring the learned weights of vgg. Otherwise I'm not finetuning the conv layers but actually retraining them from scratch. \n",
    "\n",
    "6a.\n",
    "- This keeps on running out of mem. There are 25m trainable parameters which might be too many. This is with leaving all conv layers in an allowing them to be finetuned while adding a dense 512 and 2\n",
    "    \n",
    "6b. \n",
    "- Popped the original dense layers and kept the last 3 conv layers trainable. Added a 512 dense with batchnorm and dropout .5 and a dense 2"
   ]
  },
  {
   "cell_type": "code",
   "execution_count": 15,
   "metadata": {
    "collapsed": true
   },
   "outputs": [],
   "source": [
    "cb = [ModelCheckpoint(model_path+'proto6_he', monitor='val_loss', save_best_only=True, save_weights_only=False)]\n"
   ]
  },
  {
   "cell_type": "code",
   "execution_count": 16,
   "metadata": {
    "collapsed": true
   },
   "outputs": [],
   "source": [
    "vggbn = half_frozen_vggbn(-14)"
   ]
  },
  {
   "cell_type": "code",
   "execution_count": 17,
   "metadata": {
    "collapsed": true
   },
   "outputs": [],
   "source": [
    "for i in range(6):\n",
    "    vggbn.pop()"
   ]
  },
  {
   "cell_type": "code",
   "execution_count": 18,
   "metadata": {
    "collapsed": true
   },
   "outputs": [],
   "source": [
    "vggbn.add(BatchNormalization())\n",
    "vggbn.add(Dense(512,kernel_initializer='he_normal',activation='relu'))\n",
    "vggbn.add(BatchNormalization())\n",
    "vggbn.add(Dropout(.5))\n",
    "vggbn.add(Dense(2,activation='softmax',kernel_initializer='he_normal'))"
   ]
  },
  {
   "cell_type": "code",
   "execution_count": 21,
   "metadata": {
    "collapsed": true
   },
   "outputs": [],
   "source": [
    "#[layer.name for layer in vggbn.layers]# if 'dense' in layer.name ]"
   ]
  },
  {
   "cell_type": "code",
   "execution_count": 19,
   "metadata": {
    "collapsed": true
   },
   "outputs": [],
   "source": [
    "opt = Adam()\n",
    "vggbn.compile(optimizer=opt,loss='categorical_crossentropy',metrics=['accuracy'])"
   ]
  },
  {
   "cell_type": "code",
   "execution_count": 25,
   "metadata": {},
   "outputs": [
    {
     "name": "stdout",
     "output_type": "stream",
     "text": [
      "Epoch 1/10\n",
      "125/125 [==============================] - 38s - loss: 0.5504 - acc: 0.8115 - val_loss: 6.4726 - val_acc: 0.5558\n",
      "Epoch 2/10\n",
      "125/125 [==============================] - 36s - loss: 0.3280 - acc: 0.8835 - val_loss: 7.4554 - val_acc: 0.5072\n",
      "Epoch 3/10\n",
      "125/125 [==============================] - 38s - loss: 0.2354 - acc: 0.9170 - val_loss: 0.3061 - val_acc: 0.9163\n",
      "Epoch 4/10\n",
      "125/125 [==============================] - 38s - loss: 0.1996 - acc: 0.9315 - val_loss: 0.1431 - val_acc: 0.9463\n",
      "Epoch 5/10\n",
      "125/125 [==============================] - 38s - loss: 0.1484 - acc: 0.9470 - val_loss: 0.0835 - val_acc: 0.9669\n",
      "Epoch 6/10\n",
      "125/125 [==============================] - 36s - loss: 0.1540 - acc: 0.9440 - val_loss: 0.7588 - val_acc: 0.7727\n",
      "Epoch 7/10\n",
      "125/125 [==============================] - 36s - loss: 0.1352 - acc: 0.9480 - val_loss: 0.1120 - val_acc: 0.9576\n",
      "Epoch 8/10\n",
      "125/125 [==============================] - 37s - loss: 0.1152 - acc: 0.9570 - val_loss: 0.1949 - val_acc: 0.9452\n",
      "Epoch 9/10\n",
      "125/125 [==============================] - 36s - loss: 0.1229 - acc: 0.9545 - val_loss: 0.2317 - val_acc: 0.9215\n",
      "Epoch 10/10\n",
      "125/125 [==============================] - 36s - loss: 0.0986 - acc: 0.9660 - val_loss: 0.2168 - val_acc: 0.9256\n"
     ]
    }
   ],
   "source": [
    "proto6 = vggbn.fit_generator(aug_train_batches,\n",
    "                    aug_train_steps,\n",
    "                    epochs=10,\n",
    "                    callbacks=cb,\n",
    "                    validation_data=val_batches,\n",
    "                    validation_steps=val_steps)"
   ]
  },
  {
   "cell_type": "code",
   "execution_count": 20,
   "metadata": {},
   "outputs": [
    {
     "name": "stdout",
     "output_type": "stream",
     "text": [
      "Epoch 1/10\n",
      "62/62 [==============================] - 39s - loss: 0.5191 - acc: 0.8473 - val_loss: 7.5481 - val_acc: 0.4925\n",
      "Epoch 2/10\n",
      "62/62 [==============================] - 35s - loss: 0.2305 - acc: 0.9153 - val_loss: 8.1370 - val_acc: 0.4658\n",
      "Epoch 3/10\n",
      "62/62 [==============================] - 37s - loss: 0.1925 - acc: 0.9304 - val_loss: 0.9037 - val_acc: 0.8130\n",
      "Epoch 4/10\n",
      "62/62 [==============================] - 37s - loss: 0.1717 - acc: 0.9420 - val_loss: 0.2895 - val_acc: 0.9359\n",
      "Epoch 5/10\n",
      "62/62 [==============================] - 34s - loss: 0.1053 - acc: 0.9587 - val_loss: 0.7730 - val_acc: 0.8494\n",
      "Epoch 6/10\n",
      "62/62 [==============================] - 35s - loss: 0.0896 - acc: 0.9693 - val_loss: 0.1763 - val_acc: 0.9412\n",
      "Epoch 7/10\n",
      "62/62 [==============================] - 36s - loss: 0.1534 - acc: 0.9440 - val_loss: 0.1604 - val_acc: 0.9500\n",
      "Epoch 8/10\n",
      "62/62 [==============================] - 34s - loss: 0.1350 - acc: 0.9476 - val_loss: 0.2447 - val_acc: 0.9263\n",
      "Epoch 9/10\n",
      "62/62 [==============================] - 35s - loss: 0.1034 - acc: 0.9602 - val_loss: 0.1060 - val_acc: 0.9669\n",
      "Epoch 10/10\n",
      "62/62 [==============================] - 34s - loss: 0.0720 - acc: 0.9728 - val_loss: 1.4838 - val_acc: 0.7404\n"
     ]
    }
   ],
   "source": [
    "proto6 = vggbn.fit_generator(aug_train_batches,\n",
    "                    aug_train_steps,\n",
    "                    epochs=10,\n",
    "                    callbacks=cb,\n",
    "                    validation_data=val_batches,\n",
    "                    validation_steps=val_steps)"
   ]
  },
  {
   "cell_type": "markdown",
   "metadata": {},
   "source": [
    "---\n",
    "Prototype 7. \n",
    "\n",
    "Finetune the last 3 conv layers as well as the 1st fc layer. Add batchnorm and dropout between it and the final dense 2"
   ]
  },
  {
   "cell_type": "code",
   "execution_count": 33,
   "metadata": {
    "collapsed": true
   },
   "outputs": [],
   "source": [
    "cb = [ModelCheckpoint(model_path+'proto7', monitor='val_loss', save_best_only=True, save_weights_only=False)]\n"
   ]
  },
  {
   "cell_type": "code",
   "execution_count": 27,
   "metadata": {
    "collapsed": true
   },
   "outputs": [],
   "source": [
    "vggbn = half_frozen_vggbn(-14)"
   ]
  },
  {
   "cell_type": "code",
   "execution_count": 30,
   "metadata": {
    "collapsed": true
   },
   "outputs": [],
   "source": [
    "for i in range(5):\n",
    "    vggbn.pop()\n",
    "vggbn.add(BatchNormalization())\n",
    "vggbn.add(Dropout(.5))\n",
    "vggbn.add(Dense(2,activation='softmax'))"
   ]
  },
  {
   "cell_type": "code",
   "execution_count": 32,
   "metadata": {
    "collapsed": true
   },
   "outputs": [],
   "source": [
    "opt = Adam()\n",
    "vggbn.compile(optimizer=opt,loss='categorical_crossentropy',metrics=['accuracy'])"
   ]
  },
  {
   "cell_type": "code",
   "execution_count": 34,
   "metadata": {},
   "outputs": [
    {
     "name": "stdout",
     "output_type": "stream",
     "text": [
      "Epoch 1/10\n",
      "125/125 [==============================] - 48s - loss: 0.4372 - acc: 0.8295 - val_loss: 0.3996 - val_acc: 0.9060\n",
      "Epoch 2/10\n",
      "125/125 [==============================] - 40s - loss: 0.1999 - acc: 0.9220 - val_loss: 1.0032 - val_acc: 0.7903\n",
      "Epoch 3/10\n",
      "125/125 [==============================] - 48s - loss: 0.1715 - acc: 0.9315 - val_loss: 0.2281 - val_acc: 0.9215\n",
      "Epoch 4/10\n",
      "125/125 [==============================] - 47s - loss: 0.1418 - acc: 0.9440 - val_loss: 0.1141 - val_acc: 0.9690\n",
      "Epoch 5/10\n",
      "125/125 [==============================] - 40s - loss: 0.1407 - acc: 0.9505 - val_loss: 0.6629 - val_acc: 0.8543\n",
      "Epoch 6/10\n",
      "125/125 [==============================] - 40s - loss: 0.1143 - acc: 0.9595 - val_loss: 0.5840 - val_acc: 0.9194\n",
      "Epoch 7/10\n",
      "125/125 [==============================] - 40s - loss: 0.1154 - acc: 0.9630 - val_loss: 0.1162 - val_acc: 0.9731\n",
      "Epoch 8/10\n",
      "125/125 [==============================] - 40s - loss: 0.0913 - acc: 0.9675 - val_loss: 0.1349 - val_acc: 0.9628\n",
      "Epoch 9/10\n",
      "125/125 [==============================] - 40s - loss: 0.0978 - acc: 0.9645 - val_loss: 7.4255 - val_acc: 0.5362\n",
      "Epoch 10/10\n",
      "125/125 [==============================] - 40s - loss: 0.0995 - acc: 0.9625 - val_loss: 0.4757 - val_acc: 0.8988\n"
     ]
    }
   ],
   "source": [
    "proto7 = vggbn.fit_generator(aug_train_batches,\n",
    "                    aug_train_steps,\n",
    "                    epochs=10,\n",
    "                    callbacks=cb,\n",
    "                    validation_data=val_batches,\n",
    "                    validation_steps=val_steps)"
   ]
  },
  {
   "cell_type": "code",
   "execution_count": 35,
   "metadata": {},
   "outputs": [
    {
     "name": "stdout",
     "output_type": "stream",
     "text": [
      "Epoch 1/10\n",
      "125/125 [==============================] - 40s - loss: 0.0720 - acc: 0.9735 - val_loss: 0.1776 - val_acc: 0.9566\n",
      "Epoch 2/10\n",
      "125/125 [==============================] - 47s - loss: 0.0846 - acc: 0.9705 - val_loss: 0.1074 - val_acc: 0.9742\n",
      "Epoch 3/10\n",
      "125/125 [==============================] - 40s - loss: 0.0612 - acc: 0.9780 - val_loss: 0.1276 - val_acc: 0.9690\n",
      "Epoch 4/10\n",
      "125/125 [==============================] - 40s - loss: 0.0892 - acc: 0.9715 - val_loss: 0.2437 - val_acc: 0.9442\n",
      "Epoch 5/10\n",
      "125/125 [==============================] - 40s - loss: 0.0791 - acc: 0.9765 - val_loss: 0.1327 - val_acc: 0.9700\n",
      "Epoch 6/10\n",
      "125/125 [==============================] - 40s - loss: 0.0886 - acc: 0.9730 - val_loss: 0.2184 - val_acc: 0.9535\n",
      "Epoch 7/10\n",
      "125/125 [==============================] - 40s - loss: 0.0611 - acc: 0.9800 - val_loss: 0.1547 - val_acc: 0.9690\n",
      "Epoch 8/10\n",
      "125/125 [==============================] - 48s - loss: 0.0364 - acc: 0.9890 - val_loss: 0.1036 - val_acc: 0.9768\n",
      "Epoch 9/10\n",
      "125/125 [==============================] - 40s - loss: 0.0421 - acc: 0.9835 - val_loss: 0.1294 - val_acc: 0.9659\n",
      "Epoch 10/10\n",
      "125/125 [==============================] - 40s - loss: 0.0643 - acc: 0.9830 - val_loss: 0.2194 - val_acc: 0.9494\n"
     ]
    }
   ],
   "source": [
    "proto7 = vggbn.fit_generator(aug_train_batches,\n",
    "                    aug_train_steps,\n",
    "                    epochs=10,\n",
    "                    callbacks=cb,\n",
    "                    validation_data=val_batches,\n",
    "                    validation_steps=val_steps)"
   ]
  },
  {
   "cell_type": "code",
   "execution_count": 53,
   "metadata": {},
   "outputs": [
    {
     "name": "stdout",
     "output_type": "stream",
     "text": [
      "Found 12500 images belonging to 1 classes.\n",
      "Raw Predictions: [  9.9987e-01   2.7138e-04   9.8846e-01   1.0000e+00   9.9997e-01]\n",
      "Mid Predictions: [ 0.5025  0.5967  0.4689  0.4181  0.5078  0.5762  0.5725  0.576   0.4204  0.4042  0.4492  0.568\n",
      "  0.418   0.4782  0.4858  0.5527  0.5704  0.4806  0.4704  0.432   0.408   0.5846  0.479   0.4588\n",
      "  0.5149  0.4475  0.596   0.4524  0.5686  0.4794  0.4783  0.4765  0.5205  0.4946  0.4161  0.5545\n",
      "  0.475   0.4795  0.4922  0.4507  0.4604  0.4889  0.4943  0.4684  0.4808  0.5521  0.5974  0.4795\n",
      "  0.5009  0.4493  0.4656  0.5291  0.5906  0.4484  0.5227  0.4072  0.5345  0.5489  0.4399  0.4123\n",
      "  0.4278  0.4556  0.5722  0.5021  0.4206  0.5899  0.4826  0.4359  0.5536  0.5693  0.5882  0.4293\n",
      "  0.4007  0.5989  0.5859  0.4023  0.5332  0.5723  0.592   0.4881  0.5474  0.431   0.4736  0.5902\n",
      "  0.5837  0.5366  0.4626  0.515 ]\n",
      "Edge Predictions: [ 1.  1.  1. ...,  1.  1.  1.]\n",
      "/home/xbno/anaconda3/courses/dogscats/submissions\n"
     ]
    }
   ],
   "source": [
    "vggbn.load_weights('../../dogscats/lrg_sample/models/proto7')\n",
    "save_sub(vggbn,'vggbn_proto7.csv')"
   ]
  },
  {
   "cell_type": "markdown",
   "metadata": {},
   "source": [
    "---\n",
    "Prototype 8. (same as 7 with less data aug)\n",
    "\n",
    "Weaken the aug_data. Still results in the same wobbly behavior."
   ]
  },
  {
   "cell_type": "code",
   "execution_count": 38,
   "metadata": {
    "collapsed": true
   },
   "outputs": [],
   "source": [
    "# aug_gen = image.ImageDataGenerator(\n",
    "#     channel_shift_range=5,\n",
    "#     zoom_range=0.02,\n",
    "#     rotation_range=3,\n",
    "#     width_shift_range=0.02,\n",
    "#     height_shift_range=0.02,\n",
    "#     horizontal_flip=True)"
   ]
  },
  {
   "cell_type": "code",
   "execution_count": 8,
   "metadata": {},
   "outputs": [
    {
     "name": "stdout",
     "output_type": "stream",
     "text": [
      "Found 2000 images belonging to 2 classes.\n",
      "Found 2000 images belonging to 2 classes.\n",
      "Found 1000 images belonging to 2 classes.\n"
     ]
    }
   ],
   "source": [
    "train_batches = get_batches('../../dogscats/lrg_sample/train/',batch_size=batch_size)\n",
    "aug_train_batches = aug_gen.flow_from_directory(directory='../../dogscats/lrg_sample/train/',batch_size=batch_size,shuffle=True,target_size=(224,224))\n",
    "val_batches = get_batches('../../dogscats/lrg_sample/valid/',batch_size=batch_size*2,shuffle=False)\n",
    "\n",
    "train_steps = train_batches.samples//train_batches.batch_size\n",
    "aug_train_steps = aug_train_batches.samples//aug_train_batches.batch_size\n",
    "val_steps = val_batches.samples//val_batches.batch_size"
   ]
  },
  {
   "cell_type": "code",
   "execution_count": 10,
   "metadata": {
    "collapsed": true
   },
   "outputs": [],
   "source": [
    "cb = [ModelCheckpoint(model_path+'proto8_he', monitor='val_loss', save_best_only=True, save_weights_only=False)]\n"
   ]
  },
  {
   "cell_type": "code",
   "execution_count": 11,
   "metadata": {
    "collapsed": true
   },
   "outputs": [],
   "source": [
    "vggbn = half_frozen_vggbn(-14)"
   ]
  },
  {
   "cell_type": "code",
   "execution_count": 31,
   "metadata": {
    "collapsed": true,
    "scrolled": true
   },
   "outputs": [],
   "source": [
    "#[layer.name for layer in vggbn.layers]# if 'dense' in layer.name ]"
   ]
  },
  {
   "cell_type": "code",
   "execution_count": 12,
   "metadata": {
    "collapsed": true
   },
   "outputs": [],
   "source": [
    "for i in range(5):\n",
    "    vggbn.pop()\n",
    "vggbn.add(BatchNormalization())\n",
    "vggbn.add(Dropout(.5))\n",
    "vggbn.add(Dense(2,activation='softmax',kernel_initializer='he_normal'))"
   ]
  },
  {
   "cell_type": "code",
   "execution_count": 13,
   "metadata": {
    "collapsed": true
   },
   "outputs": [],
   "source": [
    "opt = Adam()\n",
    "vggbn.compile(optimizer=opt,loss='categorical_crossentropy',metrics=['accuracy'])"
   ]
  },
  {
   "cell_type": "code",
   "execution_count": 14,
   "metadata": {},
   "outputs": [
    {
     "name": "stdout",
     "output_type": "stream",
     "text": [
      "Epoch 1/10\n",
      "62/62 [==============================] - 47s - loss: 0.3374 - acc: 0.8947 - val_loss: 0.4457 - val_acc: 0.8979\n",
      "Epoch 2/10\n",
      "62/62 [==============================] - 43s - loss: 0.1550 - acc: 0.9431 - val_loss: 0.0940 - val_acc: 0.9658\n",
      "Epoch 3/10\n",
      "62/62 [==============================] - 36s - loss: 0.1187 - acc: 0.9562 - val_loss: 0.4624 - val_acc: 0.8622\n",
      "Epoch 4/10\n",
      "62/62 [==============================] - 36s - loss: 0.0837 - acc: 0.9682 - val_loss: 0.6591 - val_acc: 0.8600\n",
      "Epoch 5/10\n",
      "62/62 [==============================] - 36s - loss: 0.0927 - acc: 0.9647 - val_loss: 0.5675 - val_acc: 0.9380\n",
      "Epoch 6/10\n",
      "62/62 [==============================] - 36s - loss: 0.0943 - acc: 0.9703 - val_loss: 0.3915 - val_acc: 0.9113\n",
      "Epoch 7/10\n",
      "62/62 [==============================] - 36s - loss: 0.0800 - acc: 0.9677 - val_loss: 0.1044 - val_acc: 0.9647\n",
      "Epoch 8/10\n",
      "62/62 [==============================] - 36s - loss: 0.0824 - acc: 0.9738 - val_loss: 0.3638 - val_acc: 0.9252\n",
      "Epoch 9/10\n",
      "62/62 [==============================] - 36s - loss: 0.0661 - acc: 0.9708 - val_loss: 0.3133 - val_acc: 0.9359\n",
      "Epoch 10/10\n",
      "62/62 [==============================] - 36s - loss: 0.0607 - acc: 0.9743 - val_loss: 0.1174 - val_acc: 0.9647\n"
     ]
    }
   ],
   "source": [
    "proto8 = vggbn.fit_generator(aug_train_batches,\n",
    "                    aug_train_steps,\n",
    "                    epochs=10,\n",
    "                    callbacks=cb,\n",
    "                    validation_data=val_batches,\n",
    "                    validation_steps=val_steps)"
   ]
  },
  {
   "cell_type": "code",
   "execution_count": 47,
   "metadata": {},
   "outputs": [
    {
     "name": "stdout",
     "output_type": "stream",
     "text": [
      "Epoch 1/10\n",
      "125/125 [==============================] - 41s - loss: 0.0867 - acc: 0.9685 - val_loss: 0.2187 - val_acc: 0.9567\n",
      "Epoch 2/10\n",
      "125/125 [==============================] - 40s - loss: 0.1341 - acc: 0.9615 - val_loss: 1.4128 - val_acc: 0.7428\n",
      "Epoch 3/10\n",
      "125/125 [==============================] - 47s - loss: 0.1429 - acc: 0.9520 - val_loss: 0.1566 - val_acc: 0.9597\n",
      "Epoch 4/10\n",
      "125/125 [==============================] - 47s - loss: 0.0855 - acc: 0.9705 - val_loss: 0.1298 - val_acc: 0.9618\n",
      "Epoch 5/10\n",
      "125/125 [==============================] - 40s - loss: 0.0926 - acc: 0.9685 - val_loss: 0.1633 - val_acc: 0.9628\n",
      "Epoch 6/10\n",
      "125/125 [==============================] - 40s - loss: 0.0640 - acc: 0.9760 - val_loss: 0.5845 - val_acc: 0.8874\n",
      "Epoch 7/10\n",
      "125/125 [==============================] - 40s - loss: 0.0677 - acc: 0.9785 - val_loss: 0.4613 - val_acc: 0.8915\n",
      "Epoch 8/10\n",
      "125/125 [==============================] - 47s - loss: 0.0667 - acc: 0.9795 - val_loss: 0.1143 - val_acc: 0.9762\n",
      "Epoch 9/10\n",
      "125/125 [==============================] - 40s - loss: 0.0510 - acc: 0.9810 - val_loss: 0.1422 - val_acc: 0.9597\n",
      "Epoch 10/10\n",
      "125/125 [==============================] - 40s - loss: 0.0539 - acc: 0.9850 - val_loss: 0.2543 - val_acc: 0.9514\n"
     ]
    }
   ],
   "source": [
    "proto8 = vggbn.fit_generator(aug_train_batches,\n",
    "                    aug_train_steps,\n",
    "                    epochs=10,\n",
    "                    callbacks=cb,\n",
    "                    validation_data=val_batches,\n",
    "                    validation_steps=val_steps)"
   ]
  },
  {
   "cell_type": "code",
   "execution_count": 51,
   "metadata": {
    "collapsed": true
   },
   "outputs": [],
   "source": [
    "def save_sub(vggbn,save_name):\n",
    "    test_batches = get_batches('../../dogscats/test/',batch_size=batch_size,shuffle=False)\n",
    "    test_steps = test_batches.n//test_batches.batch_size+1\n",
    "\n",
    "    y_pred = vggbn.predict_generator(test_batches,steps=test_steps)\n",
    "\n",
    "    filenames = test_batches.filenames\n",
    "\n",
    "    #Grab the dog prediction column\n",
    "    isdog = y_pred[:,1]\n",
    "    print(\"Raw Predictions: \" + str(isdog[:5]))\n",
    "    print(\"Mid Predictions: \" + str(isdog[(isdog < .6) & (isdog > .4)]))\n",
    "    print(\"Edge Predictions: \" + str(isdog[(isdog == 1) | (isdog == 0)]))\n",
    "\n",
    "    y_pred.shape\n",
    "\n",
    "    #So to play it safe, we use a sneaky trick to round down our edge predictions\n",
    "    #Swap all ones with .95 and all zeros with .05\n",
    "    isdog = isdog.clip(min=0.05, max=0.95)\n",
    "    full_files = [f.split('/')[1] for f in filenames]\n",
    "    ids = [int(f.split('.')[0]) for f in full_files]\n",
    "    subm = np.stack([ids,isdog], axis=1)\n",
    "\n",
    "    sub_path = '../../dogscats/submissions/'\n",
    "    %cd $sub_path\n",
    "    submission_file_name = sub_path + save_name\n",
    "    np.savetxt(submission_file_name, subm, fmt='%d,%.5f', header='id,label', comments='')"
   ]
  },
  {
   "cell_type": "code",
   "execution_count": 48,
   "metadata": {
    "collapsed": true
   },
   "outputs": [],
   "source": [
    "vggbn.load_weights('../../dogscats/lrg_sample/models/proto8')\n",
    "save_sub(vggbn,'vggbn_proto8.csv')"
   ]
  },
  {
   "cell_type": "markdown",
   "metadata": {},
   "source": [
    "Use this command to download file from server:\n",
    "\n",
    "    scp 96.237.225.57:/home/xbno/anaconda3/courses/dogscats/submissions/submission1.csv ~/Desktop/\n",
    "\n"
   ]
  },
  {
   "cell_type": "code",
   "execution_count": null,
   "metadata": {
    "collapsed": true
   },
   "outputs": [],
   "source": []
  }
 ],
 "metadata": {
  "anaconda-cloud": {},
  "kernelspec": {
   "display_name": "Python 3",
   "language": "python",
   "name": "python3"
  },
  "language_info": {
   "codemirror_mode": {
    "name": "ipython",
    "version": 3
   },
   "file_extension": ".py",
   "mimetype": "text/x-python",
   "name": "python",
   "nbconvert_exporter": "python",
   "pygments_lexer": "ipython3",
   "version": "3.6.2"
  },
  "nav_menu": {},
  "nbpresent": {
   "slides": {
    "28b43202-5690-4169-9aca-6b9dabfeb3ec": {
     "id": "28b43202-5690-4169-9aca-6b9dabfeb3ec",
     "prev": null,
     "regions": {
      "3bba644a-cf4d-4a49-9fbd-e2554428cf9f": {
       "attrs": {
        "height": 0.8,
        "width": 0.8,
        "x": 0.1,
        "y": 0.1
       },
       "content": {
        "cell": "f3d3a388-7e2a-4151-9b50-c20498fceacc",
        "part": "whole"
       },
       "id": "3bba644a-cf4d-4a49-9fbd-e2554428cf9f"
      }
     }
    },
    "8104def2-4b68-44a0-8f1b-b03bf3b2a079": {
     "id": "8104def2-4b68-44a0-8f1b-b03bf3b2a079",
     "prev": "28b43202-5690-4169-9aca-6b9dabfeb3ec",
     "regions": {
      "7dded777-1ddf-4100-99ae-25cf1c15b575": {
       "attrs": {
        "height": 0.8,
        "width": 0.8,
        "x": 0.1,
        "y": 0.1
       },
       "content": {
        "cell": "fe47bd48-3414-4657-92e7-8b8d6cb0df00",
        "part": "whole"
       },
       "id": "7dded777-1ddf-4100-99ae-25cf1c15b575"
      }
     }
    }
   },
   "themes": {}
  },
  "toc": {
   "nav_menu": {
    "height": "148px",
    "width": "254px"
   },
   "navigate_menu": true,
   "number_sections": true,
   "sideBar": true,
   "threshold": 6,
   "toc_cell": false,
   "toc_section_display": "block",
   "toc_window_display": false
  }
 },
 "nbformat": 4,
 "nbformat_minor": 1
}
