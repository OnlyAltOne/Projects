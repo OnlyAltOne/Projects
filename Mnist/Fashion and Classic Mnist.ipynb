{
 "cells": [
  {
   "cell_type": "markdown",
   "metadata": {},
   "source": [
    "## Exploring Neural Nets in Keras\n",
    "\n",
    "I recently saw a popular github repo provided a new set of images to practice small ML algorithms on: https://github.com/zalandoresearch/fashion-mnist#get-the-data and thought I'd take a peak. \n",
    "\n",
    "Its a new take on the original MNIST dataset. There is some opinion that Mnist is too simple/easy to produce very high accuracy results however it is a great beginner tool since its a manageable size. Having a more challenging yet managebale dataset available is great for all!\n",
    "\n",
    "---\n",
    "\n",
    "### Goals\n",
    "\n",
    "I plan to explore a few basic architectures to learn how to construct and train models in keras. I'll do this for both datasets since I think it will be revealing how they perform from one dataset to the next.\n",
    "\n",
    "1. 1 layer NN\n",
    "2. multi layer NN\n",
    "3. ConvNN"
   ]
  },
  {
   "cell_type": "code",
   "execution_count": 408,
   "metadata": {},
   "outputs": [],
   "source": [
    "import pandas as pd\n",
    "import numpy as np\n",
    "import matplotlib.pyplot as plt\n",
    "import keras\n",
    "\n",
    "from keras.models import Sequential\n",
    "from keras.layers import Dense, Activation, Dropout, Conv2D, MaxPooling2D, BatchNormalization, Flatten\n",
    "from keras.utils import to_categorical\n",
    "from keras.optimizers import SGD, Adam\n",
    "from keras import regularizers\n",
    "\n",
    "from sklearn.model_selection import train_test_split\n",
    "\n",
    "%matplotlib inline"
   ]
  },
  {
   "cell_type": "markdown",
   "metadata": {},
   "source": [
    "### Intro to the dataset\n",
    "\n",
    "---\n",
    "\n",
    "There are 60k train and 10k test images distributed across 10 classes. Each class in the train set has exactly 6k examples. The classes are: \n",
    "\n",
    "    tshirt, \n",
    "    pants, \n",
    "    pullover,\n",
    "    dress,\n",
    "    coat,\n",
    "    sandal,\n",
    "    shirt,\n",
    "    sneaker,\n",
    "    bag,\n",
    "    ankle boot\n",
    "    \n",
    "Each image is 28x28 meaning we will have an input of 784 features in any model we use. Of course the shape will depend on the type of NN we use."
   ]
  },
  {
   "cell_type": "code",
   "execution_count": 410,
   "metadata": {
    "collapsed": true
   },
   "outputs": [],
   "source": [
    "train = pd.read_csv('../../fashionmnist/fashion-mnist_train.csv')\n",
    "test = pd.read_csv('../../fashionmnist/fashion-mnist_test.csv')"
   ]
  },
  {
   "cell_type": "code",
   "execution_count": 411,
   "metadata": {},
   "outputs": [],
   "source": [
    "X_train = np.array(train.drop('label',axis=1))\n",
    "y_train = np.array(train['label'])\n",
    "X_test = np.array(test.drop('label',axis=1))\n",
    "y_test = np.array(test['label'])"
   ]
  },
  {
   "cell_type": "code",
   "execution_count": 412,
   "metadata": {
    "scrolled": true
   },
   "outputs": [],
   "source": [
    "# X_train = pd.DataFrame(data.train.images)\n",
    "# y_train = pd.DataFrame(data.train.labels)\n",
    "# y_train.columns = ['label']\n",
    "# X_test = pd.DataFrame(data.test.images)\n",
    "# y_test = pd.DataFrame(data.test.labels)"
   ]
  },
  {
   "cell_type": "code",
   "execution_count": 413,
   "metadata": {},
   "outputs": [
    {
     "data": {
      "text/plain": [
       "<matplotlib.image.AxesImage at 0x1439bd4a8>"
      ]
     },
     "execution_count": 413,
     "metadata": {},
     "output_type": "execute_result"
    },
    {
     "data": {
      "image/png": "[encoded data removed]",
      "text/plain": [
       "<matplotlib.figure.Figure at 0x15cde8860>"
      ]
     },
     "metadata": {},
     "output_type": "display_data"
    }
   ],
   "source": [
    "plt.imshow(X_train[28].reshape(28,28),cmap='gray')"
   ]
  },
  {
   "cell_type": "code",
   "execution_count": 414,
   "metadata": {},
   "outputs": [
    {
     "data": {
      "text/plain": [
       "9    6000\n",
       "8    6000\n",
       "7    6000\n",
       "6    6000\n",
       "5    6000\n",
       "4    6000\n",
       "3    6000\n",
       "2    6000\n",
       "1    6000\n",
       "0    6000\n",
       "Name: label, dtype: int64"
      ]
     },
     "execution_count": 414,
     "metadata": {},
     "output_type": "execute_result"
    }
   ],
   "source": [
    "train['label'].value_counts()"
   ]
  },
  {
   "cell_type": "code",
   "execution_count": 415,
   "metadata": {
    "collapsed": true
   },
   "outputs": [],
   "source": [
    "label_examples = pd.DataFrame()\n",
    "for i in range(0,10):\n",
    "    label_example = train[train['label'] == i].head(1)\n",
    "    label_examples = pd.concat([label_examples,label_example],axis=0) \n",
    "    \n",
    "label_examples = label_examples.set_index('label')"
   ]
  },
  {
   "cell_type": "code",
   "execution_count": 336,
   "metadata": {},
   "outputs": [
    {
     "data": {
      "image/png": "[encoded data removed]",
      "text/plain": [
       "<matplotlib.figure.Figure at 0x1a84e4d68>"
      ]
     },
     "metadata": {},
     "output_type": "display_data"
    },
    {
     "data": {
      "image/png": "[encoded data removed]",
      "text/plain": [
       "<matplotlib.figure.Figure at 0x1611d2400>"
      ]
     },
     "metadata": {},
     "output_type": "display_data"
    },
    {
     "data": {
      "image/png": "[encoded data removed]",
      "text/plain": [
       "<matplotlib.figure.Figure at 0x1a7181a90>"
      ]
     },
     "metadata": {},
     "output_type": "display_data"
    },
    {
     "data": {
      "image/png": "[encoded data removed]",
      "text/plain": [
       "<matplotlib.figure.Figure at 0x161c32588>"
      ]
     },
     "metadata": {},
     "output_type": "display_data"
    },
    {
     "data": {
      "image/png": "[encoded data removed]",
      "text/plain": [
       "<matplotlib.figure.Figure at 0x1abe03908>"
      ]
     },
     "metadata": {},
     "output_type": "display_data"
    },
    {
     "data": {
      "image/png": "[encoded data removed]",
      "text/plain": [
       "<matplotlib.figure.Figure at 0x160536e10>"
      ]
     },
     "metadata": {},
     "output_type": "display_data"
    },
    {
     "data": {
      "image/png": "[encoded data removed]",
      "text/plain": [
       "<matplotlib.figure.Figure at 0x1658ce2b0>"
      ]
     },
     "metadata": {},
     "output_type": "display_data"
    },
    {
     "data": {
      "image/png": "[encoded data removed]",
      "text/plain": [
       "<matplotlib.figure.Figure at 0x1a92ac518>"
      ]
     },
     "metadata": {},
     "output_type": "display_data"
    },
    {
     "data": {
      "image/png": "[encoded data removed]",
      "text/plain": [
       "<matplotlib.figure.Figure at 0x1659d6358>"
      ]
     },
     "metadata": {},
     "output_type": "display_data"
    },
    {
     "data": {
      "image/png": "[encoded data removed]",
      "text/plain": [
       "<matplotlib.figure.Figure at 0x1a72f7550>"
      ]
     },
     "metadata": {},
     "output_type": "display_data"
    },
    {
     "data": {
      "text/plain": [
       "<matplotlib.figure.Figure at 0x189e75828>"
      ]
     },
     "metadata": {},
     "output_type": "display_data"
    }
   ],
   "source": [
    "for i in range(len(label_examples)):\n",
    "    plt.imshow(label_examples.iloc[i].values.reshape(28, 28),cmap='binary')\n",
    "    plt.figure()"
   ]
  },
  {
   "cell_type": "markdown",
   "metadata": {},
   "source": [
    "---\n",
    "\n",
    "Create a validation set"
   ]
  },
  {
   "cell_type": "code",
   "execution_count": 417,
   "metadata": {},
   "outputs": [],
   "source": [
    "# modify y_train to expected format (one-hot)\n",
    "y_train = to_categorical(y_train)\n",
    "y_test = to_categorical(y_test)\n",
    "X_train, X_valid, y_train, y_valid = train_test_split(X_train, y_train)"
   ]
  },
  {
   "cell_type": "code",
   "execution_count": 418,
   "metadata": {},
   "outputs": [
    {
     "name": "stdout",
     "output_type": "stream",
     "text": [
      "X_train shape: (45000, 784), y_train shape: (45000, 10)\n"
     ]
    }
   ],
   "source": [
    "print('X_train shape: {}, y_train shape: {}'.format(X_train.shape,y_train.shape))"
   ]
  },
  {
   "cell_type": "markdown",
   "metadata": {},
   "source": [
    "### Single Layer NN\n",
    "\n",
    "---\n",
    "\n",
    "    1 hidden layer:\n",
    "        30 neurons\n",
    "    solver:\n",
    "        stocastic gradient decent using default learning rate\n",
    "    activation: \n",
    "        relu activation\n",
    "    batch size\n",
    "        128 images\n",
    "    "
   ]
  },
  {
   "cell_type": "code",
   "execution_count": 419,
   "metadata": {},
   "outputs": [],
   "source": [
    "# construct\n",
    "model_1 = Sequential()\n",
    "model_1.add(BatchNormalization(axis=1,input_shape=(784,)))\n",
    "model_1.add(Dense(20,activation='relu',kernel_initializer='he_uniform'))\n",
    "model_1.add(Dense(10,activation='softmax'))"
   ]
  },
  {
   "cell_type": "code",
   "execution_count": 420,
   "metadata": {
    "collapsed": true
   },
   "outputs": [],
   "source": [
    "# compile\n",
    "opt = Adam()\n",
    "model_1.compile(optimizer=opt,\n",
    "              loss='categorical_crossentropy',\n",
    "              metrics=['accuracy'])"
   ]
  },
  {
   "cell_type": "code",
   "execution_count": 421,
   "metadata": {},
   "outputs": [
    {
     "name": "stdout",
     "output_type": "stream",
     "text": [
      "Train on 45000 samples, validate on 15000 samples\n",
      "Epoch 1/10\n",
      "45000/45000 [==============================] - 2s - loss: 0.6397 - acc: 0.7830 - val_loss: 0.4570 - val_acc: 0.8387\n",
      "Epoch 2/10\n",
      "45000/45000 [==============================] - 2s - loss: 0.4303 - acc: 0.8477 - val_loss: 0.4219 - val_acc: 0.8539\n",
      "Epoch 3/10\n",
      "45000/45000 [==============================] - 2s - loss: 0.3930 - acc: 0.8594 - val_loss: 0.4035 - val_acc: 0.8573\n",
      "Epoch 4/10\n",
      "45000/45000 [==============================] - 2s - loss: 0.3709 - acc: 0.8665 - val_loss: 0.3862 - val_acc: 0.8637\n",
      "Epoch 5/10\n",
      "45000/45000 [==============================] - 2s - loss: 0.3565 - acc: 0.8707 - val_loss: 0.3846 - val_acc: 0.8648\n",
      "Epoch 6/10\n",
      "45000/45000 [==============================] - 2s - loss: 0.3423 - acc: 0.8769 - val_loss: 0.3748 - val_acc: 0.8696\n",
      "Epoch 7/10\n",
      "45000/45000 [==============================] - 2s - loss: 0.3322 - acc: 0.8798 - val_loss: 0.3727 - val_acc: 0.8714\n",
      "Epoch 8/10\n",
      "45000/45000 [==============================] - 2s - loss: 0.3235 - acc: 0.8831 - val_loss: 0.3675 - val_acc: 0.8705\n",
      "Epoch 9/10\n",
      "45000/45000 [==============================] - 2s - loss: 0.3154 - acc: 0.8841 - val_loss: 0.3637 - val_acc: 0.8729\n",
      "Epoch 10/10\n",
      "45000/45000 [==============================] - 2s - loss: 0.3099 - acc: 0.8865 - val_loss: 0.3647 - val_acc: 0.8708\n"
     ]
    }
   ],
   "source": [
    "# train\n",
    "history_1 = model_1.fit(X_train, y_train, batch_size=128, epochs=10, \n",
    "          verbose=True, validation_data=(X_valid, y_valid))"
   ]
  },
  {
   "cell_type": "markdown",
   "metadata": {},
   "source": [
    "### Rule of thumb for training NNs:\n",
    "\n",
    "Push your model's architecture to overfit perhaps even to the point of memorization - then address the overfitting by regularization or other means.\n",
    "\n",
    "That means we should get more complex in our architecture"
   ]
  },
  {
   "cell_type": "code",
   "execution_count": 395,
   "metadata": {
    "collapsed": true
   },
   "outputs": [],
   "source": [
    "def mod_plot(history,name):\n",
    "    epochs_acc = pd.DataFrame([history.history['acc'],history.history['val_acc']])\n",
    "    epochs_acc = epochs_acc.T\n",
    "    epochs_acc.columns = ['train acc','val acc']\n",
    "    ax = epochs_acc.plot(title='{}'.format(name))\n",
    "    ax.set_xlabel('epochs')\n",
    "    ax.set_ylabel('validation acc')"
   ]
  },
  {
   "cell_type": "code",
   "execution_count": 396,
   "metadata": {},
   "outputs": [
    {
     "data": {
      "image/png": "[encoded data removed]",
      "text/plain": [
       "<matplotlib.figure.Figure at 0x159e44dd8>"
      ]
     },
     "metadata": {},
     "output_type": "display_data"
    }
   ],
   "source": [
    "mod_plot(history_1,'20,10 NN')"
   ]
  },
  {
   "cell_type": "code",
   "execution_count": 397,
   "metadata": {
    "collapsed": true,
    "scrolled": true
   },
   "outputs": [],
   "source": [
    "def mod_score(model,X_test=X_test,y_test=y_test):\n",
    "    score = model.evaluate(X_test, y_test, verbose=False)\n",
    "    print('\\tModel Summary:')\n",
    "    model.summary()\n",
    "    print(('\\n\\tModel Test Score: {}').format(score[1]))\n",
    "    return"
   ]
  },
  {
   "cell_type": "code",
   "execution_count": 422,
   "metadata": {},
   "outputs": [
    {
     "name": "stdout",
     "output_type": "stream",
     "text": [
      "\tModel Summary:\n",
      "_________________________________________________________________\n",
      "Layer (type)                 Output Shape              Param #   \n",
      "=================================================================\n",
      "batch_normalization_105 (Bat (None, 784)               3136      \n",
      "_________________________________________________________________\n",
      "dense_156 (Dense)            (None, 20)                15700     \n",
      "_________________________________________________________________\n",
      "dense_157 (Dense)            (None, 10)                210       \n",
      "=================================================================\n",
      "Total params: 19,046\n",
      "Trainable params: 17,478\n",
      "Non-trainable params: 1,568\n",
      "_________________________________________________________________\n",
      "\n",
      "\tModel Test Score: 0.8695\n"
     ]
    }
   ],
   "source": [
    "mod_score(model_1)"
   ]
  },
  {
   "cell_type": "markdown",
   "metadata": {},
   "source": [
    "### Evaluation: Score - 87%\n",
    "\n",
    "We've got a working model, and its not great. Better than a baseline guess of 10% however! The github page has a number of benchmarked models - most are within upper 80s lower 90s. The highest is ~96% which included using image transformations to upsample the data.\n",
    "\n",
    "Lets see if other architectures and modifications to our hyperparameters can help boost our score."
   ]
  },
  {
   "cell_type": "markdown",
   "metadata": {},
   "source": [
    "### Single Layer NN\n",
    "\n",
    "---\n",
    "\n",
    "    1 hidden layer:\n",
    "        512 neurons\n",
    "    activation:\n",
    "        relu\n",
    "    random initialization:\n",
    "        he_normal\n",
    "    "
   ]
  },
  {
   "cell_type": "code",
   "execution_count": 423,
   "metadata": {},
   "outputs": [
    {
     "name": "stdout",
     "output_type": "stream",
     "text": [
      "Train on 45000 samples, validate on 15000 samples\n",
      "Epoch 1/10\n",
      "45000/45000 [==============================] - 4s - loss: 0.4889 - acc: 0.8300 - val_loss: 0.4060 - val_acc: 0.8585\n",
      "Epoch 2/10\n",
      "45000/45000 [==============================] - 4s - loss: 0.3442 - acc: 0.8747 - val_loss: 0.3511 - val_acc: 0.8755\n",
      "Epoch 3/10\n",
      "45000/45000 [==============================] - 4s - loss: 0.2952 - acc: 0.8923 - val_loss: 0.3624 - val_acc: 0.8743\n",
      "Epoch 4/10\n",
      "45000/45000 [==============================] - 4s - loss: 0.2655 - acc: 0.9018 - val_loss: 0.3373 - val_acc: 0.8812\n",
      "Epoch 5/10\n",
      "45000/45000 [==============================] - 4s - loss: 0.2450 - acc: 0.9103 - val_loss: 0.3623 - val_acc: 0.8781\n",
      "Epoch 6/10\n",
      "45000/45000 [==============================] - 4s - loss: 0.2208 - acc: 0.9176 - val_loss: 0.3438 - val_acc: 0.8823\n",
      "Epoch 7/10\n",
      "45000/45000 [==============================] - 4s - loss: 0.1989 - acc: 0.9256 - val_loss: 0.3560 - val_acc: 0.8819\n",
      "Epoch 8/10\n",
      "45000/45000 [==============================] - 4s - loss: 0.1826 - acc: 0.9326 - val_loss: 0.3473 - val_acc: 0.8844\n",
      "Epoch 9/10\n",
      "45000/45000 [==============================] - 4s - loss: 0.1727 - acc: 0.9361 - val_loss: 0.3511 - val_acc: 0.8863\n",
      "Epoch 10/10\n",
      "45000/45000 [==============================] - 4s - loss: 0.1600 - acc: 0.9411 - val_loss: 0.3516 - val_acc: 0.8915\n"
     ]
    }
   ],
   "source": [
    "model_2 = Sequential()\n",
    "model_2.add(BatchNormalization(input_shape=(784,)))\n",
    "model_2.add(Dense(512, \n",
    "                activation='relu', \n",
    "                kernel_initializer='he_uniform',\n",
    "               ))\n",
    "model_2.add(Dense(10, \n",
    "                activation='softmax'))\n",
    "\n",
    "opt = Adam(lr=.001)\n",
    "\n",
    "model_2.compile(loss='categorical_crossentropy', optimizer=opt, \n",
    "              metrics=['accuracy'])\n",
    "              \n",
    "history_2 = model_2.fit(X_train, y_train, batch_size=128, \n",
    "                            epochs=10, verbose=1, validation_data=(X_valid, y_valid))"
   ]
  },
  {
   "cell_type": "code",
   "execution_count": 401,
   "metadata": {},
   "outputs": [
    {
     "name": "stdout",
     "output_type": "stream",
     "text": [
      "\tModel Summary:\n",
      "_________________________________________________________________\n",
      "Layer (type)                 Output Shape              Param #   \n",
      "=================================================================\n",
      "batch_normalization_99 (Batc (None, 784)               3136      \n",
      "_________________________________________________________________\n",
      "dense_135 (Dense)            (None, 512)               401920    \n",
      "_________________________________________________________________\n",
      "dense_136 (Dense)            (None, 10)                5130      \n",
      "=================================================================\n",
      "Total params: 410,186\n",
      "Trainable params: 408,618\n",
      "Non-trainable params: 1,568\n",
      "_________________________________________________________________\n",
      "\n",
      "\tModel Test Score: 0.8943\n"
     ]
    }
   ],
   "source": [
    "mod_score(model_2)"
   ]
  },
  {
   "cell_type": "markdown",
   "metadata": {},
   "source": [
    "### Clear we are now overfitting - which is a good thing! \n",
    "\n",
    "Without overfitting we cannot be confident our model's architecture has the ability to learn our data effectively. But now we need to do something to control the overfitting."
   ]
  },
  {
   "cell_type": "code",
   "execution_count": 402,
   "metadata": {},
   "outputs": [
    {
     "data": {
      "image/png": "[encoded data removed]",
      "text/plain": [
       "<matplotlib.figure.Figure at 0x159d41b70>"
      ]
     },
     "metadata": {},
     "output_type": "display_data"
    }
   ],
   "source": [
    "mod_plot(history_2,'512,10 NN')"
   ]
  },
  {
   "cell_type": "markdown",
   "metadata": {},
   "source": [
    "### Multi-Layer NN \n",
    "\n",
    "Add another layer and use dropout to regularize it. This is adding a couple new components to the model at the same time for the sake of making the notebook susinct. The truth is there is only so far you can go with vanilla NNs when dealing with images!\n",
    "    \n",
    "    2 hidden layer:\n",
    "        512 neurons\n",
    "        512 neurons\n",
    "    activation:\n",
    "        relu\n",
    "    random initialization:\n",
    "        he_normal\n",
    "    batch_normalization:\n",
    "        every step (this should speed up computer time and also offer some regularization as well, so it should really always be used)"
   ]
  },
  {
   "cell_type": "code",
   "execution_count": 424,
   "metadata": {
    "scrolled": true
   },
   "outputs": [
    {
     "name": "stdout",
     "output_type": "stream",
     "text": [
      "Train on 45000 samples, validate on 15000 samples\n",
      "Epoch 1/15\n",
      "45000/45000 [==============================] - 11s - loss: 0.5281 - acc: 0.8143 - val_loss: 0.3918 - val_acc: 0.8555\n",
      "Epoch 2/15\n",
      "45000/45000 [==============================] - 11s - loss: 0.3714 - acc: 0.8629 - val_loss: 0.3595 - val_acc: 0.8711\n",
      "Epoch 3/15\n",
      "45000/45000 [==============================] - 11s - loss: 0.3276 - acc: 0.8788 - val_loss: 0.3376 - val_acc: 0.8781\n",
      "Epoch 4/15\n",
      "45000/45000 [==============================] - 11s - loss: 0.2981 - acc: 0.8911 - val_loss: 0.3172 - val_acc: 0.8857\n",
      "Epoch 5/15\n",
      "45000/45000 [==============================] - 11s - loss: 0.2749 - acc: 0.8976 - val_loss: 0.3154 - val_acc: 0.8854\n",
      "Epoch 6/15\n",
      "45000/45000 [==============================] - 11s - loss: 0.2538 - acc: 0.9048 - val_loss: 0.3175 - val_acc: 0.8879\n",
      "Epoch 7/15\n",
      "45000/45000 [==============================] - 11s - loss: 0.2416 - acc: 0.9099 - val_loss: 0.3064 - val_acc: 0.8912\n",
      "Epoch 8/15\n",
      "45000/45000 [==============================] - 11s - loss: 0.2269 - acc: 0.9153 - val_loss: 0.3057 - val_acc: 0.8937\n",
      "Epoch 9/15\n",
      "45000/45000 [==============================] - 10s - loss: 0.2137 - acc: 0.9196 - val_loss: 0.3090 - val_acc: 0.8927\n",
      "Epoch 10/15\n",
      "45000/45000 [==============================] - 10s - loss: 0.1994 - acc: 0.9243 - val_loss: 0.3063 - val_acc: 0.8971\n",
      "Epoch 11/15\n",
      "45000/45000 [==============================] - 10s - loss: 0.1894 - acc: 0.9276 - val_loss: 0.3225 - val_acc: 0.8935\n",
      "Epoch 12/15\n",
      "45000/45000 [==============================] - 10s - loss: 0.1780 - acc: 0.9328 - val_loss: 0.3333 - val_acc: 0.8935\n",
      "Epoch 13/15\n",
      "45000/45000 [==============================] - 10s - loss: 0.1712 - acc: 0.9375 - val_loss: 0.3254 - val_acc: 0.8964\n",
      "Epoch 14/15\n",
      "45000/45000 [==============================] - 10s - loss: 0.1636 - acc: 0.9392 - val_loss: 0.3397 - val_acc: 0.8947\n",
      "Epoch 15/15\n",
      "45000/45000 [==============================] - 10s - loss: 0.1530 - acc: 0.9416 - val_loss: 0.3346 - val_acc: 0.8939\n"
     ]
    }
   ],
   "source": [
    "model_3 = Sequential()\n",
    "model_3.add(BatchNormalization(input_shape=(784,)))\n",
    "model_3.add(Dense(512, \n",
    "                activation='relu',\n",
    "                kernel_initializer='he_uniform',\n",
    "                #kernel_regularizer=regularizers.l2(0.01),\n",
    "               ))\n",
    "model_3.add(BatchNormalization())\n",
    "model_3.add(Dropout(.1))\n",
    "model_3.add(Dense(512, \n",
    "                activation='relu', \n",
    "                kernel_initializer='he_uniform',\n",
    "                #kernel_regularizer=regularizers.l2(0.01),\n",
    "               ))\n",
    "model_3.add(BatchNormalization())\n",
    "model_3.add(Dropout(.3))\n",
    "model_3.add(Dense(10, \n",
    "                activation='softmax'))\n",
    "\n",
    "model_3.compile(loss='categorical_crossentropy', optimizer=opt,#SGD(lr=.1), \n",
    "              metrics=['accuracy'])\n",
    "              \n",
    "history_3 = model_3.fit(X_train, y_train, batch_size=128, \n",
    "                            epochs=15, verbose=1, validation_data=(X_valid, y_valid))"
   ]
  },
  {
   "cell_type": "code",
   "execution_count": 404,
   "metadata": {
    "scrolled": true
   },
   "outputs": [
    {
     "data": {
      "image/png": "[encoded data removed]",
      "text/plain": [
       "<matplotlib.figure.Figure at 0x1ac2833c8>"
      ]
     },
     "metadata": {},
     "output_type": "display_data"
    }
   ],
   "source": [
    "mod_plot(history_3,'512,512,10 simple NN')"
   ]
  },
  {
   "cell_type": "code",
   "execution_count": 405,
   "metadata": {
    "scrolled": true
   },
   "outputs": [
    {
     "name": "stdout",
     "output_type": "stream",
     "text": [
      "\tModel Summary:\n",
      "_________________________________________________________________\n",
      "Layer (type)                 Output Shape              Param #   \n",
      "=================================================================\n",
      "batch_normalization_102 (Bat (None, 784)               3136      \n",
      "_________________________________________________________________\n",
      "dense_141 (Dense)            (None, 512)               401920    \n",
      "_________________________________________________________________\n",
      "batch_normalization_103 (Bat (None, 512)               2048      \n",
      "_________________________________________________________________\n",
      "dropout_54 (Dropout)         (None, 512)               0         \n",
      "_________________________________________________________________\n",
      "dense_142 (Dense)            (None, 512)               262656    \n",
      "_________________________________________________________________\n",
      "batch_normalization_104 (Bat (None, 512)               2048      \n",
      "_________________________________________________________________\n",
      "dropout_55 (Dropout)         (None, 512)               0         \n",
      "_________________________________________________________________\n",
      "dense_143 (Dense)            (None, 10)                5130      \n",
      "=================================================================\n",
      "Total params: 676,938\n",
      "Trainable params: 673,322\n",
      "Non-trainable params: 3,616\n",
      "_________________________________________________________________\n",
      "\n",
      "\tModel Test Score: 0.895\n"
     ]
    }
   ],
   "source": [
    "mod_score(model_3)"
   ]
  },
  {
   "cell_type": "markdown",
   "metadata": {},
   "source": [
    "### ConvNet Inspired by VGG\n",
    "\n",
    "---\n",
    "\n",
    "Since Mnist data is naturally in image format, the best machine learning model suited is called a convolutional neural net. This type of architecture takes advantage of the spatial relationship of the datapoints. \n",
    "\n",
    "Conv filters or kernels are a select set of NN layers that slide across the entire image. They're both inspired/found in nature and the outcomes such as edge detector kernels were hand crafted at one point too! Laplace Filter!\n",
    "    1. They have a specified size, usually 3x3, and slide across the image. It is currently recommended to stack many 3x3 filters on top of one another.\n",
    "    2. A single filter's weights are updated only after sliding across an entire image. This means they're somewhat spatially invariant.\n",
    "    3. Stacked, they gerenally build upon each other to create higher level concepts. There is a great youtube video of them being visualized: https://www.youtube.com/watch?v=AgkfIQ4IGaM\n",
    "\n",
    "To use them however, the data has to be formatted in the same way an image would be instead of a long vector.    "
   ]
  },
  {
   "cell_type": "code",
   "execution_count": 456,
   "metadata": {
    "collapsed": true
   },
   "outputs": [],
   "source": [
    "train = pd.read_csv('../../fashionmnist/fashion-mnist_train.csv')\n",
    "test = pd.read_csv('../../fashionmnist/fashion-mnist_test.csv')"
   ]
  },
  {
   "cell_type": "code",
   "execution_count": 457,
   "metadata": {},
   "outputs": [],
   "source": [
    "X_train_conv = np.array(train.drop('label',axis=1)).reshape(60000,28,28,1)\n",
    "y_train_conv = np.array(train['label'])\n",
    "X_test_conv = np.array(test.drop('label',axis=1)).reshape(10000,28,28,1)\n",
    "y_test_conv = np.array(test['label'])"
   ]
  },
  {
   "cell_type": "code",
   "execution_count": 458,
   "metadata": {
    "collapsed": true
   },
   "outputs": [],
   "source": [
    "X_train_conv, X_valid_conv, y_train_conv, y_valid_conv = train_test_split(X_train_conv, y_train_conv)"
   ]
  },
  {
   "cell_type": "code",
   "execution_count": 459,
   "metadata": {},
   "outputs": [
    {
     "data": {
      "text/plain": [
       "(45000, 28, 28, 1)"
      ]
     },
     "execution_count": 459,
     "metadata": {},
     "output_type": "execute_result"
    }
   ],
   "source": [
    "X_train_conv.shape"
   ]
  },
  {
   "cell_type": "code",
   "execution_count": 460,
   "metadata": {},
   "outputs": [
    {
     "data": {
      "text/plain": [
       "(10000, 28, 28, 1)"
      ]
     },
     "execution_count": 460,
     "metadata": {},
     "output_type": "execute_result"
    }
   ],
   "source": [
    "X_test_conv.shape"
   ]
  },
  {
   "cell_type": "code",
   "execution_count": 461,
   "metadata": {
    "collapsed": true
   },
   "outputs": [],
   "source": [
    "y_train_conv = to_categorical(y_train_conv,10)\n",
    "y_valid_conv = to_categorical(y_valid_conv,10)\n",
    "y_test_conv = to_categorical(y_test_conv,10)"
   ]
  },
  {
   "cell_type": "code",
   "execution_count": 462,
   "metadata": {},
   "outputs": [
    {
     "data": {
      "text/plain": [
       "(45000, 10)"
      ]
     },
     "execution_count": 462,
     "metadata": {},
     "output_type": "execute_result"
    }
   ],
   "source": [
    "y_train_conv.shape"
   ]
  },
  {
   "cell_type": "code",
   "execution_count": 463,
   "metadata": {},
   "outputs": [
    {
     "data": {
      "text/plain": [
       "(15000, 28, 28, 1)"
      ]
     },
     "execution_count": 463,
     "metadata": {},
     "output_type": "execute_result"
    }
   ],
   "source": [
    "X_valid_conv.shape"
   ]
  },
  {
   "cell_type": "code",
   "execution_count": 466,
   "metadata": {
    "collapsed": true
   },
   "outputs": [],
   "source": [
    "def create_conv_model(pool=(2,2),do=.5):\n",
    "    model = Sequential()\n",
    "    model.add(BatchNormalization(axis=1,input_shape=(img_cols,img_rows,1)))\n",
    "    model.add(Conv2D(32,kernel_size=(3,3),\n",
    "                     activation='relu', \n",
    "                     padding='same',\n",
    "                     kernel_initializer='he_normal'))\n",
    "    model.add(BatchNormalization(axis=1))\n",
    "    model.add(MaxPooling2D(pool_size=pool))\n",
    "    model.add(Conv2D(32,(3,3), \n",
    "                     padding='same',\n",
    "                     activation='relu',\n",
    "                     kernel_initializer='he_normal'))\n",
    "    model.add(BatchNormalization(axis=1))\n",
    "    model.add(MaxPooling2D(pool_size=pool))\n",
    "    model.add(Flatten())\n",
    "    model.add(BatchNormalization())\n",
    "    model.add(Dropout(do))\n",
    "    model.add(Dense(512, activation='relu', kernel_initializer='he_normal'))\n",
    "    model.add(Dense(10, activation='softmax', kernel_initializer='he_normal'))\n",
    "\n",
    "    opt = Adam(lr=.001)\n",
    "\n",
    "    model.compile(optimizer=opt, \n",
    "                  loss='categorical_crossentropy', \n",
    "                  metrics=['accuracy'])\n",
    "    return model"
   ]
  },
  {
   "cell_type": "markdown",
   "metadata": {},
   "source": [
    "### Conv NN\n",
    "\n",
    "Maxpooling: 2,2\n",
    "Dropout: .5"
   ]
  },
  {
   "cell_type": "code",
   "execution_count": 465,
   "metadata": {},
   "outputs": [
    {
     "name": "stdout",
     "output_type": "stream",
     "text": [
      "Train on 45000 samples, validate on 15000 samples\n",
      "Epoch 1/1\n",
      "45000/45000 [==============================] - 209s - loss: 0.5442 - acc: 0.8240 - val_loss: 0.3345 - val_acc: 0.8833\n"
     ]
    }
   ],
   "source": [
    "model = create_conv_model()\n",
    "history_4 = model.fit(X_train_conv, y_train_conv, \n",
    "                    batch_size=128, \n",
    "                    epochs=1, \n",
    "                    verbose=True, \n",
    "                    validation_data=(X_valid_conv, y_valid_conv))"
   ]
  },
  {
   "cell_type": "markdown",
   "metadata": {},
   "source": [
    "---\n",
    "You can see our model here has got a little bit too much regularization - probably from the dropout(.5) because its performing far better on the validation set than the training set. I'll loosen that up and possibly change the maxpooling to 3x3 to speed up the training."
   ]
  },
  {
   "cell_type": "code",
   "execution_count": 468,
   "metadata": {},
   "outputs": [
    {
     "name": "stdout",
     "output_type": "stream",
     "text": [
      "Train on 45000 samples, validate on 15000 samples\n",
      "Epoch 1/1\n",
      "45000/45000 [==============================] - 211s - loss: 0.4835 - acc: 0.8409 - val_loss: 0.3135 - val_acc: 0.8898\n"
     ]
    }
   ],
   "source": [
    "model = create_conv_model(do=.3)\n",
    "history_5 = model.fit(X_train_conv, y_train_conv, \n",
    "                    batch_size=128, \n",
    "                    epochs=1, \n",
    "                    verbose=True, \n",
    "                    validation_data=(X_valid_conv, y_valid_conv))"
   ]
  },
  {
   "cell_type": "markdown",
   "metadata": {},
   "source": [
    "---\n",
    "These could also benefit from additional conv layers - but in the interest of time I'm going to run them a few epochs to compare to the simple networks above."
   ]
  },
  {
   "cell_type": "code",
   "execution_count": 469,
   "metadata": {},
   "outputs": [
    {
     "name": "stdout",
     "output_type": "stream",
     "text": [
      "Train on 45000 samples, validate on 15000 samples\n",
      "Epoch 1/5\n",
      "45000/45000 [==============================] - 211s - loss: 0.4449 - acc: 0.8505 - val_loss: 0.3343 - val_acc: 0.8827\n",
      "Epoch 2/5\n",
      "45000/45000 [==============================] - 208s - loss: 0.2848 - acc: 0.8982 - val_loss: 0.2630 - val_acc: 0.9050\n",
      "Epoch 3/5\n",
      "45000/45000 [==============================] - 212s - loss: 0.2220 - acc: 0.9181 - val_loss: 0.2610 - val_acc: 0.9105\n",
      "Epoch 4/5\n",
      "45000/45000 [==============================] - 214s - loss: 0.1890 - acc: 0.9298 - val_loss: 0.2691 - val_acc: 0.9035\n",
      "Epoch 5/5\n",
      "45000/45000 [==============================] - 210s - loss: 0.1604 - acc: 0.9397 - val_loss: 0.2597 - val_acc: 0.9135\n"
     ]
    }
   ],
   "source": [
    "model = create_conv_model(do=.2)\n",
    "history_6 = model.fit(X_train_conv, y_train_conv, \n",
    "                    batch_size=128, \n",
    "                    epochs=5, \n",
    "                    verbose=True, \n",
    "                    validation_data=(X_valid_conv, y_valid_conv))"
   ]
  },
  {
   "cell_type": "code",
   "execution_count": null,
   "metadata": {
    "collapsed": true
   },
   "outputs": [],
   "source": []
  },
  {
   "cell_type": "code",
   "execution_count": null,
   "metadata": {
    "collapsed": true
   },
   "outputs": [],
   "source": []
  },
  {
   "cell_type": "code",
   "execution_count": null,
   "metadata": {
    "collapsed": true
   },
   "outputs": [],
   "source": []
  },
  {
   "cell_type": "code",
   "execution_count": 285,
   "metadata": {},
   "outputs": [],
   "source": [
    "conv = sample_comparison(create_conv_model, X_train_conv, y_train_conv)"
   ]
  },
  {
   "cell_type": "code",
   "execution_count": 291,
   "metadata": {
    "collapsed": true
   },
   "outputs": [],
   "source": [
    "conv.set_sample_sizes([500,10000,45000])"
   ]
  },
  {
   "cell_type": "code",
   "execution_count": 298,
   "metadata": {},
   "outputs": [
    {
     "data": {
      "text/plain": [
       "(500, 28, 28, 1)"
      ]
     },
     "execution_count": 298,
     "metadata": {},
     "output_type": "execute_result"
    }
   ],
   "source": [
    "conv.X_train_inds[500].shape"
   ]
  },
  {
   "cell_type": "code",
   "execution_count": 300,
   "metadata": {},
   "outputs": [
    {
     "name": "stdout",
     "output_type": "stream",
     "text": [
      "Train on 500 samples, validate on 5000 samples\n",
      "Epoch 1/10\n",
      "500/500 [==============================] - 73s - loss: 4.7978 - acc: 0.5060 - val_loss: 1.5135 - val_acc: 0.6542\n",
      "Epoch 2/10\n",
      "500/500 [==============================] - 72s - loss: 2.7960 - acc: 0.8100 - val_loss: 1.6317 - val_acc: 0.4452\n",
      "Epoch 3/10\n",
      "500/500 [==============================] - 72s - loss: 2.9128 - acc: 0.8000 - val_loss: 1.7590 - val_acc: 0.3046\n",
      "Epoch 4/10\n",
      "500/500 [==============================] - 72s - loss: 2.3827 - acc: 0.8440 - val_loss: 2.1571 - val_acc: 0.3118\n",
      "Epoch 5/10\n",
      "500/500 [==============================] - 72s - loss: 2.0661 - acc: 0.8700 - val_loss: 3.2403 - val_acc: 0.2418\n",
      "Epoch 6/10\n",
      "500/500 [==============================] - 72s - loss: 2.0887 - acc: 0.8660 - val_loss: 4.8178 - val_acc: 0.1956\n",
      "Epoch 7/10\n",
      "500/500 [==============================] - 72s - loss: 1.9704 - acc: 0.8740 - val_loss: 6.5842 - val_acc: 0.1666\n",
      "Epoch 8/10\n",
      "500/500 [==============================] - 72s - loss: 1.8896 - acc: 0.8780 - val_loss: 8.3354 - val_acc: 0.1532\n",
      "Epoch 9/10\n",
      "500/500 [==============================] - 71s - loss: 1.7724 - acc: 0.8840 - val_loss: 9.9344 - val_acc: 0.1268\n",
      "Epoch 10/10\n",
      "500/500 [==============================] - 72s - loss: 1.7458 - acc: 0.8880 - val_loss: 10.5315 - val_acc: 0.1238\n",
      "Train on 10000 samples, validate on 5000 samples\n",
      "Epoch 1/10\n",
      "10000/10000 [==============================] - 350s - loss: 2.9536 - acc: 0.7962 - val_loss: 12.9235 - val_acc: 0.1344\n",
      "Epoch 2/10\n",
      "10000/10000 [==============================] - 351s - loss: 1.6520 - acc: 0.8907 - val_loss: 6.7526 - val_acc: 0.4962\n",
      "Epoch 3/10\n",
      "10000/10000 [==============================] - 351s - loss: 1.5351 - acc: 0.8987 - val_loss: 3.9900 - val_acc: 0.7258\n",
      "Epoch 4/10\n",
      "10000/10000 [==============================] - 350s - loss: 1.2577 - acc: 0.9183 - val_loss: 1.8860 - val_acc: 0.8704\n",
      "Epoch 5/10\n",
      " 1152/10000 [==>...........................] - ETA: 248s - loss: 1.7440 - acc: 0.8898"
     ]
    },
    {
     "ename": "KeyboardInterrupt",
     "evalue": "",
     "output_type": "error",
     "traceback": [
      "\u001b[0;31m---------------------------------------------------------------------------\u001b[0m",
      "\u001b[0;31mKeyboardInterrupt\u001b[0m                         Traceback (most recent call last)",
      "\u001b[0;32m<ipython-input-300-8ece917770e4>\u001b[0m in \u001b[0;36m<module>\u001b[0;34m()\u001b[0m\n\u001b[0;32m----> 1\u001b[0;31m \u001b[0mconv\u001b[0m\u001b[0;34m.\u001b[0m\u001b[0mtrain\u001b[0m\u001b[0;34m(\u001b[0m\u001b[0mX_valid_conv\u001b[0m\u001b[0;34m[\u001b[0m\u001b[0;34m:\u001b[0m\u001b[0;36m5000\u001b[0m\u001b[0;34m]\u001b[0m\u001b[0;34m,\u001b[0m\u001b[0my_valid_conv\u001b[0m\u001b[0;34m[\u001b[0m\u001b[0;34m:\u001b[0m\u001b[0;36m5000\u001b[0m\u001b[0;34m]\u001b[0m\u001b[0;34m)\u001b[0m\u001b[0;34m\u001b[0m\u001b[0m\n\u001b[0m",
      "\u001b[0;32m<ipython-input-275-6ba9e48ce48e>\u001b[0m in \u001b[0;36mtrain\u001b[0;34m(self, X_valid, y_valid, verbose, epochs)\u001b[0m\n\u001b[1;32m     44\u001b[0m             \u001b[0;31m# save model history\u001b[0m\u001b[0;34m\u001b[0m\u001b[0;34m\u001b[0m\u001b[0m\n\u001b[1;32m     45\u001b[0m             self.sample_history[sample_size] = self.model.fit(X_train, y_train, batch_size=128, \n\u001b[0;32m---> 46\u001b[0;31m                                     epochs=epochs, verbose=verbose, validation_data=(X_valid, y_valid))\n\u001b[0m\u001b[1;32m     47\u001b[0m             \u001b[0;31m# save model weights\u001b[0m\u001b[0;34m\u001b[0m\u001b[0;34m\u001b[0m\u001b[0m\n\u001b[1;32m     48\u001b[0m             \u001b[0mself\u001b[0m\u001b[0;34m.\u001b[0m\u001b[0msample_model\u001b[0m\u001b[0;34m[\u001b[0m\u001b[0msample_size\u001b[0m\u001b[0;34m]\u001b[0m \u001b[0;34m=\u001b[0m \u001b[0mself\u001b[0m\u001b[0;34m.\u001b[0m\u001b[0mmodel\u001b[0m\u001b[0;34m\u001b[0m\u001b[0m\n",
      "\u001b[0;32m/Users/xbno/anaconda/lib/python3.6/site-packages/keras/models.py\u001b[0m in \u001b[0;36mfit\u001b[0;34m(self, x, y, batch_size, epochs, verbose, callbacks, validation_split, validation_data, shuffle, class_weight, sample_weight, initial_epoch, **kwargs)\u001b[0m\n\u001b[1;32m    861\u001b[0m                               \u001b[0mclass_weight\u001b[0m\u001b[0;34m=\u001b[0m\u001b[0mclass_weight\u001b[0m\u001b[0;34m,\u001b[0m\u001b[0;34m\u001b[0m\u001b[0m\n\u001b[1;32m    862\u001b[0m                               \u001b[0msample_weight\u001b[0m\u001b[0;34m=\u001b[0m\u001b[0msample_weight\u001b[0m\u001b[0;34m,\u001b[0m\u001b[0;34m\u001b[0m\u001b[0m\n\u001b[0;32m--> 863\u001b[0;31m                               initial_epoch=initial_epoch)\n\u001b[0m\u001b[1;32m    864\u001b[0m \u001b[0;34m\u001b[0m\u001b[0m\n\u001b[1;32m    865\u001b[0m     def evaluate(self, x, y, batch_size=32, verbose=1,\n",
      "\u001b[0;32m/Users/xbno/anaconda/lib/python3.6/site-packages/keras/engine/training.py\u001b[0m in \u001b[0;36mfit\u001b[0;34m(self, x, y, batch_size, epochs, verbose, callbacks, validation_split, validation_data, shuffle, class_weight, sample_weight, initial_epoch, **kwargs)\u001b[0m\n\u001b[1;32m   1428\u001b[0m                               \u001b[0mval_f\u001b[0m\u001b[0;34m=\u001b[0m\u001b[0mval_f\u001b[0m\u001b[0;34m,\u001b[0m \u001b[0mval_ins\u001b[0m\u001b[0;34m=\u001b[0m\u001b[0mval_ins\u001b[0m\u001b[0;34m,\u001b[0m \u001b[0mshuffle\u001b[0m\u001b[0;34m=\u001b[0m\u001b[0mshuffle\u001b[0m\u001b[0;34m,\u001b[0m\u001b[0;34m\u001b[0m\u001b[0m\n\u001b[1;32m   1429\u001b[0m                               \u001b[0mcallback_metrics\u001b[0m\u001b[0;34m=\u001b[0m\u001b[0mcallback_metrics\u001b[0m\u001b[0;34m,\u001b[0m\u001b[0;34m\u001b[0m\u001b[0m\n\u001b[0;32m-> 1430\u001b[0;31m                               initial_epoch=initial_epoch)\n\u001b[0m\u001b[1;32m   1431\u001b[0m \u001b[0;34m\u001b[0m\u001b[0m\n\u001b[1;32m   1432\u001b[0m     \u001b[0;32mdef\u001b[0m \u001b[0mevaluate\u001b[0m\u001b[0;34m(\u001b[0m\u001b[0mself\u001b[0m\u001b[0;34m,\u001b[0m \u001b[0mx\u001b[0m\u001b[0;34m,\u001b[0m \u001b[0my\u001b[0m\u001b[0;34m,\u001b[0m \u001b[0mbatch_size\u001b[0m\u001b[0;34m=\u001b[0m\u001b[0;36m32\u001b[0m\u001b[0;34m,\u001b[0m \u001b[0mverbose\u001b[0m\u001b[0;34m=\u001b[0m\u001b[0;36m1\u001b[0m\u001b[0;34m,\u001b[0m \u001b[0msample_weight\u001b[0m\u001b[0;34m=\u001b[0m\u001b[0;32mNone\u001b[0m\u001b[0;34m)\u001b[0m\u001b[0;34m:\u001b[0m\u001b[0;34m\u001b[0m\u001b[0m\n",
      "\u001b[0;32m/Users/xbno/anaconda/lib/python3.6/site-packages/keras/engine/training.py\u001b[0m in \u001b[0;36m_fit_loop\u001b[0;34m(self, f, ins, out_labels, batch_size, epochs, verbose, callbacks, val_f, val_ins, shuffle, callback_metrics, initial_epoch)\u001b[0m\n\u001b[1;32m   1077\u001b[0m                 \u001b[0mbatch_logs\u001b[0m\u001b[0;34m[\u001b[0m\u001b[0;34m'size'\u001b[0m\u001b[0;34m]\u001b[0m \u001b[0;34m=\u001b[0m \u001b[0mlen\u001b[0m\u001b[0;34m(\u001b[0m\u001b[0mbatch_ids\u001b[0m\u001b[0;34m)\u001b[0m\u001b[0;34m\u001b[0m\u001b[0m\n\u001b[1;32m   1078\u001b[0m                 \u001b[0mcallbacks\u001b[0m\u001b[0;34m.\u001b[0m\u001b[0mon_batch_begin\u001b[0m\u001b[0;34m(\u001b[0m\u001b[0mbatch_index\u001b[0m\u001b[0;34m,\u001b[0m \u001b[0mbatch_logs\u001b[0m\u001b[0;34m)\u001b[0m\u001b[0;34m\u001b[0m\u001b[0m\n\u001b[0;32m-> 1079\u001b[0;31m                 \u001b[0mouts\u001b[0m \u001b[0;34m=\u001b[0m \u001b[0mf\u001b[0m\u001b[0;34m(\u001b[0m\u001b[0mins_batch\u001b[0m\u001b[0;34m)\u001b[0m\u001b[0;34m\u001b[0m\u001b[0m\n\u001b[0m\u001b[1;32m   1080\u001b[0m                 \u001b[0;32mif\u001b[0m \u001b[0;32mnot\u001b[0m \u001b[0misinstance\u001b[0m\u001b[0;34m(\u001b[0m\u001b[0mouts\u001b[0m\u001b[0;34m,\u001b[0m \u001b[0mlist\u001b[0m\u001b[0;34m)\u001b[0m\u001b[0;34m:\u001b[0m\u001b[0;34m\u001b[0m\u001b[0m\n\u001b[1;32m   1081\u001b[0m                     \u001b[0mouts\u001b[0m \u001b[0;34m=\u001b[0m \u001b[0;34m[\u001b[0m\u001b[0mouts\u001b[0m\u001b[0;34m]\u001b[0m\u001b[0;34m\u001b[0m\u001b[0m\n",
      "\u001b[0;32m/Users/xbno/anaconda/lib/python3.6/site-packages/keras/backend/theano_backend.py\u001b[0m in \u001b[0;36m__call__\u001b[0;34m(self, inputs)\u001b[0m\n\u001b[1;32m   1195\u001b[0m     \u001b[0;32mdef\u001b[0m \u001b[0m__call__\u001b[0m\u001b[0;34m(\u001b[0m\u001b[0mself\u001b[0m\u001b[0;34m,\u001b[0m \u001b[0minputs\u001b[0m\u001b[0;34m)\u001b[0m\u001b[0;34m:\u001b[0m\u001b[0;34m\u001b[0m\u001b[0m\n\u001b[1;32m   1196\u001b[0m         \u001b[0;32massert\u001b[0m \u001b[0misinstance\u001b[0m\u001b[0;34m(\u001b[0m\u001b[0minputs\u001b[0m\u001b[0;34m,\u001b[0m \u001b[0;34m(\u001b[0m\u001b[0mlist\u001b[0m\u001b[0;34m,\u001b[0m \u001b[0mtuple\u001b[0m\u001b[0;34m)\u001b[0m\u001b[0;34m)\u001b[0m\u001b[0;34m\u001b[0m\u001b[0m\n\u001b[0;32m-> 1197\u001b[0;31m         \u001b[0;32mreturn\u001b[0m \u001b[0mself\u001b[0m\u001b[0;34m.\u001b[0m\u001b[0mfunction\u001b[0m\u001b[0;34m(\u001b[0m\u001b[0;34m*\u001b[0m\u001b[0minputs\u001b[0m\u001b[0;34m)\u001b[0m\u001b[0;34m\u001b[0m\u001b[0m\n\u001b[0m\u001b[1;32m   1198\u001b[0m \u001b[0;34m\u001b[0m\u001b[0m\n\u001b[1;32m   1199\u001b[0m \u001b[0;34m\u001b[0m\u001b[0m\n",
      "\u001b[0;32m/Users/xbno/anaconda/lib/python3.6/site-packages/theano/compile/function_module.py\u001b[0m in \u001b[0;36m__call__\u001b[0;34m(self, *args, **kwargs)\u001b[0m\n\u001b[1;32m    882\u001b[0m         \u001b[0;32mtry\u001b[0m\u001b[0;34m:\u001b[0m\u001b[0;34m\u001b[0m\u001b[0m\n\u001b[1;32m    883\u001b[0m             \u001b[0moutputs\u001b[0m \u001b[0;34m=\u001b[0m\u001b[0;31m\\\u001b[0m\u001b[0;34m\u001b[0m\u001b[0m\n\u001b[0;32m--> 884\u001b[0;31m                 \u001b[0mself\u001b[0m\u001b[0;34m.\u001b[0m\u001b[0mfn\u001b[0m\u001b[0;34m(\u001b[0m\u001b[0;34m)\u001b[0m \u001b[0;32mif\u001b[0m \u001b[0moutput_subset\u001b[0m \u001b[0;32mis\u001b[0m \u001b[0;32mNone\u001b[0m \u001b[0;32melse\u001b[0m\u001b[0;31m\\\u001b[0m\u001b[0;34m\u001b[0m\u001b[0m\n\u001b[0m\u001b[1;32m    885\u001b[0m                 \u001b[0mself\u001b[0m\u001b[0;34m.\u001b[0m\u001b[0mfn\u001b[0m\u001b[0;34m(\u001b[0m\u001b[0moutput_subset\u001b[0m\u001b[0;34m=\u001b[0m\u001b[0moutput_subset\u001b[0m\u001b[0;34m)\u001b[0m\u001b[0;34m\u001b[0m\u001b[0m\n\u001b[1;32m    886\u001b[0m         \u001b[0;32mexcept\u001b[0m \u001b[0mException\u001b[0m\u001b[0;34m:\u001b[0m\u001b[0;34m\u001b[0m\u001b[0m\n",
      "\u001b[0;32m/Users/xbno/anaconda/lib/python3.6/site-packages/theano/ifelse.py\u001b[0m in \u001b[0;36mthunk\u001b[0;34m()\u001b[0m\n\u001b[1;32m    244\u001b[0m         \u001b[0moutputs\u001b[0m \u001b[0;34m=\u001b[0m \u001b[0mnode\u001b[0m\u001b[0;34m.\u001b[0m\u001b[0moutputs\u001b[0m\u001b[0;34m\u001b[0m\u001b[0m\n\u001b[1;32m    245\u001b[0m \u001b[0;34m\u001b[0m\u001b[0m\n\u001b[0;32m--> 246\u001b[0;31m         \u001b[0;32mdef\u001b[0m \u001b[0mthunk\u001b[0m\u001b[0;34m(\u001b[0m\u001b[0;34m)\u001b[0m\u001b[0;34m:\u001b[0m\u001b[0;34m\u001b[0m\u001b[0m\n\u001b[0m\u001b[1;32m    247\u001b[0m             \u001b[0;32mif\u001b[0m \u001b[0;32mnot\u001b[0m \u001b[0mcompute_map\u001b[0m\u001b[0;34m[\u001b[0m\u001b[0mcond\u001b[0m\u001b[0;34m]\u001b[0m\u001b[0;34m[\u001b[0m\u001b[0;36m0\u001b[0m\u001b[0;34m]\u001b[0m\u001b[0;34m:\u001b[0m\u001b[0;34m\u001b[0m\u001b[0m\n\u001b[1;32m    248\u001b[0m                 \u001b[0;32mreturn\u001b[0m \u001b[0;34m[\u001b[0m\u001b[0;36m0\u001b[0m\u001b[0;34m]\u001b[0m\u001b[0;34m\u001b[0m\u001b[0m\n",
      "\u001b[0;31mKeyboardInterrupt\u001b[0m: "
     ]
    }
   ],
   "source": [
    "conv.train(X_valid_conv[:5000],y_valid_conv[:5000])"
   ]
  },
  {
   "cell_type": "code",
   "execution_count": 287,
   "metadata": {
    "collapsed": true
   },
   "outputs": [
    {
     "name": "stdout",
     "output_type": "stream",
     "text": [
      "Train on 500 samples, validate on 15000 samples\n",
      "Epoch 1/10\n",
      "500/500 [==============================] - 190s - loss: 3.7519 - acc: 0.5480 - val_loss: 1.4680 - val_acc: 0.5909\n",
      "Epoch 2/10\n",
      "500/500 [==============================] - 189s - loss: 2.3973 - acc: 0.8360 - val_loss: 1.2930 - val_acc: 0.5701\n",
      "Epoch 3/10\n",
      "500/500 [==============================] - 188s - loss: 1.9843 - acc: 0.8640 - val_loss: 1.7749 - val_acc: 0.4423\n",
      "Epoch 4/10\n",
      "500/500 [==============================] - 188s - loss: 1.8687 - acc: 0.8740 - val_loss: 2.5985 - val_acc: 0.3695\n",
      "Epoch 5/10\n",
      "500/500 [==============================] - 189s - loss: 1.7762 - acc: 0.8840 - val_loss: 3.4514 - val_acc: 0.3345\n",
      "Epoch 6/10\n",
      "500/500 [==============================] - 189s - loss: 1.7372 - acc: 0.8840 - val_loss: 4.6012 - val_acc: 0.2953\n",
      "Epoch 7/10\n"
     ]
    },
    {
     "ename": "KeyboardInterrupt",
     "evalue": "",
     "output_type": "error",
     "traceback": [
      "\u001b[0;31m---------------------------------------------------------------------------\u001b[0m",
      "\u001b[0;31mKeyboardInterrupt\u001b[0m                         Traceback (most recent call last)",
      "\u001b[0;32m<ipython-input-287-ab4808323416>\u001b[0m in \u001b[0;36m<module>\u001b[0;34m()\u001b[0m\n\u001b[1;32m      1\u001b[0m \u001b[0mconv\u001b[0m\u001b[0;34m.\u001b[0m\u001b[0mset_sample_sizes\u001b[0m\u001b[0;34m(\u001b[0m\u001b[0;34m[\u001b[0m\u001b[0;36m500\u001b[0m\u001b[0;34m,\u001b[0m\u001b[0;36m10000\u001b[0m\u001b[0;34m,\u001b[0m\u001b[0;36m45000\u001b[0m\u001b[0;34m]\u001b[0m\u001b[0;34m)\u001b[0m\u001b[0;34m\u001b[0m\u001b[0m\n\u001b[1;32m      2\u001b[0m \u001b[0;34m\u001b[0m\u001b[0m\n\u001b[0;32m----> 3\u001b[0;31m \u001b[0mconv\u001b[0m\u001b[0;34m.\u001b[0m\u001b[0mtrain\u001b[0m\u001b[0;34m(\u001b[0m\u001b[0mX_valid_conv\u001b[0m\u001b[0;34m,\u001b[0m\u001b[0my_valid_conv\u001b[0m\u001b[0;34m)\u001b[0m\u001b[0;34m\u001b[0m\u001b[0m\n\u001b[0m\u001b[1;32m      4\u001b[0m \u001b[0;34m\u001b[0m\u001b[0m\n\u001b[1;32m      5\u001b[0m \u001b[0mconv\u001b[0m\u001b[0;34m.\u001b[0m\u001b[0mscore\u001b[0m\u001b[0;34m(\u001b[0m\u001b[0mX_test_conv\u001b[0m\u001b[0;34m,\u001b[0m \u001b[0my_test_conv\u001b[0m\u001b[0;34m)\u001b[0m\u001b[0;34m\u001b[0m\u001b[0m\n",
      "\u001b[0;32m<ipython-input-275-6ba9e48ce48e>\u001b[0m in \u001b[0;36mtrain\u001b[0;34m(self, X_valid, y_valid, verbose, epochs)\u001b[0m\n\u001b[1;32m     44\u001b[0m             \u001b[0;31m# save model history\u001b[0m\u001b[0;34m\u001b[0m\u001b[0;34m\u001b[0m\u001b[0m\n\u001b[1;32m     45\u001b[0m             self.sample_history[sample_size] = self.model.fit(X_train, y_train, batch_size=128, \n\u001b[0;32m---> 46\u001b[0;31m                                     epochs=epochs, verbose=verbose, validation_data=(X_valid, y_valid))\n\u001b[0m\u001b[1;32m     47\u001b[0m             \u001b[0;31m# save model weights\u001b[0m\u001b[0;34m\u001b[0m\u001b[0;34m\u001b[0m\u001b[0m\n\u001b[1;32m     48\u001b[0m             \u001b[0mself\u001b[0m\u001b[0;34m.\u001b[0m\u001b[0msample_model\u001b[0m\u001b[0;34m[\u001b[0m\u001b[0msample_size\u001b[0m\u001b[0;34m]\u001b[0m \u001b[0;34m=\u001b[0m \u001b[0mself\u001b[0m\u001b[0;34m.\u001b[0m\u001b[0mmodel\u001b[0m\u001b[0;34m\u001b[0m\u001b[0m\n",
      "\u001b[0;32m/Users/xbno/anaconda/lib/python3.6/site-packages/keras/models.py\u001b[0m in \u001b[0;36mfit\u001b[0;34m(self, x, y, batch_size, epochs, verbose, callbacks, validation_split, validation_data, shuffle, class_weight, sample_weight, initial_epoch, **kwargs)\u001b[0m\n\u001b[1;32m    861\u001b[0m                               \u001b[0mclass_weight\u001b[0m\u001b[0;34m=\u001b[0m\u001b[0mclass_weight\u001b[0m\u001b[0;34m,\u001b[0m\u001b[0;34m\u001b[0m\u001b[0m\n\u001b[1;32m    862\u001b[0m                               \u001b[0msample_weight\u001b[0m\u001b[0;34m=\u001b[0m\u001b[0msample_weight\u001b[0m\u001b[0;34m,\u001b[0m\u001b[0;34m\u001b[0m\u001b[0m\n\u001b[0;32m--> 863\u001b[0;31m                               initial_epoch=initial_epoch)\n\u001b[0m\u001b[1;32m    864\u001b[0m \u001b[0;34m\u001b[0m\u001b[0m\n\u001b[1;32m    865\u001b[0m     def evaluate(self, x, y, batch_size=32, verbose=1,\n",
      "\u001b[0;32m/Users/xbno/anaconda/lib/python3.6/site-packages/keras/engine/training.py\u001b[0m in \u001b[0;36mfit\u001b[0;34m(self, x, y, batch_size, epochs, verbose, callbacks, validation_split, validation_data, shuffle, class_weight, sample_weight, initial_epoch, **kwargs)\u001b[0m\n\u001b[1;32m   1428\u001b[0m                               \u001b[0mval_f\u001b[0m\u001b[0;34m=\u001b[0m\u001b[0mval_f\u001b[0m\u001b[0;34m,\u001b[0m \u001b[0mval_ins\u001b[0m\u001b[0;34m=\u001b[0m\u001b[0mval_ins\u001b[0m\u001b[0;34m,\u001b[0m \u001b[0mshuffle\u001b[0m\u001b[0;34m=\u001b[0m\u001b[0mshuffle\u001b[0m\u001b[0;34m,\u001b[0m\u001b[0;34m\u001b[0m\u001b[0m\n\u001b[1;32m   1429\u001b[0m                               \u001b[0mcallback_metrics\u001b[0m\u001b[0;34m=\u001b[0m\u001b[0mcallback_metrics\u001b[0m\u001b[0;34m,\u001b[0m\u001b[0;34m\u001b[0m\u001b[0m\n\u001b[0;32m-> 1430\u001b[0;31m                               initial_epoch=initial_epoch)\n\u001b[0m\u001b[1;32m   1431\u001b[0m \u001b[0;34m\u001b[0m\u001b[0m\n\u001b[1;32m   1432\u001b[0m     \u001b[0;32mdef\u001b[0m \u001b[0mevaluate\u001b[0m\u001b[0;34m(\u001b[0m\u001b[0mself\u001b[0m\u001b[0;34m,\u001b[0m \u001b[0mx\u001b[0m\u001b[0;34m,\u001b[0m \u001b[0my\u001b[0m\u001b[0;34m,\u001b[0m \u001b[0mbatch_size\u001b[0m\u001b[0;34m=\u001b[0m\u001b[0;36m32\u001b[0m\u001b[0;34m,\u001b[0m \u001b[0mverbose\u001b[0m\u001b[0;34m=\u001b[0m\u001b[0;36m1\u001b[0m\u001b[0;34m,\u001b[0m \u001b[0msample_weight\u001b[0m\u001b[0;34m=\u001b[0m\u001b[0;32mNone\u001b[0m\u001b[0;34m)\u001b[0m\u001b[0;34m:\u001b[0m\u001b[0;34m\u001b[0m\u001b[0m\n",
      "\u001b[0;32m/Users/xbno/anaconda/lib/python3.6/site-packages/keras/engine/training.py\u001b[0m in \u001b[0;36m_fit_loop\u001b[0;34m(self, f, ins, out_labels, batch_size, epochs, verbose, callbacks, val_f, val_ins, shuffle, callback_metrics, initial_epoch)\u001b[0m\n\u001b[1;32m   1077\u001b[0m                 \u001b[0mbatch_logs\u001b[0m\u001b[0;34m[\u001b[0m\u001b[0;34m'size'\u001b[0m\u001b[0;34m]\u001b[0m \u001b[0;34m=\u001b[0m \u001b[0mlen\u001b[0m\u001b[0;34m(\u001b[0m\u001b[0mbatch_ids\u001b[0m\u001b[0;34m)\u001b[0m\u001b[0;34m\u001b[0m\u001b[0m\n\u001b[1;32m   1078\u001b[0m                 \u001b[0mcallbacks\u001b[0m\u001b[0;34m.\u001b[0m\u001b[0mon_batch_begin\u001b[0m\u001b[0;34m(\u001b[0m\u001b[0mbatch_index\u001b[0m\u001b[0;34m,\u001b[0m \u001b[0mbatch_logs\u001b[0m\u001b[0;34m)\u001b[0m\u001b[0;34m\u001b[0m\u001b[0m\n\u001b[0;32m-> 1079\u001b[0;31m                 \u001b[0mouts\u001b[0m \u001b[0;34m=\u001b[0m \u001b[0mf\u001b[0m\u001b[0;34m(\u001b[0m\u001b[0mins_batch\u001b[0m\u001b[0;34m)\u001b[0m\u001b[0;34m\u001b[0m\u001b[0m\n\u001b[0m\u001b[1;32m   1080\u001b[0m                 \u001b[0;32mif\u001b[0m \u001b[0;32mnot\u001b[0m \u001b[0misinstance\u001b[0m\u001b[0;34m(\u001b[0m\u001b[0mouts\u001b[0m\u001b[0;34m,\u001b[0m \u001b[0mlist\u001b[0m\u001b[0;34m)\u001b[0m\u001b[0;34m:\u001b[0m\u001b[0;34m\u001b[0m\u001b[0m\n\u001b[1;32m   1081\u001b[0m                     \u001b[0mouts\u001b[0m \u001b[0;34m=\u001b[0m \u001b[0;34m[\u001b[0m\u001b[0mouts\u001b[0m\u001b[0;34m]\u001b[0m\u001b[0;34m\u001b[0m\u001b[0m\n",
      "\u001b[0;32m/Users/xbno/anaconda/lib/python3.6/site-packages/keras/backend/theano_backend.py\u001b[0m in \u001b[0;36m__call__\u001b[0;34m(self, inputs)\u001b[0m\n\u001b[1;32m   1195\u001b[0m     \u001b[0;32mdef\u001b[0m \u001b[0m__call__\u001b[0m\u001b[0;34m(\u001b[0m\u001b[0mself\u001b[0m\u001b[0;34m,\u001b[0m \u001b[0minputs\u001b[0m\u001b[0;34m)\u001b[0m\u001b[0;34m:\u001b[0m\u001b[0;34m\u001b[0m\u001b[0m\n\u001b[1;32m   1196\u001b[0m         \u001b[0;32massert\u001b[0m \u001b[0misinstance\u001b[0m\u001b[0;34m(\u001b[0m\u001b[0minputs\u001b[0m\u001b[0;34m,\u001b[0m \u001b[0;34m(\u001b[0m\u001b[0mlist\u001b[0m\u001b[0;34m,\u001b[0m \u001b[0mtuple\u001b[0m\u001b[0;34m)\u001b[0m\u001b[0;34m)\u001b[0m\u001b[0;34m\u001b[0m\u001b[0m\n\u001b[0;32m-> 1197\u001b[0;31m         \u001b[0;32mreturn\u001b[0m \u001b[0mself\u001b[0m\u001b[0;34m.\u001b[0m\u001b[0mfunction\u001b[0m\u001b[0;34m(\u001b[0m\u001b[0;34m*\u001b[0m\u001b[0minputs\u001b[0m\u001b[0;34m)\u001b[0m\u001b[0;34m\u001b[0m\u001b[0m\n\u001b[0m\u001b[1;32m   1198\u001b[0m \u001b[0;34m\u001b[0m\u001b[0m\n\u001b[1;32m   1199\u001b[0m \u001b[0;34m\u001b[0m\u001b[0m\n",
      "\u001b[0;32m/Users/xbno/anaconda/lib/python3.6/site-packages/theano/compile/function_module.py\u001b[0m in \u001b[0;36m__call__\u001b[0;34m(self, *args, **kwargs)\u001b[0m\n\u001b[1;32m    882\u001b[0m         \u001b[0;32mtry\u001b[0m\u001b[0;34m:\u001b[0m\u001b[0;34m\u001b[0m\u001b[0m\n\u001b[1;32m    883\u001b[0m             \u001b[0moutputs\u001b[0m \u001b[0;34m=\u001b[0m\u001b[0;31m\\\u001b[0m\u001b[0;34m\u001b[0m\u001b[0m\n\u001b[0;32m--> 884\u001b[0;31m                 \u001b[0mself\u001b[0m\u001b[0;34m.\u001b[0m\u001b[0mfn\u001b[0m\u001b[0;34m(\u001b[0m\u001b[0;34m)\u001b[0m \u001b[0;32mif\u001b[0m \u001b[0moutput_subset\u001b[0m \u001b[0;32mis\u001b[0m \u001b[0;32mNone\u001b[0m \u001b[0;32melse\u001b[0m\u001b[0;31m\\\u001b[0m\u001b[0;34m\u001b[0m\u001b[0m\n\u001b[0m\u001b[1;32m    885\u001b[0m                 \u001b[0mself\u001b[0m\u001b[0;34m.\u001b[0m\u001b[0mfn\u001b[0m\u001b[0;34m(\u001b[0m\u001b[0moutput_subset\u001b[0m\u001b[0;34m=\u001b[0m\u001b[0moutput_subset\u001b[0m\u001b[0;34m)\u001b[0m\u001b[0;34m\u001b[0m\u001b[0m\n\u001b[1;32m    886\u001b[0m         \u001b[0;32mexcept\u001b[0m \u001b[0mException\u001b[0m\u001b[0;34m:\u001b[0m\u001b[0;34m\u001b[0m\u001b[0m\n",
      "\u001b[0;32m/Users/xbno/anaconda/lib/python3.6/site-packages/theano/ifelse.py\u001b[0m in \u001b[0;36mthunk\u001b[0;34m()\u001b[0m\n\u001b[1;32m    244\u001b[0m         \u001b[0moutputs\u001b[0m \u001b[0;34m=\u001b[0m \u001b[0mnode\u001b[0m\u001b[0;34m.\u001b[0m\u001b[0moutputs\u001b[0m\u001b[0;34m\u001b[0m\u001b[0m\n\u001b[1;32m    245\u001b[0m \u001b[0;34m\u001b[0m\u001b[0m\n\u001b[0;32m--> 246\u001b[0;31m         \u001b[0;32mdef\u001b[0m \u001b[0mthunk\u001b[0m\u001b[0;34m(\u001b[0m\u001b[0;34m)\u001b[0m\u001b[0;34m:\u001b[0m\u001b[0;34m\u001b[0m\u001b[0m\n\u001b[0m\u001b[1;32m    247\u001b[0m             \u001b[0;32mif\u001b[0m \u001b[0;32mnot\u001b[0m \u001b[0mcompute_map\u001b[0m\u001b[0;34m[\u001b[0m\u001b[0mcond\u001b[0m\u001b[0;34m]\u001b[0m\u001b[0;34m[\u001b[0m\u001b[0;36m0\u001b[0m\u001b[0;34m]\u001b[0m\u001b[0;34m:\u001b[0m\u001b[0;34m\u001b[0m\u001b[0m\n\u001b[1;32m    248\u001b[0m                 \u001b[0;32mreturn\u001b[0m \u001b[0;34m[\u001b[0m\u001b[0;36m0\u001b[0m\u001b[0;34m]\u001b[0m\u001b[0;34m\u001b[0m\u001b[0m\n",
      "\u001b[0;31mKeyboardInterrupt\u001b[0m: "
     ]
    }
   ],
   "source": [
    "conv.score(X_test_conv, y_test_conv)\n",
    "\n",
    "conv.plot_acc()"
   ]
  },
  {
   "cell_type": "code",
   "execution_count": null,
   "metadata": {
    "collapsed": true
   },
   "outputs": [],
   "source": []
  },
  {
   "cell_type": "markdown",
   "metadata": {},
   "source": [
    "---\n",
    "\n",
    "## Examine the affect of sample size on accuracy\n",
    "\n",
    "1. Build subsampled datasets from the train data\n",
    "2. Train the same architecture model on each dataset\n",
    "3. Compare the val_acc"
   ]
  },
  {
   "cell_type": "code",
   "execution_count": 170,
   "metadata": {},
   "outputs": [],
   "source": [
    "inds = {}\n",
    "#for size in [500,1000,2500,5000,7500,10000,15000,20000,25000,35000,45000]:\n",
    "for size in [500,1000,5000,10000,25000,45000]:\n",
    "    inds[size] = np.random.choice(len(X_train),size)"
   ]
  },
  {
   "cell_type": "code",
   "execution_count": 171,
   "metadata": {},
   "outputs": [],
   "source": [
    "X_train_inds = {}\n",
    "y_train_inds = {}\n",
    "for size in inds.keys():\n",
    "    X_train_inds[size] = []\n",
    "    y_train_inds[size] = []\n",
    "    for ind in inds[size]:\n",
    "        X_train_inds[size].append(X_train[ind])\n",
    "        y_train_inds[size].append(y_train[ind])\n",
    "    X_train_inds[size] = np.array(X_train_inds[size])\n",
    "    y_train_inds[size] = np.array(y_train_inds[size])"
   ]
  },
  {
   "cell_type": "code",
   "execution_count": 148,
   "metadata": {
    "scrolled": true
   },
   "outputs": [
    {
     "name": "stdout",
     "output_type": "stream",
     "text": [
      "(500, 784)\n",
      "(500, 10)\n",
      "(1000, 784)\n",
      "(1000, 10)\n",
      "(5000, 784)\n",
      "(5000, 10)\n",
      "(10000, 784)\n",
      "(10000, 10)\n",
      "(25000, 784)\n",
      "(25000, 10)\n",
      "(45000, 784)\n",
      "(45000, 10)\n"
     ]
    }
   ],
   "source": [
    "for sample_size in inds.keys():\n",
    "    print(X_train_inds[sample_size].shape)\n",
    "    print(y_train_inds[sample_size].shape)"
   ]
  },
  {
   "cell_type": "markdown",
   "metadata": {},
   "source": [
    "Using the architecture from above, lets train 6 models on each set of data and see how their performace curves compare"
   ]
  },
  {
   "cell_type": "code",
   "execution_count": 146,
   "metadata": {
    "collapsed": true
   },
   "outputs": [],
   "source": [
    "def create_model():    \n",
    "    model = Sequential()\n",
    "    model.add(BatchNormalization(input_shape=(784,)))\n",
    "    model.add(Dense(512, \n",
    "                    activation='relu',\n",
    "                    kernel_initializer='he_uniform',\n",
    "                    #kernel_regularizer=regularizers.l2(0.01),\n",
    "                   ))\n",
    "    model.add(BatchNormalization())\n",
    "    model.add(Dropout(.1))\n",
    "    model.add(Dense(512, \n",
    "                    activation='relu', \n",
    "                    kernel_initializer='he_uniform',\n",
    "                    #kernel_regularizer=regularizers.l2(0.01),\n",
    "                   ))\n",
    "    model.add(BatchNormalization())\n",
    "    model.add(Dropout(.5))\n",
    "    model.add(Dense(10, \n",
    "                    activation='softmax'))\n",
    "\n",
    "    opt = Adam(lr=.001)\n",
    "\n",
    "    model.compile(loss='categorical_crossentropy', optimizer=opt,#SGD(lr=.1), \n",
    "                  metrics=['accuracy'])\n",
    "    return model"
   ]
  },
  {
   "cell_type": "code",
   "execution_count": 149,
   "metadata": {},
   "outputs": [
    {
     "name": "stdout",
     "output_type": "stream",
     "text": [
      "Train on 500 samples, validate on 15000 samples\n",
      "Epoch 1/10\n",
      "500/500 [==============================] - 1s - loss: 2.5859 - acc: 0.2760 - val_loss: 1.7779 - val_acc: 0.3504\n",
      "Epoch 2/10\n",
      "500/500 [==============================] - 1s - loss: 0.8872 - acc: 0.7020 - val_loss: 1.5003 - val_acc: 0.4684\n",
      "Epoch 3/10\n",
      "500/500 [==============================] - 1s - loss: 0.3614 - acc: 0.8880 - val_loss: 1.3419 - val_acc: 0.5292\n",
      "Epoch 4/10\n",
      "500/500 [==============================] - 1s - loss: 0.2192 - acc: 0.9280 - val_loss: 1.2499 - val_acc: 0.5599\n",
      "Epoch 5/10\n",
      "500/500 [==============================] - 1s - loss: 0.1526 - acc: 0.9500 - val_loss: 1.1685 - val_acc: 0.5981\n",
      "Epoch 6/10\n",
      "500/500 [==============================] - 1s - loss: 0.1109 - acc: 0.9780 - val_loss: 1.0955 - val_acc: 0.6477\n",
      "Epoch 7/10\n",
      "500/500 [==============================] - 1s - loss: 0.0577 - acc: 0.9880 - val_loss: 1.0249 - val_acc: 0.7003\n",
      "Epoch 8/10\n",
      "500/500 [==============================] - 1s - loss: 0.0478 - acc: 0.9900 - val_loss: 0.9622 - val_acc: 0.7399\n",
      "Epoch 9/10\n",
      "500/500 [==============================] - 1s - loss: 0.0409 - acc: 0.9940 - val_loss: 0.9073 - val_acc: 0.7683\n",
      "Epoch 10/10\n",
      "500/500 [==============================] - 1s - loss: 0.0248 - acc: 1.0000 - val_loss: 0.8596 - val_acc: 0.7867\n",
      "Train on 1000 samples, validate on 15000 samples\n",
      "Epoch 1/10\n",
      "1000/1000 [==============================] - 1s - loss: 1.8771 - acc: 0.4730 - val_loss: 1.3975 - val_acc: 0.7141\n",
      "Epoch 2/10\n",
      "1000/1000 [==============================] - 1s - loss: 0.4760 - acc: 0.8440 - val_loss: 1.0743 - val_acc: 0.7793\n",
      "Epoch 3/10\n",
      "1000/1000 [==============================] - 1s - loss: 0.2998 - acc: 0.9000 - val_loss: 0.9183 - val_acc: 0.8109\n",
      "Epoch 4/10\n",
      "1000/1000 [==============================] - 1s - loss: 0.1414 - acc: 0.9550 - val_loss: 0.8058 - val_acc: 0.8457\n",
      "Epoch 5/10\n",
      "1000/1000 [==============================] - 1s - loss: 0.1075 - acc: 0.9710 - val_loss: 0.7244 - val_acc: 0.8595\n",
      "Epoch 6/10\n",
      "1000/1000 [==============================] - 1s - loss: 0.0805 - acc: 0.9750 - val_loss: 0.6659 - val_acc: 0.8608\n",
      "Epoch 7/10\n",
      "1000/1000 [==============================] - 1s - loss: 0.0665 - acc: 0.9850 - val_loss: 0.6121 - val_acc: 0.8655\n",
      "Epoch 8/10\n",
      "1000/1000 [==============================] - 1s - loss: 0.0520 - acc: 0.9860 - val_loss: 0.5609 - val_acc: 0.8726\n",
      "Epoch 9/10\n",
      "1000/1000 [==============================] - 1s - loss: 0.0368 - acc: 0.9930 - val_loss: 0.5224 - val_acc: 0.8760\n",
      "Epoch 10/10\n",
      "1000/1000 [==============================] - 1s - loss: 0.0358 - acc: 0.9900 - val_loss: 0.4901 - val_acc: 0.8799\n",
      "Train on 5000 samples, validate on 15000 samples\n",
      "Epoch 1/10\n",
      "5000/5000 [==============================] - 2s - loss: 0.7998 - acc: 0.7706 - val_loss: 0.6999 - val_acc: 0.8459\n",
      "Epoch 2/10\n",
      "5000/5000 [==============================] - 2s - loss: 0.2648 - acc: 0.9194 - val_loss: 0.4756 - val_acc: 0.8811\n",
      "Epoch 3/10\n",
      "5000/5000 [==============================] - 2s - loss: 0.1918 - acc: 0.9410 - val_loss: 0.3276 - val_acc: 0.9050\n",
      "Epoch 4/10\n",
      "5000/5000 [==============================] - 2s - loss: 0.1455 - acc: 0.9538 - val_loss: 0.2772 - val_acc: 0.9151\n",
      "Epoch 5/10\n",
      "5000/5000 [==============================] - 2s - loss: 0.1032 - acc: 0.9668 - val_loss: 0.2332 - val_acc: 0.9287\n",
      "Epoch 6/10\n",
      "5000/5000 [==============================] - 2s - loss: 0.0739 - acc: 0.9760 - val_loss: 0.2101 - val_acc: 0.9380\n",
      "Epoch 7/10\n",
      "5000/5000 [==============================] - 2s - loss: 0.0819 - acc: 0.9754 - val_loss: 0.2200 - val_acc: 0.9334\n",
      "Epoch 8/10\n",
      "5000/5000 [==============================] - 2s - loss: 0.0611 - acc: 0.9814 - val_loss: 0.2160 - val_acc: 0.9362\n",
      "Epoch 9/10\n",
      "5000/5000 [==============================] - 2s - loss: 0.0602 - acc: 0.9804 - val_loss: 0.2151 - val_acc: 0.9389\n",
      "Epoch 10/10\n",
      "5000/5000 [==============================] - 2s - loss: 0.0562 - acc: 0.9832 - val_loss: 0.2197 - val_acc: 0.9377\n",
      "Train on 10000 samples, validate on 15000 samples\n",
      "Epoch 1/10\n",
      "10000/10000 [==============================] - 3s - loss: 0.6263 - acc: 0.8197 - val_loss: 0.4416 - val_acc: 0.9060\n",
      "Epoch 2/10\n",
      "10000/10000 [==============================] - 3s - loss: 0.2296 - acc: 0.9296 - val_loss: 0.2486 - val_acc: 0.9312\n",
      "Epoch 3/10\n",
      "10000/10000 [==============================] - 3s - loss: 0.1547 - acc: 0.9502 - val_loss: 0.1887 - val_acc: 0.9433\n",
      "Epoch 4/10\n",
      "10000/10000 [==============================] - 3s - loss: 0.1080 - acc: 0.9641 - val_loss: 0.1713 - val_acc: 0.9498\n",
      "Epoch 5/10\n",
      "10000/10000 [==============================] - 3s - loss: 0.0732 - acc: 0.9762 - val_loss: 0.1637 - val_acc: 0.9544\n",
      "Epoch 6/10\n",
      "10000/10000 [==============================] - 3s - loss: 0.0614 - acc: 0.9811 - val_loss: 0.1573 - val_acc: 0.9560\n",
      "Epoch 7/10\n",
      "10000/10000 [==============================] - 3s - loss: 0.0418 - acc: 0.9874 - val_loss: 0.1651 - val_acc: 0.9551\n",
      "Epoch 8/10\n",
      "10000/10000 [==============================] - 3s - loss: 0.0375 - acc: 0.9880 - val_loss: 0.1652 - val_acc: 0.9577\n",
      "Epoch 9/10\n",
      "10000/10000 [==============================] - 3s - loss: 0.0362 - acc: 0.9891 - val_loss: 0.1762 - val_acc: 0.9529\n",
      "Epoch 10/10\n",
      "10000/10000 [==============================] - 3s - loss: 0.0338 - acc: 0.9899 - val_loss: 0.1726 - val_acc: 0.9555\n",
      "Train on 25000 samples, validate on 15000 samples\n",
      "Epoch 1/10\n",
      "25000/25000 [==============================] - 6s - loss: 0.4108 - acc: 0.8820 - val_loss: 0.2105 - val_acc: 0.9339\n",
      "Epoch 2/10\n",
      "25000/25000 [==============================] - 6s - loss: 0.1521 - acc: 0.9517 - val_loss: 0.1345 - val_acc: 0.9579\n",
      "Epoch 3/10\n",
      "25000/25000 [==============================] - 6s - loss: 0.0960 - acc: 0.9695 - val_loss: 0.1311 - val_acc: 0.9593\n",
      "Epoch 4/10\n",
      "25000/25000 [==============================] - 6s - loss: 0.0691 - acc: 0.9774 - val_loss: 0.1286 - val_acc: 0.9623\n",
      "Epoch 5/10\n",
      "25000/25000 [==============================] - 6s - loss: 0.0506 - acc: 0.9833 - val_loss: 0.1275 - val_acc: 0.9630\n",
      "Epoch 6/10\n",
      "25000/25000 [==============================] - 6s - loss: 0.0429 - acc: 0.9858 - val_loss: 0.1258 - val_acc: 0.9659\n",
      "Epoch 7/10\n",
      "25000/25000 [==============================] - 6s - loss: 0.0326 - acc: 0.9891 - val_loss: 0.1254 - val_acc: 0.9652\n",
      "Epoch 8/10\n",
      "25000/25000 [==============================] - 6s - loss: 0.0304 - acc: 0.9906 - val_loss: 0.1248 - val_acc: 0.9667\n",
      "Epoch 9/10\n",
      "25000/25000 [==============================] - 6s - loss: 0.0231 - acc: 0.9923 - val_loss: 0.1403 - val_acc: 0.9643\n",
      "Epoch 10/10\n",
      "25000/25000 [==============================] - 6s - loss: 0.0247 - acc: 0.9921 - val_loss: 0.1327 - val_acc: 0.9675\n",
      "Train on 45000 samples, validate on 15000 samples\n",
      "Epoch 1/10\n",
      "45000/45000 [==============================] - 10s - loss: 0.3054 - acc: 0.9092 - val_loss: 0.1393 - val_acc: 0.9566\n",
      "Epoch 2/10\n",
      "45000/45000 [==============================] - 10s - loss: 0.1090 - acc: 0.9663 - val_loss: 0.1197 - val_acc: 0.9643\n",
      "Epoch 3/10\n",
      "45000/45000 [==============================] - 10s - loss: 0.0647 - acc: 0.9791 - val_loss: 0.1137 - val_acc: 0.9664\n",
      "Epoch 4/10\n",
      "45000/45000 [==============================] - 10s - loss: 0.0497 - acc: 0.9832 - val_loss: 0.1114 - val_acc: 0.9691\n",
      "Epoch 5/10\n",
      "45000/45000 [==============================] - 10s - loss: 0.0369 - acc: 0.9876 - val_loss: 0.1151 - val_acc: 0.9697\n",
      "Epoch 6/10\n",
      "45000/45000 [==============================] - 10s - loss: 0.0313 - acc: 0.9898 - val_loss: 0.1189 - val_acc: 0.9693\n",
      "Epoch 7/10\n",
      "45000/45000 [==============================] - 10s - loss: 0.0269 - acc: 0.9910 - val_loss: 0.1118 - val_acc: 0.9704\n",
      "Epoch 8/10\n",
      "45000/45000 [==============================] - 10s - loss: 0.0232 - acc: 0.9924 - val_loss: 0.1135 - val_acc: 0.9720\n",
      "Epoch 9/10\n",
      "45000/45000 [==============================] - 10s - loss: 0.0223 - acc: 0.9926 - val_loss: 0.1239 - val_acc: 0.9705\n",
      "Epoch 10/10\n",
      "45000/45000 [==============================] - 10s - loss: 0.0222 - acc: 0.9925 - val_loss: 0.1191 - val_acc: 0.9717\n"
     ]
    }
   ],
   "source": [
    "sample_history = {}\n",
    "sample_model = {}\n",
    "for sample_size in inds.keys():\n",
    "    # create fresh model\n",
    "    model = create_model()\n",
    "    \n",
    "    # set new train/test data\n",
    "    X_train = X_train_inds[sample_size]\n",
    "    y_train = y_train_inds[sample_size]\n",
    "    \n",
    "    # save model history\n",
    "    sample_history[sample_size] = model.fit(X_train, y_train, batch_size=128, \n",
    "                            epochs=10, verbose=1, validation_data=(X_valid, y_valid))\n",
    "    # save model weights\n",
    "    sample_model[sample_size] = model"
   ]
  },
  {
   "cell_type": "code",
   "execution_count": 152,
   "metadata": {
    "collapsed": true
   },
   "outputs": [],
   "source": [
    "sample_model_score = {}\n",
    "for sample_size in inds.keys():\n",
    "    sample_model_score[sample_size] = sample_model[sample_size].evaluate(X_test, y_test, verbose=False)[1]"
   ]
  },
  {
   "cell_type": "code",
   "execution_count": 158,
   "metadata": {},
   "outputs": [
    {
     "data": {
      "text/plain": [
       "{500: 0.78239999999999998,\n",
       " 1000: 0.8841,\n",
       " 5000: 0.93989999999999996,\n",
       " 10000: 0.95930000000000004,\n",
       " 25000: 0.96899999999999997,\n",
       " 45000: 0.97360000000000002}"
      ]
     },
     "execution_count": 158,
     "metadata": {},
     "output_type": "execute_result"
    }
   ],
   "source": [
    "sample_model_score"
   ]
  },
  {
   "cell_type": "code",
   "execution_count": 167,
   "metadata": {
    "scrolled": true
   },
   "outputs": [
    {
     "data": {
      "text/plain": [
       "(0.7, 1)"
      ]
     },
     "execution_count": 167,
     "metadata": {},
     "output_type": "execute_result"
    },
    {
     "data": {
      "image/png": "[encoded data removed]",
      "text/plain": [
       "<matplotlib.figure.Figure at 0x16a016ba8>"
      ]
     },
     "metadata": {},
     "output_type": "display_data"
    }
   ],
   "source": [
    "plt.bar(range(len(sample_model_score)), sample_model_score.values(), align='center')\n",
    "plt.xticks(range(len(sample_model_score)), sample_model_score.keys())\n",
    "plt.title('The affect of training size on validation accuracy')\n",
    "plt.xlabel('Training Data Size')\n",
    "plt.ylabel('Validation Accuracy')\n",
    "plt.ylim((.7,1))"
   ]
  },
  {
   "cell_type": "markdown",
   "metadata": {},
   "source": [
    "Lets take a look at the training vs validation accuracies in the history as well"
   ]
  },
  {
   "cell_type": "code",
   "execution_count": 188,
   "metadata": {
    "collapsed": true
   },
   "outputs": [],
   "source": [
    "def mod_plot(history,name):\n",
    "    epochs_acc = pd.DataFrame([history.history['acc'],history.history['val_acc']])\n",
    "    epochs_acc = epochs_acc.T\n",
    "    epochs_acc.columns = ['train acc','val acc']\n",
    "    ax = epochs_acc.plot(title='{}'.format(name))\n",
    "    ax.set_xlabel('epochs')\n",
    "    ax.set_ylabel('validation acc')\n",
    "    plt.ylim((0.2,1))"
   ]
  },
  {
   "cell_type": "markdown",
   "metadata": {},
   "source": [
    "## Training size highly affects the model's ability to learn\n",
    "\n",
    "There are a few things that jump out at me when looking at the results.\n",
    "\n",
    "1. As expected training size drastically affects the model's performance\n",
    "2. The larger the training size, the quicker the validation accuracy is to level off. At 500 training samples the model is still learning at epoch 10 while once you get to 10k or 25k the accuracy levels off at the 1-3rd epochs\n",
    "3. "
   ]
  },
  {
   "cell_type": "code",
   "execution_count": 190,
   "metadata": {},
   "outputs": [
    {
     "data": {
      "image/png": "[encoded data removed]",
      "text/plain": [
       "<matplotlib.figure.Figure at 0x150977d68>"
      ]
     },
     "metadata": {},
     "output_type": "display_data"
    },
    {
     "data": {
      "image/png": "[encoded data removed]",
      "text/plain": [
       "<matplotlib.figure.Figure at 0x1430541d0>"
      ]
     },
     "metadata": {},
     "output_type": "display_data"
    },
    {
     "data": {
      "image/png": "[encoded data removed]",
      "text/plain": [
       "<matplotlib.figure.Figure at 0x150437630>"
      ]
     },
     "metadata": {},
     "output_type": "display_data"
    },
    {
     "data": {
      "image/png": "[encoded data removed]",
      "text/plain": [
       "<matplotlib.figure.Figure at 0x1605b82b0>"
      ]
     },
     "metadata": {},
     "output_type": "display_data"
    },
    {
     "data": {
      "image/png": "[encoded data removed]",
      "text/plain": [
       "<matplotlib.figure.Figure at 0x161517710>"
      ]
     },
     "metadata": {},
     "output_type": "display_data"
    },
    {
     "data": {
      "image/png": "[encoded data removed]",
      "text/plain": [
       "<matplotlib.figure.Figure at 0x16152f080>"
      ]
     },
     "metadata": {},
     "output_type": "display_data"
    }
   ],
   "source": [
    "for sample_size in inds.keys():\n",
    "    mod_plot(sample_history[sample_size],'{} samples'.format(sample_size))"
   ]
  },
  {
   "cell_type": "markdown",
   "metadata": {},
   "source": [
    "## Create a wrapper to make it easier to experiment"
   ]
  },
  {
   "cell_type": "code",
   "execution_count": 268,
   "metadata": {
    "collapsed": true
   },
   "outputs": [],
   "source": [
    "def create_simple():\n",
    "    model_1 = Sequential()\n",
    "    model_1.add(Dense(30,activation='relu',input_shape=(784,)))\n",
    "    model_1.add(Dense(10,activation='softmax'))\n",
    "    opt = Adam(lr=.001)\n",
    "    model_1.compile(loss='categorical_crossentropy', optimizer=opt,#SGD(lr=.1), \n",
    "                  metrics=['accuracy'])\n",
    "    return model_1"
   ]
  },
  {
   "cell_type": "code",
   "execution_count": 275,
   "metadata": {},
   "outputs": [],
   "source": [
    "class sample_comparison(object):\n",
    "    '''Compare model performance based on different training subsamples. \n",
    "    \n",
    "    Attributes:\n",
    "        sample_history: A dict tracking the model training/val accuracy per epoch\n",
    "        sample_model: A dict containing the trained model\n",
    "        \n",
    "    Methods:\n",
    "    \n",
    "    '''\n",
    "    \n",
    "    def __init__(self, model_func, X_train, y_train):\n",
    "        self.model_func = model_func\n",
    "        self.X_train = X_train\n",
    "        self.y_train = y_train\n",
    "        \n",
    "        \n",
    "    def set_sample_sizes(self, sample_sizes):\n",
    "        self.inds = {}\n",
    "        for sample_size in sample_sizes:\n",
    "            self.inds[sample_size] = np.random.choice(len(self.X_train),sample_size)\n",
    "        \n",
    "        self.X_train_inds = {}\n",
    "        self.y_train_inds = {}\n",
    "        for size in self.inds.keys():\n",
    "            self.X_train_inds[size] = []\n",
    "            self.y_train_inds[size] = []\n",
    "            for ind in self.inds[size]:\n",
    "                self.X_train_inds[size].append(self.X_train[ind])\n",
    "                self.y_train_inds[size].append(self.y_train[ind])\n",
    "            self.X_train_inds[size] = np.array(self.X_train_inds[size])\n",
    "            self.y_train_inds[size] = np.array(self.y_train_inds[size])\n",
    "            \n",
    "    def train(self, X_valid, y_valid, verbose=True, epochs=10):\n",
    "        self.sample_history = {}\n",
    "        self.sample_model = {}\n",
    "        for sample_size in self.inds.keys():\n",
    "            self.model = self.model_func()\n",
    "            \n",
    "            # set new train/test data\n",
    "            X_train = self.X_train_inds[sample_size]\n",
    "            y_train = self.y_train_inds[sample_size]\n",
    "\n",
    "            # save model history\n",
    "            self.sample_history[sample_size] = self.model.fit(X_train, y_train, batch_size=128, \n",
    "                                    epochs=epochs, verbose=verbose, validation_data=(X_valid, y_valid))\n",
    "            # save model weights\n",
    "            self.sample_model[sample_size] = self.model\n",
    "            \n",
    "    def score(self, X_test, y_test):\n",
    "        self.X_test = X_test\n",
    "        self.y_test = y_test\n",
    "        \n",
    "        self.sample_model_score = {}\n",
    "        for sample_size in self.inds.keys():\n",
    "            self.sample_model_score[sample_size] = self.sample_model[sample_size].evaluate(self.X_test, self.y_test, verbose=False)[1]\n",
    "        \n",
    "        plt.bar(range(len(self.sample_model_score)), self.sample_model_score.values(), align='center')\n",
    "        plt.xticks(range(len(self.sample_model_score)), self.sample_model_score.keys())\n",
    "        plt.title('The affect of training size on validation accuracy')\n",
    "        plt.xlabel('Training Data Size')\n",
    "        plt.ylabel('Validation Accuracy')\n",
    "        plt.ylim((.6,1))\n",
    "        \n",
    "    def plot_acc(self,mod_plot=mod_plot):\n",
    "        self.mod_plot = mod_plot\n",
    "        for sample_size in self.inds.keys():\n",
    "            self.mod_plot(self.sample_history[sample_size],'{} samples'.format(sample_size))"
   ]
  },
  {
   "cell_type": "code",
   "execution_count": 406,
   "metadata": {},
   "outputs": [
    {
     "name": "stdout",
     "output_type": "stream",
     "text": [
      "Train on 500 samples, validate on 15000 samples\n",
      "Epoch 1/10\n",
      "500/500 [==============================] - 0s - loss: 13.5519 - acc: 0.1420 - val_loss: 13.0436 - val_acc: 0.1805\n",
      "Epoch 2/10\n",
      "500/500 [==============================] - 0s - loss: 12.6844 - acc: 0.2080 - val_loss: 12.3994 - val_acc: 0.2237\n",
      "Epoch 3/10\n",
      "500/500 [==============================] - 0s - loss: 11.9836 - acc: 0.2540 - val_loss: 12.6494 - val_acc: 0.2094\n",
      "Epoch 4/10\n",
      "500/500 [==============================] - 0s - loss: 11.8407 - acc: 0.2580 - val_loss: 11.7826 - val_acc: 0.2610\n",
      "Epoch 5/10\n",
      "500/500 [==============================] - 0s - loss: 10.6447 - acc: 0.3320 - val_loss: 11.1396 - val_acc: 0.3041\n",
      "Epoch 6/10\n",
      "500/500 [==============================] - 0s - loss: 10.5899 - acc: 0.3400 - val_loss: 11.1579 - val_acc: 0.3022\n",
      "Epoch 7/10\n",
      "500/500 [==============================] - 0s - loss: 10.4548 - acc: 0.3440 - val_loss: 10.4461 - val_acc: 0.3466\n",
      "Epoch 8/10\n",
      "500/500 [==============================] - 0s - loss: 9.9079 - acc: 0.3820 - val_loss: 9.9719 - val_acc: 0.3773\n",
      "Epoch 9/10\n",
      "500/500 [==============================] - 0s - loss: 9.6845 - acc: 0.3960 - val_loss: 10.0526 - val_acc: 0.3709\n",
      "Epoch 10/10\n",
      "500/500 [==============================] - 0s - loss: 9.7376 - acc: 0.3860 - val_loss: 9.8983 - val_acc: 0.3812\n",
      "Train on 1000 samples, validate on 15000 samples\n",
      "Epoch 1/10\n",
      "1000/1000 [==============================] - 0s - loss: 12.3861 - acc: 0.2140 - val_loss: 11.1692 - val_acc: 0.2944\n",
      "Epoch 2/10\n",
      "1000/1000 [==============================] - 0s - loss: 10.9738 - acc: 0.3060 - val_loss: 10.3268 - val_acc: 0.3464\n",
      "Epoch 3/10\n",
      "1000/1000 [==============================] - 0s - loss: 10.5252 - acc: 0.3340 - val_loss: 10.4826 - val_acc: 0.3377\n",
      "Epoch 4/10\n",
      "1000/1000 [==============================] - 0s - loss: 10.4369 - acc: 0.3430 - val_loss: 10.4282 - val_acc: 0.3417\n",
      "Epoch 5/10\n",
      "1000/1000 [==============================] - 0s - loss: 10.1499 - acc: 0.3620 - val_loss: 10.3192 - val_acc: 0.3510\n",
      "Epoch 6/10\n",
      "1000/1000 [==============================] - 0s - loss: 10.1286 - acc: 0.3630 - val_loss: 10.5134 - val_acc: 0.3393\n",
      "Epoch 7/10\n",
      "1000/1000 [==============================] - 0s - loss: 10.1114 - acc: 0.3660 - val_loss: 9.6676 - val_acc: 0.3884\n",
      "Epoch 8/10\n",
      "1000/1000 [==============================] - 0s - loss: 9.8110 - acc: 0.3800 - val_loss: 9.5183 - val_acc: 0.3993\n",
      "Epoch 9/10\n",
      "1000/1000 [==============================] - 0s - loss: 9.4239 - acc: 0.4090 - val_loss: 9.3741 - val_acc: 0.4097\n",
      "Epoch 10/10\n",
      "1000/1000 [==============================] - 0s - loss: 9.6001 - acc: 0.3950 - val_loss: 9.8361 - val_acc: 0.3837\n",
      "Train on 5000 samples, validate on 15000 samples\n",
      "Epoch 1/10\n",
      "5000/5000 [==============================] - 0s - loss: 14.6063 - acc: 0.0936 - val_loss: 14.5063 - val_acc: 0.1000\n",
      "Epoch 2/10\n",
      "5000/5000 [==============================] - 0s - loss: 14.6159 - acc: 0.0932 - val_loss: 14.5063 - val_acc: 0.1000\n",
      "Epoch 3/10\n",
      "5000/5000 [==============================] - 0s - loss: 14.6159 - acc: 0.0932 - val_loss: 14.5063 - val_acc: 0.1000\n",
      "Epoch 4/10\n",
      "5000/5000 [==============================] - 0s - loss: 14.6159 - acc: 0.0932 - val_loss: 14.5063 - val_acc: 0.1000\n",
      "Epoch 5/10\n",
      "5000/5000 [==============================] - 0s - loss: 14.6159 - acc: 0.0932 - val_loss: 14.5063 - val_acc: 0.1000\n",
      "Epoch 6/10\n",
      "5000/5000 [==============================] - 0s - loss: 14.6159 - acc: 0.0932 - val_loss: 14.5063 - val_acc: 0.1000\n",
      "Epoch 7/10\n",
      "5000/5000 [==============================] - 0s - loss: 14.6159 - acc: 0.0932 - val_loss: 14.5063 - val_acc: 0.1000\n",
      "Epoch 8/10\n",
      "5000/5000 [==============================] - 0s - loss: 14.6159 - acc: 0.0932 - val_loss: 14.5063 - val_acc: 0.1000\n",
      "Epoch 9/10\n",
      "5000/5000 [==============================] - 0s - loss: 14.6159 - acc: 0.0932 - val_loss: 14.5063 - val_acc: 0.1000\n",
      "Epoch 10/10\n",
      "5000/5000 [==============================] - 0s - loss: 14.6159 - acc: 0.0932 - val_loss: 14.5063 - val_acc: 0.1000\n",
      "Train on 10000 samples, validate on 15000 samples\n",
      "Epoch 1/10\n",
      "10000/10000 [==============================] - 0s - loss: 12.0409 - acc: 0.2503 - val_loss: 11.2513 - val_acc: 0.3011\n",
      "Epoch 2/10\n",
      "10000/10000 [==============================] - 0s - loss: 10.6665 - acc: 0.3364 - val_loss: 10.6839 - val_acc: 0.3337\n",
      "Epoch 3/10\n",
      "10000/10000 [==============================] - 0s - loss: 10.1243 - acc: 0.3706 - val_loss: 10.2711 - val_acc: 0.3612\n",
      "Epoch 4/10\n",
      "10000/10000 [==============================] - 0s - loss: 10.0826 - acc: 0.3736 - val_loss: 9.8956 - val_acc: 0.3853\n",
      "Epoch 5/10\n",
      "10000/10000 [==============================] - 0s - loss: 10.0522 - acc: 0.3753 - val_loss: 9.9348 - val_acc: 0.3830\n",
      "Epoch 6/10\n",
      "10000/10000 [==============================] - 0s - loss: 10.0466 - acc: 0.3759 - val_loss: 9.8905 - val_acc: 0.3858\n",
      "Epoch 7/10\n",
      "10000/10000 [==============================] - 0s - loss: 9.9628 - acc: 0.3817 - val_loss: 9.8614 - val_acc: 0.3877\n",
      "Epoch 8/10\n",
      "10000/10000 [==============================] - 0s - loss: 10.0190 - acc: 0.3782 - val_loss: 10.2652 - val_acc: 0.3622\n",
      "Epoch 9/10\n",
      "10000/10000 [==============================] - 0s - loss: 9.2237 - acc: 0.4266 - val_loss: 8.6236 - val_acc: 0.4637\n",
      "Epoch 10/10\n",
      "10000/10000 [==============================] - 0s - loss: 8.6278 - acc: 0.4638 - val_loss: 8.5104 - val_acc: 0.4709\n",
      "Train on 25000 samples, validate on 15000 samples\n",
      "Epoch 1/10\n",
      "25000/25000 [==============================] - 0s - loss: 12.9402 - acc: 0.1969 - val_loss: 12.9063 - val_acc: 0.1993\n",
      "Epoch 2/10\n",
      "25000/25000 [==============================] - 0s - loss: 12.9029 - acc: 0.1995 - val_loss: 12.9063 - val_acc: 0.1993\n",
      "Epoch 3/10\n",
      "25000/25000 [==============================] - 0s - loss: 12.8921 - acc: 0.2000 - val_loss: 12.8848 - val_acc: 0.2006\n",
      "Epoch 4/10\n",
      "25000/25000 [==============================] - 0s - loss: 12.9782 - acc: 0.1947 - val_loss: 12.8947 - val_acc: 0.1999\n",
      "Epoch 5/10\n",
      "25000/25000 [==============================] - 0s - loss: 12.9312 - acc: 0.1977 - val_loss: 12.8927 - val_acc: 0.2001\n",
      "Epoch 6/10\n",
      "25000/25000 [==============================] - 0s - loss: 12.9312 - acc: 0.1977 - val_loss: 12.8927 - val_acc: 0.2001\n",
      "Epoch 7/10\n",
      "25000/25000 [==============================] - 0s - loss: 12.9312 - acc: 0.1977 - val_loss: 12.8927 - val_acc: 0.2001\n",
      "Epoch 8/10\n",
      "25000/25000 [==============================] - 0s - loss: 12.9312 - acc: 0.1977 - val_loss: 12.8927 - val_acc: 0.2001\n",
      "Epoch 9/10\n",
      "25000/25000 [==============================] - 0s - loss: 12.9312 - acc: 0.1977 - val_loss: 12.8927 - val_acc: 0.2001\n",
      "Epoch 10/10\n",
      "25000/25000 [==============================] - 0s - loss: 12.9312 - acc: 0.1977 - val_loss: 12.8927 - val_acc: 0.2001\n",
      "Train on 45000 samples, validate on 15000 samples\n",
      "Epoch 1/10\n",
      "45000/45000 [==============================] - 0s - loss: 11.4106 - acc: 0.2899 - val_loss: 10.1166 - val_acc: 0.3706\n",
      "Epoch 2/10\n",
      "45000/45000 [==============================] - 0s - loss: 10.3197 - acc: 0.3588 - val_loss: 10.1290 - val_acc: 0.3711\n",
      "Epoch 3/10\n",
      "45000/45000 [==============================] - 0s - loss: 10.2368 - acc: 0.3642 - val_loss: 10.0588 - val_acc: 0.3753\n",
      "Epoch 4/10\n",
      "45000/45000 [==============================] - 0s - loss: 10.2512 - acc: 0.3633 - val_loss: 10.0653 - val_acc: 0.3751\n",
      "Epoch 5/10\n",
      "45000/45000 [==============================] - 0s - loss: 10.2547 - acc: 0.3634 - val_loss: 10.0319 - val_acc: 0.3771\n",
      "Epoch 6/10\n",
      "45000/45000 [==============================] - 0s - loss: 10.2456 - acc: 0.3639 - val_loss: 10.0122 - val_acc: 0.3783\n",
      "Epoch 7/10\n",
      "45000/45000 [==============================] - 0s - loss: 10.2253 - acc: 0.3652 - val_loss: 10.1497 - val_acc: 0.3701\n",
      "Epoch 8/10\n",
      "45000/45000 [==============================] - 0s - loss: 10.2492 - acc: 0.3637 - val_loss: 10.0932 - val_acc: 0.3733\n",
      "Epoch 9/10\n",
      "45000/45000 [==============================] - 0s - loss: 10.1785 - acc: 0.3681 - val_loss: 10.0315 - val_acc: 0.3775\n",
      "Epoch 10/10\n",
      "45000/45000 [==============================] - 0s - loss: 10.2218 - acc: 0.3655 - val_loss: 9.9988 - val_acc: 0.3793\n"
     ]
    },
    {
     "data": {
      "image/png": "[encoded data removed]",
      "text/plain": [
       "<matplotlib.figure.Figure at 0x1cfbd4080>"
      ]
     },
     "metadata": {},
     "output_type": "display_data"
    },
    {
     "data": {
      "image/png": "[encoded data removed]",
      "text/plain": [
       "<matplotlib.figure.Figure at 0x15c74e9e8>"
      ]
     },
     "metadata": {},
     "output_type": "display_data"
    },
    {
     "data": {
      "image/png": "[encoded data removed]",
      "text/plain": [
       "<matplotlib.figure.Figure at 0x15c850128>"
      ]
     },
     "metadata": {},
     "output_type": "display_data"
    },
    {
     "data": {
      "image/png": "[encoded data removed]",
      "text/plain": [
       "<matplotlib.figure.Figure at 0x15c88eb38>"
      ]
     },
     "metadata": {},
     "output_type": "display_data"
    },
    {
     "data": {
      "image/png": "[encoded data removed]",
      "text/plain": [
       "<matplotlib.figure.Figure at 0x15c981898>"
      ]
     },
     "metadata": {},
     "output_type": "display_data"
    },
    {
     "data": {
      "image/png": "[encoded data removed]",
      "text/plain": [
       "<matplotlib.figure.Figure at 0x15c937f28>"
      ]
     },
     "metadata": {},
     "output_type": "display_data"
    },
    {
     "data": {
      "image/png": "[encoded data removed]",
      "text/plain": [
       "<matplotlib.figure.Figure at 0x15ca36048>"
      ]
     },
     "metadata": {},
     "output_type": "display_data"
    }
   ],
   "source": [
    "simple = sample_comparison(create_simple,X_train,y_train)\n",
    "simple.set_sample_sizes([500,1000,5000,10000,25000,45000])\n",
    "simple.train(X_valid,y_valid)\n",
    "simple.score(X_test, y_test)\n",
    "simple.plot_acc()"
   ]
  },
  {
   "cell_type": "code",
   "execution_count": null,
   "metadata": {
    "collapsed": true
   },
   "outputs": [],
   "source": [
    "\n",
    "'''Trains a simple convnet on the Zalando MNIST dataset.\n",
    "Gets to 81.03% test accuracy after 30 epochs\n",
    "(there is still a lot of margin for parameter tuning).\n",
    "3 seconds per epoch on a GeForce GTX 980 GPU with CuDNN 5.\n",
    "'''\n",
    "\n",
    "from __future__ import print_function\n",
    "import numpy as np\n",
    "#from mnist import MNIST\n",
    "import keras\n",
    "from keras.models import Sequential\n",
    "from keras.layers import Dense, Dropout, Flatten\n",
    "from keras.layers import Conv2D, MaxPooling2D\n",
    "from keras import backend as K\n",
    "\n",
    "batch_size = 128\n",
    "num_classes = 10\n",
    "epochs = 30\n",
    "\n",
    "# input image dimensions\n",
    "img_rows, img_cols = 28, 28\n",
    "\n",
    "# the data, shuffled and split between train and test sets\n",
    "#mndata = MNIST(path='data/', )\n",
    "# x_train, y_train = mndata.load_training()\n",
    "# x_test, y_test = mndata.load_testing()\n",
    "\n",
    "from keras.datasets import mnist\n",
    "train, test = mnist.load_data()\n",
    "\n",
    "x_train = np.array(train[0])\n",
    "y_train = np.array(train[1])\n",
    "x_test = np.array(test[0])\n",
    "y_test = np.array(test[1])\n",
    "\n",
    "if K.image_data_format() == 'channels_first':\n",
    "    x_train = x_train.reshape(x_train.shape[0], 1, img_rows, img_cols)\n",
    "    x_test = x_test.reshape(x_test.shape[0], 1, img_rows, img_cols)\n",
    "    input_shape = (1, img_rows, img_cols)\n",
    "else:\n",
    "    x_train = x_train.reshape(x_train.shape[0], img_rows, img_cols, 1)\n",
    "    x_test = x_test.reshape(x_test.shape[0], img_rows, img_cols, 1)\n",
    "    input_shape = (img_rows, img_cols, 1)\n",
    "\n",
    "x_train = x_train.astype('float32')\n",
    "x_test = x_test.astype('float32')\n",
    "x_train /= 255\n",
    "x_test /= 255\n",
    "print('x_train shape:', x_train.shape)\n",
    "print(x_train.shape[0], 'train samples')\n",
    "print(x_test.shape[0], 'test samples')\n",
    "\n",
    "# convert class vectors to binary class matrices\n",
    "y_train = keras.utils.to_categorical(y_train, num_classes)\n",
    "y_test = keras.utils.to_categorical(y_test, num_classes)\n",
    "\n",
    "model = Sequential()\n",
    "model.add(Conv2D(32, kernel_size=(3, 3),\n",
    "                 activation='relu',\n",
    "                 input_shape=input_shape))\n",
    "model.add(Conv2D(64, (3, 3), activation='relu'))\n",
    "model.add(MaxPooling2D(pool_size=(2, 2)))\n",
    "model.add(Dropout(0.25))\n",
    "model.add(Flatten())\n",
    "model.add(Dense(128, activation='relu'))\n",
    "model.add(Dropout(0.5))\n",
    "model.add(Dense(num_classes, activation='softmax'))\n",
    "\n",
    "model.compile(loss=keras.losses.categorical_crossentropy,\n",
    "              optimizer=keras.optimizers.Nadam(),\n",
    "              metrics=['accuracy'])\n",
    "\n",
    "model.fit(x_train, y_train,\n",
    "          batch_size=batch_size,\n",
    "          epochs=epochs,\n",
    "          verbose=1,\n",
    "          validation_data=(x_test, y_test))\n",
    "score = model.evaluate(x_test, y_test, verbose=0)\n",
    "print('Test loss:', score[0])\n",
    "print('Test accuracy:', score[1])"
   ]
  },
  {
   "cell_type": "markdown",
   "metadata": {},
   "source": [
    "# Original Mnist"
   ]
  },
  {
   "cell_type": "code",
   "execution_count": 305,
   "metadata": {},
   "outputs": [],
   "source": [
    "import keras.backend as K\n",
    "from keras.datasets import mnist\n",
    "train, test = mnist.load_data()\n",
    "\n",
    "x_train = np.array(train[0])\n",
    "y_train = np.array(train[1])\n",
    "x_test = np.array(test[0])\n",
    "y_test = np.array(test[1])\n",
    "\n",
    "if K.image_data_format() == 'channels_first':\n",
    "    x_train = x_train.reshape(x_train.shape[0], 1, img_rows, img_cols)\n",
    "    x_test = x_test.reshape(x_test.shape[0], 1, img_rows, img_cols)\n",
    "    input_shape = (1, img_rows, img_cols)\n",
    "else:\n",
    "    x_train = x_train.reshape(x_train.shape[0], img_rows, img_cols, 1)\n",
    "    x_test = x_test.reshape(x_test.shape[0], img_rows, img_cols, 1)\n",
    "    input_shape = (img_rows, img_cols, 1)"
   ]
  },
  {
   "cell_type": "code",
   "execution_count": 306,
   "metadata": {
    "collapsed": true
   },
   "outputs": [],
   "source": [
    "norm_mean = x_train.mean().astype(np.float32)\n",
    "norm_std = x_train.std().astype(np.float32)\n",
    "\n",
    "def norm(x):\n",
    "    return (x-norm_mean)/norm_std"
   ]
  },
  {
   "cell_type": "code",
   "execution_count": 307,
   "metadata": {
    "collapsed": true
   },
   "outputs": [],
   "source": [
    "y_test = to_categorical(y_test)\n",
    "y_train = to_categorical(y_train)"
   ]
  },
  {
   "cell_type": "code",
   "execution_count": 308,
   "metadata": {
    "collapsed": true
   },
   "outputs": [],
   "source": [
    "from keras.layers import Lambda"
   ]
  },
  {
   "cell_type": "code",
   "execution_count": 309,
   "metadata": {},
   "outputs": [],
   "source": [
    "model = Sequential()\n",
    "model.add(BatchNormalization(axis=1,input_shape=(28,28,1)))\n",
    "#model.add(Lambda(norm, input_shape=(28,28,1)))\n",
    "model.add(Conv2D(16,(3,3),activation='relu'))\n",
    "model.add(Conv2D(16,(3,3),activation='relu'))\n",
    "model.add(MaxPooling2D())\n",
    "model.add(Conv2D(32,(3,3),activation='relu'))\n",
    "model.add(Conv2D(32,(3,3),activation='relu'))\n",
    "model.add(MaxPooling2D())\n",
    "model.add(Flatten())\n",
    "model.add(Dense(512, activation='relu'))\n",
    "model.add(Dense(10, activation='softmax'))"
   ]
  },
  {
   "cell_type": "code",
   "execution_count": 310,
   "metadata": {
    "collapsed": true
   },
   "outputs": [],
   "source": [
    "model.compile(Adam(), loss='categorical_crossentropy', metrics=['accuracy'])"
   ]
  },
  {
   "cell_type": "code",
   "execution_count": 311,
   "metadata": {},
   "outputs": [
    {
     "name": "stdout",
     "output_type": "stream",
     "text": [
      "Epoch 1/1\n",
      "12416/60000 [=====>........................] - ETA: 62s - loss: 0.5077 - acc: 0.8426"
     ]
    },
    {
     "ename": "KeyboardInterrupt",
     "evalue": "",
     "output_type": "error",
     "traceback": [
      "\u001b[0;31m---------------------------------------------------------------------------\u001b[0m",
      "\u001b[0;31mKeyboardInterrupt\u001b[0m                         Traceback (most recent call last)",
      "\u001b[0;32m<ipython-input-311-fe0d315a86b8>\u001b[0m in \u001b[0;36m<module>\u001b[0;34m()\u001b[0m\n\u001b[0;32m----> 1\u001b[0;31m \u001b[0mmodel\u001b[0m\u001b[0;34m.\u001b[0m\u001b[0mfit\u001b[0m\u001b[0;34m(\u001b[0m\u001b[0mx_train\u001b[0m\u001b[0;34m,\u001b[0m\u001b[0my_train\u001b[0m\u001b[0;34m,\u001b[0m\u001b[0mbatch_size\u001b[0m\u001b[0;34m=\u001b[0m\u001b[0;36m128\u001b[0m\u001b[0;34m,\u001b[0m\u001b[0mepochs\u001b[0m\u001b[0;34m=\u001b[0m\u001b[0;36m1\u001b[0m\u001b[0;34m)\u001b[0m\u001b[0;34m\u001b[0m\u001b[0m\n\u001b[0m",
      "\u001b[0;32m/Users/xbno/anaconda/lib/python3.6/site-packages/keras/models.py\u001b[0m in \u001b[0;36mfit\u001b[0;34m(self, x, y, batch_size, epochs, verbose, callbacks, validation_split, validation_data, shuffle, class_weight, sample_weight, initial_epoch, **kwargs)\u001b[0m\n\u001b[1;32m    861\u001b[0m                               \u001b[0mclass_weight\u001b[0m\u001b[0;34m=\u001b[0m\u001b[0mclass_weight\u001b[0m\u001b[0;34m,\u001b[0m\u001b[0;34m\u001b[0m\u001b[0m\n\u001b[1;32m    862\u001b[0m                               \u001b[0msample_weight\u001b[0m\u001b[0;34m=\u001b[0m\u001b[0msample_weight\u001b[0m\u001b[0;34m,\u001b[0m\u001b[0;34m\u001b[0m\u001b[0m\n\u001b[0;32m--> 863\u001b[0;31m                               initial_epoch=initial_epoch)\n\u001b[0m\u001b[1;32m    864\u001b[0m \u001b[0;34m\u001b[0m\u001b[0m\n\u001b[1;32m    865\u001b[0m     def evaluate(self, x, y, batch_size=32, verbose=1,\n",
      "\u001b[0;32m/Users/xbno/anaconda/lib/python3.6/site-packages/keras/engine/training.py\u001b[0m in \u001b[0;36mfit\u001b[0;34m(self, x, y, batch_size, epochs, verbose, callbacks, validation_split, validation_data, shuffle, class_weight, sample_weight, initial_epoch, **kwargs)\u001b[0m\n\u001b[1;32m   1428\u001b[0m                               \u001b[0mval_f\u001b[0m\u001b[0;34m=\u001b[0m\u001b[0mval_f\u001b[0m\u001b[0;34m,\u001b[0m \u001b[0mval_ins\u001b[0m\u001b[0;34m=\u001b[0m\u001b[0mval_ins\u001b[0m\u001b[0;34m,\u001b[0m \u001b[0mshuffle\u001b[0m\u001b[0;34m=\u001b[0m\u001b[0mshuffle\u001b[0m\u001b[0;34m,\u001b[0m\u001b[0;34m\u001b[0m\u001b[0m\n\u001b[1;32m   1429\u001b[0m                               \u001b[0mcallback_metrics\u001b[0m\u001b[0;34m=\u001b[0m\u001b[0mcallback_metrics\u001b[0m\u001b[0;34m,\u001b[0m\u001b[0;34m\u001b[0m\u001b[0m\n\u001b[0;32m-> 1430\u001b[0;31m                               initial_epoch=initial_epoch)\n\u001b[0m\u001b[1;32m   1431\u001b[0m \u001b[0;34m\u001b[0m\u001b[0m\n\u001b[1;32m   1432\u001b[0m     \u001b[0;32mdef\u001b[0m \u001b[0mevaluate\u001b[0m\u001b[0;34m(\u001b[0m\u001b[0mself\u001b[0m\u001b[0;34m,\u001b[0m \u001b[0mx\u001b[0m\u001b[0;34m,\u001b[0m \u001b[0my\u001b[0m\u001b[0;34m,\u001b[0m \u001b[0mbatch_size\u001b[0m\u001b[0;34m=\u001b[0m\u001b[0;36m32\u001b[0m\u001b[0;34m,\u001b[0m \u001b[0mverbose\u001b[0m\u001b[0;34m=\u001b[0m\u001b[0;36m1\u001b[0m\u001b[0;34m,\u001b[0m \u001b[0msample_weight\u001b[0m\u001b[0;34m=\u001b[0m\u001b[0;32mNone\u001b[0m\u001b[0;34m)\u001b[0m\u001b[0;34m:\u001b[0m\u001b[0;34m\u001b[0m\u001b[0m\n",
      "\u001b[0;32m/Users/xbno/anaconda/lib/python3.6/site-packages/keras/engine/training.py\u001b[0m in \u001b[0;36m_fit_loop\u001b[0;34m(self, f, ins, out_labels, batch_size, epochs, verbose, callbacks, val_f, val_ins, shuffle, callback_metrics, initial_epoch)\u001b[0m\n\u001b[1;32m   1077\u001b[0m                 \u001b[0mbatch_logs\u001b[0m\u001b[0;34m[\u001b[0m\u001b[0;34m'size'\u001b[0m\u001b[0;34m]\u001b[0m \u001b[0;34m=\u001b[0m \u001b[0mlen\u001b[0m\u001b[0;34m(\u001b[0m\u001b[0mbatch_ids\u001b[0m\u001b[0;34m)\u001b[0m\u001b[0;34m\u001b[0m\u001b[0m\n\u001b[1;32m   1078\u001b[0m                 \u001b[0mcallbacks\u001b[0m\u001b[0;34m.\u001b[0m\u001b[0mon_batch_begin\u001b[0m\u001b[0;34m(\u001b[0m\u001b[0mbatch_index\u001b[0m\u001b[0;34m,\u001b[0m \u001b[0mbatch_logs\u001b[0m\u001b[0;34m)\u001b[0m\u001b[0;34m\u001b[0m\u001b[0m\n\u001b[0;32m-> 1079\u001b[0;31m                 \u001b[0mouts\u001b[0m \u001b[0;34m=\u001b[0m \u001b[0mf\u001b[0m\u001b[0;34m(\u001b[0m\u001b[0mins_batch\u001b[0m\u001b[0;34m)\u001b[0m\u001b[0;34m\u001b[0m\u001b[0m\n\u001b[0m\u001b[1;32m   1080\u001b[0m                 \u001b[0;32mif\u001b[0m \u001b[0;32mnot\u001b[0m \u001b[0misinstance\u001b[0m\u001b[0;34m(\u001b[0m\u001b[0mouts\u001b[0m\u001b[0;34m,\u001b[0m \u001b[0mlist\u001b[0m\u001b[0;34m)\u001b[0m\u001b[0;34m:\u001b[0m\u001b[0;34m\u001b[0m\u001b[0m\n\u001b[1;32m   1081\u001b[0m                     \u001b[0mouts\u001b[0m \u001b[0;34m=\u001b[0m \u001b[0;34m[\u001b[0m\u001b[0mouts\u001b[0m\u001b[0;34m]\u001b[0m\u001b[0;34m\u001b[0m\u001b[0m\n",
      "\u001b[0;32m/Users/xbno/anaconda/lib/python3.6/site-packages/keras/backend/theano_backend.py\u001b[0m in \u001b[0;36m__call__\u001b[0;34m(self, inputs)\u001b[0m\n\u001b[1;32m   1195\u001b[0m     \u001b[0;32mdef\u001b[0m \u001b[0m__call__\u001b[0m\u001b[0;34m(\u001b[0m\u001b[0mself\u001b[0m\u001b[0;34m,\u001b[0m \u001b[0minputs\u001b[0m\u001b[0;34m)\u001b[0m\u001b[0;34m:\u001b[0m\u001b[0;34m\u001b[0m\u001b[0m\n\u001b[1;32m   1196\u001b[0m         \u001b[0;32massert\u001b[0m \u001b[0misinstance\u001b[0m\u001b[0;34m(\u001b[0m\u001b[0minputs\u001b[0m\u001b[0;34m,\u001b[0m \u001b[0;34m(\u001b[0m\u001b[0mlist\u001b[0m\u001b[0;34m,\u001b[0m \u001b[0mtuple\u001b[0m\u001b[0;34m)\u001b[0m\u001b[0;34m)\u001b[0m\u001b[0;34m\u001b[0m\u001b[0m\n\u001b[0;32m-> 1197\u001b[0;31m         \u001b[0;32mreturn\u001b[0m \u001b[0mself\u001b[0m\u001b[0;34m.\u001b[0m\u001b[0mfunction\u001b[0m\u001b[0;34m(\u001b[0m\u001b[0;34m*\u001b[0m\u001b[0minputs\u001b[0m\u001b[0;34m)\u001b[0m\u001b[0;34m\u001b[0m\u001b[0m\n\u001b[0m\u001b[1;32m   1198\u001b[0m \u001b[0;34m\u001b[0m\u001b[0m\n\u001b[1;32m   1199\u001b[0m \u001b[0;34m\u001b[0m\u001b[0m\n",
      "\u001b[0;32m/Users/xbno/anaconda/lib/python3.6/site-packages/theano/compile/function_module.py\u001b[0m in \u001b[0;36m__call__\u001b[0;34m(self, *args, **kwargs)\u001b[0m\n\u001b[1;32m    882\u001b[0m         \u001b[0;32mtry\u001b[0m\u001b[0;34m:\u001b[0m\u001b[0;34m\u001b[0m\u001b[0m\n\u001b[1;32m    883\u001b[0m             \u001b[0moutputs\u001b[0m \u001b[0;34m=\u001b[0m\u001b[0;31m\\\u001b[0m\u001b[0;34m\u001b[0m\u001b[0m\n\u001b[0;32m--> 884\u001b[0;31m                 \u001b[0mself\u001b[0m\u001b[0;34m.\u001b[0m\u001b[0mfn\u001b[0m\u001b[0;34m(\u001b[0m\u001b[0;34m)\u001b[0m \u001b[0;32mif\u001b[0m \u001b[0moutput_subset\u001b[0m \u001b[0;32mis\u001b[0m \u001b[0;32mNone\u001b[0m \u001b[0;32melse\u001b[0m\u001b[0;31m\\\u001b[0m\u001b[0;34m\u001b[0m\u001b[0m\n\u001b[0m\u001b[1;32m    885\u001b[0m                 \u001b[0mself\u001b[0m\u001b[0;34m.\u001b[0m\u001b[0mfn\u001b[0m\u001b[0;34m(\u001b[0m\u001b[0moutput_subset\u001b[0m\u001b[0;34m=\u001b[0m\u001b[0moutput_subset\u001b[0m\u001b[0;34m)\u001b[0m\u001b[0;34m\u001b[0m\u001b[0m\n\u001b[1;32m    886\u001b[0m         \u001b[0;32mexcept\u001b[0m \u001b[0mException\u001b[0m\u001b[0;34m:\u001b[0m\u001b[0;34m\u001b[0m\u001b[0m\n",
      "\u001b[0;32m/Users/xbno/anaconda/lib/python3.6/site-packages/theano/ifelse.py\u001b[0m in \u001b[0;36mthunk\u001b[0;34m()\u001b[0m\n\u001b[1;32m    244\u001b[0m         \u001b[0moutputs\u001b[0m \u001b[0;34m=\u001b[0m \u001b[0mnode\u001b[0m\u001b[0;34m.\u001b[0m\u001b[0moutputs\u001b[0m\u001b[0;34m\u001b[0m\u001b[0m\n\u001b[1;32m    245\u001b[0m \u001b[0;34m\u001b[0m\u001b[0m\n\u001b[0;32m--> 246\u001b[0;31m         \u001b[0;32mdef\u001b[0m \u001b[0mthunk\u001b[0m\u001b[0;34m(\u001b[0m\u001b[0;34m)\u001b[0m\u001b[0;34m:\u001b[0m\u001b[0;34m\u001b[0m\u001b[0m\n\u001b[0m\u001b[1;32m    247\u001b[0m             \u001b[0;32mif\u001b[0m \u001b[0;32mnot\u001b[0m \u001b[0mcompute_map\u001b[0m\u001b[0;34m[\u001b[0m\u001b[0mcond\u001b[0m\u001b[0;34m]\u001b[0m\u001b[0;34m[\u001b[0m\u001b[0;36m0\u001b[0m\u001b[0;34m]\u001b[0m\u001b[0;34m:\u001b[0m\u001b[0;34m\u001b[0m\u001b[0m\n\u001b[1;32m    248\u001b[0m                 \u001b[0;32mreturn\u001b[0m \u001b[0;34m[\u001b[0m\u001b[0;36m0\u001b[0m\u001b[0;34m]\u001b[0m\u001b[0;34m\u001b[0m\u001b[0m\n",
      "\u001b[0;31mKeyboardInterrupt\u001b[0m: "
     ]
    }
   ],
   "source": [
    "model.fit(x_train,y_train,batch_size=128,epochs=1)"
   ]
  },
  {
   "cell_type": "code",
   "execution_count": 813,
   "metadata": {},
   "outputs": [
    {
     "name": "stdout",
     "output_type": "stream",
     "text": [
      "Train on 60000 samples, validate on 10000 samples\n",
      "Epoch 1/1\n",
      "60000/60000 [==============================] - 81s - loss: 0.0439 - acc: 0.9865 - val_loss: 0.0381 - val_acc: 0.9867\n"
     ]
    },
    {
     "data": {
      "text/plain": [
       "<keras.callbacks.History at 0x24d5d66a0>"
      ]
     },
     "execution_count": 813,
     "metadata": {},
     "output_type": "execute_result"
    }
   ],
   "source": [
    "model.optimizer.lr = .1\n",
    "model.fit(x_train,y_train,batch_size=128,epochs=1,validation_data=[x_test,y_test])"
   ]
  },
  {
   "cell_type": "code",
   "execution_count": 814,
   "metadata": {},
   "outputs": [
    {
     "name": "stdout",
     "output_type": "stream",
     "text": [
      "Train on 60000 samples, validate on 10000 samples\n",
      "Epoch 1/1\n",
      "60000/60000 [==============================] - 82s - loss: 0.0291 - acc: 0.9915 - val_loss: 0.0289 - val_acc: 0.9909\n"
     ]
    },
    {
     "data": {
      "text/plain": [
       "<keras.callbacks.History at 0x24d5d6550>"
      ]
     },
     "execution_count": 814,
     "metadata": {},
     "output_type": "execute_result"
    }
   ],
   "source": [
    "model.optimizer.lr = .01\n",
    "model.fit(x_train,y_train,batch_size=128,epochs=1,validation_data=[x_test,y_test])"
   ]
  },
  {
   "cell_type": "code",
   "execution_count": 815,
   "metadata": {},
   "outputs": [
    {
     "name": "stdout",
     "output_type": "stream",
     "text": [
      "Train on 60000 samples, validate on 10000 samples\n",
      "Epoch 1/3\n",
      "60000/60000 [==============================] - 85s - loss: 0.0223 - acc: 0.9928 - val_loss: 0.0257 - val_acc: 0.9923\n",
      "Epoch 2/3\n",
      "60000/60000 [==============================] - 83s - loss: 0.0187 - acc: 0.9943 - val_loss: 0.0231 - val_acc: 0.9929\n",
      "Epoch 3/3\n",
      "60000/60000 [==============================] - 83s - loss: 0.0146 - acc: 0.9954 - val_loss: 0.0258 - val_acc: 0.9919\n"
     ]
    },
    {
     "data": {
      "text/plain": [
       "<keras.callbacks.History at 0x2369a58d0>"
      ]
     },
     "execution_count": 815,
     "metadata": {},
     "output_type": "execute_result"
    }
   ],
   "source": [
    "model.optimizer.lr = .001\n",
    "model.fit(x_train,y_train,batch_size=128,epochs=3,validation_data=[x_test,y_test])"
   ]
  },
  {
   "cell_type": "code",
   "execution_count": 834,
   "metadata": {
    "collapsed": true
   },
   "outputs": [],
   "source": [
    "num_epochs = {'lrs':[0.0001,0.00001],\n",
    "              'epochs':[1,1]}"
   ]
  },
  {
   "cell_type": "code",
   "execution_count": 835,
   "metadata": {
    "collapsed": true
   },
   "outputs": [],
   "source": [
    "def train_rounds(model,num_epochs):\n",
    "    model.compile(Adam(), \n",
    "                  loss='categorical_crossentropy', \n",
    "                  metrics=['accuracy'])\n",
    "    \n",
    "    lrs = num_epochs['lrs']\n",
    "    epochs = num_epochs['epochs']\n",
    "    zipped = zip(lrs,epochs)\n",
    "    \n",
    "    for lr, epoch in zipped:\n",
    "        print('\\nperforming {} epoch(s) at {} learning rate\\n'.format(epoch,lr))\n",
    "        \n",
    "        model.optimizer.lr = lr\n",
    "\n",
    "        model.fit(x_train,\n",
    "                  y_train,\n",
    "                  batch_size=128,\n",
    "                  epochs=epoch,\n",
    "                  validation_data=[x_test,y_test])\n",
    "    return model"
   ]
  },
  {
   "cell_type": "code",
   "execution_count": 836,
   "metadata": {},
   "outputs": [
    {
     "name": "stdout",
     "output_type": "stream",
     "text": [
      "\n",
      "performing 1 epoch(s) at 0.0001 learning rate\n",
      "\n"
     ]
    },
    {
     "name": "stderr",
     "output_type": "stream",
     "text": [
      "INFO (theano.gof.compilelock): Refreshing lock /Users/xbno/.theano/compiledir_Darwin-16.7.0-x86_64-i386-64bit-i386-3.6.1-64/lock_dir/lock\n"
     ]
    },
    {
     "name": "stdout",
     "output_type": "stream",
     "text": [
      "Train on 60000 samples, validate on 10000 samples\n",
      "Epoch 1/1\n",
      "60000/60000 [==============================] - 77s - loss: 0.0037 - acc: 0.9988 - val_loss: 0.0189 - val_acc: 0.9943\n",
      "\n",
      "performing 1 epoch(s) at 1e-05 learning rate\n",
      "\n",
      "Train on 60000 samples, validate on 10000 samples\n",
      "Epoch 1/1\n",
      "60000/60000 [==============================] - 77s - loss: 0.0014 - acc: 0.9998 - val_loss: 0.0213 - val_acc: 0.9945\n"
     ]
    }
   ],
   "source": [
    "model = train_rounds(model,num_epochs)"
   ]
  },
  {
   "cell_type": "markdown",
   "metadata": {},
   "source": [
    "## Data Augmentation\n",
    "\n",
    "Rule of thumb:\n",
    "    \n",
    "    data augmentation never hurts in image processing and is the first step to take when reducing overfitting in a convnet\n",
    "    \n",
    "Confirm the augmented data is a reasonable representation of the input data. \n",
    "    \n",
    "    what are the best values to start the hyperparameters at?\n",
    "        I played around with the values and eyeballed the data being produced and came to the conclusion that .15 is far to high. .1 seems better. and .07 seems better still. This is judged on the ability for the network to learn back to the level of the previous accuracy without data augmentation\n",
    "    "
   ]
  },
  {
   "cell_type": "code",
   "execution_count": 838,
   "metadata": {
    "collapsed": true
   },
   "outputs": [],
   "source": [
    "from keras.preprocessing import image"
   ]
  },
  {
   "cell_type": "code",
   "execution_count": 866,
   "metadata": {
    "collapsed": true
   },
   "outputs": [],
   "source": [
    "# only train needs to be augmented, the validation set does not\n",
    "batch_size = 128\n",
    "\n",
    "data_aug = image.ImageDataGenerator(rotation_range=10,\n",
    "                                    width_shift_range=.07,\n",
    "                                    shear_range=.3,\n",
    "                                    height_shift_range=.07,\n",
    "                                    zoom_range=.07)\n",
    "data_gen = image.ImageDataGenerator()\n",
    "\n",
    "batches = data_aug.flow(x_train,y_train,batch_size=batch_size)\n",
    "test_batches = data_gen.flow(x_test,y_test,batch_size=batch_size*2)"
   ]
  },
  {
   "cell_type": "code",
   "execution_count": 846,
   "metadata": {},
   "outputs": [
    {
     "data": {
      "text/plain": [
       "(2, 28, 28, 1)"
      ]
     },
     "execution_count": 846,
     "metadata": {},
     "output_type": "execute_result"
    }
   ],
   "source": [
    "batches_prev = data_aug.flow(x_train,y_train,batch_size=2)\n",
    "imgs = next(batches_prev)\n",
    "imgs[0].shape"
   ]
  },
  {
   "cell_type": "code",
   "execution_count": 847,
   "metadata": {},
   "outputs": [
    {
     "data": {
      "image/png": "[encoded data removed]",
      "text/plain": [
       "<matplotlib.figure.Figure at 0x23ad7b4a8>"
      ]
     },
     "metadata": {},
     "output_type": "display_data"
    },
    {
     "data": {
      "image/png": "[encoded data removed]",
      "text/plain": [
       "<matplotlib.figure.Figure at 0x24ffa9c18>"
      ]
     },
     "metadata": {},
     "output_type": "display_data"
    },
    {
     "data": {
      "text/plain": [
       "<matplotlib.figure.Figure at 0x248ad8ac8>"
      ]
     },
     "metadata": {},
     "output_type": "display_data"
    }
   ],
   "source": [
    "for i in range(len(imgs[0])):\n",
    "    plt.imshow(imgs[0][i].reshape(28,28),cmap='binary')\n",
    "    plt.figure()"
   ]
  },
  {
   "cell_type": "code",
   "execution_count": 858,
   "metadata": {},
   "outputs": [
    {
     "name": "stderr",
     "output_type": "stream",
     "text": [
      "/Users/xbno/anaconda/lib/python3.6/site-packages/keras/layers/core.py:629: UserWarning: `output_shape` argument not specified for layer lambda_23 and cannot be automatically inferred with the Theano backend. Defaulting to output shape `(None, 28, 28, 1)` (same as input shape). If the expected output shape is different, specify it via the `output_shape` argument.\n",
      "  .format(self.name, input_shape))\n"
     ]
    }
   ],
   "source": [
    "model = Sequential()\n",
    "model.add(Lambda(norm, input_shape=(28,28,1)))\n",
    "model.add(Conv2D(16,(3,3),activation='elu'))\n",
    "model.add(Conv2D(16,(3,3),activation='elu'))\n",
    "model.add(MaxPooling2D())\n",
    "model.add(Conv2D(32,(3,3),activation='elu'))\n",
    "model.add(Conv2D(32,(3,3),activation='elu'))\n",
    "model.add(MaxPooling2D())\n",
    "model.add(Flatten())\n",
    "model.add(Dense(512, activation='elu'))\n",
    "model.add(Dense(10, activation='softmax'))"
   ]
  },
  {
   "cell_type": "code",
   "execution_count": null,
   "metadata": {
    "collapsed": true
   },
   "outputs": [],
   "source": [
    "def train_rounds_gen(model,num_epochs):\n",
    "    '''\n",
    "    Trains a model with global variables batches and test_batches as generator input.\n",
    "    \n",
    "    \n",
    "    '''\n",
    "    model.compile(Adam(), \n",
    "                  loss='categorical_crossentropy', \n",
    "                  metrics=['accuracy'])\n",
    "    \n",
    "    lrs = num_epochs['lrs']\n",
    "    epochs = num_epochs['epochs']\n",
    "    zipped = zip(lrs,epochs)\n",
    "    \n",
    "    for lr, epoch in zipped:\n",
    "        print('\\nperforming {} epoch(s) at {} learning rate\\n'.format(epoch,lr))\n",
    "        \n",
    "        model.optimizer.lr = lr\n",
    "\n",
    "        model.fit_generator(batches,\n",
    "                            batches.n//batches.batch_size,\n",
    "                            epochs=epoch,\n",
    "                            validation_data=test_batches,\n",
    "                            validation_steps=test_batches.n//test_batches.batch_size)\n",
    "    return model"
   ]
  },
  {
   "cell_type": "code",
   "execution_count": 864,
   "metadata": {
    "collapsed": true
   },
   "outputs": [],
   "source": [
    "num_epochs = {'lrs':[0.001,.1,0.001],\n",
    "              'epochs':[1,1,1]}"
   ]
  },
  {
   "cell_type": "code",
   "execution_count": 865,
   "metadata": {
    "scrolled": true
   },
   "outputs": [
    {
     "name": "stdout",
     "output_type": "stream",
     "text": [
      "\n",
      "performing 1 epoch(s) at 0.001 learning rate\n",
      "\n",
      "Epoch 1/1\n",
      "937/937 [==============================] - 113s - loss: 0.0840 - acc: 0.9750 - val_loss: 0.0273 - val_acc: 0.9910\n",
      "\n",
      "performing 1 epoch(s) at 0.1 learning rate\n",
      "\n",
      "Epoch 1/1\n",
      "937/937 [==============================] - 114s - loss: 0.0670 - acc: 0.9800 - val_loss: 0.0241 - val_acc: 0.9915\n",
      "\n",
      "performing 1 epoch(s) at 0.001 learning rate\n",
      "\n",
      "Epoch 1/1\n",
      "937/937 [==============================] - 114s - loss: 0.0642 - acc: 0.9811 - val_loss: 0.0294 - val_acc: 0.9914\n"
     ]
    }
   ],
   "source": [
    "model = train_rounds_gen(model,num_epochs)"
   ]
  },
  {
   "cell_type": "markdown",
   "metadata": {},
   "source": [
    "## Try leaky vs relu activation"
   ]
  },
  {
   "cell_type": "code",
   "execution_count": 783,
   "metadata": {
    "collapsed": true
   },
   "outputs": [],
   "source": [
    "leakyrelu = keras.layers.advanced_activations.LeakyReLU(alpha=0.3)"
   ]
  },
  {
   "cell_type": "code",
   "execution_count": 784,
   "metadata": {},
   "outputs": [
    {
     "name": "stderr",
     "output_type": "stream",
     "text": [
      "/Users/xbno/anaconda/lib/python3.6/site-packages/keras/layers/core.py:629: UserWarning: `output_shape` argument not specified for layer lambda_17 and cannot be automatically inferred with the Theano backend. Defaulting to output shape `(None, 28, 28, 1)` (same as input shape). If the expected output shape is different, specify it via the `output_shape` argument.\n",
      "  .format(self.name, input_shape))\n",
      "/Users/xbno/anaconda/lib/python3.6/site-packages/keras/activations.py:103: UserWarning: Do not pass a layer instance (such as LeakyReLU) as the activation argument of another layer. Instead, advanced activation layers should be used just like any other layer in a model.\n",
      "  ).format(identifier=identifier.__class__.__name__))\n"
     ]
    }
   ],
   "source": [
    "model = Sequential()\n",
    "model.add(Lambda(norm, input_shape=(28,28,1)))\n",
    "model.add(Conv2D(16,(3,3),activation='linear'))\n",
    "model.add(Activation(leakyrelu))\n",
    "model.add(Conv2D(16,(3,3),activation='linear'))\n",
    "model.add(Activation(leakyrelu))\n",
    "model.add(MaxPooling2D())\n",
    "model.add(Conv2D(32,(3,3),activation='linear'))\n",
    "model.add(Activation(leakyrelu))\n",
    "model.add(Conv2D(32,(3,3),activation='linear'))\n",
    "model.add(Activation(leakyrelu))\n",
    "model.add(MaxPooling2D())\n",
    "model.add(Flatten())\n",
    "model.add(Dense(512, activation='linear'))\n",
    "model.add(Activation(leakyrelu))\n",
    "model.add(Dense(10, activation='softmax'))"
   ]
  },
  {
   "cell_type": "markdown",
   "metadata": {},
   "source": [
    "## Add Batchnorm"
   ]
  },
  {
   "cell_type": "code",
   "execution_count": 868,
   "metadata": {},
   "outputs": [
    {
     "name": "stderr",
     "output_type": "stream",
     "text": [
      "/Users/xbno/anaconda/lib/python3.6/site-packages/keras/layers/core.py:629: UserWarning: `output_shape` argument not specified for layer lambda_24 and cannot be automatically inferred with the Theano backend. Defaulting to output shape `(None, 28, 28, 1)` (same as input shape). If the expected output shape is different, specify it via the `output_shape` argument.\n",
      "  .format(self.name, input_shape))\n"
     ]
    }
   ],
   "source": [
    "model = Sequential()\n",
    "model.add(Lambda(norm, input_shape=(28,28,1)))\n",
    "model.add(Conv2D(16,(3,3),activation='elu'))\n",
    "model.add(BatchNormalization(axis=1))\n",
    "model.add(Conv2D(16,(3,3),activation='elu'))\n",
    "model.add(MaxPooling2D())\n",
    "model.add(BatchNormalization(axis=1))\n",
    "model.add(Conv2D(32,(3,3),activation='elu'))\n",
    "model.add(BatchNormalization(axis=1))\n",
    "model.add(Conv2D(32,(3,3),activation='elu'))\n",
    "model.add(MaxPooling2D())\n",
    "model.add(Flatten())\n",
    "model.add(BatchNormalization())\n",
    "model.add(Dense(512, activation='elu'))\n",
    "model.add(BatchNormalization())\n",
    "model.add(Dropout(.5))\n",
    "model.add(Dense(10, activation='softmax'))"
   ]
  },
  {
   "cell_type": "code",
   "execution_count": 869,
   "metadata": {
    "collapsed": true
   },
   "outputs": [],
   "source": [
    "# num_epochs = {'lrs':[0.001,.1,0.001,.0001],\n",
    "#               'epochs':[1,1,2,3]}\n",
    "\n",
    "num_epochs = {'lrs':[0.001,.1,0.001],\n",
    "              'epochs':[1,1,1]}"
   ]
  },
  {
   "cell_type": "code",
   "execution_count": 870,
   "metadata": {},
   "outputs": [
    {
     "name": "stdout",
     "output_type": "stream",
     "text": [
      "\n",
      "performing 1 epoch(s) at 0.001 learning rate\n",
      "\n",
      "Epoch 1/1\n",
      "468/468 [==============================] - 198s - loss: 0.3232 - acc: 0.9042 - val_loss: 0.0516 - val_acc: 0.9833\n",
      "\n",
      "performing 1 epoch(s) at 0.1 learning rate\n",
      "\n",
      "Epoch 1/1\n",
      "468/468 [==============================] - 201s - loss: 0.1214 - acc: 0.9616 - val_loss: 0.0301 - val_acc: 0.9898\n",
      "\n",
      "performing 1 epoch(s) at 0.001 learning rate\n",
      "\n",
      "Epoch 1/1\n",
      "468/468 [==============================] - 200s - loss: 0.0886 - acc: 0.9720 - val_loss: 0.0306 - val_acc: 0.9900\n"
     ]
    },
    {
     "data": {
      "text/plain": [
       "<keras.models.Sequential at 0x24af2f860>"
      ]
     },
     "execution_count": 870,
     "metadata": {},
     "output_type": "execute_result"
    }
   ],
   "source": [
    "train_rounds_gen(model,num_epochs)"
   ]
  },
  {
   "cell_type": "markdown",
   "metadata": {},
   "source": [
    "# Ensemble"
   ]
  },
  {
   "cell_type": "markdown",
   "metadata": {},
   "source": [
    "If I made an ensemble the same level as Jeremy:"
   ]
  },
  {
   "cell_type": "code",
   "execution_count": 881,
   "metadata": {},
   "outputs": [
    {
     "name": "stdout",
     "output_type": "stream",
     "text": [
      "it would take ~49 minutes to run\n"
     ]
    }
   ],
   "source": [
    "epoch_time = 14 #200 - my computer time\n",
    "num_of_epochs = 35\n",
    "ensemble_of_models = 6\n",
    "\n",
    "elapsed_time = epoch_time*num_of_epochs*ensemble_of_models\n",
    "\n",
    "print('it would take ~{} minutes to run'.format(elapsed_time//60))"
   ]
  },
  {
   "cell_type": "code",
   "execution_count": null,
   "metadata": {
    "collapsed": true
   },
   "outputs": [],
   "source": []
  }
 ],
 "metadata": {
  "kernelspec": {
   "display_name": "Python 3",
   "language": "python",
   "name": "python3"
  },
  "language_info": {
   "codemirror_mode": {
    "name": "ipython",
    "version": 3
   },
   "file_extension": ".py",
   "mimetype": "text/x-python",
   "name": "python",
   "nbconvert_exporter": "python",
   "pygments_lexer": "ipython3",
   "version": "3.6.1"
  }
 },
 "nbformat": 4,
 "nbformat_minor": 2
}
